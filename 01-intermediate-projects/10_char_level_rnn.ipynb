{
 "cells": [
  {
   "cell_type": "markdown",
   "metadata": {},
   "source": [
    "# Character-level RNNs in PyTorch\n",
    "\n",
    "The `10_char_level_rnn` notebook explores the use of recurrent neural networks (RNNs) for character-level text generation. Character-level models process text one character at a time, making them capable of generating text sequences in a variety of tasks, such as text prediction and creative writing. \n",
    "\n",
    "This notebook covers preparing the dataset, processing and encoding text, building and training a character-level RNN model, and generating new text using the trained model. It also examines evaluating model performance and adjusting hyperparameters for optimization."
   ]
  },
  {
   "cell_type": "markdown",
   "metadata": {},
   "source": [
    "## Table of contents\n",
    "\n",
    "1. [Understanding character-level RNNs](#understanding-character-level-rnns)\n",
    "2. [Setting up the environment](#setting-up-the-environment)\n",
    "3. [Preparing the dataset](#preparing-the-dataset)\n",
    "4. [Text processing and encoding](#text-processing-and-encoding)\n",
    "5. [Building the character-level RNN model](#building-the-character-level-rnn-model)\n",
    "6. [Training the RNN model](#training-the-rnn-model)\n",
    "7. [Generating text with the trained model](#generating-text-with-the-trained-model)\n",
    "8. [Evaluating model performance](#evaluating-model-performance)\n",
    "9. [Hyperparameter adjustments](#hyperparameter-adjustments)"
   ]
  },
  {
   "cell_type": "markdown",
   "metadata": {},
   "source": [
    "## Understanding character-level RNNs\n",
    "\n",
    "Character-level RNNs are a specialized form of recurrent neural networks designed to model and generate sequences at the character level, rather than at the word or sentence level. These networks process input text as a sequence of individual characters, making them suitable for tasks like text generation, language modeling, and character-based text classification."
   ]
  },
  {
   "cell_type": "markdown",
   "metadata": {},
   "source": [
    "### **Why character-level RNNs?**\n",
    "\n",
    "While word-level RNNs treat words as atomic units, character-level RNNs break down text into its smallest meaningful components—characters. This granularity allows character-level models to capture finer details of a language, such as letter combinations, grammar rules, and even misspellings. It also enables them to handle vocabulary that is dynamic or composed of unique symbols (e.g., programming code or domain-specific text) without the need for a predefined vocabulary.\n",
    "\n",
    "Character-level RNNs have advantages in several areas:\n",
    "- They can work without a predefined vocabulary, making them useful for tasks involving uncommon words or symbols.\n",
    "- They are capable of generating completely new words or combinations of characters, which is particularly beneficial in creative tasks like poetry or code generation.\n",
    "- They naturally handle spelling variations and errors, as they model text at the character level rather than relying on known word structures.\n",
    "\n",
    "### **Key concepts of character-level RNNs**\n",
    "\n",
    "#### **Character embeddings**\n",
    "\n",
    "In character-level RNNs, each character is represented as a vector, often using an embedding. Embeddings map each character in the vocabulary to a dense vector of fixed size, capturing the relationships between characters in the dataset. Unlike word embeddings, which map each word to a vector, character embeddings allow the RNN to represent and learn patterns from individual letters and symbols.\n",
    "\n",
    "Let’s denote the vocabulary of characters as $ C $, which includes letters, digits, punctuation marks, and special tokens (e.g., spaces). The character embedding layer transforms each character $ c_t $ at time step $ t $ into an embedding vector $ e_t $:\n",
    "\n",
    "$$\n",
    "e_t = \\text{Embedding}(c_t)\n",
    "$$\n",
    "\n",
    "The embedding vectors are then fed into the recurrent layers of the RNN.\n",
    "\n",
    "#### **Recurrent structure for character sequences**\n",
    "\n",
    "Like other RNNs, a character-level RNN processes input sequentially, character by character. At each time step $ t $, the model takes the character embedding $ e_t $ as input, updates its hidden state $ h_t $, and predicts the next character in the sequence.\n",
    "\n",
    "The hidden state $ h_t $ is computed using the standard RNN recurrence relation:\n",
    "\n",
    "$$\n",
    "h_t = f(W_{hh} h_{t-1} + W_{xh} e_t + b_h)\n",
    "$$\n",
    "\n",
    "where:\n",
    "- $ h_t $ is the hidden state at time step $ t $,\n",
    "- $ W_{hh} $ is the weight matrix for the hidden state,\n",
    "- $ W_{xh} $ is the weight matrix for the character embedding,\n",
    "- $ b_h $ is the bias term for the hidden state,\n",
    "- $ f $ is an activation function, typically **tanh** or **ReLU**.\n",
    "\n",
    "The output of the network at each time step, $ o_t $, is a probability distribution over the possible characters in the vocabulary, typically obtained using a softmax function:\n",
    "\n",
    "$$\n",
    "o_t = \\text{softmax}(W_{ho} h_t + b_o)\n",
    "$$\n",
    "\n",
    "where $ W_{ho} $ is the output weight matrix, and $ b_o $ is the output bias. The network predicts the next character by sampling from this probability distribution.\n",
    "\n",
    "#### **Character prediction and sequence generation**\n",
    "\n",
    "Character-level RNNs are often used for sequence generation, where the model predicts the next character in a sequence based on the characters seen so far. After each prediction, the predicted character is fed back into the network as the input for the next time step. This process allows the network to generate text one character at a time.\n",
    "\n",
    "Given an initial input character or sequence, the network continues generating characters until a stopping condition is met (e.g., a specified sequence length or an end-of-sequence token).\n",
    "\n",
    "#### **Long-range dependencies and challenges**\n",
    "\n",
    "Character-level RNNs need to capture dependencies not only between adjacent characters but also across longer spans of text. For example, in English, the letter \"u\" is often followed by \"r\" in certain contexts, but the word structure and meaning often depend on characters several steps apart.\n",
    "\n",
    "Standard RNNs struggle with such long-range dependencies due to the vanishing gradient problem. To address this, advanced RNN architectures like **Long Short-Term Memory (LSTM)** and **Gated Recurrent Unit (GRU)** are commonly used in character-level RNNs. These architectures are better at maintaining and updating information over longer sequences, allowing the model to learn dependencies across distant characters in a sequence.\n",
    "\n",
    "### **Applications of character-level RNNs**\n",
    "\n",
    "Character-level RNNs have a range of applications, particularly in tasks where character-level modeling is advantageous over word-level approaches. Some common applications include:\n",
    "\n",
    "- **Text generation**: Character-level RNNs are often used to generate creative text, such as stories, poetry, or song lyrics. The model generates text one character at a time, producing novel combinations of characters that form coherent sentences or phrases.\n",
    "- **Language modeling**: Character-level RNNs can model the probability distribution of characters in a language, learning patterns such as letter combinations and syntax. This is useful for tasks like spelling correction or text completion.\n",
    "- **Text classification**: In classification tasks, character-level RNNs can be used to classify sequences of characters, such as identifying the language of a text or detecting spam messages based on the character patterns in a message.\n",
    "- **Code generation and modeling**: Character-level RNNs are particularly useful in domains like programming, where sequences of characters (such as code or mathematical symbols) are critical. These models can be used to predict the next character in a piece of code or generate new code snippets.\n",
    "\n",
    "### **Advantages of character-level RNNs**\n",
    "\n",
    "Character-level RNNs offer several advantages over word-level models:\n",
    "\n",
    "- **No predefined vocabulary**: Since character-level RNNs operate at the character level, there is no need for a fixed vocabulary of words. This makes them flexible and applicable to tasks where new or rare words are common.\n",
    "- **Handling rare and out-of-vocabulary words**: By focusing on characters rather than words, these models can generate or interpret novel words and sequences that are not present in the training data.\n",
    "- **Finer granularity**: Character-level models capture detailed patterns in the structure of a language, including spelling, punctuation, and formatting.\n",
    "\n",
    "### **Limitations of character-level RNNs**\n",
    "\n",
    "Despite their advantages, character-level RNNs also have some limitations:\n",
    "\n",
    "- **Longer training times**: Character-level models require longer sequences to learn meaningful patterns since each word is represented by multiple characters. This increases the computational cost of training.\n",
    "- **Difficulty with long-range dependencies**: While LSTMs and GRUs can help alleviate the vanishing gradient problem, it is still challenging for character-level RNNs to capture very long-range dependencies in sequences."
   ]
  },
  {
   "cell_type": "markdown",
   "metadata": {},
   "source": [
    "## Setting up the environment"
   ]
  },
  {
   "cell_type": "markdown",
   "metadata": {},
   "source": [
    "##### **Q1: How do you install the necessary libraries for building and training character-level RNNs in PyTorch?**\n"
   ]
  },
  {
   "cell_type": "code",
   "execution_count": 1,
   "metadata": {},
   "outputs": [],
   "source": [
    "# !pip install torch torchvision numpy matplotlib"
   ]
  },
  {
   "cell_type": "markdown",
   "metadata": {},
   "source": [
    "##### **Q2: How do you import the required modules for text processing, model building, and training in PyTorch?**\n"
   ]
  },
  {
   "cell_type": "code",
   "execution_count": 2,
   "metadata": {},
   "outputs": [],
   "source": [
    "import torch\n",
    "import torch.nn as nn\n",
    "import numpy as np\n",
    "import matplotlib.pyplot as plt"
   ]
  },
  {
   "cell_type": "markdown",
   "metadata": {},
   "source": [
    "##### **Q3: How do you set up your environment to use a GPU if available, or fallback to a CPU in PyTorch?**\n"
   ]
  },
  {
   "cell_type": "code",
   "execution_count": 3,
   "metadata": {},
   "outputs": [
    {
     "name": "stdout",
     "output_type": "stream",
     "text": [
      "Using device: cuda\n"
     ]
    }
   ],
   "source": [
    "device = torch.device(\"cuda\" if torch.cuda.is_available() else \"cpu\")\n",
    "print(f\"Using device: {device}\")"
   ]
  },
  {
   "cell_type": "markdown",
   "metadata": {},
   "source": [
    "##### **Q4: How do you set a random seed in PyTorch to ensure reproducibility of results?**"
   ]
  },
  {
   "cell_type": "code",
   "execution_count": 4,
   "metadata": {},
   "outputs": [],
   "source": [
    "torch.manual_seed(42)\n",
    "np.random.seed(42)\n",
    "if torch.cuda.is_available():\n",
    "    torch.cuda.manual_seed(42)"
   ]
  },
  {
   "cell_type": "markdown",
   "metadata": {},
   "source": [
    "## Preparing the dataset"
   ]
  },
  {
   "cell_type": "markdown",
   "metadata": {},
   "source": [
    "##### **Q5: How do you load a text dataset from a file in Python for use in a character-level RNN?**\n"
   ]
  },
  {
   "cell_type": "code",
   "execution_count": 5,
   "metadata": {},
   "outputs": [
    {
     "name": "stdout",
     "output_type": "stream",
     "text": [
      "Loaded 581425 characters from the dataset.\n"
     ]
    }
   ],
   "source": [
    "import urllib.request\n",
    "\n",
    "# Downloading 'The Adventures of Sherlock Holmes':\n",
    "url = \"https://www.gutenberg.org/files/1661/1661-0.txt\"  \n",
    "filename = \"sherlock_holmes.txt\"\n",
    "urllib.request.urlretrieve(url, filename)\n",
    "\n",
    "with open(filename, 'r', encoding='utf-8') as f:\n",
    "    text = f.read()\n",
    "\n",
    "print(f\"Loaded {len(text)} characters from the dataset.\")"
   ]
  },
  {
   "cell_type": "markdown",
   "metadata": {},
   "source": [
    "##### **Q6: How do you inspect the contents and length of the loaded text dataset?**\n"
   ]
  },
  {
   "cell_type": "code",
   "execution_count": 7,
   "metadata": {},
   "outputs": [
    {
     "name": "stdout",
     "output_type": "stream",
     "text": [
      "Sample of dataset: ﻿The Project Gutenberg eBook of The Adventures of Sherlock Holmes,\n",
      "by Arthur Conan Doyle\n",
      "\n",
      "This eBook is for the use of anyone anywhere in the United States and\n",
      "most other parts of the world at no cost and with almost no restrictions\n",
      "whatsoever. You may copy it, give it away or re-use it under the terms\n",
      "of the Project Gutenberg License included with this eBook or online at\n",
      "www.gutenberg.org. If you are not located in the United States, you\n",
      "will have to check the laws of the country where you are \n",
      "\n",
      "Length of the dataset: 581425 characters\n"
     ]
    }
   ],
   "source": [
    "print(f\"Sample of dataset: {text[:500]}\\n\")\n",
    "print(f\"Length of the dataset: {len(text)} characters\")"
   ]
  },
  {
   "cell_type": "markdown",
   "metadata": {},
   "source": [
    "##### **Q7: How do you split the loaded text dataset into training and validation sets?**"
   ]
  },
  {
   "cell_type": "code",
   "execution_count": 8,
   "metadata": {},
   "outputs": [
    {
     "name": "stdout",
     "output_type": "stream",
     "text": [
      "Training set length: 523282\n",
      "Validation set length: 58143\n"
     ]
    }
   ],
   "source": [
    "split_ratio = 0.9\n",
    "split_index = int(len(text) * split_ratio)\n",
    "train_text = text[:split_index]\n",
    "val_text = text[split_index:]\n",
    "\n",
    "print(f\"Training set length: {len(train_text)}\")\n",
    "print(f\"Validation set length: {len(val_text)}\")"
   ]
  },
  {
   "cell_type": "markdown",
   "metadata": {},
   "source": [
    "## Text processing and encoding"
   ]
  },
  {
   "cell_type": "markdown",
   "metadata": {},
   "source": [
    "##### **Q8: How do you create a character-to-index mapping for the text dataset in PyTorch?**\n"
   ]
  },
  {
   "cell_type": "code",
   "execution_count": 10,
   "metadata": {},
   "outputs": [
    {
     "name": "stdout",
     "output_type": "stream",
     "text": [
      "Unique characters: ['\\n', ' ', '!', '#', '$', '%', '&', '(', ')', '*', ',', '-', '.', '/', '0', '1', '2', '3', '4', '5', '6', '7', '8', '9', ':', ';', '?', 'A', 'B', 'C', 'D', 'E', 'F', 'G', 'H', 'I', 'J', 'K', 'L', 'M', 'N', 'O', 'P', 'Q', 'R', 'S', 'T', 'U', 'V', 'W', 'X', 'Y', 'Z', '[', ']', '_', 'a', 'b', 'c', 'd', 'e', 'f', 'g', 'h', 'i', 'j', 'k', 'l', 'm', 'n', 'o', 'p', 'q', 'r', 's', 't', 'u', 'v', 'w', 'x', 'y', 'z', '£', '½', 'à', 'â', 'æ', 'è', 'é', 'œ', '—', '‘', '’', '“', '”', '•', '™', '\\ufeff']\n",
      "\n",
      "Character to index mapping: {'\\n': 0, ' ': 1, '!': 2, '#': 3, '$': 4, '%': 5, '&': 6, '(': 7, ')': 8, '*': 9, ',': 10, '-': 11, '.': 12, '/': 13, '0': 14, '1': 15, '2': 16, '3': 17, '4': 18, '5': 19, '6': 20, '7': 21, '8': 22, '9': 23, ':': 24, ';': 25, '?': 26, 'A': 27, 'B': 28, 'C': 29, 'D': 30, 'E': 31, 'F': 32, 'G': 33, 'H': 34, 'I': 35, 'J': 36, 'K': 37, 'L': 38, 'M': 39, 'N': 40, 'O': 41, 'P': 42, 'Q': 43, 'R': 44, 'S': 45, 'T': 46, 'U': 47, 'V': 48, 'W': 49, 'X': 50, 'Y': 51, 'Z': 52, '[': 53, ']': 54, '_': 55, 'a': 56, 'b': 57, 'c': 58, 'd': 59, 'e': 60, 'f': 61, 'g': 62, 'h': 63, 'i': 64, 'j': 65, 'k': 66, 'l': 67, 'm': 68, 'n': 69, 'o': 70, 'p': 71, 'q': 72, 'r': 73, 's': 74, 't': 75, 'u': 76, 'v': 77, 'w': 78, 'x': 79, 'y': 80, 'z': 81, '£': 82, '½': 83, 'à': 84, 'â': 85, 'æ': 86, 'è': 87, 'é': 88, 'œ': 89, '—': 90, '‘': 91, '’': 92, '“': 93, '”': 94, '•': 95, '™': 96, '\\ufeff': 97}\n"
     ]
    }
   ],
   "source": [
    "chars = sorted(list(set(text)))\n",
    "char_to_idx = {ch: idx for idx, ch in enumerate(chars)}\n",
    "\n",
    "print(f\"Unique characters: {chars}\\n\")\n",
    "print(f\"Character to index mapping: {char_to_idx}\")"
   ]
  },
  {
   "cell_type": "markdown",
   "metadata": {},
   "source": [
    "##### **Q9: How do you create an index-to-character mapping for decoding model outputs in PyTorch?**\n"
   ]
  },
  {
   "cell_type": "code",
   "execution_count": 11,
   "metadata": {},
   "outputs": [
    {
     "name": "stdout",
     "output_type": "stream",
     "text": [
      "Index to character mapping: {0: '\\n', 1: ' ', 2: '!', 3: '#', 4: '$', 5: '%', 6: '&', 7: '(', 8: ')', 9: '*', 10: ',', 11: '-', 12: '.', 13: '/', 14: '0', 15: '1', 16: '2', 17: '3', 18: '4', 19: '5', 20: '6', 21: '7', 22: '8', 23: '9', 24: ':', 25: ';', 26: '?', 27: 'A', 28: 'B', 29: 'C', 30: 'D', 31: 'E', 32: 'F', 33: 'G', 34: 'H', 35: 'I', 36: 'J', 37: 'K', 38: 'L', 39: 'M', 40: 'N', 41: 'O', 42: 'P', 43: 'Q', 44: 'R', 45: 'S', 46: 'T', 47: 'U', 48: 'V', 49: 'W', 50: 'X', 51: 'Y', 52: 'Z', 53: '[', 54: ']', 55: '_', 56: 'a', 57: 'b', 58: 'c', 59: 'd', 60: 'e', 61: 'f', 62: 'g', 63: 'h', 64: 'i', 65: 'j', 66: 'k', 67: 'l', 68: 'm', 69: 'n', 70: 'o', 71: 'p', 72: 'q', 73: 'r', 74: 's', 75: 't', 76: 'u', 77: 'v', 78: 'w', 79: 'x', 80: 'y', 81: 'z', 82: '£', 83: '½', 84: 'à', 85: 'â', 86: 'æ', 87: 'è', 88: 'é', 89: 'œ', 90: '—', 91: '‘', 92: '’', 93: '“', 94: '”', 95: '•', 96: '™', 97: '\\ufeff'}\n"
     ]
    }
   ],
   "source": [
    "idx_to_char = {idx: ch for ch, idx in char_to_idx.items()}\n",
    "\n",
    "print(f\"Index to character mapping: {idx_to_char}\")"
   ]
  },
  {
   "cell_type": "markdown",
   "metadata": {},
   "source": [
    "##### **Q10: How do you encode the entire text dataset into numerical format using the character-to-index mapping?**\n"
   ]
  },
  {
   "cell_type": "code",
   "execution_count": 12,
   "metadata": {},
   "outputs": [
    {
     "name": "stdout",
     "output_type": "stream",
     "text": [
      "Encoded training dataset sample: [97, 46, 63, 60, 1, 42, 73, 70, 65, 60]\n",
      "\n",
      "Encoded validation dataset sample: [73, 1, 49, 64, 69, 58, 63, 60, 74, 75]\n"
     ]
    }
   ],
   "source": [
    "train_encoded = [char_to_idx[ch] for ch in train_text]\n",
    "val_encoded = [char_to_idx[ch] for ch in val_text]\n",
    "\n",
    "print(f\"Encoded training dataset sample: {train_encoded[:10]}\\n\")\n",
    "print(f\"Encoded validation dataset sample: {val_encoded[:10]}\")"
   ]
  },
  {
   "cell_type": "markdown",
   "metadata": {},
   "source": [
    "##### **Q11: How do you generate input sequences and corresponding target sequences for training a character-level RNN in PyTorch?**"
   ]
  },
  {
   "cell_type": "code",
   "execution_count": 15,
   "metadata": {},
   "outputs": [],
   "source": [
    "def get_batches(data, seq_length, batch_size):\n",
    "    total_batch_length = (len(data) // (batch_size * seq_length)) * batch_size * seq_length  # Ensure data is divisible by batch_size and seq_length\n",
    "    \n",
    "    data = np.array(data[:total_batch_length])  # Trim the data to fit into exact batches\n",
    "    \n",
    "    data = data.reshape((batch_size, -1))  # Reshape data into batch_size rows\n",
    "    \n",
    "    for n in range(0, data.shape[1] - seq_length, seq_length):\n",
    "        x = data[:, n:n + seq_length]\n",
    "        y = data[:, n + 1:n + seq_length + 1]\n",
    "        yield x, y  # Yield the batches"
   ]
  },
  {
   "cell_type": "code",
   "execution_count": 16,
   "metadata": {},
   "outputs": [
    {
     "name": "stdout",
     "output_type": "stream",
     "text": [
      "Input batch shape: (64, 100)\n",
      "\n",
      "Target batch shape: (64, 100)\n"
     ]
    }
   ],
   "source": [
    "seq_length = 100\n",
    "batch_size = 64\n",
    "\n",
    "batches = get_batches(train_encoded, seq_length, batch_size)\n",
    "x_batch, y_batch = next(batches)\n",
    "\n",
    "print(f\"Input batch shape: {x_batch.shape}\\n\")\n",
    "print(f\"Target batch shape: {y_batch.shape}\")"
   ]
  },
  {
   "cell_type": "markdown",
   "metadata": {},
   "source": [
    "## Building the character-level RNN model"
   ]
  },
  {
   "cell_type": "markdown",
   "metadata": {},
   "source": [
    "##### **Q12: How do you define the architecture of a character-level RNN using PyTorch’s `nn.RNN` or `nn.LSTM` module?**\n"
   ]
  },
  {
   "cell_type": "code",
   "execution_count": 17,
   "metadata": {},
   "outputs": [],
   "source": [
    "class CharRNN(nn.Module):\n",
    "    def __init__(self, vocab_size, hidden_size, output_size, n_layers=1):\n",
    "        super(CharRNN, self).__init__()\n",
    "        self.hidden_size = hidden_size\n",
    "        self.n_layers = n_layers\n",
    "        \n",
    "        self.embedding = nn.Embedding(vocab_size, hidden_size)\n",
    "        self.lstm = nn.LSTM(hidden_size, hidden_size, n_layers, batch_first=True)\n",
    "        self.fc = nn.Linear(hidden_size, output_size)\n",
    "        \n",
    "    def forward(self, x, hidden):\n",
    "        x = self.embedding(x)\n",
    "        out, hidden = self.lstm(x, hidden)\n",
    "        out = self.fc(out)\n",
    "        return out, hidden"
   ]
  },
  {
   "cell_type": "code",
   "execution_count": 18,
   "metadata": {},
   "outputs": [
    {
     "name": "stdout",
     "output_type": "stream",
     "text": [
      "CharRNN(\n",
      "  (embedding): Embedding(98, 256)\n",
      "  (lstm): LSTM(256, 256, batch_first=True)\n",
      "  (fc): Linear(in_features=256, out_features=98, bias=True)\n",
      ")\n"
     ]
    }
   ],
   "source": [
    "vocab_size = len(chars)\n",
    "hidden_size = 256\n",
    "output_size = vocab_size\n",
    "\n",
    "model = CharRNN(vocab_size, hidden_size, output_size).to(device)\n",
    "print(model)"
   ]
  },
  {
   "cell_type": "markdown",
   "metadata": {},
   "source": [
    "##### **Q13: How do you specify the input size, hidden size, and output size when building the RNN model in PyTorch?**\n"
   ]
  },
  {
   "cell_type": "code",
   "execution_count": 19,
   "metadata": {},
   "outputs": [],
   "source": [
    "# Same as above, i.e.,\n",
    "vocab_size = len(chars)\n",
    "hidden_size = 256\n",
    "output_size = vocab_size"
   ]
  },
  {
   "cell_type": "markdown",
   "metadata": {},
   "source": [
    "##### **Q14: How do you initialize the hidden state of the RNN before passing data through the model?**\n"
   ]
  },
  {
   "cell_type": "code",
   "execution_count": 20,
   "metadata": {},
   "outputs": [],
   "source": [
    "def init_hidden(batch_size):\n",
    "    return (torch.zeros(1, batch_size, hidden_size).to(device),\n",
    "            torch.zeros(1, batch_size, hidden_size).to(device))\n",
    "\n",
    "hidden = init_hidden(batch_size)"
   ]
  },
  {
   "cell_type": "markdown",
   "metadata": {},
   "source": [
    "##### **Q15: How do you implement the forward pass of the RNN model to process an input sequence and predict the next character?**"
   ]
  },
  {
   "cell_type": "code",
   "execution_count": 21,
   "metadata": {},
   "outputs": [
    {
     "name": "stdout",
     "output_type": "stream",
     "text": [
      "Output shape: torch.Size([64, 100, 98])\n"
     ]
    }
   ],
   "source": [
    "x_batch = torch.tensor(x_batch).to(device)\n",
    "output, hidden = model(x_batch, hidden)\n",
    "print(f\"Output shape: {output.shape}\")"
   ]
  },
  {
   "cell_type": "markdown",
   "metadata": {},
   "source": [
    "## Training the RNN model"
   ]
  },
  {
   "cell_type": "markdown",
   "metadata": {},
   "source": [
    "##### **Q16: How do you define the loss function for training the character-level RNN model in PyTorch?**\n"
   ]
  },
  {
   "cell_type": "code",
   "execution_count": 22,
   "metadata": {},
   "outputs": [],
   "source": [
    "criterion = nn.CrossEntropyLoss()"
   ]
  },
  {
   "cell_type": "markdown",
   "metadata": {},
   "source": [
    "##### **Q17: How do you select and configure an optimizer for training the RNN model in PyTorch?**\n"
   ]
  },
  {
   "cell_type": "code",
   "execution_count": 23,
   "metadata": {},
   "outputs": [],
   "source": [
    "optimizer = torch.optim.Adam(model.parameters(), lr=0.001)"
   ]
  },
  {
   "cell_type": "markdown",
   "metadata": {},
   "source": [
    "##### **Q18: How do you implement a training loop that updates model weights based on the loss in PyTorch?**\n"
   ]
  },
  {
   "cell_type": "code",
   "execution_count": 26,
   "metadata": {},
   "outputs": [],
   "source": [
    "def train(model, data, epochs=10, seq_length=100, batch_size=64):\n",
    "    model.train()\n",
    "    \n",
    "    for epoch in range(epochs):\n",
    "        hidden = init_hidden(batch_size)\n",
    "        total_loss = 0\n",
    "        \n",
    "        for x_batch, y_batch in get_batches(data, seq_length, batch_size):\n",
    "            x_batch = torch.tensor(x_batch).to(device)\n",
    "            y_batch = torch.tensor(y_batch).to(device)\n",
    "            \n",
    "            hidden = tuple([h.data for h in hidden])\n",
    "            model.zero_grad()\n",
    "            output, hidden = model(x_batch, hidden)\n",
    "            \n",
    "            loss = criterion(output.view(-1, vocab_size), y_batch.view(-1))\n",
    "            loss.backward()\n",
    "            optimizer.step()\n",
    "            \n",
    "            total_loss += loss.item()\n",
    "        \n",
    "        if (epoch+1) % 10 == 0:\n",
    "            print(f'Epoch [{epoch+1}/{epochs}], Loss: {total_loss/len(data)}')\n",
    "        \n",
    "        # print(f\"Epoch {epoch+1}/{epochs}, Loss: {total_loss/len(data)}\")"
   ]
  },
  {
   "cell_type": "code",
   "execution_count": 27,
   "metadata": {},
   "outputs": [
    {
     "name": "stdout",
     "output_type": "stream",
     "text": [
      "Epoch [10/100], Loss: 0.00018867617742997637\n",
      "Epoch [20/100], Loss: 0.00017814544814552072\n",
      "Epoch [30/100], Loss: 0.0001712902184899871\n",
      "Epoch [40/100], Loss: 0.00016500712631123643\n",
      "Epoch [50/100], Loss: 0.00016120897494380796\n",
      "Epoch [60/100], Loss: 0.000156127503961061\n",
      "Epoch [70/100], Loss: 0.000156241672367198\n",
      "Epoch [80/100], Loss: 0.00015180472448906687\n",
      "Epoch [90/100], Loss: 0.00014875822698734046\n",
      "Epoch [100/100], Loss: 0.0001466493521393482\n"
     ]
    }
   ],
   "source": [
    "train(model, train_encoded, epochs=100)"
   ]
  },
  {
   "cell_type": "markdown",
   "metadata": {},
   "source": [
    "##### **Q19: How do you implement gradient clipping to prevent exploding gradients during the training of the RNN model in PyTorch?**\n"
   ]
  },
  {
   "cell_type": "code",
   "execution_count": 28,
   "metadata": {},
   "outputs": [],
   "source": [
    "def train_with_gradient_clipping(model, data, epochs=10, seq_length=100, batch_size=64, clip_value=5):\n",
    "    model.train()\n",
    "    \n",
    "    for epoch in range(epochs):\n",
    "        hidden = init_hidden(batch_size)\n",
    "        total_loss = 0\n",
    "        \n",
    "        for x_batch, y_batch in get_batches(data, seq_length, batch_size):\n",
    "            x_batch = torch.tensor(x_batch).to(device)\n",
    "            y_batch = torch.tensor(y_batch).to(device)\n",
    "            \n",
    "            hidden = tuple([h.data for h in hidden])\n",
    "            model.zero_grad()\n",
    "            output, hidden = model(x_batch, hidden)\n",
    "            \n",
    "            loss = criterion(output.view(-1, vocab_size), y_batch.view(-1))\n",
    "            loss.backward()\n",
    "            \n",
    "            torch.nn.utils.clip_grad_norm_(model.parameters(), clip_value)  # Gradient clipping\n",
    "            \n",
    "            optimizer.step()\n",
    "            total_loss += loss.item()\n",
    "            \n",
    "        if (epoch+1) % 10 == 0:\n",
    "            print(f'Epoch [{epoch+1}/{epochs}], Loss: {total_loss/len(data)}')\n",
    "        \n",
    "        # print(f\"Epoch {epoch+1}/{epochs}, Loss: {total_loss/len(data)}\")"
   ]
  },
  {
   "cell_type": "code",
   "execution_count": 30,
   "metadata": {},
   "outputs": [
    {
     "name": "stdout",
     "output_type": "stream",
     "text": [
      "Epoch [10/100], Loss: 0.00014202048220752868\n",
      "Epoch [20/100], Loss: 0.00014089799644546644\n",
      "Epoch [30/100], Loss: 0.0001398295223452989\n",
      "Epoch [40/100], Loss: 0.00014102610379694284\n",
      "Epoch [50/100], Loss: 0.00013655867585930253\n",
      "Epoch [60/100], Loss: 0.0001347310694344897\n",
      "Epoch [70/100], Loss: 0.00013377046944203948\n",
      "Epoch [80/100], Loss: 0.00013128647427333622\n",
      "Epoch [90/100], Loss: 0.0001322728429701999\n",
      "Epoch [100/100], Loss: 0.00013143660056350512\n"
     ]
    }
   ],
   "source": [
    "train_with_gradient_clipping(model, train_encoded, epochs=100)"
   ]
  },
  {
   "cell_type": "markdown",
   "metadata": {},
   "source": [
    "##### **Q20: How do you monitor and plot the training loss over epochs in PyTorch?**"
   ]
  },
  {
   "cell_type": "code",
   "execution_count": 33,
   "metadata": {},
   "outputs": [],
   "source": [
    "losses = []\n",
    "\n",
    "def train_with_loss_tracking(model, data, epochs=10, seq_length=100, batch_size=64, clip_value=5):\n",
    "    model.train()\n",
    "    \n",
    "    for epoch in range(epochs):\n",
    "        hidden = init_hidden(batch_size)\n",
    "        total_loss = 0\n",
    "        \n",
    "        for x_batch, y_batch in get_batches(data, seq_length, batch_size):\n",
    "            x_batch = torch.tensor(x_batch).to(device)\n",
    "            y_batch = torch.tensor(y_batch).to(device)\n",
    "            \n",
    "            hidden = tuple([h.data for h in hidden])\n",
    "            model.zero_grad()\n",
    "            output, hidden = model(x_batch, hidden)\n",
    "            \n",
    "            loss = criterion(output.view(-1, vocab_size), y_batch.view(-1))\n",
    "            loss.backward()\n",
    "            \n",
    "            torch.nn.utils.clip_grad_norm_(model.parameters(), clip_value)\n",
    "            \n",
    "            optimizer.step()\n",
    "            total_loss += loss.item()\n",
    "        \n",
    "        avg_loss = total_loss / len(data)\n",
    "        losses.append(avg_loss)\n",
    "        print(f\"Epoch {epoch+1}/{epochs}, Loss: {avg_loss}\")\n",
    "\n",
    "    plt.plot(losses)\n",
    "    plt.xlabel('Epochs')\n",
    "    plt.ylabel('Loss')\n",
    "    plt.title('Training Loss')\n",
    "    plt.show()"
   ]
  },
  {
   "cell_type": "code",
   "execution_count": 34,
   "metadata": {},
   "outputs": [
    {
     "name": "stdout",
     "output_type": "stream",
     "text": [
      "Epoch 1/20, Loss: 0.0001309185074394663\n",
      "Epoch 2/20, Loss: 0.00013102587649064637\n",
      "Epoch 3/20, Loss: 0.00013116183556905711\n",
      "Epoch 4/20, Loss: 0.0001311058868319543\n",
      "Epoch 5/20, Loss: 0.00013125634937085978\n",
      "Epoch 6/20, Loss: 0.0001307637815353977\n",
      "Epoch 7/20, Loss: 0.0001298988558129508\n",
      "Epoch 8/20, Loss: 0.00012969721728704802\n",
      "Epoch 9/20, Loss: 0.0001293932033226386\n",
      "Epoch 10/20, Loss: 0.00013002030903885343\n",
      "Epoch 11/20, Loss: 0.00013018155044562576\n",
      "Epoch 12/20, Loss: 0.0001292883008928646\n",
      "Epoch 13/20, Loss: 0.00012865851976664812\n",
      "Epoch 14/20, Loss: 0.0001289235965374206\n",
      "Epoch 15/20, Loss: 0.0001294632456886121\n",
      "Epoch 16/20, Loss: 0.00013056614450614675\n",
      "Epoch 17/20, Loss: 0.0001305070240732207\n",
      "Epoch 18/20, Loss: 0.00013018835401508243\n",
      "Epoch 19/20, Loss: 0.00012977697453056032\n",
      "Epoch 20/20, Loss: 0.00012892120862464495\n"
     ]
    },
    {
     "data": {
      "image/png": "[encoded data removed]",
      "text/plain": [
       "<Figure size 640x480 with 1 Axes>"
      ]
     },
     "metadata": {},
     "output_type": "display_data"
    }
   ],
   "source": [
    "train_with_loss_tracking(model, train_encoded, epochs=20)"
   ]
  },
  {
   "cell_type": "markdown",
   "metadata": {},
   "source": [
    "## Generating text with the trained model"
   ]
  },
  {
   "cell_type": "markdown",
   "metadata": {},
   "source": [
    "##### **Q21: How do you implement a function to generate text sequences from the trained RNN model in PyTorch?**"
   ]
  },
  {
   "cell_type": "code",
   "execution_count": 38,
   "metadata": {},
   "outputs": [],
   "source": [
    "def generate_text(model, start_string, length=100):\n",
    "    model.eval()\n",
    "    \n",
    "    input_chars = [char_to_idx[ch] for ch in start_string]\n",
    "    input_tensor = torch.tensor(input_chars).unsqueeze(0).to(device)\n",
    "    \n",
    "    hidden = init_hidden(1)\n",
    "    predicted_text = start_string\n",
    "    \n",
    "    with torch.no_grad():\n",
    "        for _ in range(length):\n",
    "            output, hidden = model(input_tensor, hidden)\n",
    "            \n",
    "            predicted_char_idx = output[:, -1].argmax(dim=-1).item()  # Extract the prediction for the last character in the sequence (last time step)\n",
    "            \n",
    "            predicted_char = idx_to_char[predicted_char_idx]\n",
    "            predicted_text += predicted_char  # Convert the predicted index to the corresponding character\n",
    "            \n",
    "            input_tensor = torch.tensor([predicted_char_idx]).unsqueeze(0).to(device)  # Prepare the input tensor for the next iteration\n",
    "    \n",
    "    return predicted_text"
   ]
  },
  {
   "cell_type": "code",
   "execution_count": 40,
   "metadata": {},
   "outputs": [
    {
     "name": "stdout",
     "output_type": "stream",
     "text": [
      "Holmes; ‘Reamously turns. I shall\n",
      "not go to the street. All reach of the matter should be able to\n",
      "see the \n"
     ]
    }
   ],
   "source": [
    "print(generate_text(model, \"Holmes\", length=100))"
   ]
  },
  {
   "cell_type": "code",
   "execution_count": 42,
   "metadata": {},
   "outputs": [
    {
     "name": "stdout",
     "output_type": "stream",
     "text": [
      "Sherlock is in his hat and passing\n",
      "in the street. “We have the matter will call you, it is a most single\n",
      "sense for the matter?”\n",
      "\n",
      "“It is not a clever man with a little more close from him, and I can\n",
      "hardly have a confession, was his chair, with his head sunk upon his\n",
      "hands.\n",
      "\n",
      "“He is a distinct party came to the coronet and the corner of the\n",
      "passage, where a low lastering facts are so in time. I have no doubt\n",
      "that I have spoken before you,” said Holmes, “that the passage, done\n",
      "himself down the street. “We \n"
     ]
    }
   ],
   "source": [
    "print(generate_text(model, \"Sherlock\", length=500))"
   ]
  },
  {
   "cell_type": "code",
   "execution_count": 43,
   "metadata": {},
   "outputs": [
    {
     "name": "stdout",
     "output_type": "stream",
     "text": [
      "detective. His staggered with the\n",
      "last time, and the corner of the cracks which had been less spoke, and\n",
      "the corners of the cracks which had been lying into a case and was standing\n",
      "streets which compellow, there was not unfortunate enoughs were so simple\n",
      "as well to the corner of the cress of the corner of the cressionen\n",
      "assistant and secured.\n",
      "\n",
      "“Coarse Angel?”\n",
      "\n",
      "“On your father will call five minutes.”\n",
      "\n",
      "It was dead, supplied with his finger-tips which I have no doubt that\n",
      "the contrary, had or considerable shoes story and was struck from the\n",
      "street. And where is it that I have sponged, the corner of the\n",
      "passage, and then he comes heard of all on our two lens in his\n",
      "constable secrecy, and the cab and was standing by the company behind her\n",
      "considerable seven minutes. I had not be some results and his hands\n",
      "of the watered laughes which had been lying into a case had been\n",
      "assistance, and he was something very care as we could not see the\n",
      "corner of the cressions were all the corner of the cress of the \n"
     ]
    }
   ],
   "source": [
    "print(generate_text(model, \"detective\", length=1000))"
   ]
  },
  {
   "cell_type": "markdown",
   "metadata": {},
   "source": [
    "##### **Q22: How do you generate text character by character starting from a seed string using the trained model?**\n"
   ]
  },
  {
   "cell_type": "code",
   "execution_count": 44,
   "metadata": {},
   "outputs": [],
   "source": [
    "# See Q21 - text generation based on a seed string and continued character by character."
   ]
  },
  {
   "cell_type": "markdown",
   "metadata": {},
   "source": [
    "##### **Q23: How do you experiment with different temperature values to control the creativity and diversity of the generated text?**\n"
   ]
  },
  {
   "cell_type": "code",
   "execution_count": 48,
   "metadata": {},
   "outputs": [],
   "source": [
    "def sample_from_model(output, temperature=1.0):\n",
    "    output = output[:, -1, :]  # Get the logits for the last time step\n",
    "    \n",
    "    output = output / temperature  # Apply temperature scaling\n",
    "\n",
    "    probabilities = torch.softmax(output, dim=-1).squeeze()  # Apply softmax to get probabilities\n",
    "    \n",
    "    predicted_char_idx = torch.multinomial(probabilities, 1).item()  # Sample from the probability distribution\n",
    "    \n",
    "    return predicted_char_idx"
   ]
  },
  {
   "cell_type": "code",
   "execution_count": 49,
   "metadata": {},
   "outputs": [],
   "source": [
    "def generate_text_with_temperature(model, start_string, length=100, temperature=1.0):\n",
    "    model.eval()\n",
    "    \n",
    "    input_chars = [char_to_idx[ch] for ch in start_string]\n",
    "    input_tensor = torch.tensor(input_chars).unsqueeze(0).to(device)\n",
    "    \n",
    "    hidden = init_hidden(1)\n",
    "    predicted_text = start_string\n",
    "    \n",
    "    with torch.no_grad():\n",
    "        for _ in range(length):\n",
    "            output, hidden = model(input_tensor, hidden)\n",
    "            predicted_char_idx = sample_from_model(output, temperature)\n",
    "            \n",
    "            if predicted_char_idx >= len(idx_to_char):  # Safeguard to prevent out-of-bound index predictions\n",
    "                predicted_char_idx = len(idx_to_char) - 1\n",
    "            \n",
    "            predicted_char = idx_to_char[predicted_char_idx]\n",
    "            predicted_text += predicted_char\n",
    "            \n",
    "            input_tensor = torch.tensor([predicted_char_idx]).unsqueeze(0).to(device)\n",
    "    \n",
    "    return predicted_text"
   ]
  },
  {
   "cell_type": "code",
   "execution_count": 50,
   "metadata": {},
   "outputs": [
    {
     "name": "stdout",
     "output_type": "stream",
     "text": [
      "Holmes; ‘Ream sure of interest,” said\n",
      "Holmes.\n",
      "\n",
      "“What don’t know there!” said he, “is these easy now,” I re\n"
     ]
    }
   ],
   "source": [
    "print(generate_text_with_temperature(model, \"Holmes\", length=100, temperature=0.5))"
   ]
  },
  {
   "cell_type": "code",
   "execution_count": 51,
   "metadata": {},
   "outputs": [
    {
     "name": "stdout",
     "output_type": "stream",
     "text": [
      "Sherlock #1661]\n",
      "[Mosmite does.”\n",
      "\n",
      "“Why were attensive such as you may say that I have brought yet.”\n",
      "\n",
      "The note of the facts had delight’\n",
      "and struck him the business case of assiston, told morning in\n",
      "the snow when he was a little landlord, “well have been in at last\n",
      "not let me are in the character of your sharp forward,” even ordered the\n",
      "name of his face. In the corner of the morning broke one of the sort in\n",
      "the stairs which had been details with his face. And she is the other\n",
      "sirple and a narrow central p\n"
     ]
    }
   ],
   "source": [
    "print(generate_text_with_temperature(model, \"Sherlock\", length=500, temperature=0.5))"
   ]
  },
  {
   "cell_type": "code",
   "execution_count": 52,
   "metadata": {},
   "outputs": [
    {
     "name": "stdout",
     "output_type": "stream",
     "text": [
      "detective. His strange place, but\n",
      "there was not in the street. And when I presumed some grave upon his\n",
      "pockets, which is rain.\n",
      "\n",
      "“When did the inspector was full precaution can break a stands of\n",
      "this order to place?”\n",
      "\n",
      "“It is not assocking to her clothes,” said he. “It is not the\n",
      "large one.”\n",
      "\n",
      "“And you can hardly live all the corner of the whistless full of his\n",
      "coronet, there was a trapforsons was so, and we wincelly proper and\n",
      "the maid, has see. “You have seen he did not tell when I shall be\n",
      "good enough.”\n",
      "\n",
      "“It is K. S.”\n",
      "\n",
      "“‘Oness’ shadon will called at me. Your wife’s arranged to you.”\n",
      "\n",
      "“It is always found that I had no own stile, Mr. Holmes. I am ever.\n",
      "\n",
      "“‘Where will be each o’clock 2ver are the maid, then?”\n",
      "\n",
      "“That was so. I have already glanced at the rooms which the alone could\n",
      "have spend the other. I pass of the coming paper upon the silence and\n",
      "still wanted shown, she saw some gentleman who had not been with a little mort\n",
      "and had give you to get the same with which he could not go, and I\n",
      "thoug\n"
     ]
    }
   ],
   "source": [
    "print(generate_text_with_temperature(model, \"detective\", length=1000, temperature=0.5))"
   ]
  },
  {
   "cell_type": "markdown",
   "metadata": {},
   "source": [
    "##### **Q24: How do you ensure that the model generates text with a specific length or number of characters?**"
   ]
  },
  {
   "cell_type": "code",
   "execution_count": 53,
   "metadata": {},
   "outputs": [],
   "source": [
    "# Already implemented in Q21 and Q23, when specifying the \"length\" parameter."
   ]
  },
  {
   "cell_type": "markdown",
   "metadata": {},
   "source": [
    "## Evaluating model performance"
   ]
  },
  {
   "cell_type": "markdown",
   "metadata": {},
   "source": [
    "##### **Q25: How do you evaluate the model’s performance in predicting the next character in a sequence on a validation set in PyTorch?**\n"
   ]
  },
  {
   "cell_type": "code",
   "execution_count": 54,
   "metadata": {},
   "outputs": [],
   "source": [
    "def evaluate_model_on_validation(model, val_data, seq_length=100, batch_size=64):\n",
    "    model.eval()\n",
    "    total_loss = 0\n",
    "    hidden = init_hidden(batch_size)\n",
    "    \n",
    "    with torch.no_grad():\n",
    "        for x_batch, y_batch in get_batches(val_data, seq_length, batch_size):\n",
    "            x_batch = torch.tensor(x_batch).to(device)\n",
    "            y_batch = torch.tensor(y_batch).to(device)\n",
    "            \n",
    "            hidden = tuple([h.data for h in hidden])\n",
    "            output, hidden = model(x_batch, hidden)\n",
    "            \n",
    "            loss = criterion(output.view(-1, vocab_size), y_batch.view(-1))\n",
    "            total_loss += loss.item()\n",
    "    \n",
    "    return total_loss / len(val_data)"
   ]
  },
  {
   "cell_type": "code",
   "execution_count": 55,
   "metadata": {},
   "outputs": [
    {
     "name": "stdout",
     "output_type": "stream",
     "text": [
      "Validation Loss: 0.00028591060011862906\n"
     ]
    }
   ],
   "source": [
    "val_loss = evaluate_model_on_validation(model, val_encoded)\n",
    "print(f\"Validation Loss: {val_loss}\")"
   ]
  },
  {
   "cell_type": "markdown",
   "metadata": {},
   "source": [
    "##### **Q26: How do you calculate and interpret the perplexity score for the character-level RNN model?**\n"
   ]
  },
  {
   "cell_type": "code",
   "execution_count": 56,
   "metadata": {},
   "outputs": [],
   "source": [
    "def perplexity(loss):\n",
    "    return torch.exp(torch.tensor(loss))"
   ]
  },
  {
   "cell_type": "code",
   "execution_count": 57,
   "metadata": {},
   "outputs": [
    {
     "name": "stdout",
     "output_type": "stream",
     "text": [
      "Validation Perplexity: 1.0002859830856323\n"
     ]
    }
   ],
   "source": [
    "val_loss = evaluate_model_on_validation(model, val_encoded)\n",
    "perplexity_score = perplexity(val_loss)\n",
    "print(f\"Validation Perplexity: {perplexity_score.item()}\")"
   ]
  },
  {
   "cell_type": "markdown",
   "metadata": {},
   "source": [
    "##### **Q27: How do you visualize the model’s predictions versus the actual next characters in a sequence?**"
   ]
  },
  {
   "cell_type": "code",
   "execution_count": 58,
   "metadata": {},
   "outputs": [],
   "source": [
    "def visualize_predictions(model, text, seq_length=100):\n",
    "    model.eval()\n",
    "    input_text = text[:seq_length]\n",
    "    input_chars = [char_to_idx[ch] for ch in input_text]\n",
    "    input_tensor = torch.tensor(input_chars).unsqueeze(0).to(device)\n",
    "    \n",
    "    hidden = init_hidden(1)\n",
    "    predicted_text = input_text\n",
    "    \n",
    "    with torch.no_grad():\n",
    "        output, hidden = model(input_tensor, hidden)\n",
    "        predicted_char_idx = output.argmax(dim=-1).cpu().numpy()\n",
    "        predicted_chars = ''.join([idx_to_char[idx] for idx in predicted_char_idx[0]])\n",
    "    \n",
    "    print(f\"Input Text: {input_text}\")\n",
    "    print(f\"Predicted Text: {predicted_chars}\")"
   ]
  },
  {
   "cell_type": "code",
   "execution_count": 59,
   "metadata": {},
   "outputs": [
    {
     "name": "stdout",
     "output_type": "stream",
     "text": [
      "Input Text: r Winchester.\n",
      "\n",
      "    “‘DEAR MISS HUNTER,—Miss Stoper has very kindly given me your\n",
      "    address, and I \n",
      "Predicted Text: isaldoerpar ”\n",
      "“  T“TYE   SRNHHEERdU T Yyg,.Htr.en wav reny cind y,teve  yy tou,\n",
      "f    ndoess  Mnd t c\n"
     ]
    }
   ],
   "source": [
    "visualize_predictions(model, val_text[:500])"
   ]
  },
  {
   "cell_type": "markdown",
   "metadata": {},
   "source": [
    "## Hyperparameter adjustments"
   ]
  },
  {
   "cell_type": "markdown",
   "metadata": {},
   "source": [
    "##### **Q28: How do you experiment with different learning rates to observe their impact on the model’s training performance?**\n"
   ]
  },
  {
   "cell_type": "code",
   "execution_count": 60,
   "metadata": {},
   "outputs": [],
   "source": [
    "def train_with_different_lr(model, data, learning_rates, epochs=10, seq_length=100, batch_size=64):\n",
    "    for lr in learning_rates:\n",
    "        print(f\"Training with learning rate: {lr}\")\n",
    "        optimizer = torch.optim.Adam(model.parameters(), lr=lr)\n",
    "        model.train()\n",
    "        \n",
    "        for epoch in range(epochs):\n",
    "            hidden = init_hidden(batch_size)\n",
    "            total_loss = 0\n",
    "            \n",
    "            for x_batch, y_batch in get_batches(data, seq_length, batch_size):\n",
    "                x_batch = torch.tensor(x_batch).to(device)\n",
    "                y_batch = torch.tensor(y_batch).to(device)\n",
    "                \n",
    "                hidden = tuple([h.data for h in hidden])\n",
    "                model.zero_grad()\n",
    "                output, hidden = model(x_batch, hidden)\n",
    "                \n",
    "                loss = criterion(output.view(-1, vocab_size), y_batch.view(-1))\n",
    "                loss.backward()\n",
    "                optimizer.step()\n",
    "                \n",
    "                total_loss += loss.item()\n",
    "            \n",
    "            avg_loss = total_loss / len(data)\n",
    "            print(f\"Epoch {epoch+1}/{epochs}, Loss: {avg_loss}\")\n",
    "        print(\"-\" * 50)"
   ]
  },
  {
   "cell_type": "code",
   "execution_count": 61,
   "metadata": {},
   "outputs": [
    {
     "name": "stdout",
     "output_type": "stream",
     "text": [
      "Training with learning rate: 0.001\n",
      "Epoch 1/10, Loss: 0.0001291499128957347\n",
      "Epoch 2/10, Loss: 0.00012755735458927972\n",
      "Epoch 3/10, Loss: 0.00012723485070323634\n",
      "Epoch 4/10, Loss: 0.0001272999691666404\n",
      "Epoch 5/10, Loss: 0.00012720583216389622\n",
      "Epoch 6/10, Loss: 0.00012685937101099284\n",
      "Epoch 7/10, Loss: 0.00012749298790150625\n",
      "Epoch 8/10, Loss: 0.00012803899126535707\n",
      "Epoch 9/10, Loss: 0.00012844275013699854\n",
      "Epoch 10/10, Loss: 0.00012756101949547877\n",
      "--------------------------------------------------\n",
      "Training with learning rate: 0.0005\n",
      "Epoch 1/10, Loss: 0.00012952842156033702\n",
      "Epoch 2/10, Loss: 0.00012964029135553083\n",
      "Epoch 3/10, Loss: 0.0001273469797471173\n",
      "Epoch 4/10, Loss: 0.00012583209934112366\n",
      "Epoch 5/10, Loss: 0.0001245266504127815\n",
      "Epoch 6/10, Loss: 0.00012371080219817396\n",
      "Epoch 7/10, Loss: 0.00012286456071997098\n",
      "Epoch 8/10, Loss: 0.00012217458639978467\n",
      "Epoch 9/10, Loss: 0.00012237535548578014\n",
      "Epoch 10/10, Loss: 0.00012168240538705614\n",
      "--------------------------------------------------\n",
      "Training with learning rate: 0.0001\n",
      "Epoch 1/10, Loss: 0.00012335160813029125\n",
      "Epoch 2/10, Loss: 0.0001209524883163743\n",
      "Epoch 3/10, Loss: 0.00011989133104338943\n",
      "Epoch 4/10, Loss: 0.00011915298884599683\n",
      "Epoch 5/10, Loss: 0.00011857206094788994\n",
      "Epoch 6/10, Loss: 0.00011807768338345536\n",
      "Epoch 7/10, Loss: 0.00011763805672695224\n",
      "Epoch 8/10, Loss: 0.00011726596389782988\n",
      "Epoch 9/10, Loss: 0.00011689156824326459\n",
      "Epoch 10/10, Loss: 0.00011657258551480726\n",
      "--------------------------------------------------\n"
     ]
    }
   ],
   "source": [
    "learning_rates = [0.001, 0.0005, 0.0001]\n",
    "train_with_different_lr(model, train_encoded, learning_rates, epochs=10)"
   ]
  },
  {
   "cell_type": "markdown",
   "metadata": {},
   "source": [
    "##### **Q29: How do you adjust the hidden size of the RNN model, and what impact does it have on the model's ability to generate text?**\n"
   ]
  },
  {
   "cell_type": "code",
   "execution_count": 62,
   "metadata": {},
   "outputs": [
    {
     "name": "stdout",
     "output_type": "stream",
     "text": [
      "Training with hidden size: 128\n",
      "Epoch 1/5, Loss: 0.0007048204618832889\n",
      "Epoch 2/5, Loss: 0.0007048204618832889\n",
      "Epoch 3/5, Loss: 0.0007048204618832889\n",
      "Epoch 4/5, Loss: 0.0007048204618832889\n",
      "Epoch 5/5, Loss: 0.0007048204618832889\n"
     ]
    },
    {
     "data": {
      "image/png": "[encoded data removed]",
      "text/plain": [
       "<Figure size 640x480 with 1 Axes>"
      ]
     },
     "metadata": {},
     "output_type": "display_data"
    },
    {
     "name": "stdout",
     "output_type": "stream",
     "text": [
      "--------------------------------------------------\n",
      "Training with hidden size: 256\n",
      "Epoch 1/5, Loss: 0.0007023278408865626\n",
      "Epoch 2/5, Loss: 0.0007023278408865626\n",
      "Epoch 3/5, Loss: 0.0007023278408865626\n",
      "Epoch 4/5, Loss: 0.0007023278408865626\n",
      "Epoch 5/5, Loss: 0.0007023278408865626\n"
     ]
    },
    {
     "data": {
      "image/png": "[encoded data removed]",
      "text/plain": [
       "<Figure size 640x480 with 1 Axes>"
      ]
     },
     "metadata": {},
     "output_type": "display_data"
    },
    {
     "name": "stdout",
     "output_type": "stream",
     "text": [
      "--------------------------------------------------\n",
      "Training with hidden size: 512\n",
      "Epoch 1/5, Loss: 0.000701793419537544\n",
      "Epoch 2/5, Loss: 0.000701793419537544\n",
      "Epoch 3/5, Loss: 0.000701793419537544\n",
      "Epoch 4/5, Loss: 0.000701793419537544\n",
      "Epoch 5/5, Loss: 0.000701793419537544\n"
     ]
    },
    {
     "data": {
      "image/png": "[encoded data removed]",
      "text/plain": [
       "<Figure size 640x480 with 1 Axes>"
      ]
     },
     "metadata": {},
     "output_type": "display_data"
    },
    {
     "name": "stdout",
     "output_type": "stream",
     "text": [
      "--------------------------------------------------\n"
     ]
    }
   ],
   "source": [
    "hidden_sizes = [128, 256, 512]\n",
    "\n",
    "for hidden_size in hidden_sizes:\n",
    "    print(f\"Training with hidden size: {hidden_size}\")\n",
    "    model = CharRNN(vocab_size, hidden_size, output_size).to(device)\n",
    "    train_with_loss_tracking(model, train_encoded, epochs=5)\n",
    "    print(\"-\" * 50)"
   ]
  },
  {
   "cell_type": "markdown",
   "metadata": {},
   "source": [
    "##### **Q30: How do you experiment with the number of layers in the RNN model to analyze its effect on text generation?**\n"
   ]
  },
  {
   "cell_type": "code",
   "execution_count": 76,
   "metadata": {},
   "outputs": [],
   "source": [
    "def init_hidden(batch_size, n_layers=1):\n",
    "    return (torch.zeros(n_layers, batch_size, hidden_size).to(device),\n",
    "            torch.zeros(n_layers, batch_size, hidden_size).to(device))"
   ]
  },
  {
   "cell_type": "code",
   "execution_count": 77,
   "metadata": {},
   "outputs": [
    {
     "name": "stdout",
     "output_type": "stream",
     "text": [
      "Training with 1 LSTM layers\n",
      "Epoch 1/5, Loss: 0.0007025154622141172\n",
      "Epoch 2/5, Loss: 0.0007025154622141172\n",
      "Epoch 3/5, Loss: 0.0007025154622141172\n",
      "Epoch 4/5, Loss: 0.0007025154622141172\n",
      "Epoch 5/5, Loss: 0.0007025154622141172\n",
      "--------------------------------------------------\n",
      "Training with 2 LSTM layers\n",
      "Epoch 1/5, Loss: 0.0007008167773365697\n",
      "Epoch 2/5, Loss: 0.0007008167773365697\n",
      "Epoch 3/5, Loss: 0.0007008167773365697\n",
      "Epoch 4/5, Loss: 0.0007008167773365697\n",
      "Epoch 5/5, Loss: 0.0007008167773365697\n",
      "--------------------------------------------------\n",
      "Training with 3 LSTM layers\n",
      "Epoch 1/5, Loss: 0.0007017136976047052\n",
      "Epoch 2/5, Loss: 0.0007017136976047052\n",
      "Epoch 3/5, Loss: 0.0007017136976047052\n",
      "Epoch 4/5, Loss: 0.0007017136976047052\n",
      "Epoch 5/5, Loss: 0.0007017136976047052\n",
      "--------------------------------------------------\n"
     ]
    }
   ],
   "source": [
    "layer_counts = [1, 2, 3]\n",
    "\n",
    "for n_layers in layer_counts:\n",
    "    print(f\"Training with {n_layers} LSTM layers\")\n",
    "    model = CharRNN(vocab_size, hidden_size, output_size, n_layers=n_layers).to(device)\n",
    "    \n",
    "    # Update the hidden state initialization to use n_layers:\n",
    "    def train_with_loss_tracking_modified(model, data, epochs=10, seq_length=100, batch_size=64, clip_value=5, n_layers=1):\n",
    "        model.train()\n",
    "        for epoch in range(epochs):\n",
    "            hidden = init_hidden(batch_size, n_layers=n_layers)\n",
    "            total_loss = 0\n",
    "            for x_batch, y_batch in get_batches(data, seq_length, batch_size):\n",
    "                x_batch = torch.tensor(x_batch).to(device)\n",
    "                y_batch = torch.tensor(y_batch).to(device)\n",
    "                hidden = tuple([h.data for h in hidden])\n",
    "                model.zero_grad()\n",
    "                output, hidden = model(x_batch, hidden)\n",
    "                loss = criterion(output.view(-1, vocab_size), y_batch.view(-1))\n",
    "                loss.backward()\n",
    "                torch.nn.utils.clip_grad_norm_(model.parameters(), clip_value)\n",
    "                optimizer.step()\n",
    "                total_loss += loss.item()\n",
    "            avg_loss = total_loss / len(data)\n",
    "            print(f\"Epoch {epoch+1}/{epochs}, Loss: {avg_loss}\")\n",
    "        print(\"-\" * 50)\n",
    "\n",
    "    train_with_loss_tracking_modified(model, train_encoded, epochs=5, n_layers=n_layers)"
   ]
  },
  {
   "cell_type": "markdown",
   "metadata": {},
   "source": [
    "##### **Q31: How do you change the sequence length for input sequences, and what effect does it have on the training process and model performance?**"
   ]
  },
  {
   "cell_type": "code",
   "execution_count": 81,
   "metadata": {},
   "outputs": [
    {
     "name": "stdout",
     "output_type": "stream",
     "text": [
      "Training with sequence length: 50\n",
      "Epoch 1/5, Loss: 0.0014165616353576424\n",
      "Epoch 2/5, Loss: 0.0014165616353576424\n",
      "Epoch 3/5, Loss: 0.0014165616353576424\n",
      "Epoch 4/5, Loss: 0.0014165616353576424\n",
      "Epoch 5/5, Loss: 0.0014165616353576424\n",
      "--------------------------------------------------\n",
      "--------------------------------------------------\n",
      "Training with sequence length: 100\n",
      "Epoch 1/5, Loss: 0.0006995380179238831\n",
      "Epoch 2/5, Loss: 0.0006995380179238831\n",
      "Epoch 3/5, Loss: 0.0006995380179238831\n",
      "Epoch 4/5, Loss: 0.0006995380179238831\n",
      "Epoch 5/5, Loss: 0.0006995380179238831\n",
      "--------------------------------------------------\n",
      "--------------------------------------------------\n",
      "Training with sequence length: 200\n",
      "Epoch 1/5, Loss: 0.00034102440266738207\n",
      "Epoch 2/5, Loss: 0.00034102440266738207\n",
      "Epoch 3/5, Loss: 0.00034102440266738207\n",
      "Epoch 4/5, Loss: 0.00034102440266738207\n",
      "Epoch 5/5, Loss: 0.00034102440266738207\n",
      "--------------------------------------------------\n",
      "--------------------------------------------------\n"
     ]
    }
   ],
   "source": [
    "sequence_lengths = [50, 100, 200]\n",
    "\n",
    "for seq_length in sequence_lengths:\n",
    "    print(f\"Training with sequence length: {seq_length}\")\n",
    "    \n",
    "    # Update the training function to account for the number of layers in the model:\n",
    "    def train_with_loss_tracking_modified_seq_length(model, data, epochs=10, seq_length=100, batch_size=64, clip_value=5, n_layers=1):\n",
    "        model.train()\n",
    "        for epoch in range(epochs):\n",
    "            hidden = init_hidden(batch_size, n_layers=n_layers)\n",
    "            total_loss = 0\n",
    "            for x_batch, y_batch in get_batches(data, seq_length, batch_size):\n",
    "                x_batch = torch.tensor(x_batch).to(device)\n",
    "                y_batch = torch.tensor(y_batch).to(device)\n",
    "                hidden = tuple([h.data for h in hidden])\n",
    "                model.zero_grad()\n",
    "                output, hidden = model(x_batch, hidden)\n",
    "                loss = criterion(output.view(-1, vocab_size), y_batch.view(-1))\n",
    "                loss.backward()\n",
    "                torch.nn.utils.clip_grad_norm_(model.parameters(), clip_value)\n",
    "                optimizer.step()\n",
    "                total_loss += loss.item()\n",
    "            avg_loss = total_loss / len(data)\n",
    "            print(f\"Epoch {epoch+1}/{epochs}, Loss: {avg_loss}\")\n",
    "        print(\"-\" * 50)\n",
    "\n",
    "    train_with_loss_tracking_modified_seq_length(model, train_encoded, epochs=5, seq_length=seq_length, n_layers=model.lstm.num_layers)  # Call the modified training function, passing n_layers correctly\n",
    "    print(\"-\" * 50)"
   ]
  },
  {
   "cell_type": "code",
   "execution_count": 69,
   "metadata": {},
   "outputs": [
    {
     "name": "stdout",
     "output_type": "stream",
     "text": [
      "File 'sherlock_holmes.txt' has been deleted.\n"
     ]
    }
   ],
   "source": [
    "import os\n",
    "\n",
    "if os.path.exists('sherlock_holmes.txt'):\n",
    "    os.remove('sherlock_holmes.txt')\n",
    "    print(\"File 'sherlock_holmes.txt' has been deleted.\")\n",
    "else:\n",
    "    print(\"File 'sherlock_holmes.txt' does not exist.\")"
   ]
  }
 ],
 "metadata": {
  "kernelspec": {
   "display_name": "base",
   "language": "python",
   "name": "python3"
  },
  "language_info": {
   "codemirror_mode": {
    "name": "ipython",
    "version": 3
   },
   "file_extension": ".py",
   "mimetype": "text/x-python",
   "name": "python",
   "nbconvert_exporter": "python",
   "pygments_lexer": "ipython3",
   "version": "3.12.4"
  }
 },
 "nbformat": 4,
 "nbformat_minor": 2
}
