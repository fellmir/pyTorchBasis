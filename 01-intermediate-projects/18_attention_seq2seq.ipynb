{
 "cells": [
  {
   "cell_type": "markdown",
   "metadata": {},
   "source": [
    "# Attention seq2seq in PyTorch\n",
    "\n",
    "The `18_attention_seq2seq` notebook explores the use of attention mechanisms in sequence-to-sequence (seq2seq) models, enhancing the model's ability to focus on relevant parts of the input sequence during translation. \n",
    "\n",
    "The notebook guides through preparing the dataset, building the Encoder model, implementing the attention mechanism, and integrating it into the Decoder model. It then covers training the attention-based seq2seq model, evaluating its performance, visualizing attention weights, and experimenting with hyperparameters for better results."
   ]
  },
  {
   "cell_type": "markdown",
   "metadata": {},
   "source": [
    "## Table of contents\n",
    "\n",
    "1. [Understanding Attention in seq2seq Models](#understanding-attention-in-seq2seq-models)\n",
    "2. [Setting up the environment](#setting-up-the-environment)\n",
    "3. [Preparing the dataset](#preparing-the-dataset)\n",
    "4. [Building the Encoder model](#building-the-encoder-model)\n",
    "5. [Building the Attention mechanism](#building-the-attention-mechanism)\n",
    "6. [Building the Decoder model with Attention](#building-the-decoder-model-with-attention)\n",
    "7. [Combining Encoder and Decoder into an Attention seq2seq model](#combining-encoder-and-decoder-into-an-attention-seq2seq-model)\n",
    "8. [Training the Attention seq2seq model](#training-the-attention-seq2seq-model)\n",
    "9. [Evaluating the Attention seq2seq model](#evaluating-the-attention-seq2seq-model)\n",
    "10. [Visualizing Attention weights](#visualizing-attention-weights)\n",
    "11. [Experimenting with hyperparameters](#experimenting-with-hyperparameters)"
   ]
  },
  {
   "cell_type": "markdown",
   "metadata": {},
   "source": [
    "## Understanding Attention in seq2seq Models\n",
    "\n",
    "Attention-based sequence-to-sequence (seq2seq) models are an extension of the traditional seq2seq architecture designed to address the limitations of encoding long input sequences into a fixed-length context vector. The primary innovation in these models is the **attention mechanism**, which allows the model to focus on specific parts of the input sequence at each step of the output generation. This significantly improves the model's ability to handle longer sequences and complex relationships between input and output elements.\n",
    "\n",
    "Attention mechanisms have become particularly important in tasks such as **machine translation**, **text summarization**, and **image captioning**, where the relationship between input and output tokens is not always direct or linear."
   ]
  },
  {
   "cell_type": "markdown",
   "metadata": {},
   "source": [
    "### **Key challenges with traditional seq2seq models**\n",
    "\n",
    "In the traditional seq2seq architecture, the encoder processes the entire input sequence and produces a fixed-length context vector that summarizes the information. The decoder then generates the output sequence based solely on this vector. While this approach works well for short sequences, it faces several problems with longer sequences:\n",
    "- **Information bottleneck**: Compressing all the information from the input sequence into a single context vector often leads to information loss, especially for long and complex inputs.\n",
    "- **Difficulty in long-term dependencies**: The fixed-length context vector struggles to capture long-term dependencies between distant elements in the sequence.\n",
    "\n",
    "### **How attention works in seq2seq models**\n",
    "\n",
    "The attention mechanism resolves these issues by allowing the decoder to focus on different parts of the input sequence dynamically, rather than relying on a single context vector. At each decoding step, the attention mechanism computes a set of attention weights, which determine how much focus should be given to each input token. This gives the model the flexibility to concentrate on the most relevant parts of the input sequence for generating the next output token.\n",
    "\n",
    "In essence, the decoder no longer uses a single, fixed-length context vector. Instead, it generates a new context vector at each time step, which is a weighted sum of the encoder’s hidden states. These weights are learned dynamically based on how relevant each input token is to the current output token being generated.\n",
    "\n",
    "### **Components of the attention mechanism**\n",
    "\n",
    "#### **Alignment scores**\n",
    "The first step in the attention mechanism is to compute **alignment scores** between the current decoder hidden state and each of the encoder’s hidden states. These scores indicate how well the current output token is aligned with each input token. The alignment scores can be computed in different ways, such as:\n",
    "- **Dot product**: Taking the dot product between the decoder’s hidden state and each encoder hidden state.\n",
    "- **Additive (Bahdanau) attention**: A more complex approach that uses a learned feedforward network to compute the alignment scores.\n",
    "- **Scaled dot product (Luong) attention**: A scaled version of the dot product attention to prevent very large values when working with high-dimensional hidden states.\n",
    "\n",
    "#### **Attention weights**\n",
    "Once the alignment scores are computed, they are normalized using a softmax function to produce **attention weights**. These weights represent the importance of each input token relative to the current decoding step. Higher attention weights indicate that the decoder should focus more on the corresponding input token.\n",
    "\n",
    "The attention weights sum to 1 and are used to compute a weighted average of the encoder’s hidden states.\n",
    "\n",
    "#### **Context vector**\n",
    "The context vector at each decoding step is a weighted sum of the encoder’s hidden states, where the weights are the attention scores. This context vector contains information about the most relevant parts of the input sequence for generating the current output token. The context vector is updated at every decoding step, providing the decoder with more focused and relevant information compared to using a single context vector for the entire sequence.\n",
    "\n",
    "The decoder combines this context vector with its own hidden state to generate the next output token.\n",
    "\n",
    "### **Training attention-based seq2seq models**\n",
    "\n",
    "Attention-based seq2seq models are trained in a manner similar to traditional seq2seq models, with the key difference being the introduction of the attention mechanism. The training process minimizes a loss function, such as cross-entropy, to match the predicted output sequence with the target sequence.\n",
    "\n",
    "During training, **teacher forcing** is commonly used, where the true output token from the previous time step is provided to the decoder as input. The model learns to generate accurate translations or outputs by adjusting the attention weights and improving the alignment between the input and output sequences.\n",
    "\n",
    "### **Benefits of attention mechanisms in seq2seq models**\n",
    "\n",
    "The attention mechanism provides several important benefits:\n",
    "- **Improved handling of long sequences**: By allowing the decoder to focus on different parts of the input sequence at each time step, attention mechanisms eliminate the information bottleneck, making it easier for the model to handle long sequences.\n",
    "- **Better alignment**: In tasks like machine translation, attention mechanisms help the model align words or phrases in the input and output sequences more effectively, capturing the relationships between corresponding tokens across languages.\n",
    "- **Interpretability**: The attention weights provide a form of interpretability, as they show which parts of the input sequence the model is focusing on while generating each output token. This can be useful for understanding how the model works and debugging its predictions.\n",
    "\n",
    "### **Applications of attention-based seq2seq models**\n",
    "\n",
    "Attention-based seq2seq models are widely used in tasks where the input and output are sequences and where the alignment between these sequences is important. Some common applications include:\n",
    "- **Machine translation**: In machine translation tasks, attention mechanisms help the model align words in the source language with their translations in the target language, improving the quality of translations, especially for long or complex sentences.\n",
    "- **Text summarization**: Attention mechanisms are used to focus on the most important parts of a document when generating a summary, making the output more concise and relevant.\n",
    "- **Speech recognition**: Attention-based models help align audio signals with their corresponding transcriptions, improving the performance of automatic speech recognition systems.\n",
    "- **Image captioning**: In tasks where images are translated into descriptive sentences, attention mechanisms can help the model focus on specific parts of the image while generating each word of the caption.\n",
    "\n",
    "### **Limitations of attention-based seq2seq models**\n",
    "\n",
    "Despite their success, attention-based seq2seq models have some limitations:\n",
    "- **Computation cost**: The attention mechanism introduces additional computational overhead, as it requires calculating alignment scores and attention weights for each input token at every decoding step.\n",
    "- **Long training times**: Due to the added complexity, attention-based models can take longer to train compared to vanilla seq2seq models, especially on large datasets."
   ]
  },
  {
   "cell_type": "markdown",
   "metadata": {},
   "source": [
    "### **Maths**\n",
    "\n",
    "#### **Encoder**\n",
    "\n",
    "In the attention-based seq2seq model, the encoder processes the input sequence $ X = (x_1, x_2, \\dots, x_T) $, where $ T $ is the length of the input sequence. Each input token $ x_t $ is passed through a recurrent neural network (RNN), such as an LSTM or GRU, to produce a sequence of hidden states $ h_t $:\n",
    "\n",
    "$$\n",
    "h_t = f(W_{hx} x_t + W_{hh} h_{t-1} + b_h)\n",
    "$$\n",
    "\n",
    "where:\n",
    "- $ h_t $ is the hidden state at time step $ t $,\n",
    "- $ W_{hx} $ is the weight matrix for the input $ x_t $,\n",
    "- $ W_{hh} $ is the weight matrix for the hidden state $ h_{t-1} $,\n",
    "- $ b_h $ is the bias,\n",
    "- $ f $ is the non-linear activation function (e.g., tanh or ReLU).\n",
    "\n",
    "The encoder generates hidden states for every input token, resulting in $ H = (h_1, h_2, \\dots, h_T) $, a sequence of hidden states that will be used in the attention mechanism.\n",
    "\n",
    "#### **Decoder**\n",
    "\n",
    "The decoder in the attention-based seq2seq model takes the context vector (a dynamic combination of encoder hidden states) and the previous decoder hidden state to generate the output sequence. The decoder’s hidden state $ s_t $ at each time step is computed using the previous output token $ y_{t-1} $, the context vector $ c_t $, and the previous hidden state $ s_{t-1} $:\n",
    "\n",
    "$$\n",
    "s_t = f(W_{sy} y_{t-1} + W_{sc} c_t + W_{ss} s_{t-1} + b_s)\n",
    "$$\n",
    "\n",
    "where:\n",
    "- $ s_t $ is the hidden state of the decoder at time step $ t $,\n",
    "- $ y_{t-1} $ is the previous output token,\n",
    "- $ c_t $ is the context vector at time step $ t $,\n",
    "- $ W_{sy}, W_{sc}, W_{ss} $ are the weight matrices for the previous output token, the context vector, and the previous hidden state, respectively,\n",
    "- $ b_s $ is the bias term.\n",
    "\n",
    "The output at each time step is generated using the hidden state $ s_t $, typically passed through a softmax function to generate probabilities over the target vocabulary.\n",
    "\n",
    "#### **Attention mechanism**\n",
    "\n",
    "The core of the attention mechanism lies in generating the context vector $ c_t $ at each decoding step. Instead of using a single fixed-length context vector (as in traditional seq2seq models), the attention mechanism dynamically computes a weighted sum of all encoder hidden states $ h_1, h_2, \\dots, h_T $ at each time step of the decoder.\n",
    "\n",
    "##### **Step 1: Alignment scores**\n",
    "\n",
    "The attention mechanism computes an **alignment score** $ e_{t,i} $ between the current decoder hidden state $ s_t $ and each encoder hidden state $ h_i $. The alignment score represents the relevance of encoder hidden state $ h_i $ to the current decoding step $ t $. The alignment score can be computed in various ways, such as:\n",
    "\n",
    "- **Dot-product**: The dot product between $ s_t $ and $ h_i $:\n",
    "\n",
    "  $$\n",
    "  e_{t,i} = s_t^T h_i\n",
    "  $$\n",
    "\n",
    "- **Additive attention (Bahdanau)**: A learned feedforward network computes the alignment score:\n",
    "\n",
    "  $$\n",
    "  e_{t,i} = v_a^T \\tanh(W_s s_t + W_h h_i)\n",
    "  $$\n",
    "\n",
    "- **Scaled dot-product attention (Luong)**: A scaled version of the dot product:\n",
    "\n",
    "  $$\n",
    "  e_{t,i} = \\frac{s_t^T h_i}{\\sqrt{d_h}}\n",
    "  $$\n",
    "\n",
    "  Where $ d_h $ is the dimensionality of the hidden states, and the scaling factor prevents large dot-product values in high-dimensional spaces.\n",
    "\n",
    "##### **Step 2: Attention weights**\n",
    "\n",
    "The alignment scores $ e_{t,i} $ are then normalized using a softmax function to produce **attention weights** $ \\alpha_{t,i} $:\n",
    "\n",
    "$$\n",
    "\\alpha_{t,i} = \\frac{\\exp(e_{t,i})}{\\sum_{j=1}^{T} \\exp(e_{t,j})}\n",
    "$$\n",
    "\n",
    "These attention weights represent the importance of each encoder hidden state $ h_i $ for generating the next output token at time step $ t $. The weights $ \\alpha_{t,i} $ sum to 1.\n",
    "\n",
    "##### **Step 3: Context vector**\n",
    "\n",
    "The **context vector** $ c_t $ is computed as the weighted sum of the encoder hidden states $ h_i $, where the weights are the attention scores $ \\alpha_{t,i} $:\n",
    "\n",
    "$$\n",
    "c_t = \\sum_{i=1}^{T} \\alpha_{t,i} h_i\n",
    "$$\n",
    "\n",
    "The context vector $ c_t $ is updated dynamically at each time step $ t $, allowing the decoder to focus on different parts of the input sequence as it generates the output sequence.\n",
    "\n",
    "#### **Combining context vector with decoder**\n",
    "\n",
    "The context vector $ c_t $ is combined with the decoder’s hidden state $ s_t $ to generate the next output token. The final output at each time step is usually produced by passing the combination of the context vector and the decoder hidden state through a fully connected layer followed by a softmax function:\n",
    "\n",
    "$$\n",
    "\\hat{y_t} = \\text{softmax}(W_o [s_t; c_t] + b_o)\n",
    "$$\n",
    "\n",
    "where:\n",
    "- $ W_o $ is the output weight matrix,\n",
    "- $ b_o $ is the output bias,\n",
    "- $ [s_t; c_t] $ denotes the concatenation of the decoder hidden state $ s_t $ and the context vector $ c_t $.\n",
    "\n",
    "The softmax function produces a probability distribution over the target vocabulary, allowing the model to predict the next token in the sequence.\n",
    "\n",
    "#### **Loss function**\n",
    "\n",
    "The model is trained by minimizing the **cross-entropy loss** between the predicted output sequence $ \\hat{Y} $ and the true target sequence $ Y $:\n",
    "\n",
    "$$\n",
    "L = - \\sum_{t=1}^{T'} \\sum_{k=1}^{V} y_{t,k} \\log(\\hat{y_{t,k}})\n",
    "$$\n",
    "\n",
    "where:\n",
    "- $ T' $ is the length of the output sequence,\n",
    "- $ V $ is the size of the target vocabulary,\n",
    "- $ y_{t,k} $ is the true one-hot encoded value for the $ k $-th word at time step $ t $,\n",
    "- $ \\hat{y_{t,k}} $ is the predicted probability of the $ k $-th word at time step $ t $.\n",
    "\n",
    "This loss is minimized using gradient descent, with the gradients flowing through the entire attention mechanism, updating both the encoder and decoder parameters.\n",
    "\n",
    "#### **Backpropagation through time (BPTT)**\n",
    "\n",
    "Training attention-based seq2seq models involves backpropagation through time (BPTT). The gradients of the loss with respect to the attention weights, context vectors, and hidden states are computed, allowing the model to learn how to align the input and output sequences.\n",
    "\n",
    "Since the attention weights and context vectors are computed at each decoding step, the gradients flow through both the encoder and decoder at every time step, ensuring that the entire model is updated based on the attention mechanism."
   ]
  },
  {
   "cell_type": "markdown",
   "metadata": {},
   "source": [
    "## Setting up the environment\n"
   ]
  },
  {
   "cell_type": "markdown",
   "metadata": {},
   "source": [
    "##### **Q1: How do you install the necessary libraries for building and training an attention-based seq2seq model in PyTorch?**\n"
   ]
  },
  {
   "cell_type": "code",
   "execution_count": 108,
   "metadata": {},
   "outputs": [],
   "source": [
    "# !pip install pytorch torchvision torchaudio cudatoolkit=11.3 pytorch\n",
    "# !pip install numpy matplotlib"
   ]
  },
  {
   "cell_type": "markdown",
   "metadata": {},
   "source": [
    "##### **Q2: How do you import the required modules for data loading, model building, and training in PyTorch?**\n"
   ]
  },
  {
   "cell_type": "code",
   "execution_count": 109,
   "metadata": {},
   "outputs": [
    {
     "name": "stderr",
     "output_type": "stream",
     "text": [
      "[nltk_data] Downloading package punkt to /home/fellmir/nltk_data...\n",
      "[nltk_data]   Package punkt is already up-to-date!\n"
     ]
    }
   ],
   "source": [
    "import torch\n",
    "import torch.nn as nn\n",
    "import torch.optim as optim\n",
    "import numpy as np\n",
    "import matplotlib.pyplot as plt\n",
    "from torch.utils.data import Dataset, DataLoader\n",
    "import random\n",
    "import math\n",
    "import os\n",
    "import requests\n",
    "import zipfile\n",
    "from collections import Counter\n",
    "from sklearn.model_selection import train_test_split\n",
    "import nltk\n",
    "nltk.download('punkt')\n",
    "from nltk.translate.bleu_score import corpus_bleu"
   ]
  },
  {
   "cell_type": "markdown",
   "metadata": {},
   "source": [
    "##### **Q3: How do you set up the environment to use a GPU for training the attention-based seq2seq model in PyTorch?**\n"
   ]
  },
  {
   "cell_type": "code",
   "execution_count": 110,
   "metadata": {},
   "outputs": [
    {
     "name": "stdout",
     "output_type": "stream",
     "text": [
      "Using device: cuda\n"
     ]
    }
   ],
   "source": [
    "device = torch.device('cuda' if torch.cuda.is_available() else 'cpu')\n",
    "print(f'Using device: {device}')"
   ]
  },
  {
   "cell_type": "markdown",
   "metadata": {},
   "source": [
    "##### **Q4: How do you set random seeds in PyTorch to ensure reproducibility when training the attention-based seq2seq model?**"
   ]
  },
  {
   "cell_type": "code",
   "execution_count": 111,
   "metadata": {},
   "outputs": [],
   "source": [
    "import random\n",
    "\n",
    "seed = 42\n",
    "torch.manual_seed(seed)\n",
    "np.random.seed(seed)\n",
    "random.seed(seed)\n",
    "if torch.cuda.is_available():\n",
    "    torch.cuda.manual_seed(seed)\n",
    "    torch.cuda.manual_seed_all(seed)"
   ]
  },
  {
   "cell_type": "markdown",
   "metadata": {},
   "source": [
    "## Preparing the dataset\n"
   ]
  },
  {
   "cell_type": "markdown",
   "metadata": {},
   "source": [
    "##### **Q5: How do you load a machine translation dataset (e.g., English to French) for an Attention seq2seq model?**\n"
   ]
  },
  {
   "cell_type": "code",
   "execution_count": 112,
   "metadata": {},
   "outputs": [
    {
     "name": "stdout",
     "output_type": "stream",
     "text": [
      "Dataset already downloaded.\n",
      "Dataset already extracted.\n"
     ]
    }
   ],
   "source": [
    "import os\n",
    "\n",
    "dataset_url = 'https://www.manythings.org/anki/fra-eng.zip'\n",
    "dataset_dir = 'data'\n",
    "dataset_zip = os.path.join(dataset_dir, 'fra-eng.zip')\n",
    "dataset_file = os.path.join(dataset_dir, 'fra.txt')\n",
    "\n",
    "if not os.path.exists(dataset_dir):\n",
    "    os.makedirs(dataset_dir)\n",
    "\n",
    "if not os.path.exists(dataset_zip):\n",
    "    print(\"Downloading dataset using wget...\")\n",
    "    os.system(f\"wget -O {dataset_zip} {dataset_url}\")\n",
    "else:\n",
    "    print(\"Dataset already downloaded.\")\n",
    "\n",
    "if not os.path.exists(dataset_file):\n",
    "    print(\"Extracting dataset...\")\n",
    "    with zipfile.ZipFile(dataset_zip, 'r') as zip_ref:\n",
    "        zip_ref.extractall(dataset_dir)\n",
    "else:\n",
    "    print(\"Dataset already extracted.\")"
   ]
  },
  {
   "cell_type": "code",
   "execution_count": 113,
   "metadata": {},
   "outputs": [
    {
     "name": "stdout",
     "output_type": "stream",
     "text": [
      "Loaded 232736 sentence pairs.\n"
     ]
    }
   ],
   "source": [
    "data = []\n",
    "with open(dataset_file, 'r', encoding='utf-8') as f:\n",
    "    for line in f:\n",
    "        parts = line.strip().split('\\t')\n",
    "        if len(parts) >= 2:\n",
    "            eng_sentence, fr_sentence = parts[0], parts[1]\n",
    "            data.append((eng_sentence, fr_sentence))\n",
    "\n",
    "print(f\"Loaded {len(data)} sentence pairs.\")"
   ]
  },
  {
   "cell_type": "markdown",
   "metadata": {},
   "source": [
    "##### **Q6: How do you tokenize the dataset and convert sentences into sequences of indices for machine translation tasks?**\n"
   ]
  },
  {
   "cell_type": "code",
   "execution_count": 114,
   "metadata": {},
   "outputs": [],
   "source": [
    "def tokenize(sentence):\n",
    "    return sentence.lower().strip().split()"
   ]
  },
  {
   "cell_type": "code",
   "execution_count": 115,
   "metadata": {},
   "outputs": [],
   "source": [
    "tokenized_data = []\n",
    "for eng, fr in data:\n",
    "    tokenized_eng = tokenize(eng)\n",
    "    tokenized_fr = tokenize(fr)\n",
    "    tokenized_data.append((tokenized_eng, tokenized_fr))"
   ]
  },
  {
   "cell_type": "markdown",
   "metadata": {},
   "source": [
    "##### **Q7: How do you create vocabulary mappings for both source and target languages?**\n"
   ]
  },
  {
   "cell_type": "code",
   "execution_count": 116,
   "metadata": {},
   "outputs": [],
   "source": [
    "def build_vocab(tokenized_sentences, max_vocab_size=10000):\n",
    "    word_counts = Counter()\n",
    "    for sentence in tokenized_sentences:\n",
    "        word_counts.update(sentence)\n",
    "    most_common_words = word_counts.most_common(max_vocab_size - 4)  # Most common words up to max_vocab_size\n",
    "    vocab = {'<PAD>': 0, '<SOS>': 1, '<EOS>': 2, '<UNK>': 3}\n",
    "    for word, _ in most_common_words:\n",
    "        vocab[word] = len(vocab)\n",
    "    return vocab"
   ]
  },
  {
   "cell_type": "code",
   "execution_count": 117,
   "metadata": {},
   "outputs": [
    {
     "name": "stdout",
     "output_type": "stream",
     "text": [
      "Source vocabulary size: 10000\n",
      "Target vocabulary size: 10000\n"
     ]
    }
   ],
   "source": [
    "\n",
    "source_sentences = [pair[0] for pair in tokenized_data]\n",
    "target_sentences = [pair[1] for pair in tokenized_data]\n",
    "\n",
    "source_vocab = build_vocab(source_sentences)\n",
    "target_vocab = build_vocab(target_sentences)\n",
    "\n",
    "inv_source_vocab = {i: w for w, i in source_vocab.items()}\n",
    "inv_target_vocab = {i: w for w, i in target_vocab.items()}\n",
    "\n",
    "print(f\"Source vocabulary size: {len(source_vocab)}\")\n",
    "print(f\"Target vocabulary size: {len(target_vocab)}\")"
   ]
  },
  {
   "cell_type": "markdown",
   "metadata": {},
   "source": [
    "##### **Q8: How do you set up DataLoaders to handle batching of source-target sentence pairs for training the model?**"
   ]
  },
  {
   "cell_type": "code",
   "execution_count": 118,
   "metadata": {},
   "outputs": [],
   "source": [
    "class TranslationDataset(Dataset):\n",
    "    def __init__(self, data, source_vocab, target_vocab):\n",
    "        self.data = data\n",
    "        self.source_vocab = source_vocab\n",
    "        self.target_vocab = target_vocab\n",
    "\n",
    "    def __len__(self):\n",
    "        return len(self.data)\n",
    "\n",
    "    def encode_sentence(self, sentence, vocab):\n",
    "        return [vocab.get(word, vocab['<UNK>']) for word in sentence]\n",
    "\n",
    "    def __getitem__(self, idx):\n",
    "        source_sentence, target_sentence = self.data[idx]\n",
    "        source_indexes = [self.source_vocab['<SOS>']] + self.encode_sentence(source_sentence, self.source_vocab) + [self.source_vocab['<EOS>']]\n",
    "        target_indexes = [self.target_vocab['<SOS>']] + self.encode_sentence(target_sentence, self.target_vocab) + [self.target_vocab['<EOS>']]\n",
    "        return torch.tensor(source_indexes), torch.tensor(target_indexes)"
   ]
  },
  {
   "cell_type": "code",
   "execution_count": 119,
   "metadata": {},
   "outputs": [
    {
     "name": "stdout",
     "output_type": "stream",
     "text": [
      "Training data size: 209462\n",
      "Validation data size: 23274\n"
     ]
    }
   ],
   "source": [
    "train_data, val_data = train_test_split(tokenized_data, test_size=0.1, random_state=seed)\n",
    "print(f\"Training data size: {len(train_data)}\")\n",
    "print(f\"Validation data size: {len(val_data)}\")\n",
    "\n",
    "train_dataset = TranslationDataset(train_data, source_vocab, target_vocab)\n",
    "val_dataset = TranslationDataset(val_data, source_vocab, target_vocab)"
   ]
  },
  {
   "cell_type": "code",
   "execution_count": 120,
   "metadata": {},
   "outputs": [],
   "source": [
    "def collate_fn(batch):\n",
    "    source_batch, target_batch = zip(*batch)\n",
    "    source_lengths = torch.tensor([len(seq) for seq in source_batch], dtype=torch.long)\n",
    "    target_lengths = torch.tensor([len(seq) for seq in target_batch], dtype=torch.long)\n",
    "    source_padded = nn.utils.rnn.pad_sequence(source_batch, padding_value=source_vocab['<PAD>'], batch_first=True)\n",
    "    target_padded = nn.utils.rnn.pad_sequence(target_batch, padding_value=target_vocab['<PAD>'], batch_first=True)\n",
    "    return source_padded, target_padded, source_lengths, target_lengths"
   ]
  },
  {
   "cell_type": "code",
   "execution_count": 121,
   "metadata": {},
   "outputs": [],
   "source": [
    "batch_size = 8\n",
    "train_loader = DataLoader(train_dataset, batch_size=batch_size, shuffle=True, collate_fn=collate_fn)\n",
    "val_loader = DataLoader(val_dataset, batch_size=batch_size, shuffle=False, collate_fn=collate_fn)"
   ]
  },
  {
   "cell_type": "markdown",
   "metadata": {},
   "source": [
    "## Building the Encoder model\n"
   ]
  },
  {
   "cell_type": "markdown",
   "metadata": {},
   "source": [
    "##### **Q9: How do you define the architecture of the Encoder model using PyTorch’s `nn.Module`?**\n"
   ]
  },
  {
   "cell_type": "code",
   "execution_count": 122,
   "metadata": {},
   "outputs": [],
   "source": [
    "class Encoder(nn.Module):\n",
    "    def __init__(self, input_dim, embed_dim, hidden_dim, num_layers):\n",
    "        super(Encoder, self).__init__()\n",
    "        self.embedding = nn.Embedding(input_dim, embed_dim, padding_idx=source_vocab['<PAD>'])\n",
    "        self.rnn = nn.GRU(embed_dim, hidden_dim, num_layers, batch_first=True, bidirectional=True)\n",
    "\n",
    "    def forward(self, x, x_lengths):\n",
    "        embedded = self.embedding(x)\n",
    "        packed_embedded = nn.utils.rnn.pack_padded_sequence(embedded, x_lengths, batch_first=True, enforce_sorted=False)\n",
    "        packed_outputs, hidden = self.rnn(packed_embedded)\n",
    "        outputs, _ = nn.utils.rnn.pad_packed_sequence(packed_outputs, batch_first=True)\n",
    "        return outputs, hidden"
   ]
  },
  {
   "cell_type": "markdown",
   "metadata": {},
   "source": [
    "##### **Q10: How do you implement the forward pass of the Encoder to generate a sequence of hidden states instead of a single context vector?**\n"
   ]
  },
  {
   "cell_type": "code",
   "execution_count": 123,
   "metadata": {},
   "outputs": [],
   "source": [
    "# See the forward pass above, i.e.,\n",
    "# def forward(self, x, x_lengths):\n",
    "#     embedded = self.embedding(x)\n",
    "#     packed_embedded = nn.utils.rnn.pack_padded_sequence(embedded, x_lengths, batch_first=True, enforce_sorted=False)\n",
    "#     packed_outputs, hidden = self.rnn(packed_embedded)\n",
    "#     outputs, _ = nn.utils.rnn.pad_packed_sequence(packed_outputs, batch_first=True)\n",
    "#     return outputs, hidden"
   ]
  },
  {
   "cell_type": "markdown",
   "metadata": {},
   "source": [
    "##### **Q11: How do you specify the number of hidden units and layers in the Encoder, and how does this affect performance?**"
   ]
  },
  {
   "cell_type": "code",
   "execution_count": 124,
   "metadata": {},
   "outputs": [],
   "source": [
    "input_dim = len(source_vocab)\n",
    "embed_dim = 128\n",
    "hidden_dim = 256\n",
    "num_layers = 1\n",
    "\n",
    "encoder = Encoder(input_dim, embed_dim, hidden_dim, num_layers).to(device)"
   ]
  },
  {
   "cell_type": "markdown",
   "metadata": {},
   "source": [
    "## Building the Attention mechanism\n"
   ]
  },
  {
   "cell_type": "markdown",
   "metadata": {},
   "source": [
    "##### **Q12: How do you implement the attention mechanism to calculate attention scores between encoder hidden states and the decoder's current hidden state?**\n"
   ]
  },
  {
   "cell_type": "code",
   "execution_count": 125,
   "metadata": {},
   "outputs": [],
   "source": [
    "class Attention(nn.Module):\n",
    "    def __init__(self, hidden_dim):\n",
    "        super(Attention, self).__init__()\n",
    "        self.attn = nn.Linear(hidden_dim * 3, hidden_dim)\n",
    "        self.v = nn.Linear(hidden_dim, 1, bias=False)\n",
    "\n",
    "    def forward(self, hidden, encoder_outputs, mask):\n",
    "        seq_len = encoder_outputs.size(1)\n",
    "        hidden = hidden.unsqueeze(1).repeat(1, seq_len, 1)\n",
    "        energy = torch.tanh(self.attn(torch.cat((hidden, encoder_outputs), dim=2)))\n",
    "        attention = self.v(energy).squeeze(2)\n",
    "        attention = attention.masked_fill(mask == 0, -1e10)\n",
    "        return torch.softmax(attention, dim=1)"
   ]
  },
  {
   "cell_type": "markdown",
   "metadata": {},
   "source": [
    "##### **Q13: How do you define the attention scoring function (e.g., dot product, additive) to compute the relevance of each input token during decoding?**\n"
   ]
  },
  {
   "cell_type": "code",
   "execution_count": 126,
   "metadata": {},
   "outputs": [],
   "source": [
    "# See forward pass above, i.e.,\n",
    "# energy = torch.tanh(self.attn(torch.cat((hidden, encoder_outputs), dim=2)))\n",
    "# attention = self.v(energy).squeeze(2)"
   ]
  },
  {
   "cell_type": "markdown",
   "metadata": {},
   "source": [
    "##### **Q14: How do you apply the attention weights to compute a context vector for each decoding step?**"
   ]
  },
  {
   "cell_type": "code",
   "execution_count": 127,
   "metadata": {},
   "outputs": [],
   "source": [
    "def apply_attention(attention_weights, encoder_outputs):\n",
    "    attention_weights = attention_weights.unsqueeze(1)\n",
    "    context = torch.bmm(attention_weights, encoder_outputs)\n",
    "    context = context.squeeze(1)\n",
    "    return context"
   ]
  },
  {
   "cell_type": "markdown",
   "metadata": {},
   "source": [
    "## Building the Decoder model with Attention\n"
   ]
  },
  {
   "cell_type": "markdown",
   "metadata": {},
   "source": [
    "##### **Q15: How do you modify the Decoder model to include the attention mechanism in its architecture?**\n"
   ]
  },
  {
   "cell_type": "code",
   "execution_count": 128,
   "metadata": {},
   "outputs": [],
   "source": [
    "class Decoder(nn.Module):\n",
    "    def __init__(self, output_dim, embed_dim, hidden_dim, num_layers, attention):\n",
    "        super(Decoder, self).__init__()\n",
    "        self.embedding = nn.Embedding(output_dim, embed_dim, padding_idx=target_vocab['<PAD>'])\n",
    "        self.rnn = nn.GRU(embed_dim + hidden_dim * 2, hidden_dim, num_layers, batch_first=True)\n",
    "        self.fc = nn.Linear(hidden_dim * 3, output_dim)\n",
    "        self.attention = attention\n",
    "\n",
    "    def forward(self, input_token, hidden, encoder_outputs, mask):\n",
    "        input_token = input_token.unsqueeze(1)\n",
    "        embedded = self.embedding(input_token)\n",
    "        attention_weights = self.attention(hidden[-1], encoder_outputs, mask)\n",
    "        context = apply_attention(attention_weights, encoder_outputs)\n",
    "        rnn_input = torch.cat((embedded, context.unsqueeze(1)), dim=2)\n",
    "        output, hidden = self.rnn(rnn_input, hidden)\n",
    "        output = output.squeeze(1)\n",
    "        output = torch.cat((output, context), dim=1)\n",
    "        prediction = self.fc(output)\n",
    "        return prediction, hidden, attention_weights"
   ]
  },
  {
   "cell_type": "markdown",
   "metadata": {},
   "source": [
    "##### **Q16: How do you implement the forward pass of the Decoder with attention, using the context vector and hidden state to generate each output token?**\n"
   ]
  },
  {
   "cell_type": "code",
   "execution_count": 129,
   "metadata": {},
   "outputs": [],
   "source": [
    "# See forward pass above, i.e.,\n",
    "# def forward(self, input_token, hidden, encoder_outputs, mask):\n",
    "#     input_token = input_token.unsqueeze(1)\n",
    "#     embedded = self.embedding(input_token)\n",
    "#     attention_weights = self.attention(hidden[-1], encoder_outputs, mask)\n",
    "#     context = apply_attention(attention_weights, encoder_outputs)\n",
    "#     rnn_input = torch.cat((embedded, context.unsqueeze(1)), dim=2)\n",
    "#     output, hidden = self.rnn(rnn_input, hidden)\n",
    "#     output = output.squeeze(1)\n",
    "#     output = torch.cat((output, context), dim=1)\n",
    "#     prediction = self.fc(output)\n",
    "#     return prediction, hidden, attention_weights"
   ]
  },
  {
   "cell_type": "markdown",
   "metadata": {},
   "source": [
    "##### **Q17: How do you use `nn.Linear` and `nn.Softmax` layers in the Decoder to convert the attention-weighted hidden state into predicted tokens?**"
   ]
  },
  {
   "cell_type": "code",
   "execution_count": 130,
   "metadata": {},
   "outputs": [],
   "source": [
    "# self.fc = nn.Linear(hidden_dim * 3, output_dim)\n",
    "# prediction = self.fc(output)"
   ]
  },
  {
   "cell_type": "markdown",
   "metadata": {},
   "source": [
    "## Combining Encoder and Decoder into an Attention seq2seq model\n"
   ]
  },
  {
   "cell_type": "markdown",
   "metadata": {},
   "source": [
    "##### **Q18: How do you combine the Encoder and Decoder models into a complete seq2seq model with attention?**\n"
   ]
  },
  {
   "cell_type": "code",
   "execution_count": 131,
   "metadata": {},
   "outputs": [],
   "source": [
    "class Seq2Seq(nn.Module):\n",
    "    def __init__(self, encoder, decoder, device):\n",
    "        super(Seq2Seq, self).__init__()\n",
    "        self.encoder = encoder\n",
    "        self.decoder = decoder\n",
    "        self.device = device\n",
    "\n",
    "    def create_mask(self, src):  # Generates a mask to ignore padding tokens in attention computations\n",
    "        mask = (src != source_vocab['<PAD>']).to(self.device)\n",
    "        return mask\n",
    "\n",
    "    def forward(self, source, source_lengths, target, teacher_forcing_ratio=0.5):\n",
    "        batch_size = source.size(0)\n",
    "        target_len = target.size(1)\n",
    "        target_vocab_size = self.decoder.embedding.num_embeddings\n",
    "\n",
    "        outputs = torch.zeros(batch_size, target_len, target_vocab_size).to(self.device)\n",
    "        encoder_outputs, hidden = self.encoder(source, source_lengths)\n",
    "\n",
    "        hidden = hidden[:self.decoder.rnn.num_layers]\n",
    "        input_token = target[:, 0]\n",
    "        mask = self.create_mask(source)\n",
    "\n",
    "        for t in range(1, target_len):\n",
    "            output, hidden, _ = self.decoder(input_token, hidden, encoder_outputs, mask)\n",
    "            outputs[:, t] = output\n",
    "            teacher_force = random.random() < teacher_forcing_ratio\n",
    "            top1 = output.argmax(1)\n",
    "            input_token = target[:, t] if teacher_force else top1\n",
    "\n",
    "        return outputs"
   ]
  },
  {
   "cell_type": "markdown",
   "metadata": {},
   "source": [
    "##### **Q19: How do you implement teacher forcing in the training loop to improve the performance of the attention-based seq2seq model?**\n"
   ]
  },
  {
   "cell_type": "code",
   "execution_count": 132,
   "metadata": {},
   "outputs": [],
   "source": [
    "# In the forward pass above:\n",
    "# teacher_force = random.random() < teacher_forcing_ratio\n",
    "# input_token = target[:, t] if teacher_force else top1"
   ]
  },
  {
   "cell_type": "markdown",
   "metadata": {},
   "source": [
    "##### **Q20: How do you implement the forward pass of the complete attention-based seq2seq model, using the context vector and attention weights at each decoding step?**"
   ]
  },
  {
   "cell_type": "code",
   "execution_count": 133,
   "metadata": {},
   "outputs": [],
   "source": [
    "# See forward pass above, i.e.,\n",
    "# def forward(self, source, source_lengths, target, teacher_forcing_ratio=0.5):\n",
    "#     batch_size = source.size(0)\n",
    "#     target_len = target.size(1)\n",
    "#     target_vocab_size = self.decoder.embedding.num_embeddings\n",
    "\n",
    "#     outputs = torch.zeros(batch_size, target_len, target_vocab_size).to(self.device)\n",
    "#     encoder_outputs, hidden = self.encoder(source, source_lengths)\n",
    "\n",
    "#     hidden = hidden[:self.decoder.rnn.num_layers]\n",
    "#     input_token = target[:, 0]\n",
    "#     mask = self.create_mask(source)\n",
    "\n",
    "#     for t in range(1, target_len):\n",
    "#         output, hidden, _ = self.decoder(input_token, hidden, encoder_outputs, mask)\n",
    "#         outputs[:, t] = output\n",
    "#         teacher_force = random.random() < teacher_forcing_ratio\n",
    "#         top1 = output.argmax(1)\n",
    "#         input_token = target[:, t] if teacher_force else top1\n",
    "\n",
    "#     return outputs"
   ]
  },
  {
   "cell_type": "markdown",
   "metadata": {},
   "source": [
    "## Training the Attention seq2seq model\n"
   ]
  },
  {
   "cell_type": "markdown",
   "metadata": {},
   "source": [
    "##### **Q21: How do you define the loss function (e.g., CrossEntropyLoss) to measure the difference between the predicted and actual target sequences?**\n"
   ]
  },
  {
   "cell_type": "code",
   "execution_count": 134,
   "metadata": {},
   "outputs": [],
   "source": [
    "criterion = nn.CrossEntropyLoss(ignore_index=target_vocab['<PAD>'])"
   ]
  },
  {
   "cell_type": "markdown",
   "metadata": {},
   "source": [
    "##### **Q22: How do you configure the optimizer (e.g., Adam) to update the parameters of both the Encoder and Decoder models during training?**\n"
   ]
  },
  {
   "cell_type": "code",
   "execution_count": 135,
   "metadata": {},
   "outputs": [],
   "source": [
    "input_dim = len(source_vocab)\n",
    "output_dim = len(target_vocab)\n",
    "embed_dim = 128\n",
    "hidden_dim = 256\n",
    "num_layers = 1\n",
    "\n",
    "encoder = Encoder(input_dim, embed_dim, hidden_dim, num_layers).to(device)\n",
    "attention = Attention(hidden_dim).to(device)\n",
    "decoder = Decoder(output_dim, embed_dim, hidden_dim, num_layers, attention).to(device)\n",
    "seq2seq_model = Seq2Seq(encoder, decoder, device).to(device)"
   ]
  },
  {
   "cell_type": "code",
   "execution_count": 136,
   "metadata": {},
   "outputs": [],
   "source": [
    "optimizer = optim.Adam(seq2seq_model.parameters(), lr=0.001)"
   ]
  },
  {
   "cell_type": "markdown",
   "metadata": {},
   "source": [
    "##### **Q23: How do you implement the training loop, including forward pass, loss calculation, backpropagation, and logging of the training loss?**\n"
   ]
  },
  {
   "cell_type": "code",
   "execution_count": 137,
   "metadata": {},
   "outputs": [],
   "source": [
    "def train(model, iterator, optimizer, criterion, clip, teacher_forcing_ratio):\n",
    "    model.train()\n",
    "    epoch_loss = 0\n",
    "    for source_batch, target_batch, source_lengths, _ in iterator:\n",
    "        source_batch = source_batch.to(device)\n",
    "        target_batch = target_batch.to(device)\n",
    "        if isinstance(source_lengths, torch.Tensor):\n",
    "            source_lengths = source_lengths.tolist()\n",
    "        source_lengths = torch.tensor(source_lengths, dtype=torch.long)\n",
    "\n",
    "        optimizer.zero_grad()\n",
    "        output = model(source_batch, source_lengths, target_batch, teacher_forcing_ratio)\n",
    "\n",
    "        output_dim = output.shape[-1]\n",
    "        output = output[:, 1:].reshape(-1, output_dim)\n",
    "        target = target_batch[:, 1:].reshape(-1)\n",
    "\n",
    "        loss = criterion(output, target)\n",
    "        loss.backward()\n",
    "\n",
    "        torch.nn.utils.clip_grad_norm_(model.parameters(), clip)\n",
    "        optimizer.step()\n",
    "\n",
    "        epoch_loss += loss.item()\n",
    "    return epoch_loss / len(iterator)"
   ]
  },
  {
   "cell_type": "markdown",
   "metadata": {},
   "source": [
    "##### **Q24: How do you monitor and log the loss during training to ensure the model is converging and learning effectively?**"
   ]
  },
  {
   "cell_type": "code",
   "execution_count": 138,
   "metadata": {},
   "outputs": [
    {
     "name": "stdout",
     "output_type": "stream",
     "text": [
      "Epoch [1/10], Train Loss: 2.6040\n",
      "Epoch [2/10], Train Loss: 1.8707\n",
      "Epoch [3/10], Train Loss: 1.6806\n",
      "Epoch [4/10], Train Loss: 1.5834\n",
      "Epoch [5/10], Train Loss: 1.5192\n",
      "Epoch [6/10], Train Loss: 1.4767\n",
      "Epoch [7/10], Train Loss: 1.4461\n",
      "Epoch [8/10], Train Loss: 1.4217\n",
      "Epoch [9/10], Train Loss: 1.4046\n",
      "Epoch [10/10], Train Loss: 1.3959\n"
     ]
    }
   ],
   "source": [
    "num_epochs = 10\n",
    "clip = 1.0\n",
    "teacher_forcing_ratio = 0.5\n",
    "train_losses = []\n",
    "\n",
    "for epoch in range(num_epochs):\n",
    "    train_loss = train(seq2seq_model, train_loader, optimizer, criterion, clip, teacher_forcing_ratio)\n",
    "    train_losses.append(train_loss)\n",
    "    print(f'Epoch [{epoch+1}/{num_epochs}], Train Loss: {train_loss:.4f}')"
   ]
  },
  {
   "cell_type": "code",
   "execution_count": 139,
   "metadata": {},
   "outputs": [
    {
     "data": {
      "image/png": "[encoded data removed]",
      "text/plain": [
       "<Figure size 640x480 with 1 Axes>"
      ]
     },
     "metadata": {},
     "output_type": "display_data"
    }
   ],
   "source": [
    "plt.figure()\n",
    "plt.plot(range(1, num_epochs+1), train_losses, label='Training Loss')\n",
    "plt.xlabel('Epoch')\n",
    "plt.ylabel('Loss')\n",
    "plt.title('Training Loss per Epoch')\n",
    "plt.legend()\n",
    "plt.show()"
   ]
  },
  {
   "cell_type": "markdown",
   "metadata": {},
   "source": [
    "## Evaluating the Attention seq2seq model\n"
   ]
  },
  {
   "cell_type": "markdown",
   "metadata": {},
   "source": [
    "##### **Q25: How do you evaluate the attention-based seq2seq model on a validation set using metrics such as BLEU score?**\n"
   ]
  },
  {
   "cell_type": "code",
   "execution_count": 140,
   "metadata": {},
   "outputs": [],
   "source": [
    "def evaluate_bleu(model, iterator):\n",
    "    model.eval()\n",
    "    references = []\n",
    "    hypotheses = []\n",
    "    with torch.no_grad():\n",
    "        for source_batch, target_batch, source_lengths, _ in iterator:\n",
    "            source_batch = source_batch.to(device)\n",
    "            target_batch = target_batch.to(device)\n",
    "            if isinstance(source_lengths, torch.Tensor):\n",
    "                source_lengths = source_lengths.tolist()\n",
    "            source_lengths = torch.tensor(source_lengths, dtype=torch.long)\n",
    "\n",
    "            encoder_outputs, hidden = model.encoder(source_batch, source_lengths)\n",
    "            hidden = hidden[:model.decoder.rnn.num_layers]\n",
    "            input_token = torch.tensor([target_vocab['<SOS>']] * source_batch.size(0)).to(device)\n",
    "            mask = model.create_mask(source_batch)\n",
    "            batch_hypotheses = [[] for _ in range(source_batch.size(0))]\n",
    "            max_len = target_batch.size(1)\n",
    "            for _ in range(max_len):\n",
    "                output, hidden, _ = model.decoder(input_token, hidden, encoder_outputs, mask)\n",
    "                top1 = output.argmax(1)\n",
    "                input_token = top1\n",
    "                for i in range(source_batch.size(0)):\n",
    "                    token = top1[i].item()\n",
    "                    if token != target_vocab['<EOS>'] and token != target_vocab['<PAD>']:\n",
    "                        batch_hypotheses[i].append(inv_target_vocab.get(token, '<UNK>'))\n",
    "            for i in range(source_batch.size(0)):\n",
    "                target_sentence = target_batch[i].cpu().numpy()\n",
    "                target_tokens = [inv_target_vocab.get(token, '<UNK>') for token in target_sentence if token not in (target_vocab['<SOS>'], target_vocab['<EOS>'], target_vocab['<PAD>'])]\n",
    "                references.append([target_tokens])\n",
    "                hypotheses.append(batch_hypotheses[i])\n",
    "    bleu_score = corpus_bleu(references, hypotheses)\n",
    "    return bleu_score"
   ]
  },
  {
   "cell_type": "markdown",
   "metadata": {},
   "source": [
    "##### **Q26: How do you calculate the BLEU score to assess the quality of the translations produced by the model?**\n"
   ]
  },
  {
   "cell_type": "code",
   "execution_count": 141,
   "metadata": {},
   "outputs": [
    {
     "name": "stdout",
     "output_type": "stream",
     "text": [
      "Validation BLEU Score: 0.3139\n"
     ]
    }
   ],
   "source": [
    "valid_bleu = evaluate_bleu(seq2seq_model, val_loader)\n",
    "print(f'Validation BLEU Score: {valid_bleu:.4f}')"
   ]
  },
  {
   "cell_type": "markdown",
   "metadata": {},
   "source": [
    "##### **Q27: How do you compare the performance of the attention-based seq2seq model with a vanilla seq2seq model without attention?**"
   ]
  },
  {
   "cell_type": "code",
   "execution_count": 143,
   "metadata": {},
   "outputs": [],
   "source": [
    "class DecoderWithoutAttention(nn.Module):\n",
    "    def __init__(self, output_dim, embed_dim, hidden_dim, num_layers):\n",
    "        super(DecoderWithoutAttention, self).__init__()\n",
    "        self.embedding = nn.Embedding(output_dim, embed_dim, padding_idx=target_vocab['<PAD>'])\n",
    "        self.rnn = nn.GRU(embed_dim, hidden_dim, num_layers, batch_first=True)\n",
    "        self.fc = nn.Linear(hidden_dim, output_dim)\n",
    "\n",
    "    def forward(self, input_token, hidden):\n",
    "        input_token = input_token.unsqueeze(1)\n",
    "        embedded = self.embedding(input_token)\n",
    "        output, hidden = self.rnn(embedded, hidden)\n",
    "        prediction = self.fc(output.squeeze(1))\n",
    "        return prediction, hidden"
   ]
  },
  {
   "cell_type": "code",
   "execution_count": 144,
   "metadata": {},
   "outputs": [],
   "source": [
    "encoder_wo_attention = Encoder(input_dim, embed_dim, hidden_dim, num_layers).to(device)\n",
    "decoder_wo_attention = DecoderWithoutAttention(output_dim, embed_dim, hidden_dim, num_layers).to(device)"
   ]
  },
  {
   "cell_type": "code",
   "execution_count": 145,
   "metadata": {},
   "outputs": [],
   "source": [
    "class Seq2SeqWithoutAttention(nn.Module):\n",
    "    def __init__(self, encoder, decoder, device):\n",
    "        super(Seq2SeqWithoutAttention, self).__init__()\n",
    "        self.encoder = encoder\n",
    "        self.decoder = decoder\n",
    "        self.device = device\n",
    "\n",
    "    def forward(self, source, source_lengths, target, teacher_forcing_ratio=0.5):\n",
    "        batch_size = source.size(0)\n",
    "        target_len = target.size(1)\n",
    "        target_vocab_size = self.decoder.embedding.num_embeddings\n",
    "\n",
    "        outputs = torch.zeros(batch_size, target_len, target_vocab_size).to(self.device)\n",
    "        encoder_outputs, hidden = self.encoder(source, source_lengths)\n",
    "\n",
    "        hidden = hidden[:self.decoder.rnn.num_layers]  # Since the encoder is bidirectional, we need to combine the hidden states\n",
    "        input_token = target[:, 0]\n",
    "\n",
    "        for t in range(1, target_len):\n",
    "            output, hidden = self.decoder(input_token, hidden)\n",
    "            outputs[:, t] = output\n",
    "            teacher_force = random.random() < teacher_forcing_ratio\n",
    "            top1 = output.argmax(1)\n",
    "            input_token = target[:, t] if teacher_force else top1\n",
    "\n",
    "        return outputs"
   ]
  },
  {
   "cell_type": "code",
   "execution_count": 146,
   "metadata": {},
   "outputs": [
    {
     "name": "stdout",
     "output_type": "stream",
     "text": [
      "Epoch [1/10], Train Loss: 9.2272\n",
      "Epoch [2/10], Train Loss: 9.2272\n",
      "Epoch [3/10], Train Loss: 9.2272\n",
      "Epoch [4/10], Train Loss: 9.2272\n",
      "Epoch [5/10], Train Loss: 9.2273\n",
      "Epoch [6/10], Train Loss: 9.2272\n",
      "Epoch [7/10], Train Loss: 9.2272\n",
      "Epoch [8/10], Train Loss: 9.2272\n",
      "Epoch [9/10], Train Loss: 9.2271\n",
      "Epoch [10/10], Train Loss: 9.2271\n"
     ]
    }
   ],
   "source": [
    "seq2seq_model_wo_attention = Seq2SeqWithoutAttention(encoder_wo_attention, decoder_wo_attention, device).to(device)\n",
    "\n",
    "num_epochs = 10\n",
    "clip = 1.0\n",
    "teacher_forcing_ratio = 0.5\n",
    "train_losses = []\n",
    "\n",
    "for epoch in range(num_epochs):\n",
    "    train_loss = train(seq2seq_model_wo_attention, train_loader, optimizer, criterion, clip, teacher_forcing_ratio)\n",
    "    train_losses.append(train_loss)\n",
    "    print(f'Epoch [{epoch+1}/{num_epochs}], Train Loss: {train_loss:.4f}')"
   ]
  },
  {
   "cell_type": "markdown",
   "metadata": {},
   "source": [
    "## Visualizing Attention weights\n"
   ]
  },
  {
   "cell_type": "markdown",
   "metadata": {},
   "source": [
    "##### **Q28: How do you visualize the attention weights for specific input-output pairs using a heatmap?**\n"
   ]
  },
  {
   "cell_type": "code",
   "execution_count": 155,
   "metadata": {},
   "outputs": [],
   "source": [
    "import seaborn as sns\n",
    "import matplotlib.ticker as ticker\n",
    "\n",
    "def visualize_attention(source_tokens, translated_tokens, attentions):\n",
    "    import matplotlib.pyplot as plt\n",
    "    import seaborn as sns\n",
    "    import numpy as np\n",
    "\n",
    "    sns.set()\n",
    "    fig, ax = plt.subplots(figsize=(10, 8))\n",
    "    attention = attentions[:len(translated_tokens), :len(source_tokens)+2]\n",
    "    sns.heatmap(attention, \n",
    "                xticklabels=['<SOS>'] + source_tokens + ['<EOS>'], \n",
    "                yticklabels=translated_tokens, \n",
    "                ax=ax)\n",
    "    ax.set_xlabel('Source Sentence')\n",
    "    ax.set_ylabel('Translated Sentence')\n",
    "    plt.xticks(rotation=45)\n",
    "    plt.show()"
   ]
  },
  {
   "cell_type": "code",
   "execution_count": 156,
   "metadata": {},
   "outputs": [],
   "source": [
    "def translate_sentence(model, sentence, source_vocab, target_vocab, inv_target_vocab, max_len=50):\n",
    "    model.eval()\n",
    "    tokens = tokenize(sentence)\n",
    "    indexes = [source_vocab['<SOS>']] + [source_vocab.get(word, source_vocab['<UNK>']) for word in tokens] + [source_vocab['<EOS>']]\n",
    "    src_tensor = torch.tensor(indexes).unsqueeze(0).to(device)\n",
    "    src_length = torch.tensor([len(indexes)], dtype=torch.long)\n",
    "\n",
    "    with torch.no_grad():\n",
    "        encoder_outputs, hidden = model.encoder(src_tensor, src_length)\n",
    "        hidden = hidden[:model.decoder.rnn.num_layers]\n",
    "        input_token = torch.tensor([target_vocab['<SOS>']]).to(device)\n",
    "        mask = model.create_mask(src_tensor)\n",
    "        attentions = torch.zeros(max_len, len(indexes)).to(device)\n",
    "        translated_tokens = []\n",
    "        for t in range(max_len):\n",
    "            output, hidden, attention_weights = model.decoder(input_token, hidden, encoder_outputs, mask)\n",
    "            attentions[t] = attention_weights\n",
    "            top1 = output.argmax(1)\n",
    "            token = top1.item()\n",
    "            if token == target_vocab['<EOS>']:\n",
    "                break\n",
    "            translated_tokens.append(inv_target_vocab.get(token, '<UNK>'))\n",
    "            input_token = top1\n",
    "        attentions = attentions[:t+1]\n",
    "    return translated_tokens, attentions.cpu().detach().numpy()"
   ]
  },
  {
   "cell_type": "code",
   "execution_count": 157,
   "metadata": {},
   "outputs": [
    {
     "name": "stdout",
     "output_type": "stream",
     "text": [
      "Source Sentence: are you envious?\n",
      "Target Sentence: êtes-vous jalouse ?\n"
     ]
    }
   ],
   "source": [
    "example_idx = 0  # Change the index to select different examples\n",
    "source_tokens = val_data[example_idx][0]\n",
    "target_tokens = val_data[example_idx][1]\n",
    "\n",
    "source_sentence = ' '.join(source_tokens)\n",
    "target_sentence = ' '.join(target_tokens)\n",
    "\n",
    "print(f\"Source Sentence: {source_sentence}\")\n",
    "print(f\"Target Sentence: {target_sentence}\")"
   ]
  },
  {
   "cell_type": "code",
   "execution_count": 158,
   "metadata": {},
   "outputs": [
    {
     "name": "stdout",
     "output_type": "stream",
     "text": [
      "Translated Sentence: es-tu <UNK> ?\n"
     ]
    },
    {
     "data": {
      "image/png": "[encoded data removed]",
      "text/plain": [
       "<Figure size 1000x800 with 2 Axes>"
      ]
     },
     "metadata": {},
     "output_type": "display_data"
    }
   ],
   "source": [
    "translated_tokens, attentions = translate_sentence(seq2seq_model, source_sentence, source_vocab, target_vocab, inv_target_vocab)  # Translate the sentence and get attention weights\n",
    "\n",
    "print(f\"Translated Sentence: {' '.join(translated_tokens)}\")\n",
    "\n",
    "visualize_attention(source_tokens, translated_tokens, attentions)  # Visualize attention"
   ]
  },
  {
   "cell_type": "markdown",
   "metadata": {},
   "source": [
    "##### **Q29: How do you interpret the attention heatmap to understand which parts of the input sequence the model focused on during translation?**\n"
   ]
  },
  {
   "cell_type": "code",
   "execution_count": null,
   "metadata": {},
   "outputs": [],
   "source": [
    "# High attention weights (darker colors) indicate that the model focused on those input tokens when generating a particular output token."
   ]
  },
  {
   "cell_type": "markdown",
   "metadata": {},
   "source": [
    "##### **Q30: How do you extract the attention weights from the Decoder to analyze how the model's attention changes across decoding steps?**"
   ]
  },
  {
   "cell_type": "code",
   "execution_count": 161,
   "metadata": {},
   "outputs": [
    {
     "name": "stdout",
     "output_type": "stream",
     "text": [
      "Source Sentence: are you envious?\n",
      "Target Sentence: êtes-vous jalouse ?\n"
     ]
    }
   ],
   "source": [
    "example_idx = 0  # Adjust as needed\n",
    "source_tokens = val_data[example_idx][0]\n",
    "target_tokens = val_data[example_idx][1]\n",
    "\n",
    "source_sentence = ' '.join(source_tokens)\n",
    "target_sentence = ' '.join(target_tokens)\n",
    "\n",
    "print(f\"Source Sentence: {source_sentence}\")\n",
    "print(f\"Target Sentence: {target_sentence}\")"
   ]
  },
  {
   "cell_type": "code",
   "execution_count": 162,
   "metadata": {},
   "outputs": [
    {
     "name": "stdout",
     "output_type": "stream",
     "text": [
      "Translated Sentence: es-tu <UNK> ?\n"
     ]
    },
    {
     "data": {
      "image/png": "[encoded data removed]",
      "text/plain": [
       "<Figure size 1000x800 with 2 Axes>"
      ]
     },
     "metadata": {},
     "output_type": "display_data"
    }
   ],
   "source": [
    "translated_tokens, attentions = translate_sentence(seq2seq_model, source_sentence, source_vocab, target_vocab, inv_target_vocab)\n",
    "\n",
    "print(f\"Translated Sentence: {' '.join(translated_tokens)}\")\n",
    "\n",
    "visualize_attention(source_tokens, translated_tokens, attentions)"
   ]
  },
  {
   "cell_type": "code",
   "execution_count": 163,
   "metadata": {},
   "outputs": [
    {
     "name": "stdout",
     "output_type": "stream",
     "text": [
      "Length of source_tokens_with_special: 5\n",
      "Shape of attentions: (4, 5)\n"
     ]
    }
   ],
   "source": [
    "source_tokens_with_special = ['<SOS>'] + source_tokens + ['<EOS>']\n",
    "\n",
    "print(f\"Length of source_tokens_with_special: {len(source_tokens_with_special)}\")\n",
    "print(f\"Shape of attentions: {attentions.shape}\")"
   ]
  },
  {
   "cell_type": "code",
   "execution_count": 165,
   "metadata": {},
   "outputs": [
    {
     "name": "stdout",
     "output_type": "stream",
     "text": [
      "At target word 'es-tu', model attended most to source word '<EOS>' with weight 0.3278\n",
      "At target word '<UNK>', model attended most to source word 'envious?' with weight 0.3718\n",
      "At target word '?', model attended most to source word '<EOS>' with weight 0.4594\n"
     ]
    }
   ],
   "source": [
    "for t_idx, t_word in enumerate(translated_tokens):\n",
    "    attn_weights = attentions[t_idx]\n",
    "    max_src_idx = np.argmax(attn_weights)\n",
    "    src_word = source_tokens_with_special[max_src_idx]\n",
    "    print(f\"At target word '{t_word}', model attended most to source word '{src_word}' with weight {attn_weights[max_src_idx]:.4f}\")"
   ]
  },
  {
   "cell_type": "markdown",
   "metadata": {},
   "source": [
    "## Experimenting with hyperparameters\n"
   ]
  },
  {
   "cell_type": "markdown",
   "metadata": {},
   "source": [
    "##### **Q31: How do you adjust the learning rate and observe its effect on the stability and performance of the attention-based seq2seq model?**\n"
   ]
  },
  {
   "cell_type": "code",
   "execution_count": 179,
   "metadata": {},
   "outputs": [
    {
     "name": "stdout",
     "output_type": "stream",
     "text": [
      "\n",
      "Training with learning rate: 0.01\n"
     ]
    },
    {
     "ename": "OutOfMemoryError",
     "evalue": "CUDA out of memory. Tried to allocate 30.00 MiB. GPU 0 has a total capacity of 3.80 GiB of which 37.81 MiB is free. Including non-PyTorch memory, this process has 3.52 GiB memory in use. Of the allocated memory 3.37 GiB is allocated by PyTorch, and 52.76 MiB is reserved by PyTorch but unallocated. If reserved but unallocated memory is large try setting PYTORCH_CUDA_ALLOC_CONF=expandable_segments:True to avoid fragmentation.  See documentation for Memory Management  (https://pytorch.org/docs/stable/notes/cuda.html#environment-variables)",
     "output_type": "error",
     "traceback": [
      "\u001b[0;31m---------------------------------------------------------------------------\u001b[0m",
      "\u001b[0;31mOutOfMemoryError\u001b[0m                          Traceback (most recent call last)",
      "Cell \u001b[0;32mIn[179], line 17\u001b[0m\n\u001b[1;32m     14\u001b[0m train_losses \u001b[38;5;241m=\u001b[39m []\n\u001b[1;32m     16\u001b[0m \u001b[38;5;28;01mfor\u001b[39;00m epoch \u001b[38;5;129;01min\u001b[39;00m \u001b[38;5;28mrange\u001b[39m(num_epochs):\n\u001b[0;32m---> 17\u001b[0m     train_loss \u001b[38;5;241m=\u001b[39m train(seq2seq_model, train_loader, optimizer, criterion, clip, teacher_forcing_ratio)\n\u001b[1;32m     18\u001b[0m     train_losses\u001b[38;5;241m.\u001b[39mappend(train_loss)\n\u001b[1;32m     19\u001b[0m     \u001b[38;5;28mprint\u001b[39m(\u001b[38;5;124mf\u001b[39m\u001b[38;5;124m'\u001b[39m\u001b[38;5;124mEpoch [\u001b[39m\u001b[38;5;132;01m{\u001b[39;00mepoch\u001b[38;5;241m+\u001b[39m\u001b[38;5;241m1\u001b[39m\u001b[38;5;132;01m}\u001b[39;00m\u001b[38;5;124m/\u001b[39m\u001b[38;5;132;01m{\u001b[39;00mnum_epochs\u001b[38;5;132;01m}\u001b[39;00m\u001b[38;5;124m], Loss: \u001b[39m\u001b[38;5;132;01m{\u001b[39;00mtrain_loss\u001b[38;5;132;01m:\u001b[39;00m\u001b[38;5;124m.4f\u001b[39m\u001b[38;5;132;01m}\u001b[39;00m\u001b[38;5;124m'\u001b[39m)\n",
      "Cell \u001b[0;32mIn[137], line 19\u001b[0m, in \u001b[0;36mtrain\u001b[0;34m(model, iterator, optimizer, criterion, clip, teacher_forcing_ratio)\u001b[0m\n\u001b[1;32m     16\u001b[0m target \u001b[38;5;241m=\u001b[39m target_batch[:, \u001b[38;5;241m1\u001b[39m:]\u001b[38;5;241m.\u001b[39mreshape(\u001b[38;5;241m-\u001b[39m\u001b[38;5;241m1\u001b[39m)\n\u001b[1;32m     18\u001b[0m loss \u001b[38;5;241m=\u001b[39m criterion(output, target)\n\u001b[0;32m---> 19\u001b[0m loss\u001b[38;5;241m.\u001b[39mbackward()\n\u001b[1;32m     21\u001b[0m torch\u001b[38;5;241m.\u001b[39mnn\u001b[38;5;241m.\u001b[39mutils\u001b[38;5;241m.\u001b[39mclip_grad_norm_(model\u001b[38;5;241m.\u001b[39mparameters(), clip)\n\u001b[1;32m     22\u001b[0m optimizer\u001b[38;5;241m.\u001b[39mstep()\n",
      "File \u001b[0;32m~/anaconda3/lib/python3.11/site-packages/torch/_tensor.py:581\u001b[0m, in \u001b[0;36mTensor.backward\u001b[0;34m(self, gradient, retain_graph, create_graph, inputs)\u001b[0m\n\u001b[1;32m    571\u001b[0m \u001b[38;5;28;01mif\u001b[39;00m has_torch_function_unary(\u001b[38;5;28mself\u001b[39m):\n\u001b[1;32m    572\u001b[0m     \u001b[38;5;28;01mreturn\u001b[39;00m handle_torch_function(\n\u001b[1;32m    573\u001b[0m         Tensor\u001b[38;5;241m.\u001b[39mbackward,\n\u001b[1;32m    574\u001b[0m         (\u001b[38;5;28mself\u001b[39m,),\n\u001b[0;32m   (...)\u001b[0m\n\u001b[1;32m    579\u001b[0m         inputs\u001b[38;5;241m=\u001b[39minputs,\n\u001b[1;32m    580\u001b[0m     )\n\u001b[0;32m--> 581\u001b[0m torch\u001b[38;5;241m.\u001b[39mautograd\u001b[38;5;241m.\u001b[39mbackward(\n\u001b[1;32m    582\u001b[0m     \u001b[38;5;28mself\u001b[39m, gradient, retain_graph, create_graph, inputs\u001b[38;5;241m=\u001b[39minputs\n\u001b[1;32m    583\u001b[0m )\n",
      "File \u001b[0;32m~/anaconda3/lib/python3.11/site-packages/torch/autograd/__init__.py:347\u001b[0m, in \u001b[0;36mbackward\u001b[0;34m(tensors, grad_tensors, retain_graph, create_graph, grad_variables, inputs)\u001b[0m\n\u001b[1;32m    342\u001b[0m     retain_graph \u001b[38;5;241m=\u001b[39m create_graph\n\u001b[1;32m    344\u001b[0m \u001b[38;5;66;03m# The reason we repeat the same comment below is that\u001b[39;00m\n\u001b[1;32m    345\u001b[0m \u001b[38;5;66;03m# some Python versions print out the first line of a multi-line function\u001b[39;00m\n\u001b[1;32m    346\u001b[0m \u001b[38;5;66;03m# calls in the traceback and some print out the last line\u001b[39;00m\n\u001b[0;32m--> 347\u001b[0m _engine_run_backward(\n\u001b[1;32m    348\u001b[0m     tensors,\n\u001b[1;32m    349\u001b[0m     grad_tensors_,\n\u001b[1;32m    350\u001b[0m     retain_graph,\n\u001b[1;32m    351\u001b[0m     create_graph,\n\u001b[1;32m    352\u001b[0m     inputs,\n\u001b[1;32m    353\u001b[0m     allow_unreachable\u001b[38;5;241m=\u001b[39m\u001b[38;5;28;01mTrue\u001b[39;00m,\n\u001b[1;32m    354\u001b[0m     accumulate_grad\u001b[38;5;241m=\u001b[39m\u001b[38;5;28;01mTrue\u001b[39;00m,\n\u001b[1;32m    355\u001b[0m )\n",
      "File \u001b[0;32m~/anaconda3/lib/python3.11/site-packages/torch/autograd/graph.py:825\u001b[0m, in \u001b[0;36m_engine_run_backward\u001b[0;34m(t_outputs, *args, **kwargs)\u001b[0m\n\u001b[1;32m    823\u001b[0m     unregister_hooks \u001b[38;5;241m=\u001b[39m _register_logging_hooks_on_whole_graph(t_outputs)\n\u001b[1;32m    824\u001b[0m \u001b[38;5;28;01mtry\u001b[39;00m:\n\u001b[0;32m--> 825\u001b[0m     \u001b[38;5;28;01mreturn\u001b[39;00m Variable\u001b[38;5;241m.\u001b[39m_execution_engine\u001b[38;5;241m.\u001b[39mrun_backward(  \u001b[38;5;66;03m# Calls into the C++ engine to run the backward pass\u001b[39;00m\n\u001b[1;32m    826\u001b[0m         t_outputs, \u001b[38;5;241m*\u001b[39margs, \u001b[38;5;241m*\u001b[39m\u001b[38;5;241m*\u001b[39mkwargs\n\u001b[1;32m    827\u001b[0m     )  \u001b[38;5;66;03m# Calls into the C++ engine to run the backward pass\u001b[39;00m\n\u001b[1;32m    828\u001b[0m \u001b[38;5;28;01mfinally\u001b[39;00m:\n\u001b[1;32m    829\u001b[0m     \u001b[38;5;28;01mif\u001b[39;00m attach_logging_hooks:\n",
      "\u001b[0;31mOutOfMemoryError\u001b[0m: CUDA out of memory. Tried to allocate 30.00 MiB. GPU 0 has a total capacity of 3.80 GiB of which 37.81 MiB is free. Including non-PyTorch memory, this process has 3.52 GiB memory in use. Of the allocated memory 3.37 GiB is allocated by PyTorch, and 52.76 MiB is reserved by PyTorch but unallocated. If reserved but unallocated memory is large try setting PYTORCH_CUDA_ALLOC_CONF=expandable_segments:True to avoid fragmentation.  See documentation for Memory Management  (https://pytorch.org/docs/stable/notes/cuda.html#environment-variables)"
     ]
    }
   ],
   "source": [
    "learning_rates = [0.01, 0.001, 0.0001]\n",
    "num_epochs = 5  # Adjusted for quicker experimentation\n",
    "learning_rate_losses = {}\n",
    "\n",
    "for lr in learning_rates:\n",
    "    print(f\"\\nTraining with learning rate: {lr}\")\n",
    "    encoder = Encoder(input_dim, embed_dim, hidden_dim, num_layers).to(device)\n",
    "    attention = Attention(hidden_dim).to(device)\n",
    "    decoder = Decoder(output_dim, embed_dim, hidden_dim, num_layers, attention).to(device)\n",
    "    seq2seq_model = Seq2Seq(encoder, decoder, device).to(device)  # Re-instantiate models to reset parameters\n",
    "\n",
    "    optimizer = optim.Adam(seq2seq_model.parameters(), lr=lr)\n",
    "    criterion = nn.CrossEntropyLoss(ignore_index=target_vocab['<PAD>'])\n",
    "    train_losses = []\n",
    "\n",
    "    for epoch in range(num_epochs):\n",
    "        train_loss = train(seq2seq_model, train_loader, optimizer, criterion, clip, teacher_forcing_ratio)\n",
    "        train_losses.append(train_loss)\n",
    "        print(f'Epoch [{epoch+1}/{num_epochs}], Loss: {train_loss:.4f}')\n",
    "\n",
    "    learning_rate_losses[lr] = train_losses"
   ]
  },
  {
   "cell_type": "code",
   "execution_count": null,
   "metadata": {},
   "outputs": [],
   "source": [
    "plt.figure(figsize=(10, 6))\n",
    "for lr in learning_rates:\n",
    "    plt.plot(range(1, num_epochs+1), learning_rate_losses[lr], label=f'LR={lr}')\n",
    "plt.xlabel('Epoch')\n",
    "plt.ylabel('Loss')\n",
    "plt.title('Training Loss per Epoch for Different Learning Rates')\n",
    "plt.legend()\n",
    "plt.show()"
   ]
  },
  {
   "cell_type": "markdown",
   "metadata": {},
   "source": [
    "##### **Q32: How do you experiment with different hidden dimensions and evaluate how they impact the performance of the model?**\n"
   ]
  },
  {
   "cell_type": "code",
   "execution_count": null,
   "metadata": {},
   "outputs": [],
   "source": [
    "hidden_dims = [32, 64, 128]\n",
    "num_epochs = 5\n",
    "hidden_dim_losses = {}\n",
    "\n",
    "for hd in hidden_dims:\n",
    "    print(f\"\\nTraining with hidden dimension: {hd}\")\n",
    "    encoder = Encoder(input_dim, embed_dim, hd, num_layers).to(device)\n",
    "    attention = Attention(hd).to(device)\n",
    "    decoder = Decoder(output_dim, embed_dim, hd, num_layers, attention).to(device)\n",
    "    seq2seq_model = Seq2Seq(encoder, decoder, device).to(device)\n",
    "\n",
    "    optimizer = optim.Adam(seq2seq_model.parameters(), lr=0.001)\n",
    "    criterion = nn.CrossEntropyLoss(ignore_index=target_vocab['<PAD>'])\n",
    "    train_losses = []\n",
    "\n",
    "    for epoch in range(num_epochs):\n",
    "        train_loss = train(seq2seq_model, train_loader, optimizer, criterion, clip, teacher_forcing_ratio)\n",
    "        train_losses.append(train_loss)\n",
    "        print(f'Epoch [{epoch+1}/{num_epochs}], Loss: {train_loss:.4f}')\n",
    "\n",
    "    hidden_dim_losses[hd] = train_losses"
   ]
  },
  {
   "cell_type": "code",
   "execution_count": null,
   "metadata": {},
   "outputs": [],
   "source": [
    "plt.figure(figsize=(10, 6))\n",
    "for hd in hidden_dims:\n",
    "    plt.plot(range(1, num_epochs+1), hidden_dim_losses[hd], label=f'Hidden Dim={hd}')\n",
    "plt.xlabel('Epoch')\n",
    "plt.ylabel('Loss')\n",
    "plt.title('Training Loss per Epoch for Different Hidden Dimensions')\n",
    "plt.legend()\n",
    "plt.show()"
   ]
  },
  {
   "cell_type": "markdown",
   "metadata": {},
   "source": [
    "##### **Q33: How do you tune the teacher forcing ratio during training and analyze how it affects the model’s convergence?**\n"
   ]
  },
  {
   "cell_type": "code",
   "execution_count": null,
   "metadata": {},
   "outputs": [],
   "source": [
    "teacher_forcing_ratios = [0.9, 0.3, 0.1]\n",
    "num_epochs = 5\n",
    "tfr_losses = {}\n",
    "\n",
    "for ratio in teacher_forcing_ratios:\n",
    "    print(f\"\\nTraining with teacher forcing ratio: {ratio}\")\n",
    "    encoder = Encoder(input_dim, embed_dim, hidden_dim, num_layers).to(device)\n",
    "    attention = Attention(hidden_dim).to(device)\n",
    "    decoder = Decoder(output_dim, embed_dim, hidden_dim, num_layers, attention).to(device)\n",
    "    seq2seq_model = Seq2Seq(encoder, decoder, device).to(device)\n",
    "\n",
    "    optimizer = optim.Adam(seq2seq_model.parameters(), lr=0.001)\n",
    "    criterion = nn.CrossEntropyLoss(ignore_index=target_vocab['<PAD>'])\n",
    "    train_losses = []\n",
    "\n",
    "    for epoch in range(num_epochs):\n",
    "        train_loss = train(seq2seq_model, train_loader, optimizer, criterion, clip, ratio)\n",
    "        train_losses.append(train_loss)\n",
    "        print(f'Epoch [{epoch+1}/{num_epochs}], Loss: {train_loss:.4f}')\n",
    "\n",
    "    tfr_losses[ratio] = train_losses"
   ]
  },
  {
   "cell_type": "code",
   "execution_count": null,
   "metadata": {},
   "outputs": [],
   "source": [
    "plt.figure(figsize=(10, 6))\n",
    "for ratio in teacher_forcing_ratios:\n",
    "    plt.plot(range(1, num_epochs+1), tfr_losses[ratio], label=f'TFR={ratio}')\n",
    "plt.xlabel('Epoch')\n",
    "plt.ylabel('Loss')\n",
    "plt.title('Training Loss per Epoch for Different Teacher Forcing Ratios')\n",
    "plt.legend()\n",
    "plt.show()"
   ]
  },
  {
   "cell_type": "markdown",
   "metadata": {},
   "source": [
    "##### **Q34: How do you experiment with different attention scoring functions (e.g., dot product vs. additive) and observe their impact on model performance?**"
   ]
  },
  {
   "cell_type": "code",
   "execution_count": null,
   "metadata": {},
   "outputs": [],
   "source": [
    "class DotProductAttention(nn.Module):\n",
    "    def __init__(self):\n",
    "        super(DotProductAttention, self).__init__()\n",
    "\n",
    "    def forward(self, hidden, encoder_outputs, mask):\n",
    "        # hidden: [batch_size, hidden_dim]\n",
    "        # Adjust hidden and encoder_outputs dimensions if necessary\n",
    "        hidden = hidden.unsqueeze(2)\n",
    "        attention = torch.bmm(encoder_outputs, hidden).squeeze(2)\n",
    "        attention = attention.masked_fill(mask == 0, -1e10)\n",
    "        return torch.softmax(attention, dim=1)"
   ]
  },
  {
   "cell_type": "code",
   "execution_count": null,
   "metadata": {},
   "outputs": [],
   "source": [
    "attention_mechanisms = {\n",
    "    'AdditiveAttention': Attention(hidden_dim).to(device),\n",
    "    'DotProductAttention': DotProductAttention().to(device)\n",
    "}\n",
    "\n",
    "num_epochs = 5\n",
    "attention_losses = {}\n",
    "\n",
    "for name, attn in attention_mechanisms.items():\n",
    "    print(f\"\\nTraining with attention mechanism: {name}\")\n",
    "    encoder = Encoder(input_dim, embed_dim, hidden_dim, num_layers).to(device)\n",
    "    decoder = Decoder(output_dim, embed_dim, hidden_dim, num_layers, attn).to(device)\n",
    "    seq2seq_model = Seq2Seq(encoder, decoder, device).to(device)\n",
    "\n",
    "    optimizer = optim.Adam(seq2seq_model.parameters(), lr=0.001)\n",
    "    criterion = nn.CrossEntropyLoss(ignore_index=target_vocab['<PAD>'])\n",
    "    train_losses = []\n",
    "\n",
    "    for epoch in range(num_epochs):\n",
    "        train_loss = train(seq2seq_model, train_loader, optimizer, criterion, clip, teacher_forcing_ratio)\n",
    "        train_losses.append(train_loss)\n",
    "        print(f'Epoch [{epoch+1}/{num_epochs}], Loss: {train_loss:.4f}')\n",
    "\n",
    "    attention_losses[name] = train_losses"
   ]
  },
  {
   "cell_type": "code",
   "execution_count": null,
   "metadata": {},
   "outputs": [],
   "source": [
    "plt.figure(figsize=(10, 6))\n",
    "for name in attention_mechanisms.keys():\n",
    "    plt.plot(range(1, num_epochs+1), attention_losses[name], label=name)\n",
    "plt.xlabel('Epoch')\n",
    "plt.ylabel('Loss')\n",
    "plt.title('Training Loss per Epoch for Different Attention Mechanisms')\n",
    "plt.legend()\n",
    "plt.show()"
   ]
  },
  {
   "cell_type": "code",
   "execution_count": 1,
   "metadata": {},
   "outputs": [
    {
     "name": "stdout",
     "output_type": "stream",
     "text": [
      "Folder 'data' does not exist.\n"
     ]
    }
   ],
   "source": [
    "import shutil\n",
    "import os\n",
    "\n",
    "if os.path.exists('data'):\n",
    "    shutil.rmtree('data')\n",
    "    print(\"Folder 'data' has been deleted.\")\n",
    "else:\n",
    "    print(\"Folder 'data' does not exist.\")"
   ]
  }
 ],
 "metadata": {
  "kernelspec": {
   "display_name": "base",
   "language": "python",
   "name": "python3"
  },
  "language_info": {
   "codemirror_mode": {
    "name": "ipython",
    "version": 3
   },
   "file_extension": ".py",
   "mimetype": "text/x-python",
   "name": "python",
   "nbconvert_exporter": "python",
   "pygments_lexer": "ipython3",
   "version": "3.11.10"
  }
 },
 "nbformat": 4,
 "nbformat_minor": 2
}
