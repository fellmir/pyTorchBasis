{
 "cells": [
  {
   "cell_type": "markdown",
   "metadata": {},
   "source": [
    "# Self-attention"
   ]
  },
  {
   "cell_type": "markdown",
   "metadata": {},
   "source": [
    "## Table of contents\n",
    "\n",
    "1. [Understanding self-attention](#understanding-self-attention)\n",
    "2. [Setting up the environment](#setting-up-the-environment)\n",
    "3. [Defining the input data](#defining-the-input-data)\n",
    "4. [Implementing scaled dot-product attention](#implementing-scaled-dot-product-attention)\n",
    "5. [Building multi-head self-attention](#building-multi-head-self-attention)\n",
    "6. [Building the position-wise feed-forward network](#building-the-position-wise-feed-forward-network)\n",
    "7. [Applying self-attention to a transformer block](#applying-self-attention-to-a-transformer-block)\n",
    "8. [Training the self-attention mechanism](#training-the-self-attention-mechanism)\n",
    "9. [Evaluating the self-attention model](#evaluating-the-self-attention-model)\n",
    "10. [Visualizing attention weights](#visualizing-attention-weights)\n",
    "11. [Experimenting with hyperparameters](#experimenting-with-hyperparameters)"
   ]
  },
  {
   "cell_type": "markdown",
   "metadata": {},
   "source": [
    "## Understanding self-attention"
   ]
  },
  {
   "cell_type": "markdown",
   "metadata": {},
   "source": [
    "### **Key concepts**\n",
    "Self-attention is a mechanism that allows a model to dynamically weigh the importance of different parts of an input sequence when processing each element. Unlike traditional approaches that rely on fixed-sized context windows, self-attention enables models to capture dependencies across all positions in a sequence, making it especially powerful for tasks with long-range relationships.\n",
    "\n",
    "Key components of self-attention include:\n",
    "- **Query, Key, and Value Vectors**: Representations of each input element used to compute attention scores and weighted outputs.\n",
    "- **Attention Scores**: Measure the relevance of each element in the sequence with respect to the current position, typically using a dot-product or scaled dot-product method.\n",
    "- **Weighted Aggregation**: Combines all elements of the sequence based on their attention scores, producing context-aware representations.\n",
    "- **Multi-Head Attention**: Extends self-attention by using multiple attention mechanisms in parallel to capture diverse relationships.\n",
    "\n",
    "Self-attention forms the foundation of Transformer architectures, which have revolutionized fields like natural language processing and computer vision.\n",
    "\n",
    "### **Applications**\n",
    "Self-attention is central to many modern deep learning models, enabling applications such as:\n",
    "- **Natural language processing (NLP)**: Powering models like BERT, GPT, and Transformer-based translation systems.\n",
    "- **Image processing**: Capturing spatial relationships in tasks like object detection and image segmentation.\n",
    "- **Speech recognition**: Modeling dependencies in audio sequences for transcription tasks.\n",
    "- **Time-series analysis**: Understanding dependencies across long temporal data for forecasting or anomaly detection.\n",
    "\n",
    "### **Advantages**\n",
    "- **Global context**: Considers all positions in the sequence simultaneously, capturing long-range dependencies.\n",
    "- **Scalability**: Works well with variable-length inputs and outputs.\n",
    "- **Flexibility**: Adapts to diverse data modalities, including text, images, and audio.\n",
    "- **Parallelization**: Unlike recurrent methods, self-attention allows for parallel computation, significantly speeding up training.\n",
    "\n",
    "### **Challenges**\n",
    "- **Computational cost**: Scales quadratically with input sequence length, making it resource-intensive for very long sequences.\n",
    "- **Memory usage**: Requires substantial memory for large inputs due to the attention matrix.\n",
    "- **Dependency on large datasets**: Performs best when trained on extensive and diverse datasets.\n",
    "- **Complexity**: Incorporates many components, requiring careful implementation and tuning for optimal performance."
   ]
  },
  {
   "cell_type": "markdown",
   "metadata": {},
   "source": [
    "## Setting up the environment\n"
   ]
  },
  {
   "cell_type": "markdown",
   "metadata": {},
   "source": [
    "##### **Q1: How do you install the necessary libraries for building and training self-attention models in PyTorch?**\n"
   ]
  },
  {
   "cell_type": "code",
   "execution_count": 1,
   "metadata": {},
   "outputs": [],
   "source": [
    "# !pip install torch torchvision torchaudio --index-url https://download.pytorch.org/whl/cu121\n",
    "# !pip install numpy matplotlib seaborn"
   ]
  },
  {
   "cell_type": "markdown",
   "metadata": {},
   "source": [
    "##### **Q2: How do you import the required modules for building attention mechanisms and handling data in PyTorch?**\n"
   ]
  },
  {
   "cell_type": "code",
   "execution_count": 2,
   "metadata": {},
   "outputs": [],
   "source": [
    "import torch\n",
    "import torch.nn as nn\n",
    "import torch.nn.functional as F\n",
    "from torch.utils.data import Dataset, DataLoader\n",
    "import matplotlib.pyplot as plt\n",
    "import random\n",
    "import numpy as np"
   ]
  },
  {
   "cell_type": "markdown",
   "metadata": {},
   "source": [
    "##### **Q3: How do you set up the environment to utilize a GPU for training self-attention models in PyTorch?**"
   ]
  },
  {
   "cell_type": "code",
   "execution_count": 3,
   "metadata": {},
   "outputs": [
    {
     "name": "stdout",
     "output_type": "stream",
     "text": [
      "cuda\n"
     ]
    }
   ],
   "source": [
    "device = torch.device('cuda' if torch.cuda.is_available() else 'cpu')\n",
    "print(device)"
   ]
  },
  {
   "cell_type": "markdown",
   "metadata": {},
   "source": [
    "## Defining the input data\n"
   ]
  },
  {
   "cell_type": "markdown",
   "metadata": {},
   "source": [
    "##### **Q4: How do you define sequence data, such as tokenized text, to be used as input for the self-attention mechanism?**\n"
   ]
  },
  {
   "cell_type": "code",
   "execution_count": 4,
   "metadata": {},
   "outputs": [],
   "source": [
    "vocab_size = 10\n",
    "seq_len = 6\n",
    "batch_size = 4\n",
    "\n",
    "input_seq = torch.randint(0, vocab_size, (batch_size, seq_len)).to(device)"
   ]
  },
  {
   "cell_type": "markdown",
   "metadata": {},
   "source": [
    "##### **Q5: How do you preprocess and batch the input data to feed into the self-attention model?**\n"
   ]
  },
  {
   "cell_type": "code",
   "execution_count": 5,
   "metadata": {},
   "outputs": [],
   "source": [
    "embedding_dim = 32\n",
    "embedding = nn.Embedding(vocab_size, embedding_dim).to(device)\n",
    "embedded_input = embedding(input_seq)  # shape: (batch_size, seq_len, embedding_dim)"
   ]
  },
  {
   "cell_type": "markdown",
   "metadata": {},
   "source": [
    "##### **Q6: How do you create a DataLoader in PyTorch to load batches of sequential data for training?**"
   ]
  },
  {
   "cell_type": "code",
   "execution_count": 6,
   "metadata": {},
   "outputs": [],
   "source": [
    "class DummySeqDataset(Dataset):\n",
    "    def __init__(self, num_samples=100):\n",
    "        self.data = [torch.randint(0, vocab_size, (seq_len,)) for _ in range(num_samples)]\n",
    "    def __len__(self):\n",
    "        return len(self.data)\n",
    "    def __getitem__(self, idx):\n",
    "        return self.data[idx]"
   ]
  },
  {
   "cell_type": "code",
   "execution_count": 7,
   "metadata": {},
   "outputs": [],
   "source": [
    "train_dataset = DummySeqDataset()\n",
    "train_loader = DataLoader(train_dataset, batch_size=batch_size, shuffle=True)"
   ]
  },
  {
   "cell_type": "markdown",
   "metadata": {},
   "source": [
    "## Implementing scaled dot-product attention\n"
   ]
  },
  {
   "cell_type": "markdown",
   "metadata": {},
   "source": [
    "##### **Q7: How do you implement the function for scaled dot-product attention in PyTorch?**\n"
   ]
  },
  {
   "cell_type": "code",
   "execution_count": 8,
   "metadata": {},
   "outputs": [],
   "source": [
    "def scaled_dot_product_attention(q, k, v, mask=None):\n",
    "    d_k = q.size(-1)\n",
    "    scores = torch.matmul(q, k.transpose(-2, -1)) / torch.sqrt(torch.tensor(d_k, dtype=torch.float32))  # compute raw scores\n",
    "    if mask is not None:\n",
    "        scores = scores.masked_fill(mask == 0, float('-inf'))  # apply mask\n",
    "    attn_weights = F.softmax(scores, dim=-1)  # normalize\n",
    "    return torch.matmul(attn_weights, v), attn_weights  # weighted sum"
   ]
  },
  {
   "cell_type": "markdown",
   "metadata": {},
   "source": [
    "##### **Q8: How do you calculate the attention scores by computing the dot product of the query and key matrices?**\n"
   ]
  },
  {
   "cell_type": "code",
   "execution_count": 9,
   "metadata": {},
   "outputs": [],
   "source": [
    "q = torch.randn(batch_size, seq_len, embedding_dim).to(device)\n",
    "k = torch.randn(batch_size, seq_len, embedding_dim).to(device)\n",
    "v = torch.randn(batch_size, seq_len, embedding_dim).to(device)\n",
    "scores = torch.matmul(q, k.transpose(-2, -1))  # shape: (batch_size, seq_len, seq_len)"
   ]
  },
  {
   "cell_type": "markdown",
   "metadata": {},
   "source": [
    "##### **Q9: How do you apply softmax to normalize the attention scores in the scaled dot-product attention mechanism?**\n"
   ]
  },
  {
   "cell_type": "code",
   "execution_count": null,
   "metadata": {},
   "outputs": [],
   "source": [
    "attn_weights = F.softmax(scores, dim=-1)  # shape: (batch_size, seq_len, seq_len)"
   ]
  },
  {
   "cell_type": "markdown",
   "metadata": {},
   "source": [
    "##### **Q10: How do you compute the final output of the attention mechanism by multiplying the attention scores with the value matrix?**"
   ]
  },
  {
   "cell_type": "code",
   "execution_count": null,
   "metadata": {},
   "outputs": [],
   "source": [
    "attn_output = torch.matmul(attn_weights, v)  # shape: (batch_size, seq_len, embedding_dim)"
   ]
  },
  {
   "cell_type": "markdown",
   "metadata": {},
   "source": [
    "## Building multi-head self-attention\n"
   ]
  },
  {
   "cell_type": "markdown",
   "metadata": {},
   "source": [
    "##### **Q11: How do you define the architecture for multi-head self-attention using `torch.nn.Module` in PyTorch?**\n"
   ]
  },
  {
   "cell_type": "code",
   "execution_count": 12,
   "metadata": {},
   "outputs": [],
   "source": [
    "class MultiHeadSelfAttention(nn.Module):\n",
    "    def __init__(self, embed_dim, num_heads):\n",
    "        super().__init__()\n",
    "        self.embed_dim = embed_dim\n",
    "        self.num_heads = num_heads\n",
    "        self.head_dim = embed_dim // num_heads\n",
    "\n",
    "        self.qkv_proj = nn.Linear(embed_dim, embed_dim * 3)\n",
    "        self.out_proj = nn.Linear(embed_dim, embed_dim)\n",
    "\n",
    "    def forward(self, x):\n",
    "        batch_size, seq_len, _ = x.size()\n",
    "        qkv = self.qkv_proj(x)  # shape: (batch_size, seq_len, 3 * embed_dim)\n",
    "        qkv = qkv.reshape(batch_size, seq_len, 3, self.num_heads, self.head_dim)\n",
    "        qkv = qkv.permute(2, 0, 3, 1, 4)\n",
    "        q, k, v = qkv[0], qkv[1], qkv[2]\n",
    "        scores = torch.matmul(q, k.transpose(-2, -1)) / torch.sqrt(torch.tensor(self.head_dim, dtype=torch.float32).to(x.device))\n",
    "        attn_weights = F.softmax(scores, dim=-1)\n",
    "        attn_output = torch.matmul(attn_weights, v)\n",
    "        attn_output = attn_output.transpose(1, 2).contiguous().reshape(batch_size, seq_len, self.embed_dim)\n",
    "        return self.out_proj(attn_output)"
   ]
  },
  {
   "cell_type": "markdown",
   "metadata": {},
   "source": [
    "##### **Q12: How do you split the input into multiple heads and perform scaled dot-product attention for each head?**\n"
   ]
  },
  {
   "cell_type": "code",
   "execution_count": 13,
   "metadata": {},
   "outputs": [],
   "source": [
    "# see Q11"
   ]
  },
  {
   "cell_type": "markdown",
   "metadata": {},
   "source": [
    "##### **Q13: How do you concatenate the outputs of the multiple attention heads and apply a final linear transformation?**"
   ]
  },
  {
   "cell_type": "code",
   "execution_count": 14,
   "metadata": {},
   "outputs": [],
   "source": [
    "# see Q11"
   ]
  },
  {
   "cell_type": "markdown",
   "metadata": {},
   "source": [
    "## Building the position-wise feed-forward network\n"
   ]
  },
  {
   "cell_type": "markdown",
   "metadata": {},
   "source": [
    "##### **Q14: How do you define the position-wise feed-forward network using `torch.nn.Linear` layers in PyTorch?**\n"
   ]
  },
  {
   "cell_type": "code",
   "execution_count": 15,
   "metadata": {},
   "outputs": [],
   "source": [
    "class PositionwiseFeedForward(nn.Module):\n",
    "    def __init__(self, embed_dim, ff_dim):\n",
    "        super().__init__()\n",
    "        self.fc1 = nn.Linear(embed_dim, ff_dim)\n",
    "        self.fc2 = nn.Linear(ff_dim, embed_dim)\n",
    "\n",
    "    def forward(self, x):\n",
    "        return self.fc2(F.relu(self.fc1(x)))  # apply non-linearity and projection"
   ]
  },
  {
   "cell_type": "markdown",
   "metadata": {},
   "source": [
    "##### **Q15: How do you apply the feed-forward network to each position in the sequence independently?**\n"
   ]
  },
  {
   "cell_type": "code",
   "execution_count": 16,
   "metadata": {},
   "outputs": [],
   "source": [
    "# see Q14's forward pass"
   ]
  },
  {
   "cell_type": "markdown",
   "metadata": {},
   "source": [
    "##### **Q16: How do you add a non-linearity between the linear layers in the feed-forward network?**"
   ]
  },
  {
   "cell_type": "code",
   "execution_count": 17,
   "metadata": {},
   "outputs": [],
   "source": [
    "# see Q14's forward pass"
   ]
  },
  {
   "cell_type": "markdown",
   "metadata": {},
   "source": [
    "## Applying self-attention to a transformer block\n"
   ]
  },
  {
   "cell_type": "markdown",
   "metadata": {},
   "source": [
    "##### **Q17: How do you combine multi-head self-attention with layer normalization and residual connections in a transformer block?**\n"
   ]
  },
  {
   "cell_type": "code",
   "execution_count": 18,
   "metadata": {},
   "outputs": [],
   "source": [
    "class TransformerBlock(nn.Module):\n",
    "    def __init__(self, embed_dim, num_heads, ff_dim):\n",
    "        super().__init__()\n",
    "        self.attn = MultiHeadSelfAttention(embed_dim, num_heads)\n",
    "        self.ff = PositionwiseFeedForward(embed_dim, ff_dim)\n",
    "        self.norm1 = nn.LayerNorm(embed_dim)\n",
    "        self.norm2 = nn.LayerNorm(embed_dim)\n",
    "\n",
    "    def forward(self, x):\n",
    "        x = x + self.attn(self.norm1(x))  # residual connection after norm and attn\n",
    "        x = x + self.ff(self.norm2(x))  # residual connection after norm and ffn\n",
    "        return x"
   ]
  },
  {
   "cell_type": "markdown",
   "metadata": {},
   "source": [
    "##### **Q18: How do you implement the forward pass of the transformer block, including both self-attention and feed-forward layers?**\n"
   ]
  },
  {
   "cell_type": "code",
   "execution_count": null,
   "metadata": {},
   "outputs": [],
   "source": [
    "# see Q17's forward pass"
   ]
  },
  {
   "cell_type": "markdown",
   "metadata": {},
   "source": [
    "##### **Q19: How do you stack multiple transformer blocks to create a deep self-attention model?**"
   ]
  },
  {
   "cell_type": "code",
   "execution_count": 19,
   "metadata": {},
   "outputs": [],
   "source": [
    "class SelfAttentionModel(nn.Module):\n",
    "    def __init__(self, vocab_size, embed_dim, num_heads, ff_dim, num_layers):\n",
    "        super().__init__()\n",
    "        self.embedding = nn.Embedding(vocab_size, embed_dim)\n",
    "        self.layers = nn.ModuleList([TransformerBlock(embed_dim, num_heads, ff_dim) for _ in range(num_layers)])\n",
    "        self.classifier = nn.Linear(embed_dim, vocab_size)\n",
    "\n",
    "    def forward(self, x):\n",
    "        x = self.embedding(x)\n",
    "        for layer in self.layers:\n",
    "            x = layer(x)\n",
    "        return self.classifier(x)"
   ]
  },
  {
   "cell_type": "markdown",
   "metadata": {},
   "source": [
    "## Training the self-attention mechanism\n"
   ]
  },
  {
   "cell_type": "markdown",
   "metadata": {},
   "source": [
    "##### **Q20: How do you define the loss function for training a self-attention model in PyTorch?**\n"
   ]
  },
  {
   "cell_type": "code",
   "execution_count": 20,
   "metadata": {},
   "outputs": [],
   "source": [
    "criterion = nn.CrossEntropyLoss()"
   ]
  },
  {
   "cell_type": "markdown",
   "metadata": {},
   "source": [
    "##### **Q21: How do you set up the optimizer to update the parameters of the self-attention model during training?**\n"
   ]
  },
  {
   "cell_type": "code",
   "execution_count": 21,
   "metadata": {},
   "outputs": [],
   "source": [
    "model = SelfAttentionModel(vocab_size, 32, 4, 64, 2).to(device)\n",
    "optimizer = torch.optim.Adam(model.parameters(), lr=1e-3)"
   ]
  },
  {
   "cell_type": "markdown",
   "metadata": {},
   "source": [
    "##### **Q22: How do you implement the training loop for the self-attention mechanism, including forward pass, loss calculation, and backpropagation?**\n"
   ]
  },
  {
   "cell_type": "code",
   "execution_count": 22,
   "metadata": {},
   "outputs": [],
   "source": [
    "def train_loop(model, dataloader, optimizer, criterion, epochs=5):\n",
    "    model.train()\n",
    "    all_losses = []\n",
    "    for epoch in range(epochs):\n",
    "        epoch_loss = 0\n",
    "        for batch in dataloader:\n",
    "            batch = batch.to(device)\n",
    "            output = model(batch)\n",
    "            loss = criterion(output.view(-1, vocab_size), batch.view(-1))  # flatten both\n",
    "            optimizer.zero_grad()\n",
    "            loss.backward()\n",
    "            optimizer.step()\n",
    "            epoch_loss += loss.item()\n",
    "        avg_loss = epoch_loss / len(dataloader)\n",
    "        all_losses.append(avg_loss)\n",
    "        print(f\"Epoch {epoch+1}: Loss = {avg_loss:.4f}\")\n",
    "    return all_losses"
   ]
  },
  {
   "cell_type": "markdown",
   "metadata": {},
   "source": [
    "##### **Q23: How do you track and log the training loss over epochs to monitor the performance of the self-attention model?**"
   ]
  },
  {
   "cell_type": "code",
   "execution_count": 23,
   "metadata": {},
   "outputs": [
    {
     "name": "stdout",
     "output_type": "stream",
     "text": [
      "Epoch 1: Loss = 1.5133\n",
      "Epoch 2: Loss = 0.3226\n",
      "Epoch 3: Loss = 0.0542\n",
      "Epoch 4: Loss = 0.0201\n",
      "Epoch 5: Loss = 0.0117\n",
      "Epoch 6: Loss = 0.0080\n",
      "Epoch 7: Loss = 0.0058\n",
      "Epoch 8: Loss = 0.0045\n",
      "Epoch 9: Loss = 0.0035\n",
      "Epoch 10: Loss = 0.0029\n"
     ]
    }
   ],
   "source": [
    "losses = train_loop(model, train_loader, optimizer, criterion, epochs=10)"
   ]
  },
  {
   "cell_type": "code",
   "execution_count": 24,
   "metadata": {},
   "outputs": [
    {
     "data": {
      "image/png": "[encoded data removed]",
      "text/plain": [
       "<Figure size 640x480 with 1 Axes>"
      ]
     },
     "metadata": {},
     "output_type": "display_data"
    }
   ],
   "source": [
    "plt.plot(losses)\n",
    "plt.xlabel(\"Epoch\")\n",
    "plt.ylabel(\"Loss\")\n",
    "plt.title(\"Training Loss\")\n",
    "plt.grid(True)\n",
    "plt.show()"
   ]
  },
  {
   "cell_type": "markdown",
   "metadata": {},
   "source": [
    "## Evaluating the self-attention model\n"
   ]
  },
  {
   "cell_type": "markdown",
   "metadata": {},
   "source": [
    "##### **Q24: How do you evaluate the self-attention model on validation or test data after training?**\n"
   ]
  },
  {
   "cell_type": "code",
   "execution_count": 25,
   "metadata": {},
   "outputs": [],
   "source": [
    "def evaluate(model, dataloader, criterion):\n",
    "    model.eval()\n",
    "    total_loss = 0\n",
    "    with torch.no_grad():\n",
    "        for batch in dataloader:\n",
    "            batch = batch.to(device)\n",
    "            output = model(batch)\n",
    "            loss = criterion(output.view(-1, vocab_size), batch.view(-1))\n",
    "            total_loss += loss.item()\n",
    "    return total_loss / len(dataloader)"
   ]
  },
  {
   "cell_type": "code",
   "execution_count": 26,
   "metadata": {},
   "outputs": [
    {
     "name": "stdout",
     "output_type": "stream",
     "text": [
      "Validation Loss: 0.0026\n"
     ]
    }
   ],
   "source": [
    "val_loss = evaluate(model, train_loader, criterion)\n",
    "print(f\"Validation Loss: {val_loss:.4f}\")"
   ]
  },
  {
   "cell_type": "markdown",
   "metadata": {},
   "source": [
    "##### **Q25: How do you calculate the accuracy or other metrics to assess the model’s performance?**\n"
   ]
  },
  {
   "cell_type": "code",
   "execution_count": 27,
   "metadata": {},
   "outputs": [],
   "source": [
    "def calculate_accuracy(model, dataloader):\n",
    "    model.eval()\n",
    "    total, correct = 0, 0\n",
    "    with torch.no_grad():\n",
    "        for batch in dataloader:\n",
    "            batch = batch.to(device)\n",
    "            output = model(batch)\n",
    "            preds = output.argmax(dim=-1)\n",
    "            total += batch.numel()\n",
    "            correct += (preds == batch).sum().item()\n",
    "    return correct / total"
   ]
  },
  {
   "cell_type": "code",
   "execution_count": 28,
   "metadata": {},
   "outputs": [
    {
     "name": "stdout",
     "output_type": "stream",
     "text": [
      "Accuracy: 100.00%\n"
     ]
    }
   ],
   "source": [
    "accuracy = calculate_accuracy(model, train_loader)\n",
    "print(f\"Accuracy: {accuracy * 100:.2f}%\")"
   ]
  },
  {
   "cell_type": "markdown",
   "metadata": {},
   "source": [
    "##### **Q26: How do you implement a function to perform inference using the trained self-attention model on new input sequences?**"
   ]
  },
  {
   "cell_type": "code",
   "execution_count": 29,
   "metadata": {},
   "outputs": [],
   "source": [
    "def infer(model, input_seq):\n",
    "    model.eval()\n",
    "    with torch.no_grad():\n",
    "        input_seq = input_seq.to(device)\n",
    "        output = model(input_seq)\n",
    "        return output.argmax(dim=-1)"
   ]
  },
  {
   "cell_type": "code",
   "execution_count": 30,
   "metadata": {},
   "outputs": [
    {
     "name": "stdout",
     "output_type": "stream",
     "text": [
      "Input: [[5, 0, 6, 6, 4, 0]]\n",
      "Predicted: [[5, 0, 6, 6, 4, 0]]\n"
     ]
    }
   ],
   "source": [
    "new_input = torch.randint(0, vocab_size, (1, seq_len)).to(device)  # dummy input sequence\n",
    "predicted_output = infer(model, new_input)\n",
    "print(\"Input:\", new_input.cpu().tolist())\n",
    "print(\"Predicted:\", predicted_output.cpu().tolist())"
   ]
  },
  {
   "cell_type": "markdown",
   "metadata": {},
   "source": [
    "## Visualizing attention weights\n"
   ]
  },
  {
   "cell_type": "markdown",
   "metadata": {},
   "source": [
    "##### **Q27: How do you extract attention weights from the model to analyze how the self-attention mechanism focuses on different parts of the input sequence?**\n"
   ]
  },
  {
   "cell_type": "code",
   "execution_count": 41,
   "metadata": {},
   "outputs": [],
   "source": [
    "class MultiHeadSelfAttention(nn.Module):\n",
    "    def __init__(self, embed_dim, num_heads):\n",
    "        super().__init__()\n",
    "        self.embed_dim = embed_dim\n",
    "        self.num_heads = num_heads\n",
    "        self.head_dim = embed_dim // num_heads\n",
    "        self.qkv_proj = nn.Linear(embed_dim, embed_dim * 3)\n",
    "        self.out_proj = nn.Linear(embed_dim, embed_dim)\n",
    "\n",
    "    def forward(self, x, return_weights=False):\n",
    "        batch_size, seq_len, _ = x.size()\n",
    "        qkv = self.qkv_proj(x).reshape(batch_size, seq_len, 3, self.num_heads, self.head_dim)\n",
    "        qkv = qkv.permute(2, 0, 3, 1, 4)\n",
    "        q, k, v = qkv[0], qkv[1], qkv[2]\n",
    "        scores = torch.matmul(q, k.transpose(-2, -1)) / torch.sqrt(torch.tensor(self.head_dim, dtype=torch.float32).to(x.device))\n",
    "        attn_weights = F.softmax(scores, dim=-1)\n",
    "        attn_output = torch.matmul(attn_weights, v)\n",
    "        attn_output = attn_output.transpose(1, 2).contiguous().reshape(batch_size, seq_len, self.embed_dim)\n",
    "        if return_weights:\n",
    "            return self.out_proj(attn_output), attn_weights\n",
    "        return self.out_proj(attn_output)"
   ]
  },
  {
   "cell_type": "code",
   "execution_count": 42,
   "metadata": {},
   "outputs": [],
   "source": [
    "class TransformerBlock(nn.Module):\n",
    "    def __init__(self, embed_dim, num_heads, ff_dim):\n",
    "        super().__init__()\n",
    "        self.attn = MultiHeadSelfAttention(embed_dim, num_heads)\n",
    "        self.ff = PositionwiseFeedForward(embed_dim, ff_dim)\n",
    "        self.norm1 = nn.LayerNorm(embed_dim)\n",
    "        self.norm2 = nn.LayerNorm(embed_dim)\n",
    "\n",
    "    def forward(self, x, return_weights=False):\n",
    "        if return_weights:\n",
    "            attn_out, attn_weights = self.attn(self.norm1(x), return_weights=True)\n",
    "            x = x + attn_out\n",
    "            x = x + self.ff(self.norm2(x))\n",
    "            return x, attn_weights\n",
    "        x = x + self.attn(self.norm1(x))\n",
    "        x = x + self.ff(self.norm2(x))\n",
    "        return x"
   ]
  },
  {
   "cell_type": "code",
   "execution_count": 43,
   "metadata": {},
   "outputs": [],
   "source": [
    "class SelfAttentionModel(nn.Module):\n",
    "    def __init__(self, vocab_size, embed_dim, num_heads, ff_dim, num_layers):\n",
    "        super().__init__()\n",
    "        self.embedding = nn.Embedding(vocab_size, embed_dim)\n",
    "        self.layers = nn.ModuleList([TransformerBlock(embed_dim, num_heads, ff_dim) for _ in range(num_layers)])\n",
    "        self.classifier = nn.Linear(embed_dim, vocab_size)\n",
    "\n",
    "    def forward(self, x, return_weights=False):\n",
    "        x = self.embedding(x)\n",
    "        attn_weights_all = []\n",
    "        for layer in self.layers:\n",
    "            if return_weights:\n",
    "                x, attn_weights = layer(x, return_weights=True)\n",
    "                attn_weights_all.append(attn_weights)\n",
    "            else:\n",
    "                x = layer(x)\n",
    "        logits = self.classifier(x)\n",
    "        if return_weights:\n",
    "            return logits, attn_weights_all\n",
    "        return logits"
   ]
  },
  {
   "cell_type": "code",
   "execution_count": 44,
   "metadata": {},
   "outputs": [
    {
     "name": "stdout",
     "output_type": "stream",
     "text": [
      "Extracted attention weights shape: torch.Size([1, 4, 6, 6])\n"
     ]
    }
   ],
   "source": [
    "model_with_attn = SelfAttentionModel(vocab_size, 32, 4, 64, 2).to(device)\n",
    "model_with_attn.load_state_dict(model.state_dict())  # reuse learned weights\n",
    "\n",
    "_, attn_weights = model_with_attn(new_input, return_weights=True)\n",
    "print(f\"Extracted attention weights shape: {attn_weights[0].shape}\")  # (batch, heads, seq_len, seq_len)"
   ]
  },
  {
   "cell_type": "markdown",
   "metadata": {},
   "source": [
    "##### **Q28: How do you visualize the attention weights as heatmaps to show which tokens or elements the model attends to during the forward pass?**\n"
   ]
  },
  {
   "cell_type": "code",
   "execution_count": 45,
   "metadata": {},
   "outputs": [],
   "source": [
    "def plot_attention(attn_weights):\n",
    "    avg_weights = attn_weights.mean(dim=1)[0].detach().cpu().numpy()  # average over heads\n",
    "    plt.imshow(avg_weights, cmap='viridis')\n",
    "    plt.xlabel(\"Key\")\n",
    "    plt.ylabel(\"Query\")\n",
    "    plt.colorbar()\n",
    "    plt.title(\"Attention Weights Heatmap\")\n",
    "    plt.show()"
   ]
  },
  {
   "cell_type": "code",
   "execution_count": 46,
   "metadata": {},
   "outputs": [
    {
     "data": {
      "image/png": "[encoded data removed]",
      "text/plain": [
       "<Figure size 640x480 with 2 Axes>"
      ]
     },
     "metadata": {},
     "output_type": "display_data"
    }
   ],
   "source": [
    "plot_attention(attn_weights[0])"
   ]
  },
  {
   "cell_type": "markdown",
   "metadata": {},
   "source": [
    "##### **Q29: How do you interpret the attention heatmaps to understand how attention is distributed across layers and heads?**"
   ]
  },
  {
   "cell_type": "code",
   "execution_count": 47,
   "metadata": {},
   "outputs": [
    {
     "name": "stdout",
     "output_type": "stream",
     "text": [
      "Token-to-token attention matrix (head 0, first layer):\n",
      "[[0.14181168 0.21660401 0.16228434 0.16228434 0.1004116  0.21660401]\n",
      " [0.0286951  0.35881448 0.1047312  0.1047312  0.04421364 0.35881448]\n",
      " [0.09184583 0.20329945 0.22606175 0.22606175 0.04943175 0.20329945]\n",
      " [0.09184583 0.20329945 0.22606175 0.22606175 0.04943175 0.20329945]\n",
      " [0.19862875 0.03242758 0.04059549 0.04059549 0.6553251  0.03242758]\n",
      " [0.0286951  0.35881448 0.1047312  0.1047312  0.04421364 0.35881448]]\n"
     ]
    }
   ],
   "source": [
    "print(\"Token-to-token attention matrix (head 0, first layer):\")\n",
    "print(attn_weights[0][0, 0].detach().cpu().numpy())  # first sample, first head"
   ]
  },
  {
   "cell_type": "markdown",
   "metadata": {},
   "source": [
    "## Experimenting with hyperparameters\n"
   ]
  },
  {
   "cell_type": "markdown",
   "metadata": {},
   "source": [
    "##### **Q30: How do you experiment with different numbers of attention heads and analyze their effect on model performance and training time?**\n"
   ]
  },
  {
   "cell_type": "code",
   "execution_count": 48,
   "metadata": {},
   "outputs": [
    {
     "name": "stdout",
     "output_type": "stream",
     "text": [
      "\n",
      "Training with 2 heads:\n",
      "Epoch 1: Loss = 1.7467\n",
      "Epoch 2: Loss = 0.4300\n",
      "Epoch 3: Loss = 0.0750\n",
      "\n",
      "Training with 4 heads:\n",
      "Epoch 1: Loss = 1.3667\n",
      "Epoch 2: Loss = 0.2976\n",
      "Epoch 3: Loss = 0.0538\n",
      "\n",
      "Training with 8 heads:\n",
      "Epoch 1: Loss = 1.4044\n",
      "Epoch 2: Loss = 0.3385\n",
      "Epoch 3: Loss = 0.0596\n"
     ]
    }
   ],
   "source": [
    "for num_heads in [2, 4, 8]:\n",
    "    temp_model = SelfAttentionModel(vocab_size, 32, num_heads, 64, 2).to(device)\n",
    "    temp_optimizer = torch.optim.Adam(temp_model.parameters(), lr=1e-3)\n",
    "    print(f\"\\nTraining with {num_heads} heads:\")\n",
    "    train_loop(temp_model, train_loader, temp_optimizer, criterion, epochs=3)"
   ]
  },
  {
   "cell_type": "markdown",
   "metadata": {},
   "source": [
    "##### **Q31: How do you adjust the hidden dimension size of the self-attention mechanism and observe its impact on accuracy and convergence?**\n"
   ]
  },
  {
   "cell_type": "code",
   "execution_count": 49,
   "metadata": {},
   "outputs": [
    {
     "name": "stdout",
     "output_type": "stream",
     "text": [
      "\n",
      "Training with embedding dim 16:\n",
      "Epoch 1: Loss = 2.0228\n",
      "Epoch 2: Loss = 1.0745\n",
      "Epoch 3: Loss = 0.4269\n",
      "\n",
      "Training with embedding dim 32:\n",
      "Epoch 1: Loss = 1.3445\n",
      "Epoch 2: Loss = 0.3042\n",
      "Epoch 3: Loss = 0.0556\n",
      "\n",
      "Training with embedding dim 64:\n",
      "Epoch 1: Loss = 1.0269\n",
      "Epoch 2: Loss = 0.0372\n",
      "Epoch 3: Loss = 0.0064\n"
     ]
    }
   ],
   "source": [
    "for embed_dim in [16, 32, 64]:\n",
    "    temp_model = SelfAttentionModel(vocab_size, embed_dim, 4, 64, 2).to(device)\n",
    "    temp_optimizer = torch.optim.Adam(temp_model.parameters(), lr=1e-3)\n",
    "    print(f\"\\nTraining with embedding dim {embed_dim}:\")\n",
    "    train_loop(temp_model, train_loader, temp_optimizer, criterion, epochs=3)"
   ]
  },
  {
   "cell_type": "markdown",
   "metadata": {},
   "source": [
    "##### **Q32: How do you experiment with varying the number of transformer blocks in the model and analyze how it affects the results?**\n"
   ]
  },
  {
   "cell_type": "code",
   "execution_count": 50,
   "metadata": {},
   "outputs": [
    {
     "name": "stdout",
     "output_type": "stream",
     "text": [
      "\n",
      "Training with 1 transformer blocks:\n",
      "Epoch 1: Loss = 1.5968\n",
      "Epoch 2: Loss = 0.6041\n",
      "Epoch 3: Loss = 0.1554\n",
      "\n",
      "Training with 2 transformer blocks:\n",
      "Epoch 1: Loss = 1.8826\n",
      "Epoch 2: Loss = 0.4580\n",
      "Epoch 3: Loss = 0.0784\n",
      "\n",
      "Training with 4 transformer blocks:\n",
      "Epoch 1: Loss = 1.1107\n",
      "Epoch 2: Loss = 0.1254\n",
      "Epoch 3: Loss = 0.0233\n"
     ]
    }
   ],
   "source": [
    "for num_layers in [1, 2, 4]:\n",
    "    temp_model = SelfAttentionModel(vocab_size, 32, 4, 64, num_layers).to(device)\n",
    "    temp_optimizer = torch.optim.Adam(temp_model.parameters(), lr=1e-3)\n",
    "    print(f\"\\nTraining with {num_layers} transformer blocks:\")\n",
    "    train_loop(temp_model, train_loader, temp_optimizer, criterion, epochs=3)"
   ]
  },
  {
   "cell_type": "markdown",
   "metadata": {},
   "source": [
    "##### **Q33: How do you tune learning rates and dropout rates to improve the generalization of the self-attention model?**\n"
   ]
  },
  {
   "cell_type": "code",
   "execution_count": 51,
   "metadata": {},
   "outputs": [
    {
     "name": "stdout",
     "output_type": "stream",
     "text": [
      "\n",
      "Training with learning rate 0.0001:\n",
      "Epoch 1: Loss = 2.3815\n",
      "Epoch 2: Loss = 2.1971\n",
      "Epoch 3: Loss = 2.0263\n",
      "\n",
      "Training with learning rate 0.001:\n",
      "Epoch 1: Loss = 1.5310\n",
      "Epoch 2: Loss = 0.3275\n",
      "Epoch 3: Loss = 0.0546\n",
      "\n",
      "Training with learning rate 0.01:\n",
      "Epoch 1: Loss = 0.2920\n",
      "Epoch 2: Loss = 0.0000\n",
      "Epoch 3: Loss = 0.0000\n"
     ]
    }
   ],
   "source": [
    "for lr in [1e-4, 1e-3, 1e-2]:\n",
    "    temp_model = SelfAttentionModel(vocab_size, 32, 4, 64, 2).to(device)\n",
    "    temp_optimizer = torch.optim.Adam(temp_model.parameters(), lr=lr)\n",
    "    print(f\"\\nTraining with learning rate {lr}:\")\n",
    "    train_loop(temp_model, train_loader, temp_optimizer, criterion, epochs=3)"
   ]
  },
  {
   "cell_type": "markdown",
   "metadata": {},
   "source": [
    "##### **Q34: How do you analyze the effect of different activation functions in the feed-forward network on training stability?**"
   ]
  },
  {
   "cell_type": "code",
   "execution_count": 52,
   "metadata": {},
   "outputs": [],
   "source": [
    "class PositionwiseFeedForwardAct(nn.Module):\n",
    "    def __init__(self, embed_dim, ff_dim, activation):\n",
    "        super().__init__()\n",
    "        self.fc1 = nn.Linear(embed_dim, ff_dim)\n",
    "        self.fc2 = nn.Linear(ff_dim, embed_dim)\n",
    "        self.activation = activation\n",
    "\n",
    "    def forward(self, x):\n",
    "        return self.fc2(self.activation(self.fc1(x)))"
   ]
  },
  {
   "cell_type": "code",
   "execution_count": 53,
   "metadata": {},
   "outputs": [],
   "source": [
    "class TransformerBlockAct(nn.Module):\n",
    "    def __init__(self, embed_dim, num_heads, ff_dim, activation):\n",
    "        super().__init__()\n",
    "        self.attn = MultiHeadSelfAttention(embed_dim, num_heads)\n",
    "        self.ff = PositionwiseFeedForwardAct(embed_dim, ff_dim, activation)\n",
    "        self.norm1 = nn.LayerNorm(embed_dim)\n",
    "        self.norm2 = nn.LayerNorm(embed_dim)\n",
    "\n",
    "    def forward(self, x):\n",
    "        x = x + self.attn(self.norm1(x))\n",
    "        x = x + self.ff(self.norm2(x))\n",
    "        return x"
   ]
  },
  {
   "cell_type": "code",
   "execution_count": 54,
   "metadata": {},
   "outputs": [],
   "source": [
    "class SelfAttentionModelAct(nn.Module):\n",
    "    def __init__(self, vocab_size, embed_dim, num_heads, ff_dim, num_layers, activation):\n",
    "        super().__init__()\n",
    "        self.embedding = nn.Embedding(vocab_size, embed_dim)\n",
    "        self.layers = nn.ModuleList([TransformerBlockAct(embed_dim, num_heads, ff_dim, activation) for _ in range(num_layers)])\n",
    "        self.classifier = nn.Linear(embed_dim, vocab_size)\n",
    "\n",
    "    def forward(self, x):\n",
    "        x = self.embedding(x)\n",
    "        for layer in self.layers:\n",
    "            x = layer(x)\n",
    "        return self.classifier(x)"
   ]
  },
  {
   "cell_type": "code",
   "execution_count": 55,
   "metadata": {},
   "outputs": [
    {
     "name": "stdout",
     "output_type": "stream",
     "text": [
      "\n",
      "Training with activation: relu\n",
      "Epoch 1: Loss = 1.7794\n",
      "Epoch 2: Loss = 0.4392\n",
      "Epoch 3: Loss = 0.0693\n",
      "\n",
      "Training with activation: gelu\n",
      "Epoch 1: Loss = 1.7056\n",
      "Epoch 2: Loss = 0.3986\n",
      "Epoch 3: Loss = 0.0597\n",
      "\n",
      "Training with activation: leaky_relu\n",
      "Epoch 1: Loss = 1.5371\n",
      "Epoch 2: Loss = 0.3176\n",
      "Epoch 3: Loss = 0.0527\n"
     ]
    }
   ],
   "source": [
    "for act_fn in [F.relu, F.gelu, F.leaky_relu]:\n",
    "    temp_model = SelfAttentionModelAct(vocab_size, 32, 4, 64, 2, act_fn).to(device)\n",
    "    temp_optimizer = torch.optim.Adam(temp_model.parameters(), lr=1e-3)\n",
    "    print(f\"\\nTraining with activation: {act_fn.__name__}\")\n",
    "    train_loop(temp_model, train_loader, temp_optimizer, criterion, epochs=3)"
   ]
  }
 ],
 "metadata": {
  "kernelspec": {
   "display_name": "Python 3",
   "language": "python",
   "name": "python3"
  },
  "language_info": {
   "codemirror_mode": {
    "name": "ipython",
    "version": 3
   },
   "file_extension": ".py",
   "mimetype": "text/x-python",
   "name": "python",
   "nbconvert_exporter": "python",
   "pygments_lexer": "ipython3",
   "version": "3.12.8"
  }
 },
 "nbformat": 4,
 "nbformat_minor": 2
}
