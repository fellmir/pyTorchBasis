{
 "cells": [
  {
   "cell_type": "markdown",
   "metadata": {},
   "source": [
    "# Complex models with custom modules in PyTorch"
   ]
  },
  {
   "cell_type": "markdown",
   "metadata": {},
   "source": [
    "## Table of contents\n",
    "\n",
    "1. [Understanding custom modules](#understanding-custom-modules)\n",
    "2. [Setting up the environment](#setting-up-the-environment)\n",
    "3. [Building custom modules from custom layers](#building-custom-modules-from-custom-layers)\n",
    "4. [Creating reusable blocks of layers](#creating-reusable-blocks-of-layers)\n",
    "5. [Combining custom modules into a complex model](#combining-custom-modules-into-a-complex-model)\n",
    "6. [Implementing custom residual blocks](#implementing-custom-residual-blocks)\n",
    "7. [Building an encoder-decoder architecture with custom modules](#building-an-encoder-decoder-architecture-with-custom-modules)\n",
    "8. [Training and evaluating the complex model](#training-and-evaluating-the-complex-model)\n",
    "9. [Experimenting with different model configurations](#experimenting-with-different-model-configurations)"
   ]
  },
  {
   "cell_type": "markdown",
   "metadata": {},
   "source": [
    "## Understanding custom modules\n",
    "\n",
    "In PyTorch, building complex models often requires creating modular and reusable components. Custom modules provide the flexibility to design specialized architectures that go beyond the standard layers provided by PyTorch. Complex models with custom modules allow for breaking down large, sophisticated networks into manageable and reusable parts, facilitating easier debugging, extension, and experimentation."
   ]
  },
  {
   "cell_type": "markdown",
   "metadata": {},
   "source": [
    "### **What are custom modules in PyTorch?**\n",
    "\n",
    "Custom modules in PyTorch are classes that inherit from `torch.nn.Module`, the core building block for all neural networks in PyTorch. These custom modules encapsulate the logic for specific parts of the model, making them reusable, modular, and easy to integrate into more extensive networks.\n",
    "\n",
    "Complex models often consist of several layers or submodules, each performing a specific function or sequence of operations. By designing custom modules, each component can be defined separately, reused across different parts of the model, and even fine-tuned or modified independently.\n",
    "\n",
    "### **Why use custom modules in complex models?**\n",
    "\n",
    "Using custom modules is crucial for several reasons, particularly when building more sophisticated architectures:\n",
    "- **Modularity**: Custom modules break down complex models into smaller, manageable components that are easier to debug and understand.\n",
    "- **Reusability**: Once a custom module is defined, it can be reused across different parts of the model or even in entirely different models. This encourages cleaner and more maintainable code.\n",
    "- **Flexibility**: Custom modules can incorporate non-standard layers, complex operations, or even integrate external components, providing flexibility when designing novel architectures.\n",
    "- **Readability and scalability**: When models grow large, maintaining clean and readable code becomes challenging. Custom modules help organize the code, making it easier to scale up without sacrificing clarity.\n",
    "\n",
    "### **The structure of custom modules**\n",
    "\n",
    "Custom modules are typically defined by subclassing `torch.nn.Module` and consist of two key parts:\n",
    "- **Initialization (`__init__`)**: This is where the components (such as layers or other submodules) are defined. During initialization, the module sets up its internal state, including the parameters, sub-layers, and constants that it will use.\n",
    "- **Forward pass (`forward`)**: This method defines the logic for how input data is processed. It takes the input and applies the necessary transformations using the components defined in the `__init__` method. The forward pass contains the actual operations that map inputs to outputs.\n",
    "\n",
    "### **Building complex models with custom modules**\n",
    "\n",
    "Complex models are often hierarchical, meaning they are composed of multiple custom modules, each handling a specific part of the network. These modules can range from simple linear layers to more advanced components like convolutional layers, attention mechanisms, or recurrent modules. By combining these modules, a large model is built in a more structured and manageable way.\n",
    "\n",
    "#### **Submodules within a custom module**\n",
    "\n",
    "A custom module can itself contain other custom modules (referred to as submodules). This modular approach allows for a layered architecture, where each submodule performs a specific function. The submodules can be combined sequentially or in parallel, depending on the model's requirements.\n",
    "\n",
    "For example, a complex model might consist of:\n",
    "- An encoder module that processes the input data.\n",
    "- A decoder module that generates the output based on the encoded representation.\n",
    "- Intermediate layers or attention modules that process the data between the encoder and decoder.\n",
    "\n",
    "#### **Sequential models**\n",
    "\n",
    "PyTorch provides the `torch.nn.Sequential` class to streamline the process of stacking layers sequentially. This class can be useful when a custom module involves applying multiple layers in a fixed order. However, `nn.Sequential` is limited in that it doesn't support more flexible data flow, such as branching or using different submodules conditionally. For more sophisticated models, custom modules should be defined explicitly to handle non-linear data flows.\n",
    "\n",
    "#### **Parameter sharing and memory efficiency**\n",
    "\n",
    "Custom modules allow for parameter sharing, where the same layer or set of parameters is used across multiple parts of the model. This can be useful in architectures like recurrent models or attention-based models where certain transformations are reused multiple times.\n",
    "\n",
    "By reusing layers or weights, parameter sharing not only reduces the number of learned parameters, but also helps improve memory efficiency during training and inference.\n",
    "\n",
    "### **Examples of complex models with custom modules**\n",
    "\n",
    "#### **Example 1: Encoder-decoder architecture**\n",
    "\n",
    "An encoder-decoder architecture, commonly used in tasks like machine translation or sequence-to-sequence learning, can be implemented using custom modules for both the encoder and decoder.\n",
    "\n",
    "- **Encoder module**: The encoder processes the input sequence and produces a context or latent representation. It could consist of several stacked layers such as LSTM or GRU units.\n",
    "- **Decoder module**: The decoder takes the encoded representation and generates the output sequence, often using another LSTM or GRU unit to decode the input.\n",
    "- **Custom attention module**: Between the encoder and decoder, an attention mechanism may be included to help the model focus on different parts of the input sequence while generating each token in the output sequence.\n",
    "\n",
    "Each of these components can be implemented as a separate custom module, allowing for flexibility in how they are combined and trained.\n",
    "\n",
    "#### **Example 2: Residual networks (ResNet)**\n",
    "\n",
    "Residual networks introduce skip connections, which allow gradients to flow more easily during backpropagation by bypassing one or more layers. This architecture can be implemented using custom modules to define the building blocks of the residual connections.\n",
    "\n",
    "- A **Residual block** could be implemented as a custom module that adds the input to the output of a series of convolutional layers, making the learning of identity mappings easier.\n",
    "- These blocks can then be stacked to form deep residual networks, with each block being a reusable component of the architecture.\n",
    "\n",
    "### **Designing modular networks for experimentation**\n",
    "\n",
    "Custom modules make it easier to experiment with different architectures by allowing components to be swapped out or modified without changing the entire model. For example, if a certain layer in the model is underperforming, it can be replaced with a more advanced custom module without having to redesign the entire network.\n",
    "\n",
    "This modularity also allows for rapid prototyping, where different configurations of a model can be tested quickly by assembling them from pre-defined custom modules. Additionally, complex models with custom modules can integrate external modules or specialized components (such as those built in C++ or CUDA), expanding the model’s capabilities.\n",
    "\n",
    "### **Training and backpropagation in custom modules**\n",
    "\n",
    "When using custom modules in complex models, PyTorch handles backpropagation automatically. As long as the custom modules use differentiable operations (such as matrix multiplication or activation functions), PyTorch tracks the gradients through the computational graph. During training, the optimizer updates the parameters of each custom module in the same way it does for standard PyTorch layers.\n",
    "\n",
    "Since custom modules integrate seamlessly with PyTorch’s autograd system, there is no need to manually compute gradients. This ensures that even the most complex models, composed of multiple submodules and custom operations, can be trained efficiently with minimal effort.\n",
    "\n",
    "### **Advantages of using custom modules in complex models**\n",
    "\n",
    "Custom modules offer several advantages when building complex models:\n",
    "- **Code organization**: Custom modules improve code readability and maintainability by breaking down large models into manageable components.\n",
    "- **Reusability**: Modules can be reused in different models or shared across multiple parts of the same model, reducing redundancy in the codebase.\n",
    "- **Flexibility**: Custom modules allow for the integration of novel architectures, external components, or unique operations not covered by standard PyTorch layers.\n",
    "- **Debugging**: Breaking a large model into smaller custom modules makes it easier to debug and isolate issues, especially when experimenting with new architectures."
   ]
  },
  {
   "cell_type": "markdown",
   "metadata": {},
   "source": [
    "### **Maths**\n",
    "\n",
    "#### **Modular representation of complex models**\n",
    "\n",
    "In neural networks, a model can be mathematically described as a function $ f $ that maps an input $ x $ to an output $ y $ through a sequence of transformations, represented as:\n",
    "\n",
    "$$\n",
    "y = f(x) = f_n(f_{n-1}(...f_1(x)))\n",
    "$$\n",
    "\n",
    "where each $ f_i $ represents a layer or operation in the network. In the case of complex models with custom modules, each function $ f_i $ can be a custom module that encapsulates a set of transformations, submodules, or learnable parameters.\n",
    "\n",
    "Custom modules, like standard layers, often define the transformation of an input tensor through a series of operations involving matrix multiplications, non-linear functions, and other operations.\n",
    "\n",
    "#### **Forward pass through custom modules**\n",
    "\n",
    "Consider a custom module that represents a linear transformation followed by an activation function. The forward pass for such a custom module can be described mathematically as:\n",
    "\n",
    "$$\n",
    "y = f(Wx + b)\n",
    "$$\n",
    "\n",
    "where:\n",
    "- $ W $ is the weight matrix,\n",
    "- $ x $ is the input tensor,\n",
    "- $ b $ is the bias vector,\n",
    "- $ f $ is a non-linear activation function (such as ReLU, sigmoid, or tanh),\n",
    "- $ y $ is the output.\n",
    "\n",
    "The custom module applies the linear transformation $ Wx + b $ followed by the activation function, which introduces non-linearity into the model.\n",
    "\n",
    "#### **Parameter initialization in complex models**\n",
    "\n",
    "When using custom modules, the parameters (such as weights and biases) are initialized according to specific initialization schemes to ensure that the model starts from a stable point. For example, a common initialization method is **Xavier initialization**, where the weights $ W $ are sampled from a uniform distribution:\n",
    "\n",
    "$$\n",
    "W \\sim U\\left(-\\frac{\\sqrt{6}}{\\sqrt{n_{\\text{in}} + n_{\\text{out}}}}, \\frac{\\sqrt{6}}{\\sqrt{n_{\\text{in}} + n_{\\text{out}}}}\\right)\n",
    "$$\n",
    "\n",
    "where $ n_{\\text{in}} $ is the number of input units, and $ n_{\\text{out}} $ is the number of output units for that layer.\n",
    "\n",
    "Alternatively, **He initialization** is used when the activation function is ReLU, and the weights are initialized from a normal distribution:\n",
    "\n",
    "$$\n",
    "W \\sim \\mathcal{N}\\left(0, \\frac{2}{n_{\\text{in}}}\\right)\n",
    "$$\n",
    "\n",
    "These initialization schemes ensure that the gradients flow properly during backpropagation and prevent issues like vanishing or exploding gradients.\n",
    "\n",
    "#### **Sequential and parallel operations in complex models**\n",
    "\n",
    "In complex models, operations may be applied sequentially or in parallel, depending on the architecture. Mathematically, sequential operations can be represented as:\n",
    "\n",
    "$$\n",
    "y = f_n(f_{n-1}(...f_1(x)))\n",
    "$$\n",
    "\n",
    "This describes a series of transformations applied one after another, where the output of each layer becomes the input to the next.\n",
    "\n",
    "Parallel operations involve splitting the input $ x $ into multiple branches, applying different transformations in parallel, and then combining the results. For example, if there are two parallel transformations $ f_1 $ and $ f_2 $, the output can be described as:\n",
    "\n",
    "$$\n",
    "y = g(f_1(x), f_2(x))\n",
    "$$\n",
    "\n",
    "where $ g $ is a function that combines the results, such as element-wise addition or concatenation.\n",
    "\n",
    "#### **Residual connections in complex models**\n",
    "\n",
    "In residual networks (ResNet), skip or residual connections are introduced to help gradients flow more easily during backpropagation. The mathematical representation of a residual block is:\n",
    "\n",
    "$$\n",
    "y = f(x) + x\n",
    "$$\n",
    "\n",
    "Here, $ f(x) $ is a series of transformations (e.g., convolution, batch normalization, and ReLU activation), and the input $ x $ is added directly to the output, forming a shortcut connection. This simple operation helps mitigate the problem of vanishing gradients in deep networks by allowing the model to learn identity mappings.\n",
    "\n",
    "The gradients in the residual block are computed using the chain rule, and the residual connection ensures that the gradient is not diminished when backpropagated through many layers.\n",
    "\n",
    "#### **Attention mechanisms in complex models**\n",
    "\n",
    "In more advanced architectures, such as transformer-based models, custom modules often implement attention mechanisms. The **scaled dot-product attention** is a common component in these models, and it can be described mathematically as:\n",
    "\n",
    "$$\n",
    "\\text{Attention}(Q, K, V) = \\text{softmax}\\left(\\frac{QK^T}{\\sqrt{d_k}}\\right)V\n",
    "$$\n",
    "\n",
    "where:\n",
    "- $ Q $ is the query matrix,\n",
    "- $ K $ is the key matrix,\n",
    "- $ V $ is the value matrix,\n",
    "- $ d_k $ is the dimensionality of the key vectors.\n",
    "\n",
    "The attention mechanism computes the dot product of the query and key matrices, scales it by $ \\frac{1}{\\sqrt{d_k}} $, and applies a softmax function to generate attention weights. These weights are then multiplied by the value matrix $ V $ to produce the output. Custom modules that implement attention mechanisms allow the model to focus on specific parts of the input data dynamically.\n",
    "\n",
    "#### **Backpropagation and gradient flow in complex models**\n",
    "\n",
    "When training complex models with custom modules, PyTorch automatically handles backpropagation by computing gradients through the computational graph. The gradients of the loss function with respect to each parameter are computed using the chain rule.\n",
    "\n",
    "For a custom module with a transformation $ y = f(Wx + b) $, the gradients with respect to the parameters are:\n",
    "- Gradient with respect to the weight matrix $ W $:\n",
    "\n",
    "$$\n",
    "\\frac{\\partial L}{\\partial W} = \\delta \\cdot x^T\n",
    "$$\n",
    "\n",
    "where $ \\delta $ is the gradient of the loss with respect to the output $ y $, and $ x^T $ is the transpose of the input.\n",
    "\n",
    "- Gradient with respect to the bias $ b $:\n",
    "\n",
    "$$\n",
    "\\frac{\\partial L}{\\partial b} = \\delta\n",
    "$$\n",
    "\n",
    "- Gradient with respect to the input $ x $:\n",
    "\n",
    "$$\n",
    "\\frac{\\partial L}{\\partial x} = W^T \\cdot \\delta\n",
    "$$\n",
    "\n",
    "These gradients are then used by the optimizer to update the parameters during training.\n",
    "\n",
    "#### **Parameter sharing in custom modules**\n",
    "\n",
    "Parameter sharing in custom modules allows the same set of parameters to be used across multiple layers or operations. This is useful in models where the same transformation is applied repeatedly. Mathematically, parameter sharing can be expressed as:\n",
    "\n",
    "$$\n",
    "y_t = f(Wx_t + b)\n",
    "$$\n",
    "\n",
    "where the same weight matrix $ W $ and bias $ b $ are applied to different inputs $ x_t $ across multiple time steps or layers.\n",
    "\n",
    "Parameter sharing reduces the number of learned parameters and ensures consistent transformations across the model, which is particularly useful in architectures like recurrent neural networks (RNNs) or attention-based models."
   ]
  },
  {
   "cell_type": "markdown",
   "metadata": {},
   "source": [
    "## Setting up the environment\n"
   ]
  },
  {
   "cell_type": "markdown",
   "metadata": {},
   "source": [
    "##### **Q1: How do you install the necessary libraries for building and training complex models with custom modules in PyTorch?**\n"
   ]
  },
  {
   "cell_type": "code",
   "execution_count": 1,
   "metadata": {},
   "outputs": [],
   "source": [
    "# !pip install torch torchvision matplotlib"
   ]
  },
  {
   "cell_type": "markdown",
   "metadata": {},
   "source": [
    "##### **Q2: How do you import the required modules for defining custom modules and training models in PyTorch?**\n"
   ]
  },
  {
   "cell_type": "code",
   "execution_count": 2,
   "metadata": {},
   "outputs": [],
   "source": [
    "import torch\n",
    "import torch.nn as nn\n",
    "import torch.optim as optim\n",
    "import torchvision\n",
    "import torchvision.transforms as transforms\n",
    "import matplotlib.pyplot as plt\n",
    "import math"
   ]
  },
  {
   "cell_type": "markdown",
   "metadata": {},
   "source": [
    "##### **Q3: How do you configure your environment to use a GPU for training complex models, and how do you fallback to CPU in PyTorch?**"
   ]
  },
  {
   "cell_type": "code",
   "execution_count": 3,
   "metadata": {},
   "outputs": [
    {
     "name": "stdout",
     "output_type": "stream",
     "text": [
      "Using device: cuda\n"
     ]
    }
   ],
   "source": [
    "device = torch.device('cuda' if torch.cuda.is_available() else 'cpu')\n",
    "print('Using device:', device)"
   ]
  },
  {
   "cell_type": "markdown",
   "metadata": {},
   "source": [
    "## Building custom modules from custom layers\n"
   ]
  },
  {
   "cell_type": "markdown",
   "metadata": {},
   "source": [
    "##### **Q4: How do you define a custom module by combining multiple custom layers using `torch.nn.Module`?**\n"
   ]
  },
  {
   "cell_type": "code",
   "execution_count": 4,
   "metadata": {},
   "outputs": [],
   "source": [
    "class CustomModule(nn.Module):\n",
    "    def __init__(self):\n",
    "        super(CustomModule, self).__init__()\n",
    "        self.layer1 = nn.Linear(784, 256)\n",
    "        self.layer2 = nn.ReLU()\n",
    "        self.layer3 = nn.Linear(256, 10)\n",
    "    \n",
    "    def forward(self, x):\n",
    "        x = self.layer1(x)\n",
    "        x = self.layer2(x)\n",
    "        x = self.layer3(x)\n",
    "        return x"
   ]
  },
  {
   "cell_type": "markdown",
   "metadata": {},
   "source": [
    "##### **Q5: How do you implement the forward pass for a custom module that integrates both custom and built-in layers in PyTorch?**\n"
   ]
  },
  {
   "cell_type": "code",
   "execution_count": 5,
   "metadata": {},
   "outputs": [],
   "source": [
    "class CustomModule(nn.Module):\n",
    "    def __init__(self):\n",
    "        super(CustomModule, self).__init__()\n",
    "        self.flatten = nn.Flatten()\n",
    "        self.fc1 = nn.Linear(28*28, 128)\n",
    "        self.custom_activation = nn.ReLU()\n",
    "        self.fc2 = nn.Linear(128, 64)\n",
    "        self.fc3 = nn.Linear(64, 10)\n",
    "    \n",
    "    def forward(self, x):\n",
    "        x = self.flatten(x)\n",
    "        x = self.fc1(x)\n",
    "        x = self.custom_activation(x)\n",
    "        x = self.fc2(x)\n",
    "        x = self.custom_activation(x)\n",
    "        x = self.fc3(x)\n",
    "        return x"
   ]
  },
  {
   "cell_type": "markdown",
   "metadata": {},
   "source": [
    "##### **Q6: How do you create a custom module that applies a linear transformation followed by a custom activation layer?**\n"
   ]
  },
  {
   "cell_type": "code",
   "execution_count": 6,
   "metadata": {},
   "outputs": [],
   "source": [
    "class CustomActivation(nn.Module):\n",
    "    def forward(self, x):\n",
    "        return torch.sigmoid(x) * x  # Custom activation function"
   ]
  },
  {
   "cell_type": "code",
   "execution_count": 7,
   "metadata": {},
   "outputs": [],
   "source": [
    "class LinearCustomActivation(nn.Module):\n",
    "    def __init__(self, in_features, out_features):\n",
    "        super(LinearCustomActivation, self).__init__()\n",
    "        self.linear = nn.Linear(in_features, out_features)\n",
    "        self.activation = CustomActivation()\n",
    "    \n",
    "    def forward(self, x):\n",
    "        x = self.linear(x)\n",
    "        x = self.activation(x)\n",
    "        return x"
   ]
  },
  {
   "cell_type": "markdown",
   "metadata": {},
   "source": [
    "##### **Q7: How do you apply a custom module to a simple input tensor to verify its behavior in a standalone setting?**"
   ]
  },
  {
   "cell_type": "code",
   "execution_count": 8,
   "metadata": {},
   "outputs": [
    {
     "name": "stdout",
     "output_type": "stream",
     "text": [
      "tensor([[ 0.1627,  0.0773,  1.0103, -0.1875, -0.2270,  0.0291,  0.2146,  0.0037,\n",
      "         -0.2354, -0.1044]], grad_fn=<MulBackward0>)\n"
     ]
    }
   ],
   "source": [
    "input_tensor = torch.randn(1, 28*28)\n",
    "model = LinearCustomActivation(28*28, 10)\n",
    "output = model(input_tensor)\n",
    "print(output)"
   ]
  },
  {
   "cell_type": "markdown",
   "metadata": {},
   "source": [
    "## Creating reusable blocks of layers\n"
   ]
  },
  {
   "cell_type": "markdown",
   "metadata": {},
   "source": [
    "##### **Q8: How do you define a reusable block of layers, such as a convolutional block, by combining multiple layers in a custom module?**\n"
   ]
  },
  {
   "cell_type": "code",
   "execution_count": 9,
   "metadata": {},
   "outputs": [],
   "source": [
    "class ConvBlock(nn.Module):\n",
    "    def __init__(self, in_channels, out_channels, kernel_size=3, padding=1):\n",
    "        super(ConvBlock, self).__init__()\n",
    "        self.conv = nn.Conv2d(in_channels, out_channels, kernel_size, padding=padding)\n",
    "        self.bn = nn.BatchNorm2d(out_channels)\n",
    "        self.activation = nn.ReLU()\n",
    "    \n",
    "    def forward(self, x):\n",
    "        x = self.conv(x)\n",
    "        x = self.bn(x)\n",
    "        x = self.activation(x)\n",
    "        return x"
   ]
  },
  {
   "cell_type": "markdown",
   "metadata": {},
   "source": [
    "##### **Q9: How do you implement a custom convolutional block that includes convolution, batch normalization, and activation layers?**\n"
   ]
  },
  {
   "cell_type": "code",
   "execution_count": 10,
   "metadata": {},
   "outputs": [],
   "source": [
    "class AdvancedConvBlock(nn.Module):\n",
    "    def __init__(self, in_channels, out_channels, kernel_size=3, padding=1, stride=1):\n",
    "        super(AdvancedConvBlock, self).__init__()\n",
    "        self.conv = nn.Conv2d(in_channels, out_channels, kernel_size, stride=stride, padding=padding)\n",
    "        self.bn = nn.BatchNorm2d(out_channels)\n",
    "        self.activation = nn.LeakyReLU(negative_slope=0.01)\n",
    "        self.dropout = nn.Dropout2d(0.2)  # Added dropout layer\n",
    "    \n",
    "    def forward(self, x):\n",
    "        x = self.conv(x)\n",
    "        x = self.bn(x)\n",
    "        x = self.activation(x)\n",
    "        x = self.dropout(x)\n",
    "        return x"
   ]
  },
  {
   "cell_type": "markdown",
   "metadata": {},
   "source": [
    "##### **Q10: How do you stack multiple instances of a custom block in a larger neural network architecture?**"
   ]
  },
  {
   "cell_type": "code",
   "execution_count": 11,
   "metadata": {},
   "outputs": [],
   "source": [
    "class CustomCNN(nn.Module):\n",
    "    def __init__(self):\n",
    "        super(CustomCNN, self).__init__()\n",
    "        self.block1 = ConvBlock(3, 16)\n",
    "        self.block2 = ConvBlock(16, 32)\n",
    "        self.block3 = ConvBlock(32, 64)\n",
    "        self.pool = nn.MaxPool2d(2, 2)\n",
    "        self.fc = nn.Linear(64 * 4 * 4, 10)\n",
    "    \n",
    "    def forward(self, x):\n",
    "        x = self.pool(self.block1(x))\n",
    "        x = self.pool(self.block2(x))\n",
    "        x = self.pool(self.block3(x))\n",
    "        x = x.view(-1, 64 * 4 * 4)\n",
    "        x = self.fc(x)\n",
    "        return x"
   ]
  },
  {
   "cell_type": "markdown",
   "metadata": {},
   "source": [
    "## Combining custom modules into a complex model\n"
   ]
  },
  {
   "cell_type": "markdown",
   "metadata": {},
   "source": [
    "##### **Q11: How do you combine custom modules into a more complex model, such as a multi-layer CNN or a deep feedforward network?**\n"
   ]
  },
  {
   "cell_type": "code",
   "execution_count": 12,
   "metadata": {},
   "outputs": [],
   "source": [
    "class ComplexCNN(nn.Module):\n",
    "    def __init__(self):\n",
    "        super(ComplexCNN, self).__init__()\n",
    "        self.conv_blocks = nn.Sequential(\n",
    "            ConvBlock(3, 32),\n",
    "            ConvBlock(32, 64),\n",
    "            ConvBlock(64, 128)\n",
    "        )\n",
    "        self.pool = nn.AdaptiveAvgPool2d((1, 1))\n",
    "        self.fc = nn.Linear(128, 10)\n",
    "    \n",
    "    def forward(self, x):\n",
    "        x = self.conv_blocks(x)\n",
    "        x = self.pool(x)\n",
    "        x = x.view(-1, 128)\n",
    "        x = self.fc(x)\n",
    "        return x"
   ]
  },
  {
   "cell_type": "markdown",
   "metadata": {},
   "source": [
    "##### **Q12: How do you implement a forward pass that uses multiple custom modules to process data in a hierarchical fashion?**\n"
   ]
  },
  {
   "cell_type": "code",
   "execution_count": 13,
   "metadata": {},
   "outputs": [],
   "source": [
    "class HierarchicalModel(nn.Module):\n",
    "    def __init__(self):\n",
    "        super(HierarchicalModel, self).__init__()\n",
    "        self.block1 = ConvBlock(3, 64)\n",
    "        self.block2 = ConvBlock(64, 128)\n",
    "        self.block3 = ConvBlock(128, 256)\n",
    "        self.pool = nn.MaxPool2d(2, 2)\n",
    "        self.fc = nn.Sequential(\n",
    "            nn.Linear(256 * 4 * 4, 1024),\n",
    "            nn.ReLU(),\n",
    "            nn.Linear(1024, 10)\n",
    "        )\n",
    "    \n",
    "    def forward(self, x):\n",
    "        x = self.pool(self.block1(x))\n",
    "        x = self.pool(self.block2(x))\n",
    "        x = self.pool(self.block3(x))\n",
    "        x = x.view(-1, 256 * 4 * 4)\n",
    "        x = self.fc(x)\n",
    "        return x"
   ]
  },
  {
   "cell_type": "markdown",
   "metadata": {},
   "source": [
    "##### **Q13: How do you apply dropout between custom modules to prevent overfitting in a complex model?**"
   ]
  },
  {
   "cell_type": "code",
   "execution_count": 14,
   "metadata": {},
   "outputs": [],
   "source": [
    "class DropoutModel(nn.Module):\n",
    "    def __init__(self):\n",
    "        super(DropoutModel, self).__init__()\n",
    "        self.block1 = ConvBlock(3, 64)\n",
    "        self.dropout1 = nn.Dropout(0.5)\n",
    "        self.block2 = ConvBlock(64, 128)\n",
    "        self.dropout2 = nn.Dropout(0.5)\n",
    "        self.pool = nn.AdaptiveAvgPool2d((1, 1))\n",
    "        self.fc = nn.Linear(128, 10)\n",
    "    \n",
    "    def forward(self, x):\n",
    "        x = self.block1(x)\n",
    "        x = self.dropout1(x)\n",
    "        x = self.block2(x)\n",
    "        x = self.dropout2(x)\n",
    "        x = self.pool(x)\n",
    "        x = x.view(-1, 128)\n",
    "        x = self.fc(x)\n",
    "        return x"
   ]
  },
  {
   "cell_type": "markdown",
   "metadata": {},
   "source": [
    "## Implementing custom residual blocks\n"
   ]
  },
  {
   "cell_type": "markdown",
   "metadata": {},
   "source": [
    "##### **Q14: How do you implement a custom residual block that includes a skip connection for bypassing the main layer stack?**\n"
   ]
  },
  {
   "cell_type": "code",
   "execution_count": 15,
   "metadata": {},
   "outputs": [],
   "source": [
    "class ResidualBlock(nn.Module):\n",
    "    def __init__(self, channels):\n",
    "        super(ResidualBlock, self).__init__()\n",
    "        self.conv1 = ConvBlock(channels, channels)\n",
    "        self.conv2 = ConvBlock(channels, channels)\n",
    "    \n",
    "    def forward(self, x):\n",
    "        identity = x\n",
    "        out = self.conv1(x)\n",
    "        out = self.conv2(out)\n",
    "        out += identity  # Skip connection\n",
    "        return out"
   ]
  },
  {
   "cell_type": "markdown",
   "metadata": {},
   "source": [
    "##### **Q15: How do you integrate a residual block into a deeper network by stacking multiple residual blocks?**\n"
   ]
  },
  {
   "cell_type": "code",
   "execution_count": 16,
   "metadata": {},
   "outputs": [],
   "source": [
    "class ResNetLikeModel(nn.Module):\n",
    "    def __init__(self):\n",
    "        super(ResNetLikeModel, self).__init__()\n",
    "        self.initial_conv = ConvBlock(3, 64)\n",
    "        self.residual_blocks = nn.Sequential(\n",
    "            ResidualBlock(64),\n",
    "            ResidualBlock(64),\n",
    "            ResidualBlock(64)\n",
    "        )\n",
    "        self.pool = nn.AdaptiveAvgPool2d((1, 1))\n",
    "        self.fc = nn.Linear(64, 10)\n",
    "    \n",
    "    def forward(self, x):\n",
    "        x = self.initial_conv(x)\n",
    "        x = self.residual_blocks(x)\n",
    "        x = self.pool(x)\n",
    "        x = x.view(-1, 64)\n",
    "        x = self.fc(x)\n",
    "        return x"
   ]
  },
  {
   "cell_type": "markdown",
   "metadata": {},
   "source": [
    "##### **Q16: How do you apply layer normalization or batch normalization inside a custom residual block?**"
   ]
  },
  {
   "cell_type": "code",
   "execution_count": 17,
   "metadata": {},
   "outputs": [],
   "source": [
    "class ResidualBlockWithLN(nn.Module):\n",
    "    def __init__(self, channels):\n",
    "        super(ResidualBlockWithLN, self).__init__()\n",
    "        self.conv1 = nn.Conv2d(channels, channels, kernel_size=3, padding=1)\n",
    "        self.ln1 = nn.LayerNorm([channels, 32, 32])\n",
    "        self.activation = nn.ReLU()\n",
    "        self.conv2 = nn.Conv2d(channels, channels, kernel_size=3, padding=1)\n",
    "        self.ln2 = nn.LayerNorm([channels, 32, 32])\n",
    "    \n",
    "    def forward(self, x):\n",
    "        identity = x\n",
    "        out = self.conv1(x)\n",
    "        out = self.ln1(out)\n",
    "        out = self.activation(out)\n",
    "        out = self.conv2(out)\n",
    "        out = self.ln2(out)\n",
    "        out += identity\n",
    "        out = self.activation(out)\n",
    "        return out"
   ]
  },
  {
   "cell_type": "markdown",
   "metadata": {},
   "source": [
    "## Building an encoder-decoder architecture with custom modules\n"
   ]
  },
  {
   "cell_type": "markdown",
   "metadata": {},
   "source": [
    "##### **Q17: How do you define a custom encoder module that compresses input data into a lower-dimensional representation?**\n"
   ]
  },
  {
   "cell_type": "code",
   "execution_count": 18,
   "metadata": {},
   "outputs": [],
   "source": [
    "class Encoder(nn.Module):\n",
    "    def __init__(self, latent_dim=128):\n",
    "        super(Encoder, self).__init__()\n",
    "        self.conv = nn.Sequential(\n",
    "            ConvBlock(3, 64),  # Output: (batch_size, 64, 32, 32)\n",
    "            nn.MaxPool2d(2, 2),  # Output: (batch_size, 64, 16, 16)\n",
    "            ConvBlock(64, 128),  # Output: (batch_size, 128, 16, 16)\n",
    "            nn.MaxPool2d(2, 2),  # Output: (batch_size, 128, 8, 8)\n",
    "            nn.Flatten(),\n",
    "            nn.Linear(128 * 8 * 8, latent_dim)\n",
    "        )\n",
    "        \n",
    "    def forward(self, x):\n",
    "        x = self.conv(x)\n",
    "        return x"
   ]
  },
  {
   "cell_type": "markdown",
   "metadata": {},
   "source": [
    "##### **Q18: How do you build a decoder module that reconstructs the original data from the encoder’s representation?**\n"
   ]
  },
  {
   "cell_type": "code",
   "execution_count": 19,
   "metadata": {},
   "outputs": [],
   "source": [
    "class Decoder(nn.Module):\n",
    "    def __init__(self, latent_dim=128):\n",
    "        super(Decoder, self).__init__()\n",
    "        self.fc = nn.Sequential(\n",
    "            nn.Linear(latent_dim, 128 * 8 * 8),\n",
    "            nn.ReLU()\n",
    "        )\n",
    "        self.deconv = nn.Sequential(\n",
    "            nn.ConvTranspose2d(128, 64, kernel_size=4, stride=2, padding=1),  # Output: (batch_size, 64, 16, 16)\n",
    "            nn.ReLU(),\n",
    "            nn.ConvTranspose2d(64, 3, kernel_size=4, stride=2, padding=1),    # Output: (batch_size, 3, 32, 32)\n",
    "            nn.Sigmoid()\n",
    "        )\n",
    "        \n",
    "    def forward(self, x):\n",
    "        x = self.fc(x)\n",
    "        x = x.view(-1, 128, 8, 8)\n",
    "        x = self.deconv(x)\n",
    "        return x"
   ]
  },
  {
   "cell_type": "markdown",
   "metadata": {},
   "source": [
    "##### **Q19: How do you combine the custom encoder and decoder modules to create a full encoder-decoder architecture in PyTorch?**\n"
   ]
  },
  {
   "cell_type": "code",
   "execution_count": 20,
   "metadata": {},
   "outputs": [],
   "source": [
    "class AutoEncoder(nn.Module):\n",
    "    def __init__(self, latent_dim=128):\n",
    "        super(AutoEncoder, self).__init__()\n",
    "        self.encoder = Encoder(latent_dim)\n",
    "        self.decoder = Decoder(latent_dim)\n",
    "    \n",
    "    def forward(self, x):\n",
    "        x = self.encoder(x)\n",
    "        x = self.decoder(x)\n",
    "        return x"
   ]
  },
  {
   "cell_type": "markdown",
   "metadata": {},
   "source": [
    "##### **Q20: How do you apply the encoder-decoder architecture to a task such as autoencoding or image segmentation?**"
   ]
  },
  {
   "cell_type": "code",
   "execution_count": 21,
   "metadata": {},
   "outputs": [
    {
     "name": "stdout",
     "output_type": "stream",
     "text": [
      "Files already downloaded and verified\n"
     ]
    }
   ],
   "source": [
    "transform = transforms.Compose([\n",
    "    transforms.ToTensor()\n",
    "])\n",
    "\n",
    "trainset = torchvision.datasets.CIFAR10(root='./data', train=True,\n",
    "                                        download=True, transform=transform)\n",
    "\n",
    "trainloader = torch.utils.data.DataLoader(trainset, batch_size=64,\n",
    "                                          shuffle=True, num_workers=2)\n",
    "\n",
    "autoencoder = AutoEncoder(latent_dim=128).to(device)  # Instantiate the model"
   ]
  },
  {
   "cell_type": "code",
   "execution_count": 22,
   "metadata": {},
   "outputs": [
    {
     "name": "stdout",
     "output_type": "stream",
     "text": [
      "AutoEncoder(\n",
      "  (encoder): Encoder(\n",
      "    (conv): Sequential(\n",
      "      (0): ConvBlock(\n",
      "        (conv): Conv2d(3, 64, kernel_size=(3, 3), stride=(1, 1), padding=(1, 1))\n",
      "        (bn): BatchNorm2d(64, eps=1e-05, momentum=0.1, affine=True, track_running_stats=True)\n",
      "        (activation): ReLU()\n",
      "      )\n",
      "      (1): MaxPool2d(kernel_size=2, stride=2, padding=0, dilation=1, ceil_mode=False)\n",
      "      (2): ConvBlock(\n",
      "        (conv): Conv2d(64, 128, kernel_size=(3, 3), stride=(1, 1), padding=(1, 1))\n",
      "        (bn): BatchNorm2d(128, eps=1e-05, momentum=0.1, affine=True, track_running_stats=True)\n",
      "        (activation): ReLU()\n",
      "      )\n",
      "      (3): MaxPool2d(kernel_size=2, stride=2, padding=0, dilation=1, ceil_mode=False)\n",
      "      (4): Flatten(start_dim=1, end_dim=-1)\n",
      "      (5): Linear(in_features=8192, out_features=128, bias=True)\n",
      "    )\n",
      "  )\n",
      "  (decoder): Decoder(\n",
      "    (fc): Sequential(\n",
      "      (0): Linear(in_features=128, out_features=8192, bias=True)\n",
      "      (1): ReLU()\n",
      "    )\n",
      "    (deconv): Sequential(\n",
      "      (0): ConvTranspose2d(128, 64, kernel_size=(4, 4), stride=(2, 2), padding=(1, 1))\n",
      "      (1): ReLU()\n",
      "      (2): ConvTranspose2d(64, 3, kernel_size=(4, 4), stride=(2, 2), padding=(1, 1))\n",
      "      (3): Sigmoid()\n",
      "    )\n",
      "  )\n",
      ")\n"
     ]
    }
   ],
   "source": [
    "print(autoencoder)"
   ]
  },
  {
   "cell_type": "markdown",
   "metadata": {},
   "source": [
    "## Training and evaluating the complex model\n"
   ]
  },
  {
   "cell_type": "markdown",
   "metadata": {},
   "source": [
    "##### **Q21: How do you set up a training loop to train a complex model built from custom modules on a dataset like CIFAR-10?**\n"
   ]
  },
  {
   "cell_type": "code",
   "execution_count": 23,
   "metadata": {},
   "outputs": [
    {
     "name": "stdout",
     "output_type": "stream",
     "text": [
      "Epoch [1/10], Loss: 0.0148\n",
      "Epoch [2/10], Loss: 0.0083\n",
      "Epoch [3/10], Loss: 0.0070\n",
      "Epoch [4/10], Loss: 0.0063\n",
      "Epoch [5/10], Loss: 0.0060\n",
      "Epoch [6/10], Loss: 0.0058\n",
      "Epoch [7/10], Loss: 0.0055\n",
      "Epoch [8/10], Loss: 0.0055\n",
      "Epoch [9/10], Loss: 0.0053\n",
      "Epoch [10/10], Loss: 0.0053\n"
     ]
    }
   ],
   "source": [
    "criterion = nn.MSELoss()\n",
    "optimizer = optim.Adam(autoencoder.parameters(), lr=0.001)\n",
    "\n",
    "num_epochs = 10\n",
    "loss_list = []\n",
    "\n",
    "for epoch in range(num_epochs):\n",
    "    running_loss = 0.0\n",
    "    for data in trainloader:\n",
    "        inputs, _ = data\n",
    "        inputs = inputs.to(device)\n",
    "        \n",
    "        optimizer.zero_grad()\n",
    "        \n",
    "        outputs = autoencoder(inputs)\n",
    "        loss = criterion(outputs, inputs)\n",
    "        loss.backward()\n",
    "        optimizer.step()\n",
    "        \n",
    "        running_loss += loss.item()\n",
    "    \n",
    "    epoch_loss = running_loss / len(trainloader)\n",
    "    loss_list.append(epoch_loss)\n",
    "    print(f'Epoch [{epoch+1}/{num_epochs}], Loss: {epoch_loss:.4f}')"
   ]
  },
  {
   "cell_type": "code",
   "execution_count": 24,
   "metadata": {},
   "outputs": [
    {
     "data": {
      "image/png": "[encoded data removed]",
      "text/plain": [
       "<Figure size 640x480 with 1 Axes>"
      ]
     },
     "metadata": {},
     "output_type": "display_data"
    }
   ],
   "source": [
    "plt.plot(loss_list)\n",
    "plt.xlabel('Epoch')\n",
    "plt.ylabel('Loss')\n",
    "plt.title('Training Loss')\n",
    "plt.show()"
   ]
  },
  {
   "cell_type": "markdown",
   "metadata": {},
   "source": [
    "##### **Q22: How do you define the loss function (e.g., CrossEntropyLoss) and optimizer (e.g., Adam) for training the complex model?**\n"
   ]
  },
  {
   "cell_type": "code",
   "execution_count": 26,
   "metadata": {},
   "outputs": [],
   "source": [
    "criterion = nn.CrossEntropyLoss()\n",
    "optimizer = optim.Adam(model.parameters(), lr=0.001)  # For classification tasks"
   ]
  },
  {
   "cell_type": "code",
   "execution_count": 27,
   "metadata": {},
   "outputs": [],
   "source": [
    "criterion = nn.MSELoss()\n",
    "optimizer = optim.Adam(autoencoder.parameters(), lr=0.001)  # For reconstruction tasks"
   ]
  },
  {
   "cell_type": "markdown",
   "metadata": {},
   "source": [
    "##### **Q23: How do you monitor training loss and accuracy during the training process to ensure the model is learning effectively?**\n"
   ]
  },
  {
   "cell_type": "code",
   "execution_count": 29,
   "metadata": {},
   "outputs": [],
   "source": [
    "model = CustomCNN().to(device)\n",
    "\n",
    "criterion = nn.CrossEntropyLoss()\n",
    "optimizer = optim.Adam(model.parameters(), lr=0.001)"
   ]
  },
  {
   "cell_type": "code",
   "execution_count": 30,
   "metadata": {},
   "outputs": [
    {
     "name": "stdout",
     "output_type": "stream",
     "text": [
      "Epoch [1/10], Loss: 1.2574, Accuracy: 55.06%\n",
      "Epoch [2/10], Loss: 0.9237, Accuracy: 67.75%\n",
      "Epoch [3/10], Loss: 0.8076, Accuracy: 71.87%\n",
      "Epoch [4/10], Loss: 0.7381, Accuracy: 74.28%\n",
      "Epoch [5/10], Loss: 0.6858, Accuracy: 76.15%\n",
      "Epoch [6/10], Loss: 0.6421, Accuracy: 77.86%\n",
      "Epoch [7/10], Loss: 0.6012, Accuracy: 79.17%\n",
      "Epoch [8/10], Loss: 0.5662, Accuracy: 80.52%\n",
      "Epoch [9/10], Loss: 0.5364, Accuracy: 81.52%\n",
      "Epoch [10/10], Loss: 0.5125, Accuracy: 82.24%\n"
     ]
    }
   ],
   "source": [
    "num_epochs = 10\n",
    "loss_list = []\n",
    "accuracy_list = []\n",
    "\n",
    "for epoch in range(num_epochs):\n",
    "    running_loss = 0.0\n",
    "    correct = 0\n",
    "    total = 0\n",
    "    for data in trainloader:\n",
    "        inputs, labels = data\n",
    "        inputs, labels = inputs.to(device), labels.to(device)\n",
    "        \n",
    "        optimizer.zero_grad()\n",
    "        \n",
    "        outputs = model(inputs)\n",
    "        loss = criterion(outputs, labels)\n",
    "        loss.backward()\n",
    "        optimizer.step()\n",
    "        \n",
    "        running_loss += loss.item()\n",
    "        \n",
    "        # Calculate accuracy\n",
    "        _, predicted = torch.max(outputs.data, 1)\n",
    "        total += labels.size(0)\n",
    "        correct += (predicted == labels).sum().item()\n",
    "    \n",
    "    epoch_loss = running_loss / len(trainloader)\n",
    "    epoch_accuracy = 100 * correct / total\n",
    "    loss_list.append(epoch_loss)\n",
    "    accuracy_list.append(epoch_accuracy)\n",
    "    print(f'Epoch [{epoch+1}/{num_epochs}], Loss: {epoch_loss:.4f}, Accuracy: {epoch_accuracy:.2f}%')"
   ]
  },
  {
   "cell_type": "code",
   "execution_count": 31,
   "metadata": {},
   "outputs": [
    {
     "data": {
      "image/png": "[encoded data removed]",
      "text/plain": [
       "<Figure size 1200x500 with 2 Axes>"
      ]
     },
     "metadata": {},
     "output_type": "display_data"
    }
   ],
   "source": [
    "plt.figure(figsize=(12, 5))\n",
    "\n",
    "plt.subplot(1, 2, 1)\n",
    "plt.plot(range(1, num_epochs + 1), loss_list, marker='o')\n",
    "plt.title('Training Loss')\n",
    "plt.xlabel('Epoch')\n",
    "plt.ylabel('Loss')\n",
    "\n",
    "plt.subplot(1, 2, 2)\n",
    "plt.plot(range(1, num_epochs + 1), accuracy_list, marker='o', color='orange')\n",
    "plt.title('Training Accuracy')\n",
    "plt.xlabel('Epoch')\n",
    "plt.ylabel('Accuracy (%)')\n",
    "\n",
    "plt.tight_layout()\n",
    "plt.show()"
   ]
  },
  {
   "cell_type": "markdown",
   "metadata": {},
   "source": [
    "##### **Q24: How do you implement early stopping to prevent overfitting when training a complex model with custom modules?**\n"
   ]
  },
  {
   "cell_type": "markdown",
   "metadata": {},
   "source": [
    "##### **Q25: How do you evaluate the complex model on a validation or test set to assess its performance?**"
   ]
  },
  {
   "cell_type": "markdown",
   "metadata": {},
   "source": [
    "## Experimenting with different model configurations\n"
   ]
  },
  {
   "cell_type": "markdown",
   "metadata": {},
   "source": [
    "##### **Q26: How do you modify the number of layers in the custom modules and observe the impact on model performance?**\n"
   ]
  },
  {
   "cell_type": "markdown",
   "metadata": {},
   "source": [
    "##### **Q27: How do you experiment with different activation functions inside custom modules and measure their effect on training speed and accuracy?**\n"
   ]
  },
  {
   "cell_type": "markdown",
   "metadata": {},
   "source": [
    "##### **Q28: How do you experiment with varying the number of filters or hidden units in the custom convolutional or linear layers?**\n"
   ]
  },
  {
   "cell_type": "markdown",
   "metadata": {},
   "source": [
    "##### **Q29: How do you perform an ablation study to determine the contribution of individual custom modules to the overall performance of the complex model?**\n"
   ]
  },
  {
   "cell_type": "markdown",
   "metadata": {},
   "source": [
    "##### **Q30: How do you test different initialization techniques (e.g., Xavier, Kaiming) for weights in custom modules and observe their impact on model convergence?**"
   ]
  }
 ],
 "metadata": {
  "kernelspec": {
   "display_name": "base",
   "language": "python",
   "name": "python3"
  },
  "language_info": {
   "codemirror_mode": {
    "name": "ipython",
    "version": 3
   },
   "file_extension": ".py",
   "mimetype": "text/x-python",
   "name": "python",
   "nbconvert_exporter": "python",
   "pygments_lexer": "ipython3",
   "version": "3.11.10"
  }
 },
 "nbformat": 4,
 "nbformat_minor": 2
}
