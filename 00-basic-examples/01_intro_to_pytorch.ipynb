{
 "cells": [
  {
   "cell_type": "markdown",
   "metadata": {},
   "source": [
    "# Introduction to PyTorch\n",
    "\n",
    "Welcome to the `01_intro_to_pytorch` notebook. This is part of a portfolio designed to showcase foundational PyTorch concepts and techniques that can be utilized in later projects. \n",
    "\n",
    "This notebook covers essential topics such as setting up the environment, working with tensors, leveraging GPU acceleration, and implementing automatic differentiation. Through various exercises, it'll demonstrate how to create and manipulate tensors, build and train simple neural networks, and evaluate model performance. \n",
    "\n",
    "In this way, it lays the groundwork for more advanced PyTorch applications in subsequent projects.\n",
    "\n",
    "Also, keep in mind that all notebooks in this repository follows a \"question-and-answer\" format for active learning training purposes. So instead of just having explanatory code I'd rather go and and try to actively recall (or look up) the answer to a problem I face, which could as simple as loading libraries, to more complex things such as how to implement training loop checkpoints."
   ]
  },
  {
   "cell_type": "markdown",
   "metadata": {},
   "source": [
    "## Table of contents\n",
    "1. [What is PyTorch?](#what-is-pytorch)\n",
    "2. [Setting up the environment](#setting-up-the-environment)\n",
    "3. [PyTorch basics](#pytorch-basics)\n",
    "4. [GPU acceleration](#gpu-acceleration)\n",
    "5. [Automatic differentiation](#automatic-differentiation)\n",
    "6. [Building a simple neural network](#building-a-simple-neural-network)\n",
    "7. [Loss function and optimizer](#loss-function-and-optimizer)\n",
    "8. [Training the model](#training-the-model)\n",
    "9. [Evaluation and inference](#evaluation-and-inference)\n",
    "10. [Saving and loading models](#saving-and-loading-models)\n",
    "11. [Custom datasets and DataLoaders](#custom-datasets-and-dataloaders)\n",
    "12. [Further exercises](#further-exercises)"
   ]
  },
  {
   "cell_type": "markdown",
   "metadata": {},
   "source": [
    "## What is PyTorch?\n",
    "\n",
    "PyTorch is an open-source deep learning framework developed by Facebook's AI Research lab. It provides a flexible and intuitive platform for building and training neural networks. Some of its key features include dynamic computation graphs, which allow for more efficient model building and debugging, and support for GPU acceleration, enabling faster computations. \n",
    "\n",
    "With its extensive library of tools and utilities, PyTorch is widely used for both research and production in machine learning and artificial intelligence projects. These projects include:\n",
    "\n",
    "- **Natural Language Processing (NLP)**: Building models for text classification, sentiment analysis, and machine translation.\n",
    "- **Computer vision**: Implementing image classification, object detection, and image generation tasks.\n",
    "- **Reinforcement learning**: Developing algorithms for game playing and decision-making processes.\n",
    "- **Generative Adversarial Networks (GANs)**: Creating realistic images, videos, and other data generation tasks.\n",
    "- **Time series analysis**: Forecasting and anomaly detection in sequential data.\n",
    "- **Speech recognition**: Building models for converting speech to text and vice versa.\n",
    "- **Robotics**: Developing intelligent control systems for robotic movements and actions.\n",
    "- **Healthcare**: Predictive modeling and medical image analysis for diagnostics and treatment planning."
   ]
  },
  {
   "cell_type": "markdown",
   "metadata": {},
   "source": [
    "## Setting up the environment"
   ]
  },
  {
   "cell_type": "markdown",
   "metadata": {},
   "source": [
    "##### **Q1: How do you install the base PyTorch libraries using a Jupyter notebook?**"
   ]
  },
  {
   "cell_type": "code",
   "execution_count": 199,
   "metadata": {},
   "outputs": [],
   "source": [
    "# !pip install torch torchvision torchaudio"
   ]
  },
  {
   "cell_type": "markdown",
   "metadata": {},
   "source": [
    "##### **Q2: How do you import the base PyTorch libraries for later use?**"
   ]
  },
  {
   "cell_type": "code",
   "execution_count": 1,
   "metadata": {},
   "outputs": [
    {
     "name": "stdout",
     "output_type": "stream",
     "text": [
      "2.4.1\n"
     ]
    }
   ],
   "source": [
    "import torch\n",
    "\n",
    "print(torch.__version__)"
   ]
  },
  {
   "cell_type": "markdown",
   "metadata": {},
   "source": [
    "## PyTorch basics"
   ]
  },
  {
   "cell_type": "markdown",
   "metadata": {},
   "source": [
    "##### **Q3: How do you create a tensor in PyTorch? Provide examples of different ways to create tensors.**"
   ]
  },
  {
   "cell_type": "code",
   "execution_count": 201,
   "metadata": {},
   "outputs": [
    {
     "name": "stdout",
     "output_type": "stream",
     "text": [
      "tensor([1, 2, 3, 4])\n"
     ]
    }
   ],
   "source": [
    "# From a list\n",
    "tensor_from_list = torch.tensor([1, 2, 3, 4])\n",
    "print(tensor_from_list)"
   ]
  },
  {
   "cell_type": "code",
   "execution_count": 202,
   "metadata": {},
   "outputs": [
    {
     "name": "stdout",
     "output_type": "stream",
     "text": [
      "tensor([[0., 0., 0.],\n",
      "        [0., 0., 0.],\n",
      "        [0., 0., 0.]])\n"
     ]
    }
   ],
   "source": [
    "# Zeros tensor\n",
    "zeros_tensor = torch.zeros(3, 3)\n",
    "print(zeros_tensor)"
   ]
  },
  {
   "cell_type": "code",
   "execution_count": 203,
   "metadata": {},
   "outputs": [
    {
     "name": "stdout",
     "output_type": "stream",
     "text": [
      "tensor([[1., 1., 1., 1.],\n",
      "        [1., 1., 1., 1.]])\n"
     ]
    }
   ],
   "source": [
    "# Ones tensor\n",
    "ones_tensor = torch.ones(2, 4)\n",
    "print(ones_tensor)"
   ]
  },
  {
   "cell_type": "code",
   "execution_count": 204,
   "metadata": {},
   "outputs": [
    {
     "name": "stdout",
     "output_type": "stream",
     "text": [
      "tensor([[0.7950, 0.2142],\n",
      "        [0.4282, 0.4344],\n",
      "        [0.2420, 0.9693]])\n"
     ]
    }
   ],
   "source": [
    "# Random values\n",
    "random_tensor = torch.rand(3, 2)\n",
    "print(random_tensor)"
   ]
  },
  {
   "cell_type": "code",
   "execution_count": 205,
   "metadata": {},
   "outputs": [
    {
     "name": "stdout",
     "output_type": "stream",
     "text": [
      "tensor([[1, 2],\n",
      "        [3, 4]], dtype=torch.int32)\n"
     ]
    }
   ],
   "source": [
    "# From a NumPy array\n",
    "import numpy as np\n",
    "\n",
    "numpy_array = np.array([[1, 2], [3, 4]])\n",
    "tensor_from_numpy = torch.tensor(numpy_array)\n",
    "print(tensor_from_numpy)"
   ]
  },
  {
   "cell_type": "code",
   "execution_count": 206,
   "metadata": {},
   "outputs": [
    {
     "name": "stdout",
     "output_type": "stream",
     "text": [
      "tensor([1., 2., 3.])\n",
      "tensor([1, 2, 3], dtype=torch.int32)\n"
     ]
    }
   ],
   "source": [
    "# With a specific data type\n",
    "float_tensor = torch.tensor([1.0, 2.0, 3.0], dtype=torch.float32)\n",
    "print(float_tensor)\n",
    "\n",
    "int_tensor = torch.tensor([1, 2, 3], dtype=torch.int32)\n",
    "print(int_tensor)"
   ]
  },
  {
   "cell_type": "code",
   "execution_count": 207,
   "metadata": {},
   "outputs": [
    {
     "name": "stdout",
     "output_type": "stream",
     "text": [
      "tensor([[3.7514e-01, 1.7530e-42, 1.0000e+00],\n",
      "        [1.0000e+00, 1.0000e+00, 1.0000e+00]])\n"
     ]
    }
   ],
   "source": [
    "# Uninitialized\n",
    "uninitialized_tensor = torch.empty(2, 3)\n",
    "print(uninitialized_tensor) # it's a tensor whose values are not set and can contain any data that was already present in the allocated memory block, making it useful for performance optimization when the initial values are irrelevant"
   ]
  },
  {
   "cell_type": "code",
   "execution_count": 208,
   "metadata": {},
   "outputs": [
    {
     "name": "stdout",
     "output_type": "stream",
     "text": [
      "tensor([0, 2, 4, 6, 8])\n"
     ]
    }
   ],
   "source": [
    "# Using a range\n",
    "range_tensor = torch.arange(0, 10, step=2)\n",
    "print(range_tensor)"
   ]
  },
  {
   "cell_type": "code",
   "execution_count": 209,
   "metadata": {},
   "outputs": [
    {
     "name": "stdout",
     "output_type": "stream",
     "text": [
      "tensor([0.0000, 0.2500, 0.5000, 0.7500, 1.0000])\n"
     ]
    }
   ],
   "source": [
    "# Using linspace()\n",
    "linspace_tensor = torch.linspace(0, 1, steps=5)\n",
    "print(linspace_tensor)"
   ]
  },
  {
   "cell_type": "markdown",
   "metadata": {},
   "source": [
    "##### **Q4: How do you perform basic tensor operations such as addition and multiplication?**"
   ]
  },
  {
   "cell_type": "code",
   "execution_count": 210,
   "metadata": {},
   "outputs": [
    {
     "name": "stdout",
     "output_type": "stream",
     "text": [
      "tensor([5, 7, 9])\n"
     ]
    }
   ],
   "source": [
    "# Create two tensors for the exercise\n",
    "tensor1 = torch.tensor([1, 2, 3])\n",
    "tensor2 = torch.tensor([4, 5, 6])\n",
    "\n",
    "# Element-wise addition\n",
    "result = tensor1 + tensor2\n",
    "print(result)"
   ]
  },
  {
   "cell_type": "code",
   "execution_count": 211,
   "metadata": {},
   "outputs": [
    {
     "name": "stdout",
     "output_type": "stream",
     "text": [
      "tensor([5, 7, 9])\n"
     ]
    }
   ],
   "source": [
    "# Using torch.add()\n",
    "result = torch.add(tensor1, tensor2)\n",
    "print(result)"
   ]
  },
  {
   "cell_type": "code",
   "execution_count": 212,
   "metadata": {},
   "outputs": [
    {
     "name": "stdout",
     "output_type": "stream",
     "text": [
      "tensor([3, 3, 3])\n"
     ]
    }
   ],
   "source": [
    "# Element-wise subtraction\n",
    "result = tensor2 - tensor1\n",
    "print(result)"
   ]
  },
  {
   "cell_type": "code",
   "execution_count": 213,
   "metadata": {},
   "outputs": [
    {
     "name": "stdout",
     "output_type": "stream",
     "text": [
      "tensor([3, 3, 3])\n"
     ]
    }
   ],
   "source": [
    "# Using torch.sub()\n",
    "result = torch.sub(tensor2, tensor1)\n",
    "print(result)"
   ]
  },
  {
   "cell_type": "code",
   "execution_count": 214,
   "metadata": {},
   "outputs": [
    {
     "name": "stdout",
     "output_type": "stream",
     "text": [
      "tensor([ 4, 10, 18])\n"
     ]
    }
   ],
   "source": [
    "# Element-wise multiplication\n",
    "result = tensor1 * tensor2\n",
    "print(result)"
   ]
  },
  {
   "cell_type": "code",
   "execution_count": 215,
   "metadata": {},
   "outputs": [
    {
     "name": "stdout",
     "output_type": "stream",
     "text": [
      "tensor([ 4, 10, 18])\n"
     ]
    }
   ],
   "source": [
    "# Using torch.mul()\n",
    "result = torch.mul(tensor1, tensor2)\n",
    "print(result)"
   ]
  },
  {
   "cell_type": "code",
   "execution_count": 216,
   "metadata": {},
   "outputs": [
    {
     "name": "stdout",
     "output_type": "stream",
     "text": [
      "tensor([4.0000, 2.5000, 2.0000])\n"
     ]
    }
   ],
   "source": [
    "# Element-wise division\n",
    "result = tensor2 / tensor1\n",
    "print(result)"
   ]
  },
  {
   "cell_type": "code",
   "execution_count": 217,
   "metadata": {},
   "outputs": [
    {
     "name": "stdout",
     "output_type": "stream",
     "text": [
      "tensor([4.0000, 2.5000, 2.0000])\n"
     ]
    }
   ],
   "source": [
    "result = torch.div(tensor2, tensor1)\n",
    "print(result)"
   ]
  },
  {
   "cell_type": "code",
   "execution_count": 218,
   "metadata": {},
   "outputs": [
    {
     "name": "stdout",
     "output_type": "stream",
     "text": [
      "tensor([[19, 22],\n",
      "        [43, 50]])\n"
     ]
    }
   ],
   "source": [
    "# Examples for matrix operations\n",
    "tensor1 = torch.tensor([[1, 2], [3, 4]])\n",
    "tensor2 = torch.tensor([[5, 6], [7, 8]])\n",
    "\n",
    "# Matrix multiplication\n",
    "result = torch.matmul(tensor1, tensor2)\n",
    "print(result)"
   ]
  },
  {
   "cell_type": "code",
   "execution_count": 219,
   "metadata": {},
   "outputs": [
    {
     "name": "stdout",
     "output_type": "stream",
     "text": [
      "tensor([[19, 22],\n",
      "        [43, 50]])\n"
     ]
    }
   ],
   "source": [
    "# Using the @ operator\n",
    "result = tensor1 @ tensor2\n",
    "print(result)"
   ]
  },
  {
   "cell_type": "code",
   "execution_count": 220,
   "metadata": {},
   "outputs": [
    {
     "name": "stdout",
     "output_type": "stream",
     "text": [
      "tensor([[2, 4, 6],\n",
      "        [5, 7, 9]])\n"
     ]
    }
   ],
   "source": [
    "# Broadcasting (i.e., arithmetic operations on tensors of different shapes)\n",
    "tensor1 = torch.tensor([[1, 2, 3], [4, 5, 6]])\n",
    "tensor2 = torch.tensor([1, 2, 3])\n",
    "\n",
    "result = tensor1 + tensor2\n",
    "print(result)"
   ]
  },
  {
   "cell_type": "markdown",
   "metadata": {},
   "source": [
    "##### **Q5: How do you slice and index tensors in PyTorch?**"
   ]
  },
  {
   "cell_type": "code",
   "execution_count": 221,
   "metadata": {},
   "outputs": [
    {
     "name": "stdout",
     "output_type": "stream",
     "text": [
      "tensor(2)\n"
     ]
    }
   ],
   "source": [
    "# Indexing a single element\n",
    "tensor = torch.tensor([[1, 2, 3], [4, 5, 6], [7, 8, 9]])\n",
    "element = tensor[0, 1]  # Access the element at row 0, column 1\n",
    "print(element)"
   ]
  },
  {
   "cell_type": "code",
   "execution_count": 222,
   "metadata": {},
   "outputs": [
    {
     "name": "stdout",
     "output_type": "stream",
     "text": [
      "tensor([[2, 3],\n",
      "        [5, 6]])\n"
     ]
    }
   ],
   "source": [
    "# Basic slicing\n",
    "slice_tensor = tensor[:2, 1:]  # Slice the first two rows and columns from the second to the end\n",
    "print(slice_tensor)"
   ]
  },
  {
   "cell_type": "code",
   "execution_count": 223,
   "metadata": {},
   "outputs": [
    {
     "name": "stdout",
     "output_type": "stream",
     "text": [
      "tensor([[1, 3],\n",
      "        [7, 9]])\n"
     ]
    }
   ],
   "source": [
    "# Slicing with steps\n",
    "step_slice = tensor[::2, ::2]  # Slice every second element along both dimensions\n",
    "print(step_slice)"
   ]
  },
  {
   "cell_type": "code",
   "execution_count": 224,
   "metadata": {},
   "outputs": [
    {
     "name": "stdout",
     "output_type": "stream",
     "text": [
      "tensor([[2, 4],\n",
      "        [6, 8]])\n"
     ]
    }
   ],
   "source": [
    "# Select all elements in a dimension with ellipsis\n",
    "tensor = torch.tensor([[[1, 2], [3, 4]], [[5, 6], [7, 8]]])\n",
    "ellipsis_slice = tensor[..., 1]  # Select the last element from each sub-array\n",
    "print(ellipsis_slice)"
   ]
  },
  {
   "cell_type": "code",
   "execution_count": 225,
   "metadata": {},
   "outputs": [
    {
     "name": "stdout",
     "output_type": "stream",
     "text": [
      "tensor([4, 5, 6])\n"
     ]
    }
   ],
   "source": [
    "# Boolean indexing\n",
    "tensor = torch.tensor([1, 2, 3, 4, 5, 6])\n",
    "bool_index = tensor[tensor > 3]  # Select elements greater than 3\n",
    "print(bool_index)"
   ]
  },
  {
   "cell_type": "code",
   "execution_count": 226,
   "metadata": {},
   "outputs": [
    {
     "name": "stdout",
     "output_type": "stream",
     "text": [
      "tensor([10, 30, 50])\n"
     ]
    }
   ],
   "source": [
    "# Indexing with a tensor of indices\n",
    "tensor = torch.tensor([10, 20, 30, 40, 50])\n",
    "indices = torch.tensor([0, 2, 4])\n",
    "advanced_index = tensor[indices]  # Select elements at positions 0, 2, and 4\n",
    "print(advanced_index)"
   ]
  },
  {
   "cell_type": "code",
   "execution_count": 227,
   "metadata": {},
   "outputs": [
    {
     "name": "stdout",
     "output_type": "stream",
     "text": [
      "tensor([[4, 5],\n",
      "        [7, 8]])\n"
     ]
    }
   ],
   "source": [
    "# Indexing + slicing\n",
    "tensor = torch.tensor([[1, 2, 3], [4, 5, 6], [7, 8, 9]])\n",
    "combined = tensor[1:, :2]  # Slice rows from the second to the end and columns up to the second\n",
    "print(combined)"
   ]
  },
  {
   "cell_type": "markdown",
   "metadata": {},
   "source": [
    "##### **Q6: How do you change the shape of a tensor in PyTorch?**"
   ]
  },
  {
   "cell_type": "code",
   "execution_count": 228,
   "metadata": {},
   "outputs": [
    {
     "name": "stdout",
     "output_type": "stream",
     "text": [
      "tensor([[1, 2],\n",
      "        [3, 4],\n",
      "        [5, 6]])\n"
     ]
    }
   ],
   "source": [
    "# Using reshape()\n",
    "tensor = torch.tensor([[1, 2, 3], [4, 5, 6]])\n",
    "\n",
    "reshaped_tensor = tensor.reshape(3, 2)\n",
    "print(reshaped_tensor)"
   ]
  },
  {
   "cell_type": "code",
   "execution_count": 229,
   "metadata": {},
   "outputs": [
    {
     "name": "stdout",
     "output_type": "stream",
     "text": [
      "tensor([[1, 2],\n",
      "        [3, 4],\n",
      "        [5, 6]])\n"
     ]
    }
   ],
   "source": [
    "# Using view()\n",
    "viewed_tensor = tensor.view(3, 2)\n",
    "print(viewed_tensor)"
   ]
  },
  {
   "cell_type": "code",
   "execution_count": 230,
   "metadata": {},
   "outputs": [
    {
     "name": "stdout",
     "output_type": "stream",
     "text": [
      "tensor([[1, 4],\n",
      "        [2, 5],\n",
      "        [3, 6]])\n"
     ]
    }
   ],
   "source": [
    "# Using transpose()\n",
    "transposed_tensor = tensor.transpose(0, 1)\n",
    "print(transposed_tensor)"
   ]
  },
  {
   "cell_type": "code",
   "execution_count": 231,
   "metadata": {},
   "outputs": [
    {
     "name": "stdout",
     "output_type": "stream",
     "text": [
      "tensor([[[1, 3],\n",
      "         [5, 7]],\n",
      "\n",
      "        [[2, 4],\n",
      "         [6, 8]]])\n"
     ]
    }
   ],
   "source": [
    "# Create a 3D tensor\n",
    "tensor_3d = torch.tensor([[[1, 2], [3, 4]], [[5, 6], [7, 8]]])\n",
    "\n",
    "# Use permute()\n",
    "permuted_tensor = tensor_3d.permute(2, 0, 1)\n",
    "print(permuted_tensor)"
   ]
  },
  {
   "cell_type": "code",
   "execution_count": 232,
   "metadata": {},
   "outputs": [
    {
     "name": "stdout",
     "output_type": "stream",
     "text": [
      "tensor([1, 2, 3, 4, 5, 6])\n"
     ]
    }
   ],
   "source": [
    "# Using flatten()\n",
    "flattened_tensor = tensor.flatten()\n",
    "print(flattened_tensor)"
   ]
  },
  {
   "cell_type": "markdown",
   "metadata": {},
   "source": [
    "##### **Q7: How do you concatenate two tensors in PyTorch?**"
   ]
  },
  {
   "cell_type": "code",
   "execution_count": 233,
   "metadata": {},
   "outputs": [
    {
     "name": "stdout",
     "output_type": "stream",
     "text": [
      "tensor([[ 1,  2,  3],\n",
      "        [ 4,  5,  6],\n",
      "        [ 7,  8,  9],\n",
      "        [10, 11, 12]]) \n",
      "\n",
      "tensor([[ 1,  2,  3,  7,  8,  9],\n",
      "        [ 4,  5,  6, 10, 11, 12]])\n"
     ]
    }
   ],
   "source": [
    "# Concatenate along a specified dimension\n",
    "tensor1 = torch.tensor([[1, 2, 3], [4, 5, 6]])\n",
    "tensor2 = torch.tensor([[7, 8, 9], [10, 11, 12]])\n",
    "\n",
    "# Along the first dimension (rows)\n",
    "concatenated_tensor = torch.cat((tensor1, tensor2), dim=0)\n",
    "print(concatenated_tensor, '\\n')\n",
    "\n",
    "# Along the second dimension (columns)\n",
    "concatenated_tensor = torch.cat((tensor1, tensor2), dim=1)\n",
    "print(concatenated_tensor)"
   ]
  },
  {
   "cell_type": "code",
   "execution_count": 234,
   "metadata": {},
   "outputs": [
    {
     "name": "stdout",
     "output_type": "stream",
     "text": [
      "tensor([[[ 1,  2,  3],\n",
      "         [ 4,  5,  6]],\n",
      "\n",
      "        [[ 7,  8,  9],\n",
      "         [10, 11, 12]]]) \n",
      "\n",
      "tensor([[[ 1,  2,  3],\n",
      "         [ 7,  8,  9]],\n",
      "\n",
      "        [[ 4,  5,  6],\n",
      "         [10, 11, 12]]])\n"
     ]
    }
   ],
   "source": [
    "# Stack along a new dimension\n",
    "stacked_tensor = torch.stack((tensor1, tensor2), dim=0)\n",
    "print(stacked_tensor, '\\n')\n",
    "\n",
    "stacked_tensor = torch.stack((tensor1, tensor2), dim=1)\n",
    "print(stacked_tensor)"
   ]
  },
  {
   "cell_type": "markdown",
   "metadata": {},
   "source": [
    "##### **Q8: How do you convert a NumPy array to a PyTorch tensor and vice versa?**"
   ]
  },
  {
   "cell_type": "code",
   "execution_count": 235,
   "metadata": {},
   "outputs": [
    {
     "name": "stdout",
     "output_type": "stream",
     "text": [
      "tensor([[1, 2, 3],\n",
      "        [4, 5, 6]], dtype=torch.int32)\n"
     ]
    }
   ],
   "source": [
    "# Create a NumPy array\n",
    "numpy_array = np.array([[1, 2, 3], [4, 5, 6]])\n",
    "\n",
    "# Convert the NumPy array to a PyTorch tensor\n",
    "torch_tensor = torch.from_numpy(numpy_array)\n",
    "print(torch_tensor)"
   ]
  },
  {
   "cell_type": "code",
   "execution_count": 236,
   "metadata": {},
   "outputs": [
    {
     "name": "stdout",
     "output_type": "stream",
     "text": [
      "[[1 2 3]\n",
      " [4 5 6]]\n"
     ]
    }
   ],
   "source": [
    "# Create a PyTorch tensor\n",
    "torch_tensor = torch.tensor([[1, 2, 3], [4, 5, 6]])\n",
    "\n",
    "# Convert the PyTorch tensor to a NumPy array\n",
    "numpy_array = torch_tensor.numpy()\n",
    "print(numpy_array)"
   ]
  },
  {
   "cell_type": "code",
   "execution_count": 237,
   "metadata": {},
   "outputs": [
    {
     "name": "stdout",
     "output_type": "stream",
     "text": [
      "tensor([[1, 2, 3],\n",
      "        [4, 5, 6]]) \n",
      "\n",
      "[[1 2 3]\n",
      " [4 5 6]]\n"
     ]
    }
   ],
   "source": [
    "# Avoiding memory sharing by creating a copy\n",
    "torch_tensor_copy = torch.from_numpy(numpy_array.copy())\n",
    "numpy_array_copy = torch_tensor.numpy().copy()\n",
    "\n",
    "print(torch_tensor_copy, '\\n') \n",
    "print(numpy_array_copy)"
   ]
  },
  {
   "cell_type": "markdown",
   "metadata": {},
   "source": [
    "##### **Q9: How do you get the size and shape of a tensor in PyTorch?**"
   ]
  },
  {
   "cell_type": "code",
   "execution_count": 238,
   "metadata": {},
   "outputs": [
    {
     "name": "stdout",
     "output_type": "stream",
     "text": [
      "torch.Size([2, 3])\n"
     ]
    }
   ],
   "source": [
    "# Get the size of a tensor\n",
    "tensor = torch.tensor([[1, 2, 3], [4, 5, 6]])\n",
    "\n",
    "size = tensor.size()\n",
    "print(size)"
   ]
  },
  {
   "cell_type": "code",
   "execution_count": 239,
   "metadata": {},
   "outputs": [
    {
     "name": "stdout",
     "output_type": "stream",
     "text": [
      "torch.Size([2, 3])\n"
     ]
    }
   ],
   "source": [
    "# Get the shape of the tensor\n",
    "shape = tensor.shape\n",
    "print(shape)"
   ]
  },
  {
   "cell_type": "code",
   "execution_count": 240,
   "metadata": {},
   "outputs": [
    {
     "name": "stdout",
     "output_type": "stream",
     "text": [
      "2\n"
     ]
    }
   ],
   "source": [
    "# Get number of dimensions\n",
    "num_dimensions = tensor.ndimension()\n",
    "print(num_dimensions)"
   ]
  },
  {
   "cell_type": "code",
   "execution_count": 241,
   "metadata": {},
   "outputs": [
    {
     "name": "stdout",
     "output_type": "stream",
     "text": [
      "Rows: 2, Columns: 3\n"
     ]
    }
   ],
   "source": [
    "# Get size of a specific dimension\n",
    "rows = tensor.size(0)\n",
    "cols = tensor.size(1)\n",
    "print(f\"Rows: {rows}, Columns: {cols}\")"
   ]
  },
  {
   "cell_type": "markdown",
   "metadata": {},
   "source": [
    "##### **Q10: How do you use advanced indexing techniques in PyTorch?**"
   ]
  },
  {
   "cell_type": "code",
   "execution_count": 242,
   "metadata": {},
   "outputs": [
    {
     "name": "stdout",
     "output_type": "stream",
     "text": [
      "tensor([4, 5, 6])\n"
     ]
    }
   ],
   "source": [
    "# Boolean indexing\n",
    "tensor = torch.tensor([1, 2, 3, 4, 5, 6])\n",
    "\n",
    "mask = tensor > 3\n",
    "selected_elements = tensor[mask]\n",
    "print(selected_elements)"
   ]
  },
  {
   "cell_type": "code",
   "execution_count": 243,
   "metadata": {},
   "outputs": [
    {
     "name": "stdout",
     "output_type": "stream",
     "text": [
      "tensor([10, 30, 50])\n"
     ]
    }
   ],
   "source": [
    "# Indexing with another tensor\n",
    "tensor = torch.tensor([10, 20, 30, 40, 50])\n",
    "\n",
    "indices = torch.tensor([0, 2, 4])\n",
    "selected_elements = tensor[indices]\n",
    "print(selected_elements)"
   ]
  },
  {
   "cell_type": "code",
   "execution_count": 244,
   "metadata": {},
   "outputs": [
    {
     "name": "stdout",
     "output_type": "stream",
     "text": [
      "tensor([[1, 2],\n",
      "        [5, 6]])\n"
     ]
    }
   ],
   "source": [
    "# Indexing with a list of indices\n",
    "tensor = torch.tensor([[1, 2], [3, 4], [5, 6]])\n",
    "\n",
    "selected_rows = tensor[[0, 2]]\n",
    "print(selected_rows)"
   ]
  },
  {
   "cell_type": "code",
   "execution_count": 245,
   "metadata": {},
   "outputs": [
    {
     "name": "stdout",
     "output_type": "stream",
     "text": [
      "tensor([5, 6, 7, 8, 9])\n"
     ]
    }
   ],
   "source": [
    "# Use the mask with integer indexing\n",
    "tensor = torch.tensor([[1, 2, 3], [4, 5, 6], [7, 8, 9]])\n",
    "\n",
    "mask = tensor > 4\n",
    "\n",
    "selected_elements = tensor[mask]\n",
    "print(selected_elements)"
   ]
  },
  {
   "cell_type": "code",
   "execution_count": 246,
   "metadata": {},
   "outputs": [
    {
     "name": "stdout",
     "output_type": "stream",
     "text": [
      "torch.Size([3, 4])\n"
     ]
    }
   ],
   "source": [
    "# Ellipsis indexing\n",
    "tensor = torch.randn(3, 4, 5)\n",
    "\n",
    "selected_elements = tensor[..., 1]\n",
    "print(selected_elements.shape)"
   ]
  },
  {
   "cell_type": "code",
   "execution_count": 247,
   "metadata": {},
   "outputs": [
    {
     "name": "stdout",
     "output_type": "stream",
     "text": [
      "tensor([[1, 1],\n",
      "        [4, 3],\n",
      "        [5, 6]])\n"
     ]
    }
   ],
   "source": [
    "# Using torch.gather()\n",
    "tensor = torch.tensor([[1, 2], [3, 4], [5, 6]])\n",
    "\n",
    "indices = torch.tensor([[0, 0], [1, 0], [0, 1]])\n",
    "\n",
    "gathered_tensor = torch.gather(tensor, 1, indices)\n",
    "print(gathered_tensor)"
   ]
  },
  {
   "cell_type": "markdown",
   "metadata": {},
   "source": [
    "## GPU acceleration"
   ]
  },
  {
   "cell_type": "markdown",
   "metadata": {},
   "source": [
    "##### **Q11: How do you check if a GPU is available in PyTorch?**"
   ]
  },
  {
   "cell_type": "code",
   "execution_count": 248,
   "metadata": {},
   "outputs": [
    {
     "name": "stdout",
     "output_type": "stream",
     "text": [
      "GPU is available\n",
      "GPU Name: NVIDIA GeForce RTX 3050 Laptop GPU\n"
     ]
    }
   ],
   "source": [
    "if torch.cuda.is_available():\n",
    "    print(\"GPU is available\")\n",
    "    device = torch.device(\"cuda\")\n",
    "    gpu_name = torch.cuda.get_device_name(0)\n",
    "    print(f\"GPU Name: {gpu_name}\")\n",
    "else:\n",
    "    device = torch.device(\"cpu\")\n",
    "    print(\"GPU is not available\")"
   ]
  },
  {
   "cell_type": "markdown",
   "metadata": {},
   "source": [
    "##### **Q12: How do you move tensors to GPU and perform operations on them?**"
   ]
  },
  {
   "cell_type": "code",
   "execution_count": 249,
   "metadata": {},
   "outputs": [
    {
     "name": "stdout",
     "output_type": "stream",
     "text": [
      "tensor([1., 2., 3.], device='cuda:0')\n"
     ]
    }
   ],
   "source": [
    "# Create a tensor\n",
    "tensor_cpu = torch.tensor([1.0, 2.0, 3.0])\n",
    "\n",
    "# Move the tensor to GPU\n",
    "tensor_gpu = tensor_cpu.to(device)\n",
    "\n",
    "# Alternatively, you can use .cuda() if device is explicitly set to \"cuda\"\n",
    "# tensor_gpu = tensor_cpu.cuda()\n",
    "\n",
    "print(tensor_gpu)"
   ]
  },
  {
   "cell_type": "code",
   "execution_count": 250,
   "metadata": {},
   "outputs": [
    {
     "name": "stdout",
     "output_type": "stream",
     "text": [
      "tensor([5., 7., 9.], device='cuda:0')\n"
     ]
    }
   ],
   "source": [
    "# Perform operations on GPU\n",
    "another_tensor_gpu = torch.tensor([4.0, 5.0, 6.0]).to(device)\n",
    "\n",
    "result = tensor_gpu + another_tensor_gpu\n",
    "print(result)"
   ]
  },
  {
   "cell_type": "code",
   "execution_count": 251,
   "metadata": {},
   "outputs": [],
   "source": [
    "# Move an entire model to GPU\n",
    "import torch.nn as nn\n",
    "\n",
    "# Define a simple model\n",
    "class SimpleModel(nn.Module):\n",
    "    def __init__(self):\n",
    "        super(SimpleModel, self).__init__()\n",
    "        self.fc = nn.Linear(3, 3)\n",
    "\n",
    "    def forward(self, x):\n",
    "        return self.fc(x)"
   ]
  },
  {
   "cell_type": "code",
   "execution_count": 252,
   "metadata": {},
   "outputs": [
    {
     "name": "stdout",
     "output_type": "stream",
     "text": [
      "tensor([-1.1446, -0.6014, -1.1306], device='cuda:0', grad_fn=<ViewBackward0>)\n"
     ]
    }
   ],
   "source": [
    "# Instantiate the model\n",
    "model = SimpleModel()\n",
    "\n",
    "# Move the model to GPU\n",
    "model.to(device)\n",
    "\n",
    "# Create input tensor and move to GPU\n",
    "input_tensor = torch.tensor([1.0, 2.0, 3.0]).to(device)\n",
    "\n",
    "# Perform a forward pass\n",
    "output = model(input_tensor)\n",
    "print(output)"
   ]
  },
  {
   "cell_type": "markdown",
   "metadata": {},
   "source": [
    "##### **Q13: How do you measure the time taken for tensor operations on GPU versus CPU?**"
   ]
  },
  {
   "cell_type": "code",
   "execution_count": 253,
   "metadata": {},
   "outputs": [
    {
     "name": "stdout",
     "output_type": "stream",
     "text": [
      "Time for CPU operation: 4.456489086151123 seconds\n"
     ]
    }
   ],
   "source": [
    "# Time for CPU operations\n",
    "import time\n",
    "\n",
    "tensor_cpu = torch.randn(10000, 10000)\n",
    "\n",
    "# Measure the time\n",
    "start_time = time.time()\n",
    "result_cpu = tensor_cpu @ tensor_cpu  # Matrix multiplication\n",
    "end_time = time.time()\n",
    "\n",
    "cpu_time = end_time - start_time\n",
    "print(f\"Time for CPU operation: {cpu_time} seconds\")"
   ]
  },
  {
   "cell_type": "code",
   "execution_count": 254,
   "metadata": {},
   "outputs": [
    {
     "name": "stdout",
     "output_type": "stream",
     "text": [
      "Time for GPU operation: 0.8362460136413574 seconds\n"
     ]
    }
   ],
   "source": [
    "# Time for GPU\n",
    "if torch.cuda.is_available():\n",
    "    device = torch.device(\"cuda\")\n",
    "    tensor_gpu = tensor_cpu.to(device)\n",
    "\n",
    "    # Warm up the GPU\n",
    "    _ = tensor_gpu @ tensor_gpu\n",
    "\n",
    "    # Measure the time\n",
    "    start_time = time.time()\n",
    "    result_gpu = tensor_gpu @ tensor_gpu  # Matrix multiplication\n",
    "    torch.cuda.synchronize()  # Wait for GPU operations to complete\n",
    "    end_time = time.time()\n",
    "\n",
    "    gpu_time = end_time - start_time\n",
    "    print(f\"Time for GPU operation: {gpu_time} seconds\")\n",
    "else:\n",
    "    print(\"GPU is not available\")"
   ]
  },
  {
   "cell_type": "code",
   "execution_count": 255,
   "metadata": {},
   "outputs": [
    {
     "name": "stdout",
     "output_type": "stream",
     "text": [
      "Average time for CPU operation over 10 runs: 4.257386010000483 seconds\n"
     ]
    }
   ],
   "source": [
    "# Alternative: use the timeit module to take the average from multiple operations\n",
    "import timeit\n",
    "\n",
    "tensor_cpu = torch.randn(10000, 10000)\n",
    "\n",
    "# Time for a CPU operation\n",
    "cpu_time = timeit.timeit('tensor_cpu @ tensor_cpu', globals=globals(), number=10)\n",
    "print(f\"Average time for CPU operation over 10 runs: {cpu_time / 10} seconds\")"
   ]
  },
  {
   "cell_type": "code",
   "execution_count": 256,
   "metadata": {},
   "outputs": [
    {
     "name": "stdout",
     "output_type": "stream",
     "text": [
      "Average time for GPU operation over 10 runs: 0.4602691100008087 seconds\n"
     ]
    }
   ],
   "source": [
    "# timeit on GPU\n",
    "if torch.cuda.is_available():\n",
    "    device = torch.device(\"cuda\")\n",
    "    tensor_gpu = tensor_cpu.to(device)\n",
    "\n",
    "    # Warm up the GPU\n",
    "    _ = tensor_gpu @ tensor_gpu\n",
    "\n",
    "    # Measure the time\n",
    "    def gpu_operation():\n",
    "        result_gpu = tensor_gpu @ tensor_gpu\n",
    "        torch.cuda.synchronize()  # Wait for GPU operations to complete\n",
    "\n",
    "    gpu_time = timeit.timeit(gpu_operation, number=10)\n",
    "    print(f\"Average time for GPU operation over 10 runs: {gpu_time / 10} seconds\")\n",
    "else:\n",
    "    print(\"GPU is not available\")"
   ]
  },
  {
   "cell_type": "markdown",
   "metadata": {},
   "source": [
    "##### **Q14: How do you handle tensors when working with multiple GPUs?**"
   ]
  },
  {
   "cell_type": "code",
   "execution_count": 257,
   "metadata": {},
   "outputs": [
    {
     "name": "stdout",
     "output_type": "stream",
     "text": [
      "Number of available GPUs: 1\n",
      "Multiple GPUs are not available.\n"
     ]
    }
   ],
   "source": [
    "# Check the number of available GPUs\n",
    "n_gpus = torch.cuda.device_count()\n",
    "print(f\"Number of available GPUs: {n_gpus}\")\n",
    "\n",
    "# List available GPUs\n",
    "if n_gpus > 1:\n",
    "    for i in range(n_gpus):\n",
    "        print(f\"GPU {i}: {torch.cuda.get_device_name(i)}\")\n",
    "else:\n",
    "    print(\"Multiple GPUs are not available.\")"
   ]
  },
  {
   "cell_type": "code",
   "execution_count": 258,
   "metadata": {},
   "outputs": [
    {
     "name": "stdout",
     "output_type": "stream",
     "text": [
      "tensor([[ 6.5816e-02, -2.8538e-01,  3.2870e-01,  5.5584e-01,  5.4134e-01,\n",
      "         -4.5482e-01,  1.6078e-01,  1.1936e+00,  6.6452e-02, -7.5890e-01],\n",
      "        [-5.0726e-01, -9.4054e-01,  2.1519e-01,  6.8164e-01,  8.3444e-01,\n",
      "         -6.7852e-01, -2.9922e-01,  7.5661e-01,  3.8272e-01, -2.3393e-01],\n",
      "        [ 5.4140e-01,  4.9968e-02,  9.5359e-01,  3.6231e-01,  9.9872e-01,\n",
      "         -1.1499e-02,  8.7350e-01,  1.1409e-01, -2.8567e-01, -1.7424e-01],\n",
      "        [-4.3784e-01, -3.3112e-01, -2.0584e-01,  8.8648e-01,  7.9482e-01,\n",
      "          5.8045e-02, -6.3516e-02,  5.5156e-01,  5.9464e-01, -1.7624e-01],\n",
      "        [ 2.2605e-01, -9.2441e-02,  2.6695e-01, -1.6210e-01,  3.9125e-01,\n",
      "         -8.5734e-01,  2.7143e-01,  3.4278e-01,  5.1255e-01,  2.1357e-01],\n",
      "        [ 6.8364e-01,  3.5948e-01,  1.1174e+00,  1.8281e-01,  1.2144e+00,\n",
      "         -6.9252e-01,  1.1937e+00, -5.8588e-01,  6.2354e-01,  4.3260e-01],\n",
      "        [-3.4650e-01, -3.0028e-01, -6.5448e-01, -9.7843e-02,  1.5459e-01,\n",
      "         -1.1194e-01, -1.1253e+00,  5.0446e-01,  1.4288e+00, -3.9778e-01],\n",
      "        [-7.4437e-02,  1.4106e-01,  4.8616e-01, -4.0346e-01,  6.5561e-01,\n",
      "          1.5330e-02,  5.0810e-01, -2.7403e-01, -1.2879e-01,  2.9008e-01],\n",
      "        [-3.6548e-01,  6.7642e-02, -6.9378e-02,  1.2302e-01,  3.3428e-01,\n",
      "          1.5813e-01,  3.3604e-01,  7.8029e-01,  1.7987e-03,  3.7131e-01],\n",
      "        [-7.5637e-01,  2.3807e-01,  2.1241e-01,  7.9693e-01,  8.5020e-01,\n",
      "         -3.4095e-01,  1.0630e+00, -5.1965e-01,  1.0974e-01,  3.8260e-01],\n",
      "        [ 7.2421e-02, -5.4736e-01, -8.1620e-01,  9.2902e-01, -2.6890e-01,\n",
      "         -1.1920e+00, -1.9835e-01,  2.0795e-01,  5.2149e-02, -6.0909e-01],\n",
      "        [-1.2281e-01,  3.4372e-01,  4.0563e-01, -9.7237e-01, -6.2812e-02,\n",
      "         -6.2131e-01,  5.0981e-01, -6.2248e-02, -4.8180e-01, -6.3644e-02],\n",
      "        [-6.3174e-01,  1.3748e-01,  1.7063e-02, -8.6272e-01, -2.3469e-01,\n",
      "         -8.2492e-01, -3.5369e-02,  1.4615e-01, -1.5829e-01,  2.6480e-01],\n",
      "        [-9.3080e-01,  1.7065e-01, -1.9869e-01, -3.1441e-02,  4.1438e-01,\n",
      "         -1.2462e-01,  6.3296e-01, -2.0089e-01, -2.6558e-01,  5.4863e-01],\n",
      "        [-1.6685e+00,  8.5837e-01, -1.1313e+00, -4.2823e-01, -4.3787e-01,\n",
      "         -3.3059e-01, -3.4626e-01,  1.3819e-01,  5.9841e-02,  4.9654e-01],\n",
      "        [-1.6178e-01, -2.8189e-01,  8.5573e-01, -5.5166e-02,  1.0080e+00,\n",
      "         -5.5623e-01,  6.9105e-01,  2.9096e-01, -5.8382e-02, -2.9362e-02],\n",
      "        [-1.6135e+00, -2.1667e-01, -2.2766e-01,  1.0389e+00,  1.0510e+00,\n",
      "          5.7679e-01,  1.8391e-01,  6.6380e-01, -1.8352e-01,  6.0935e-01],\n",
      "        [-8.9300e-01, -7.0276e-01, -2.4846e-01,  2.3814e-01,  4.5843e-01,\n",
      "          2.1177e-01, -5.1818e-01,  9.6236e-01,  4.3944e-01, -8.3906e-02],\n",
      "        [-4.9025e-01, -3.7420e-02, -2.5610e-01,  2.2919e-01,  5.1620e-01,\n",
      "          1.6737e-01, -2.8637e-01,  3.5965e-01,  1.1671e+00,  8.1559e-01],\n",
      "        [ 3.6417e-01, -7.7176e-02, -6.7691e-02,  4.0688e-01,  1.5323e-01,\n",
      "         -8.5881e-01,  2.2304e-01, -3.6690e-01,  5.6598e-02, -1.2689e-01],\n",
      "        [-2.2634e-01,  1.4044e+00,  1.5670e-01,  1.6850e-01, -3.6425e-02,\n",
      "          3.5633e-01,  8.7653e-01,  5.5577e-01, -2.0063e-01,  6.8971e-01],\n",
      "        [ 1.0890e-01,  2.9209e-01,  6.5098e-01, -6.6016e-01,  2.5173e-01,\n",
      "         -1.0540e+00,  7.9902e-01, -6.1455e-01,  1.2659e-01,  7.1211e-01],\n",
      "        [-6.2524e-01,  1.5244e-01, -4.6003e-01,  4.7948e-02, -5.9009e-02,\n",
      "         -9.1478e-02, -5.6089e-01,  1.6754e-01,  1.7390e+00,  1.2937e+00],\n",
      "        [ 6.0832e-03,  3.9821e-01,  5.1662e-01,  1.1710e+00,  1.1601e+00,\n",
      "          1.2951e+00,  6.3565e-01,  7.6429e-01,  5.1759e-01,  6.1868e-01],\n",
      "        [-1.2245e-01,  6.3128e-01,  4.9738e-01, -5.0167e-01, -1.9146e-01,\n",
      "         -8.2355e-01,  4.7704e-01,  1.8654e-01, -1.8534e-01,  4.7432e-01],\n",
      "        [-1.1397e-01,  4.5562e-01, -5.2156e-01, -6.7208e-01, -9.5735e-02,\n",
      "          6.2491e-01, -3.0263e-01, -5.3058e-02,  7.9040e-01,  4.7965e-01],\n",
      "        [-5.4964e-02, -3.9043e-01,  3.7223e-01,  4.2074e-01,  1.0000e-01,\n",
      "         -9.5508e-01,  5.3243e-01,  8.9575e-01, -1.7135e-01,  8.2370e-02],\n",
      "        [-2.0688e-01,  6.4591e-01, -7.2843e-04, -1.3953e-01,  5.1279e-02,\n",
      "         -3.6091e-01,  4.4368e-01,  1.4221e-01,  1.6205e-01, -9.7894e-02],\n",
      "        [-4.4136e-01, -3.8947e-01,  4.8774e-01,  2.9578e-01,  3.6924e-01,\n",
      "         -5.4648e-01,  1.9857e-01,  9.6734e-01,  1.3282e-01, -3.5189e-03],\n",
      "        [-1.9573e+00,  4.3179e-01, -1.9028e-01,  3.0014e-01,  6.5025e-02,\n",
      "          6.9353e-01, -3.6393e-02,  1.2032e+00, -5.7283e-01,  1.0839e+00],\n",
      "        [ 5.0176e-01, -2.8696e-01,  3.5303e-01,  1.2313e+00,  8.6347e-01,\n",
      "          3.0414e-01,  3.2717e-01,  6.0767e-01,  8.3072e-02, -6.0065e-01],\n",
      "        [-2.1709e-01, -1.4253e-01,  4.7899e-01, -6.7879e-01, -4.5652e-01,\n",
      "         -5.2117e-01,  1.1930e-01,  3.3306e-02, -4.1392e-01,  9.6410e-01],\n",
      "        [-2.3500e+00,  1.3446e+00, -9.0870e-01, -3.0279e-01, -1.0964e+00,\n",
      "          2.9965e-01,  1.7028e-02,  1.0474e+00, -8.1386e-01,  8.5209e-01],\n",
      "        [-2.2600e-01, -6.5322e-01,  1.9527e-02,  1.3627e+00,  8.4445e-01,\n",
      "         -2.4522e-02,  3.5253e-01,  6.8758e-01,  2.5533e-01, -4.7030e-01],\n",
      "        [-6.4015e-01,  8.3315e-01,  1.0347e-01,  3.9439e-01, -4.4953e-01,\n",
      "          6.5191e-01,  7.5913e-01,  4.4439e-01, -4.2972e-01,  1.0512e+00],\n",
      "        [-1.8280e-01, -8.2527e-02,  6.1131e-02, -3.3147e-01,  8.2688e-02,\n",
      "         -5.8749e-01, -1.3603e-01,  2.2491e-01, -4.5444e-01, -1.6811e-01],\n",
      "        [-4.2563e-01, -2.4730e-01,  3.5816e-01,  1.7688e-01,  3.2790e-01,\n",
      "         -7.3619e-01,  2.2702e-01,  1.0160e+00, -1.4054e-01, -1.2755e-01],\n",
      "        [-1.8533e+00,  1.1475e+00, -6.0596e-01,  1.9697e-02, -7.1007e-01,\n",
      "          6.4486e-01,  1.0547e-01,  3.1826e-01, -1.4682e-01,  1.5001e+00],\n",
      "        [-4.7759e-01,  6.4964e-01, -4.4448e-01, -9.5723e-01,  1.1629e-01,\n",
      "         -4.8681e-01, -3.9687e-01, -2.0036e-01,  1.1934e+00,  3.8092e-01],\n",
      "        [-5.9679e-01, -1.3962e-01, -2.7423e-01, -7.5167e-01, -4.9359e-01,\n",
      "         -1.4232e+00, -2.0711e-01, -8.7126e-01,  5.6706e-01,  1.4929e+00],\n",
      "        [ 1.2841e+00, -8.0095e-01,  5.0527e-01,  9.1130e-01,  5.1828e-01,\n",
      "         -6.3199e-01,  1.0750e+00, -5.4923e-01,  1.1669e-01,  5.0420e-02],\n",
      "        [ 2.2458e-01, -2.6519e-01,  7.8506e-01, -1.5010e-01,  4.3624e-01,\n",
      "         -8.5975e-01,  5.9633e-01,  1.7523e-01, -1.2948e-01, -1.7579e-01],\n",
      "        [ 1.2748e-02, -3.8710e-01, -6.3157e-01,  6.0868e-01, -8.9859e-02,\n",
      "         -4.1573e-01, -8.0833e-01,  6.7655e-01,  7.5656e-01, -1.9763e-02],\n",
      "        [-5.5034e-01,  3.1190e-01,  1.2806e-01,  3.5442e-02,  2.5628e-01,\n",
      "         -2.6470e-01,  4.1872e-01, -3.4046e-01,  2.6295e-01,  8.4697e-01],\n",
      "        [-1.2600e-01,  5.3817e-01, -6.3489e-02,  1.5517e-01,  2.7699e-01,\n",
      "         -1.0157e-01,  7.4188e-01, -6.9356e-01,  3.8701e-01,  8.0715e-01],\n",
      "        [-6.0368e-01, -3.9981e-01, -2.6900e-01,  7.6379e-01,  4.6484e-01,\n",
      "          5.0221e-01, -6.8872e-02,  1.9894e-01,  2.6030e-01,  2.5029e-01],\n",
      "        [ 2.4696e-01,  9.3463e-02,  1.5066e-01,  1.2410e-01, -2.9121e-01,\n",
      "         -3.2703e-01,  9.2832e-01,  6.1910e-01, -9.7484e-01, -5.8696e-01],\n",
      "        [ 1.7164e-01,  3.9023e-01, -1.6674e-02,  7.5480e-01,  8.6372e-01,\n",
      "         -1.5985e-01,  2.2437e-01,  2.0233e-01,  1.3506e+00,  3.8264e-01],\n",
      "        [ 8.4310e-02,  4.8098e-01,  9.4445e-02, -7.5347e-01,  1.9093e-01,\n",
      "         -9.0464e-01,  4.2922e-01, -5.6884e-01,  2.4736e-01,  8.7093e-01],\n",
      "        [-4.6023e-01,  1.9485e-01,  1.6345e-01, -1.1781e-01, -1.5199e-01,\n",
      "         -7.0035e-01,  2.3990e-01, -1.1394e-01,  5.1865e-01,  1.0938e+00],\n",
      "        [-3.2971e-01, -2.4340e-01,  2.3406e-01,  4.4924e-01,  3.6878e-01,\n",
      "         -3.0519e-01,  1.3047e-01,  1.2752e-01, -2.9806e-01,  3.4121e-01],\n",
      "        [ 6.6122e-01, -2.0453e-01,  8.4422e-01, -9.3940e-01,  4.0712e-01,\n",
      "         -5.8996e-01,  3.7509e-01,  2.1462e-01,  1.0216e+00,  5.4747e-01],\n",
      "        [-2.5442e-01,  3.9137e-01,  2.1366e-01, -2.6395e-01,  2.5736e-01,\n",
      "         -2.1688e-01,  3.2400e-01, -7.9253e-02,  7.3420e-01,  1.1227e+00],\n",
      "        [ 6.6946e-01, -1.0030e+00, -1.2078e-01,  1.7220e-01,  8.5777e-02,\n",
      "         -1.0885e+00, -6.7753e-02,  1.8441e-02,  1.1378e-01, -1.2495e-01],\n",
      "        [ 8.1726e-01,  6.1215e-02,  4.0446e-01,  3.0189e-01,  3.3150e-01,\n",
      "         -1.1202e+00,  8.4823e-01, -3.8613e-01,  5.8761e-01, -3.9202e-01],\n",
      "        [-5.2128e-01, -3.6873e-01,  3.3523e-01,  7.1570e-03,  2.2721e-01,\n",
      "         -8.8502e-01,  5.9635e-01,  8.8811e-02, -1.0505e+00,  3.6222e-01],\n",
      "        [-6.3451e-01,  4.2569e-01, -4.9080e-01, -9.2794e-02, -1.0544e-01,\n",
      "         -7.4882e-01, -3.7458e-01,  4.7984e-01,  2.8648e-01,  3.2463e-01],\n",
      "        [-2.2133e-01,  3.3816e-01, -1.5353e-02,  1.3959e+00,  3.9380e-01,\n",
      "         -2.9633e-01,  4.5742e-01,  4.0416e-01,  5.6368e-01,  5.5320e-01],\n",
      "        [-6.7057e-01,  4.5484e-01, -3.1588e-01,  1.2792e+00, -5.4067e-02,\n",
      "          6.8887e-01, -4.7915e-02,  9.7709e-01,  3.9070e-01,  6.9508e-01],\n",
      "        [-2.1998e-01, -1.6703e-01, -5.8996e-02,  1.4856e-01,  1.0368e+00,\n",
      "         -1.9022e-01, -1.6973e-01,  3.8749e-01,  8.8741e-01, -1.2301e-01],\n",
      "        [-6.2637e-01,  1.8144e-01, -1.0943e-01,  1.1646e+00,  6.5166e-01,\n",
      "          3.2646e-01,  5.8351e-01,  5.6624e-01, -4.1207e-01,  6.1170e-01],\n",
      "        [-3.6165e-01,  4.1412e-01, -4.0777e-02, -8.9857e-02, -1.6815e-01,\n",
      "         -6.5827e-01,  1.1286e-01,  1.7357e-01,  7.7955e-02, -2.0246e-01],\n",
      "        [ 6.8347e-01,  3.9910e-01,  4.9277e-01,  9.0846e-01,  6.2997e-01,\n",
      "         -5.2248e-01,  1.2851e+00, -8.1697e-01, -5.0755e-01,  8.2223e-01],\n",
      "        [ 1.5925e-01, -1.8327e-01, -2.1179e-01,  1.0508e+00, -2.2214e-02,\n",
      "         -9.5900e-01,  7.3840e-01,  7.8188e-01, -5.4380e-01, -3.6023e-01]],\n",
      "       device='cuda:0', grad_fn=<AddmmBackward0>)\n"
     ]
    }
   ],
   "source": [
    "# Had multiple GPUs been available, one could work with torch.nn.DataParallel. e.g.,\n",
    "class SimpleModel(nn.Module):\n",
    "    def __init__(self):\n",
    "        super(SimpleModel, self).__init__()\n",
    "        self.fc = nn.Linear(10, 10)\n",
    "\n",
    "    def forward(self, x):\n",
    "        return self.fc(x)\n",
    "\n",
    "model = SimpleModel()\n",
    "\n",
    "if n_gpus > 1:\n",
    "    model = nn.DataParallel(model)\n",
    "model = model.to('cuda')\n",
    "\n",
    "input_tensor = torch.randn(64, 10).to('cuda')\n",
    "output = model(input_tensor)\n",
    "print(output)"
   ]
  },
  {
   "cell_type": "markdown",
   "metadata": {},
   "source": [
    "## Automatic differentiation"
   ]
  },
  {
   "cell_type": "markdown",
   "metadata": {},
   "source": [
    "##### **Q15: How do you enable automatic differentiation in PyTorch and compute gradients?**"
   ]
  },
  {
   "cell_type": "code",
   "execution_count": 259,
   "metadata": {},
   "outputs": [
    {
     "name": "stdout",
     "output_type": "stream",
     "text": [
      "tensor([2., 3.], requires_grad=True)\n"
     ]
    }
   ],
   "source": [
    "# Create a tensor with requires_grad=True to enable automatic differentiation\n",
    "x = torch.tensor([2.0, 3.0], requires_grad=True)\n",
    "print(x)"
   ]
  },
  {
   "cell_type": "code",
   "execution_count": 260,
   "metadata": {},
   "outputs": [
    {
     "name": "stdout",
     "output_type": "stream",
     "text": [
      "tensor(15., grad_fn=<AddBackward0>)\n"
     ]
    }
   ],
   "source": [
    "# Define a simple operation\n",
    "y = x[0] * x[1] + x[1] ** 2\n",
    "print(y)"
   ]
  },
  {
   "cell_type": "code",
   "execution_count": 261,
   "metadata": {},
   "outputs": [
    {
     "name": "stdout",
     "output_type": "stream",
     "text": [
      "tensor([3., 8.])\n"
     ]
    }
   ],
   "source": [
    "# Compute gradients\n",
    "y.backward()\n",
    "\n",
    "# Print gradients\n",
    "print(x.grad)"
   ]
  },
  {
   "cell_type": "code",
   "execution_count": 262,
   "metadata": {},
   "outputs": [
    {
     "name": "stdout",
     "output_type": "stream",
     "text": [
      "tensor(15.)\n"
     ]
    }
   ],
   "source": [
    "# Disable gradient calculation (when no longer needed)\n",
    "with torch.no_grad():\n",
    "    z = x[0] * x[1] + x[1] ** 2\n",
    "    print(z)"
   ]
  },
  {
   "cell_type": "code",
   "execution_count": 263,
   "metadata": {},
   "outputs": [
    {
     "name": "stdout",
     "output_type": "stream",
     "text": [
      "tensor(15.)\n"
     ]
    },
    {
     "data": {
      "text/plain": [
       "<torch.autograd.grad_mode.set_grad_enabled at 0x1e4f1dd7d50>"
      ]
     },
     "execution_count": 263,
     "metadata": {},
     "output_type": "execute_result"
    }
   ],
   "source": [
    "# Alternatively, using torch.set_grad_enabled(False)\n",
    "torch.set_grad_enabled(False)\n",
    "z = x[0] * x[1] + x[1] ** 2\n",
    "print(z)\n",
    "torch.set_grad_enabled(True)"
   ]
  },
  {
   "cell_type": "markdown",
   "metadata": {},
   "source": [
    "##### **Q16: How do you stop PyTorch from tracking history on tensors?**"
   ]
  },
  {
   "cell_type": "code",
   "execution_count": 264,
   "metadata": {},
   "outputs": [
    {
     "name": "stdout",
     "output_type": "stream",
     "text": [
      "tensor(15.)\n"
     ]
    }
   ],
   "source": [
    "# Use torch.no_grad()\n",
    "# Create a tensor with requires_grad=True\n",
    "x = torch.tensor([2.0, 3.0], requires_grad=True)\n",
    "\n",
    "# Perform operations without tracking history\n",
    "with torch.no_grad():\n",
    "    y = x[0] * x[1] + x[1] ** 2\n",
    "    print(y)"
   ]
  },
  {
   "cell_type": "code",
   "execution_count": 265,
   "metadata": {},
   "outputs": [
    {
     "name": "stdout",
     "output_type": "stream",
     "text": [
      "False\n"
     ]
    }
   ],
   "source": [
    "# Verify that no gradient is tracked\n",
    "print(y.requires_grad)"
   ]
  },
  {
   "cell_type": "code",
   "execution_count": 266,
   "metadata": {},
   "outputs": [
    {
     "name": "stdout",
     "output_type": "stream",
     "text": [
      "tensor(15.)\n"
     ]
    }
   ],
   "source": [
    "# Can also use .detach()\n",
    "x = torch.tensor([2.0, 3.0], requires_grad=True)\n",
    "\n",
    "# Detach the tensor from the computation graph\n",
    "x_detached = x.detach()\n",
    "\n",
    "# Perform operations on the detached tensor\n",
    "y = x_detached[0] * x_detached[1] + x_detached[1] ** 2\n",
    "print(y)"
   ]
  },
  {
   "cell_type": "code",
   "execution_count": 267,
   "metadata": {},
   "outputs": [
    {
     "name": "stdout",
     "output_type": "stream",
     "text": [
      "False\n"
     ]
    }
   ],
   "source": [
    "# Verify that no gradient is tracked\n",
    "print(x_detached.requires_grad)"
   ]
  },
  {
   "cell_type": "markdown",
   "metadata": {},
   "source": [
    "##### **Q17: How do you manually zero the gradients in PyTorch?**"
   ]
  },
  {
   "cell_type": "code",
   "execution_count": 268,
   "metadata": {},
   "outputs": [
    {
     "name": "stdout",
     "output_type": "stream",
     "text": [
      "tensor([0.5588], grad_fn=<ViewBackward0>)\n",
      "tensor(1.5410, grad_fn=<MseLossBackward0>)\n"
     ]
    }
   ],
   "source": [
    "# Use optimizer.zero_grad()\n",
    "import torch.optim as optim\n",
    "\n",
    "model = nn.Linear(10, 1)\n",
    "\n",
    "# Define a loss function and an optimizer\n",
    "criterion = nn.MSELoss()\n",
    "optimizer = optim.SGD(model.parameters(), lr=0.01)\n",
    "\n",
    "# Dummy input and target tensors\n",
    "input_tensor = torch.randn(10)\n",
    "target_tensor = torch.randn(1)\n",
    "\n",
    "# Forward pass\n",
    "output = model(input_tensor)\n",
    "loss = criterion(output, target_tensor)\n",
    "\n",
    "print(output)\n",
    "print(loss)\n",
    "\n",
    "# Backward pass\n",
    "optimizer.zero_grad()  # Reset gradients\n",
    "loss.backward()        # Compute gradients\n",
    "optimizer.step()       # Update model parameters"
   ]
  },
  {
   "cell_type": "code",
   "execution_count": 269,
   "metadata": {},
   "outputs": [
    {
     "name": "stdout",
     "output_type": "stream",
     "text": [
      "tensor([3., 8.])\n"
     ]
    }
   ],
   "source": [
    "# You can also manually zero gradients for specific tensors\n",
    "x = torch.tensor([2.0, 3.0], requires_grad=True)\n",
    "\n",
    "y = x[0] * x[1] + x[1] ** 2\n",
    "\n",
    "y.backward()\n",
    "\n",
    "# Print gradients before zeroing\n",
    "print(x.grad)"
   ]
  },
  {
   "cell_type": "code",
   "execution_count": 270,
   "metadata": {},
   "outputs": [
    {
     "name": "stdout",
     "output_type": "stream",
     "text": [
      "tensor([0., 0.])\n"
     ]
    }
   ],
   "source": [
    "# Manually zero the gradients\n",
    "x.grad.zero_()\n",
    "\n",
    "# Verify gradients are zeroed\n",
    "print(x.grad)"
   ]
  },
  {
   "cell_type": "markdown",
   "metadata": {},
   "source": [
    "##### **Q18: How do you use the `backward()` method for computing gradients?**"
   ]
  },
  {
   "cell_type": "code",
   "execution_count": 271,
   "metadata": {},
   "outputs": [
    {
     "name": "stdout",
     "output_type": "stream",
     "text": [
      "tensor(15., grad_fn=<AddBackward0>)\n"
     ]
    }
   ],
   "source": [
    "# First, set up tensors and a simple operation\n",
    "x = torch.tensor([2.0, 3.0], requires_grad=True)\n",
    "\n",
    "y = x[0] * x[1] + x[1] ** 2\n",
    "print(y)"
   ]
  },
  {
   "cell_type": "code",
   "execution_count": 272,
   "metadata": {},
   "outputs": [
    {
     "name": "stdout",
     "output_type": "stream",
     "text": [
      "tensor([3., 8.])\n"
     ]
    }
   ],
   "source": [
    "# Compute and print gradients\n",
    "y.backward()\n",
    "\n",
    "print(x.grad) "
   ]
  },
  {
   "cell_type": "code",
   "execution_count": 273,
   "metadata": {},
   "outputs": [
    {
     "name": "stdout",
     "output_type": "stream",
     "text": [
      "tensor([ 7., 14.])\n"
     ]
    }
   ],
   "source": [
    "# You can also use non-scalar outputs\n",
    "z = x ** 2\n",
    "\n",
    "# Compute gradients with a gradient argument\n",
    "z.backward(torch.tensor([1.0, 1.0]))\n",
    "\n",
    "print(x.grad)"
   ]
  },
  {
   "cell_type": "markdown",
   "metadata": {},
   "source": [
    "## Building a simple neural network"
   ]
  },
  {
   "cell_type": "markdown",
   "metadata": {},
   "source": [
    "##### **Q19: How do you define a simple neural network using `nn.Module` in PyTorch?**"
   ]
  },
  {
   "cell_type": "code",
   "execution_count": 274,
   "metadata": {},
   "outputs": [
    {
     "name": "stdout",
     "output_type": "stream",
     "text": [
      "Using device: cuda\n"
     ]
    }
   ],
   "source": [
    "# Import required libraries - which have already been imported in previous cells\n",
    "# import torch\n",
    "# import torch.nn as nn\n",
    "# import torch.optim as optim\n",
    "\n",
    "# Check if GPU is available\n",
    "device = torch.device(\"cuda\" if torch.cuda.is_available() else \"cpu\")\n",
    "print(f\"Using device: {device}\")"
   ]
  },
  {
   "cell_type": "code",
   "execution_count": 275,
   "metadata": {},
   "outputs": [],
   "source": [
    "# Define a simple neural network class with a forward method in it\n",
    "class SimpleNeuralNetwork(nn.Module):\n",
    "    def __init__(self):\n",
    "        super(SimpleNeuralNetwork, self).__init__()\n",
    "        # Define layers\n",
    "        self.fc1 = nn.Linear(10, 50)  # Input layer to hidden layer\n",
    "        self.fc2 = nn.Linear(50, 20)  # Hidden layer to hidden layer\n",
    "        self.fc3 = nn.Linear(20, 1)   # Hidden layer to output layer\n",
    "\n",
    "    def forward(self, x):\n",
    "        # Define forward pass\n",
    "        x = torch.relu(self.fc1(x))  # Apply ReLU activation function\n",
    "        x = torch.relu(self.fc2(x))  # Apply ReLU activation function\n",
    "        x = self.fc3(x)              # Output layer\n",
    "        return x"
   ]
  },
  {
   "cell_type": "code",
   "execution_count": 276,
   "metadata": {},
   "outputs": [],
   "source": [
    "# Build up the model\n",
    "model = SimpleNeuralNetwork().to(device)\n",
    "\n",
    "# Define loss function and optimizer\n",
    "criterion = nn.MSELoss().to(device)                 # Mean Squared Error Loss\n",
    "optimizer = optim.SGD(model.parameters(), lr=0.01)  # Stochastic Gradient Descent\n",
    "\n",
    "# Dummy input and target tensors for demonstration\n",
    "inputs = torch.randn(5, 10).to(device)   # 5 samples, each with 10 features\n",
    "targets = torch.randn(5, 1).to(device)   # 5 samples, each with 1 target value"
   ]
  },
  {
   "cell_type": "code",
   "execution_count": 277,
   "metadata": {},
   "outputs": [
    {
     "name": "stdout",
     "output_type": "stream",
     "text": [
      "Epoch [100/1000], Loss: 0.1900\n",
      "Epoch [200/1000], Loss: 0.0036\n",
      "Epoch [300/1000], Loss: 0.0001\n",
      "Epoch [400/1000], Loss: 0.0000\n",
      "Epoch [500/1000], Loss: 0.0000\n",
      "Epoch [600/1000], Loss: 0.0000\n",
      "Epoch [700/1000], Loss: 0.0000\n",
      "Epoch [800/1000], Loss: 0.0000\n",
      "Epoch [900/1000], Loss: 0.0000\n",
      "Epoch [1000/1000], Loss: 0.0000\n"
     ]
    }
   ],
   "source": [
    "# Training loop\n",
    "num_epochs = 1000\n",
    "for epoch in range(num_epochs):\n",
    "    # Zero the gradients\n",
    "    optimizer.zero_grad()\n",
    "    \n",
    "    # Forward pass\n",
    "    outputs = model(inputs)\n",
    "    loss = criterion(outputs, targets)\n",
    "    \n",
    "    # Backward pass\n",
    "    loss.backward()\n",
    "    \n",
    "    # Update weights\n",
    "    optimizer.step()\n",
    "    \n",
    "    if (epoch+1) % 100 == 0:\n",
    "        print(f'Epoch [{epoch+1}/{num_epochs}], Loss: {loss.item():.4f}')"
   ]
  },
  {
   "cell_type": "markdown",
   "metadata": {},
   "source": [
    "##### **Q20: How do you initialize the weights and biases of a neural network?**"
   ]
  },
  {
   "cell_type": "code",
   "execution_count": 278,
   "metadata": {},
   "outputs": [],
   "source": [
    "# Use the torch.nn.init module\n",
    "import torch.nn.init as init\n",
    "\n",
    "class SimpleNeuralNetwork(nn.Module):\n",
    "    def __init__(self):\n",
    "        super(SimpleNeuralNetwork, self).__init__()\n",
    "        self.fc1 = nn.Linear(10, 50)\n",
    "        self.fc2 = nn.Linear(50, 20)\n",
    "        self.fc3 = nn.Linear(20, 1)\n",
    "        self.initialize_weights()\n",
    "\n",
    "    def forward(self, x):\n",
    "        x = torch.relu(self.fc1(x))\n",
    "        x = torch.relu(self.fc2(x))\n",
    "        x = self.fc3(x)\n",
    "        return x\n",
    "\n",
    "    def initialize_weights(self):\n",
    "        # Apply Xavier initialization to weights and zero initialization to biases\n",
    "        init.xavier_uniform_(self.fc1.weight)\n",
    "        init.zeros_(self.fc1.bias)\n",
    "        init.xavier_uniform_(self.fc2.weight)\n",
    "        init.zeros_(self.fc2.bias)\n",
    "        init.xavier_uniform_(self.fc3.weight)\n",
    "        init.zeros_(self.fc3.bias)"
   ]
  },
  {
   "cell_type": "code",
   "execution_count": 279,
   "metadata": {},
   "outputs": [
    {
     "name": "stdout",
     "output_type": "stream",
     "text": [
      "SimpleNeuralNetwork(\n",
      "  (fc1): Linear(in_features=10, out_features=50, bias=True)\n",
      "  (fc2): Linear(in_features=50, out_features=20, bias=True)\n",
      "  (fc3): Linear(in_features=20, out_features=1, bias=True)\n",
      ")\n"
     ]
    }
   ],
   "source": [
    "model = SimpleNeuralNetwork()\n",
    "print(model)"
   ]
  },
  {
   "cell_type": "code",
   "execution_count": 280,
   "metadata": {},
   "outputs": [],
   "source": [
    "# Alternative: use custom initialization functions\n",
    "def custom_weights_init(m):\n",
    "    if isinstance(m, nn.Linear):\n",
    "        # Apply custom initialization\n",
    "        nn.init.normal_(m.weight, mean=0.0, std=0.01)\n",
    "        nn.init.constant_(m.bias, 0.0)\n",
    "\n",
    "class SimpleNeuralNetwork(nn.Module):\n",
    "    def __init__(self):\n",
    "        super(SimpleNeuralNetwork, self).__init__()\n",
    "        self.fc1 = nn.Linear(10, 50)\n",
    "        self.fc2 = nn.Linear(50, 20)\n",
    "        self.fc3 = nn.Linear(20, 1)\n",
    "        self.apply(custom_weights_init)\n",
    "\n",
    "    def forward(self, x):\n",
    "        x = torch.relu(self.fc1(x))\n",
    "        x = torch.relu(self.fc2(x))\n",
    "        x = self.fc3(x)\n",
    "        return x"
   ]
  },
  {
   "cell_type": "code",
   "execution_count": 281,
   "metadata": {},
   "outputs": [
    {
     "name": "stdout",
     "output_type": "stream",
     "text": [
      "SimpleNeuralNetwork(\n",
      "  (fc1): Linear(in_features=10, out_features=50, bias=True)\n",
      "  (fc2): Linear(in_features=50, out_features=20, bias=True)\n",
      "  (fc3): Linear(in_features=20, out_features=1, bias=True)\n",
      ")\n"
     ]
    }
   ],
   "source": [
    "model = SimpleNeuralNetwork()\n",
    "print(model)"
   ]
  },
  {
   "cell_type": "code",
   "execution_count": 282,
   "metadata": {},
   "outputs": [],
   "source": [
    "# Another option: Use built-in initializations in layers\n",
    "class SimpleNeuralNetwork(nn.Module):\n",
    "    def __init__(self):\n",
    "        super(SimpleNeuralNetwork, self).__init__()\n",
    "        self.fc1 = nn.Linear(10, 50)\n",
    "        self.fc2 = nn.Linear(50, 20)\n",
    "        self.fc3 = nn.Linear(20, 1)\n",
    "        self.initialize_weights()\n",
    "\n",
    "    def forward(self, x):\n",
    "        x = torch.relu(self.fc1(x))\n",
    "        x = torch.relu(self.fc2(x))\n",
    "        x = self.fc3(x)\n",
    "        return x\n",
    "\n",
    "    def initialize_weights(self):\n",
    "        # Apply He initialization to weights and zero initialization to biases\n",
    "        init.kaiming_uniform_(self.fc1.weight, nonlinearity='relu')\n",
    "        init.zeros_(self.fc1.bias)\n",
    "        init.kaiming_uniform_(self.fc2.weight, nonlinearity='relu')\n",
    "        init.zeros_(self.fc2.bias)\n",
    "        init.kaiming_uniform_(self.fc3.weight, nonlinearity='relu')\n",
    "        init.zeros_(self.fc3.bias)"
   ]
  },
  {
   "cell_type": "code",
   "execution_count": 283,
   "metadata": {},
   "outputs": [
    {
     "name": "stdout",
     "output_type": "stream",
     "text": [
      "SimpleNeuralNetwork(\n",
      "  (fc1): Linear(in_features=10, out_features=50, bias=True)\n",
      "  (fc2): Linear(in_features=50, out_features=20, bias=True)\n",
      "  (fc3): Linear(in_features=20, out_features=1, bias=True)\n",
      ")\n"
     ]
    }
   ],
   "source": [
    "model = SimpleNeuralNetwork()\n",
    "print(model)"
   ]
  },
  {
   "cell_type": "markdown",
   "metadata": {},
   "source": [
    "##### **Q21: How do you add multiple layers to a neural network?**"
   ]
  },
  {
   "cell_type": "code",
   "execution_count": 284,
   "metadata": {},
   "outputs": [],
   "source": [
    "# Use nn.Sequential\n",
    "class SimpleSequentialNN(nn.Module):\n",
    "    def __init__(self):\n",
    "        super(SimpleSequentialNN, self).__init__()\n",
    "        self.network = nn.Sequential(\n",
    "            nn.Linear(10, 50),\n",
    "            nn.ReLU(),\n",
    "            nn.Linear(50, 20),\n",
    "            nn.ReLU(),\n",
    "            nn.Linear(20, 1)\n",
    "        )\n",
    "\n",
    "    def forward(self, x):\n",
    "        return self.network(x)"
   ]
  },
  {
   "cell_type": "code",
   "execution_count": 285,
   "metadata": {},
   "outputs": [
    {
     "name": "stdout",
     "output_type": "stream",
     "text": [
      "SimpleSequentialNN(\n",
      "  (network): Sequential(\n",
      "    (0): Linear(in_features=10, out_features=50, bias=True)\n",
      "    (1): ReLU()\n",
      "    (2): Linear(in_features=50, out_features=20, bias=True)\n",
      "    (3): ReLU()\n",
      "    (4): Linear(in_features=20, out_features=1, bias=True)\n",
      "  )\n",
      ")\n"
     ]
    }
   ],
   "source": [
    "model = SimpleSequentialNN()\n",
    "print(model)"
   ]
  },
  {
   "cell_type": "code",
   "execution_count": 286,
   "metadata": {},
   "outputs": [],
   "source": [
    "# Or, define each layer explicitly\n",
    "class SimpleExplicitNN(nn.Module):\n",
    "    def __init__(self):\n",
    "        super(SimpleExplicitNN, self).__init__()\n",
    "        self.fc1 = nn.Linear(10, 50)\n",
    "        self.fc2 = nn.Linear(50, 20)\n",
    "        self.fc3 = nn.Linear(20, 1)\n",
    "        self.relu = nn.ReLU()\n",
    "\n",
    "    def forward(self, x):\n",
    "        x = self.relu(self.fc1(x))\n",
    "        x = self.relu(self.fc2(x))\n",
    "        x = self.fc3(x)\n",
    "        return x"
   ]
  },
  {
   "cell_type": "code",
   "execution_count": 287,
   "metadata": {},
   "outputs": [
    {
     "name": "stdout",
     "output_type": "stream",
     "text": [
      "SimpleExplicitNN(\n",
      "  (fc1): Linear(in_features=10, out_features=50, bias=True)\n",
      "  (fc2): Linear(in_features=50, out_features=20, bias=True)\n",
      "  (fc3): Linear(in_features=20, out_features=1, bias=True)\n",
      "  (relu): ReLU()\n",
      ")\n"
     ]
    }
   ],
   "source": [
    "model = SimpleExplicitNN()\n",
    "print(model)"
   ]
  },
  {
   "cell_type": "code",
   "execution_count": 288,
   "metadata": {},
   "outputs": [],
   "source": [
    "# Or, add multiple layers w/ different architectures\n",
    "class ComplexNN(nn.Module):\n",
    "    def __init__(self):\n",
    "        super(ComplexNN, self).__init__()\n",
    "        # Convolutional layers\n",
    "        self.conv1 = nn.Conv2d(1, 32, kernel_size=3, stride=1, padding=1)\n",
    "        self.conv2 = nn.Conv2d(32, 64, kernel_size=3, stride=1, padding=1)\n",
    "        self.pool = nn.MaxPool2d(kernel_size=2, stride=2, padding=0)\n",
    "        # Fully connected layers\n",
    "        self.fc1 = nn.Linear(64 * 7 * 7, 128)  # Assuming input images are 28x28\n",
    "        self.fc2 = nn.Linear(128, 10)\n",
    "        self.relu = nn.ReLU()\n",
    "        self.dropout = nn.Dropout(0.5)\n",
    "\n",
    "    def forward(self, x):\n",
    "        x = self.pool(self.relu(self.conv1(x)))\n",
    "        x = self.pool(self.relu(self.conv2(x)))\n",
    "        x = x.view(-1, 64 * 7 * 7)  # Flatten the tensor\n",
    "        x = self.relu(self.fc1(x))\n",
    "        x = self.dropout(x)\n",
    "        x = self.fc2(x)\n",
    "        return x"
   ]
  },
  {
   "cell_type": "code",
   "execution_count": 289,
   "metadata": {},
   "outputs": [
    {
     "name": "stdout",
     "output_type": "stream",
     "text": [
      "ComplexNN(\n",
      "  (conv1): Conv2d(1, 32, kernel_size=(3, 3), stride=(1, 1), padding=(1, 1))\n",
      "  (conv2): Conv2d(32, 64, kernel_size=(3, 3), stride=(1, 1), padding=(1, 1))\n",
      "  (pool): MaxPool2d(kernel_size=2, stride=2, padding=0, dilation=1, ceil_mode=False)\n",
      "  (fc1): Linear(in_features=3136, out_features=128, bias=True)\n",
      "  (fc2): Linear(in_features=128, out_features=10, bias=True)\n",
      "  (relu): ReLU()\n",
      "  (dropout): Dropout(p=0.5, inplace=False)\n",
      ")\n"
     ]
    }
   ],
   "source": [
    "model = ComplexNN()\n",
    "print(model)"
   ]
  },
  {
   "cell_type": "markdown",
   "metadata": {},
   "source": [
    "## Loss function and optimizer"
   ]
  },
  {
   "cell_type": "markdown",
   "metadata": {},
   "source": [
    "##### **Q22: How do you define a loss function and an optimizer for your neural network?**"
   ]
  },
  {
   "cell_type": "code",
   "execution_count": 290,
   "metadata": {},
   "outputs": [
    {
     "name": "stdout",
     "output_type": "stream",
     "text": [
      "MSELoss() \n",
      " CrossEntropyLoss() \n",
      "\n",
      "SGD (\n",
      "Parameter Group 0\n",
      "    dampening: 0\n",
      "    differentiable: False\n",
      "    foreach: None\n",
      "    fused: None\n",
      "    lr: 0.01\n",
      "    maximize: False\n",
      "    momentum: 0\n",
      "    nesterov: False\n",
      "    weight_decay: 0\n",
      ") \n",
      " Adam (\n",
      "Parameter Group 0\n",
      "    amsgrad: False\n",
      "    betas: (0.9, 0.999)\n",
      "    capturable: False\n",
      "    differentiable: False\n",
      "    eps: 1e-08\n",
      "    foreach: None\n",
      "    fused: None\n",
      "    lr: 0.001\n",
      "    maximize: False\n",
      "    weight_decay: 0\n",
      ")\n"
     ]
    }
   ],
   "source": [
    "# Define objects for each element that will later be used in your model\n",
    "# e.g., Mean Squared Error Loss\n",
    "criterion_1 = nn.MSELoss()\n",
    "\n",
    "# or, Cross Entropy Loss\n",
    "criterion_2 = nn.CrossEntropyLoss()\n",
    "\n",
    "print(criterion_1, '\\n', criterion_2, '\\n')\n",
    "\n",
    "# Stochastic Gradient Descent optimizer\n",
    "optimizer_1 = optim.SGD(model.parameters(), lr=0.01)\n",
    "\n",
    "# or, Adam optimizer\n",
    "optimizer_2 = optim.Adam(model.parameters(), lr=0.001)\n",
    "\n",
    "print(optimizer_1, '\\n', optimizer_2)"
   ]
  },
  {
   "cell_type": "code",
   "execution_count": 291,
   "metadata": {},
   "outputs": [],
   "source": [
    "# and integrate them into the training loop\n",
    "class SimpleNeuralNetwork(nn.Module):\n",
    "    def __init__(self):\n",
    "        super(SimpleNeuralNetwork, self).__init__()\n",
    "        self.fc1 = nn.Linear(10, 50)\n",
    "        self.fc2 = nn.Linear(50, 20)\n",
    "        self.fc3 = nn.Linear(20, 1)\n",
    "\n",
    "    def forward(self, x):\n",
    "        x = torch.relu(self.fc1(x))\n",
    "        x = torch.relu(self.fc2(x))\n",
    "        x = self.fc3(x)\n",
    "        return x"
   ]
  },
  {
   "cell_type": "code",
   "execution_count": 292,
   "metadata": {},
   "outputs": [
    {
     "name": "stdout",
     "output_type": "stream",
     "text": [
      "Epoch [100/1000], Loss: 0.1855\n",
      "Epoch [200/1000], Loss: 0.0455\n",
      "Epoch [300/1000], Loss: 0.0070\n",
      "Epoch [400/1000], Loss: 0.0008\n",
      "Epoch [500/1000], Loss: 0.0001\n",
      "Epoch [600/1000], Loss: 0.0000\n",
      "Epoch [700/1000], Loss: 0.0000\n",
      "Epoch [800/1000], Loss: 0.0000\n",
      "Epoch [900/1000], Loss: 0.0000\n",
      "Epoch [1000/1000], Loss: 0.0000\n"
     ]
    }
   ],
   "source": [
    "model = SimpleNeuralNetwork()\n",
    "\n",
    "# Define loss function and optimizer\n",
    "criterion = nn.MSELoss()\n",
    "optimizer = optim.SGD(model.parameters(), lr=0.01)\n",
    "\n",
    "inputs = torch.randn(5, 10)\n",
    "targets = torch.randn(5, 1)\n",
    "\n",
    "num_epochs = 1000\n",
    "for epoch in range(num_epochs):\n",
    "    optimizer.zero_grad()\n",
    "    \n",
    "    outputs = model(inputs)\n",
    "    loss = criterion(outputs, targets)\n",
    "    \n",
    "    loss.backward()\n",
    "    \n",
    "    optimizer.step()\n",
    "    \n",
    "    if (epoch + 1) % 100 == 0:\n",
    "        print(f'Epoch [{epoch + 1}/{num_epochs}], Loss: {loss.item():.4f}')"
   ]
  },
  {
   "cell_type": "markdown",
   "metadata": {},
   "source": [
    "##### **Q23: How do you use different types of optimizers in PyTorch?**"
   ]
  },
  {
   "cell_type": "code",
   "execution_count": 293,
   "metadata": {},
   "outputs": [],
   "source": [
    "# SGD (i.e., stochastic gradient descent), which updates weights using the gradient of the loss function with respect to weights\n",
    "optimizer = optim.SGD(model.parameters(), lr=0.01)\n",
    "\n",
    "# SGD w/ momentum, which helps accelerate SGD in the relevant direction and dampens oscillations\n",
    "optimizer = optim.SGD(model.parameters(), lr=0.01, momentum=0.9)\n",
    "\n",
    "# RMSprop, which is designed to adapt the learning rate for each parameter individually\n",
    "optimizer = optim.RMSprop(model.parameters(), lr=0.01)\n",
    "\n",
    "# Adagrad, which adapts the learning rate to the parameters, performing smaller updates for parameters associated with frequently occurring features\n",
    "optimizer = optim.Adagrad(model.parameters(), lr=0.01)\n",
    "\n",
    "# Adam, which combines the advantages of both AdaGrad and RMSProp\n",
    "optimizer = optim.Adam(model.parameters(), lr=0.001)\n",
    "\n",
    "# Adadelta, an extension of Adagrad that seeks to reduce its aggressive, monotonically decreasing learning rate\n",
    "optimizer = optim.Adadelta(model.parameters(), lr=1.0)\n",
    "\n",
    "# AdamW, a variant of the Adam optimizer with decoupled weight decay\n",
    "optimizer = optim.AdamW(model.parameters(), lr=0.001) "
   ]
  },
  {
   "cell_type": "markdown",
   "metadata": {},
   "source": [
    "##### **Q24: How do you adjust the learning rate during training?**"
   ]
  },
  {
   "cell_type": "code",
   "execution_count": 294,
   "metadata": {},
   "outputs": [],
   "source": [
    "# Use the lr_scheduler module\n",
    "import torch.optim.lr_scheduler as lr_scheduler\n",
    "\n",
    "# StepLR: decreases the learning rate by a factor every fixed number of epochs\n",
    "optimizer = optim.SGD(model.parameters(), lr=0.1)\n",
    "\n",
    "scheduler = lr_scheduler.StepLR(optimizer, step_size=30, gamma=0.1)\n",
    "\n",
    "# MultiStepLR: decreases the learning rate at specific epochs\n",
    "scheduler = lr_scheduler.MultiStepLR(optimizer, milestones=[30, 80], gamma=0.1)\n",
    "\n",
    "# ExponentialLR: decreases the learning rate by a factor of the base value every epoch\n",
    "scheduler = lr_scheduler.ExponentialLR(optimizer, gamma=0.9)\n",
    "\n",
    "# ReduceLROnPlateau: reduces the learning rate when a metric has stopped improving\n",
    "scheduler = lr_scheduler.ReduceLROnPlateau(optimizer, mode='min', factor=0.1, patience=10)\n",
    "\n",
    "# CosineAnnealingLR: sets the learning rate using a cosine annealing schedule\n",
    "scheduler = lr_scheduler.CosineAnnealingLR(optimizer, T_max=50)\n",
    "\n",
    "# LambdaLR: sets the learning rate using a user-defined function\n",
    "lambda_lr = lambda epoch: 0.95 ** epoch  # lambda function for the learning rate schedule\n",
    "scheduler = lr_scheduler.LambdaLR(optimizer, lr_lambda=lambda_lr)"
   ]
  },
  {
   "cell_type": "code",
   "execution_count": 295,
   "metadata": {},
   "outputs": [],
   "source": [
    "# In the training loop:\n",
    "class SimpleNeuralNetwork(nn.Module):\n",
    "    def __init__(self):\n",
    "        super(SimpleNeuralNetwork, self).__init__()\n",
    "        self.fc1 = nn.Linear(10, 50)\n",
    "        self.fc2 = nn.Linear(50, 20)\n",
    "        self.fc3 = nn.Linear(20, 1)\n",
    "\n",
    "    def forward(self, x):\n",
    "        x = torch.relu(self.fc1(x))\n",
    "        x = torch.relu(self.fc2(x))\n",
    "        x = self.fc3(x)\n",
    "        return x"
   ]
  },
  {
   "cell_type": "code",
   "execution_count": 296,
   "metadata": {},
   "outputs": [
    {
     "name": "stdout",
     "output_type": "stream",
     "text": [
      "Epoch [10/100], Loss: 0.0113, Learning Rate: 0.100000\n",
      "Epoch [20/100], Loss: 0.0025, Learning Rate: 0.100000\n",
      "Epoch [30/100], Loss: 0.0007, Learning Rate: 0.010000\n",
      "Epoch [40/100], Loss: 0.0006, Learning Rate: 0.010000\n",
      "Epoch [50/100], Loss: 0.0005, Learning Rate: 0.010000\n",
      "Epoch [60/100], Loss: 0.0005, Learning Rate: 0.001000\n",
      "Epoch [70/100], Loss: 0.0004, Learning Rate: 0.001000\n",
      "Epoch [80/100], Loss: 0.0004, Learning Rate: 0.001000\n",
      "Epoch [90/100], Loss: 0.0004, Learning Rate: 0.000100\n",
      "Epoch [100/100], Loss: 0.0004, Learning Rate: 0.000100\n"
     ]
    }
   ],
   "source": [
    "model = SimpleNeuralNetwork()\n",
    "\n",
    "criterion = nn.MSELoss()\n",
    "optimizer = optim.SGD(model.parameters(), lr=0.1)\n",
    "\n",
    "scheduler = lr_scheduler.StepLR(optimizer, step_size=30, gamma=0.1)\n",
    "\n",
    "inputs = torch.randn(5, 10)\n",
    "targets = torch.randn(5, 1)\n",
    "\n",
    "num_epochs = 100\n",
    "for epoch in range(num_epochs):\n",
    "    optimizer.zero_grad()\n",
    "    \n",
    "    outputs = model(inputs)\n",
    "    loss = criterion(outputs, targets)\n",
    "    \n",
    "    loss.backward()\n",
    "    \n",
    "    optimizer.step()\n",
    "    \n",
    "    # Adjust learning rate\n",
    "    scheduler.step()\n",
    "    \n",
    "    if (epoch + 1) % 10 == 0:\n",
    "        print(f'Epoch [{epoch + 1}/{num_epochs}], Loss: {loss.item():.4f}, Learning Rate: {scheduler.get_last_lr()[0]:.6f}')"
   ]
  },
  {
   "cell_type": "markdown",
   "metadata": {},
   "source": [
    "## Training the model"
   ]
  },
  {
   "cell_type": "markdown",
   "metadata": {},
   "source": [
    "##### **Q25: How do you create a training loop to train your neural network in PyTorch?**"
   ]
  },
  {
   "cell_type": "code",
   "execution_count": 297,
   "metadata": {},
   "outputs": [],
   "source": [
    "# Import required libraries/modules\n",
    "# import torch\n",
    "# import torch.nn as nn\n",
    "# import torch.optim as optim\n",
    "import torch.nn.functional as F\n",
    "from torch.utils.data import DataLoader, TensorDataset"
   ]
  },
  {
   "cell_type": "code",
   "execution_count": 298,
   "metadata": {},
   "outputs": [],
   "source": [
    "# Define the neural network class\n",
    "class SimpleNeuralNetwork(nn.Module):\n",
    "    def __init__(self):\n",
    "        super(SimpleNeuralNetwork, self).__init__()\n",
    "        self.fc1 = nn.Linear(10, 50)\n",
    "        self.fc2 = nn.Linear(50, 20)\n",
    "        self.fc3 = nn.Linear(20, 1)\n",
    "\n",
    "    def forward(self, x):\n",
    "        x = F.relu(self.fc1(x))\n",
    "        x = F.relu(self.fc2(x))\n",
    "        x = self.fc3(x)\n",
    "        return x"
   ]
  },
  {
   "cell_type": "code",
   "execution_count": 299,
   "metadata": {},
   "outputs": [],
   "source": [
    "# Set up the model\n",
    "model = SimpleNeuralNetwork()\n",
    "\n",
    "criterion = nn.MSELoss()\n",
    "optimizer = optim.Adam(model.parameters(), lr=0.001)\n",
    "\n",
    "inputs = torch.randn(100, 10)\n",
    "targets = torch.randn(100, 1)\n",
    "\n",
    "# Create a TensorDataset and DataLoader\n",
    "dataset = TensorDataset(inputs, targets)\n",
    "dataloader = DataLoader(dataset, batch_size=10, shuffle=True)"
   ]
  },
  {
   "cell_type": "code",
   "execution_count": 300,
   "metadata": {},
   "outputs": [
    {
     "name": "stdout",
     "output_type": "stream",
     "text": [
      "Epoch [10/100], Loss: 0.8002\n",
      "Epoch [20/100], Loss: 1.2451\n",
      "Epoch [30/100], Loss: 0.6822\n",
      "Epoch [40/100], Loss: 0.3492\n",
      "Epoch [50/100], Loss: 0.5307\n",
      "Epoch [60/100], Loss: 0.2259\n",
      "Epoch [70/100], Loss: 0.1168\n",
      "Epoch [80/100], Loss: 0.0534\n",
      "Epoch [90/100], Loss: 0.0202\n",
      "Epoch [100/100], Loss: 0.1455\n"
     ]
    }
   ],
   "source": [
    "# Training loop\n",
    "num_epochs = 100\n",
    "\n",
    "for epoch in range(num_epochs):\n",
    "    for batch_idx, (data, target) in enumerate(dataloader):\n",
    "        optimizer.zero_grad()\n",
    "        \n",
    "        output = model(data)\n",
    "        loss = criterion(output, target)\n",
    "        \n",
    "        loss.backward()\n",
    "        \n",
    "        optimizer.step()\n",
    "    \n",
    "    if (epoch + 1) % 10 == 0:\n",
    "        print(f'Epoch [{epoch + 1}/{num_epochs}], Loss: {loss.item():.4f}')"
   ]
  },
  {
   "cell_type": "markdown",
   "metadata": {},
   "source": [
    "## Evaluation and inference"
   ]
  },
  {
   "cell_type": "markdown",
   "metadata": {},
   "source": [
    "##### **Q26: How do you evaluate your model's performance and make predictions on new data?**"
   ]
  },
  {
   "cell_type": "code",
   "execution_count": 301,
   "metadata": {},
   "outputs": [
    {
     "name": "stdout",
     "output_type": "stream",
     "text": [
      "Validation Loss: 1.8727\n"
     ]
    }
   ],
   "source": [
    "# For evaluations, you need to set the model to evaluation mode and disable gradient calculation. i.e.,\n",
    "val_inputs = torch.randn(20, 10)\n",
    "val_targets = torch.randn(20, 1)\n",
    "\n",
    "val_dataset = TensorDataset(val_inputs, val_targets)\n",
    "val_loader = DataLoader(val_dataset, batch_size=5, shuffle=False)\n",
    "\n",
    "# Set the model to evaluation mode\n",
    "model.eval()\n",
    "\n",
    "# Initialize loss and accuracy variables\n",
    "val_loss = 0\n",
    "criterion = nn.MSELoss()\n",
    "\n",
    "with torch.no_grad():\n",
    "    for data, target in val_loader:\n",
    "        output = model(data)\n",
    "        loss = criterion(output, target)\n",
    "        val_loss += loss.item()\n",
    "\n",
    "# Compute average validation loss\n",
    "val_loss /= len(val_loader)\n",
    "print(f'Validation Loss: {val_loss:.4f}')"
   ]
  },
  {
   "cell_type": "code",
   "execution_count": 302,
   "metadata": {},
   "outputs": [
    {
     "name": "stdout",
     "output_type": "stream",
     "text": [
      "Predictions: tensor([[ 0.1575],\n",
      "        [-0.6524],\n",
      "        [-0.7423],\n",
      "        [ 0.9354],\n",
      "        [ 0.1813]])\n"
     ]
    }
   ],
   "source": [
    "# For predictions, also use the model in evaluation mode\n",
    "new_data = torch.randn(5, 10)\n",
    "\n",
    "model.eval()\n",
    "\n",
    "# Make predictions\n",
    "with torch.no_grad():\n",
    "    predictions = model(new_data)\n",
    "    print(f'Predictions: {predictions}')"
   ]
  },
  {
   "cell_type": "markdown",
   "metadata": {},
   "source": [
    "##### **Q27: How do you calculate the accuracy of your model?**"
   ]
  },
  {
   "cell_type": "code",
   "execution_count": 303,
   "metadata": {},
   "outputs": [
    {
     "name": "stdout",
     "output_type": "stream",
     "text": [
      "Accuracy: 45.00%\n"
     ]
    }
   ],
   "source": [
    "# Still need to use the model in evaluation mode. E.g., for a classification task:\n",
    "val_inputs = torch.randn(100, 10)\n",
    "val_targets = torch.randint(0, 2, (100,))  # Binary classification\n",
    "\n",
    "val_dataset = TensorDataset(val_inputs, val_targets)\n",
    "val_loader = DataLoader(val_dataset, batch_size=10, shuffle=False)\n",
    "\n",
    "class SimpleNeuralNetwork(nn.Module):\n",
    "    def __init__(self):\n",
    "        super(SimpleNeuralNetwork, self).__init__()\n",
    "        self.fc1 = nn.Linear(10, 50)\n",
    "        self.fc2 = nn.Linear(50, 20)\n",
    "        self.fc3 = nn.Linear(20, 2)  # Output layer for binary classification\n",
    "\n",
    "    def forward(self, x):\n",
    "        x = torch.relu(self.fc1(x))\n",
    "        x = torch.relu(self.fc2(x))\n",
    "        x = self.fc3(x)\n",
    "        return x\n",
    "\n",
    "model = SimpleNeuralNetwork()\n",
    "\n",
    "model.eval()\n",
    "\n",
    "# Calculate accuracy\n",
    "correct = 0\n",
    "total = 0\n",
    "\n",
    "with torch.no_grad():\n",
    "    for data, target in val_loader:\n",
    "        outputs = model(data)\n",
    "        _, predicted = torch.max(outputs, 1)\n",
    "        total += target.size(0)\n",
    "        correct += (predicted == target).sum().item()\n",
    "\n",
    "accuracy = 100 * correct / total\n",
    "print(f'Accuracy: {accuracy:.2f}%')"
   ]
  },
  {
   "cell_type": "markdown",
   "metadata": {},
   "source": [
    "##### **Q28: How do you handle model evaluation for regression tasks?**"
   ]
  },
  {
   "cell_type": "code",
   "execution_count": 304,
   "metadata": {},
   "outputs": [
    {
     "name": "stdout",
     "output_type": "stream",
     "text": [
      "MAE: 0.8200\n",
      "MSE: 1.0703\n",
      "RMSE: 1.0345\n",
      "R²: -0.0538\n"
     ]
    }
   ],
   "source": [
    "# Create a regression model and take out its metrics\n",
    "val_inputs = torch.randn(100, 10)\n",
    "val_targets = torch.randn(100, 1)\n",
    "\n",
    "val_dataset = TensorDataset(val_inputs, val_targets)\n",
    "val_loader = DataLoader(val_dataset, batch_size=10, shuffle=False)\n",
    "\n",
    "class SimpleNeuralNetwork(nn.Module):\n",
    "    def __init__(self):\n",
    "        super(SimpleNeuralNetwork, self).__init__()\n",
    "        self.fc1 = nn.Linear(10, 50)\n",
    "        self.fc2 = nn.Linear(50, 20)\n",
    "        self.fc3 = nn.Linear(20, 1)  # Output layer for regression\n",
    "\n",
    "    def forward(self, x):\n",
    "        x = torch.relu(self.fc1(x))\n",
    "        x = torch.relu(self.fc2(x))\n",
    "        x = self.fc3(x)\n",
    "        return x\n",
    "\n",
    "model = SimpleNeuralNetwork()\n",
    "\n",
    "model.eval()\n",
    "\n",
    "# Initialize variables to track metrics\n",
    "mae, mse = 0, 0\n",
    "all_predictions = []\n",
    "all_targets = []\n",
    "\n",
    "# Evaluate the model\n",
    "with torch.no_grad():\n",
    "    for data, target in val_loader:\n",
    "        outputs = model(data)\n",
    "        mae += torch.sum(torch.abs(outputs - target)).item()\n",
    "        mse += torch.sum((outputs - target) ** 2).item()\n",
    "        all_predictions.extend(outputs.numpy())\n",
    "        all_targets.extend(target.numpy())\n",
    "\n",
    "# Calculate mean values\n",
    "mae /= len(val_dataset)\n",
    "mse /= len(val_dataset)\n",
    "rmse = np.sqrt(mse)\n",
    "r2 = 1 - np.sum((np.array(all_targets) - np.array(all_predictions)) ** 2) / np.sum((np.array(all_targets) - np.mean(all_targets)) ** 2)\n",
    "\n",
    "print(f'MAE: {mae:.4f}')\n",
    "print(f'MSE: {mse:.4f}')\n",
    "print(f'RMSE: {rmse:.4f}')\n",
    "print(f'R²: {r2:.4f}')"
   ]
  },
  {
   "cell_type": "markdown",
   "metadata": {},
   "source": [
    "##### **Q29: How do you handle model evaluation for classification tasks?**"
   ]
  },
  {
   "cell_type": "code",
   "execution_count": 305,
   "metadata": {},
   "outputs": [
    {
     "name": "stdout",
     "output_type": "stream",
     "text": [
      "Accuracy: 0.3900\n",
      "Precision: 0.5000\n",
      "Recall: 0.0164\n",
      "F1 Score: 0.0317\n",
      "Confusion Matrix:\n",
      "[[38  1]\n",
      " [60  1]]\n"
     ]
    }
   ],
   "source": [
    "# For classification tasks you can even use sklearn modules for metrics\n",
    "from sklearn.metrics import accuracy_score, precision_score, recall_score, f1_score, confusion_matrix\n",
    "\n",
    "val_inputs = torch.randn(100, 10)\n",
    "val_targets = torch.randint(0, 2, (100,))  # Binary classification\n",
    "\n",
    "val_dataset = TensorDataset(val_inputs, val_targets)\n",
    "val_loader = DataLoader(val_dataset, batch_size=10, shuffle=False)\n",
    "\n",
    "class SimpleNeuralNetwork(nn.Module):\n",
    "    def __init__(self):\n",
    "        super(SimpleNeuralNetwork, self).__init__()\n",
    "        self.fc1 = nn.Linear(10, 50)\n",
    "        self.fc2 = nn.Linear(50, 20)\n",
    "        self.fc3 = nn.Linear(20, 2)  # Output layer for binary classification\n",
    "\n",
    "    def forward(self, x):\n",
    "        x = torch.relu(self.fc1(x))\n",
    "        x = torch.relu(self.fc2(x))\n",
    "        x = self.fc3(x)\n",
    "        return x\n",
    "\n",
    "model = SimpleNeuralNetwork()\n",
    "\n",
    "model.eval()\n",
    "\n",
    "# Initialize lists to store predictions and targets\n",
    "all_predictions = []\n",
    "all_targets = []\n",
    "\n",
    "with torch.no_grad():\n",
    "    for data, target in val_loader:\n",
    "        outputs = model(data)\n",
    "        _, predicted = torch.max(outputs, 1)\n",
    "        all_predictions.extend(predicted.numpy())\n",
    "        all_targets.extend(target.numpy())\n",
    "\n",
    "# Convert lists to numpy arrays\n",
    "all_predictions = np.array(all_predictions)\n",
    "all_targets = np.array(all_targets)\n",
    "\n",
    "# Calculate metrics\n",
    "accuracy = accuracy_score(all_targets, all_predictions)\n",
    "precision = precision_score(all_targets, all_predictions)\n",
    "recall = recall_score(all_targets, all_predictions)\n",
    "f1 = f1_score(all_targets, all_predictions)\n",
    "conf_matrix = confusion_matrix(all_targets, all_predictions)\n",
    "\n",
    "print(f'Accuracy: {accuracy:.4f}')\n",
    "print(f'Precision: {precision:.4f}')\n",
    "print(f'Recall: {recall:.4f}')\n",
    "print(f'F1 Score: {f1:.4f}')\n",
    "print(f'Confusion Matrix:\\n{conf_matrix}')"
   ]
  },
  {
   "cell_type": "markdown",
   "metadata": {},
   "source": [
    "##### **Q30: How do you use confusion matrices to evaluate model performance?**"
   ]
  },
  {
   "cell_type": "code",
   "execution_count": 306,
   "metadata": {},
   "outputs": [
    {
     "name": "stdout",
     "output_type": "stream",
     "text": [
      "Confusion Matrix:\n",
      "[[38  1]\n",
      " [60  1]]\n"
     ]
    },
    {
     "data": {
      "image/png": "[encoded data removed]",
      "text/plain": [
       "<Figure size 640x480 with 2 Axes>"
      ]
     },
     "metadata": {},
     "output_type": "display_data"
    }
   ],
   "source": [
    "# For a clear(er) confusion matrix:\n",
    "from sklearn.metrics import confusion_matrix, ConfusionMatrixDisplay\n",
    "import matplotlib.pyplot as plt\n",
    "\n",
    "conf_matrix = confusion_matrix(all_targets, all_predictions)\n",
    "print(f'Confusion Matrix:\\n{conf_matrix}')\n",
    "\n",
    "# Plot confusion matrix\n",
    "disp = ConfusionMatrixDisplay(confusion_matrix=conf_matrix)\n",
    "disp.plot(cmap=plt.cm.Blues)\n",
    "plt.show()"
   ]
  },
  {
   "cell_type": "markdown",
   "metadata": {},
   "source": [
    "## Saving and loading models"
   ]
  },
  {
   "cell_type": "markdown",
   "metadata": {},
   "source": [
    "##### **Q31: How do you save and load a PyTorch model?**"
   ]
  },
  {
   "cell_type": "code",
   "execution_count": 307,
   "metadata": {},
   "outputs": [],
   "source": [
    "# Just for reference:\n",
    "\n",
    "# Define and instantiate the model\n",
    "# model = SimpleNeuralNetwork()\n",
    "\n",
    "# Save the model's state dictionary\n",
    "# torch.save(model.state_dict(), 'model.pth')"
   ]
  },
  {
   "cell_type": "code",
   "execution_count": 308,
   "metadata": {},
   "outputs": [],
   "source": [
    "# For loading:\n",
    "# Define the model class (this should be the same as the saved model)\n",
    "# class SimpleNeuralNetwork(nn.Module):\n",
    "#     def __init__(self):\n",
    "#         super(SimpleNeuralNetwork, self).__init__()\n",
    "#         self.fc1 = nn.Linear(10, 50)\n",
    "#         self.fc2 = nn.Linear(50, 20)\n",
    "#         self.fc3 = nn.Linear(20, 2)  # Assuming binary classification\n",
    "\n",
    "#     def forward(self, x):\n",
    "#         x = torch.relu(self.fc1(x))\n",
    "#         x = torch.relu(self.fc2(x))\n",
    "#         x = self.fc3(x)\n",
    "#         return x\n",
    "\n",
    "# Instantiate the model\n",
    "# model = SimpleNeuralNetwork()\n",
    "\n",
    "# Load the model's state dictionary\n",
    "# model.load_state_dict(torch.load('model.pth'))\n",
    "\n",
    "# Set the model to evaluation mode\n",
    "# model.eval()"
   ]
  },
  {
   "cell_type": "markdown",
   "metadata": {},
   "source": [
    "##### **Q32: How do you save and load model checkpoints during training?**"
   ]
  },
  {
   "cell_type": "code",
   "execution_count": 309,
   "metadata": {},
   "outputs": [],
   "source": [
    "# Define a checkpoint saving function\n",
    "def save_checkpoint(model, optimizer, epoch, filename='checkpoint.pth'):\n",
    "    checkpoint = {\n",
    "        'epoch': epoch,\n",
    "        'model_state_dict': model.state_dict(),\n",
    "        'optimizer_state_dict': optimizer.state_dict()\n",
    "    }\n",
    "    torch.save(checkpoint, filename)\n",
    "    \n",
    "# Define a checkpoint loading function\n",
    "def load_checkpoint(model, optimizer, filename='checkpoint.pth'):\n",
    "    checkpoint = torch.load(filename)\n",
    "    model.load_state_dict(checkpoint['model_state_dict'])\n",
    "    optimizer.load_state_dict(checkpoint['optimizer_state_dict'])\n",
    "    epoch = checkpoint['epoch']\n",
    "    return model, optimizer, epoch"
   ]
  },
  {
   "cell_type": "code",
   "execution_count": 310,
   "metadata": {},
   "outputs": [
    {
     "name": "stdout",
     "output_type": "stream",
     "text": [
      "Checkpoint saved at epoch 10\n",
      "Epoch [10/100], Loss: 0.6670\n",
      "Checkpoint saved at epoch 20\n",
      "Epoch [20/100], Loss: 0.5358\n",
      "Checkpoint saved at epoch 30\n",
      "Epoch [30/100], Loss: 0.3589\n",
      "Checkpoint saved at epoch 40\n",
      "Epoch [40/100], Loss: 0.2767\n",
      "Checkpoint saved at epoch 50\n",
      "Epoch [50/100], Loss: 0.2030\n",
      "Checkpoint saved at epoch 60\n",
      "Epoch [60/100], Loss: 0.2119\n",
      "Checkpoint saved at epoch 70\n",
      "Epoch [70/100], Loss: 0.0858\n",
      "Checkpoint saved at epoch 80\n",
      "Epoch [80/100], Loss: 0.0319\n",
      "Checkpoint saved at epoch 90\n",
      "Epoch [90/100], Loss: 0.0332\n",
      "Checkpoint saved at epoch 100\n",
      "Epoch [100/100], Loss: 0.0293\n"
     ]
    }
   ],
   "source": [
    "# Integrate checkpointing into the training loop (again, this is only reference)\n",
    "class SimpleNeuralNetwork(nn.Module):\n",
    "    def __init__(self):\n",
    "        super(SimpleNeuralNetwork, self).__init__()\n",
    "        self.fc1 = nn.Linear(10, 50)\n",
    "        self.fc2 = nn.Linear(50, 20)\n",
    "        self.fc3 = nn.Linear(20, 2)  # Assuming binary classification\n",
    "\n",
    "    def forward(self, x):\n",
    "        x = torch.relu(self.fc1(x))\n",
    "        x = torch.relu(self.fc2(x))\n",
    "        x = self.fc3(x)\n",
    "        return x\n",
    "\n",
    "model = SimpleNeuralNetwork()\n",
    "\n",
    "criterion = nn.CrossEntropyLoss()\n",
    "optimizer = optim.Adam(model.parameters(), lr=0.001)\n",
    "\n",
    "inputs = torch.randn(100, 10)\n",
    "targets = torch.randint(0, 2, (100,))\n",
    "\n",
    "dataset = TensorDataset(inputs, targets)\n",
    "dataloader = DataLoader(dataset, batch_size=10, shuffle=True)\n",
    "\n",
    "# Training loop with checkpointing\n",
    "num_epochs = 100\n",
    "checkpoint_interval = 10  # Save checkpoint every 10 epochs\n",
    "\n",
    "for epoch in range(num_epochs):\n",
    "    model.train()\n",
    "    for data, target in dataloader:\n",
    "        optimizer.zero_grad()\n",
    "        output = model(data)\n",
    "        loss = criterion(output, target)\n",
    "        loss.backward()\n",
    "        optimizer.step()\n",
    "\n",
    "    if (epoch + 1) % checkpoint_interval == 0:\n",
    "        save_checkpoint(model, optimizer, epoch + 1)\n",
    "        print(f'Checkpoint saved at epoch {epoch + 1}')\n",
    "\n",
    "    if (epoch + 1) % 10 == 0:\n",
    "        print(f'Epoch [{epoch + 1}/{num_epochs}], Loss: {loss.item():.4f}')"
   ]
  },
  {
   "cell_type": "code",
   "execution_count": 311,
   "metadata": {},
   "outputs": [
    {
     "name": "stdout",
     "output_type": "stream",
     "text": [
      "Resuming training from epoch 100\n",
      "Checkpoint saved at epoch 110\n",
      "Epoch [110/200], Loss: 0.0208\n",
      "Checkpoint saved at epoch 120\n",
      "Epoch [120/200], Loss: 0.0165\n",
      "Checkpoint saved at epoch 130\n",
      "Epoch [130/200], Loss: 0.0125\n",
      "Checkpoint saved at epoch 140\n",
      "Epoch [140/200], Loss: 0.0057\n",
      "Checkpoint saved at epoch 150\n",
      "Epoch [150/200], Loss: 0.0062\n",
      "Checkpoint saved at epoch 160\n",
      "Epoch [160/200], Loss: 0.0077\n",
      "Checkpoint saved at epoch 170\n",
      "Epoch [170/200], Loss: 0.0036\n",
      "Checkpoint saved at epoch 180\n",
      "Epoch [180/200], Loss: 0.0038\n",
      "Checkpoint saved at epoch 190\n",
      "Epoch [190/200], Loss: 0.0031\n",
      "Checkpoint saved at epoch 200\n",
      "Epoch [200/200], Loss: 0.0020\n"
     ]
    }
   ],
   "source": [
    "# Load checkpoint if available\n",
    "try:\n",
    "    model, optimizer, start_epoch = load_checkpoint(model, optimizer)\n",
    "    print(f'Resuming training from epoch {start_epoch}')\n",
    "except FileNotFoundError:\n",
    "    start_epoch = 0\n",
    "    print('No checkpoint found, starting training from scratch')\n",
    "\n",
    "num_epochs = 200\n",
    "# Training loop with checkpointing, resuming from `start_epoch`\n",
    "for epoch in range(start_epoch, num_epochs):\n",
    "    model.train()\n",
    "    for data, target in dataloader:\n",
    "        optimizer.zero_grad()\n",
    "        output = model(data)\n",
    "        loss = criterion(output, target)\n",
    "        loss.backward()\n",
    "        optimizer.step()\n",
    "\n",
    "    if (epoch + 1) % checkpoint_interval == 0:\n",
    "        save_checkpoint(model, optimizer, epoch + 1)\n",
    "        print(f'Checkpoint saved at epoch {epoch + 1}')\n",
    "\n",
    "    if (epoch + 1) % 10 == 0:\n",
    "        print(f'Epoch [{epoch + 1}/{num_epochs}], Loss: {loss.item():.4f}')"
   ]
  },
  {
   "cell_type": "code",
   "execution_count": 312,
   "metadata": {},
   "outputs": [
    {
     "name": "stdout",
     "output_type": "stream",
     "text": [
      "Checkpoint file checkpoint.pth deleted.\n"
     ]
    }
   ],
   "source": [
    "import os\n",
    "\n",
    "checkpoint_filename = 'checkpoint.pth'\n",
    "if os.path.exists(checkpoint_filename):\n",
    "    os.remove(checkpoint_filename)\n",
    "    print(f'Checkpoint file {checkpoint_filename} deleted.')\n",
    "else:\n",
    "    print(f'Checkpoint file {checkpoint_filename} not found.')"
   ]
  },
  {
   "cell_type": "markdown",
   "metadata": {},
   "source": [
    "## Custom datasets and DataLoaders"
   ]
  },
  {
   "cell_type": "markdown",
   "metadata": {},
   "source": [
    "##### **Q33: How do you use PyTorch's DataLoader to load a dataset in batches?**"
   ]
  },
  {
   "cell_type": "code",
   "execution_count": 313,
   "metadata": {},
   "outputs": [
    {
     "name": "stdout",
     "output_type": "stream",
     "text": [
      "Batch 1\n",
      "Data: tensor([[-1.0658, -0.2074,  0.0804, -0.9749, -0.4032,  0.0140, -1.2589, -0.2905,\n",
      "         -0.8695, -0.5550],\n",
      "        [ 2.1280, -0.1013,  0.0739,  0.2532, -0.8311, -2.1177, -0.8358, -1.2029,\n",
      "         -0.0129, -0.8853],\n",
      "        [ 1.6032, -0.8338, -1.1881, -1.4176, -0.0734,  0.6840, -2.0900, -0.2706,\n",
      "         -1.0004,  3.5120],\n",
      "        [ 0.0940, -0.2540,  0.6608, -0.9362,  1.2086, -0.1982,  1.2813, -1.5374,\n",
      "         -0.1870,  0.1185],\n",
      "        [ 0.5984,  1.8942, -1.1032,  1.7462,  2.5555,  0.0285,  1.2233,  0.0467,\n",
      "         -0.9759, -1.5505],\n",
      "        [-1.0358,  0.4409, -0.8401, -1.3643, -0.2719,  0.6230,  1.6572, -1.2338,\n",
      "         -1.0395,  0.7358],\n",
      "        [ 0.3053,  1.3365,  1.1145, -0.0378, -0.5156, -0.7822,  0.0457, -0.5535,\n",
      "          0.4126,  0.6483],\n",
      "        [-0.8502, -0.8303,  0.8120,  0.9671,  1.3351, -2.1299, -1.1972,  0.4406,\n",
      "          0.3068, -0.2781],\n",
      "        [ 0.1178, -0.1329,  0.9664, -0.7877, -0.3858, -2.0644,  0.0754, -0.6416,\n",
      "         -0.5878, -0.3706],\n",
      "        [ 0.0935, -0.5619,  1.0891, -0.8534, -0.9943,  0.3888,  0.5521, -0.1667,\n",
      "          2.3552,  1.2078]])\n",
      "Target: tensor([1, 1, 0, 1, 1, 1, 1, 1, 0, 0])\n",
      "Batch 2\n",
      "Data: tensor([[-0.3424,  0.3931, -0.7958, -0.9603,  1.1290, -0.1764, -1.2444,  0.5100,\n",
      "         -0.6218, -0.3310],\n",
      "        [-1.7675, -1.1476, -0.3550, -0.6975, -0.4763, -1.0697,  1.8117, -0.0876,\n",
      "          0.0442,  1.7051],\n",
      "        [-1.3784,  0.7094, -1.1367, -1.7951,  0.4882, -0.7773, -1.1453, -1.3852,\n",
      "         -0.9638, -0.1422],\n",
      "        [ 1.0876,  0.8546, -1.8635,  1.1318, -1.3432,  0.5702,  0.9662,  0.7836,\n",
      "         -0.5051,  0.3149],\n",
      "        [ 0.0649, -0.9968, -1.1216, -1.8530, -0.6419, -1.1077, -0.1130,  0.2407,\n",
      "          0.2161, -0.5420],\n",
      "        [-0.0689, -0.5063, -0.3219, -1.0165, -1.0792, -0.4251,  1.1151,  0.6958,\n",
      "         -0.4931,  0.4054],\n",
      "        [-1.3967, -1.4194,  0.1967, -0.3702,  0.6403, -0.3431, -1.4626, -0.2273,\n",
      "         -1.7250, -0.0328],\n",
      "        [-2.6179, -1.3800,  1.3345, -0.6161, -0.3132, -0.2493,  0.2765,  0.7871,\n",
      "          1.1039, -0.0366],\n",
      "        [-1.7128,  0.0322, -0.8485, -0.8774,  0.4078, -0.1606,  1.5175, -0.1056,\n",
      "          0.3640,  0.6077],\n",
      "        [ 1.3262, -0.5821,  1.1195, -0.2991, -2.0372,  1.4078, -0.2725, -1.1116,\n",
      "          0.9612,  1.4685]])\n",
      "Target: tensor([1, 0, 0, 1, 1, 1, 0, 0, 0, 0])\n",
      "Batch 3\n",
      "Data: tensor([[-0.0220,  0.7622, -0.7042, -1.1342, -0.3095, -0.3359,  0.2983,  0.1396,\n",
      "          1.2314,  0.5706],\n",
      "        [-1.6348,  0.1855, -0.8276, -1.1772, -0.8977, -1.1279,  1.0228, -0.6575,\n",
      "         -0.8805, -1.0684],\n",
      "        [ 1.9414,  1.6233, -0.8019,  0.0954,  0.3825,  1.0279,  1.0040, -0.2601,\n",
      "          0.9724,  0.6472],\n",
      "        [-1.0250,  1.2284, -0.6215, -0.2090, -0.5550, -0.3558,  0.3593,  0.2854,\n",
      "          0.3952,  0.0385],\n",
      "        [ 1.7414,  1.2424,  0.4045, -0.1960,  0.4714,  0.0086, -0.2242, -0.2569,\n",
      "         -0.3513, -0.3721],\n",
      "        [-1.6284, -1.5302, -0.9519,  0.9421,  0.0383,  1.2253,  0.5648, -1.6545,\n",
      "          0.1924, -0.5322],\n",
      "        [-0.4239,  1.0601,  1.2581, -0.0302, -0.0374,  0.6645,  0.7740,  2.3035,\n",
      "         -0.0796, -0.8109],\n",
      "        [-0.6166,  1.0106,  1.1396,  0.6201,  0.3766,  1.8928, -0.0976,  1.6065,\n",
      "         -1.8419, -2.1288],\n",
      "        [ 0.1938, -0.0577, -0.8560, -0.6936, -0.7687,  0.4495, -1.1970, -1.0029,\n",
      "          0.2518,  0.1406],\n",
      "        [ 0.3006, -0.2238, -0.0255, -0.6383,  0.4414, -2.1697,  1.8144,  0.3008,\n",
      "         -0.7221, -0.7226]])\n",
      "Target: tensor([0, 0, 1, 1, 1, 0, 0, 1, 1, 1])\n",
      "Batch 4\n",
      "Data: tensor([[ 0.6977,  1.0172,  1.3812,  0.7864,  1.3769, -1.0801, -0.5912, -1.9407,\n",
      "          0.0780,  3.5735],\n",
      "        [-0.6300,  0.3398, -0.5055, -0.5951, -0.5060,  0.1302, -0.6192, -0.3668,\n",
      "         -0.6319, -0.7266],\n",
      "        [ 1.4522,  1.0347, -0.3283,  1.2297, -1.5184, -1.1425, -0.4145, -0.3027,\n",
      "          0.7950, -1.5008],\n",
      "        [-0.1789, -0.8835, -0.9706, -1.6012,  1.4074,  1.9749, -0.2372,  0.7188,\n",
      "          1.4316,  0.7443],\n",
      "        [ 2.2093,  0.2686, -1.4153, -1.3711,  0.7584,  0.8441,  0.6398, -0.9944,\n",
      "         -1.5343,  0.2323],\n",
      "        [-0.2294, -1.5680,  0.4611,  0.1981,  0.8727,  1.4837,  0.1711,  0.0401,\n",
      "          0.3139, -0.4878],\n",
      "        [-0.7212,  1.7727,  0.3409,  1.4818,  0.3024,  1.5777,  0.5200, -0.9221,\n",
      "         -0.4075, -0.6463],\n",
      "        [ 0.2363, -0.2671,  0.2380,  0.6310, -0.7593, -0.6323,  2.4335,  0.6830,\n",
      "         -1.1049,  1.1017],\n",
      "        [-0.1452, -0.3676, -0.5621,  0.6188,  0.4982, -0.5593, -0.5415, -0.8268,\n",
      "         -0.8507, -0.7586],\n",
      "        [ 0.5935, -0.4523,  0.3534, -1.7363, -1.4484,  0.1929,  0.3680, -0.0201,\n",
      "          0.7543,  0.5272]])\n",
      "Target: tensor([0, 0, 1, 0, 0, 0, 0, 1, 0, 0])\n",
      "Batch 5\n",
      "Data: tensor([[-1.2202,  0.3894, -0.7288, -1.2430, -0.3733, -0.5193, -0.5676,  0.3514,\n",
      "          0.9590, -0.3876],\n",
      "        [ 1.5202,  1.4489, -1.5001,  1.1764,  0.0598, -0.8924,  1.0180, -0.5157,\n",
      "          0.3409, -0.8334],\n",
      "        [-0.6711,  0.2563,  0.3819, -0.1003, -0.2620, -0.6135,  0.3682, -1.3608,\n",
      "          0.0634, -2.1919],\n",
      "        [ 1.0284,  0.3377,  0.4048,  1.1227,  0.5503,  0.7845,  0.5928, -0.8181,\n",
      "          0.9537,  0.8993],\n",
      "        [ 1.0724,  0.5445, -1.1575,  0.9747,  1.3955,  0.9572,  0.9337,  0.0369,\n",
      "         -1.1359,  1.4549],\n",
      "        [-0.6578, -0.6292, -0.8341,  0.6006,  1.2508, -1.0346, -0.1654, -0.3548,\n",
      "         -2.0980, -1.6896],\n",
      "        [-2.2694,  0.1983,  0.1365,  0.8618, -1.4610,  1.5764,  1.7372, -0.0548,\n",
      "         -0.6580,  2.7760],\n",
      "        [ 2.5777,  1.4706, -0.7431,  0.5334,  0.8681, -0.4292, -0.9235,  0.6929,\n",
      "          1.1012, -0.4907],\n",
      "        [ 0.0277,  0.1320, -1.3203,  0.2824,  1.3216, -0.3204,  0.1984, -0.7281,\n",
      "         -0.5536,  0.4801],\n",
      "        [-0.0775, -0.1943, -0.1494,  0.6770,  0.4597,  0.7870, -1.5794, -0.3861,\n",
      "         -2.1402, -1.2270]])\n",
      "Target: tensor([1, 1, 0, 0, 1, 0, 1, 1, 1, 0])\n",
      "Batch 6\n",
      "Data: tensor([[-0.6921, -0.5849,  0.4304,  0.2887,  0.5336, -1.0523, -0.1039, -0.5189,\n",
      "         -1.6194,  0.9794],\n",
      "        [-0.1537,  2.2079, -2.4976,  2.1176,  0.2258,  0.8108,  0.9797, -0.5854,\n",
      "         -0.6578,  0.8936],\n",
      "        [-0.5423, -1.5629,  2.0373,  0.1744,  1.2855,  0.2034, -0.7785, -1.6907,\n",
      "         -0.7042,  0.3570],\n",
      "        [-1.1842,  0.4555, -1.1759,  0.7233,  1.8282, -0.8761,  1.6266,  1.0245,\n",
      "         -0.7782, -0.8764],\n",
      "        [-0.7472, -0.0115, -1.5085,  0.7150, -0.4066, -0.7442, -1.8124, -0.1396,\n",
      "         -1.3479, -0.7925],\n",
      "        [-0.3466, -0.3083,  1.1156, -1.2633,  1.3062,  0.6483,  0.1494, -0.8990,\n",
      "          0.7674, -0.3121],\n",
      "        [-0.8029,  0.4689,  0.0988, -0.6538,  1.0239, -0.0411, -1.1205,  1.0545,\n",
      "          1.2337, -0.6841],\n",
      "        [ 0.8666,  0.2450,  1.4307, -0.9072, -1.7289,  0.6249, -0.1110,  0.4343,\n",
      "         -1.5470, -1.3934],\n",
      "        [ 0.5880, -0.4361, -0.3157, -0.1490,  1.7060,  0.6350,  0.7107, -0.0486,\n",
      "          0.3831,  0.6688],\n",
      "        [-0.8091, -0.7485,  1.2522, -1.5955, -0.1981, -0.0153, -0.9883, -0.1082,\n",
      "          0.1266, -0.4818]])\n",
      "Target: tensor([0, 1, 0, 1, 1, 1, 1, 1, 0, 1])\n",
      "Batch 7\n",
      "Data: tensor([[ 1.2558, -2.3602,  0.2476,  0.1826, -0.2959, -0.0410, -0.5978, -0.6286,\n",
      "          0.1763,  0.7074],\n",
      "        [-0.3129,  0.4945,  0.5311,  0.2649,  1.4088, -0.0458,  0.9451,  0.1214,\n",
      "         -1.9642, -0.5665],\n",
      "        [ 0.1075,  1.9495, -0.4188,  0.0121, -0.3874, -0.2225,  0.4748, -1.5963,\n",
      "         -0.7476, -0.6842],\n",
      "        [-2.1332, -1.6088, -0.5047,  0.6778, -0.1829, -1.2463, -0.7788, -0.2064,\n",
      "         -0.0580,  0.9645],\n",
      "        [ 0.5637,  1.4419,  2.0500,  0.6548, -0.8663, -0.8579, -0.4745,  0.8625,\n",
      "          0.4367,  1.0351],\n",
      "        [ 0.1655,  0.9666, -0.6167, -0.6723,  0.5752, -1.8522, -2.6830,  0.0474,\n",
      "          0.2896,  0.6684],\n",
      "        [-0.3260, -0.6325,  0.9835,  0.5563, -0.2386, -0.5410, -0.3872,  1.3118,\n",
      "          0.2172, -0.3203],\n",
      "        [-0.7259,  1.7580, -0.2430, -1.2068,  0.7142, -0.4621,  1.0557,  0.0088,\n",
      "         -0.8264,  1.8510],\n",
      "        [-1.7642, -1.2745,  0.1034,  0.6597, -0.8552, -0.1411, -1.0170,  0.1599,\n",
      "          1.2922,  0.9037],\n",
      "        [ 1.3021, -0.3926, -0.2338, -0.3131, -1.7605, -0.0606,  0.6955,  2.5518,\n",
      "          0.5727,  0.3869]])\n",
      "Target: tensor([0, 0, 1, 0, 0, 0, 1, 1, 0, 0])\n",
      "Batch 8\n",
      "Data: tensor([[ 1.2610, -0.3925, -0.8895, -0.1474,  0.0870, -0.4046,  0.5877,  1.2578,\n",
      "          1.5668, -0.2119],\n",
      "        [ 0.3319,  1.1561,  0.4740, -0.6374,  0.7985,  2.5214,  0.9089, -0.5392,\n",
      "         -1.5210,  1.5410],\n",
      "        [ 0.0488, -1.7144,  1.5173,  1.7376,  0.0914, -0.9530, -1.3165, -0.5146,\n",
      "          0.0150,  0.8889],\n",
      "        [ 0.6174, -0.7184,  0.3796, -0.4157, -0.7050, -0.7482, -0.8104,  0.9644,\n",
      "         -0.9231, -0.1194],\n",
      "        [ 0.3406,  0.3054, -1.4004,  0.3960, -0.9062,  0.6189, -0.6351, -0.2062,\n",
      "         -0.1953,  0.1637],\n",
      "        [ 0.8206,  0.3265,  0.1656, -0.4090, -0.5786,  1.6048, -0.7698,  0.3829,\n",
      "         -0.8800,  1.4349],\n",
      "        [ 1.6285,  2.2341,  0.1655, -0.4385, -0.6080, -1.5720, -1.2778, -0.3214,\n",
      "         -0.6529, -0.4691],\n",
      "        [-0.9146, -1.2676,  1.3915,  1.3660,  1.8332,  0.9013, -0.1535,  1.0250,\n",
      "          0.4359, -0.8519],\n",
      "        [ 1.5187,  1.5064,  1.8117, -0.1384,  1.0031, -0.2064,  1.1951, -1.6913,\n",
      "          1.3123,  1.7209],\n",
      "        [ 1.4507, -1.4575, -0.1489, -1.2454, -0.2656, -0.9723, -1.1531, -1.6827,\n",
      "          0.9881, -1.6815]])\n",
      "Target: tensor([1, 0, 0, 1, 1, 1, 0, 0, 1, 1])\n",
      "Batch 9\n",
      "Data: tensor([[-0.4414,  0.3490, -0.1371, -0.7775,  0.7109,  0.6774, -0.2448,  0.6039,\n",
      "          1.9328,  1.9210],\n",
      "        [-0.9095,  1.1610,  1.2302, -0.2668,  0.2440,  1.5973,  0.0127,  0.2972,\n",
      "          0.1097,  0.3803],\n",
      "        [-0.7017, -0.1279, -0.0802, -0.6196,  3.2065, -0.7866, -1.7976,  0.1566,\n",
      "          1.1785,  0.4106],\n",
      "        [-0.1102, -0.0917,  1.4260,  1.6065, -0.3400,  1.7170, -1.1406, -0.2369,\n",
      "         -0.2411, -0.4270],\n",
      "        [-0.9904,  0.5403, -1.2582,  0.4827, -0.7502, -0.0728,  0.6116,  0.4045,\n",
      "         -0.2295, -0.1417],\n",
      "        [ 0.5546,  1.1188, -1.3155,  0.5814,  0.5223,  0.7180, -1.7154, -0.2312,\n",
      "          0.1888,  1.9961],\n",
      "        [-0.6394,  0.2814,  1.3574,  0.0615, -1.7696, -0.3220, -0.1995, -0.5483,\n",
      "          1.9325, -1.1541],\n",
      "        [ 0.9059, -1.2255,  1.1985,  1.0519,  0.1078,  0.7801, -0.4151,  0.9419,\n",
      "          1.6589,  0.9083],\n",
      "        [-0.2036,  1.9773, -0.0750, -1.4354, -2.2402, -0.3606, -0.3997, -0.5541,\n",
      "         -0.4215,  1.4789],\n",
      "        [ 0.2401,  0.8378,  1.3964,  0.1063, -0.1115,  0.0582, -0.7600, -1.8764,\n",
      "          1.1535, -0.7477]])\n",
      "Target: tensor([1, 0, 1, 0, 1, 0, 1, 0, 1, 1])\n",
      "Batch 10\n",
      "Data: tensor([[ 0.0299, -1.0665, -0.9054,  0.2904,  0.3758,  0.0342,  1.1036,  0.4594,\n",
      "         -0.0481,  1.3488],\n",
      "        [-0.8159,  0.5116, -0.2184,  0.2426, -0.0047, -1.2938,  2.1132,  0.7395,\n",
      "         -0.2116, -1.1614],\n",
      "        [ 2.0094,  1.5919, -0.1953,  0.5771, -0.0642, -0.8379, -0.4361, -0.0634,\n",
      "          0.2420,  0.8742],\n",
      "        [ 0.4456, -0.1427, -0.7762,  0.8548, -0.1183, -0.1363, -0.4114,  0.6362,\n",
      "         -0.9802, -0.2208],\n",
      "        [ 0.1924, -0.5841,  1.8592, -1.8374,  0.6411, -0.2147, -0.3043,  0.0639,\n",
      "         -1.5882,  0.2257],\n",
      "        [ 0.6304,  0.1045, -0.5649, -0.0208, -0.6988, -1.2055,  0.2577, -1.3064,\n",
      "          0.8694,  1.4311],\n",
      "        [-2.6171, -1.6350, -0.1039,  2.2846, -0.3632, -0.1029, -0.4423, -2.2145,\n",
      "          0.6033, -0.3411],\n",
      "        [-0.0243,  1.0220, -0.6452, -1.5426,  0.3564,  0.2327, -0.8878, -0.7714,\n",
      "          0.0627, -1.2313],\n",
      "        [-1.4332, -1.3296, -1.4918, -0.0993,  1.0749, -0.3375, -0.5930,  0.8109,\n",
      "          0.3465,  0.1452],\n",
      "        [-1.6856, -0.5925, -0.8057, -0.0935,  1.6299, -0.5584,  1.5388,  0.2667,\n",
      "         -0.3712, -0.1865]])\n",
      "Target: tensor([0, 1, 1, 1, 1, 0, 1, 0, 1, 0])\n"
     ]
    }
   ],
   "source": [
    "# PyTorch's DataLoader is a tool for loading datasets in batches, shuffling the data, and handling multi-processing for data loading. To use it, you need to first prepare the dataset\n",
    "inputs = torch.randn(100, 10)  # 100 samples, 10 features each\n",
    "targets = torch.randint(0, 2, (100,))  # 100 binary labels\n",
    "\n",
    "# Create a TensorDataset\n",
    "dataset = TensorDataset(inputs, targets)\n",
    "\n",
    "# And then use the DataLoader class to load the dataset in batches. You can specify batch size, shuffling, and the number of workers for parallel data loading\n",
    "dataloader = DataLoader(dataset, batch_size=10, shuffle=True, num_workers=2)\n",
    "\n",
    "# You can iterate through the DataLoader in your training loop to get batches of data\n",
    "for batch_idx, (data, target) in enumerate(dataloader):\n",
    "    print(f'Batch {batch_idx + 1}')\n",
    "    print(f'Data: {data}')\n",
    "    print(f'Target: {target}')"
   ]
  },
  {
   "cell_type": "markdown",
   "metadata": {},
   "source": [
    "##### **Q34: How do you implement a custom dataset in PyTorch?**"
   ]
  },
  {
   "cell_type": "code",
   "execution_count": 314,
   "metadata": {},
   "outputs": [],
   "source": [
    "# Import relevant libraries/modules\n",
    "import pandas as pd\n",
    "from skimage import io\n",
    "from torch.utils.data import Dataset\n",
    "from torchvision import transforms\n",
    "\n",
    "# Define a custom dataset class\n",
    "class CustomDataset(Dataset):\n",
    "    def __init__(self, csv_file, root_dir, transform=None):\n",
    "        \"\"\"\n",
    "        Args:\n",
    "            csv_file (string): Path to the csv file with annotations.\n",
    "            root_dir (string): Directory with all the images.\n",
    "            transform (callable, optional): Optional transform to be applied on a sample.\n",
    "        \"\"\"\n",
    "        self.annotations = pd.read_csv(csv_file)\n",
    "        self.root_dir = root_dir\n",
    "        self.transform = transform\n",
    "\n",
    "    def __len__(self):\n",
    "        return len(self.annotations)\n",
    "\n",
    "    def __getitem__(self, idx):\n",
    "        if torch.is_tensor(idx):\n",
    "            idx = idx.tolist()\n",
    "\n",
    "        img_name = os.path.join(self.root_dir, self.annotations.iloc[idx, 0])\n",
    "        image = io.imread(img_name)\n",
    "        label = int(self.annotations.iloc[idx, 1])\n",
    "        sample = {'image': image, 'label': label}\n",
    "\n",
    "        if self.transform:\n",
    "            sample = self.transform(sample)\n",
    "\n",
    "        return sample\n",
    "\n",
    "# Apply transformations\n",
    "class ToTensor(object):\n",
    "    \"\"\"Convert ndarrays in sample to Tensors.\"\"\"\n",
    "\n",
    "    def __call__(self, sample):\n",
    "        image, label = sample['image'], sample['label']\n",
    "\n",
    "        # swap color axis because\n",
    "        # numpy image: H x W x C\n",
    "        # torch image: C x H x W\n",
    "        image = image.transpose((2, 0, 1))\n",
    "        return {'image': torch.tensor(image, dtype=torch.float),\n",
    "                'label': torch.tensor(label)}"
   ]
  },
  {
   "cell_type": "code",
   "execution_count": 315,
   "metadata": {},
   "outputs": [],
   "source": [
    "# Path to the CSV file and the root directory containing images\n",
    "# csv_file = 'annotations.csv'\n",
    "# root_dir = 'images/'\n",
    "\n",
    "# Create an instance of the CustomDataset\n",
    "# custom_dataset = CustomDataset(csv_file=csv_file, root_dir=root_dir, transform=transforms.Compose([ToTensor()]))"
   ]
  },
  {
   "cell_type": "code",
   "execution_count": 316,
   "metadata": {},
   "outputs": [],
   "source": [
    "# Create a DataLoader\n",
    "# dataloader = DataLoader(custom_dataset, batch_size=4, shuffle=True, num_workers=4)\n",
    "\n",
    "# Iterate through the DataLoader\n",
    "# for i, batch in enumerate(dataloader):\n",
    "#     print(f'Batch {i + 1}')\n",
    "#     print(f'Images: {batch[\"image\"].shape}')\n",
    "#     print(f'Labels: {batch[\"label\"]}')"
   ]
  },
  {
   "cell_type": "markdown",
   "metadata": {},
   "source": [
    "##### **Q35: How do you apply data transformations using `torchvision.transforms`?**"
   ]
  },
  {
   "cell_type": "code",
   "execution_count": 317,
   "metadata": {},
   "outputs": [],
   "source": [
    "# Define the custom dataset class\n",
    "class CustomImageDataset(Dataset):\n",
    "    def __init__(self, csv_file, root_dir, transform=None):\n",
    "        self.annotations = pd.read_csv(csv_file)\n",
    "        self.root_dir = root_dir\n",
    "        self.transform = transform\n",
    "\n",
    "    def __len__(self):\n",
    "        return len(self.annotations)\n",
    "\n",
    "    def __getitem__(self, idx):\n",
    "        img_name = os.path.join(self.root_dir, self.annotations.iloc[idx, 0])\n",
    "        image = io.imread(img_name)\n",
    "        label = int(self.annotations.iloc[idx, 1])\n",
    "        sample = {'image': image, 'label': label}\n",
    "\n",
    "        if self.transform:\n",
    "            sample['image'] = self.transform(sample['image'])\n",
    "\n",
    "        return sample\n",
    "    \n",
    "# Define transformations\n",
    "# data_transforms = transforms.Compose([\n",
    "#     transforms.ToPILImage(),  # Convert numpy array to PIL Image\n",
    "#     transforms.Resize((128, 128)),  # Resize to 128x128\n",
    "#     transforms.RandomHorizontalFlip(),  # Random horizontal flip\n",
    "#     transforms.RandomRotation(30),  # Random rotation within 30 degrees\n",
    "#     transforms.ToTensor(),  # Convert PIL Image to Tensor\n",
    "#     transforms.Normalize(mean=[0.485, 0.456, 0.406], std=[0.229, 0.224, 0.225])  # Normalize\n",
    "# ])"
   ]
  },
  {
   "cell_type": "code",
   "execution_count": 318,
   "metadata": {},
   "outputs": [],
   "source": [
    "# Create an instance of the CustomImageDataset\n",
    "# csv_file = 'annotations.csv'\n",
    "# root_dir = 'images/'\n",
    "\n",
    "# custom_dataset = CustomImageDataset(csv_file=csv_file, root_dir=root_dir, transform=data_transforms)\n",
    "\n",
    "# Use DataLoader to load the custom dataset\n",
    "# dataloader = DataLoader(custom_dataset, batch_size=4, shuffle=True, num_workers=4)\n",
    "\n",
    "# for i, batch in enumerate(dataloader):\n",
    "#     print(f'Batch {i + 1}')\n",
    "#     print(f'Images: {batch[\"image\"].shape}')\n",
    "#     print(f'Labels: {batch[\"label\"]}')"
   ]
  },
  {
   "cell_type": "markdown",
   "metadata": {},
   "source": [
    "##### **Q36: How do you handle data augmentation in PyTorch?**"
   ]
  },
  {
   "cell_type": "code",
   "execution_count": 319,
   "metadata": {},
   "outputs": [],
   "source": [
    "# Define custom dataset class\n",
    "class CustomImageDataset(Dataset):\n",
    "    def __init__(self, csv_file, root_dir, transform=None):\n",
    "        self.annotations = pd.read_csv(csv_file)\n",
    "        self.root_dir = root_dir\n",
    "        self.transform = transform\n",
    "\n",
    "    def __len__(self):\n",
    "        return len(self.annotations)\n",
    "\n",
    "    def __getitem__(self, idx):\n",
    "        img_name = os.path.join(self.root_dir, self.annotations.iloc[idx, 0])\n",
    "        image = io.imread(img_name)\n",
    "        label = int(self.annotations.iloc[idx, 1])\n",
    "        sample = {'image': image, 'label': label}\n",
    "\n",
    "        if self.transform:\n",
    "            sample['image'] = self.transform(sample['image'])\n",
    "\n",
    "        return sample\n",
    "\n",
    "# Data augmentation transformations\n",
    "# data_transforms = transforms.Compose([\n",
    "#     transforms.ToPILImage(),  # Convert numpy array to PIL Image\n",
    "#     transforms.RandomResizedCrop(128),  # Randomly crop and resize to 128x128\n",
    "#     transforms.RandomHorizontalFlip(),  # Random horizontal flip\n",
    "#     transforms.RandomRotation(30),  # Random rotation within 30 degrees\n",
    "#     transforms.ColorJitter(brightness=0.2, contrast=0.2, saturation=0.2, hue=0.2),  # Randomly change brightness, contrast, etc.\n",
    "#     transforms.ToTensor(),  # Convert PIL Image to Tensor\n",
    "#     transforms.Normalize(mean=[0.485, 0.456, 0.406], std=[0.229, 0.224, 0.225])  # Normalize\n",
    "# ])"
   ]
  },
  {
   "cell_type": "code",
   "execution_count": 320,
   "metadata": {},
   "outputs": [],
   "source": [
    "# Custom dataset and DataLoader\n",
    "# csv_file = 'annotations.csv'\n",
    "# root_dir = 'images/'\n",
    "\n",
    "# custom_dataset = CustomImageDataset(csv_file=csv_file, root_dir=root_dir, transform=data_transforms)\n",
    "\n",
    "# dataloader = DataLoader(custom_dataset, batch_size=4, shuffle=True, num_workers=4)\n",
    "\n",
    "# for i, batch in enumerate(dataloader):\n",
    "#     print(f'Batch {i + 1}')\n",
    "#     print(f'Images: {batch[\"image\"].shape}')\n",
    "#     print(f'Labels: {batch[\"label\"]}')"
   ]
  },
  {
   "cell_type": "markdown",
   "metadata": {},
   "source": [
    "## Further exercises"
   ]
  },
  {
   "cell_type": "markdown",
   "metadata": {},
   "source": [
    "##### **Q37: How do you create a tensor of shape (2, 3) filled with zeros and then with ones?**"
   ]
  },
  {
   "cell_type": "code",
   "execution_count": 321,
   "metadata": {},
   "outputs": [
    {
     "name": "stdout",
     "output_type": "stream",
     "text": [
      "Tensor filled with zeros:\n",
      "tensor([[0., 0., 0.],\n",
      "        [0., 0., 0.]])\n"
     ]
    }
   ],
   "source": [
    "# Create a tensor of shape (2, 3) filled with zeros\n",
    "zeros_tensor = torch.zeros(2, 3)\n",
    "print(\"Tensor filled with zeros:\")\n",
    "print(zeros_tensor)"
   ]
  },
  {
   "cell_type": "code",
   "execution_count": 322,
   "metadata": {},
   "outputs": [
    {
     "name": "stdout",
     "output_type": "stream",
     "text": [
      "Tensor filled with ones:\n",
      "tensor([[1., 1., 1.],\n",
      "        [1., 1., 1.]])\n"
     ]
    }
   ],
   "source": [
    "# Create a tensor of shape (2, 3) filled with ones\n",
    "ones_tensor = torch.ones(2, 3)\n",
    "print(\"Tensor filled with ones:\")\n",
    "print(ones_tensor)"
   ]
  },
  {
   "cell_type": "markdown",
   "metadata": {},
   "source": [
    "##### **Q38: How do you train a neural network to predict the output of a simple linear function?**"
   ]
  },
  {
   "cell_type": "code",
   "execution_count": 323,
   "metadata": {},
   "outputs": [
    {
     "data": {
      "image/png": "[encoded data removed]",
      "text/plain": [
       "<Figure size 640x480 with 1 Axes>"
      ]
     },
     "metadata": {},
     "output_type": "display_data"
    }
   ],
   "source": [
    "# Generate the data\n",
    "torch.manual_seed(0)\n",
    "\n",
    "# Parameters for the linear function y = mx + b\n",
    "m = 2.0\n",
    "b = 1.0\n",
    "\n",
    "# Generate some data points\n",
    "x = torch.linspace(-1, 1, 100).unsqueeze(1)\n",
    "y = m * x + b + torch.randn(x.size()) * 0.1\n",
    "\n",
    "# Plot the data\n",
    "plt.scatter(x.numpy(), y.numpy())\n",
    "plt.xlabel('x')\n",
    "plt.ylabel('y')\n",
    "plt.title('Generated Data')\n",
    "plt.show()"
   ]
  },
  {
   "cell_type": "code",
   "execution_count": 324,
   "metadata": {},
   "outputs": [],
   "source": [
    "# Build the class and the model\n",
    "class SimpleLinearModel(nn.Module):\n",
    "    def __init__(self):\n",
    "        super(SimpleLinearModel, self).__init__()\n",
    "        self.linear = nn.Linear(1, 1)\n",
    "\n",
    "    def forward(self, x):\n",
    "        return self.linear(x)\n",
    "\n",
    "model = SimpleLinearModel()\n",
    "\n",
    "criterion = nn.MSELoss()\n",
    "optimizer = torch.optim.SGD(model.parameters(), lr=0.01)"
   ]
  },
  {
   "cell_type": "code",
   "execution_count": 325,
   "metadata": {},
   "outputs": [
    {
     "name": "stdout",
     "output_type": "stream",
     "text": [
      "Epoch [100/1000], Loss: 0.4726\n",
      "Epoch [200/1000], Loss: 0.1245\n",
      "Epoch [300/1000], Loss: 0.0395\n",
      "Epoch [400/1000], Loss: 0.0179\n",
      "Epoch [500/1000], Loss: 0.0124\n",
      "Epoch [600/1000], Loss: 0.0110\n",
      "Epoch [700/1000], Loss: 0.0106\n",
      "Epoch [800/1000], Loss: 0.0105\n",
      "Epoch [900/1000], Loss: 0.0105\n",
      "Epoch [1000/1000], Loss: 0.0105\n"
     ]
    }
   ],
   "source": [
    "# Training loop\n",
    "num_epochs = 1000\n",
    "\n",
    "for epoch in range(num_epochs):\n",
    "    model.train()\n",
    "    \n",
    "    outputs = model(x)\n",
    "    loss = criterion(outputs, y)\n",
    "    \n",
    "    optimizer.zero_grad()\n",
    "    loss.backward()\n",
    "    optimizer.step()\n",
    "    \n",
    "    if (epoch + 1) % 100 == 0:\n",
    "        print(f'Epoch [{epoch + 1}/{num_epochs}], Loss: {loss.item():.4f}')"
   ]
  },
  {
   "cell_type": "code",
   "execution_count": 326,
   "metadata": {},
   "outputs": [
    {
     "data": {
      "image/png": "[encoded data removed]",
      "text/plain": [
       "<Figure size 640x480 with 1 Axes>"
      ]
     },
     "metadata": {},
     "output_type": "display_data"
    }
   ],
   "source": [
    "# Plot the fitted line\n",
    "model.eval()\n",
    "with torch.no_grad():\n",
    "    predicted = model(x)\n",
    "    plt.scatter(x.numpy(), y.numpy(), label='Original data')\n",
    "    plt.plot(x.numpy(), predicted.numpy(), label='Fitted line', color='red')\n",
    "    plt.xlabel('x')\n",
    "    plt.ylabel('y')\n",
    "    plt.title('Fitted Line after Training')\n",
    "    plt.legend()\n",
    "    plt.show()"
   ]
  },
  {
   "cell_type": "markdown",
   "metadata": {},
   "source": [
    "##### **Q39: How do you experiment with different optimizers and learning rates to see their effect on training?**"
   ]
  },
  {
   "cell_type": "code",
   "execution_count": 327,
   "metadata": {},
   "outputs": [
    {
     "data": {
      "image/png": "[encoded data removed]",
      "text/plain": [
       "<Figure size 640x480 with 1 Axes>"
      ]
     },
     "metadata": {},
     "output_type": "display_data"
    }
   ],
   "source": [
    "# Generate new data\n",
    "torch.manual_seed(42)\n",
    "\n",
    "m = 2.0\n",
    "b = 1.0\n",
    "\n",
    "x = torch.linspace(-1, 1, 100).unsqueeze(1)\n",
    "y = m * x + b + torch.randn(x.size()) * 0.1\n",
    "\n",
    "plt.scatter(x.numpy(), y.numpy())\n",
    "plt.xlabel('x')\n",
    "plt.ylabel('y')\n",
    "plt.title('Generated Data')\n",
    "plt.show()"
   ]
  },
  {
   "cell_type": "code",
   "execution_count": 328,
   "metadata": {},
   "outputs": [],
   "source": [
    "# Build the class and the model\n",
    "class SimpleLinearModel(nn.Module):\n",
    "    def __init__(self):\n",
    "        super(SimpleLinearModel, self).__init__()\n",
    "        self.linear = nn.Linear(1, 1)\n",
    "\n",
    "    def forward(self, x):\n",
    "        return self.linear(x)\n",
    "\n",
    "model = SimpleLinearModel()"
   ]
  },
  {
   "cell_type": "code",
   "execution_count": 329,
   "metadata": {},
   "outputs": [],
   "source": [
    "# Define a function for training\n",
    "def train_model(model, optimizer, num_epochs=1000, learning_rate=0.01):\n",
    "    criterion = nn.MSELoss()\n",
    "    optimizer = optimizer(model.parameters(), lr=learning_rate)\n",
    "    losses = []\n",
    "\n",
    "    for epoch in range(num_epochs):\n",
    "        model.train()\n",
    "        \n",
    "        outputs = model(x)\n",
    "        loss = criterion(outputs, y)\n",
    "        \n",
    "        optimizer.zero_grad()\n",
    "        loss.backward()\n",
    "        optimizer.step()\n",
    "        \n",
    "        # Store loss for plotting\n",
    "        losses.append(loss.item())\n",
    "        \n",
    "        if (epoch + 1) % 100 == 0:\n",
    "            print(f'Epoch [{epoch + 1}/{num_epochs}], Loss: {loss.item():.4f}')\n",
    "\n",
    "    return losses"
   ]
  },
  {
   "cell_type": "code",
   "execution_count": 330,
   "metadata": {},
   "outputs": [
    {
     "name": "stdout",
     "output_type": "stream",
     "text": [
      "\n",
      "Training with SGD optimizer and learning rate = 0.1\n",
      "Epoch [100/1000], Loss: 0.0096\n",
      "Epoch [200/1000], Loss: 0.0096\n",
      "Epoch [300/1000], Loss: 0.0096\n",
      "Epoch [400/1000], Loss: 0.0096\n",
      "Epoch [500/1000], Loss: 0.0096\n",
      "Epoch [600/1000], Loss: 0.0096\n",
      "Epoch [700/1000], Loss: 0.0096\n",
      "Epoch [800/1000], Loss: 0.0096\n",
      "Epoch [900/1000], Loss: 0.0096\n",
      "Epoch [1000/1000], Loss: 0.0096\n",
      "\n",
      "Training with SGD optimizer and learning rate = 0.01\n",
      "Epoch [100/1000], Loss: 0.3946\n",
      "Epoch [200/1000], Loss: 0.0997\n",
      "Epoch [300/1000], Loss: 0.0325\n",
      "Epoch [400/1000], Loss: 0.0155\n",
      "Epoch [500/1000], Loss: 0.0111\n",
      "Epoch [600/1000], Loss: 0.0100\n",
      "Epoch [700/1000], Loss: 0.0097\n",
      "Epoch [800/1000], Loss: 0.0097\n",
      "Epoch [900/1000], Loss: 0.0096\n",
      "Epoch [1000/1000], Loss: 0.0096\n",
      "\n",
      "Training with SGD optimizer and learning rate = 0.001\n",
      "Epoch [100/1000], Loss: 3.1855\n",
      "Epoch [200/1000], Loss: 2.3949\n",
      "Epoch [300/1000], Loss: 1.8324\n",
      "Epoch [400/1000], Loss: 1.4270\n",
      "Epoch [500/1000], Loss: 1.1304\n",
      "Epoch [600/1000], Loss: 0.9099\n",
      "Epoch [700/1000], Loss: 0.7431\n",
      "Epoch [800/1000], Loss: 0.6148\n",
      "Epoch [900/1000], Loss: 0.5144\n",
      "Epoch [1000/1000], Loss: 0.4345\n",
      "\n",
      "Training with Adam optimizer and learning rate = 0.1\n",
      "Epoch [100/1000], Loss: 0.0097\n",
      "Epoch [200/1000], Loss: 0.0096\n",
      "Epoch [300/1000], Loss: 0.0096\n",
      "Epoch [400/1000], Loss: 0.0096\n",
      "Epoch [500/1000], Loss: 0.0096\n",
      "Epoch [600/1000], Loss: 0.0096\n",
      "Epoch [700/1000], Loss: 0.0096\n",
      "Epoch [800/1000], Loss: 0.0096\n",
      "Epoch [900/1000], Loss: 0.0096\n",
      "Epoch [1000/1000], Loss: 0.0096\n",
      "\n",
      "Training with Adam optimizer and learning rate = 0.01\n",
      "Epoch [100/1000], Loss: 1.5403\n",
      "Epoch [200/1000], Loss: 0.3356\n",
      "Epoch [300/1000], Loss: 0.0615\n",
      "Epoch [400/1000], Loss: 0.0161\n",
      "Epoch [500/1000], Loss: 0.0103\n",
      "Epoch [600/1000], Loss: 0.0097\n",
      "Epoch [700/1000], Loss: 0.0096\n",
      "Epoch [800/1000], Loss: 0.0096\n",
      "Epoch [900/1000], Loss: 0.0096\n",
      "Epoch [1000/1000], Loss: 0.0096\n",
      "\n",
      "Training with Adam optimizer and learning rate = 0.001\n",
      "Epoch [100/1000], Loss: 1.6176\n",
      "Epoch [200/1000], Loss: 1.3523\n",
      "Epoch [300/1000], Loss: 1.1215\n",
      "Epoch [400/1000], Loss: 0.9220\n",
      "Epoch [500/1000], Loss: 0.7511\n",
      "Epoch [600/1000], Loss: 0.6058\n",
      "Epoch [700/1000], Loss: 0.4836\n",
      "Epoch [800/1000], Loss: 0.3818\n",
      "Epoch [900/1000], Loss: 0.2981\n",
      "Epoch [1000/1000], Loss: 0.2300\n",
      "\n",
      "Training with RMSprop optimizer and learning rate = 0.1\n",
      "Epoch [100/1000], Loss: 0.0096\n",
      "Epoch [200/1000], Loss: 0.0096\n",
      "Epoch [300/1000], Loss: 0.0096\n",
      "Epoch [400/1000], Loss: 0.0096\n",
      "Epoch [500/1000], Loss: 0.0096\n",
      "Epoch [600/1000], Loss: 0.0096\n",
      "Epoch [700/1000], Loss: 0.0096\n",
      "Epoch [800/1000], Loss: 0.0096\n",
      "Epoch [900/1000], Loss: 0.0096\n",
      "Epoch [1000/1000], Loss: 0.0096\n",
      "\n",
      "Training with RMSprop optimizer and learning rate = 0.01\n",
      "Epoch [100/1000], Loss: 0.4473\n",
      "Epoch [200/1000], Loss: 0.0878\n",
      "Epoch [300/1000], Loss: 0.0159\n",
      "Epoch [400/1000], Loss: 0.0097\n",
      "Epoch [500/1000], Loss: 0.0096\n",
      "Epoch [600/1000], Loss: 0.0096\n",
      "Epoch [700/1000], Loss: 0.0096\n",
      "Epoch [800/1000], Loss: 0.0096\n",
      "Epoch [900/1000], Loss: 0.0096\n",
      "Epoch [1000/1000], Loss: 0.0096\n",
      "\n",
      "Training with RMSprop optimizer and learning rate = 0.001\n",
      "Epoch [100/1000], Loss: 2.8959\n",
      "Epoch [200/1000], Loss: 2.4985\n",
      "Epoch [300/1000], Loss: 2.1674\n",
      "Epoch [400/1000], Loss: 1.8731\n",
      "Epoch [500/1000], Loss: 1.6072\n",
      "Epoch [600/1000], Loss: 1.3669\n",
      "Epoch [700/1000], Loss: 1.1508\n",
      "Epoch [800/1000], Loss: 0.9583\n",
      "Epoch [900/1000], Loss: 0.7888\n",
      "Epoch [1000/1000], Loss: 0.6416\n"
     ]
    }
   ],
   "source": [
    "# Experiment with different optimizers and learning rates\n",
    "optimizers = {\n",
    "    'SGD': torch.optim.SGD,\n",
    "    'Adam': torch.optim.Adam,\n",
    "    'RMSprop': torch.optim.RMSprop\n",
    "}\n",
    "\n",
    "learning_rates = [0.1, 0.01, 0.001]\n",
    "\n",
    "# Store results\n",
    "results = {}\n",
    "\n",
    "# Loop through each optimizer and learning rate combination\n",
    "for opt_name, optimizer in optimizers.items():\n",
    "    for lr in learning_rates:\n",
    "        print(f'\\nTraining with {opt_name} optimizer and learning rate = {lr}')\n",
    "        model = SimpleLinearModel()  # Reset model\n",
    "        losses = train_model(model, optimizer, learning_rate=lr)\n",
    "        results[f'{opt_name}_lr_{lr}'] = losses"
   ]
  },
  {
   "cell_type": "code",
   "execution_count": 331,
   "metadata": {},
   "outputs": [
    {
     "data": {
      "image/png": "[encoded data removed]",
      "text/plain": [
       "<Figure size 1000x800 with 1 Axes>"
      ]
     },
     "metadata": {},
     "output_type": "display_data"
    }
   ],
   "source": [
    "# Plot the losses for each combination\n",
    "plt.figure(figsize=(10, 8))\n",
    "\n",
    "for key, losses in results.items():\n",
    "    plt.plot(losses, label=key)\n",
    "\n",
    "plt.xlabel('Epoch')\n",
    "plt.ylabel('Loss')\n",
    "plt.title('Training Loss for Different Optimizers and Learning Rates')\n",
    "plt.legend()\n",
    "plt.show()"
   ]
  },
  {
   "cell_type": "markdown",
   "metadata": {},
   "source": [
    "##### **Q40: How do you visualize the training loss and accuracy over epochs in PyTorch?**"
   ]
  },
  {
   "cell_type": "code",
   "execution_count": 332,
   "metadata": {},
   "outputs": [],
   "source": [
    "# New function to calculate accuracy\n",
    "def train_model(model, optimizer, num_epochs=1000, learning_rate=0.01):\n",
    "    criterion = nn.MSELoss()\n",
    "    optimizer = optimizer(model.parameters(), lr=learning_rate)\n",
    "    losses = []\n",
    "    accuracies = []\n",
    "\n",
    "    for epoch in range(num_epochs):\n",
    "        model.train()\n",
    "        \n",
    "        outputs = model(x)\n",
    "        loss = criterion(outputs, y)\n",
    "        \n",
    "        optimizer.zero_grad()\n",
    "        loss.backward()\n",
    "        optimizer.step()\n",
    "        \n",
    "        losses.append(loss.item())\n",
    "        \n",
    "        # Calculate accuracy (for regression, this can be a custom metric; here we use the inverse of loss for demonstration)\n",
    "        accuracies.append(1 / (1 + loss.item()))\n",
    "        \n",
    "        if (epoch + 1) % 100 == 0:\n",
    "            print(f'Epoch [{epoch + 1}/{num_epochs}], Loss: {loss.item():.4f}')\n",
    "\n",
    "    return losses, accuracies"
   ]
  },
  {
   "cell_type": "code",
   "execution_count": 333,
   "metadata": {},
   "outputs": [
    {
     "name": "stdout",
     "output_type": "stream",
     "text": [
      "\n",
      "Training with SGD optimizer and learning rate = 0.1\n",
      "Epoch [100/1000], Loss: 0.0096\n",
      "Epoch [200/1000], Loss: 0.0096\n",
      "Epoch [300/1000], Loss: 0.0096\n",
      "Epoch [400/1000], Loss: 0.0096\n",
      "Epoch [500/1000], Loss: 0.0096\n",
      "Epoch [600/1000], Loss: 0.0096\n",
      "Epoch [700/1000], Loss: 0.0096\n",
      "Epoch [800/1000], Loss: 0.0096\n",
      "Epoch [900/1000], Loss: 0.0096\n",
      "Epoch [1000/1000], Loss: 0.0096\n",
      "\n",
      "Training with SGD optimizer and learning rate = 0.01\n",
      "Epoch [100/1000], Loss: 0.2948\n",
      "Epoch [200/1000], Loss: 0.0759\n",
      "Epoch [300/1000], Loss: 0.0265\n",
      "Epoch [400/1000], Loss: 0.0139\n",
      "Epoch [500/1000], Loss: 0.0107\n",
      "Epoch [600/1000], Loss: 0.0099\n",
      "Epoch [700/1000], Loss: 0.0097\n",
      "Epoch [800/1000], Loss: 0.0096\n",
      "Epoch [900/1000], Loss: 0.0096\n",
      "Epoch [1000/1000], Loss: 0.0096\n",
      "\n",
      "Training with SGD optimizer and learning rate = 0.001\n",
      "Epoch [100/1000], Loss: 3.0225\n",
      "Epoch [200/1000], Loss: 2.1842\n",
      "Epoch [300/1000], Loss: 1.6026\n",
      "Epoch [400/1000], Loss: 1.1956\n",
      "Epoch [500/1000], Loss: 0.9079\n",
      "Epoch [600/1000], Loss: 0.7019\n",
      "Epoch [700/1000], Loss: 0.5523\n",
      "Epoch [800/1000], Loss: 0.4421\n",
      "Epoch [900/1000], Loss: 0.3595\n",
      "Epoch [1000/1000], Loss: 0.2965\n",
      "\n",
      "Training with Adam optimizer and learning rate = 0.1\n",
      "Epoch [100/1000], Loss: 0.0096\n",
      "Epoch [200/1000], Loss: 0.0096\n",
      "Epoch [300/1000], Loss: 0.0096\n",
      "Epoch [400/1000], Loss: 0.0096\n",
      "Epoch [500/1000], Loss: 0.0096\n",
      "Epoch [600/1000], Loss: 0.0096\n",
      "Epoch [700/1000], Loss: 0.0096\n",
      "Epoch [800/1000], Loss: 0.0096\n",
      "Epoch [900/1000], Loss: 0.0096\n",
      "Epoch [1000/1000], Loss: 0.0096\n",
      "\n",
      "Training with Adam optimizer and learning rate = 0.01\n",
      "Epoch [100/1000], Loss: 0.5650\n",
      "Epoch [200/1000], Loss: 0.1435\n",
      "Epoch [300/1000], Loss: 0.0322\n",
      "Epoch [400/1000], Loss: 0.0122\n",
      "Epoch [500/1000], Loss: 0.0098\n",
      "Epoch [600/1000], Loss: 0.0096\n",
      "Epoch [700/1000], Loss: 0.0096\n",
      "Epoch [800/1000], Loss: 0.0096\n",
      "Epoch [900/1000], Loss: 0.0096\n",
      "Epoch [1000/1000], Loss: 0.0096\n",
      "\n",
      "Training with Adam optimizer and learning rate = 0.001\n",
      "Epoch [100/1000], Loss: 0.6720\n",
      "Epoch [200/1000], Loss: 0.5756\n",
      "Epoch [300/1000], Loss: 0.4957\n",
      "Epoch [400/1000], Loss: 0.4260\n",
      "Epoch [500/1000], Loss: 0.3643\n",
      "Epoch [600/1000], Loss: 0.3098\n",
      "Epoch [700/1000], Loss: 0.2618\n",
      "Epoch [800/1000], Loss: 0.2200\n",
      "Epoch [900/1000], Loss: 0.1836\n",
      "Epoch [1000/1000], Loss: 0.1523\n",
      "\n",
      "Training with RMSprop optimizer and learning rate = 0.1\n",
      "Epoch [100/1000], Loss: 0.0096\n",
      "Epoch [200/1000], Loss: 0.0096\n",
      "Epoch [300/1000], Loss: 0.0096\n",
      "Epoch [400/1000], Loss: 0.0096\n",
      "Epoch [500/1000], Loss: 0.0096\n",
      "Epoch [600/1000], Loss: 0.0096\n",
      "Epoch [700/1000], Loss: 0.0096\n",
      "Epoch [800/1000], Loss: 0.0096\n",
      "Epoch [900/1000], Loss: 0.0096\n",
      "Epoch [1000/1000], Loss: 0.0096\n",
      "\n",
      "Training with RMSprop optimizer and learning rate = 0.01\n",
      "Epoch [100/1000], Loss: 0.0541\n",
      "Epoch [200/1000], Loss: 0.0100\n",
      "Epoch [300/1000], Loss: 0.0096\n",
      "Epoch [400/1000], Loss: 0.0096\n",
      "Epoch [500/1000], Loss: 0.0096\n",
      "Epoch [600/1000], Loss: 0.0096\n",
      "Epoch [700/1000], Loss: 0.0096\n",
      "Epoch [800/1000], Loss: 0.0096\n",
      "Epoch [900/1000], Loss: 0.0096\n",
      "Epoch [1000/1000], Loss: 0.0096\n",
      "\n",
      "Training with RMSprop optimizer and learning rate = 0.001\n",
      "Epoch [100/1000], Loss: 3.6733\n",
      "Epoch [200/1000], Loss: 3.2058\n",
      "Epoch [300/1000], Loss: 2.8112\n",
      "Epoch [400/1000], Loss: 2.4557\n",
      "Epoch [500/1000], Loss: 2.1299\n",
      "Epoch [600/1000], Loss: 1.8304\n",
      "Epoch [700/1000], Loss: 1.5561\n",
      "Epoch [800/1000], Loss: 1.3064\n",
      "Epoch [900/1000], Loss: 1.0808\n",
      "Epoch [1000/1000], Loss: 0.8791\n"
     ]
    }
   ],
   "source": [
    "# Test out optimizers and learning rates\n",
    "optimizers = {\n",
    "    'SGD': torch.optim.SGD,\n",
    "    'Adam': torch.optim.Adam,\n",
    "    'RMSprop': torch.optim.RMSprop\n",
    "}\n",
    "\n",
    "learning_rates = [0.1, 0.01, 0.001]\n",
    "\n",
    "results = {}\n",
    "\n",
    "for opt_name, optimizer in optimizers.items():\n",
    "    for lr in learning_rates:\n",
    "        print(f'\\nTraining with {opt_name} optimizer and learning rate = {lr}')\n",
    "        model = SimpleLinearModel()  # Reset model\n",
    "        losses, accuracies = train_model(model, optimizer, learning_rate=lr)\n",
    "        results[f'{opt_name}_lr_{lr}'] = (losses, accuracies)"
   ]
  },
  {
   "cell_type": "code",
   "execution_count": 334,
   "metadata": {},
   "outputs": [
    {
     "data": {
      "image/png": "[encoded data removed]",
      "text/plain": [
       "<Figure size 1400x600 with 1 Axes>"
      ]
     },
     "metadata": {},
     "output_type": "display_data"
    }
   ],
   "source": [
    "# Plot losses\n",
    "plt.figure(figsize=(14, 6))\n",
    "\n",
    "for key, (losses, accuracies) in results.items():\n",
    "    plt.plot(losses, label=f'Loss - {key}')\n",
    "\n",
    "plt.xlabel('Epoch')\n",
    "plt.ylabel('Loss')\n",
    "plt.title('Training Loss for Different Optimizers and Learning Rates')\n",
    "plt.legend()\n",
    "plt.show()"
   ]
  },
  {
   "cell_type": "code",
   "execution_count": 335,
   "metadata": {},
   "outputs": [
    {
     "data": {
      "image/png": "[encoded data removed]",
      "text/plain": [
       "<Figure size 1400x600 with 1 Axes>"
      ]
     },
     "metadata": {},
     "output_type": "display_data"
    }
   ],
   "source": [
    "# Plot accuracies\n",
    "plt.figure(figsize=(14, 6))\n",
    "\n",
    "for key, (losses, accuracies) in results.items():\n",
    "    plt.plot(accuracies, label=f'Accuracy - {key}', linestyle='--')\n",
    "\n",
    "plt.xlabel('Epoch')\n",
    "plt.ylabel('Accuracy')\n",
    "plt.title('Training Accuracy for Different Optimizers and Learning Rates')\n",
    "plt.legend()\n",
    "plt.show()"
   ]
  },
  {
   "cell_type": "markdown",
   "metadata": {},
   "source": [
    "##### **Q41: How do you implement dropout regularization in a neural network using PyTorch?**"
   ]
  },
  {
   "cell_type": "code",
   "execution_count": 336,
   "metadata": {},
   "outputs": [
    {
     "data": {
      "image/png": "[encoded data removed]",
      "text/plain": [
       "<Figure size 640x480 with 1 Axes>"
      ]
     },
     "metadata": {},
     "output_type": "display_data"
    }
   ],
   "source": [
    "# New data\n",
    "torch.manual_seed(100)\n",
    "\n",
    "m = 2.0\n",
    "b = 1.0\n",
    "\n",
    "x = torch.linspace(-1, 1, 100).unsqueeze(1)\n",
    "y = m * x + b + torch.randn(x.size()) * 0.1\n",
    "\n",
    "plt.scatter(x.numpy(), y.numpy())\n",
    "plt.xlabel('x')\n",
    "plt.ylabel('y')\n",
    "plt.title('Generated Data')\n",
    "plt.show()"
   ]
  },
  {
   "cell_type": "code",
   "execution_count": 337,
   "metadata": {},
   "outputs": [],
   "source": [
    "# Class and model with dropout\n",
    "class SimpleLinearModelWithDropout(nn.Module):\n",
    "    def __init__(self, p=0.5):\n",
    "        super(SimpleLinearModelWithDropout, self).__init__()\n",
    "        self.linear1 = nn.Linear(1, 50)\n",
    "        self.dropout = nn.Dropout(p=p)\n",
    "        self.linear2 = nn.Linear(50, 1)\n",
    "\n",
    "    def forward(self, x):\n",
    "        x = torch.relu(self.linear1(x))\n",
    "        x = self.dropout(x)\n",
    "        x = self.linear2(x)\n",
    "        return x\n",
    "\n",
    "model = SimpleLinearModelWithDropout(p=0.5)"
   ]
  },
  {
   "cell_type": "code",
   "execution_count": 338,
   "metadata": {},
   "outputs": [],
   "source": [
    "# Training function\n",
    "def train_model(model, optimizer, num_epochs=1000, learning_rate=0.01):\n",
    "    criterion = nn.MSELoss()\n",
    "    optimizer = optimizer(model.parameters(), lr=learning_rate)\n",
    "    losses = []\n",
    "\n",
    "    for epoch in range(num_epochs):\n",
    "        model.train()\n",
    "        \n",
    "        outputs = model(x)\n",
    "        loss = criterion(outputs, y)\n",
    "        \n",
    "        optimizer.zero_grad()\n",
    "        loss.backward()\n",
    "        optimizer.step()\n",
    "        \n",
    "        losses.append(loss.item())\n",
    "        \n",
    "        if (epoch + 1) % 100 == 0:\n",
    "            print(f'Epoch [{epoch + 1}/{num_epochs}], Loss: {loss.item():.4f}')\n",
    "\n",
    "    return losses"
   ]
  },
  {
   "cell_type": "code",
   "execution_count": 339,
   "metadata": {},
   "outputs": [
    {
     "name": "stdout",
     "output_type": "stream",
     "text": [
      "\n",
      "Training with SGD optimizer and learning rate = 0.01\n",
      "Epoch [100/1000], Loss: 0.4069\n",
      "Epoch [200/1000], Loss: 0.3563\n",
      "Epoch [300/1000], Loss: 0.2255\n",
      "Epoch [400/1000], Loss: 0.2019\n",
      "Epoch [500/1000], Loss: 0.1983\n",
      "Epoch [600/1000], Loss: 0.2040\n",
      "Epoch [700/1000], Loss: 0.1749\n",
      "Epoch [800/1000], Loss: 0.1769\n",
      "Epoch [900/1000], Loss: 0.1251\n",
      "Epoch [1000/1000], Loss: 0.1552\n",
      "\n",
      "Training with Adam optimizer and learning rate = 0.01\n",
      "Epoch [100/1000], Loss: 0.2140\n",
      "Epoch [200/1000], Loss: 0.1320\n",
      "Epoch [300/1000], Loss: 0.1200\n",
      "Epoch [400/1000], Loss: 0.0975\n",
      "Epoch [500/1000], Loss: 0.0972\n",
      "Epoch [600/1000], Loss: 0.0782\n",
      "Epoch [700/1000], Loss: 0.0924\n",
      "Epoch [800/1000], Loss: 0.0722\n",
      "Epoch [900/1000], Loss: 0.0841\n",
      "Epoch [1000/1000], Loss: 0.0929\n",
      "\n",
      "Training with RMSprop optimizer and learning rate = 0.01\n",
      "Epoch [100/1000], Loss: 0.1158\n",
      "Epoch [200/1000], Loss: 0.0641\n",
      "Epoch [300/1000], Loss: 0.0996\n",
      "Epoch [400/1000], Loss: 0.1081\n",
      "Epoch [500/1000], Loss: 0.0692\n",
      "Epoch [600/1000], Loss: 0.1100\n",
      "Epoch [700/1000], Loss: 0.0882\n",
      "Epoch [800/1000], Loss: 0.1030\n",
      "Epoch [900/1000], Loss: 0.0672\n",
      "Epoch [1000/1000], Loss: 0.1116\n"
     ]
    }
   ],
   "source": [
    "# Use different optimizers and learning rate alongside dropout\n",
    "optimizers = {\n",
    "    'SGD': torch.optim.SGD,\n",
    "    'Adam': torch.optim.Adam,\n",
    "    'RMSprop': torch.optim.RMSprop\n",
    "}\n",
    "\n",
    "learning_rates = [0.01]\n",
    "\n",
    "results = {}\n",
    "\n",
    "for opt_name, optimizer in optimizers.items():\n",
    "    for lr in learning_rates:\n",
    "        print(f'\\nTraining with {opt_name} optimizer and learning rate = {lr}')\n",
    "        model = SimpleLinearModelWithDropout(p=0.5)  # Reset model\n",
    "        losses = train_model(model, optimizer, learning_rate=lr)\n",
    "        results[f'{opt_name}_lr_{lr}'] = losses"
   ]
  },
  {
   "cell_type": "code",
   "execution_count": 340,
   "metadata": {},
   "outputs": [
    {
     "data": {
      "image/png": "[encoded data removed]",
      "text/plain": [
       "<Figure size 1400x600 with 1 Axes>"
      ]
     },
     "metadata": {},
     "output_type": "display_data"
    }
   ],
   "source": [
    "# Plot results\n",
    "plt.figure(figsize=(14, 6))\n",
    "\n",
    "for key, losses in results.items():\n",
    "    plt.plot(losses, label=f'Loss - {key}')\n",
    "\n",
    "plt.xlabel('Epoch')\n",
    "plt.ylabel('Loss')\n",
    "plt.title('Training Loss with Dropout for Different Optimizers and Learning Rates')\n",
    "plt.legend()\n",
    "plt.show()"
   ]
  }
 ],
 "metadata": {
  "kernelspec": {
   "display_name": "Python 3",
   "language": "python",
   "name": "python3"
  },
  "language_info": {
   "codemirror_mode": {
    "name": "ipython",
    "version": 3
   },
   "file_extension": ".py",
   "mimetype": "text/x-python",
   "name": "python",
   "nbconvert_exporter": "python",
   "pygments_lexer": "ipython3",
   "version": "3.12.4"
  }
 },
 "nbformat": 4,
 "nbformat_minor": 2
}
