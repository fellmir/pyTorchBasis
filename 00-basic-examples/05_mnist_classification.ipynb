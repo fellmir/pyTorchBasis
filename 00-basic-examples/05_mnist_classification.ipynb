{
 "cells": [
  {
   "cell_type": "markdown",
   "metadata": {},
   "source": [
    "# MNIST digit classification\n",
    "\n",
    "Welcome to `05_mnist_classification` notebook. This part explores techniques and principles necessary for categorizing handwritten digits from the well-known MNIST dataset, a benchmark dataset widely used in the field of machine learning.\n",
    "\n",
    "This piece will walk through the steps of loading and preprocessing the MNIST dataset, constructing a neural network with a softmax output layer, and training the model to accurately classify the digits. It will also delve into the evaluation metrics used to measure the model's performance, such as accuracy and confusion matrices, to provide a clear understanding of the classification results.\n",
    "\n",
    "Additionally, this notebook offers an in-depth analysis of various hyperparameters and their effects on model training and accuracy. Here we experiment with different learning rates, batch sizes, and network architectures to demonstrate how these factors influence the convergence and generalization of the model."
   ]
  },
  {
   "cell_type": "markdown",
   "metadata": {},
   "source": [
    "## Table of contents\n",
    "\n",
    "1. [Understanding the MNIST dataset](#understanding-the-mnist-dataset)\n",
    "2. [Setting up the environment](#setting-up-the-environment)\n",
    "3. [Loading and preprocessing the data](#loading-and-preprocessing-the-data)\n",
    "4. [Building the neural network model](#building-the-neural-network-model)\n",
    "5. [Defining the loss function and optimizer](#defining-the-loss-function-and-optimizer)\n",
    "6. [Training the neural network model](#training-the-neural-network-model)\n",
    "7. [Evaluating the model](#evaluating-the-model)\n",
    "8. [Saving and loading the model](#saving-and-loading-the-model)\n",
    "9. [Hyperparameter tuning and optimization](#hyperparameter-tuning-and-optimization)\n",
    "10. [Handling model improvements](#handling-model-improvements)\n",
    "11. [Conclusion](#conclusion)\n",
    "12. [Further exercises](#further-exercises)"
   ]
  },
  {
   "cell_type": "markdown",
   "metadata": {},
   "source": [
    "## Understanding the MNIST dataset\n",
    "\n",
    "The MNIST (Modified National Institute of Standards and Technology) dataset is a large collection of handwritten digits, commonly used for training and testing in the field of machine learning. It serves as a benchmark dataset for evaluating algorithms and models, particularly in the area of image classification. \n",
    "\n",
    "The dataset consists of 70,000 grayscale images of digits, split into 60,000 training images and 10,000 testing images, each of which is 28x28 pixels in size. The pixels are represented as integers in the range of 0 to 255, where 0 corresponds to a white pixel (background) and 255 corresponds to a black pixel (foreground)."
   ]
  },
  {
   "cell_type": "markdown",
   "metadata": {},
   "source": [
    "## Setting up the environment\n"
   ]
  },
  {
   "cell_type": "markdown",
   "metadata": {},
   "source": [
    "##### **Q1: How do you install the necessary libraries for working with the MNIST dataset in PyTorch?**"
   ]
  },
  {
   "cell_type": "code",
   "execution_count": 1,
   "metadata": {},
   "outputs": [],
   "source": [
    "# !pip install torch torchvision torchaudio\n",
    "# !pip install numpy matplotlib  # extra libraries for other stuff"
   ]
  },
  {
   "cell_type": "markdown",
   "metadata": {},
   "source": [
    "##### **Q2: How do you import the required modules for MNIST digit classification?**"
   ]
  },
  {
   "cell_type": "code",
   "execution_count": 2,
   "metadata": {},
   "outputs": [],
   "source": [
    "import torch\n",
    "import torch.nn as nn\n",
    "import torch.optim as optim\n",
    "import torch.nn.functional as F\n",
    "from torch.utils.data import DataLoader\n",
    "from torchvision import datasets, transforms"
   ]
  },
  {
   "cell_type": "markdown",
   "metadata": {},
   "source": [
    "## Loading and preprocessing the data\n"
   ]
  },
  {
   "cell_type": "markdown",
   "metadata": {},
   "source": [
    "##### **Q3: How do you download the MNIST dataset using PyTorch?**"
   ]
  },
  {
   "cell_type": "code",
   "execution_count": 3,
   "metadata": {},
   "outputs": [
    {
     "name": "stdout",
     "output_type": "stream",
     "text": [
      "Training dataset succesfully downloaded\n",
      "Testing dataset succesfully downloaded\n"
     ]
    }
   ],
   "source": [
    "# Define transformations: convert to tensor and normalize\n",
    "transform = transforms.Compose([\n",
    "    transforms.ToTensor(),  # Convert image to tensor\n",
    "    transforms.Normalize((0.5,), (0.5,))  # Normalize to [-1, 1]\n",
    "])\n",
    "\n",
    "# Download and load the training data\n",
    "train_dataset = datasets.MNIST(root='../00-src', train=True, download=True, transform=transform)\n",
    "print(\"Training dataset succesfully downloaded\")\n",
    "\n",
    "# Download and load the test data\n",
    "test_dataset = datasets.MNIST(root='../00-src', train=False, download=True, transform=transform)\n",
    "print(\"Testing dataset succesfully downloaded\")"
   ]
  },
  {
   "cell_type": "markdown",
   "metadata": {},
   "source": [
    "##### **Q4: How do you normalize the MNIST data for neural network training?**"
   ]
  },
  {
   "cell_type": "code",
   "execution_count": 4,
   "metadata": {},
   "outputs": [],
   "source": [
    "# Same as above. i.e.,\n",
    "# transform = transforms.Compose([\n",
    "#     transforms.ToTensor(),  # Convert image to tensor\n",
    "#     transforms.Normalize((0.5,), (0.5,))  # Normalize to [-1, 1]\n",
    "# ])"
   ]
  },
  {
   "cell_type": "markdown",
   "metadata": {},
   "source": [
    "##### **Q5: How do you split the MNIST data into training and testing sets?**"
   ]
  },
  {
   "cell_type": "code",
   "execution_count": 5,
   "metadata": {},
   "outputs": [],
   "source": [
    "# Already done so in the downloading step. i.e.,\n",
    "# train_dataset = datasets.MNIST(root='../00-src', train=True, download=True, transform=transform)\n",
    "# print(\"Training dataset succesfully downloaded\")\n",
    "\n",
    "# test_dataset = datasets.MNIST(root='../00-src', train=False, download=True, transform=transform)\n",
    "# print(\"Testing dataset succesfully downloaded\")"
   ]
  },
  {
   "cell_type": "markdown",
   "metadata": {},
   "source": [
    "##### **Q6: How do you create data loaders for the MNIST dataset in PyTorch?**"
   ]
  },
  {
   "cell_type": "code",
   "execution_count": 6,
   "metadata": {},
   "outputs": [],
   "source": [
    "# For the training set\n",
    "train_loader = DataLoader(dataset=train_dataset, batch_size=64, shuffle=True)\n",
    "\n",
    "# For the test set\n",
    "test_loader = DataLoader(dataset=test_dataset, batch_size=64, shuffle=False)"
   ]
  },
  {
   "cell_type": "markdown",
   "metadata": {},
   "source": [
    "## Building the neural network model\n"
   ]
  },
  {
   "cell_type": "markdown",
   "metadata": {},
   "source": [
    "##### **Q7: How do you define the architecture of a neural network for MNIST digit classification using `nn.Module` in PyTorch?**"
   ]
  },
  {
   "cell_type": "code",
   "execution_count": 7,
   "metadata": {},
   "outputs": [],
   "source": [
    "# Define the neural network class\n",
    "class MNISTClassifier(nn.Module):\n",
    "    def __init__(self):\n",
    "        super(MNISTClassifier, self).__init__()\n",
    "        # Define the layers\n",
    "        self.fc1 = nn.Linear(28 * 28, 128)  # Input layer (784) to hidden layer (128)\n",
    "        self.fc2 = nn.Linear(128, 64)       # Hidden layer (128) to another hidden layer (64)\n",
    "        self.fc3 = nn.Linear(64, 10)        # Hidden layer (64) to output layer (10 for 10 classes)\n",
    "\n",
    "    def forward(self, x):\n",
    "        # Flatten the image to a vector of size 28*28\n",
    "        x = x.view(-1, 28 * 28)\n",
    "        # Apply first fully connected layer with ReLU activation\n",
    "        x = F.relu(self.fc1(x))\n",
    "        # Apply second fully connected layer with ReLU activation\n",
    "        x = F.relu(self.fc2(x))\n",
    "        # Output layer with logits (raw scores)\n",
    "        x = self.fc3(x)\n",
    "        return x\n",
    "\n",
    "# Instantiate the network\n",
    "model = MNISTClassifier()"
   ]
  },
  {
   "cell_type": "markdown",
   "metadata": {},
   "source": [
    "##### **Q8: How do you initialize the weights and biases of the neural network?**"
   ]
  },
  {
   "cell_type": "code",
   "execution_count": 8,
   "metadata": {},
   "outputs": [],
   "source": [
    "# Doing so manually (i.e., directly access the weights and biases of the layers and set them manually)\n",
    "import torch.nn.init as init\n",
    "\n",
    "class MNISTClassifier(nn.Module):\n",
    "    def __init__(self):\n",
    "        super(MNISTClassifier, self).__init__()\n",
    "        self.fc1 = nn.Linear(28 * 28, 128)\n",
    "        self.fc2 = nn.Linear(128, 64)\n",
    "        self.fc3 = nn.Linear(64, 10)\n",
    "        \n",
    "        # Initialize weights and biases\n",
    "        self._initialize_weights()\n",
    "\n",
    "    def _initialize_weights(self):\n",
    "        # Initialize weights using Xavier uniform distribution\n",
    "        init.xavier_uniform_(self.fc1.weight)  # sets the weights by sampling from a uniform distribution with a specific range, ensuring that the variance of the inputs and outputs is maintained across layers\n",
    "        init.xavier_uniform_(self.fc2.weight)\n",
    "        init.xavier_uniform_(self.fc3.weight)\n",
    "        \n",
    "        # Initialize biases to zero\n",
    "        nn.init.constant_(self.fc1.bias, 0)  # ...as they do not have the same variance issues as weights\n",
    "        nn.init.constant_(self.fc2.bias, 0)\n",
    "        nn.init.constant_(self.fc3.bias, 0)\n",
    "\n",
    "    def forward(self, x):\n",
    "        x = x.view(-1, 28 * 28)\n",
    "        x = torch.relu(self.fc1(x))\n",
    "        x = torch.relu(self.fc2(x))\n",
    "        x = self.fc3(x)\n",
    "        return x\n",
    "\n",
    "# Instantiate the network\n",
    "model = MNISTClassifier()"
   ]
  },
  {
   "cell_type": "code",
   "execution_count": 10,
   "metadata": {},
   "outputs": [],
   "source": [
    "# Another predefined initialization option (aside from Xavier): Kaiming\n",
    "layer = nn.Linear(784, 128)\n",
    "\n",
    "kaiming = init.kaiming_uniform_(layer.weight, nonlinearity='relu')  # ensures that the variance of the outputs is maintained across layers, which helps in preventing exploding/vanishing gradients"
   ]
  },
  {
   "cell_type": "markdown",
   "metadata": {},
   "source": [
    "##### **Q9: How do you choose activation functions for the layers in your neural network?**"
   ]
  },
  {
   "cell_type": "code",
   "execution_count": 11,
   "metadata": {},
   "outputs": [],
   "source": [
    "# ReLu: Commonly used for hidden layers to introduce non-linearity\n",
    "relu_layer = nn.ReLU()\n",
    "\n",
    "# Sigmoid: Often used in the output layer for binary classification to get probabilities\n",
    "sigmoid_layer = nn.Sigmoid()\n",
    "\n",
    "# Tanh: Sometimes used in hidden layers to center the data around zero\n",
    "tanh_layer = nn.Tanh()\n",
    "\n",
    "# Leaky ReLU: A variant of ReLU that allows a small, non-zero gradient when the unit is not active\n",
    "leaky_relu_layer = nn.LeakyReLU(negative_slope=0.01)\n",
    "\n",
    "# Softmax: Used in the output layer for multi-class classification problems to get a probability distribution over classes\n",
    "softmax_layer = nn.Softmax(dim=1)"
   ]
  },
  {
   "cell_type": "markdown",
   "metadata": {},
   "source": [
    "## Defining the loss function and optimizer\n"
   ]
  },
  {
   "cell_type": "markdown",
   "metadata": {},
   "source": [
    "##### **Q10: How do you select the appropriate loss function for MNIST digit classification?**"
   ]
  },
  {
   "cell_type": "code",
   "execution_count": 12,
   "metadata": {},
   "outputs": [],
   "source": [
    "# One of the best options out there: CrossEntropyLoss\n",
    "class MNISTClassifier(nn.Module):\n",
    "    def __init__(self):\n",
    "        super(MNISTClassifier, self).__init__()\n",
    "        self.fc1 = nn.Linear(28 * 28, 128)\n",
    "        self.fc2 = nn.Linear(128, 64)\n",
    "        self.fc3 = nn.Linear(64, 10)\n",
    "\n",
    "    def forward(self, x):\n",
    "        x = x.view(-1, 28 * 28)   # Flatten the input\n",
    "        x = F.relu(self.fc1(x))   # ReLU activation\n",
    "        x = F.relu(self.fc2(x))   # ReLU activation\n",
    "        x = self.fc3(x)           # Output layer (logits)\n",
    "        return x\n",
    "    \n",
    "model = MNISTClassifier()\n",
    "\n",
    "# Define the loss function\n",
    "criterion = nn.CrossEntropyLoss()"
   ]
  },
  {
   "cell_type": "markdown",
   "metadata": {},
   "source": [
    "##### **Q11: How do you configure an optimizer for training the neural network?**"
   ]
  },
  {
   "cell_type": "code",
   "execution_count": 13,
   "metadata": {},
   "outputs": [],
   "source": [
    "# Two common(est) options: SGD \n",
    "optimizer = optim.SGD(model.parameters(), lr=0.01, momentum=0.9)\n",
    "\n",
    "# and Adam\n",
    "optimizer = optim.Adam(model.parameters(), lr=0.001)"
   ]
  },
  {
   "cell_type": "markdown",
   "metadata": {},
   "source": [
    "## Training the neural network model\n"
   ]
  },
  {
   "cell_type": "markdown",
   "metadata": {},
   "source": [
    "##### **Q12: How do you set up the training loop for the MNIST neural network in PyTorch?**"
   ]
  },
  {
   "cell_type": "code",
   "execution_count": 14,
   "metadata": {},
   "outputs": [
    {
     "name": "stdout",
     "output_type": "stream",
     "text": [
      "Epoch [1/10], Loss: 0.1273\n",
      "Epoch [2/10], Loss: 0.2265\n",
      "Epoch [3/10], Loss: 0.0766\n",
      "Epoch [4/10], Loss: 0.0371\n",
      "Epoch [5/10], Loss: 0.0597\n",
      "Epoch [6/10], Loss: 0.0491\n",
      "Epoch [7/10], Loss: 0.1535\n",
      "Epoch [8/10], Loss: 0.0196\n",
      "Epoch [9/10], Loss: 0.0025\n",
      "Epoch [10/10], Loss: 0.0136\n"
     ]
    }
   ],
   "source": [
    "# Set the number of epochs\n",
    "num_epochs = 10\n",
    "\n",
    "# Training loop\n",
    "for epoch in range(num_epochs):\n",
    "    for inputs, labels in train_loader:\n",
    "        # Zero the parameter gradients\n",
    "        optimizer.zero_grad()\n",
    "        \n",
    "        # Forward pass\n",
    "        outputs = model(inputs)\n",
    "        \n",
    "        # Compute the loss\n",
    "        loss = criterion(outputs, labels)\n",
    "        \n",
    "        # Backward pass and optimize\n",
    "        loss.backward()\n",
    "        optimizer.step()\n",
    "    \n",
    "    print(f\"Epoch [{epoch+1}/{num_epochs}], Loss: {loss.item():.4f}\")"
   ]
  },
  {
   "cell_type": "markdown",
   "metadata": {},
   "source": [
    "##### **Q13: How do you train the neural network on the MNIST dataset?**"
   ]
  },
  {
   "cell_type": "code",
   "execution_count": 15,
   "metadata": {},
   "outputs": [],
   "source": [
    "# See the training loop"
   ]
  },
  {
   "cell_type": "markdown",
   "metadata": {},
   "source": [
    "##### **Q14: How do you monitor training progress during the training process?**"
   ]
  },
  {
   "cell_type": "code",
   "execution_count": 16,
   "metadata": {},
   "outputs": [
    {
     "name": "stdout",
     "output_type": "stream",
     "text": [
      "Epoch [1/10], Loss: 0.0449, Accuracy: 98.50%\n",
      "Epoch [2/10], Loss: 0.0446, Accuracy: 98.50%\n",
      "Epoch [3/10], Loss: 0.0405, Accuracy: 98.60%\n",
      "Epoch [4/10], Loss: 0.0401, Accuracy: 98.64%\n",
      "Epoch [5/10], Loss: 0.0352, Accuracy: 98.79%\n",
      "Epoch [6/10], Loss: 0.0354, Accuracy: 98.80%\n",
      "Epoch [7/10], Loss: 0.0330, Accuracy: 98.86%\n",
      "Epoch [8/10], Loss: 0.0309, Accuracy: 98.97%\n",
      "Epoch [9/10], Loss: 0.0292, Accuracy: 98.98%\n",
      "Epoch [10/10], Loss: 0.0268, Accuracy: 99.10%\n"
     ]
    }
   ],
   "source": [
    "# You can add more stats to the training loop, which enables you to better visualize how it's progressing\n",
    "num_epochs = 10\n",
    "\n",
    "# Training loop\n",
    "for epoch in range(num_epochs):\n",
    "    model.train()  # Set the model to training mode\n",
    "    running_loss = 0.0\n",
    "    correct = 0\n",
    "    total = 0\n",
    "    \n",
    "    for inputs, labels in train_loader:\n",
    "        # Zero the parameter gradients\n",
    "        optimizer.zero_grad()\n",
    "        \n",
    "        # Forward pass\n",
    "        outputs = model(inputs)\n",
    "        \n",
    "        # Compute the loss\n",
    "        loss = criterion(outputs, labels)\n",
    "        \n",
    "        # Backward pass and optimize\n",
    "        loss.backward()\n",
    "        optimizer.step()\n",
    "        \n",
    "        # Accumulate the running loss\n",
    "        running_loss += loss.item()\n",
    "        \n",
    "        # Calculate accuracy\n",
    "        _, predicted = torch.max(outputs.data, 1)\n",
    "        total += labels.size(0)\n",
    "        correct += (predicted == labels).sum().item()\n",
    "    \n",
    "    # Calculate average loss and accuracy\n",
    "    avg_loss = running_loss / len(train_loader)\n",
    "    accuracy = 100 * correct / total\n",
    "    \n",
    "    # Print statistics\n",
    "    print(f\"Epoch [{epoch+1}/{num_epochs}], Loss: {avg_loss:.4f}, Accuracy: {accuracy:.2f}%\")"
   ]
  },
  {
   "cell_type": "markdown",
   "metadata": {},
   "source": [
    "## Evaluating the model\n"
   ]
  },
  {
   "cell_type": "markdown",
   "metadata": {},
   "source": [
    "##### **Q15: How do you make predictions using the trained MNIST neural network?**"
   ]
  },
  {
   "cell_type": "code",
   "execution_count": 24,
   "metadata": {},
   "outputs": [
    {
     "name": "stdout",
     "output_type": "stream",
     "text": [
      "Predicted: tensor([7, 2, 1, 0, 4, 1, 4, 9, 5, 9, 0, 6, 9, 0, 1, 5, 9, 7, 3, 4, 9, 6, 6, 5,\n",
      "        4, 0, 7, 4, 0, 1, 3, 1, 3, 4, 7, 2, 7, 1, 2, 1, 1, 7, 4, 2, 3, 5, 1, 2,\n",
      "        4, 4, 6, 3, 5, 5, 6, 0, 4, 1, 9, 5, 7, 8, 9, 3])\n",
      "Actual: tensor([7, 2, 1, 0, 4, 1, 4, 9, 5, 9, 0, 6, 9, 0, 1, 5, 9, 7, 3, 4, 9, 6, 6, 5,\n",
      "        4, 0, 7, 4, 0, 1, 3, 1, 3, 4, 7, 2, 7, 1, 2, 1, 1, 7, 4, 2, 3, 5, 1, 2,\n",
      "        4, 4, 6, 3, 5, 5, 6, 0, 4, 1, 9, 5, 7, 8, 9, 3])\n"
     ]
    }
   ],
   "source": [
    "# Set the model to evaluation mode\n",
    "model.eval()\n",
    "\n",
    "# Example input (a batch of images)\n",
    "example_inputs, example_labels = next(iter(test_loader))\n",
    "\n",
    "# Make predictions\n",
    "with torch.no_grad():\n",
    "    outputs = model(example_inputs)\n",
    "    _, predicted = torch.max(outputs, 1)\n",
    "\n",
    "print(f'Predicted: {predicted}')\n",
    "print(f'Actual: {example_labels}')"
   ]
  },
  {
   "cell_type": "code",
   "execution_count": 25,
   "metadata": {},
   "outputs": [
    {
     "data": {
      "image/png": "[encoded data removed]",
      "text/plain": [
       "<Figure size 1200x1200 with 16 Axes>"
      ]
     },
     "metadata": {},
     "output_type": "display_data"
    }
   ],
   "source": [
    "# Alternative: Plot the images with predictions and true labels\n",
    "import matplotlib.pyplot as plt\n",
    "\n",
    "fig = plt.figure(figsize=(12, 12))\n",
    "for idx in range(16):  # Display 16 images\n",
    "    ax = fig.add_subplot(4, 4, idx + 1, xticks=[], yticks=[])\n",
    "    plt.imshow(example_inputs[idx].numpy().squeeze(), cmap='gray')\n",
    "    ax.set_title(f\"Pred: {predicted[idx].item()} (True: {example_labels[idx].item()})\", \n",
    "                 color=(\"green\" if predicted[idx]==example_labels[idx] else \"red\"))\n",
    "plt.show()"
   ]
  },
  {
   "cell_type": "markdown",
   "metadata": {},
   "source": [
    "##### **Q16: How do you calculate the accuracy of the MNIST neural network model?**"
   ]
  },
  {
   "cell_type": "code",
   "execution_count": 26,
   "metadata": {},
   "outputs": [
    {
     "name": "stdout",
     "output_type": "stream",
     "text": [
      "Accuracy of the model on the 10,000 test images: 97.55%\n"
     ]
    }
   ],
   "source": [
    "# Compare predicted labels with true labels \n",
    "correct = 0\n",
    "total = 0\n",
    "\n",
    "model.eval()  # Set the model to evaluation mode\n",
    "\n",
    "with torch.no_grad():\n",
    "    for inputs, labels in test_loader:\n",
    "        outputs = model(inputs)\n",
    "        _, predicted = torch.max(outputs.data, 1)\n",
    "        total += labels.size(0)\n",
    "        correct += (predicted == labels).sum().item()\n",
    "\n",
    "accuracy = 100 * correct / total\n",
    "print(f'Accuracy of the model on the 10,000 test images: {accuracy:.2f}%')"
   ]
  },
  {
   "cell_type": "markdown",
   "metadata": {},
   "source": [
    "##### **Q17: How do you visualize the performance of the MNIST neural network model?**"
   ]
  },
  {
   "cell_type": "code",
   "execution_count": 28,
   "metadata": {},
   "outputs": [
    {
     "name": "stdout",
     "output_type": "stream",
     "text": [
      "Epoch [1/10], Train Loss: 0.0252, Train Accuracy: 99.11%, Val Loss: 0.1091, Val Accuracy: 97.44%\n",
      "Epoch [2/10], Train Loss: 0.0284, Train Accuracy: 99.00%, Val Loss: 0.1082, Val Accuracy: 97.53%\n",
      "Epoch [3/10], Train Loss: 0.0227, Train Accuracy: 99.21%, Val Loss: 0.1031, Val Accuracy: 97.66%\n",
      "Epoch [4/10], Train Loss: 0.0268, Train Accuracy: 99.11%, Val Loss: 0.1067, Val Accuracy: 97.66%\n",
      "Epoch [5/10], Train Loss: 0.0207, Train Accuracy: 99.31%, Val Loss: 0.1082, Val Accuracy: 97.64%\n",
      "Epoch [6/10], Train Loss: 0.0238, Train Accuracy: 99.16%, Val Loss: 0.1167, Val Accuracy: 97.57%\n",
      "Epoch [7/10], Train Loss: 0.0190, Train Accuracy: 99.31%, Val Loss: 0.1035, Val Accuracy: 97.71%\n",
      "Epoch [8/10], Train Loss: 0.0194, Train Accuracy: 99.31%, Val Loss: 0.1393, Val Accuracy: 97.12%\n",
      "Epoch [9/10], Train Loss: 0.0250, Train Accuracy: 99.19%, Val Loss: 0.1032, Val Accuracy: 97.75%\n",
      "Epoch [10/10], Train Loss: 0.0179, Train Accuracy: 99.40%, Val Loss: 0.1122, Val Accuracy: 97.78%\n"
     ]
    }
   ],
   "source": [
    "# For illustration, another training loop - only this time it stores values relevant to the performance of the model, instead of just providing them in the epochs\n",
    "val_loader = DataLoader(dataset=test_dataset, batch_size=64, shuffle=False)  # doing this just to save time - in the ideal scenario there would be a proper validation set\n",
    "\n",
    "num_epochs = 10\n",
    "\n",
    "# Lists to store metrics\n",
    "train_losses = []\n",
    "train_accuracies = []\n",
    "val_losses = []\n",
    "val_accuracies = []\n",
    "\n",
    "# Training loop\n",
    "for epoch in range(num_epochs):\n",
    "    model.train()\n",
    "    running_loss = 0.0\n",
    "    correct = 0\n",
    "    total = 0\n",
    "    \n",
    "    for inputs, labels in train_loader:\n",
    "        optimizer.zero_grad()\n",
    "        outputs = model(inputs)\n",
    "        loss = criterion(outputs, labels)\n",
    "        \n",
    "        loss.backward()\n",
    "        optimizer.step()\n",
    "        running_loss += loss.item()\n",
    "        \n",
    "        _, predicted = torch.max(outputs.data, 1)\n",
    "        total += labels.size(0)\n",
    "        correct += (predicted == labels).sum().item()\n",
    "    \n",
    "    avg_loss = running_loss / len(train_loader)\n",
    "    accuracy = 100 * correct / total\n",
    "    \n",
    "    # Store training metrics\n",
    "    train_losses.append(avg_loss)\n",
    "    train_accuracies.append(accuracy)\n",
    "    \n",
    "    # Evaluate on validation set\n",
    "    model.eval()\n",
    "    val_running_loss = 0.0\n",
    "    val_correct = 0\n",
    "    val_total = 0\n",
    "    \n",
    "    with torch.no_grad():\n",
    "        for val_inputs, val_labels in test_loader:\n",
    "            val_outputs = model(val_inputs)\n",
    "            val_loss = criterion(val_outputs, val_labels)\n",
    "            val_running_loss += val_loss.item()\n",
    "            \n",
    "            _, val_predicted = torch.max(val_outputs.data, 1)\n",
    "            val_total += val_labels.size(0)\n",
    "            val_correct += (val_predicted == val_labels).sum().item()\n",
    "    \n",
    "    val_avg_loss = val_running_loss / len(test_loader)\n",
    "    val_accuracy = 100 * val_correct / val_total\n",
    "    \n",
    "    # Store validation metrics\n",
    "    val_losses.append(val_avg_loss)\n",
    "    val_accuracies.append(val_accuracy)\n",
    "    \n",
    "    print(f\"Epoch [{epoch+1}/{num_epochs}], Train Loss: {avg_loss:.4f}, Train Accuracy: {accuracy:.2f}%, Val Loss: {val_avg_loss:.4f}, Val Accuracy: {val_accuracy:.2f}%\")"
   ]
  },
  {
   "cell_type": "code",
   "execution_count": 30,
   "metadata": {},
   "outputs": [
    {
     "data": {
      "text/plain": [
       "<matplotlib.legend.Legend at 0x2b123f4c1d0>"
      ]
     },
     "execution_count": 30,
     "metadata": {},
     "output_type": "execute_result"
    },
    {
     "data": {
      "image/png": "[encoded data removed]",
      "text/plain": [
       "<Figure size 1200x400 with 1 Axes>"
      ]
     },
     "metadata": {},
     "output_type": "display_data"
    }
   ],
   "source": [
    "# Plotting the stored metrics\n",
    "epochs = range(1, num_epochs + 1)\n",
    "\n",
    "plt.figure(figsize=(12, 4))\n",
    "\n",
    "# Plot training & validation loss\n",
    "plt.subplot(1, 2, 1)\n",
    "plt.plot(epochs, train_losses, 'r', label='Training loss')\n",
    "plt.plot(epochs, val_losses, 'b', label='Validation loss')\n",
    "plt.title('Training and Validation Loss')\n",
    "plt.xlabel('Epochs')\n",
    "plt.ylabel('Loss')\n",
    "plt.legend()"
   ]
  },
  {
   "cell_type": "code",
   "execution_count": 31,
   "metadata": {},
   "outputs": [
    {
     "data": {
      "image/png": "[encoded data removed]",
      "text/plain": [
       "<Figure size 640x480 with 1 Axes>"
      ]
     },
     "metadata": {},
     "output_type": "display_data"
    }
   ],
   "source": [
    "# Plot training & validation accuracy\n",
    "plt.subplot(1, 2, 2)\n",
    "plt.plot(epochs, train_accuracies, 'r', label='Training accuracy')\n",
    "plt.plot(epochs, val_accuracies, 'b', label='Validation accuracy')\n",
    "plt.title('Training and Validation Accuracy')\n",
    "plt.xlabel('Epochs')\n",
    "plt.ylabel('Accuracy')\n",
    "plt.legend()\n",
    "\n",
    "plt.show()"
   ]
  },
  {
   "cell_type": "markdown",
   "metadata": {},
   "source": [
    "##### **Q18: How do you create a confusion matrix to evaluate the performance of the MNIST digit classification model?**"
   ]
  },
  {
   "cell_type": "code",
   "execution_count": 32,
   "metadata": {},
   "outputs": [],
   "source": [
    "from sklearn.metrics import confusion_matrix\n",
    "import seaborn as sns\n",
    "import numpy as np\n",
    "\n",
    "# Set the model to evaluation mode\n",
    "model.eval()\n",
    "\n",
    "all_preds = []\n",
    "all_labels = []\n",
    "\n",
    "with torch.no_grad():\n",
    "    for inputs, labels in val_loader:  # Using the validation (= test) loader\n",
    "        outputs = model(inputs)\n",
    "        _, predicted = torch.max(outputs, 1)\n",
    "        all_preds.extend(predicted.cpu().numpy())\n",
    "        all_labels.extend(labels.cpu().numpy())\n",
    "        \n",
    "# Compute the confusion matrix\n",
    "conf_matrix = confusion_matrix(all_labels, all_preds)"
   ]
  },
  {
   "cell_type": "code",
   "execution_count": 33,
   "metadata": {},
   "outputs": [
    {
     "data": {
      "image/png": "[encoded data removed]",
      "text/plain": [
       "<Figure size 1000x800 with 2 Axes>"
      ]
     },
     "metadata": {},
     "output_type": "display_data"
    }
   ],
   "source": [
    "# Plot the confusion matrix\n",
    "plt.figure(figsize=(10, 8))\n",
    "sns.heatmap(conf_matrix, annot=True, fmt='d', cmap='Blues', xticklabels=np.arange(10), yticklabels=np.arange(10))\n",
    "plt.title('Confusion Matrix')\n",
    "plt.xlabel('Predicted')\n",
    "plt.ylabel('Actual')\n",
    "plt.show()"
   ]
  },
  {
   "cell_type": "markdown",
   "metadata": {},
   "source": [
    "## Saving and loading the model\n"
   ]
  },
  {
   "cell_type": "markdown",
   "metadata": {},
   "source": [
    "##### **Q19: How do you save the trained MNIST neural network model in PyTorch?**"
   ]
  },
  {
   "cell_type": "code",
   "execution_count": 34,
   "metadata": {},
   "outputs": [],
   "source": [
    "# Save the model's state dictionary\n",
    "model_path = 'mnist_model.pth'\n",
    "torch.save(model.state_dict(), model_path)"
   ]
  },
  {
   "cell_type": "markdown",
   "metadata": {},
   "source": [
    "##### **Q20: How do you load a saved MNIST neural network model in PyTorch?**"
   ]
  },
  {
   "cell_type": "code",
   "execution_count": 35,
   "metadata": {},
   "outputs": [
    {
     "name": "stderr",
     "output_type": "stream",
     "text": [
      "C:\\Users\\fellm\\AppData\\Local\\Temp\\ipykernel_16832\\1194793714.py:5: FutureWarning: You are using `torch.load` with `weights_only=False` (the current default value), which uses the default pickle module implicitly. It is possible to construct malicious pickle data which will execute arbitrary code during unpickling (See https://github.com/pytorch/pytorch/blob/main/SECURITY.md#untrusted-models for more details). In a future release, the default value for `weights_only` will be flipped to `True`. This limits the functions that could be executed during unpickling. Arbitrary objects will no longer be allowed to be loaded via this mode unless they are explicitly allowlisted by the user via `torch.serialization.add_safe_globals`. We recommend you start setting `weights_only=True` for any use case where you don't have full control of the loaded file. Please open an issue on GitHub for any issues related to this experimental feature.\n",
      "  loaded_model.load_state_dict(torch.load(model_path))\n"
     ]
    },
    {
     "data": {
      "text/plain": [
       "MNISTClassifier(\n",
       "  (fc1): Linear(in_features=784, out_features=128, bias=True)\n",
       "  (fc2): Linear(in_features=128, out_features=64, bias=True)\n",
       "  (fc3): Linear(in_features=64, out_features=10, bias=True)\n",
       ")"
      ]
     },
     "execution_count": 35,
     "metadata": {},
     "output_type": "execute_result"
    }
   ],
   "source": [
    "# Instantiate the model\n",
    "loaded_model = MNISTClassifier()\n",
    "\n",
    "# Load the state dictionary\n",
    "loaded_model.load_state_dict(torch.load(model_path))\n",
    "\n",
    "# Set the model to evaluation mode\n",
    "loaded_model.eval()"
   ]
  },
  {
   "cell_type": "code",
   "execution_count": 36,
   "metadata": {},
   "outputs": [],
   "source": [
    "import os\n",
    "\n",
    "# Delete the saved model file\n",
    "os.remove(model_path)"
   ]
  },
  {
   "cell_type": "markdown",
   "metadata": {},
   "source": [
    "## Hyperparameter tuning and optimization\n"
   ]
  },
  {
   "cell_type": "markdown",
   "metadata": {},
   "source": [
    "##### **Q21: How do you perform hyperparameter tuning to improve the performance of the MNIST neural network?**"
   ]
  },
  {
   "cell_type": "code",
   "execution_count": 58,
   "metadata": {},
   "outputs": [],
   "source": [
    "# Set device to GPU if available\n",
    "device = torch.device(\"cuda\" if torch.cuda.is_available() else \"cpu\")\n",
    "\n",
    "# Define the transformations\n",
    "transform = transforms.Compose([transforms.ToTensor()])\n",
    "\n",
    "# Load the dataset\n",
    "train_dataset = datasets.MNIST(root='../00-src', train=True, download=True, transform=transform)\n",
    "test_dataset = datasets.MNIST(root='../00-src', train=False, download=True, transform=transform)\n",
    "\n",
    "train_loader = DataLoader(train_dataset, batch_size=64, shuffle=True)\n",
    "test_loader = DataLoader(test_dataset, batch_size=64, shuffle=False)"
   ]
  },
  {
   "cell_type": "code",
   "execution_count": 59,
   "metadata": {},
   "outputs": [],
   "source": [
    "# Define the model\n",
    "class SimpleNN(nn.Module):\n",
    "    def __init__(self):\n",
    "        super(SimpleNN, self).__init__()\n",
    "        self.fc1 = nn.Linear(28*28, 128)\n",
    "        self.fc2 = nn.Linear(128, 64)\n",
    "        self.fc3 = nn.Linear(64, 10)\n",
    "    \n",
    "    def forward(self, x):\n",
    "        x = x.view(-1, 28*28)\n",
    "        x = torch.relu(self.fc1(x))\n",
    "        x = torch.relu(self.fc2(x))\n",
    "        x = self.fc3(x)\n",
    "        return x\n",
    "\n",
    "# Define a simple training loop\n",
    "def train_model(model, train_loader, test_loader, criterion, optimizer, epochs=10):\n",
    "    model.train()\n",
    "    for epoch in range(epochs):\n",
    "        for images, labels in train_loader:\n",
    "            images, labels = images.to(device), labels.to(device)\n",
    "            \n",
    "            optimizer.zero_grad()\n",
    "            outputs = model(images)\n",
    "            loss = criterion(outputs, labels)\n",
    "            loss.backward()\n",
    "            optimizer.step()\n",
    "        \n",
    "        # Validation step\n",
    "        correct = 0\n",
    "        total = 0\n",
    "        model.eval()\n",
    "        with torch.no_grad():\n",
    "            for images, labels in test_loader:\n",
    "                images, labels = images.to(device), labels.to(device)\n",
    "                outputs = model(images)\n",
    "                _, predicted = torch.max(outputs.data, 1)\n",
    "                total += labels.size(0)\n",
    "                correct += (predicted == labels).sum().item()\n",
    "        \n",
    "        accuracy = 100 * correct / total\n",
    "    return accuracy"
   ]
  },
  {
   "cell_type": "code",
   "execution_count": 60,
   "metadata": {},
   "outputs": [],
   "source": [
    "# Hyperparameter tuning\n",
    "learning_rates = [0.01, 0.001, 0.0001]\n",
    "batch_sizes = [32, 64, 128]\n",
    "epochs_list = [5, 10]"
   ]
  },
  {
   "cell_type": "code",
   "execution_count": 61,
   "metadata": {},
   "outputs": [
    {
     "name": "stdout",
     "output_type": "stream",
     "text": [
      "Training with lr=0.01, batch_size=32, epochs=5\n",
      "Accuracy for lr=0.01, batch_size=32, epochs=5: 95.73%\n",
      "Training with lr=0.01, batch_size=32, epochs=10\n",
      "Accuracy for lr=0.01, batch_size=32, epochs=10: 96.84%\n",
      "Training with lr=0.01, batch_size=64, epochs=5\n",
      "Accuracy for lr=0.01, batch_size=64, epochs=5: 96.14%\n",
      "Training with lr=0.01, batch_size=64, epochs=10\n",
      "Accuracy for lr=0.01, batch_size=64, epochs=10: 96.99%\n",
      "Training with lr=0.01, batch_size=128, epochs=5\n",
      "Accuracy for lr=0.01, batch_size=128, epochs=5: 96.84%\n",
      "Training with lr=0.01, batch_size=128, epochs=10\n",
      "Accuracy for lr=0.01, batch_size=128, epochs=10: 97.27%\n",
      "Training with lr=0.001, batch_size=32, epochs=5\n",
      "Accuracy for lr=0.001, batch_size=32, epochs=5: 97.50%\n",
      "Training with lr=0.001, batch_size=32, epochs=10\n",
      "Accuracy for lr=0.001, batch_size=32, epochs=10: 97.56%\n",
      "Training with lr=0.001, batch_size=64, epochs=5\n",
      "Accuracy for lr=0.001, batch_size=64, epochs=5: 97.37%\n",
      "Training with lr=0.001, batch_size=64, epochs=10\n",
      "Accuracy for lr=0.001, batch_size=64, epochs=10: 97.63%\n",
      "Training with lr=0.001, batch_size=128, epochs=5\n",
      "Accuracy for lr=0.001, batch_size=128, epochs=5: 97.04%\n",
      "Training with lr=0.001, batch_size=128, epochs=10\n",
      "Accuracy for lr=0.001, batch_size=128, epochs=10: 97.69%\n",
      "Training with lr=0.0001, batch_size=32, epochs=5\n",
      "Accuracy for lr=0.0001, batch_size=32, epochs=5: 94.71%\n",
      "Training with lr=0.0001, batch_size=32, epochs=10\n",
      "Accuracy for lr=0.0001, batch_size=32, epochs=10: 96.47%\n",
      "Training with lr=0.0001, batch_size=64, epochs=5\n",
      "Accuracy for lr=0.0001, batch_size=64, epochs=5: 94.11%\n",
      "Training with lr=0.0001, batch_size=64, epochs=10\n",
      "Accuracy for lr=0.0001, batch_size=64, epochs=10: 95.55%\n",
      "Training with lr=0.0001, batch_size=128, epochs=5\n",
      "Accuracy for lr=0.0001, batch_size=128, epochs=5: 92.70%\n",
      "Training with lr=0.0001, batch_size=128, epochs=10\n",
      "Accuracy for lr=0.0001, batch_size=128, epochs=10: 94.40%\n"
     ]
    }
   ],
   "source": [
    "# Grid search over hyperparameters\n",
    "import itertools\n",
    "\n",
    "best_accuracy = 0.0\n",
    "best_params = {}\n",
    "\n",
    "for lr, bs, epochs in itertools.product(learning_rates, batch_sizes, epochs_list):\n",
    "    print(f'Training with lr={lr}, batch_size={bs}, epochs={epochs}')\n",
    "    model = SimpleNN().to(device)\n",
    "    criterion = nn.CrossEntropyLoss()\n",
    "    optimizer = optim.Adam(model.parameters(), lr=lr)\n",
    "    train_loader = DataLoader(train_dataset, batch_size=bs, shuffle=True)\n",
    "    test_loader = DataLoader(test_dataset, batch_size=bs, shuffle=False)\n",
    "    \n",
    "    accuracy = train_model(model, train_loader, test_loader, criterion, optimizer, epochs=epochs)\n",
    "    print(f'Accuracy for lr={lr}, batch_size={bs}, epochs={epochs}: {accuracy:.2f}%')\n",
    "    \n",
    "    # Check if this is the best accuracy so far\n",
    "    if accuracy > best_accuracy:\n",
    "        best_accuracy = accuracy\n",
    "        best_params = {'learning_rate': lr, 'batch_size': bs, 'epochs': epochs}"
   ]
  },
  {
   "cell_type": "code",
   "execution_count": 62,
   "metadata": {},
   "outputs": [
    {
     "name": "stdout",
     "output_type": "stream",
     "text": [
      "\n",
      "Best accuracy: 97.69%\n",
      "Best hyperparameters: {'learning_rate': 0.001, 'batch_size': 128, 'epochs': 10}\n"
     ]
    }
   ],
   "source": [
    "# Print out the best hyperparameters\n",
    "print(f'\\nBest accuracy: {best_accuracy:.2f}%')\n",
    "print(f'Best hyperparameters: {best_params}')"
   ]
  },
  {
   "cell_type": "markdown",
   "metadata": {},
   "source": [
    "##### **Q22: What regularization techniques can you implement to prevent overfitting in the MNIST neural network?**"
   ]
  },
  {
   "cell_type": "code",
   "execution_count": 63,
   "metadata": {},
   "outputs": [
    {
     "data": {
      "text/plain": [
       "97.74"
      ]
     },
     "execution_count": 63,
     "metadata": {},
     "output_type": "execute_result"
    }
   ],
   "source": [
    "# Regularized model with Dropout and L2 regularization\n",
    "class RegularizedNN(nn.Module):\n",
    "    def __init__(self):\n",
    "        super(RegularizedNN, self).__init__()\n",
    "        self.fc1 = nn.Linear(28*28, 128)\n",
    "        self.dropout1 = nn.Dropout(0.5)\n",
    "        self.fc2 = nn.Linear(128, 64)\n",
    "        self.dropout2 = nn.Dropout(0.5)\n",
    "        self.fc3 = nn.Linear(64, 10)\n",
    "    \n",
    "    def forward(self, x):\n",
    "        x = x.view(-1, 28*28)\n",
    "        x = torch.relu(self.fc1(x))\n",
    "        x = self.dropout1(x)\n",
    "        x = torch.relu(self.fc2(x))\n",
    "        x = self.dropout2(x)\n",
    "        x = self.fc3(x)\n",
    "        return x\n",
    "\n",
    "# Apply L2 regularization via the optimizer\n",
    "model = RegularizedNN().to(device)\n",
    "criterion = nn.CrossEntropyLoss()\n",
    "optimizer = optim.Adam(model.parameters(), lr=0.001, weight_decay=1e-5)  # weight_decay is the L2 penalty\n",
    "train_model(model, train_loader, test_loader, criterion, optimizer, epochs=10)"
   ]
  },
  {
   "cell_type": "markdown",
   "metadata": {},
   "source": [
    "##### **Q23: How do you use learning rate scheduling to adjust the learning rate during training?**"
   ]
  },
  {
   "cell_type": "code",
   "execution_count": 64,
   "metadata": {},
   "outputs": [
    {
     "name": "stdout",
     "output_type": "stream",
     "text": [
      "Epoch [1/15], Accuracy: 93.57%\n",
      "Epoch [2/15], Accuracy: 95.49%\n",
      "Epoch [3/15], Accuracy: 96.61%\n",
      "Epoch [4/15], Accuracy: 97.01%\n",
      "Epoch [5/15], Accuracy: 97.24%\n",
      "Epoch [6/15], Accuracy: 97.47%\n",
      "Epoch [7/15], Accuracy: 97.57%\n",
      "Epoch [8/15], Accuracy: 97.64%\n",
      "Epoch [9/15], Accuracy: 97.66%\n",
      "Epoch [10/15], Accuracy: 97.58%\n",
      "Epoch [11/15], Accuracy: 97.72%\n",
      "Epoch [12/15], Accuracy: 97.74%\n",
      "Epoch [13/15], Accuracy: 97.72%\n",
      "Epoch [14/15], Accuracy: 97.69%\n",
      "Epoch [15/15], Accuracy: 97.74%\n"
     ]
    }
   ],
   "source": [
    "# Using StepLR:\n",
    "from torch.optim.lr_scheduler import StepLR\n",
    "\n",
    "model = SimpleNN().to(device)\n",
    "criterion = nn.CrossEntropyLoss()\n",
    "optimizer = optim.Adam(model.parameters(), lr=0.001)\n",
    "\n",
    "# StepLR scheduler - reduces the learning rate by gamma every step_size epochs\n",
    "scheduler = StepLR(optimizer, step_size=5, gamma=0.1)\n",
    "\n",
    "# Training loop with scheduler\n",
    "for epoch in range(15):\n",
    "    model.train()\n",
    "    for images, labels in train_loader:\n",
    "        images, labels = images.to(device), labels.to(device)\n",
    "        \n",
    "        optimizer.zero_grad()\n",
    "        outputs = model(images)\n",
    "        loss = criterion(outputs, labels)\n",
    "        loss.backward()\n",
    "        optimizer.step()\n",
    "    \n",
    "    scheduler.step()  # Adjust the learning rate\n",
    "\n",
    "    # Validation step to check the performance\n",
    "    correct = 0\n",
    "    total = 0\n",
    "    model.eval()\n",
    "    with torch.no_grad():\n",
    "        for images, labels in test_loader:\n",
    "            images, labels = images.to(device), labels.to(device)\n",
    "            outputs = model(images)\n",
    "            _, predicted = torch.max(outputs.data, 1)\n",
    "            total += labels.size(0)\n",
    "            correct += (predicted == labels).sum().item()\n",
    "    \n",
    "    accuracy = 100 * correct / total\n",
    "    print(f'Epoch [{epoch+1}/15], Accuracy: {accuracy:.2f}%')"
   ]
  },
  {
   "cell_type": "markdown",
   "metadata": {},
   "source": [
    "## Handling model improvements\n"
   ]
  },
  {
   "cell_type": "markdown",
   "metadata": {},
   "source": [
    "##### **Q24: How do you apply data augmentation techniques to the MNIST dataset?**"
   ]
  },
  {
   "cell_type": "code",
   "execution_count": 65,
   "metadata": {},
   "outputs": [],
   "source": [
    "# Define data augmentation transformations\n",
    "transform = transforms.Compose([\n",
    "    transforms.RandomRotation(10),      # Random rotation between -10 and 10 degrees\n",
    "    transforms.RandomAffine(0, translate=(0.1, 0.1)),  # Random translation\n",
    "    transforms.RandomResizedCrop(28, scale=(0.8, 1.0)),  # Random cropping and resizing\n",
    "    transforms.ToTensor()\n",
    "])\n",
    "\n",
    "# Load the augmented dataset\n",
    "train_dataset = datasets.MNIST(root='../00-src', train=True, download=True, transform=transform)\n",
    "test_dataset = datasets.MNIST(root='../00-src', train=False, download=True, transform=transforms.ToTensor())  # No augmentation for test set\n",
    "\n",
    "train_loader = DataLoader(train_dataset, batch_size=64, shuffle=True)\n",
    "test_loader = DataLoader(test_dataset, batch_size=64, shuffle=False)"
   ]
  },
  {
   "cell_type": "markdown",
   "metadata": {},
   "source": [
    "##### **Q25: How do you fine-tune the MNIST neural network model for better performance?**"
   ]
  },
  {
   "cell_type": "code",
   "execution_count": 68,
   "metadata": {},
   "outputs": [],
   "source": [
    "# Fine-tuning with a reduced learning rate\n",
    "model = SimpleNN().to(device)\n",
    "optimizer = optim.Adam(model.parameters(), lr=0.0001)  # Reduced learning rate\n",
    "criterion = nn.CrossEntropyLoss()\n",
    "\n",
    "# Training the model with fine-tuning\n",
    "def fine_tune_model(model, train_loader, test_loader, criterion, optimizer, epochs=5):\n",
    "    model.train()\n",
    "    for epoch in range(epochs):\n",
    "        for images, labels in train_loader:\n",
    "            images, labels = images.to(device), labels.to(device)\n",
    "            \n",
    "            optimizer.zero_grad()\n",
    "            outputs = model(images)\n",
    "            loss = criterion(outputs, labels)\n",
    "            loss.backward()\n",
    "            optimizer.step()\n",
    "        \n",
    "        # Validation step\n",
    "        correct = 0\n",
    "        total = 0\n",
    "        model.eval()\n",
    "        with torch.no_grad():\n",
    "            for images, labels in test_loader:\n",
    "                images, labels = images.to(device), labels.to(device)\n",
    "                outputs = model(images)\n",
    "                _, predicted = torch.max(outputs.data, 1)\n",
    "                total += labels.size(0)\n",
    "                correct += (predicted == labels).sum().item()\n",
    "        \n",
    "        accuracy = 100 * correct / total\n",
    "        print(f'Epoch [{epoch+1}/{epochs}], Fine-tuned Accuracy: {accuracy:.2f}%')"
   ]
  },
  {
   "cell_type": "code",
   "execution_count": 69,
   "metadata": {},
   "outputs": [
    {
     "name": "stdout",
     "output_type": "stream",
     "text": [
      "Epoch [1/15], Fine-tuned Accuracy: 75.02%\n",
      "Epoch [2/15], Fine-tuned Accuracy: 84.35%\n",
      "Epoch [3/15], Fine-tuned Accuracy: 88.66%\n",
      "Epoch [4/15], Fine-tuned Accuracy: 89.94%\n",
      "Epoch [5/15], Fine-tuned Accuracy: 91.87%\n",
      "Epoch [6/15], Fine-tuned Accuracy: 92.99%\n",
      "Epoch [7/15], Fine-tuned Accuracy: 93.48%\n",
      "Epoch [8/15], Fine-tuned Accuracy: 93.95%\n",
      "Epoch [9/15], Fine-tuned Accuracy: 93.96%\n",
      "Epoch [10/15], Fine-tuned Accuracy: 94.42%\n",
      "Epoch [11/15], Fine-tuned Accuracy: 94.47%\n",
      "Epoch [12/15], Fine-tuned Accuracy: 94.37%\n",
      "Epoch [13/15], Fine-tuned Accuracy: 95.34%\n",
      "Epoch [14/15], Fine-tuned Accuracy: 95.25%\n",
      "Epoch [15/15], Fine-tuned Accuracy: 95.38%\n"
     ]
    }
   ],
   "source": [
    "fine_tune_model(model, train_loader, test_loader, criterion, optimizer, epochs=15)"
   ]
  },
  {
   "cell_type": "markdown",
   "metadata": {},
   "source": [
    "##### **Q26: How do you evaluate the improvements made to the MNIST neural network model?**"
   ]
  },
  {
   "cell_type": "code",
   "execution_count": 70,
   "metadata": {},
   "outputs": [],
   "source": [
    "# Evaluate the model\n",
    "def evaluate_model(model, test_loader):\n",
    "    model.eval()\n",
    "    correct = 0\n",
    "    total = 0\n",
    "    all_labels = []\n",
    "    all_preds = []\n",
    "    \n",
    "    with torch.no_grad():\n",
    "        for images, labels in test_loader:\n",
    "            images, labels = images.to(device), labels.to(device)\n",
    "            outputs = model(images)\n",
    "            _, predicted = torch.max(outputs.data, 1)\n",
    "            total += labels.size(0)\n",
    "            correct += (predicted == labels).sum().item()\n",
    "            all_labels.extend(labels.cpu().numpy())\n",
    "            all_preds.extend(predicted.cpu().numpy())\n",
    "    \n",
    "    accuracy = 100 * correct / total\n",
    "    print(f'Accuracy: {accuracy:.2f}%')\n",
    "    \n",
    "    # Confusion Matrix\n",
    "    cm = confusion_matrix(all_labels, all_preds)\n",
    "    plt.figure(figsize=(10, 8))\n",
    "    sns.heatmap(cm, annot=True, fmt=\"d\", cmap=\"Blues\", xticklabels=np.arange(10), yticklabels=np.arange(10))\n",
    "    plt.xlabel('Predicted')\n",
    "    plt.ylabel('True')\n",
    "    plt.title('Confusion Matrix')\n",
    "    plt.show()"
   ]
  },
  {
   "cell_type": "code",
   "execution_count": 71,
   "metadata": {},
   "outputs": [
    {
     "name": "stdout",
     "output_type": "stream",
     "text": [
      "Accuracy: 95.38%\n"
     ]
    },
    {
     "data": {
      "image/png": "[encoded data removed]",
      "text/plain": [
       "<Figure size 1000x800 with 2 Axes>"
      ]
     },
     "metadata": {},
     "output_type": "display_data"
    }
   ],
   "source": [
    "# Evaluate the fine-tuned model\n",
    "evaluate_model(model, test_loader)"
   ]
  },
  {
   "cell_type": "markdown",
   "metadata": {},
   "source": [
    "## Conclusion\n",
    "\n",
    "This `05_mnist_classification` notebook provided a comprehensive guide to building and training a neural network for digit classification using the MNIST dataset. \n",
    "\n",
    "It covers key steps, including setting up the environment, loading and preprocessing the data, and constructing a neural network model. The training process was detailed, along with methods for evaluating the model’s performance and implementing improvements through hyperparameter tuning and regularization techniques."
   ]
  },
  {
   "cell_type": "markdown",
   "metadata": {},
   "source": [
    "## Further exercises\n"
   ]
  },
  {
   "cell_type": "markdown",
   "metadata": {},
   "source": [
    "##### **Q27: How do you experiment with different neural network architectures for MNIST digit classification?**"
   ]
  },
  {
   "cell_type": "code",
   "execution_count": 72,
   "metadata": {},
   "outputs": [],
   "source": [
    "# Simple feedforward neural network:\n",
    "class SimpleNN(nn.Module):\n",
    "    def __init__(self):\n",
    "        super(SimpleNN, self).__init__()\n",
    "        self.fc1 = nn.Linear(28*28, 128)\n",
    "        self.fc2 = nn.Linear(128, 64)\n",
    "        self.fc3 = nn.Linear(64, 10)\n",
    "    \n",
    "    def forward(self, x):\n",
    "        x = x.view(-1, 28*28)\n",
    "        x = torch.relu(self.fc1(x))\n",
    "        x = torch.relu(self.fc2(x))\n",
    "        x = self.fc3(x)\n",
    "        return x\n",
    "\n",
    "# Convolutional neural network (CNN):\n",
    "class SimpleCNN(nn.Module):\n",
    "    def __init__(self):\n",
    "        super(SimpleCNN, self).__init__()\n",
    "        self.conv1 = nn.Conv2d(1, 32, kernel_size=3, stride=1, padding=1)\n",
    "        self.conv2 = nn.Conv2d(32, 64, kernel_size=3, stride=1, padding=1)\n",
    "        self.fc1 = nn.Linear(64*7*7, 128)\n",
    "        self.fc2 = nn.Linear(128, 10)\n",
    "    \n",
    "    def forward(self, x):\n",
    "        x = torch.relu(self.conv1(x))\n",
    "        x = torch.max_pool2d(x, 2)\n",
    "        x = torch.relu(self.conv2(x))\n",
    "        x = torch.max_pool2d(x, 2)\n",
    "        x = x.view(-1, 64*7*7)\n",
    "        x = torch.relu(self.fc1(x))\n",
    "        x = self.fc2(x)\n",
    "        return x\n",
    "    \n",
    "# Deep(er) network:\n",
    "class DeeperNN(nn.Module):\n",
    "    def __init__(self):\n",
    "        super(DeeperNN, self).__init__()\n",
    "        self.fc1 = nn.Linear(28*28, 512)\n",
    "        self.fc2 = nn.Linear(512, 256)\n",
    "        self.fc3 = nn.Linear(256, 128)\n",
    "        self.fc4 = nn.Linear(128, 64)\n",
    "        self.fc5 = nn.Linear(64, 10)\n",
    "    \n",
    "    def forward(self, x):\n",
    "        x = x.view(-1, 28*28)\n",
    "        x = torch.relu(self.fc1(x))\n",
    "        x = torch.relu(self.fc2(x))\n",
    "        x = torch.relu(self.fc3(x))\n",
    "        x = torch.relu(self.fc4(x))\n",
    "        x = self.fc5(x)\n",
    "        return x"
   ]
  },
  {
   "cell_type": "markdown",
   "metadata": {},
   "source": [
    "##### **Q28: How do you apply data augmentation techniques to improve model robustness?**"
   ]
  },
  {
   "cell_type": "code",
   "execution_count": 73,
   "metadata": {},
   "outputs": [],
   "source": [
    "# Define advanced data augmentation transformations\n",
    "transform = transforms.Compose([\n",
    "    transforms.RandomRotation(15),  # Rotate images by 15 degrees\n",
    "    transforms.RandomAffine(0, translate=(0.2, 0.2)),  # Random translation\n",
    "    transforms.RandomResizedCrop(28, scale=(0.7, 1.0)),  # Random resized cropping\n",
    "    transforms.ColorJitter(brightness=0.2, contrast=0.2, saturation=0.2),  # Color jitter for variation\n",
    "    transforms.RandomHorizontalFlip(),  # Randomly flip images horizontally\n",
    "    transforms.ToTensor()\n",
    "])\n",
    "\n",
    "# Load the augmented dataset\n",
    "train_dataset = datasets.MNIST(root='../00-src', train=True, download=True, transform=transform)\n",
    "train_loader = DataLoader(train_dataset, batch_size=64, shuffle=True)\n",
    "\n",
    "# Again, the test set should not be augmented\n",
    "test_dataset = datasets.MNIST(root='../00-src', train=False, download=True, transform=transforms.ToTensor())\n",
    "test_loader = DataLoader(test_dataset, batch_size=64, shuffle=False)"
   ]
  },
  {
   "cell_type": "markdown",
   "metadata": {},
   "source": [
    "##### **Q29: How do you test the MNIST neural network model on different digit datasets?**"
   ]
  },
  {
   "cell_type": "code",
   "execution_count": 74,
   "metadata": {},
   "outputs": [
    {
     "name": "stdout",
     "output_type": "stream",
     "text": [
      "Downloading http://fashion-mnist.s3-website.eu-central-1.amazonaws.com/train-images-idx3-ubyte.gz\n",
      "Downloading http://fashion-mnist.s3-website.eu-central-1.amazonaws.com/train-images-idx3-ubyte.gz to ../00-src\\FashionMNIST\\raw\\train-images-idx3-ubyte.gz\n"
     ]
    },
    {
     "name": "stderr",
     "output_type": "stream",
     "text": [
      "100%|██████████| 26421880/26421880 [00:01<00:00, 16248721.21it/s]\n"
     ]
    },
    {
     "name": "stdout",
     "output_type": "stream",
     "text": [
      "Extracting ../00-src\\FashionMNIST\\raw\\train-images-idx3-ubyte.gz to ../00-src\\FashionMNIST\\raw\n",
      "\n",
      "Downloading http://fashion-mnist.s3-website.eu-central-1.amazonaws.com/train-labels-idx1-ubyte.gz\n",
      "Downloading http://fashion-mnist.s3-website.eu-central-1.amazonaws.com/train-labels-idx1-ubyte.gz to ../00-src\\FashionMNIST\\raw\\train-labels-idx1-ubyte.gz\n"
     ]
    },
    {
     "name": "stderr",
     "output_type": "stream",
     "text": [
      "100%|██████████| 29515/29515 [00:00<00:00, 535266.73it/s]\n"
     ]
    },
    {
     "name": "stdout",
     "output_type": "stream",
     "text": [
      "Extracting ../00-src\\FashionMNIST\\raw\\train-labels-idx1-ubyte.gz to ../00-src\\FashionMNIST\\raw\n",
      "\n",
      "Downloading http://fashion-mnist.s3-website.eu-central-1.amazonaws.com/t10k-images-idx3-ubyte.gz\n",
      "Downloading http://fashion-mnist.s3-website.eu-central-1.amazonaws.com/t10k-images-idx3-ubyte.gz to ../00-src\\FashionMNIST\\raw\\t10k-images-idx3-ubyte.gz\n"
     ]
    },
    {
     "name": "stderr",
     "output_type": "stream",
     "text": [
      "100%|██████████| 4422102/4422102 [00:00<00:00, 10039502.81it/s]\n"
     ]
    },
    {
     "name": "stdout",
     "output_type": "stream",
     "text": [
      "Extracting ../00-src\\FashionMNIST\\raw\\t10k-images-idx3-ubyte.gz to ../00-src\\FashionMNIST\\raw\n",
      "\n",
      "Downloading http://fashion-mnist.s3-website.eu-central-1.amazonaws.com/t10k-labels-idx1-ubyte.gz\n",
      "Downloading http://fashion-mnist.s3-website.eu-central-1.amazonaws.com/t10k-labels-idx1-ubyte.gz to ../00-src\\FashionMNIST\\raw\\t10k-labels-idx1-ubyte.gz\n"
     ]
    },
    {
     "name": "stderr",
     "output_type": "stream",
     "text": [
      "100%|██████████| 5148/5148 [00:00<00:00, 5137348.80it/s]"
     ]
    },
    {
     "name": "stdout",
     "output_type": "stream",
     "text": [
      "Extracting ../00-src\\FashionMNIST\\raw\\t10k-labels-idx1-ubyte.gz to ../00-src\\FashionMNIST\\raw\n",
      "\n"
     ]
    },
    {
     "name": "stderr",
     "output_type": "stream",
     "text": [
      "\n"
     ]
    }
   ],
   "source": [
    "# Load the Fashion-MNIST dataset\n",
    "fashion_mnist_test_dataset = datasets.FashionMNIST(root='../00-src', train=False, download=True, transform=transforms.ToTensor())\n",
    "fashion_mnist_test_loader = DataLoader(fashion_mnist_test_dataset, batch_size=64, shuffle=False)"
   ]
  },
  {
   "cell_type": "code",
   "execution_count": 75,
   "metadata": {},
   "outputs": [
    {
     "name": "stdout",
     "output_type": "stream",
     "text": [
      "Accuracy: 3.20%\n"
     ]
    },
    {
     "data": {
      "image/png": "[encoded data removed]",
      "text/plain": [
       "<Figure size 1000x800 with 2 Axes>"
      ]
     },
     "metadata": {},
     "output_type": "display_data"
    }
   ],
   "source": [
    "# Evaluate the MNIST-trained model on Fashion-MNIST\n",
    "evaluate_model(model, fashion_mnist_test_loader)"
   ]
  },
  {
   "cell_type": "code",
   "execution_count": 76,
   "metadata": {},
   "outputs": [
    {
     "name": "stdout",
     "output_type": "stream",
     "text": [
      "Downloading https://biometrics.nist.gov/cs_links/EMNIST/gzip.zip to ../00-src\\EMNIST\\raw\\gzip.zip\n"
     ]
    },
    {
     "name": "stderr",
     "output_type": "stream",
     "text": [
      "100%|██████████| 561753746/561753746 [00:14<00:00, 39793734.75it/s]\n"
     ]
    },
    {
     "name": "stdout",
     "output_type": "stream",
     "text": [
      "Extracting ../00-src\\EMNIST\\raw\\gzip.zip to ../00-src\\EMNIST\\raw\n"
     ]
    }
   ],
   "source": [
    "# Transfer learning with the EMNIST dataset\n",
    "emnist_train_dataset = datasets.EMNIST(root='../00-src', split='digits', train=True, download=True, transform=transform)\n",
    "emnist_train_loader = DataLoader(emnist_train_dataset, batch_size=64, shuffle=True)"
   ]
  },
  {
   "cell_type": "code",
   "execution_count": 77,
   "metadata": {},
   "outputs": [
    {
     "name": "stdout",
     "output_type": "stream",
     "text": [
      "Epoch [1/5], Fine-tuned Accuracy: 26.37%\n",
      "Epoch [2/5], Fine-tuned Accuracy: 23.36%\n",
      "Epoch [3/5], Fine-tuned Accuracy: 14.12%\n",
      "Epoch [4/5], Fine-tuned Accuracy: 13.30%\n",
      "Epoch [5/5], Fine-tuned Accuracy: 11.61%\n"
     ]
    }
   ],
   "source": [
    "# Fine-tune the model on EMNIST\n",
    "fine_tune_model(model, emnist_train_loader, test_loader, criterion, optimizer, epochs=5)"
   ]
  },
  {
   "cell_type": "markdown",
   "metadata": {},
   "source": [
    "##### **Q30: How do you integrate more advanced regularization methods into the MNIST neural network model?**"
   ]
  },
  {
   "cell_type": "code",
   "execution_count": 78,
   "metadata": {},
   "outputs": [],
   "source": [
    "# Batch normalization:\n",
    "class AdvancedNN(nn.Module):\n",
    "    def __init__(self):\n",
    "        super(AdvancedNN, self).__init__()\n",
    "        self.fc1 = nn.Linear(28*28, 128)\n",
    "        self.bn1 = nn.BatchNorm1d(128)\n",
    "        self.fc2 = nn.Linear(128, 64)\n",
    "        self.bn2 = nn.BatchNorm1d(64)\n",
    "        self.fc3 = nn.Linear(64, 10)\n",
    "    \n",
    "    def forward(self, x):\n",
    "        x = x.view(-1, 28*28)\n",
    "        x = torch.relu(self.bn1(self.fc1(x)))\n",
    "        x = torch.relu(self.bn2(self.fc2(x)))\n",
    "        x = self.fc3(x)\n",
    "        return x"
   ]
  },
  {
   "cell_type": "markdown",
   "metadata": {},
   "source": [
    "##### **Q31: How do you deploy the MNIST neural network model for real-time digit recognition?**"
   ]
  },
  {
   "cell_type": "code",
   "execution_count": 79,
   "metadata": {},
   "outputs": [],
   "source": [
    "# Save the model\n",
    "torch.save(model.state_dict(), \"mnist_model.pth\")"
   ]
  },
  {
   "cell_type": "code",
   "execution_count": 81,
   "metadata": {},
   "outputs": [
    {
     "name": "stderr",
     "output_type": "stream",
     "text": [
      "C:\\Users\\fellm\\AppData\\Local\\Temp\\ipykernel_16832\\820855838.py:18: FutureWarning: You are using `torch.load` with `weights_only=False` (the current default value), which uses the default pickle module implicitly. It is possible to construct malicious pickle data which will execute arbitrary code during unpickling (See https://github.com/pytorch/pytorch/blob/main/SECURITY.md#untrusted-models for more details). In a future release, the default value for `weights_only` will be flipped to `True`. This limits the functions that could be executed during unpickling. Arbitrary objects will no longer be allowed to be loaded via this mode unless they are explicitly allowlisted by the user via `torch.serialization.add_safe_globals`. We recommend you start setting `weights_only=True` for any use case where you don't have full control of the loaded file. Please open an issue on GitHub for any issues related to this experimental feature.\n",
      "  model.load_state_dict(torch.load(\"mnist_model.pth\"))\n"
     ]
    }
   ],
   "source": [
    "# Define the original SimpleNN model architecture\n",
    "class SimpleNN(nn.Module):\n",
    "    def __init__(self):\n",
    "        super(SimpleNN, self).__init__()\n",
    "        self.fc1 = nn.Linear(28*28, 128)\n",
    "        self.fc2 = nn.Linear(128, 64)\n",
    "        self.fc3 = nn.Linear(64, 10)\n",
    "    \n",
    "    def forward(self, x):\n",
    "        x = x.view(-1, 28*28)\n",
    "        x = torch.relu(self.fc1(x))\n",
    "        x = torch.relu(self.fc2(x))\n",
    "        x = self.fc3(x)\n",
    "        return x\n",
    "\n",
    "# Load the model and its state_dict\n",
    "model = SimpleNN()\n",
    "model.load_state_dict(torch.load(\"mnist_model.pth\"))\n",
    "model.eval()\n",
    "\n",
    "# Save the model in TorchScript format for deployment\n",
    "scripted_model = torch.jit.script(model)\n",
    "scripted_model.save(\"mnist_scripted_model.pt\")\n",
    "\n",
    "# and deploy to TorchSave"
   ]
  },
  {
   "cell_type": "code",
   "execution_count": 82,
   "metadata": {},
   "outputs": [
    {
     "name": "stdout",
     "output_type": "stream",
     "text": [
      "All folders in 00-src and the specified models have been deleted.\n"
     ]
    }
   ],
   "source": [
    "# Cleaning things up\n",
    "import shutil\n",
    "\n",
    "src_dir = '../00-src'\n",
    "\n",
    "# Delete all folders and their contents in the 00-src directory\n",
    "for root, dirs, files in os.walk(src_dir, topdown=False):\n",
    "    for name in dirs:\n",
    "        folder_path = os.path.join(root, name)\n",
    "        shutil.rmtree(folder_path)\n",
    "\n",
    "# Delete the saved models\n",
    "model_files = ['mnist_model.pth', 'mnist_scripted_model.pt']\n",
    "for model_file in model_files:\n",
    "    model_path = os.path.join('.', model_file)\n",
    "    if os.path.exists(model_path):\n",
    "        os.remove(model_path)\n",
    "\n",
    "print(\"All folders in 00-src and the specified models have been deleted.\")"
   ]
  }
 ],
 "metadata": {
  "kernelspec": {
   "display_name": "Python 3",
   "language": "python",
   "name": "python3"
  },
  "language_info": {
   "codemirror_mode": {
    "name": "ipython",
    "version": 3
   },
   "file_extension": ".py",
   "mimetype": "text/x-python",
   "name": "python",
   "nbconvert_exporter": "python",
   "pygments_lexer": "ipython3",
   "version": "3.12.4"
  }
 },
 "nbformat": 4,
 "nbformat_minor": 2
}
