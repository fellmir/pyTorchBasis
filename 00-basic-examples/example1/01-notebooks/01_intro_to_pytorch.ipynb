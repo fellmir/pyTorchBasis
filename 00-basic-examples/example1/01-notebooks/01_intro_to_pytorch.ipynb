{
 "cells": [
  {
   "cell_type": "markdown",
   "metadata": {},
   "source": [
    "# Introduction to PyTorch\n",
    "\n",
    "Welcome to the `01_intro_to_pytorch` notebook. This is part of a portfolio designed to showcase foundational PyTorch concepts and techniques that will be utilized in later projects. \n",
    "\n",
    "Here, I cover essential topics such as setting up the environment, working with tensors, leveraging GPU acceleration, and implementing automatic differentiation. Through various exercises, this notebook will show how to create and manipulate tensors, build and train simple neural networks, and evaluate model performance. \n",
    "\n",
    "This notebook lays the groundwork for more advanced PyTorch applications in subsequent projects.\n",
    "\n",
    "Also, keep in mind that these notebooks following a \"question-and-answer\" format for active learning training purposes. So instead of just having explanatory code I'd rather go and and try to actively recall (or look up) the answer to a problem I face, which could as simple as loading libraries, to more complex things such as how to fine-tune models."
   ]
  },
  {
   "cell_type": "markdown",
   "metadata": {},
   "source": [
    "## What is PyTorch?\n",
    "\n",
    "PyTorch is an open-source deep learning framework developed by Facebook's AI Research lab. It provides a flexible and intuitive platform for building and training neural networks. \n",
    "PyTorch's key features include dynamic computation graphs, which allow for more efficient model building and debugging, and support for GPU acceleration, enabling faster computations. \n",
    "\n",
    "With its extensive library of tools and utilities, PyTorch is widely used for both research and production in machine learning and artificial intelligence projects. These projects include:\n",
    "\n",
    "- **Natural Language Processing (NLP)**: Building models for text classification, sentiment analysis, and machine translation.\n",
    "- **Computer vision**: Implementing image classification, object detection, and image generation tasks.\n",
    "- **Reinforcement learning**: Developing algorithms for game playing and decision-making processes.\n",
    "- **Generative Adversarial Networks (GANs)**: Creating realistic images, videos, and other data generation tasks.\n",
    "- **Time series analysis**: Forecasting and anomaly detection in sequential data.\n",
    "- **Speech recognition**: Building models for converting speech to text and vice versa.\n",
    "- **Robotics**: Developing intelligent control systems for robotic movements and actions.\n",
    "- **Healthcare**: Predictive modeling and medical image analysis for diagnostics and treatment planning."
   ]
  },
  {
   "cell_type": "markdown",
   "metadata": {},
   "source": [
    "## Setting up the environment"
   ]
  },
  {
   "cell_type": "markdown",
   "metadata": {},
   "source": [
    "**Q1: How do you install the base PyTorch libraries using a Jupyter notebook?**"
   ]
  },
  {
   "cell_type": "markdown",
   "metadata": {},
   "source": [
    "**Q2: How do you import the base PyTorch libraries for later use?**"
   ]
  },
  {
   "cell_type": "markdown",
   "metadata": {},
   "source": [
    "## PyTorch basics"
   ]
  },
  {
   "cell_type": "markdown",
   "metadata": {},
   "source": [
    "**Q3: How do you create a tensor in PyTorch? Provide examples of different ways to create tensors.**"
   ]
  },
  {
   "cell_type": "markdown",
   "metadata": {},
   "source": [
    "**Q4: How do you perform basic tensor operations such as addition and multiplication?**"
   ]
  },
  {
   "cell_type": "markdown",
   "metadata": {},
   "source": [
    "**Q5: How do you slice and index tensors in PyTorch?**"
   ]
  },
  {
   "cell_type": "markdown",
   "metadata": {},
   "source": [
    "**Q6: How do you change the shape of a tensor in PyTorch?**"
   ]
  },
  {
   "cell_type": "markdown",
   "metadata": {},
   "source": [
    "**Q7: How do you concatenate two tensors in PyTorch?**"
   ]
  },
  {
   "cell_type": "markdown",
   "metadata": {},
   "source": [
    "**Q8: How do you convert a NumPy array to a PyTorch tensor and vice versa?**"
   ]
  },
  {
   "cell_type": "markdown",
   "metadata": {},
   "source": [
    "**Q9: How do you get the size and shape of a tensor in PyTorch?**"
   ]
  },
  {
   "cell_type": "markdown",
   "metadata": {},
   "source": [
    "**Q10: How do you use advanced indexing techniques in PyTorch?**"
   ]
  },
  {
   "cell_type": "markdown",
   "metadata": {},
   "source": [
    "## GPU acceleration"
   ]
  },
  {
   "cell_type": "markdown",
   "metadata": {},
   "source": [
    "**Q11: How do you check if a GPU is available in PyTorch?**"
   ]
  },
  {
   "cell_type": "markdown",
   "metadata": {},
   "source": [
    "**Q12: How do you move tensors to GPU and perform operations on them?**"
   ]
  },
  {
   "cell_type": "markdown",
   "metadata": {},
   "source": [
    "**Q13: How do you measure the time taken for tensor operations on GPU versus CPU?**"
   ]
  },
  {
   "cell_type": "markdown",
   "metadata": {},
   "source": [
    "**Q14: How do you handle tensors when working with multiple GPUs?**"
   ]
  },
  {
   "cell_type": "markdown",
   "metadata": {},
   "source": [
    "## Automatic differentiation"
   ]
  },
  {
   "cell_type": "markdown",
   "metadata": {},
   "source": [
    "**Q15: How do you enable automatic differentiation in PyTorch and compute gradients?**"
   ]
  },
  {
   "cell_type": "markdown",
   "metadata": {},
   "source": [
    "**Q16: How do you stop PyTorch from tracking history on tensors?**"
   ]
  },
  {
   "cell_type": "markdown",
   "metadata": {},
   "source": [
    "**Q17: How do you manually zero the gradients in PyTorch?**"
   ]
  },
  {
   "cell_type": "markdown",
   "metadata": {},
   "source": [
    "**Q18: How do you use the `backward()` method for computing gradients?**"
   ]
  },
  {
   "cell_type": "markdown",
   "metadata": {},
   "source": [
    "## Building a simple neural network"
   ]
  },
  {
   "cell_type": "markdown",
   "metadata": {},
   "source": [
    "**Q19: How do you define a simple neural network using `nn.Module` in PyTorch?**"
   ]
  },
  {
   "cell_type": "markdown",
   "metadata": {},
   "source": [
    "**Q20: How do you initialize the weights and biases of a neural network?**"
   ]
  },
  {
   "cell_type": "markdown",
   "metadata": {},
   "source": [
    "**Q21: How do you add multiple layers to a neural network?**"
   ]
  },
  {
   "cell_type": "markdown",
   "metadata": {},
   "source": [
    "## Loss function and optimizer"
   ]
  },
  {
   "cell_type": "markdown",
   "metadata": {},
   "source": [
    "**Q22: How do you define a loss function and an optimizer for your neural network?**"
   ]
  },
  {
   "cell_type": "markdown",
   "metadata": {},
   "source": [
    "**Q23: How do you use different types of optimizers in PyTorch?**"
   ]
  },
  {
   "cell_type": "markdown",
   "metadata": {},
   "source": [
    "**Q24: How do you adjust the learning rate during training?**"
   ]
  },
  {
   "cell_type": "markdown",
   "metadata": {},
   "source": [
    "## Training the model"
   ]
  },
  {
   "cell_type": "markdown",
   "metadata": {},
   "source": [
    "**Q25: How do you create a training loop to train your neural network in PyTorch?**"
   ]
  },
  {
   "cell_type": "markdown",
   "metadata": {},
   "source": [
    "## Evaluation and inference"
   ]
  },
  {
   "cell_type": "markdown",
   "metadata": {},
   "source": [
    "**Q26: How do you evaluate your model's performance and make predictions on new data?**"
   ]
  },
  {
   "cell_type": "markdown",
   "metadata": {},
   "source": [
    "**Q27: How do you calculate the accuracy of your model?**"
   ]
  },
  {
   "cell_type": "markdown",
   "metadata": {},
   "source": [
    "**Q28: How do you handle model evaluation for regression tasks?**"
   ]
  },
  {
   "cell_type": "markdown",
   "metadata": {},
   "source": [
    "**Q29: How do you handle model evaluation for classification tasks?**"
   ]
  },
  {
   "cell_type": "markdown",
   "metadata": {},
   "source": [
    "**Q30: How do you use confusion matrices to evaluate model performance?**"
   ]
  },
  {
   "cell_type": "markdown",
   "metadata": {},
   "source": [
    "## Saving and loading models"
   ]
  },
  {
   "cell_type": "markdown",
   "metadata": {},
   "source": [
    "**Q31: How do you save and load a PyTorch model?**"
   ]
  },
  {
   "cell_type": "markdown",
   "metadata": {},
   "source": [
    "**Q32: How do you save and load model checkpoints during training?**"
   ]
  },
  {
   "cell_type": "markdown",
   "metadata": {},
   "source": [
    "## Custom datasets and DataLoaders"
   ]
  },
  {
   "cell_type": "markdown",
   "metadata": {},
   "source": [
    "**Q33: How do you use PyTorch's DataLoader to load a dataset in batches?**"
   ]
  },
  {
   "cell_type": "markdown",
   "metadata": {},
   "source": [
    "**Q34: How do you implement a custom dataset in PyTorch?**"
   ]
  },
  {
   "cell_type": "markdown",
   "metadata": {},
   "source": [
    "**Q35: How do you apply data transformations using `torchvision.transforms`?**"
   ]
  },
  {
   "cell_type": "markdown",
   "metadata": {},
   "source": [
    "**Q36: How do you handle data augmentation in PyTorch?**"
   ]
  },
  {
   "cell_type": "markdown",
   "metadata": {},
   "source": [
    "## Conclusion"
   ]
  },
  {
   "cell_type": "markdown",
   "metadata": {},
   "source": [
    "## Further exercises"
   ]
  },
  {
   "cell_type": "markdown",
   "metadata": {},
   "source": [
    "**Q37: How do you create a tensor of shape (2, 3) filled with zeros and then with ones?**"
   ]
  },
  {
   "cell_type": "markdown",
   "metadata": {},
   "source": [
    "**Q38: How do you train a neural network to predict the output of a simple linear function?**"
   ]
  },
  {
   "cell_type": "markdown",
   "metadata": {},
   "source": [
    "**Q39: How do you experiment with different optimizers and learning rates to see their effect on training?**"
   ]
  },
  {
   "cell_type": "markdown",
   "metadata": {},
   "source": [
    "**Q40: How do you visualize the training loss and accuracy over epochs in PyTorch?**"
   ]
  },
  {
   "cell_type": "markdown",
   "metadata": {},
   "source": [
    "**Q41: How do you implement dropout regularization in a neural network using PyTorch?**"
   ]
  }
 ],
 "metadata": {
  "kernelspec": {
   "display_name": "Python 3",
   "language": "python",
   "name": "python3"
  },
  "language_info": {
   "codemirror_mode": {
    "name": "ipython",
    "version": 3
   },
   "file_extension": ".py",
   "mimetype": "text/x-python",
   "name": "python",
   "nbconvert_exporter": "python",
   "pygments_lexer": "ipython3",
   "version": "3.11.2"
  }
 },
 "nbformat": 4,
 "nbformat_minor": 2
}
