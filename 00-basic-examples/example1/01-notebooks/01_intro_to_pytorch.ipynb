{
 "cells": [
  {
   "cell_type": "markdown",
   "metadata": {},
   "source": [
    "# Introduction to PyTorch\n",
    "\n",
    "Welcome to the `01_intro_to_pytorch` notebook. This is part of a portfolio designed to showcase foundational PyTorch concepts and techniques that will be utilized in later projects. \n",
    "\n",
    "Here, I cover essential topics such as setting up the environment, working with tensors, leveraging GPU acceleration, and implementing automatic differentiation. Through various exercises, this notebook will show how to create and manipulate tensors, build and train simple neural networks, and evaluate model performance. \n",
    "\n",
    "This notebook lays the groundwork for more advanced PyTorch applications in subsequent projects.\n",
    "\n",
    "Also, keep in mind that these notebooks following a \"question-and-answer\" format for active learning training purposes. So instead of just having explanatory code I'd rather go and and try to actively recall (or look up) the answer to a problem I face, which could as simple as loading libraries, to more complex things such as how to fine-tune models."
   ]
  },
  {
   "cell_type": "markdown",
   "metadata": {},
   "source": [
    "## What is PyTorch?\n",
    "\n",
    "PyTorch is an open-source deep learning framework developed by Facebook's AI Research lab. It provides a flexible and intuitive platform for building and training neural networks. \n",
    "PyTorch's key features include dynamic computation graphs, which allow for more efficient model building and debugging, and support for GPU acceleration, enabling faster computations. \n",
    "\n",
    "With its extensive library of tools and utilities, PyTorch is widely used for both research and production in machine learning and artificial intelligence projects. These projects include:\n",
    "\n",
    "- **Natural Language Processing (NLP)**: Building models for text classification, sentiment analysis, and machine translation.\n",
    "- **Computer vision**: Implementing image classification, object detection, and image generation tasks.\n",
    "- **Reinforcement learning**: Developing algorithms for game playing and decision-making processes.\n",
    "- **Generative Adversarial Networks (GANs)**: Creating realistic images, videos, and other data generation tasks.\n",
    "- **Time series analysis**: Forecasting and anomaly detection in sequential data.\n",
    "- **Speech recognition**: Building models for converting speech to text and vice versa.\n",
    "- **Robotics**: Developing intelligent control systems for robotic movements and actions.\n",
    "- **Healthcare**: Predictive modeling and medical image analysis for diagnostics and treatment planning."
   ]
  },
  {
   "cell_type": "markdown",
   "metadata": {},
   "source": [
    "## Setting up the environment"
   ]
  },
  {
   "cell_type": "markdown",
   "metadata": {},
   "source": [
    "##### **Q1: How do you install the base PyTorch libraries using a Jupyter notebook?**"
   ]
  },
  {
   "cell_type": "code",
   "execution_count": 1,
   "metadata": {},
   "outputs": [
    {
     "name": "stdout",
     "output_type": "stream",
     "text": [
      "Defaulting to user installation because normal site-packages is not writeable\n",
      "Collecting torch\n",
      "  Downloading torch-2.3.1-cp311-cp311-win_amd64.whl (159.8 MB)\n",
      "     -------------------------------------- 159.8/159.8 MB 2.0 MB/s eta 0:00:00\n",
      "Collecting torchvision\n",
      "  Downloading torchvision-0.18.1-cp311-cp311-win_amd64.whl (1.2 MB)\n",
      "     ---------------------------------------- 1.2/1.2 MB 2.5 MB/s eta 0:00:00\n",
      "Collecting torchaudio\n",
      "  Downloading torchaudio-2.3.1-cp311-cp311-win_amd64.whl (2.4 MB)\n",
      "     ---------------------------------------- 2.4/2.4 MB 2.3 MB/s eta 0:00:00\n",
      "Requirement already satisfied: filelock in c:\\users\\fellm\\appdata\\roaming\\python\\python311\\site-packages (from torch) (3.15.4)\n",
      "Collecting typing-extensions>=4.8.0\n",
      "  Downloading typing_extensions-4.12.2-py3-none-any.whl (37 kB)\n",
      "Collecting sympy\n",
      "  Downloading sympy-1.13.0-py3-none-any.whl (6.2 MB)\n",
      "     ---------------------------------------- 6.2/6.2 MB 2.1 MB/s eta 0:00:00\n",
      "Collecting networkx\n",
      "  Downloading networkx-3.3-py3-none-any.whl (1.7 MB)\n",
      "     ---------------------------------------- 1.7/1.7 MB 1.5 MB/s eta 0:00:00\n",
      "Requirement already satisfied: jinja2 in c:\\users\\fellm\\appdata\\roaming\\python\\python311\\site-packages (from torch) (3.1.2)\n",
      "Requirement already satisfied: fsspec in c:\\users\\fellm\\appdata\\roaming\\python\\python311\\site-packages (from torch) (2024.6.0)\n",
      "Collecting mkl<=2021.4.0,>=2021.1.1\n",
      "  Downloading mkl-2021.4.0-py2.py3-none-win_amd64.whl (228.5 MB)\n",
      "     -------------------------------------- 228.5/228.5 MB 1.8 MB/s eta 0:00:00\n",
      "Requirement already satisfied: numpy in c:\\users\\fellm\\appdata\\roaming\\python\\python311\\site-packages (from torchvision) (1.23.4)\n",
      "Requirement already satisfied: pillow!=8.3.*,>=5.3.0 in c:\\users\\fellm\\appdata\\roaming\\python\\python311\\site-packages (from torchvision) (9.3.0)\n",
      "Collecting intel-openmp==2021.*\n",
      "  Downloading intel_openmp-2021.4.0-py2.py3-none-win_amd64.whl (3.5 MB)\n",
      "     ---------------------------------------- 3.5/3.5 MB 2.2 MB/s eta 0:00:00\n",
      "Collecting tbb==2021.*\n",
      "  Downloading tbb-2021.13.0-py3-none-win_amd64.whl (286 kB)\n",
      "     -------------------------------------- 286.9/286.9 kB 2.0 MB/s eta 0:00:00\n",
      "Requirement already satisfied: MarkupSafe>=2.0 in c:\\users\\fellm\\appdata\\roaming\\python\\python311\\site-packages (from jinja2->torch) (2.1.2)\n",
      "Collecting mpmath<1.4,>=1.1.0\n",
      "  Downloading mpmath-1.3.0-py3-none-any.whl (536 kB)\n",
      "     -------------------------------------- 536.2/536.2 kB 2.8 MB/s eta 0:00:00\n",
      "Installing collected packages: tbb, mpmath, intel-openmp, typing-extensions, sympy, networkx, mkl, torch, torchvision, torchaudio\n",
      "  Attempting uninstall: typing-extensions\n",
      "    Found existing installation: typing_extensions 4.5.0\n",
      "    Uninstalling typing_extensions-4.5.0:\n",
      "      Successfully uninstalled typing_extensions-4.5.0\n",
      "Successfully installed intel-openmp-2021.4.0 mkl-2021.4.0 mpmath-1.3.0 networkx-3.3 sympy-1.13.0 tbb-2021.13.0 torch-2.3.1 torchaudio-2.3.1 torchvision-0.18.1 typing-extensions-4.12.2\n"
     ]
    },
    {
     "name": "stderr",
     "output_type": "stream",
     "text": [
      "\n",
      "[notice] A new release of pip available: 22.3.1 -> 24.1.1\n",
      "[notice] To update, run: python.exe -m pip install --upgrade pip\n"
     ]
    }
   ],
   "source": [
    "!pip install torch torchvision torchaudio"
   ]
  },
  {
   "cell_type": "markdown",
   "metadata": {},
   "source": [
    "##### **Q2: How do you import the base PyTorch libraries for later use?**"
   ]
  },
  {
   "cell_type": "code",
   "execution_count": 2,
   "metadata": {},
   "outputs": [
    {
     "name": "stdout",
     "output_type": "stream",
     "text": [
      "2.3.1+cpu\n"
     ]
    }
   ],
   "source": [
    "import torch\n",
    "\n",
    "print(torch.__version__)"
   ]
  },
  {
   "cell_type": "markdown",
   "metadata": {},
   "source": [
    "## PyTorch basics"
   ]
  },
  {
   "cell_type": "markdown",
   "metadata": {},
   "source": [
    "##### **Q3: How do you create a tensor in PyTorch? Provide examples of different ways to create tensors.**"
   ]
  },
  {
   "cell_type": "code",
   "execution_count": 3,
   "metadata": {},
   "outputs": [
    {
     "name": "stdout",
     "output_type": "stream",
     "text": [
      "tensor([1, 2, 3, 4])\n"
     ]
    }
   ],
   "source": [
    "# From a list\n",
    "tensor_from_list = torch.tensor([1, 2, 3, 4])\n",
    "print(tensor_from_list)"
   ]
  },
  {
   "cell_type": "code",
   "execution_count": 4,
   "metadata": {},
   "outputs": [
    {
     "name": "stdout",
     "output_type": "stream",
     "text": [
      "tensor([[0., 0., 0.],\n",
      "        [0., 0., 0.],\n",
      "        [0., 0., 0.]])\n"
     ]
    }
   ],
   "source": [
    "# Zeros tensor\n",
    "zeros_tensor = torch.zeros(3, 3)\n",
    "print(zeros_tensor)"
   ]
  },
  {
   "cell_type": "code",
   "execution_count": 5,
   "metadata": {},
   "outputs": [
    {
     "name": "stdout",
     "output_type": "stream",
     "text": [
      "tensor([[1., 1., 1., 1.],\n",
      "        [1., 1., 1., 1.]])\n"
     ]
    }
   ],
   "source": [
    "# Ones tensor\n",
    "ones_tensor = torch.ones(2, 4)\n",
    "print(ones_tensor)"
   ]
  },
  {
   "cell_type": "code",
   "execution_count": 7,
   "metadata": {},
   "outputs": [
    {
     "name": "stdout",
     "output_type": "stream",
     "text": [
      "tensor([[0.1047, 0.7210],\n",
      "        [0.6622, 0.0976],\n",
      "        [0.5603, 0.8628]])\n"
     ]
    }
   ],
   "source": [
    "# Random values\n",
    "random_tensor = torch.rand(3, 2)\n",
    "print(random_tensor)"
   ]
  },
  {
   "cell_type": "code",
   "execution_count": 8,
   "metadata": {},
   "outputs": [
    {
     "name": "stdout",
     "output_type": "stream",
     "text": [
      "tensor([[1, 2],\n",
      "        [3, 4]], dtype=torch.int32)\n"
     ]
    }
   ],
   "source": [
    "# From a NumPy array\n",
    "import numpy as np\n",
    "\n",
    "numpy_array = np.array([[1, 2], [3, 4]])\n",
    "tensor_from_numpy = torch.tensor(numpy_array)\n",
    "print(tensor_from_numpy)"
   ]
  },
  {
   "cell_type": "code",
   "execution_count": 9,
   "metadata": {},
   "outputs": [
    {
     "name": "stdout",
     "output_type": "stream",
     "text": [
      "tensor([1., 2., 3.])\n",
      "tensor([1, 2, 3], dtype=torch.int32)\n"
     ]
    }
   ],
   "source": [
    "# With a specific data type\n",
    "float_tensor = torch.tensor([1.0, 2.0, 3.0], dtype=torch.float32)\n",
    "print(float_tensor)\n",
    "\n",
    "int_tensor = torch.tensor([1, 2, 3], dtype=torch.int32)\n",
    "print(int_tensor)"
   ]
  },
  {
   "cell_type": "code",
   "execution_count": 13,
   "metadata": {},
   "outputs": [
    {
     "name": "stdout",
     "output_type": "stream",
     "text": [
      "tensor([[-1.9481e+33,  8.2256e-43,  0.0000e+00],\n",
      "        [ 0.0000e+00,  0.0000e+00,  0.0000e+00]])\n"
     ]
    }
   ],
   "source": [
    "# Uninitialized\n",
    "uninitialized_tensor = torch.empty(2, 3)\n",
    "print(uninitialized_tensor) # it's a tensor whose values are not set and can contain any data that was already present in the allocated memory block, making it useful for performance optimization when the initial values are irrelevant"
   ]
  },
  {
   "cell_type": "code",
   "execution_count": 12,
   "metadata": {},
   "outputs": [
    {
     "name": "stdout",
     "output_type": "stream",
     "text": [
      "tensor([0, 2, 4, 6, 8])\n"
     ]
    }
   ],
   "source": [
    "# Using a range\n",
    "range_tensor = torch.arange(0, 10, step=2)\n",
    "print(range_tensor)"
   ]
  },
  {
   "cell_type": "code",
   "execution_count": 14,
   "metadata": {},
   "outputs": [
    {
     "name": "stdout",
     "output_type": "stream",
     "text": [
      "tensor([0.0000, 0.2500, 0.5000, 0.7500, 1.0000])\n"
     ]
    }
   ],
   "source": [
    "# Using linspace()\n",
    "linspace_tensor = torch.linspace(0, 1, steps=5)\n",
    "print(linspace_tensor)"
   ]
  },
  {
   "cell_type": "markdown",
   "metadata": {},
   "source": [
    "##### **Q4: How do you perform basic tensor operations such as addition and multiplication?**"
   ]
  },
  {
   "cell_type": "code",
   "execution_count": 21,
   "metadata": {},
   "outputs": [
    {
     "name": "stdout",
     "output_type": "stream",
     "text": [
      "tensor([5, 7, 9])\n"
     ]
    }
   ],
   "source": [
    "# Create two tensors for the exercise\n",
    "tensor1 = torch.tensor([1, 2, 3])\n",
    "tensor2 = torch.tensor([4, 5, 6])\n",
    "\n",
    "# Element-wise addition\n",
    "result = tensor1 + tensor2\n",
    "print(result)"
   ]
  },
  {
   "cell_type": "code",
   "execution_count": 16,
   "metadata": {},
   "outputs": [
    {
     "name": "stdout",
     "output_type": "stream",
     "text": [
      "tensor([5, 7, 9])\n"
     ]
    }
   ],
   "source": [
    "# Using torch.add()\n",
    "result = torch.add(tensor1, tensor2)\n",
    "print(result)"
   ]
  },
  {
   "cell_type": "code",
   "execution_count": 23,
   "metadata": {},
   "outputs": [
    {
     "name": "stdout",
     "output_type": "stream",
     "text": [
      "tensor([3, 3, 3])\n"
     ]
    }
   ],
   "source": [
    "# Element-wise subtraction\n",
    "result = tensor2 - tensor1\n",
    "print(result)"
   ]
  },
  {
   "cell_type": "code",
   "execution_count": 28,
   "metadata": {},
   "outputs": [
    {
     "name": "stdout",
     "output_type": "stream",
     "text": [
      "tensor([3, 3, 3])\n"
     ]
    }
   ],
   "source": [
    "# Using torch.sub()\n",
    "result = torch.sub(tensor2, tensor1)\n",
    "print(result)"
   ]
  },
  {
   "cell_type": "code",
   "execution_count": 17,
   "metadata": {},
   "outputs": [
    {
     "name": "stdout",
     "output_type": "stream",
     "text": [
      "tensor([ 4, 10, 18])\n"
     ]
    }
   ],
   "source": [
    "# Element-wise multiplication\n",
    "result = tensor1 * tensor2\n",
    "print(result)"
   ]
  },
  {
   "cell_type": "code",
   "execution_count": 18,
   "metadata": {},
   "outputs": [
    {
     "name": "stdout",
     "output_type": "stream",
     "text": [
      "tensor([ 4, 10, 18])\n"
     ]
    }
   ],
   "source": [
    "# Using torch.mul()\n",
    "result = torch.mul(tensor1, tensor2)\n",
    "print(result)"
   ]
  },
  {
   "cell_type": "code",
   "execution_count": 27,
   "metadata": {},
   "outputs": [
    {
     "name": "stdout",
     "output_type": "stream",
     "text": [
      "tensor([4.0000, 2.5000, 2.0000])\n"
     ]
    }
   ],
   "source": [
    "# Element-wise division\n",
    "result = tensor2 / tensor1\n",
    "print(result)"
   ]
  },
  {
   "cell_type": "code",
   "execution_count": 29,
   "metadata": {},
   "outputs": [
    {
     "name": "stdout",
     "output_type": "stream",
     "text": [
      "tensor([4.0000, 2.5000, 2.0000])\n"
     ]
    }
   ],
   "source": [
    "result = torch.div(tensor2, tensor1)\n",
    "print(result)"
   ]
  },
  {
   "cell_type": "code",
   "execution_count": 30,
   "metadata": {},
   "outputs": [
    {
     "name": "stdout",
     "output_type": "stream",
     "text": [
      "tensor([[19, 22],\n",
      "        [43, 50]])\n"
     ]
    }
   ],
   "source": [
    "# Examples for matrix operations\n",
    "tensor1 = torch.tensor([[1, 2], [3, 4]])\n",
    "tensor2 = torch.tensor([[5, 6], [7, 8]])\n",
    "\n",
    "# Matrix multiplication\n",
    "result = torch.matmul(tensor1, tensor2)\n",
    "print(result)"
   ]
  },
  {
   "cell_type": "code",
   "execution_count": 31,
   "metadata": {},
   "outputs": [
    {
     "name": "stdout",
     "output_type": "stream",
     "text": [
      "tensor([[19, 22],\n",
      "        [43, 50]])\n"
     ]
    }
   ],
   "source": [
    "# Using the @ operator\n",
    "result = tensor1 @ tensor2\n",
    "print(result)"
   ]
  },
  {
   "cell_type": "code",
   "execution_count": 32,
   "metadata": {},
   "outputs": [
    {
     "name": "stdout",
     "output_type": "stream",
     "text": [
      "tensor([[2, 4, 6],\n",
      "        [5, 7, 9]])\n"
     ]
    }
   ],
   "source": [
    "# Broadcasting (i.e., arithmetic operations on tensors of different shapes)\n",
    "tensor1 = torch.tensor([[1, 2, 3], [4, 5, 6]])\n",
    "tensor2 = torch.tensor([1, 2, 3])\n",
    "\n",
    "result = tensor1 + tensor2\n",
    "print(result)"
   ]
  },
  {
   "cell_type": "markdown",
   "metadata": {},
   "source": [
    "##### **Q5: How do you slice and index tensors in PyTorch?**"
   ]
  },
  {
   "cell_type": "code",
   "execution_count": 33,
   "metadata": {},
   "outputs": [
    {
     "name": "stdout",
     "output_type": "stream",
     "text": [
      "tensor(2)\n"
     ]
    }
   ],
   "source": [
    "# Indexing a single element\n",
    "tensor = torch.tensor([[1, 2, 3], [4, 5, 6], [7, 8, 9]])\n",
    "element = tensor[0, 1]  # Access the element at row 0, column 1\n",
    "print(element)"
   ]
  },
  {
   "cell_type": "code",
   "execution_count": 34,
   "metadata": {},
   "outputs": [
    {
     "name": "stdout",
     "output_type": "stream",
     "text": [
      "tensor([[2, 3],\n",
      "        [5, 6]])\n"
     ]
    }
   ],
   "source": [
    "# Basic slicing\n",
    "slice_tensor = tensor[:2, 1:]  # Slice the first two rows and columns from the second to the end\n",
    "print(slice_tensor)"
   ]
  },
  {
   "cell_type": "code",
   "execution_count": 35,
   "metadata": {},
   "outputs": [
    {
     "name": "stdout",
     "output_type": "stream",
     "text": [
      "tensor([[1, 3],\n",
      "        [7, 9]])\n"
     ]
    }
   ],
   "source": [
    "# Slicing with steps\n",
    "step_slice = tensor[::2, ::2]  # Slice every second element along both dimensions\n",
    "print(step_slice)"
   ]
  },
  {
   "cell_type": "code",
   "execution_count": 36,
   "metadata": {},
   "outputs": [
    {
     "name": "stdout",
     "output_type": "stream",
     "text": [
      "tensor([[2, 4],\n",
      "        [6, 8]])\n"
     ]
    }
   ],
   "source": [
    "# Select all elements in a dimension with ellipsis\n",
    "tensor = torch.tensor([[[1, 2], [3, 4]], [[5, 6], [7, 8]]])\n",
    "ellipsis_slice = tensor[..., 1]  # Select the last element from each sub-array\n",
    "print(ellipsis_slice)"
   ]
  },
  {
   "cell_type": "code",
   "execution_count": 37,
   "metadata": {},
   "outputs": [
    {
     "name": "stdout",
     "output_type": "stream",
     "text": [
      "tensor([4, 5, 6])\n"
     ]
    }
   ],
   "source": [
    "# Boolean indexing\n",
    "tensor = torch.tensor([1, 2, 3, 4, 5, 6])\n",
    "bool_index = tensor[tensor > 3]  # Select elements greater than 3\n",
    "print(bool_index)"
   ]
  },
  {
   "cell_type": "code",
   "execution_count": 38,
   "metadata": {},
   "outputs": [
    {
     "name": "stdout",
     "output_type": "stream",
     "text": [
      "tensor([10, 30, 50])\n"
     ]
    }
   ],
   "source": [
    "# Indexing with a tensor of indices\n",
    "tensor = torch.tensor([10, 20, 30, 40, 50])\n",
    "indices = torch.tensor([0, 2, 4])\n",
    "advanced_index = tensor[indices]  # Select elements at positions 0, 2, and 4\n",
    "print(advanced_index)"
   ]
  },
  {
   "cell_type": "code",
   "execution_count": 39,
   "metadata": {},
   "outputs": [
    {
     "name": "stdout",
     "output_type": "stream",
     "text": [
      "tensor([[4, 5],\n",
      "        [7, 8]])\n"
     ]
    }
   ],
   "source": [
    "# Indexing + slicing\n",
    "tensor = torch.tensor([[1, 2, 3], [4, 5, 6], [7, 8, 9]])\n",
    "combined = tensor[1:, :2]  # Slice rows from the second to the end and columns up to the second\n",
    "print(combined)"
   ]
  },
  {
   "cell_type": "markdown",
   "metadata": {},
   "source": [
    "##### **Q6: How do you change the shape of a tensor in PyTorch?**"
   ]
  },
  {
   "cell_type": "code",
   "execution_count": 40,
   "metadata": {},
   "outputs": [
    {
     "name": "stdout",
     "output_type": "stream",
     "text": [
      "tensor([[1, 2],\n",
      "        [3, 4],\n",
      "        [5, 6]])\n"
     ]
    }
   ],
   "source": [
    "# Using reshape()\n",
    "tensor = torch.tensor([[1, 2, 3], [4, 5, 6]])\n",
    "\n",
    "reshaped_tensor = tensor.reshape(3, 2)\n",
    "print(reshaped_tensor)"
   ]
  },
  {
   "cell_type": "code",
   "execution_count": 41,
   "metadata": {},
   "outputs": [
    {
     "name": "stdout",
     "output_type": "stream",
     "text": [
      "tensor([[1, 2],\n",
      "        [3, 4],\n",
      "        [5, 6]])\n"
     ]
    }
   ],
   "source": [
    "# Using view()\n",
    "viewed_tensor = tensor.view(3, 2)\n",
    "print(viewed_tensor)"
   ]
  },
  {
   "cell_type": "code",
   "execution_count": 42,
   "metadata": {},
   "outputs": [
    {
     "name": "stdout",
     "output_type": "stream",
     "text": [
      "tensor([[1, 4],\n",
      "        [2, 5],\n",
      "        [3, 6]])\n"
     ]
    }
   ],
   "source": [
    "# Using transpose()\n",
    "transposed_tensor = tensor.transpose(0, 1)\n",
    "print(transposed_tensor)"
   ]
  },
  {
   "cell_type": "code",
   "execution_count": 43,
   "metadata": {},
   "outputs": [
    {
     "name": "stdout",
     "output_type": "stream",
     "text": [
      "tensor([[[1, 3],\n",
      "         [5, 7]],\n",
      "\n",
      "        [[2, 4],\n",
      "         [6, 8]]])\n"
     ]
    }
   ],
   "source": [
    "# Create a 3D tensor\n",
    "tensor_3d = torch.tensor([[[1, 2], [3, 4]], [[5, 6], [7, 8]]])\n",
    "\n",
    "# Use permute()\n",
    "permuted_tensor = tensor_3d.permute(2, 0, 1)\n",
    "print(permuted_tensor)"
   ]
  },
  {
   "cell_type": "code",
   "execution_count": 44,
   "metadata": {},
   "outputs": [
    {
     "name": "stdout",
     "output_type": "stream",
     "text": [
      "tensor([1, 2, 3, 4, 5, 6])\n"
     ]
    }
   ],
   "source": [
    "# Using flatten()\n",
    "flattened_tensor = tensor.flatten()\n",
    "print(flattened_tensor)"
   ]
  },
  {
   "cell_type": "markdown",
   "metadata": {},
   "source": [
    "##### **Q7: How do you concatenate two tensors in PyTorch?**"
   ]
  },
  {
   "cell_type": "code",
   "execution_count": 48,
   "metadata": {},
   "outputs": [
    {
     "name": "stdout",
     "output_type": "stream",
     "text": [
      "tensor([[ 1,  2,  3],\n",
      "        [ 4,  5,  6],\n",
      "        [ 7,  8,  9],\n",
      "        [10, 11, 12]]) \n",
      "\n",
      "tensor([[ 1,  2,  3,  7,  8,  9],\n",
      "        [ 4,  5,  6, 10, 11, 12]])\n"
     ]
    }
   ],
   "source": [
    "# Concatenate along a specified dimension\n",
    "tensor1 = torch.tensor([[1, 2, 3], [4, 5, 6]])\n",
    "tensor2 = torch.tensor([[7, 8, 9], [10, 11, 12]])\n",
    "\n",
    "# Along the first dimension (rows)\n",
    "concatenated_tensor = torch.cat((tensor1, tensor2), dim=0)\n",
    "print(concatenated_tensor, '\\n')\n",
    "\n",
    "# Along the second dimension (columns)\n",
    "concatenated_tensor = torch.cat((tensor1, tensor2), dim=1)\n",
    "print(concatenated_tensor)"
   ]
  },
  {
   "cell_type": "code",
   "execution_count": 51,
   "metadata": {},
   "outputs": [
    {
     "name": "stdout",
     "output_type": "stream",
     "text": [
      "tensor([[[ 1,  2,  3],\n",
      "         [ 4,  5,  6]],\n",
      "\n",
      "        [[ 7,  8,  9],\n",
      "         [10, 11, 12]]]) \n",
      "\n",
      "tensor([[[ 1,  2,  3],\n",
      "         [ 7,  8,  9]],\n",
      "\n",
      "        [[ 4,  5,  6],\n",
      "         [10, 11, 12]]])\n"
     ]
    }
   ],
   "source": [
    "# Stack along a new dimension\n",
    "stacked_tensor = torch.stack((tensor1, tensor2), dim=0)\n",
    "print(stacked_tensor, '\\n')\n",
    "\n",
    "stacked_tensor = torch.stack((tensor1, tensor2), dim=1)\n",
    "print(stacked_tensor)"
   ]
  },
  {
   "cell_type": "markdown",
   "metadata": {},
   "source": [
    "##### **Q8: How do you convert a NumPy array to a PyTorch tensor and vice versa?**"
   ]
  },
  {
   "cell_type": "code",
   "execution_count": 52,
   "metadata": {},
   "outputs": [
    {
     "name": "stdout",
     "output_type": "stream",
     "text": [
      "tensor([[1, 2, 3],\n",
      "        [4, 5, 6]], dtype=torch.int32)\n"
     ]
    }
   ],
   "source": [
    "# Create a NumPy array\n",
    "numpy_array = np.array([[1, 2, 3], [4, 5, 6]])\n",
    "\n",
    "# Convert the NumPy array to a PyTorch tensor\n",
    "torch_tensor = torch.from_numpy(numpy_array)\n",
    "print(torch_tensor)"
   ]
  },
  {
   "cell_type": "code",
   "execution_count": 53,
   "metadata": {},
   "outputs": [
    {
     "name": "stdout",
     "output_type": "stream",
     "text": [
      "[[1 2 3]\n",
      " [4 5 6]]\n"
     ]
    }
   ],
   "source": [
    "# Create a PyTorch tensor\n",
    "torch_tensor = torch.tensor([[1, 2, 3], [4, 5, 6]])\n",
    "\n",
    "# Convert the PyTorch tensor to a NumPy array\n",
    "numpy_array = torch_tensor.numpy()\n",
    "print(numpy_array)"
   ]
  },
  {
   "cell_type": "code",
   "execution_count": 57,
   "metadata": {},
   "outputs": [
    {
     "name": "stdout",
     "output_type": "stream",
     "text": [
      "tensor([[1, 2, 3],\n",
      "        [4, 5, 6]]) \n",
      "\n",
      "[[1 2 3]\n",
      " [4 5 6]]\n"
     ]
    }
   ],
   "source": [
    "# Avoiding memory sharing by creating a copy\n",
    "torch_tensor_copy = torch.from_numpy(numpy_array.copy())\n",
    "numpy_array_copy = torch_tensor.numpy().copy()\n",
    "\n",
    "print(torch_tensor_copy, '\\n') \n",
    "print(numpy_array_copy)"
   ]
  },
  {
   "cell_type": "markdown",
   "metadata": {},
   "source": [
    "##### **Q9: How do you get the size and shape of a tensor in PyTorch?**"
   ]
  },
  {
   "cell_type": "code",
   "execution_count": 58,
   "metadata": {},
   "outputs": [
    {
     "name": "stdout",
     "output_type": "stream",
     "text": [
      "torch.Size([2, 3])\n"
     ]
    }
   ],
   "source": [
    "# Get the size of a tensor\n",
    "tensor = torch.tensor([[1, 2, 3], [4, 5, 6]])\n",
    "\n",
    "size = tensor.size()\n",
    "print(size)"
   ]
  },
  {
   "cell_type": "code",
   "execution_count": 59,
   "metadata": {},
   "outputs": [
    {
     "name": "stdout",
     "output_type": "stream",
     "text": [
      "torch.Size([2, 3])\n"
     ]
    }
   ],
   "source": [
    "# Get the shape of the tensor\n",
    "shape = tensor.shape\n",
    "print(shape)"
   ]
  },
  {
   "cell_type": "code",
   "execution_count": 60,
   "metadata": {},
   "outputs": [
    {
     "name": "stdout",
     "output_type": "stream",
     "text": [
      "2\n"
     ]
    }
   ],
   "source": [
    "# Get number of dimensions\n",
    "num_dimensions = tensor.ndimension()\n",
    "print(num_dimensions)"
   ]
  },
  {
   "cell_type": "code",
   "execution_count": 61,
   "metadata": {},
   "outputs": [
    {
     "name": "stdout",
     "output_type": "stream",
     "text": [
      "Rows: 2, Columns: 3\n"
     ]
    }
   ],
   "source": [
    "# Get size of a specific dimension\n",
    "rows = tensor.size(0)\n",
    "cols = tensor.size(1)\n",
    "print(f\"Rows: {rows}, Columns: {cols}\")"
   ]
  },
  {
   "cell_type": "markdown",
   "metadata": {},
   "source": [
    "##### **Q10: How do you use advanced indexing techniques in PyTorch?**"
   ]
  },
  {
   "cell_type": "code",
   "execution_count": 62,
   "metadata": {},
   "outputs": [
    {
     "name": "stdout",
     "output_type": "stream",
     "text": [
      "tensor([4, 5, 6])\n"
     ]
    }
   ],
   "source": [
    "# Boolean indexing\n",
    "tensor = torch.tensor([1, 2, 3, 4, 5, 6])\n",
    "\n",
    "mask = tensor > 3\n",
    "selected_elements = tensor[mask]\n",
    "print(selected_elements)"
   ]
  },
  {
   "cell_type": "code",
   "execution_count": 63,
   "metadata": {},
   "outputs": [
    {
     "name": "stdout",
     "output_type": "stream",
     "text": [
      "tensor([10, 30, 50])\n"
     ]
    }
   ],
   "source": [
    "# Indexing with another tensor\n",
    "tensor = torch.tensor([10, 20, 30, 40, 50])\n",
    "\n",
    "indices = torch.tensor([0, 2, 4])\n",
    "selected_elements = tensor[indices]\n",
    "print(selected_elements)"
   ]
  },
  {
   "cell_type": "code",
   "execution_count": 64,
   "metadata": {},
   "outputs": [
    {
     "name": "stdout",
     "output_type": "stream",
     "text": [
      "tensor([[1, 2],\n",
      "        [5, 6]])\n"
     ]
    }
   ],
   "source": [
    "# Indexing with a list of indices\n",
    "tensor = torch.tensor([[1, 2], [3, 4], [5, 6]])\n",
    "\n",
    "selected_rows = tensor[[0, 2]]\n",
    "print(selected_rows)"
   ]
  },
  {
   "cell_type": "code",
   "execution_count": 65,
   "metadata": {},
   "outputs": [
    {
     "name": "stdout",
     "output_type": "stream",
     "text": [
      "tensor([5, 6, 7, 8, 9])\n"
     ]
    }
   ],
   "source": [
    "# Use the mask with integer indexing\n",
    "tensor = torch.tensor([[1, 2, 3], [4, 5, 6], [7, 8, 9]])\n",
    "\n",
    "mask = tensor > 4\n",
    "\n",
    "selected_elements = tensor[mask]\n",
    "print(selected_elements)"
   ]
  },
  {
   "cell_type": "code",
   "execution_count": 66,
   "metadata": {},
   "outputs": [
    {
     "name": "stdout",
     "output_type": "stream",
     "text": [
      "torch.Size([3, 4])\n"
     ]
    }
   ],
   "source": [
    "# Ellipsis indexing\n",
    "tensor = torch.randn(3, 4, 5)\n",
    "\n",
    "selected_elements = tensor[..., 1]\n",
    "print(selected_elements.shape)"
   ]
  },
  {
   "cell_type": "code",
   "execution_count": 67,
   "metadata": {},
   "outputs": [
    {
     "name": "stdout",
     "output_type": "stream",
     "text": [
      "tensor([[1, 1],\n",
      "        [4, 3],\n",
      "        [5, 6]])\n"
     ]
    }
   ],
   "source": [
    "# Using torch.gather()\n",
    "tensor = torch.tensor([[1, 2], [3, 4], [5, 6]])\n",
    "\n",
    "indices = torch.tensor([[0, 0], [1, 0], [0, 1]])\n",
    "\n",
    "gathered_tensor = torch.gather(tensor, 1, indices)\n",
    "print(gathered_tensor)"
   ]
  },
  {
   "cell_type": "markdown",
   "metadata": {},
   "source": [
    "## GPU acceleration"
   ]
  },
  {
   "cell_type": "markdown",
   "metadata": {},
   "source": [
    "##### **Q11: How do you check if a GPU is available in PyTorch?**"
   ]
  },
  {
   "cell_type": "code",
   "execution_count": 68,
   "metadata": {},
   "outputs": [
    {
     "name": "stdout",
     "output_type": "stream",
     "text": [
      "GPU is not available\n"
     ]
    }
   ],
   "source": [
    "if torch.cuda.is_available():\n",
    "    print(\"GPU is available\")\n",
    "else:\n",
    "    print(\"GPU is not available\")"
   ]
  },
  {
   "cell_type": "markdown",
   "metadata": {},
   "source": [
    "##### **Q12: How do you move tensors to GPU and perform operations on them?**"
   ]
  },
  {
   "cell_type": "markdown",
   "metadata": {},
   "source": [
    "##### **Q13: How do you measure the time taken for tensor operations on GPU versus CPU?**"
   ]
  },
  {
   "cell_type": "markdown",
   "metadata": {},
   "source": [
    "##### **Q14: How do you handle tensors when working with multiple GPUs?**"
   ]
  },
  {
   "cell_type": "markdown",
   "metadata": {},
   "source": [
    "## Automatic differentiation"
   ]
  },
  {
   "cell_type": "markdown",
   "metadata": {},
   "source": [
    "##### **Q15: How do you enable automatic differentiation in PyTorch and compute gradients?**"
   ]
  },
  {
   "cell_type": "markdown",
   "metadata": {},
   "source": [
    "##### **Q16: How do you stop PyTorch from tracking history on tensors?**"
   ]
  },
  {
   "cell_type": "markdown",
   "metadata": {},
   "source": [
    "##### **Q17: How do you manually zero the gradients in PyTorch?**"
   ]
  },
  {
   "cell_type": "markdown",
   "metadata": {},
   "source": [
    "##### **Q18: How do you use the `backward()` method for computing gradients?**"
   ]
  },
  {
   "cell_type": "markdown",
   "metadata": {},
   "source": [
    "## Building a simple neural network"
   ]
  },
  {
   "cell_type": "markdown",
   "metadata": {},
   "source": [
    "##### **Q19: How do you define a simple neural network using `nn.Module` in PyTorch?**"
   ]
  },
  {
   "cell_type": "markdown",
   "metadata": {},
   "source": [
    "##### **Q20: How do you initialize the weights and biases of a neural network?**"
   ]
  },
  {
   "cell_type": "markdown",
   "metadata": {},
   "source": [
    "##### **Q21: How do you add multiple layers to a neural network?**"
   ]
  },
  {
   "cell_type": "markdown",
   "metadata": {},
   "source": [
    "## Loss function and optimizer"
   ]
  },
  {
   "cell_type": "markdown",
   "metadata": {},
   "source": [
    "##### **Q22: How do you define a loss function and an optimizer for your neural network?**"
   ]
  },
  {
   "cell_type": "markdown",
   "metadata": {},
   "source": [
    "##### **Q23: How do you use different types of optimizers in PyTorch?**"
   ]
  },
  {
   "cell_type": "markdown",
   "metadata": {},
   "source": [
    "##### **Q24: How do you adjust the learning rate during training?**"
   ]
  },
  {
   "cell_type": "markdown",
   "metadata": {},
   "source": [
    "## Training the model"
   ]
  },
  {
   "cell_type": "markdown",
   "metadata": {},
   "source": [
    "##### **Q25: How do you create a training loop to train your neural network in PyTorch?**"
   ]
  },
  {
   "cell_type": "markdown",
   "metadata": {},
   "source": [
    "## Evaluation and inference"
   ]
  },
  {
   "cell_type": "markdown",
   "metadata": {},
   "source": [
    "##### **Q26: How do you evaluate your model's performance and make predictions on new data?**"
   ]
  },
  {
   "cell_type": "markdown",
   "metadata": {},
   "source": [
    "##### **Q27: How do you calculate the accuracy of your model?**"
   ]
  },
  {
   "cell_type": "markdown",
   "metadata": {},
   "source": [
    "##### **Q28: How do you handle model evaluation for regression tasks?**"
   ]
  },
  {
   "cell_type": "markdown",
   "metadata": {},
   "source": [
    "##### **Q29: How do you handle model evaluation for classification tasks?**"
   ]
  },
  {
   "cell_type": "markdown",
   "metadata": {},
   "source": [
    "##### **Q30: How do you use confusion matrices to evaluate model performance?**"
   ]
  },
  {
   "cell_type": "markdown",
   "metadata": {},
   "source": [
    "## Saving and loading models"
   ]
  },
  {
   "cell_type": "markdown",
   "metadata": {},
   "source": [
    "##### **Q31: How do you save and load a PyTorch model?**"
   ]
  },
  {
   "cell_type": "markdown",
   "metadata": {},
   "source": [
    "##### **Q32: How do you save and load model checkpoints during training?**"
   ]
  },
  {
   "cell_type": "markdown",
   "metadata": {},
   "source": [
    "## Custom datasets and DataLoaders"
   ]
  },
  {
   "cell_type": "markdown",
   "metadata": {},
   "source": [
    "##### **Q33: How do you use PyTorch's DataLoader to load a dataset in batches?**"
   ]
  },
  {
   "cell_type": "markdown",
   "metadata": {},
   "source": [
    "##### **Q34: How do you implement a custom dataset in PyTorch?**"
   ]
  },
  {
   "cell_type": "markdown",
   "metadata": {},
   "source": [
    "##### **Q35: How do you apply data transformations using `torchvision.transforms`?**"
   ]
  },
  {
   "cell_type": "markdown",
   "metadata": {},
   "source": [
    "##### **Q36: How do you handle data augmentation in PyTorch?**"
   ]
  },
  {
   "cell_type": "markdown",
   "metadata": {},
   "source": [
    "## Conclusion"
   ]
  },
  {
   "cell_type": "markdown",
   "metadata": {},
   "source": [
    "## Further exercises"
   ]
  },
  {
   "cell_type": "markdown",
   "metadata": {},
   "source": [
    "##### **Q37: How do you create a tensor of shape (2, 3) filled with zeros and then with ones?**"
   ]
  },
  {
   "cell_type": "markdown",
   "metadata": {},
   "source": [
    "##### **Q38: How do you train a neural network to predict the output of a simple linear function?**"
   ]
  },
  {
   "cell_type": "markdown",
   "metadata": {},
   "source": [
    "##### **Q39: How do you experiment with different optimizers and learning rates to see their effect on training?**"
   ]
  },
  {
   "cell_type": "markdown",
   "metadata": {},
   "source": [
    "##### **Q40: How do you visualize the training loss and accuracy over epochs in PyTorch?**"
   ]
  },
  {
   "cell_type": "markdown",
   "metadata": {},
   "source": [
    "##### **Q41: How do you implement dropout regularization in a neural network using PyTorch?**"
   ]
  }
 ],
 "metadata": {
  "kernelspec": {
   "display_name": "Python 3",
   "language": "python",
   "name": "python3"
  },
  "language_info": {
   "codemirror_mode": {
    "name": "ipython",
    "version": 3
   },
   "file_extension": ".py",
   "mimetype": "text/x-python",
   "name": "python",
   "nbconvert_exporter": "python",
   "pygments_lexer": "ipython3",
   "version": "3.11.2"
  }
 },
 "nbformat": 4,
 "nbformat_minor": 2
}
