{
 "cells": [
  {
   "cell_type": "markdown",
   "metadata": {},
   "source": [
    "# Classification with softmax in PyTorch\n",
    "\n",
    "Welcome to the `03_softmax_classification` notebook. This entry in the portfolio aims to demonstrate core principles and methodologies in PyTorch, specifically focusing on softmax classification — a crucial technique for categorizing data into multiple classes.\n",
    "\n",
    "In this notebook, I'll delve into key areas such as generating synthetic datasets, constructing and training a softmax classification model, and assessing its performance. Additionally, I'll look at optimization strategies and best practices to enhance model precision and effectiveness.\n",
    "\n",
    "By engaging with various exercises, this notebook showcases practical uses of softmax classification in PyTorch, laying the groundwork for more complex and sophisticated projects."
   ]
  },
  {
   "cell_type": "markdown",
   "metadata": {},
   "source": [
    "## Table of contents\n",
    "\n",
    "1. [Understanding softmax classifiication](#understanding-softmax-classification)\n",
    "2. [Setting up the environment](#setting-up-the-environment)\n",
    "3. [Generating synthetic data](#generating-synthetic-data)\n",
    "4. [Defining the softmax classification model](#defining-the-softmax-classification-model)\n",
    "5. [Loss function and optimizer](#loss-function-and-optimizer)\n",
    "6. [Training the softmax classification model](#training-the-softmax-classification-model)\n",
    "7. [Evaluating the model](#evaluating-the-model)\n",
    "8. [Saving and loading the model](#saving-and-loading-the-model)\n",
    "9. [Optimizations](#optimizations)\n",
    "10. [Handling real-world data](#handling-real-world-data)\n",
    "11. [Conclusion](#conclusion)\n",
    "12. [Further exercises](#further-exercises)"
   ]
  },
  {
   "cell_type": "markdown",
   "metadata": {},
   "source": [
    "## Understanding softmax classification\n",
    "\n",
    "Softmax classification is a critical method in machine learning and data analysis, primarily used for categorizing input data into multiple classes. Unlike linear regression, which predicts a continuous output, softmax classification aims to assign probabilities to each class, allowing the model to classify input data into the most likely category."
   ]
  },
  {
   "cell_type": "markdown",
   "metadata": {},
   "source": [
    "### Key concepts\n",
    "\n",
    "#### 1. Binary vs. multiclass classification\n",
    "- **Binary classification**: Involves two possible output classes. The model predicts which of the two classes the input data belongs to.\n",
    "- **Multiclass classification**: Involves more than two output classes. The model assigns a probability to each class and classifies the input data based on the highest probability.\n",
    "\n",
    "#### 2. The softmax function\n",
    "The softmax function is a generalization of the logistic function that squashes the outputs of each class into a range between 0 and 1, representing probabilities, and ensures that the sum of all probabilities equals 1. It is defined as:\n",
    "\n",
    "$$ \\text{softmax}(z_i) = \\frac{e^{z_i}}{\\sum_{j=1}^{K} e^{z_j}} $$\n",
    "\n",
    "where $ z_i $ is the raw output (logits) of the model for class $ i $, and $ K $ is the total number of classes.\n",
    "\n",
    "#### 3. Model parameters\n",
    "Softmax classification models consist of weights (coefficients) and biases. The weights represent the relationship between each input feature and each class, while the biases account for the base probability of each class when all input features are zero.\n",
    "\n",
    "#### 4. Assumptions of softmax classification\n",
    "For softmax classification to be effective, several assumptions should be considered:\n",
    "- **Independence of input features**: The features should be independent of each other.\n",
    "- **Adequate data representation**: The input data should adequately represent all classes to avoid bias in classification.\n",
    "- **No multicollinearity**: Features should not be highly correlated, as this can lead to redundancy and affect model performance.\n",
    "\n",
    "#### 5. Model evaluation\n",
    "Evaluating the performance of a softmax classification model involves various metrics, including:\n",
    "- **Accuracy**: The proportion of correctly predicted instances out of the total instances.\n",
    "- **Precision, recall, and F1 score**: Metrics that provide insights into the performance of the model for each class, particularly in cases of imbalanced datasets.\n",
    "- **Confusion matrix**: A table that shows the true positive, false positive, true negative, and false negative predictions, helping to visualize the performance of the classification model.\n",
    "\n",
    "#### 6. Overfitting and underfitting\n",
    "- **Overfitting**: Occurs when the model learns the noise and specific details of the training data, leading to poor performance on new, unseen data. This usually happens when the model is too complex.\n",
    "- **Underfitting**: Happens when the model is too simple to capture the underlying patterns in the data, resulting in poor performance on both training and new data.\n",
    "\n",
    "#### 7. Regularization\n",
    "Regularization techniques help prevent overfitting by adding a penalty to the model's complexity. Common methods include:\n",
    "- **L2 regularization (Ridge)**: Adds a penalty proportional to the square of the coefficients, discouraging large coefficients and thus, reducing model complexity.\n",
    "- **L1 regularization (Lasso)**: Adds a penalty proportional to the absolute value of the coefficients, which can lead to sparsity in the model, meaning some coefficients may be exactly zero, simplifying the model."
   ]
  },
  {
   "cell_type": "markdown",
   "metadata": {},
   "source": [
    "### Applications\n",
    "\n",
    "#### Economics and finance\n",
    "- **Fraud detection**: Identifying fraudulent transactions based on patterns in transaction data.\n",
    "- **Loan approval**: Classifying loan applications as approved or rejected based on applicant data.\n",
    "- **Credit scoring**: Categorizing the creditworthiness of borrowers into different risk categories.\n",
    "- **Market segmentation**: Classifying market data into different segments for targeted marketing strategies.\n",
    "\n",
    "#### Healthcare\n",
    "- **Disease diagnosis**: Classifying medical images or patient data into disease categories.\n",
    "- **Patient triage**: Prioritizing patient treatment based on the severity of their condition.\n",
    "- **Genomic classification**: Categorizing genetic sequences to identify disease risk factors.\n",
    "- **Medical image analysis**: Classifying types of abnormalities in medical images like MRIs or X-rays.\n",
    "\n",
    "#### Marketing and sales\n",
    "- **Customer segmentation**: Classifying customers into different groups based on purchasing behavior.\n",
    "- **Churn prediction**: Identifying customers likely to stop using a service based on usage patterns.\n",
    "- **Product recommendation**: Recommending products to customers based on their purchase history.\n",
    "- **Sentiment analysis**: Classifying customer reviews or feedback as positive, negative, or neutral.\n",
    "\n",
    "#### Environmental science\n",
    "- **Species classification**: Identifying species of plants or animals from images or environmental data.\n",
    "- **Land cover classification**: Classifying satellite images into categories such as forest, urban, or water bodies.\n",
    "- **Weather event classification**: Categorizing weather events (e.g., storms, hurricanes) based on meteorological data.\n",
    "- **Pollution source identification**: Classifying sources of pollution based on environmental monitoring data.\n",
    "\n",
    "#### Real estate\n",
    "- **Property type classification**: Categorizing properties into types such as residential, commercial, or industrial.\n",
    "- **Market value prediction**: Classifying properties into value ranges based on features.\n",
    "- **Rental property classification**: Identifying suitable rental properties for different demographics.\n",
    "- **Neighborhood classification**: Classifying neighborhoods based on crime rates, amenities, and other factors.\n",
    "\n",
    "#### Social sciences\n",
    "- **Survey response classification**: Categorizing survey responses into themes or sentiment categories.\n",
    "- **Demographic segmentation**: Classifying populations into demographic segments for research.\n",
    "- **Behavior prediction**: Predicting social behaviors based on demographic data.\n",
    "- **Policy impact analysis**: Classifying regions or populations based on the impact of public policies.\n",
    "\n",
    "#### Engineering and manufacturing\n",
    "- **Defect detection**: Identifying defects in manufactured products using image data.\n",
    "- **Equipment maintenance**: Classifying equipment status to predict maintenance needs.\n",
    "- **Production optimization**: Classifying production processes to identify areas for optimization.\n",
    "- **Material classification**: Categorizing materials based on their properties for quality control.\n",
    "\n",
    "#### Sports and performance analysis\n",
    "- **Player classification**: Categorizing players based on performance metrics and statistics.\n",
    "- **Game strategy prediction**: Predicting likely strategies of opponents based on past games.\n",
    "- **Injury risk assessment**: Classifying players into risk categories for potential injuries.\n",
    "- **Talent identification**: Identifying potential talent in athletes based on performance data.\n",
    "\n",
    "#### Agriculture\n",
    "- **Crop disease detection**: Identifying diseases in crops using image data.\n",
    "- **Soil quality classification**: Categorizing soil samples based on nutrient content and other factors.\n",
    "- **Livestock breed classification**: Identifying breeds of livestock from image data.\n",
    "- **Agricultural yield classification**: Predicting yield categories based on weather and soil conditions.\n",
    "\n",
    "#### Transportation and logistics\n",
    "- **Vehicle type classification**: Categorizing vehicles based on sensor data.\n",
    "- **Traffic flow prediction**: Classifying traffic patterns to predict congestion.\n",
    "- **Route optimization**: Classifying routes based on efficiency and traffic conditions.\n",
    "- **Demand classification**: Categorizing areas based on transportation demand for better service planning.\n",
    "\n",
    "#### Insurance\n",
    "- **Claim risk assessment**: Classifying insurance claims into risk categories based on claim history.\n",
    "- **Policy classification**: Categorizing insurance policies based on customer needs and risk.\n",
    "- **Customer segmentation**: Classifying insurance customers for targeted marketing.\n",
    "- **Fraud detection**: Identifying potentially fraudulent insurance claims based on patterns in claim data.\n",
    "\n",
    "#### Technology and internet\n",
    "- **Spam detection**: Classifying emails or messages as spam or not spam.\n",
    "- **User activity classification**: Categorizing user activities on websites or apps for behavior analysis.\n",
    "- **Content recommendation**: Providing personalized content recommendations based on user preferences.\n",
    "- **Language translation**: Classifying sentences or phrases into language pairs for translation tasks."
   ]
  },
  {
   "cell_type": "markdown",
   "metadata": {},
   "source": [
    "### Maths\n",
    "\n",
    "Softmax classification is a key method in machine learning, particularly useful for multi-class classification problems where an input is assigned to one of multiple classes. Unlike linear regression, which predicts continuous values, softmax classification predicts probabilities for each class and assigns the input to the class with the highest probability.\n",
    "\n",
    "#### 1. The softmax function\n",
    "\n",
    "The softmax function converts raw scores (logits) from a neural network into probabilities that sum to one. It is defined as:\n",
    "$$ \\text{softmax}(z_i) = \\frac{e^{z_i}}{\\sum_{j=1}^{K} e^{z_j}} $$\n",
    "where:\n",
    "- $ z_i $ is the raw score (logit) for class $ i $.\n",
    "- $ K $ is the total number of classes.\n",
    "\n",
    "#### 2. Model formulation\n",
    "\n",
    "In softmax classification, the model predicts the probability of each class. For an input $ \\mathbf{x} $ with features $ x_1, x_2, \\ldots, x_n $, the model can be written as:\n",
    "$$ \\mathbf{z} = \\mathbf{W} \\mathbf{x} + \\mathbf{b} $$\n",
    "where:\n",
    "- $ \\mathbf{z} $ is the vector of raw scores (logits) for each class.\n",
    "- $ \\mathbf{W} $ is the weight matrix, with each row corresponding to the weights for a specific class.\n",
    "- $ \\mathbf{b} $ is the bias vector.\n",
    "\n",
    "The softmax function is then applied to $ \\mathbf{z} $ to obtain the probabilities.\n",
    "\n",
    "#### 3. The objective\n",
    "\n",
    "The goal of training a softmax classifier is to find the weights and biases that maximize the likelihood of the observed data. This is typically done by minimizing the cross-entropy loss between the predicted probabilities and the true class labels.\n",
    "\n",
    "#### 4. The cross-entropy loss\n",
    "\n",
    "The cross-entropy loss for a single training example is defined as:\n",
    "$$ L = -\\sum_{i=1}^{K} y_i \\log(\\hat{y_i}) $$\n",
    "where:\n",
    "- $ y_i $ is the true probability (0 or 1) of class $ i $.\n",
    "- $ \\hat{y_i} $ is the predicted probability of class $ i $ obtained from the softmax function.\n",
    "\n",
    "For a dataset with $ n $ examples, the total loss is the average of the individual losses:\n",
    "$$ J(\\mathbf{W}, \\mathbf{b}) = -\\frac{1}{n} \\sum_{i=1}^{n} \\sum_{k=1}^{K} y_{ik} \\log(\\hat{y_{ik}}) $$\n",
    "\n",
    "#### 5. Minimizing the cost function\n",
    "\n",
    "To find the optimal weights $ \\mathbf{W} $ and biases $ \\mathbf{b} $, we minimize the cross-entropy loss using gradient descent or other optimization algorithms. The gradients of the loss function with respect to the weights and biases are computed as follows:\n",
    "\n",
    "For the weights:\n",
    "$$ \\frac{\\partial J}{\\partial W_{jk}} = \\frac{1}{n} \\sum_{i=1}^{n} (\\hat{y_{ik}} - y_{ik}) x_{ij} $$\n",
    "where:\n",
    "- $ W_{jk} $ is the weight connecting feature $ j $ to class $ k $.\n",
    "- $ x_{ij} $ is the value of feature $ j $ for example $ i $.\n",
    "\n",
    "For the biases:\n",
    "$$ \\frac{\\partial J}{\\partial b_k} = \\frac{1}{n} \\sum_{i=1}^{n} (\\hat{y_{ik}} - y_{ik}) $$\n",
    "\n",
    "These gradients are used to update the weights and biases during training.\n",
    "\n",
    "#### 6. Interpretation of the coefficients\n",
    "\n",
    "- **Weights ($ W_{jk} $)**: Represent the influence of feature $ j $ on the probability of class $ k $.\n",
    "- **Biases ($ b_k $)**: Represent the base log odds of class $ k $.\n",
    "\n",
    "#### 7. Evaluating model performance\n",
    "\n",
    "1. **Accuracy**: The proportion of correctly predicted instances out of the total instances.\n",
    "2. **Confusion matrix**: A table that shows the true positive, false positive, true negative, and false negative predictions, helping to visualize the performance of the classification model.\n",
    "3. **Precision, recall, and F1 score**: Metrics that provide insights into the performance of the model for each class, particularly in cases of imbalanced datasets."
   ]
  },
  {
   "cell_type": "markdown",
   "metadata": {},
   "source": [
    "## Setting up the environment"
   ]
  },
  {
   "cell_type": "markdown",
   "metadata": {},
   "source": [
    "##### **Q1: How do you install the necessary PyTorch libraries using a Jupyter notebook?**"
   ]
  },
  {
   "cell_type": "code",
   "execution_count": null,
   "metadata": {},
   "outputs": [],
   "source": [
    "# !pip install torch torchvision torchaudio"
   ]
  },
  {
   "cell_type": "markdown",
   "metadata": {},
   "source": [
    "##### **Q2: How do you import the required modules for softmax classification?**"
   ]
  },
  {
   "cell_type": "code",
   "execution_count": 1,
   "metadata": {},
   "outputs": [],
   "source": [
    "import torch\n",
    "import torchvision\n",
    "import torchaudio\n",
    "import torch.nn as nn\n",
    "import torch.nn.functional as F\n",
    "import torch.optim as optim"
   ]
  },
  {
   "cell_type": "markdown",
   "metadata": {},
   "source": [
    "##### **Q3: How do you verify the installation and versions of the installed libraries?**"
   ]
  },
  {
   "cell_type": "code",
   "execution_count": 2,
   "metadata": {},
   "outputs": [
    {
     "name": "stdout",
     "output_type": "stream",
     "text": [
      "2.3.1+cu121\n",
      "0.18.1+cu121\n",
      "2.3.1+cu121\n"
     ]
    }
   ],
   "source": [
    "print(torch.__version__)\n",
    "print(torchvision.__version__)\n",
    "print(torchaudio.__version__)"
   ]
  },
  {
   "cell_type": "markdown",
   "metadata": {},
   "source": [
    "## Generating synthetic data"
   ]
  },
  {
   "cell_type": "markdown",
   "metadata": {},
   "source": [
    "##### **Q4: How do you create a synthetic dataset for classification tasks in PyTorch?**"
   ]
  },
  {
   "cell_type": "markdown",
   "metadata": {},
   "source": [
    "##### **Q5: How do you add class labels to the synthetic data?**"
   ]
  },
  {
   "cell_type": "markdown",
   "metadata": {},
   "source": [
    "##### **Q6: How do you visualize the synthetic dataset using `matplotlib`?**"
   ]
  },
  {
   "cell_type": "markdown",
   "metadata": {},
   "source": [
    "##### **Q7: How do you split the synthetic data into training and testing sets?**"
   ]
  },
  {
   "cell_type": "markdown",
   "metadata": {},
   "source": [
    "## Defining the softmax classification model"
   ]
  },
  {
   "cell_type": "markdown",
   "metadata": {},
   "source": [
    "##### **Q8: How do you define a simple neural network with a softmax output layer using nn.Module in PyTorch?**"
   ]
  },
  {
   "cell_type": "markdown",
   "metadata": {},
   "source": [
    "##### **Q9: How do you initialize the weights and biases of the softmax classification model?**"
   ]
  },
  {
   "cell_type": "markdown",
   "metadata": {},
   "source": [
    "##### **Q10: How do you add hidden layers to the softmax classification model?**"
   ]
  },
  {
   "cell_type": "markdown",
   "metadata": {},
   "source": [
    "## Loss function and optimizer"
   ]
  },
  {
   "cell_type": "markdown",
   "metadata": {},
   "source": [
    "##### **Q11: How do you define the cross-entropy loss function in PyTorch?**"
   ]
  },
  {
   "cell_type": "markdown",
   "metadata": {},
   "source": [
    "##### **Q12: How do you choose and configure an optimizer for the softmax classification model?**"
   ]
  },
  {
   "cell_type": "markdown",
   "metadata": {},
   "source": [
    "##### **Q13: What is the role of the learning rate in the optimizer, and how do you set it?**"
   ]
  },
  {
   "cell_type": "markdown",
   "metadata": {},
   "source": [
    "## Training the softmax classification model"
   ]
  },
  {
   "cell_type": "markdown",
   "metadata": {},
   "source": [
    "##### **Q14: How do you create a training loop for the softmax classification model in PyTorch?**"
   ]
  },
  {
   "cell_type": "markdown",
   "metadata": {},
   "source": [
    "##### **Q15: How do you update the model parameters during training?**"
   ]
  },
  {
   "cell_type": "markdown",
   "metadata": {},
   "source": [
    "##### **Q16: How do you calculate and print the training loss during each epoch?**"
   ]
  },
  {
   "cell_type": "markdown",
   "metadata": {},
   "source": [
    "##### **Q17: How do you visualize the training loss over epochs using `matplotlib`?**"
   ]
  },
  {
   "cell_type": "markdown",
   "metadata": {},
   "source": [
    "##### **Q18: How do you implement batch training for the softmax classification model?**"
   ]
  },
  {
   "cell_type": "markdown",
   "metadata": {},
   "source": [
    "## Evaluating the model"
   ]
  },
  {
   "cell_type": "markdown",
   "metadata": {},
   "source": [
    "##### **Q19: How do you make predictions using your trained softmax classification model?**"
   ]
  },
  {
   "cell_type": "markdown",
   "metadata": {},
   "source": [
    "##### **Q20: How do you calculate accuracy and other performance metrics for your model?**"
   ]
  },
  {
   "cell_type": "markdown",
   "metadata": {},
   "source": [
    "##### **Q21: How do you visualize the model's predictions against the actual class labels?**"
   ]
  },
  {
   "cell_type": "markdown",
   "metadata": {},
   "source": [
    "##### **Q22: How do you create a confusion matrix to evaluate the performance of your classification model?**"
   ]
  },
  {
   "cell_type": "markdown",
   "metadata": {},
   "source": [
    "##### **Q23: How do you calculate precision, recall, and F1 score for your model?**"
   ]
  },
  {
   "cell_type": "markdown",
   "metadata": {},
   "source": [
    "## Saving and loading the model"
   ]
  },
  {
   "cell_type": "markdown",
   "metadata": {},
   "source": [
    "##### **Q24: How do you save the trained softmax classification model in PyTorch?**"
   ]
  },
  {
   "cell_type": "markdown",
   "metadata": {},
   "source": [
    "##### **Q25: How do you load a saved softmax classification model in PyTorch?**"
   ]
  },
  {
   "cell_type": "markdown",
   "metadata": {},
   "source": [
    "##### **Q26: How do you save and load the model's state dictionary in PyTorch?**"
   ]
  },
  {
   "cell_type": "markdown",
   "metadata": {},
   "source": [
    "## Optimizations"
   ]
  },
  {
   "cell_type": "markdown",
   "metadata": {},
   "source": [
    "##### **Q27: How do you perform hyperparameter tuning to improve the performance of your softmax classification model?**"
   ]
  },
  {
   "cell_type": "markdown",
   "metadata": {},
   "source": [
    "##### **Q28: How do you implement dropout regularization in your model to prevent overfitting?**"
   ]
  },
  {
   "cell_type": "markdown",
   "metadata": {},
   "source": [
    "##### **Q29: How do you use learning rate scheduling to adjust the learning rate during training?**"
   ]
  },
  {
   "cell_type": "markdown",
   "metadata": {},
   "source": [
    "##### **Q30: How do you use weight decay to regularize the model and prevent overfitting?**"
   ]
  },
  {
   "cell_type": "markdown",
   "metadata": {},
   "source": [
    "##### **Q31: How do you implement early stopping to prevent overfitting during training?**"
   ]
  },
  {
   "cell_type": "markdown",
   "metadata": {},
   "source": [
    "## Handling real-world data"
   ]
  },
  {
   "cell_type": "markdown",
   "metadata": {},
   "source": [
    "##### **Q32: How do you preprocess a real-world dataset for softmax classification in PyTorch?**"
   ]
  },
  {
   "cell_type": "markdown",
   "metadata": {},
   "source": [
    "##### **Q33: How do you handle missing data in your dataset before training the model?**"
   ]
  },
  {
   "cell_type": "markdown",
   "metadata": {},
   "source": [
    "##### **Q34: How do you encode categorical variables for use in a softmax classification model?**"
   ]
  },
  {
   "cell_type": "markdown",
   "metadata": {},
   "source": [
    "##### **Q35: How do you split a real-world dataset into training, validation, and test sets?**"
   ]
  },
  {
   "cell_type": "markdown",
   "metadata": {},
   "source": [
    "##### **Q36: How do you train your softmax classification model on a real-world dataset?**"
   ]
  },
  {
   "cell_type": "markdown",
   "metadata": {},
   "source": [
    "##### **Q37: How do you evaluate your model's performance on a real-world dataset?**"
   ]
  },
  {
   "cell_type": "markdown",
   "metadata": {},
   "source": [
    "##### **Q38: How do you handle imbalanced classes in a real-world dataset?**"
   ]
  },
  {
   "cell_type": "markdown",
   "metadata": {},
   "source": [
    "## Conclusion"
   ]
  },
  {
   "cell_type": "markdown",
   "metadata": {},
   "source": [
    "## Further exercises"
   ]
  },
  {
   "cell_type": "markdown",
   "metadata": {},
   "source": [
    "##### **Q39: How do you implement a softmax function from scratch without using PyTorch's built-in functions?**"
   ]
  },
  {
   "cell_type": "markdown",
   "metadata": {},
   "source": [
    "##### **Q40: How do you experiment with different neural network architectures to see their impact on classification performance?**"
   ]
  },
  {
   "cell_type": "markdown",
   "metadata": {},
   "source": [
    "##### **Q41: How do you apply transfer learning to a softmax classification problem using a pre-trained model?**"
   ]
  },
  {
   "cell_type": "markdown",
   "metadata": {},
   "source": [
    "##### **Q42: How do you visualize the learned features of your model using techniques such as t-SNE or PCA?**"
   ]
  },
  {
   "cell_type": "markdown",
   "metadata": {},
   "source": [
    "##### **Q43: How do you perform data augmentation on your training dataset to improve the robustness of your classification model?**"
   ]
  }
 ],
 "metadata": {
  "kernelspec": {
   "display_name": "Python 3",
   "language": "python",
   "name": "python3"
  },
  "language_info": {
   "codemirror_mode": {
    "name": "ipython",
    "version": 3
   },
   "file_extension": ".py",
   "mimetype": "text/x-python",
   "name": "python",
   "nbconvert_exporter": "python",
   "pygments_lexer": "ipython3",
   "version": "3.11.2"
  }
 },
 "nbformat": 4,
 "nbformat_minor": 2
}
