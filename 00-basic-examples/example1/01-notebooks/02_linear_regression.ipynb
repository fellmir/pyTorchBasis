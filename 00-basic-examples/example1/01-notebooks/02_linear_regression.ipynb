{
 "cells": [
  {
   "cell_type": "markdown",
   "metadata": {},
   "source": [
    "# Linear regression in PyTorch\n",
    "\n",
    "Welcome to the `02_linear_regression` notebook. This is part of a portfolio designed to showcase foundational concepts and techniques in PyTorch, with this one focusing on linear regression — a fundamental algorithm in machine learning used for predicting a continuous target variable based on one or more input features.\n",
    "\n",
    "In this notebook, I cover essential topics including generating synthetic data, defining and training a linear regression model, and evaluating its performance. I'll also explore optimizations and best practices to improve model accuracy and efficiency. \n",
    "\n",
    "Through various exercises, this notebook demonstrates practical applications of linear regression in PyTorch, providing a solid foundation for more advanced projects."
   ]
  },
  {
   "cell_type": "markdown",
   "metadata": {},
   "source": [
    "## Table of contents\n",
    "1. [Understanding linear regression](#understanding-linear-regression)\n",
    "2. [Setting up the environment](#setting-up-the-environment)\n",
    "3. [Generating synthetic data](#generating-synthetic-data)\n",
    "4. [Defining the linear regression model](#defining-the-linear-regression-model)\n",
    "5. [Loss function and optimizer](#loss-function-and-optimizer)\n",
    "6. [Training the linear regression model](#training-the-linear-regression-model)\n",
    "7. [Evaluating the model](#evaluating-the-model)\n",
    "8. [Saving and loading the model](#saving-and-loading-the-model)\n",
    "9. [Optimizations](#optimizations)\n",
    "10. [Conclusion](#conclusion)\n",
    "11. [Further exercises](#further-exercises)\n"
   ]
  },
  {
   "cell_type": "markdown",
   "metadata": {},
   "source": [
    "## Understanding linear regression\n",
    "\n",
    "Linear regression is a fundamental statistical method used in machine learning and data analysis to model the relationship between one or more input variables (features) and a continuous output variable (target). The primary objective of linear regression is to find the best-fitting straight line (or hyperplane in higher dimensions) that can predict the target variable from the input features."
   ]
  },
  {
   "cell_type": "markdown",
   "metadata": {},
   "source": [
    "### Key concepts\n",
    "\n",
    "#### 1. Simple vs. multiple linear regression\n",
    "- **Simple linear regression**: Involves a single input variable and aims to model the relationship between this variable and the target variable. The goal is to find a straight line that best describes this relationship.\n",
    "- **Multiple linear regression**: Involves two or more input variables. The model tries to fit a hyperplane in a multidimensional space to predict the target variable.\n",
    "\n",
    "#### 2. The best-fit line\n",
    "The best-fit line (or hyperplane) is the one that minimizes the difference between the actual target values and the predicted values. This difference is known as the residuals. The smaller the residuals, the better the model fits the data.\n",
    "\n",
    "#### 3. Model parameters\n",
    "Linear regression models have coefficients (weights) and an intercept (bias). The coefficients represent the relationship between each input feature and the target variable. The intercept is the value of the target variable when all input features are zero.\n",
    "\n",
    "#### 4. Assumptions of linear regression\n",
    "For linear regression to provide reliable results, several assumptions must be met:\n",
    "- **Linearity**: The relationship between the input features and the target variable should be linear.\n",
    "- **Independence**: The residuals (errors) should be independent of each other.\n",
    "- **Homoscedasticity**: The residuals should have constant variance across all levels of the input features.\n",
    "- **Normality**: The residuals should be normally distributed.\n",
    "\n",
    "#### 5. Model evaluation\n",
    "To evaluate the performance of a linear regression model, several metrics are commonly used:\n",
    "- **Mean Squared Error (MSE)**: Measures the average squared difference between actual and predicted values. Lower values indicate a better fit.\n",
    "- **R-squared (R²)**: Represents the proportion of variance in the target variable that can be explained by the input features. Values range from 0 to 1, with higher values indicating a better fit.\n",
    "\n",
    "#### 6. Overfitting and underfitting\n",
    "- **Overfitting**: Occurs when the model learns the noise in the training data, leading to poor generalization to new data. This can happen if the model is too complex.\n",
    "- **Underfitting**: Occurs when the model is too simple to capture the underlying pattern in the data, leading to poor performance on both training and new data.\n",
    "\n",
    "#### 7. Regularization\n",
    "Regularization techniques are used to prevent overfitting by adding a penalty to the model's complexity. Common regularization methods include:\n",
    "- **Ridge regression (L2 Regularization)**: Adds a penalty proportional to the square of the coefficients.\n",
    "- **Lasso regression (L1 Regularization)**: Adds a penalty proportional to the absolute value of the coefficients, which can lead to sparse models with some coefficients being zero."
   ]
  },
  {
   "cell_type": "markdown",
   "metadata": {},
   "source": [
    "### Applications\n",
    "\n",
    "#### Economics and finance\n",
    "- **Stock price prediction**: Estimating future stock prices based on historical data and market indicators.\n",
    "- **Risk management**: Assessing the relationship between risk factors and asset returns.\n",
    "- **Economic forecasting**: Predicting economic indicators such as GDP growth, inflation rates, and unemployment rates.\n",
    "- **Credit scoring**: Evaluating the likelihood of a borrower defaulting on a loan based on their financial history.\n",
    "\n",
    "#### Healthcare\n",
    "- **Disease progression**: Modeling the progression of diseases over time based on patient data.\n",
    "- **Healthcare costs**: Predicting healthcare costs for individuals or populations based on demographic and medical history data.\n",
    "- **Medical research**: Identifying relationships between various factors (e.g., lifestyle, genetics) and health outcomes.\n",
    "- **Patient outcomes**: Forecasting patient recovery times or survival rates based on treatment variables.\n",
    "\n",
    "#### Marketing and sales\n",
    "- **Sales forecasting**: Estimating future sales based on historical sales data, seasonality, and market trends.\n",
    "- **Customer lifetime value**: Predicting the long-term value of customers based on their purchasing behavior.\n",
    "- **Advertising effectiveness**: Assessing the impact of advertising campaigns on sales or brand awareness.\n",
    "- **Market analysis**: Identifying trends and relationships in consumer behavior and market data.\n",
    "\n",
    "#### Environmental science\n",
    "- **Climate modeling**: Analyzing the relationship between greenhouse gas emissions and global temperatures.\n",
    "- **Pollution levels**: Predicting pollution levels based on industrial activities, traffic patterns, and weather conditions.\n",
    "- **Water quality**: Estimating water quality parameters based on land use, agricultural practices, and rainfall data.\n",
    "- **Renewable energy forecasting**: Predicting the output of renewable energy sources like solar and wind based on weather conditions.\n",
    "\n",
    "#### Real estate\n",
    "- **Property valuation**: Estimating the value of properties based on features such as location, size, and amenities.\n",
    "- **Rental price prediction**: Forecasting rental prices based on market conditions and property characteristics.\n",
    "- **Market trends**: Analyzing trends in the real estate market to guide investment decisions.\n",
    "\n",
    "#### Social sciences\n",
    "- **Sociological research**: Examining relationships between social factors (e.g., education, income) and various outcomes (e.g., crime rates, health).\n",
    "- **Education analysis**: Predicting student performance based on socioeconomic background, school resources, and attendance.\n",
    "\n",
    "#### Engineering and manufacturing\n",
    "- **Quality control**: Monitoring and predicting product quality based on production parameters.\n",
    "- **Process optimization**: Modeling relationships between input variables and output quality to optimize manufacturing processes.\n",
    "- **Failure prediction**: Estimating the likelihood of equipment failure based on usage data and maintenance history.\n",
    "\n",
    "#### Sports and performance analysis\n",
    "- **Player performance**: Predicting athlete performance based on historical performance data and training metrics.\n",
    "- **Game outcome prediction**: Estimating the outcomes of sports events based on team statistics and player performance.\n",
    "\n",
    "#### Agriculture\n",
    "- **Crop yield prediction**: Forecasting crop yields based on factors such as weather conditions, soil quality, and farming practices.\n",
    "- **Livestock health**: Modeling the health and productivity of livestock based on feeding practices and environmental conditions.\n",
    "\n",
    "#### Transportation and logistics\n",
    "- **Demand forecasting**: Predicting transportation demand for public transit systems or ride-sharing services.\n",
    "- **Logistics optimization**: Estimating delivery times and optimizing routes based on traffic patterns and order volumes.\n",
    "\n",
    "#### Insurance\n",
    "- **Premium calculation**: Determining insurance premiums based on risk factors such as age, health status, and driving history.\n",
    "- **Claim prediction**: Estimating the likelihood of insurance claims based on customer data and historical claim records.\n",
    "\n",
    "#### Technology and internet\n",
    "- **User behavior analysis**: Predicting user engagement and retention based on interaction data from websites and apps.\n",
    "- **Recommendation systems**: Modeling user preferences to provide personalized content or product recommendations."
   ]
  },
  {
   "cell_type": "markdown",
   "metadata": {},
   "source": [
    "### Maths\n",
    "\n",
    "Linear regression aims to model the relationship between a dependent variable $ y $ and one or more independent variables $ x_1, x_2, \\ldots, x_n $. The goal is to find the best-fitting linear equation that predicts the value of $ y $ from the input variables.\n",
    "\n",
    "#### Simple linear regression\n",
    "For simplicity, let's start with simple linear regression, where there is only one independent variable $ x $.\n",
    "\n",
    "##### 1. The linear model\n",
    "The model assumes a linear relationship between the independent variable $ x $ and the dependent variable $ y $:\n",
    "$$ y = \\beta_0 + \\beta_1 x + \\epsilon $$\n",
    "- $ \\beta_0 $ is the intercept (the value of $ y $ when $ x = 0 $).\n",
    "- $ \\beta_1 $ is the slope (the change in $ y $ for a one-unit change in $ x $).\n",
    "- $ \\epsilon $ is the error term, representing the deviation of the observed values from the true line.\n",
    "\n",
    "##### 2. The objective\n",
    "The objective of linear regression is to estimate the coefficients $ \\beta_0 $ and $ \\beta_1 $ such that the sum of the squared differences between the observed values $ y_i $ and the predicted values $ \\hat{y_i} $ is minimized. This method is known as **Ordinary Least Squares (OLS)**.\n",
    "\n",
    "##### 3. The cost function\n",
    "The cost function, also known as the **mean squared error (MSE)**, is defined as:\n",
    "$$ J(\\beta_0, \\beta_1) = \\frac{1}{n} \\sum_{i=1}^{n} (y_i - \\hat{y_i})^2 $$\n",
    "where:\n",
    "$$ \\hat{y_i} = \\beta_0 + \\beta_1 x_i $$\n",
    "- $ n $ is the number of data points.\n",
    "- $ y_i $ are the actual values.\n",
    "- $ \\hat{y_i} $ are the predicted values.\n",
    "\n",
    "##### 4. Minimizing the cost function\n",
    "To find the values of $ \\beta_0 $ and $ \\beta_1 $ that minimize the cost function, we take the partial derivatives of $ J(\\beta_0, \\beta_1) $ with respect to $ \\beta_0 $ and $ \\beta_1 $, set them to zero, and solve for $ \\beta_0 $ and $ \\beta_1 $.\n",
    "\n",
    "The partial derivatives are:\n",
    "$$ \\frac{\\partial J}{\\partial \\beta_0} = -\\frac{2}{n} \\sum_{i=1}^{n} (y_i - \\beta_0 - \\beta_1 x_i) = 0 $$\n",
    "$$ \\frac{\\partial J}{\\partial \\beta_1} = -\\frac{2}{n} \\sum_{i=1}^{n} (y_i - \\beta_0 - \\beta_1 x_i) x_i = 0 $$\n",
    "\n",
    "Solving these equations simultaneously gives the estimates:\n",
    "$$ \\beta_1 = \\frac{\\sum_{i=1}^{n} (x_i - \\bar{x})(y_i - \\bar{y})}{\\sum_{i=1}^{n} (x_i - \\bar{x})^2} $$\n",
    "$$ \\beta_0 = \\bar{y} - \\beta_1 \\bar{x} $$\n",
    "where:\n",
    "- $ \\bar{x} $ is the mean of the $ x $ values.\n",
    "- $ \\bar{y} $ is the mean of the $ y $ values.\n",
    "\n",
    "#### Multiple linear regression\n",
    "When there are multiple independent variables, the model extends to:\n",
    "$$ y = \\beta_0 + \\beta_1 x_1 + \\beta_2 x_2 + \\ldots + \\beta_n x_n + \\epsilon $$\n",
    "\n",
    "##### 1. The vector form\n",
    "This can be written in vector form for convenience:\n",
    "$$ \\mathbf{y} = \\mathbf{X} \\boldsymbol{\\beta} + \\boldsymbol{\\epsilon} $$\n",
    "where:\n",
    "- $ \\mathbf{y} $ is the vector of observed values.\n",
    "- $ \\mathbf{X} $ is the matrix of input features, including a column of ones for the intercept.\n",
    "- $ \\boldsymbol{\\beta} $ is the vector of coefficients.\n",
    "- $ \\boldsymbol{\\epsilon} $ is the vector of error terms.\n",
    "\n",
    "##### 2. The cost function\n",
    "The cost function in multiple linear regression is similarly:\n",
    "$$ J(\\boldsymbol{\\beta}) = \\frac{1}{n} (\\mathbf{y} - \\mathbf{X} \\boldsymbol{\\beta})^T (\\mathbf{y} - \\mathbf{X} \\boldsymbol{\\beta}) $$\n",
    "\n",
    "##### 3. Solving for the coefficients\n",
    "To minimize the cost function, we take the derivative with respect to $ \\boldsymbol{\\beta} $ and set it to zero:\n",
    "$$ \\frac{\\partial J}{\\partial \\boldsymbol{\\beta}} = -\\frac{2}{n} \\mathbf{X}^T (\\mathbf{y} - \\mathbf{X} \\boldsymbol{\\beta}) = 0 $$\n",
    "\n",
    "Solving for $ \\boldsymbol{\\beta} $ gives:\n",
    "$$ \\boldsymbol{\\beta} = (\\mathbf{X}^T \\mathbf{X})^{-1} \\mathbf{X}^T \\mathbf{y} $$\n",
    "This equation is known as the **normal equation** and provides the least-squares estimates of the coefficients.\n",
    "\n",
    "#### Interpretation of the coefficients\n",
    "- **Intercept ($ \\beta_0 $)**: The expected value of $ y $ when all $ x $ variables are zero.\n",
    "- **Slope ($ \\beta_i $)**: The change in the expected value of $ y $ for a one-unit change in $ x_i $, holding all other variables constant.\n",
    "\n",
    "#### Evaluating model performance\n",
    "1. **Mean Squared Error (MSE)**: The average of the squares of the residuals, providing a measure of the model's accuracy.\n",
    "2. **R-squared ($ R^2 $)**: The proportion of the variance in the dependent variable that is predictable from the independent variables."
   ]
  },
  {
   "cell_type": "markdown",
   "metadata": {},
   "source": [
    "## Setting up the environment"
   ]
  },
  {
   "cell_type": "markdown",
   "metadata": {},
   "source": [
    "##### **Q1: How do you install the necessary PyTorch libraries using a Jupyter notebook?**"
   ]
  },
  {
   "cell_type": "code",
   "execution_count": null,
   "metadata": {},
   "outputs": [],
   "source": [
    "# !pip install torch torchvision torchaudio"
   ]
  },
  {
   "cell_type": "markdown",
   "metadata": {},
   "source": [
    "##### **Q2: How do you import the required libraries for linear regression?**"
   ]
  },
  {
   "cell_type": "code",
   "execution_count": 1,
   "metadata": {},
   "outputs": [],
   "source": [
    "import torch\n",
    "import torch.nn as nn\n",
    "import torch.optim as optim\n",
    "from torch.utils.data import DataLoader, TensorDataset"
   ]
  },
  {
   "cell_type": "markdown",
   "metadata": {},
   "source": [
    "##### **Q3: How do you check the version of PyTorch installed?**"
   ]
  },
  {
   "cell_type": "code",
   "execution_count": 2,
   "metadata": {},
   "outputs": [
    {
     "name": "stdout",
     "output_type": "stream",
     "text": [
      "2.3.1+cu121\n"
     ]
    }
   ],
   "source": [
    "print(torch.__version__)"
   ]
  },
  {
   "cell_type": "markdown",
   "metadata": {},
   "source": [
    "## Generating synthetic data"
   ]
  },
  {
   "cell_type": "markdown",
   "metadata": {},
   "source": [
    "##### **Q4: How do you generate synthetic data for linear regression in PyTorch?**"
   ]
  },
  {
   "cell_type": "code",
   "execution_count": 11,
   "metadata": {},
   "outputs": [
    {
     "data": {
      "image/png": "[encoded data removed]",
      "text/plain": [
       "<Figure size 640x480 with 1 Axes>"
      ]
     },
     "metadata": {},
     "output_type": "display_data"
    }
   ],
   "source": [
    "import numpy as np\n",
    "import matplotlib.pyplot as plt\n",
    "\n",
    "# Define true parameters\n",
    "true_slope = 2.0\n",
    "true_intercept = 1.0\n",
    "\n",
    "# Generate input features\n",
    "n_samples = 200\n",
    "X = np.random.rand(n_samples, 1) * 10\n",
    "\n",
    "# Generate targets with some noise\n",
    "noise = np.random.randn(n_samples, 1) * 2\n",
    "y = true_slope * X + true_intercept + noise\n",
    "\n",
    "# Convert to PyTorch tensors\n",
    "X_tensor = torch.tensor(X, dtype=torch.float32)\n",
    "y_tensor = torch.tensor(y, dtype=torch.float32)\n",
    "\n",
    "# Plot the generated data\n",
    "plt.scatter(X, y, label='Data')\n",
    "plt.xlabel('X')\n",
    "plt.ylabel('y')\n",
    "plt.title('Synthetic Data for Linear Regression')\n",
    "plt.legend()\n",
    "plt.show()"
   ]
  },
  {
   "cell_type": "markdown",
   "metadata": {},
   "source": [
    "##### **Q5: How do you add noise to the synthetic data to simulate real-world scenarios?**"
   ]
  },
  {
   "cell_type": "code",
   "execution_count": 12,
   "metadata": {},
   "outputs": [
    {
     "data": {
      "image/png": "[encoded data removed]",
      "text/plain": [
       "<Figure size 640x480 with 1 Axes>"
      ]
     },
     "metadata": {},
     "output_type": "display_data"
    }
   ],
   "source": [
    "# Same as above. i.e.,\n",
    "true_slope = 2.0\n",
    "true_intercept = 1.0\n",
    "\n",
    "n_samples = 200\n",
    "X = np.random.rand(n_samples, 1) * 10\n",
    "\n",
    "# Generate noise with a mean of 0 and a standard deviation of 2\n",
    "noise = np.random.randn(n_samples, 1) * 2\n",
    "\n",
    "y = true_slope * X + true_intercept + noise\n",
    "\n",
    "X_tensor = torch.tensor(X, dtype=torch.float32)\n",
    "y_tensor = torch.tensor(y, dtype=torch.float32)\n",
    "\n",
    "plt.scatter(X, y, label='Noisy Data')\n",
    "plt.xlabel('X')\n",
    "plt.ylabel('y')\n",
    "plt.title('Synthetic Data with Noise for Linear Regression')\n",
    "plt.legend()\n",
    "plt.show()"
   ]
  },
  {
   "cell_type": "markdown",
   "metadata": {},
   "source": [
    "##### **Q6: How do you visualize the synthetic data using `matplotlib`?**"
   ]
  },
  {
   "cell_type": "code",
   "execution_count": 13,
   "metadata": {},
   "outputs": [
    {
     "data": {
      "image/png": "[encoded data removed]",
      "text/plain": [
       "<Figure size 640x480 with 1 Axes>"
      ]
     },
     "metadata": {},
     "output_type": "display_data"
    }
   ],
   "source": [
    "# Again, same as above:\n",
    "plt.scatter(X, y, label='Noisy Data')\n",
    "plt.xlabel('X')\n",
    "plt.ylabel('y')\n",
    "plt.title('Synthetic Data with Noise for Linear Regression')\n",
    "plt.legend()\n",
    "plt.show()"
   ]
  },
  {
   "cell_type": "markdown",
   "metadata": {},
   "source": [
    "##### **Q7: How do you split the synthetic data into training and testing sets?**"
   ]
  },
  {
   "cell_type": "code",
   "execution_count": 14,
   "metadata": {},
   "outputs": [],
   "source": [
    "# Use sklearn's train_test_split\n",
    "from sklearn.model_selection import train_test_split\n",
    "\n",
    "# Split the data (80% training, 20% testing)\n",
    "X_train, X_test, y_train, y_test = train_test_split(X, y, test_size=0.2, random_state=42)\n",
    "\n",
    "X_train_tensor = torch.tensor(X_train, dtype=torch.float32)\n",
    "y_train_tensor = torch.tensor(y_train, dtype=torch.float32)\n",
    "X_test_tensor = torch.tensor(X_test, dtype=torch.float32)\n",
    "y_test_tensor = torch.tensor(y_test, dtype=torch.float32)"
   ]
  },
  {
   "cell_type": "code",
   "execution_count": 15,
   "metadata": {},
   "outputs": [
    {
     "data": {
      "text/plain": [
       "torch.Size([160, 1])"
      ]
     },
     "execution_count": 15,
     "metadata": {},
     "output_type": "execute_result"
    }
   ],
   "source": [
    "X_train_tensor.shape"
   ]
  },
  {
   "cell_type": "code",
   "execution_count": 16,
   "metadata": {},
   "outputs": [
    {
     "data": {
      "text/plain": [
       "torch.Size([40, 1])"
      ]
     },
     "execution_count": 16,
     "metadata": {},
     "output_type": "execute_result"
    }
   ],
   "source": [
    "X_test_tensor.shape"
   ]
  },
  {
   "cell_type": "markdown",
   "metadata": {},
   "source": [
    "## Defining the linear regression model"
   ]
  },
  {
   "cell_type": "markdown",
   "metadata": {},
   "source": [
    "##### **Q8: How do you define a simple linear regression model using `nn.Module` in PyTorch?**"
   ]
  },
  {
   "cell_type": "code",
   "execution_count": 17,
   "metadata": {},
   "outputs": [
    {
     "name": "stdout",
     "output_type": "stream",
     "text": [
      "LinearRegressionModel(\n",
      "  (linear): Linear(in_features=1, out_features=1, bias=True)\n",
      ")\n"
     ]
    }
   ],
   "source": [
    "# Create a custom class inheriting from nn.Module\n",
    "class LinearRegressionModel(nn.Module):\n",
    "    def __init__(self):\n",
    "        super(LinearRegressionModel, self).__init__()\n",
    "        self.linear = nn.Linear(1, 1)  # One input and one output feature\n",
    "    \n",
    "    def forward(self, x):\n",
    "        return self.linear(x)\n",
    "\n",
    "# Instantiate the model\n",
    "model = LinearRegressionModel()\n",
    "\n",
    "# Print the model architecture\n",
    "print(model)"
   ]
  },
  {
   "cell_type": "markdown",
   "metadata": {},
   "source": [
    "##### **Q9: How do you initialize the weights and biases of the linear regression model?**"
   ]
  },
  {
   "cell_type": "code",
   "execution_count": 21,
   "metadata": {},
   "outputs": [
    {
     "name": "stdout",
     "output_type": "stream",
     "text": [
      "linear.weight tensor([[-0.0806]])\n",
      "linear.bias tensor([0.])\n"
     ]
    }
   ],
   "source": [
    "# Function to initialize weights and biases\n",
    "def init_weights(m):\n",
    "    if isinstance(m, nn.Linear):\n",
    "        torch.nn.init.uniform_(m.weight, a=-0.1, b=0.1)  # Initialize weights uniformly between -0.1 and 0.1\n",
    "        torch.nn.init.constant_(m.bias, 0.0)             # Initialize bias to zero\n",
    "\n",
    "model = LinearRegressionModel()\n",
    "\n",
    "# Apply the initialization function\n",
    "model.apply(init_weights)\n",
    "\n",
    "# Print initialized weights and biases\n",
    "for name, param in model.named_parameters():\n",
    "    if param.requires_grad:\n",
    "        print(name, param.data)"
   ]
  },
  {
   "cell_type": "markdown",
   "metadata": {},
   "source": [
    "##### **Q10: How do you print the model summary to view its structure?**"
   ]
  },
  {
   "cell_type": "code",
   "execution_count": 24,
   "metadata": {},
   "outputs": [
    {
     "name": "stdout",
     "output_type": "stream",
     "text": [
      "cuda\n"
     ]
    }
   ],
   "source": [
    "# Install the torchsummary package\n",
    "# !pip install torchsummary\n",
    "\n",
    "from torchsummary import summary\n",
    "\n",
    "# Check if CUDA is available\n",
    "device = torch.device(\"cuda\" if torch.cuda.is_available() else \"cpu\")\n",
    "print(device)"
   ]
  },
  {
   "cell_type": "code",
   "execution_count": 25,
   "metadata": {},
   "outputs": [],
   "source": [
    "# Redefine the linear regression model's class\n",
    "class LinearRegressionModel(nn.Module):\n",
    "    def __init__(self):\n",
    "        super(LinearRegressionModel, self).__init__()\n",
    "        self.linear = nn.Linear(1, 1)  # One input and one output feature\n",
    "    \n",
    "    def forward(self, x):\n",
    "        return self.linear(x)\n",
    "\n",
    "# Instantiate the model and move it to the device (w/o doing so, PyTorch will throw out an error when trying to print the summary)\n",
    "model = LinearRegressionModel().to(device)"
   ]
  },
  {
   "cell_type": "code",
   "execution_count": 26,
   "metadata": {},
   "outputs": [
    {
     "name": "stdout",
     "output_type": "stream",
     "text": [
      "----------------------------------------------------------------\n",
      "        Layer (type)               Output Shape         Param #\n",
      "================================================================\n",
      "            Linear-1                    [-1, 1]               2\n",
      "================================================================\n",
      "Total params: 2\n",
      "Trainable params: 2\n",
      "Non-trainable params: 0\n",
      "----------------------------------------------------------------\n",
      "Input size (MB): 0.00\n",
      "Forward/backward pass size (MB): 0.00\n",
      "Params size (MB): 0.00\n",
      "Estimated Total Size (MB): 0.00\n",
      "----------------------------------------------------------------\n"
     ]
    }
   ],
   "source": [
    "# Print the model summary on the specified device\n",
    "summary(model, input_size=(1,), device=device.type)"
   ]
  },
  {
   "cell_type": "markdown",
   "metadata": {},
   "source": [
    "## Loss function and optimizer"
   ]
  },
  {
   "cell_type": "markdown",
   "metadata": {},
   "source": [
    "##### **Q11: How do you define a loss function for linear regression in PyTorch?**"
   ]
  },
  {
   "cell_type": "code",
   "execution_count": 85,
   "metadata": {},
   "outputs": [],
   "source": [
    "# Reinstantiate the linear regression class\n",
    "class LinearRegressionModel(nn.Module):\n",
    "    def __init__(self):\n",
    "        super(LinearRegressionModel, self).__init__()\n",
    "        self.linear = nn.Linear(1, 1)  # One input and one output feature\n",
    "    \n",
    "    def forward(self, x):\n",
    "        return self.linear(x)"
   ]
  },
  {
   "cell_type": "code",
   "execution_count": 49,
   "metadata": {},
   "outputs": [],
   "source": [
    "# Mean Squared Error, used when large errors are undesirable (since it penalizes large errors more heavily)\n",
    "criterion_mse = nn.MSELoss()\n",
    "\n",
    "# MAE, used when you want a more robust measure against outliers\n",
    "criterion_mae = nn.L1Loss()\n",
    "\n",
    "# Huber Loss, used when you want a balance between MSE and MAE\n",
    "criterion_hls = nn.SmoothL1Loss()"
   ]
  },
  {
   "cell_type": "code",
   "execution_count": 84,
   "metadata": {},
   "outputs": [
    {
     "name": "stdout",
     "output_type": "stream",
     "text": [
      "Epoch [100/1000], Loss: 3.3657\n",
      "Epoch [200/1000], Loss: 3.3100\n",
      "Epoch [300/1000], Loss: 3.2871\n",
      "Epoch [400/1000], Loss: 3.2777\n",
      "Epoch [500/1000], Loss: 3.2738\n",
      "Epoch [600/1000], Loss: 3.2722\n",
      "Epoch [700/1000], Loss: 3.2716\n",
      "Epoch [800/1000], Loss: 3.2713\n",
      "Epoch [900/1000], Loss: 3.2712\n",
      "Epoch [1000/1000], Loss: 3.2712\n"
     ]
    }
   ],
   "source": [
    "model = LinearRegressionModel()\n",
    "\n",
    "# Define the loss function\n",
    "criterion = nn.MSELoss()\n",
    "\n",
    "# Define the optimizer\n",
    "optimizer = optim.SGD(model.parameters(), lr=0.01)\n",
    "\n",
    "# Training loop\n",
    "num_epochs = 1000\n",
    "for epoch in range(num_epochs):\n",
    "    # Forward pass: compute predicted y by passing x to the model\n",
    "    outputs = model(X_train_tensor)\n",
    "    \n",
    "    # Compute the loss\n",
    "    loss = criterion(outputs, y_train_tensor)\n",
    "    \n",
    "    # Zero gradients, perform a backward pass, and update the weights\n",
    "    optimizer.zero_grad()  # Zero the gradients\n",
    "    loss.backward()        # Backward pass\n",
    "    optimizer.step()       # Update the weights\n",
    "\n",
    "    if (epoch+1) % 100 == 0:\n",
    "        print(f'Epoch [{epoch+1}/{num_epochs}], Loss: {loss.item():.4f}')"
   ]
  },
  {
   "cell_type": "markdown",
   "metadata": {},
   "source": [
    "##### **Q12: How do you choose and configure an optimizer for your linear regression model?**"
   ]
  },
  {
   "cell_type": "code",
   "execution_count": 37,
   "metadata": {},
   "outputs": [],
   "source": [
    "# Stochastic Gradient Descent (SGD), which updates the parameters using the gradient of the loss function with respect to each parameter and is suitable for simple models and large datasets\n",
    "optimizer_sgd = optim.SGD(model.parameters(), lr=0.01)\n",
    "\n",
    "# RMSprop, which adapts the learning rate for each parameter and is suitable for non-stationary objectives\n",
    "optimizer_rmsprop = optim.RMSprop(model.parameters(), lr=0.01, alpha=0.99, eps=1e-08)\n",
    "\n",
    "# Adam, which combines the advantages of AdaGrad and RMSProp and is often used for more complex models since it provides good default settings\n",
    "optimizer_adam = optim.Adam(model.parameters(), lr=0.01, betas=(0.9, 0.999), eps=1e-08)"
   ]
  },
  {
   "cell_type": "code",
   "execution_count": 86,
   "metadata": {},
   "outputs": [
    {
     "name": "stdout",
     "output_type": "stream",
     "text": [
      "Epoch [100/1000], Loss: 3.2720\n",
      "Epoch [200/1000], Loss: 3.2715\n",
      "Epoch [300/1000], Loss: 3.2713\n",
      "Epoch [400/1000], Loss: 3.2712\n",
      "Epoch [500/1000], Loss: 3.2712\n",
      "Epoch [600/1000], Loss: 3.2711\n",
      "Epoch [700/1000], Loss: 3.2711\n",
      "Epoch [800/1000], Loss: 3.2711\n",
      "Epoch [900/1000], Loss: 3.2711\n",
      "Epoch [1000/1000], Loss: 3.2711\n"
     ]
    }
   ],
   "source": [
    "# For SGD:\n",
    "model = LinearRegressionModel()\n",
    "\n",
    "criterion = nn.MSELoss()\n",
    "\n",
    "optimizer_sgd = optim.SGD(model.parameters(), lr=0.01)\n",
    "\n",
    "# Training loop for SGD\n",
    "num_epochs = 1000\n",
    "for epoch in range(num_epochs):\n",
    "    outputs = model(X_train_tensor)\n",
    "    \n",
    "    loss = criterion(outputs, y_train_tensor)\n",
    "    \n",
    "    optimizer_sgd.zero_grad()  # Zero the gradients\n",
    "    loss.backward()             # Backward pass\n",
    "    optimizer_sgd.step()       # Update the weights\n",
    "\n",
    "    if (epoch+1) % 100 == 0:\n",
    "        print(f'Epoch [{epoch+1}/{num_epochs}], Loss: {loss.item():.4f}')"
   ]
  },
  {
   "cell_type": "code",
   "execution_count": 87,
   "metadata": {},
   "outputs": [
    {
     "name": "stdout",
     "output_type": "stream",
     "text": [
      "Epoch [100/1000], Loss: 25.6157\n",
      "Epoch [200/1000], Loss: 5.9379\n",
      "Epoch [300/1000], Loss: 4.2710\n",
      "Epoch [400/1000], Loss: 4.0479\n",
      "Epoch [500/1000], Loss: 3.8108\n",
      "Epoch [600/1000], Loss: 3.5761\n",
      "Epoch [700/1000], Loss: 3.3977\n",
      "Epoch [800/1000], Loss: 3.3037\n",
      "Epoch [900/1000], Loss: 3.2749\n",
      "Epoch [1000/1000], Loss: 3.2712\n"
     ]
    }
   ],
   "source": [
    "# For RMSprop:\n",
    "model = LinearRegressionModel()\n",
    "\n",
    "criterion = nn.MSELoss()\n",
    "\n",
    "optimizer_rmsprop = optim.RMSprop(model.parameters(), lr=0.01, alpha=0.99, eps=1e-08)\n",
    "\n",
    "# Training loop for SGD\n",
    "num_epochs = 1000\n",
    "for epoch in range(num_epochs):\n",
    "    outputs = model(X_train_tensor)\n",
    "    \n",
    "    loss = criterion(outputs, y_train_tensor)\n",
    "    \n",
    "    optimizer_rmsprop.zero_grad()  # Zero the gradients\n",
    "    loss.backward()             # Backward pass\n",
    "    optimizer_rmsprop.step()       # Update the weights\n",
    "\n",
    "    if (epoch+1) % 100 == 0:\n",
    "        print(f'Epoch [{epoch+1}/{num_epochs}], Loss: {loss.item():.4f}')"
   ]
  },
  {
   "cell_type": "code",
   "execution_count": 88,
   "metadata": {},
   "outputs": [
    {
     "name": "stdout",
     "output_type": "stream",
     "text": [
      "Epoch [100/1000], Loss: 11.3717\n",
      "Epoch [200/1000], Loss: 3.5144\n",
      "Epoch [300/1000], Loss: 3.2728\n",
      "Epoch [400/1000], Loss: 3.2712\n",
      "Epoch [500/1000], Loss: 3.2712\n",
      "Epoch [600/1000], Loss: 3.2712\n",
      "Epoch [700/1000], Loss: 3.2712\n",
      "Epoch [800/1000], Loss: 3.2712\n",
      "Epoch [900/1000], Loss: 3.2711\n",
      "Epoch [1000/1000], Loss: 3.2711\n"
     ]
    }
   ],
   "source": [
    "# For Adam:\n",
    "model = LinearRegressionModel()\n",
    "\n",
    "criterion = nn.MSELoss()\n",
    "\n",
    "optimizer_adam = optim.Adam(model.parameters(), lr=0.01, betas=(0.9, 0.999), eps=1e-08)\n",
    "\n",
    "# Training loop for SGD\n",
    "num_epochs = 1000\n",
    "for epoch in range(num_epochs):\n",
    "    outputs = model(X_train_tensor)\n",
    "    \n",
    "    loss = criterion(outputs, y_train_tensor)\n",
    "    \n",
    "    optimizer_adam.zero_grad()  # Zero the gradients\n",
    "    loss.backward()             # Backward pass\n",
    "    optimizer_adam.step()       # Update the weights\n",
    "\n",
    "    if (epoch+1) % 100 == 0:\n",
    "        print(f'Epoch [{epoch+1}/{num_epochs}], Loss: {loss.item():.4f}')"
   ]
  },
  {
   "cell_type": "markdown",
   "metadata": {},
   "source": [
    "##### **Q13: What is the purpose of the learning rate in the optimizer, and how do you set it?**"
   ]
  },
  {
   "cell_type": "markdown",
   "metadata": {},
   "source": [
    "The learning rate is a hyperparameter that controls the size of the steps that the optimizer takes to update the model parameters in each iteration — i.e., it determines how much the model parameters (weights and biases) are adjusted with respect to the gradient of the loss function.\n",
    "\n",
    "A larger learning rate means larger updates to the parameters, while a smaller learning rate means smaller updates. In turn, it affects how quickly or slowly a model converges to a minimum of the loss function."
   ]
  },
  {
   "cell_type": "code",
   "execution_count": 51,
   "metadata": {},
   "outputs": [],
   "source": [
    "# Reinstantiate the model\n",
    "class LinearRegressionModel(nn.Module):\n",
    "    def __init__(self):\n",
    "        super(LinearRegressionModel, self).__init__()\n",
    "        self.linear = nn.Linear(1, 1)  # One input and one output feature\n",
    "    \n",
    "    def forward(self, x):\n",
    "        return self.linear(x)\n",
    "\n",
    "model = LinearRegressionModel()"
   ]
  },
  {
   "cell_type": "code",
   "execution_count": 52,
   "metadata": {},
   "outputs": [
    {
     "name": "stdout",
     "output_type": "stream",
     "text": [
      "Epoch [100/1000], Loss: 3.4065, Learning Rate: 0.001000\n",
      "Epoch [200/1000], Loss: 3.3940, Learning Rate: 0.000100\n",
      "Epoch [300/1000], Loss: 3.3928, Learning Rate: 0.000010\n",
      "Epoch [400/1000], Loss: 3.3927, Learning Rate: 0.000001\n",
      "Epoch [500/1000], Loss: 3.3927, Learning Rate: 0.000000\n",
      "Epoch [600/1000], Loss: 3.3927, Learning Rate: 0.000000\n",
      "Epoch [700/1000], Loss: 3.3927, Learning Rate: 0.000000\n",
      "Epoch [800/1000], Loss: 3.3927, Learning Rate: 0.000000\n",
      "Epoch [900/1000], Loss: 3.3927, Learning Rate: 0.000000\n",
      "Epoch [1000/1000], Loss: 3.3927, Learning Rate: 0.000000\n"
     ]
    }
   ],
   "source": [
    "# Use a learning rate scheduler\n",
    "criterion = nn.MSELoss()\n",
    "\n",
    "# Define the optimizer with a specific learning rate\n",
    "learning_rate = 0.01\n",
    "optimizer = optim.SGD(model.parameters(), lr=learning_rate)\n",
    "\n",
    "# Define a learning rate scheduler\n",
    "scheduler = optim.lr_scheduler.StepLR(optimizer, step_size=100, gamma=0.1)\n",
    "\n",
    "num_epochs = 1000\n",
    "for epoch in range(num_epochs):\n",
    "    outputs = model(X_train_tensor)\n",
    "    \n",
    "    loss = criterion(outputs, y_train_tensor)\n",
    "    \n",
    "    optimizer.zero_grad()  # Zero the gradients\n",
    "    loss.backward()        # Backward pass\n",
    "    optimizer.step()       # Update the weights\n",
    "    \n",
    "    # Step the scheduler\n",
    "    scheduler.step()\n",
    "    \n",
    "    if (epoch+1) % 100 == 0:\n",
    "        print(f'Epoch [{epoch+1}/{num_epochs}], Loss: {loss.item():.4f}, Learning Rate: {scheduler.get_last_lr()[0]:.6f}')"
   ]
  },
  {
   "cell_type": "markdown",
   "metadata": {},
   "source": [
    "## Training the linear regression model"
   ]
  },
  {
   "cell_type": "markdown",
   "metadata": {},
   "source": [
    "##### **Q14: How do you create a training loop for linear regression in PyTorch?**"
   ]
  },
  {
   "cell_type": "code",
   "execution_count": 53,
   "metadata": {},
   "outputs": [],
   "source": [
    "# Redefine the model\n",
    "class LinearRegressionModel(nn.Module):\n",
    "    def __init__(self):\n",
    "        super(LinearRegressionModel, self).__init__()\n",
    "        self.linear = nn.Linear(1, 1)  # One input and one output feature\n",
    "    \n",
    "    def forward(self, x):\n",
    "        return self.linear(x)\n",
    "\n",
    "model = LinearRegressionModel()"
   ]
  },
  {
   "cell_type": "code",
   "execution_count": 54,
   "metadata": {},
   "outputs": [
    {
     "name": "stdout",
     "output_type": "stream",
     "text": [
      "Epoch [100/1000], Loss: 3.2718\n",
      "Epoch [200/1000], Loss: 3.2714\n",
      "Epoch [300/1000], Loss: 3.2712\n",
      "Epoch [400/1000], Loss: 3.2712\n",
      "Epoch [500/1000], Loss: 3.2712\n",
      "Epoch [600/1000], Loss: 3.2711\n",
      "Epoch [700/1000], Loss: 3.2711\n",
      "Epoch [800/1000], Loss: 3.2711\n",
      "Epoch [900/1000], Loss: 3.2711\n",
      "Epoch [1000/1000], Loss: 3.2711\n"
     ]
    }
   ],
   "source": [
    "# Recreate the training loop\n",
    "criterion = nn.MSELoss()\n",
    "\n",
    "optimizer = optim.SGD(model.parameters(), lr=0.01)\n",
    "\n",
    "num_epochs = 1000\n",
    "for epoch in range(num_epochs):\n",
    "    outputs = model(X_train_tensor)\n",
    "    \n",
    "    loss = criterion(outputs, y_train_tensor)\n",
    "    \n",
    "    optimizer.zero_grad()  # Zero the gradients\n",
    "    loss.backward()        # Backward pass\n",
    "    optimizer.step()       # Update the weights\n",
    "\n",
    "    if (epoch + 1) % 100 == 0:\n",
    "        print(f'Epoch [{epoch+1}/{num_epochs}], Loss: {loss.item():.4f}')"
   ]
  },
  {
   "cell_type": "code",
   "execution_count": 55,
   "metadata": {},
   "outputs": [
    {
     "name": "stdout",
     "output_type": "stream",
     "text": [
      "Epoch [100/1000], Loss: 3.2711, Validation Loss: 3.1358\n",
      "Epoch [200/1000], Loss: 3.2711, Validation Loss: 3.1359\n",
      "Epoch [300/1000], Loss: 3.2711, Validation Loss: 3.1360\n",
      "Epoch [400/1000], Loss: 3.2711, Validation Loss: 3.1360\n",
      "Epoch [500/1000], Loss: 3.2711, Validation Loss: 3.1360\n",
      "Epoch [600/1000], Loss: 3.2711, Validation Loss: 3.1361\n",
      "Epoch [700/1000], Loss: 3.2711, Validation Loss: 3.1361\n",
      "Epoch [800/1000], Loss: 3.2711, Validation Loss: 3.1361\n",
      "Epoch [900/1000], Loss: 3.2711, Validation Loss: 3.1361\n",
      "Epoch [1000/1000], Loss: 3.2711, Validation Loss: 3.1361\n"
     ]
    }
   ],
   "source": [
    "# You can also create a training loop w/ validation, using the test datasets instead of the training ones\n",
    "num_epochs = 1000\n",
    "for epoch in range(num_epochs):\n",
    "    outputs = model(X_train_tensor)\n",
    "    \n",
    "    loss = criterion(outputs, y_train_tensor)\n",
    "    \n",
    "    optimizer.zero_grad()  # Zero the gradients\n",
    "    loss.backward()        # Backward pass\n",
    "    optimizer.step()       # Update the weights\n",
    "\n",
    "    # Validation step\n",
    "    if (epoch + 1) % 100 == 0:\n",
    "        model.eval()  # Set model to evaluation mode\n",
    "        with torch.no_grad():  # Turn off gradients for validation\n",
    "            val_outputs = model(X_test_tensor)\n",
    "            val_loss = criterion(val_outputs, y_test_tensor)\n",
    "        model.train()  # Set model back to training mode\n",
    "        print(f'Epoch [{epoch+1}/{num_epochs}], Loss: {loss.item():.4f}, Validation Loss: {val_loss.item():.4f}')"
   ]
  },
  {
   "cell_type": "markdown",
   "metadata": {},
   "source": [
    "##### **Q15: How do you update the model parameters during training?**"
   ]
  },
  {
   "cell_type": "code",
   "execution_count": 62,
   "metadata": {},
   "outputs": [],
   "source": [
    "# Redefine the model\n",
    "class LinearRegressionModel(nn.Module):\n",
    "    def __init__(self):\n",
    "        super(LinearRegressionModel, self).__init__()\n",
    "        self.linear = nn.Linear(1, 1)  # One input and one output feature\n",
    "    \n",
    "    def forward(self, x):\n",
    "        return self.linear(x)\n",
    "\n",
    "model = LinearRegressionModel()"
   ]
  },
  {
   "cell_type": "code",
   "execution_count": 63,
   "metadata": {},
   "outputs": [
    {
     "name": "stdout",
     "output_type": "stream",
     "text": [
      "Epoch [100/1000], Loss: 3.2942\n",
      "Epoch [200/1000], Loss: 3.2806\n",
      "Epoch [300/1000], Loss: 3.2750\n",
      "Epoch [400/1000], Loss: 3.2727\n",
      "Epoch [500/1000], Loss: 3.2718\n",
      "Epoch [600/1000], Loss: 3.2714\n",
      "Epoch [700/1000], Loss: 3.2712\n",
      "Epoch [800/1000], Loss: 3.2712\n",
      "Epoch [900/1000], Loss: 3.2712\n",
      "Epoch [1000/1000], Loss: 3.2711\n"
     ]
    }
   ],
   "source": [
    "# In practice, the \"original\" training loop already does that with the zero_grad, backward and step methods in each epoch\n",
    "model = LinearRegressionModel()\n",
    "\n",
    "criterion = nn.MSELoss()\n",
    "\n",
    "optimizer = optim.SGD(model.parameters(), lr=0.01)\n",
    "\n",
    "num_epochs = 1000\n",
    "for epoch in range(num_epochs):\n",
    "    outputs = model(X_train_tensor)\n",
    "    \n",
    "    loss = criterion(outputs, y_train_tensor)\n",
    "    \n",
    "    optimizer.zero_grad()  # Zero the gradients\n",
    "    loss.backward()        # Backward pass to compute gradients\n",
    "    optimizer.step()       # Update the weights using the optimizer\n",
    "\n",
    "    if (epoch + 1) % 100 == 0:\n",
    "        print(f'Epoch [{epoch+1}/{num_epochs}], Loss: {loss.item():.4f}')"
   ]
  },
  {
   "cell_type": "code",
   "execution_count": 64,
   "metadata": {},
   "outputs": [
    {
     "name": "stdout",
     "output_type": "stream",
     "text": [
      "Epoch [100/1000], Loss: 3.7038, Validation Loss: 3.3604\n",
      "Epoch [200/1000], Loss: 0.9253, Validation Loss: 2.9898\n",
      "Epoch [300/1000], Loss: 6.3029, Validation Loss: 4.0592\n",
      "Epoch [400/1000], Loss: 4.0834, Validation Loss: 2.8337\n",
      "Epoch [500/1000], Loss: 2.4140, Validation Loss: 2.9252\n",
      "Epoch [600/1000], Loss: 6.0514, Validation Loss: 3.4769\n",
      "Epoch [700/1000], Loss: 4.1329, Validation Loss: 3.8214\n",
      "Epoch [800/1000], Loss: 1.7745, Validation Loss: 3.2817\n",
      "Epoch [900/1000], Loss: 1.4565, Validation Loss: 3.0396\n",
      "Epoch [1000/1000], Loss: 2.7038, Validation Loss: 2.8070\n"
     ]
    }
   ],
   "source": [
    "# Another option: training loop with batch processing and validation\n",
    "from torch.utils.data import DataLoader, TensorDataset\n",
    "\n",
    "# Create a DataLoader for batch processing\n",
    "train_dataset = TensorDataset(X_train_tensor, y_train_tensor)\n",
    "train_loader = DataLoader(dataset=train_dataset, batch_size=4, shuffle=True)\n",
    "\n",
    "# Training loop with batch processing and validation\n",
    "num_epochs = 1000\n",
    "for epoch in range(num_epochs):\n",
    "    for X_batch, y_batch in train_loader:\n",
    "        outputs = model(X_batch)\n",
    "        \n",
    "        loss = criterion(outputs, y_batch)\n",
    "        \n",
    "        optimizer.zero_grad()\n",
    "        loss.backward()\n",
    "        optimizer.step()\n",
    "    \n",
    "    if (epoch + 1) % 100 == 0:\n",
    "        model.eval()  # Set model to evaluation mode\n",
    "        with torch.no_grad():\n",
    "            val_outputs = model(X_test_tensor)\n",
    "            val_loss = criterion(val_outputs, y_test_tensor)\n",
    "        model.train()  # Set model back to training mode\n",
    "        print(f'Epoch [{epoch+1}/{num_epochs}], Loss: {loss.item():.4f}, Validation Loss: {val_loss.item():.4f}')"
   ]
  },
  {
   "cell_type": "markdown",
   "metadata": {},
   "source": [
    "##### **Q16: How do you calculate and print the training loss during each epoch?**"
   ]
  },
  {
   "cell_type": "code",
   "execution_count": 80,
   "metadata": {},
   "outputs": [],
   "source": [
    "# Redefine the model\n",
    "class LinearRegressionModel(nn.Module):\n",
    "    def __init__(self):\n",
    "        super(LinearRegressionModel, self).__init__()\n",
    "        self.linear = nn.Linear(1, 1)  # One input and one output feature\n",
    "    \n",
    "    def forward(self, x):\n",
    "        return self.linear(x)\n",
    "\n",
    "model = LinearRegressionModel()"
   ]
  },
  {
   "cell_type": "code",
   "execution_count": 81,
   "metadata": {},
   "outputs": [
    {
     "name": "stdout",
     "output_type": "stream",
     "text": [
      "Epoch [1/10], Loss: 353.2000\n",
      "Epoch [2/10], Loss: 27.0552\n",
      "Epoch [3/10], Loss: 5.2127\n",
      "Epoch [4/10], Loss: 3.7470\n",
      "Epoch [5/10], Loss: 3.6458\n",
      "Epoch [6/10], Loss: 3.6360\n",
      "Epoch [7/10], Loss: 3.6323\n",
      "Epoch [8/10], Loss: 3.6291\n",
      "Epoch [9/10], Loss: 3.6259\n",
      "Epoch [10/10], Loss: 3.6228\n"
     ]
    }
   ],
   "source": [
    "# Just a little modification to the training loop\n",
    "criterion = nn.MSELoss()\n",
    "\n",
    "optimizer = optim.SGD(model.parameters(), lr=0.01)\n",
    "\n",
    "num_epochs = 10\n",
    "for epoch in range(num_epochs):\n",
    "    outputs = model(X_train_tensor)\n",
    "    \n",
    "    loss = criterion(outputs, y_train_tensor)\n",
    "    \n",
    "    optimizer.zero_grad()  # Zero the gradients\n",
    "    loss.backward()        # Backward pass to compute gradients\n",
    "    optimizer.step()       # Update the weights using the optimizer\n",
    "\n",
    "    # Print loss every epoch\n",
    "    print(f'Epoch [{epoch+1}/{num_epochs}], Loss: {loss.item():.4f}')"
   ]
  },
  {
   "cell_type": "markdown",
   "metadata": {},
   "source": [
    "##### **Q17: How do you visualize the training loss over epochs using `matplotlib`?**"
   ]
  },
  {
   "cell_type": "code",
   "execution_count": 89,
   "metadata": {},
   "outputs": [],
   "source": [
    "# Redefine the model\n",
    "class LinearRegressionModel(nn.Module):\n",
    "    def __init__(self):\n",
    "        super(LinearRegressionModel, self).__init__()\n",
    "        self.linear = nn.Linear(1, 1)  # One input and one output feature\n",
    "    \n",
    "    def forward(self, x):\n",
    "        return self.linear(x)"
   ]
  },
  {
   "cell_type": "code",
   "execution_count": 90,
   "metadata": {},
   "outputs": [
    {
     "name": "stdout",
     "output_type": "stream",
     "text": [
      "Epoch [100/1000], Loss: 3.2716\n",
      "Epoch [200/1000], Loss: 3.2713\n",
      "Epoch [300/1000], Loss: 3.2712\n",
      "Epoch [400/1000], Loss: 3.2712\n",
      "Epoch [500/1000], Loss: 3.2711\n",
      "Epoch [600/1000], Loss: 3.2711\n",
      "Epoch [700/1000], Loss: 3.2711\n",
      "Epoch [800/1000], Loss: 3.2711\n",
      "Epoch [900/1000], Loss: 3.2711\n",
      "Epoch [1000/1000], Loss: 3.2711\n"
     ]
    }
   ],
   "source": [
    "# Modify the training loop to record loss\n",
    "model = LinearRegressionModel()\n",
    "\n",
    "criterion = nn.MSELoss()\n",
    "\n",
    "optimizer = optim.SGD(model.parameters(), lr=0.01)\n",
    "\n",
    "num_epochs = 1000\n",
    "train_losses = []  # List to store the training losses\n",
    "\n",
    "for epoch in range(num_epochs):\n",
    "    outputs = model(X_train_tensor)\n",
    "    \n",
    "    loss = criterion(outputs, y_train_tensor)\n",
    "    \n",
    "    optimizer.zero_grad()  # Zero the gradients\n",
    "    loss.backward()        # Backward pass to compute gradients\n",
    "    optimizer.step()       # Update the weights using the optimizer\n",
    "\n",
    "    # Record the loss\n",
    "    train_losses.append(loss.item())\n",
    "    \n",
    "    if (epoch + 1) % 100 == 0:\n",
    "        print(f'Epoch [{epoch+1}/{num_epochs}], Loss: {loss.item():.4f}')"
   ]
  },
  {
   "cell_type": "code",
   "execution_count": 91,
   "metadata": {},
   "outputs": [
    {
     "data": {
      "image/png": "[encoded data removed]",
      "text/plain": [
       "<Figure size 1000x500 with 1 Axes>"
      ]
     },
     "metadata": {},
     "output_type": "display_data"
    }
   ],
   "source": [
    "# Plot the training loss\n",
    "plt.figure(figsize=(10, 5))\n",
    "plt.plot(range(1, num_epochs + 1), train_losses, label='Training Loss')\n",
    "plt.xlabel('Epoch')\n",
    "plt.ylabel('Loss')\n",
    "plt.title('Training Loss Over Epochs')\n",
    "plt.legend()\n",
    "plt.grid(True)\n",
    "plt.show()"
   ]
  },
  {
   "cell_type": "code",
   "execution_count": 92,
   "metadata": {},
   "outputs": [
    {
     "name": "stdout",
     "output_type": "stream",
     "text": [
      "Epoch [100/1000], Training Loss: 3.2711, Validation Loss: 3.1358\n",
      "Epoch [200/1000], Training Loss: 3.2711, Validation Loss: 3.1359\n",
      "Epoch [300/1000], Training Loss: 3.2711, Validation Loss: 3.1360\n",
      "Epoch [400/1000], Training Loss: 3.2711, Validation Loss: 3.1360\n",
      "Epoch [500/1000], Training Loss: 3.2711, Validation Loss: 3.1360\n",
      "Epoch [600/1000], Training Loss: 3.2711, Validation Loss: 3.1361\n",
      "Epoch [700/1000], Training Loss: 3.2711, Validation Loss: 3.1361\n",
      "Epoch [800/1000], Training Loss: 3.2711, Validation Loss: 3.1361\n",
      "Epoch [900/1000], Training Loss: 3.2711, Validation Loss: 3.1361\n",
      "Epoch [1000/1000], Training Loss: 3.2711, Validation Loss: 3.1361\n"
     ]
    }
   ],
   "source": [
    "# Training loop with validation loss recording\n",
    "num_epochs = 1000\n",
    "train_losses = []\n",
    "val_losses = []\n",
    "\n",
    "for epoch in range(num_epochs):\n",
    "    # Training step\n",
    "    model.train()\n",
    "    outputs = model(X_train_tensor)\n",
    "    loss = criterion(outputs, y_train_tensor)\n",
    "    optimizer.zero_grad()\n",
    "    loss.backward()\n",
    "    optimizer.step()\n",
    "    train_losses.append(loss.item())\n",
    "\n",
    "    # Validation step every 100 epochs\n",
    "    if (epoch + 1) % 100 == 0:\n",
    "        model.eval()  # Set model to evaluation mode\n",
    "        with torch.no_grad():\n",
    "            val_outputs = model(X_test_tensor)\n",
    "            val_loss = criterion(val_outputs, y_test_tensor)\n",
    "        val_losses.append(val_loss.item())\n",
    "        model.train()  # Set model back to training mode\n",
    "        print(f'Epoch [{epoch+1}/{num_epochs}], Training Loss: {loss.item():.4f}, Validation Loss: {val_loss.item():.4f}')"
   ]
  },
  {
   "cell_type": "code",
   "execution_count": 93,
   "metadata": {},
   "outputs": [
    {
     "data": {
      "image/png": "[encoded data removed]",
      "text/plain": [
       "<Figure size 1000x500 with 1 Axes>"
      ]
     },
     "metadata": {},
     "output_type": "display_data"
    }
   ],
   "source": [
    "# Plot the training and validation loss\n",
    "plt.figure(figsize=(10, 5))\n",
    "plt.plot(range(1, num_epochs + 1), train_losses, label='Training Loss')\n",
    "plt.plot(range(100, num_epochs + 1, 100), val_losses, label='Validation Loss', marker='o')\n",
    "plt.xlabel('Epoch')\n",
    "plt.ylabel('Loss')\n",
    "plt.title('Training and Validation Loss Over Epochs')\n",
    "plt.legend()\n",
    "plt.grid(True)\n",
    "plt.show()"
   ]
  },
  {
   "cell_type": "markdown",
   "metadata": {},
   "source": [
    "##### **Q18: How do you use early stopping to prevent overfitting during training?**"
   ]
  },
  {
   "cell_type": "code",
   "execution_count": 94,
   "metadata": {},
   "outputs": [],
   "source": [
    "# Redefine the model\n",
    "class LinearRegressionModel(nn.Module):\n",
    "    def __init__(self):\n",
    "        super(LinearRegressionModel, self).__init__()\n",
    "        self.linear = nn.Linear(1, 1)  # One input and one output feature\n",
    "    \n",
    "    def forward(self, x):\n",
    "        return self.linear(x)\n",
    "\n",
    "model = LinearRegressionModel()"
   ]
  },
  {
   "cell_type": "code",
   "execution_count": 95,
   "metadata": {},
   "outputs": [],
   "source": [
    "# Redefine criterion, optimizer and DataLoader for batch processing\n",
    "criterion = nn.MSELoss()\n",
    "\n",
    "optimizer = optim.SGD(model.parameters(), lr=0.01)\n",
    "\n",
    "train_dataset = TensorDataset(X_train_tensor, y_train_tensor)\n",
    "train_loader = DataLoader(dataset=train_dataset, batch_size=4, shuffle=True)"
   ]
  },
  {
   "cell_type": "code",
   "execution_count": 96,
   "metadata": {},
   "outputs": [
    {
     "name": "stdout",
     "output_type": "stream",
     "text": [
      "Epoch [1/1000], Training Loss: 6.0415, Validation Loss: 5.1858\n",
      "Epoch [2/1000], Training Loss: 3.5869, Validation Loss: 3.5958\n",
      "Epoch [3/1000], Training Loss: 3.7494, Validation Loss: 2.9961\n",
      "Epoch [4/1000], Training Loss: 3.5544, Validation Loss: 2.8040\n",
      "Epoch [5/1000], Training Loss: 3.3564, Validation Loss: 5.4332\n",
      "Epoch [6/1000], Training Loss: 3.6589, Validation Loss: 3.4269\n",
      "Epoch [7/1000], Training Loss: 3.6945, Validation Loss: 2.8100\n",
      "Epoch [8/1000], Training Loss: 3.9817, Validation Loss: 3.3713\n",
      "Epoch [9/1000], Training Loss: 4.0876, Validation Loss: 3.9709\n",
      "Epoch [10/1000], Training Loss: 3.6591, Validation Loss: 6.1281\n",
      "Epoch [11/1000], Training Loss: 3.6938, Validation Loss: 3.1546\n",
      "Epoch [12/1000], Training Loss: 3.8200, Validation Loss: 3.6284\n",
      "Epoch [13/1000], Training Loss: 3.7348, Validation Loss: 3.0602\n",
      "Epoch [14/1000], Training Loss: 3.5262, Validation Loss: 2.9466\n",
      "Early stopping!\n"
     ]
    }
   ],
   "source": [
    "# Early stopping parameters\n",
    "patience = 10\n",
    "best_val_loss = float('inf')\n",
    "epochs_no_improve = 0\n",
    "early_stop = False\n",
    "\n",
    "# Training loop with early stopping\n",
    "num_epochs = 1000\n",
    "train_losses = []\n",
    "val_losses = []\n",
    "\n",
    "for epoch in range(num_epochs):\n",
    "    model.train()\n",
    "    epoch_train_loss = 0\n",
    "    for X_batch, y_batch in train_loader:\n",
    "        outputs = model(X_batch)\n",
    "        loss = criterion(outputs, y_batch)\n",
    "        optimizer.zero_grad()\n",
    "        loss.backward()\n",
    "        optimizer.step()\n",
    "        epoch_train_loss += loss.item()\n",
    "    \n",
    "    epoch_train_loss /= len(train_loader)\n",
    "    train_losses.append(epoch_train_loss)\n",
    "    \n",
    "    model.eval()\n",
    "    with torch.no_grad():\n",
    "        val_outputs = model(X_test_tensor)\n",
    "        val_loss = criterion(val_outputs, y_test_tensor)\n",
    "    val_losses.append(val_loss.item())\n",
    "\n",
    "    print(f'Epoch [{epoch+1}/{num_epochs}], Training Loss: {epoch_train_loss:.4f}, Validation Loss: {val_loss.item():.4f}')\n",
    "    \n",
    "    # Early stopping logic\n",
    "    if val_loss < best_val_loss:\n",
    "        best_val_loss = val_loss\n",
    "        epochs_no_improve = 0\n",
    "    else:\n",
    "        epochs_no_improve += 1\n",
    "        if epochs_no_improve == patience:\n",
    "            print('Early stopping!')\n",
    "            early_stop = True\n",
    "            break\n",
    "\n",
    "if not early_stop:\n",
    "    print('Finished training without early stopping.')"
   ]
  },
  {
   "cell_type": "code",
   "execution_count": 97,
   "metadata": {},
   "outputs": [
    {
     "data": {
      "image/png": "[encoded data removed]",
      "text/plain": [
       "<Figure size 1000x500 with 1 Axes>"
      ]
     },
     "metadata": {},
     "output_type": "display_data"
    }
   ],
   "source": [
    "# Plot the training and validation loss\n",
    "plt.figure(figsize=(10, 5))\n",
    "plt.plot(range(1, len(train_losses) + 1), train_losses, label='Training Loss')\n",
    "plt.plot(range(1, len(val_losses) + 1), val_losses, label='Validation Loss')\n",
    "plt.xlabel('Epoch')\n",
    "plt.ylabel('Loss')\n",
    "plt.title('Training and Validation Loss Over Epochs')\n",
    "plt.legend()\n",
    "plt.grid(True)\n",
    "plt.show()"
   ]
  },
  {
   "cell_type": "markdown",
   "metadata": {},
   "source": [
    "## Evaluating the model"
   ]
  },
  {
   "cell_type": "markdown",
   "metadata": {},
   "source": [
    "##### **Q19: How do you make predictions using your trained linear regression model?**"
   ]
  },
  {
   "cell_type": "code",
   "execution_count": 98,
   "metadata": {},
   "outputs": [
    {
     "name": "stdout",
     "output_type": "stream",
     "text": [
      "Predictions: [[12.124081 ]\n",
      " [ 8.419637 ]\n",
      " [ 3.4595432]\n",
      " [ 2.786137 ]\n",
      " [ 5.9455595]\n",
      " [ 3.504285 ]\n",
      " [13.612725 ]\n",
      " [15.226347 ]\n",
      " [ 3.9591377]\n",
      " [11.52244  ]\n",
      " [13.170976 ]\n",
      " [ 8.4189625]\n",
      " [19.793644 ]\n",
      " [13.613246 ]\n",
      " [19.500357 ]\n",
      " [20.863697 ]\n",
      " [16.567936 ]\n",
      " [ 8.098184 ]\n",
      " [ 4.0960717]\n",
      " [19.216763 ]\n",
      " [ 9.588596 ]\n",
      " [16.558563 ]\n",
      " [ 8.035274 ]\n",
      " [17.713877 ]\n",
      " [12.728314 ]\n",
      " [11.536508 ]\n",
      " [ 5.49104  ]\n",
      " [16.125135 ]\n",
      " [ 8.067756 ]\n",
      " [14.201613 ]\n",
      " [21.222473 ]\n",
      " [18.112215 ]\n",
      " [18.31961  ]\n",
      " [10.622123 ]\n",
      " [11.676633 ]\n",
      " [ 1.8522369]\n",
      " [19.198788 ]\n",
      " [ 4.0175276]\n",
      " [19.182745 ]\n",
      " [ 5.5049973]]\n"
     ]
    }
   ],
   "source": [
    "# Set model to evaluation mode\n",
    "model.eval()\n",
    "\n",
    "# Make predictions\n",
    "with torch.no_grad():  # Disable gradient calculation\n",
    "    predictions = model(X_test_tensor)\n",
    "\n",
    "# Convert predictions to NumPy array (optional)\n",
    "predictions = predictions.numpy()\n",
    "\n",
    "# Print predictions\n",
    "print(\"Predictions:\", predictions)"
   ]
  },
  {
   "cell_type": "code",
   "execution_count": 99,
   "metadata": {},
   "outputs": [
    {
     "data": {
      "image/png": "[encoded data removed]",
      "text/plain": [
       "<Figure size 1000x500 with 1 Axes>"
      ]
     },
     "metadata": {},
     "output_type": "display_data"
    }
   ],
   "source": [
    "# Convert tensors to numpy arrays for plotting\n",
    "X_test = X_test_tensor.numpy()\n",
    "y_test = y_test_tensor.numpy()\n",
    "\n",
    "# Plot the actual values and the predictions\n",
    "plt.figure(figsize=(10, 5))\n",
    "plt.scatter(X_test, y_test, color='blue', label='Actual Data')\n",
    "plt.plot(X_test, predictions, color='red', label='Predictions')\n",
    "plt.xlabel('Input')\n",
    "plt.ylabel('Output')\n",
    "plt.title('Actual vs Predicted Values')\n",
    "plt.legend()\n",
    "plt.grid(True)\n",
    "plt.show()"
   ]
  },
  {
   "cell_type": "markdown",
   "metadata": {},
   "source": [
    "##### **Q20: How do you evaluate the model's performance using metrics like Mean Squared Error (MSE)?**"
   ]
  },
  {
   "cell_type": "code",
   "execution_count": 101,
   "metadata": {},
   "outputs": [
    {
     "name": "stdout",
     "output_type": "stream",
     "text": [
      "Mean Squared Error: 2.9466\n",
      "Root Mean Squared Error: 1.7166\n",
      "Mean Absolute Error: 1.3248\n",
      "R-squared: 0.9005\n"
     ]
    }
   ],
   "source": [
    "# Use scikit-learn modules:\n",
    "from sklearn.metrics import mean_squared_error, mean_absolute_error, r2_score\n",
    "\n",
    "# Convert tensors to numpy arrays if needed\n",
    "predictions_np = predictions  # already converted in a previous step\n",
    "y_test_np = y_test_tensor.numpy()\n",
    "\n",
    "# Calculate metrics\n",
    "mse = mean_squared_error(y_test_np, predictions_np)\n",
    "print(f'Mean Squared Error: {mse:.4f}')\n",
    "\n",
    "rmse = np.sqrt(mse)\n",
    "print(f'Root Mean Squared Error: {rmse:.4f}')\n",
    "\n",
    "mae = mean_absolute_error(y_test_np, predictions_np)\n",
    "print(f'Mean Absolute Error: {mae:.4f}')\n",
    "\n",
    "r2 = r2_score(y_test_np, predictions_np)\n",
    "print(f'R-squared: {r2:.4f}')"
   ]
  },
  {
   "cell_type": "markdown",
   "metadata": {},
   "source": [
    "##### **Q21: How do you visualize the model's predictions against the actual data using `matplotlib`?**"
   ]
  },
  {
   "cell_type": "code",
   "execution_count": 102,
   "metadata": {},
   "outputs": [],
   "source": [
    "# Convert values to NumPy arrays if needed\n",
    "X_test_np = X_test_tensor.numpy()\n",
    "y_test_np = y_test_tensor.numpy()"
   ]
  },
  {
   "cell_type": "code",
   "execution_count": 103,
   "metadata": {},
   "outputs": [
    {
     "data": {
      "image/png": "[encoded data removed]",
      "text/plain": [
       "<Figure size 1000x500 with 1 Axes>"
      ]
     },
     "metadata": {},
     "output_type": "display_data"
    }
   ],
   "source": [
    "# Plot the actual values and the predictions\n",
    "plt.figure(figsize=(10, 5))\n",
    "plt.scatter(X_test_np, y_test_np, color='blue', label='Actual Data')\n",
    "plt.plot(X_test_np, predictions_np, color='red', label='Predictions', linewidth=2)\n",
    "plt.xlabel('Input')\n",
    "plt.ylabel('Output')\n",
    "plt.title('Actual vs Predicted Values')\n",
    "plt.legend()\n",
    "plt.grid(True)\n",
    "plt.show()"
   ]
  },
  {
   "cell_type": "markdown",
   "metadata": {},
   "source": [
    "##### **Q22: How do you calculate the $R$-squared value to evaluate the goodness-of-fit for your model?**"
   ]
  },
  {
   "cell_type": "code",
   "execution_count": 104,
   "metadata": {},
   "outputs": [
    {
     "name": "stdout",
     "output_type": "stream",
     "text": [
      "R-squared: 0.9005\n"
     ]
    }
   ],
   "source": [
    "# Code from a previous cell:\n",
    "r2 = r2_score(y_test_np, predictions_np)\n",
    "print(f'R-squared: {r2:.4f}')"
   ]
  },
  {
   "cell_type": "markdown",
   "metadata": {},
   "source": [
    "## Saving and loading the model"
   ]
  },
  {
   "cell_type": "markdown",
   "metadata": {},
   "source": [
    "##### **Q23: How do you save the trained linear regression model in PyTorch?**"
   ]
  },
  {
   "cell_type": "code",
   "execution_count": 105,
   "metadata": {},
   "outputs": [],
   "source": [
    "# Method 1: save the model state dictionary\n",
    "torch.save(model.state_dict(), 'linear_regression_model.pth')"
   ]
  },
  {
   "cell_type": "code",
   "execution_count": 106,
   "metadata": {},
   "outputs": [],
   "source": [
    "# Method 2: save the entire model\n",
    "torch.save(model, 'linear_regression_model_complete.pth')"
   ]
  },
  {
   "cell_type": "markdown",
   "metadata": {},
   "source": [
    "##### **Q24: How do you load a saved linear regression model in PyTorch?**"
   ]
  },
  {
   "cell_type": "code",
   "execution_count": 107,
   "metadata": {},
   "outputs": [
    {
     "data": {
      "text/plain": [
       "LinearRegressionModel(\n",
       "  (linear): Linear(in_features=1, out_features=1, bias=True)\n",
       ")"
      ]
     },
     "execution_count": 107,
     "metadata": {},
     "output_type": "execute_result"
    }
   ],
   "source": [
    "# For method 1:\n",
    "model.load_state_dict(torch.load('linear_regression_model.pth'))\n",
    "model.eval()"
   ]
  },
  {
   "cell_type": "code",
   "execution_count": 108,
   "metadata": {},
   "outputs": [
    {
     "data": {
      "text/plain": [
       "LinearRegressionModel(\n",
       "  (linear): Linear(in_features=1, out_features=1, bias=True)\n",
       ")"
      ]
     },
     "execution_count": 108,
     "metadata": {},
     "output_type": "execute_result"
    }
   ],
   "source": [
    "# For method 2:\n",
    "model = torch.load('linear_regression_model_complete.pth')\n",
    "model.eval()"
   ]
  },
  {
   "cell_type": "markdown",
   "metadata": {},
   "source": [
    "##### **Q25: How do you save and load the model's state dictionary in PyTorch?**"
   ]
  },
  {
   "cell_type": "code",
   "execution_count": 109,
   "metadata": {},
   "outputs": [],
   "source": [
    "# i.e., method 1:\n",
    "torch.save(model.state_dict(), 'linear_regression_model.pth')"
   ]
  },
  {
   "cell_type": "code",
   "execution_count": 110,
   "metadata": {},
   "outputs": [
    {
     "name": "stdout",
     "output_type": "stream",
     "text": [
      "File linear_regression_model_complete.pth deleted.\n",
      "File linear_regression_model.pth deleted.\n"
     ]
    }
   ],
   "source": [
    "import os\n",
    "\n",
    "filenames = ['linear_regression_model_complete.pth', 'linear_regression_model.pth']\n",
    "\n",
    "for filename in filenames:\n",
    "    if os.path.exists(filename):\n",
    "        os.remove(filename)\n",
    "        print(f'File {filename} deleted.')\n",
    "    else:\n",
    "        print(f'File {filename} not found.')"
   ]
  },
  {
   "cell_type": "markdown",
   "metadata": {},
   "source": [
    "## Optimizations"
   ]
  },
  {
   "cell_type": "markdown",
   "metadata": {},
   "source": [
    "##### **Q26: How do you perform hyperparameter tuning to improve the performance of your linear regression model?**"
   ]
  },
  {
   "cell_type": "code",
   "execution_count": 113,
   "metadata": {},
   "outputs": [
    {
     "data": {
      "image/png": "[encoded data removed]",
      "text/plain": [
       "<Figure size 640x480 with 1 Axes>"
      ]
     },
     "metadata": {},
     "output_type": "display_data"
    }
   ],
   "source": [
    "# Redefining dataset, just to make sure\n",
    "true_slope = 2.0\n",
    "true_intercept = 1.0\n",
    "\n",
    "n_samples = 200\n",
    "X = np.random.rand(n_samples, 1) * 10\n",
    "\n",
    "noise = np.random.randn(n_samples, 1) * 2\n",
    "y = true_slope * X + true_intercept + noise\n",
    "\n",
    "X_tensor = torch.tensor(X, dtype=torch.float32)\n",
    "y_tensor = torch.tensor(y, dtype=torch.float32)\n",
    "\n",
    "plt.scatter(X, y, label='Data')\n",
    "plt.xlabel('X')\n",
    "plt.ylabel('y')\n",
    "plt.title('Synthetic Data for Linear Regression')\n",
    "plt.legend()\n",
    "plt.show()"
   ]
  },
  {
   "cell_type": "code",
   "execution_count": 114,
   "metadata": {},
   "outputs": [],
   "source": [
    "# And the train/test split\n",
    "X_train, X_test, y_train, y_test = train_test_split(X, y, test_size=0.2, random_state=42)\n",
    "\n",
    "X_train_tensor = torch.tensor(X_train, dtype=torch.float32)\n",
    "y_train_tensor = torch.tensor(y_train, dtype=torch.float32)\n",
    "X_test_tensor = torch.tensor(X_test, dtype=torch.float32)\n",
    "y_test_tensor = torch.tensor(y_test, dtype=torch.float32)"
   ]
  },
  {
   "cell_type": "code",
   "execution_count": 117,
   "metadata": {},
   "outputs": [
    {
     "name": "stdout",
     "output_type": "stream",
     "text": [
      "Using device: cuda\n"
     ]
    }
   ],
   "source": [
    "from sklearn.model_selection import ParameterGrid\n",
    "\n",
    "# Define the Linear Regression Model class\n",
    "class LinearRegressionModel(nn.Module):\n",
    "    def __init__(self):\n",
    "        super(LinearRegressionModel, self).__init__()\n",
    "        self.linear = nn.Linear(1, 1)\n",
    "    \n",
    "    def forward(self, x):\n",
    "        return self.linear(x)\n",
    "\n",
    "# Check if GPU is available and set the device accordingly\n",
    "device = torch.device('cuda' if torch.cuda.is_available() else 'cpu')\n",
    "print(f'Using device: {device}')\n",
    "\n",
    "# Create a training function\n",
    "def train_model(learning_rate, batch_size, num_epochs):\n",
    "    # Instantiate the model and move it to the device\n",
    "    model = LinearRegressionModel().to(device)\n",
    "\n",
    "    # Define the loss function and optimizer\n",
    "    criterion = nn.MSELoss()\n",
    "    optimizer = optim.SGD(model.parameters(), lr=learning_rate)\n",
    "\n",
    "    # Create DataLoader for batch processing and move data to the device\n",
    "    train_dataset = torch.utils.data.TensorDataset(X_train_tensor.to(device), y_train_tensor.to(device))\n",
    "    train_loader = torch.utils.data.DataLoader(dataset=train_dataset, batch_size=batch_size, shuffle=True)\n",
    "\n",
    "    # Training loop\n",
    "    for epoch in range(num_epochs):\n",
    "        for X_batch, y_batch in train_loader:\n",
    "            # Forward pass\n",
    "            outputs = model(X_batch)\n",
    "            loss = criterion(outputs, y_batch)\n",
    "            \n",
    "            # Zero gradients, backward pass, and optimize\n",
    "            optimizer.zero_grad()\n",
    "            loss.backward()\n",
    "            optimizer.step()\n",
    "    \n",
    "    # Evaluate on validation set\n",
    "    model.eval()\n",
    "    with torch.no_grad():\n",
    "        val_outputs = model(X_test_tensor.to(device))\n",
    "        val_loss = criterion(val_outputs, y_test_tensor.to(device))\n",
    "    \n",
    "    return val_loss.item()"
   ]
  },
  {
   "cell_type": "code",
   "execution_count": 118,
   "metadata": {},
   "outputs": [
    {
     "name": "stdout",
     "output_type": "stream",
     "text": [
      "Training with params: {'batch_size': 4, 'learning_rate': 0.001, 'num_epochs': 100}\n",
      "Validation Loss: 4.5020\n",
      "Training with params: {'batch_size': 4, 'learning_rate': 0.001, 'num_epochs': 500}\n",
      "Validation Loss: 4.3850\n",
      "Training with params: {'batch_size': 4, 'learning_rate': 0.001, 'num_epochs': 1000}\n",
      "Validation Loss: 4.4362\n",
      "Training with params: {'batch_size': 4, 'learning_rate': 0.01, 'num_epochs': 100}\n",
      "Validation Loss: 5.5781\n",
      "Training with params: {'batch_size': 4, 'learning_rate': 0.01, 'num_epochs': 500}\n",
      "Validation Loss: 4.9196\n",
      "Training with params: {'batch_size': 4, 'learning_rate': 0.01, 'num_epochs': 1000}\n",
      "Validation Loss: 5.0621\n",
      "Training with params: {'batch_size': 4, 'learning_rate': 0.1, 'num_epochs': 100}\n",
      "Validation Loss: nan\n",
      "Training with params: {'batch_size': 4, 'learning_rate': 0.1, 'num_epochs': 500}\n",
      "Validation Loss: nan\n",
      "Training with params: {'batch_size': 4, 'learning_rate': 0.1, 'num_epochs': 1000}\n",
      "Validation Loss: nan\n",
      "Training with params: {'batch_size': 8, 'learning_rate': 0.001, 'num_epochs': 100}\n",
      "Validation Loss: 5.0767\n",
      "Training with params: {'batch_size': 8, 'learning_rate': 0.001, 'num_epochs': 500}\n",
      "Validation Loss: 4.3942\n",
      "Training with params: {'batch_size': 8, 'learning_rate': 0.001, 'num_epochs': 1000}\n",
      "Validation Loss: 4.3825\n",
      "Training with params: {'batch_size': 8, 'learning_rate': 0.01, 'num_epochs': 100}\n",
      "Validation Loss: 4.6195\n",
      "Training with params: {'batch_size': 8, 'learning_rate': 0.01, 'num_epochs': 500}\n",
      "Validation Loss: 4.5798\n",
      "Training with params: {'batch_size': 8, 'learning_rate': 0.01, 'num_epochs': 1000}\n",
      "Validation Loss: 4.6795\n",
      "Training with params: {'batch_size': 8, 'learning_rate': 0.1, 'num_epochs': 100}\n",
      "Validation Loss: nan\n",
      "Training with params: {'batch_size': 8, 'learning_rate': 0.1, 'num_epochs': 500}\n",
      "Validation Loss: nan\n",
      "Training with params: {'batch_size': 8, 'learning_rate': 0.1, 'num_epochs': 1000}\n",
      "Validation Loss: nan\n",
      "Training with params: {'batch_size': 16, 'learning_rate': 0.001, 'num_epochs': 100}\n",
      "Validation Loss: 5.5435\n",
      "Training with params: {'batch_size': 16, 'learning_rate': 0.001, 'num_epochs': 500}\n",
      "Validation Loss: 4.4006\n",
      "Training with params: {'batch_size': 16, 'learning_rate': 0.001, 'num_epochs': 1000}\n",
      "Validation Loss: 4.3936\n",
      "Training with params: {'batch_size': 16, 'learning_rate': 0.01, 'num_epochs': 100}\n",
      "Validation Loss: 4.3367\n",
      "Training with params: {'batch_size': 16, 'learning_rate': 0.01, 'num_epochs': 500}\n",
      "Validation Loss: 4.3936\n",
      "Training with params: {'batch_size': 16, 'learning_rate': 0.01, 'num_epochs': 1000}\n",
      "Validation Loss: 4.3409\n",
      "Training with params: {'batch_size': 16, 'learning_rate': 0.1, 'num_epochs': 100}\n",
      "Validation Loss: nan\n",
      "Training with params: {'batch_size': 16, 'learning_rate': 0.1, 'num_epochs': 500}\n",
      "Validation Loss: nan\n",
      "Training with params: {'batch_size': 16, 'learning_rate': 0.1, 'num_epochs': 1000}\n",
      "Validation Loss: nan\n",
      "Best params: {'batch_size': 16, 'learning_rate': 0.01, 'num_epochs': 100}\n",
      "Best validation loss: 4.3367\n"
     ]
    }
   ],
   "source": [
    "# Define the hyperparameter grid\n",
    "param_grid = {\n",
    "    'learning_rate': [0.001, 0.01, 0.1],\n",
    "    'batch_size': [4, 8, 16],\n",
    "    'num_epochs': [100, 500, 1000]\n",
    "}\n",
    "\n",
    "# Perform grid search\n",
    "best_params = None\n",
    "best_loss = float('inf')\n",
    "\n",
    "# Generate combinations of hyperparameters\n",
    "grid = ParameterGrid(param_grid)\n",
    "\n",
    "for params in grid:\n",
    "    print(f'Training with params: {params}')\n",
    "    val_loss = train_model(params['learning_rate'], params['batch_size'], params['num_epochs'])\n",
    "    print(f'Validation Loss: {val_loss:.4f}')\n",
    "    \n",
    "    if val_loss < best_loss:\n",
    "        best_loss = val_loss\n",
    "        best_params = params\n",
    "\n",
    "print(f'Best params: {best_params}')\n",
    "print(f'Best validation loss: {best_loss:.4f}')"
   ]
  },
  {
   "cell_type": "markdown",
   "metadata": {},
   "source": [
    "##### **Q27: How do you implement learning rate scheduling to adjust the learning rate during training?**"
   ]
  },
  {
   "cell_type": "code",
   "execution_count": 119,
   "metadata": {},
   "outputs": [],
   "source": [
    "# Training function w/ learning rate scheduler\n",
    "def train_model(learning_rate, batch_size, num_epochs, scheduler_type='StepLR'):\n",
    "    model = LinearRegressionModel().to(device)\n",
    "\n",
    "    criterion = nn.MSELoss()\n",
    "    optimizer = optim.SGD(model.parameters(), lr=learning_rate)\n",
    "\n",
    "    train_dataset = torch.utils.data.TensorDataset(X_train_tensor.to(device), y_train_tensor.to(device))\n",
    "    train_loader = torch.utils.data.DataLoader(dataset=train_dataset, batch_size=batch_size, shuffle=True)\n",
    "\n",
    "    # Choose and configure the learning rate scheduler\n",
    "    if scheduler_type == 'StepLR':\n",
    "        scheduler = optim.lr_scheduler.StepLR(optimizer, step_size=50, gamma=0.1)\n",
    "    elif scheduler_type == 'ExponentialLR':\n",
    "        scheduler = optim.lr_scheduler.ExponentialLR(optimizer, gamma=0.95)\n",
    "    elif scheduler_type == 'ReduceLROnPlateau':\n",
    "        scheduler = optim.lr_scheduler.ReduceLROnPlateau(optimizer, 'min')\n",
    "\n",
    "    for epoch in range(num_epochs):\n",
    "        model.train()\n",
    "        for X_batch, y_batch in train_loader:\n",
    "            outputs = model(X_batch)\n",
    "            loss = criterion(outputs, y_batch)\n",
    "            \n",
    "            optimizer.zero_grad()\n",
    "            loss.backward()\n",
    "            optimizer.step()\n",
    "        \n",
    "        # Step the scheduler\n",
    "        if scheduler_type in ['StepLR', 'ExponentialLR']:\n",
    "            scheduler.step()\n",
    "        elif scheduler_type == 'ReduceLROnPlateau':\n",
    "            scheduler.step(loss)\n",
    "    \n",
    "    model.eval()\n",
    "    with torch.no_grad():\n",
    "        val_outputs = model(X_test_tensor.to(device))\n",
    "        val_loss = criterion(val_outputs, y_test_tensor.to(device))\n",
    "    \n",
    "    return val_loss.item()"
   ]
  },
  {
   "cell_type": "code",
   "execution_count": 120,
   "metadata": {},
   "outputs": [
    {
     "name": "stdout",
     "output_type": "stream",
     "text": [
      "Training with params: {'batch_size': 4, 'learning_rate': 0.001, 'num_epochs': 100}\n",
      "Validation Loss: 4.4288\n",
      "Training with params: {'batch_size': 4, 'learning_rate': 0.001, 'num_epochs': 500}\n",
      "Validation Loss: 4.6437\n",
      "Training with params: {'batch_size': 4, 'learning_rate': 0.001, 'num_epochs': 1000}\n",
      "Validation Loss: 4.4601\n",
      "Training with params: {'batch_size': 4, 'learning_rate': 0.01, 'num_epochs': 100}\n",
      "Validation Loss: 4.3500\n",
      "Training with params: {'batch_size': 4, 'learning_rate': 0.01, 'num_epochs': 500}\n",
      "Validation Loss: 4.3979\n",
      "Training with params: {'batch_size': 4, 'learning_rate': 0.01, 'num_epochs': 1000}\n",
      "Validation Loss: 4.3871\n",
      "Training with params: {'batch_size': 4, 'learning_rate': 0.1, 'num_epochs': 100}\n",
      "Validation Loss: nan\n",
      "Training with params: {'batch_size': 4, 'learning_rate': 0.1, 'num_epochs': 500}\n",
      "Validation Loss: nan\n",
      "Training with params: {'batch_size': 4, 'learning_rate': 0.1, 'num_epochs': 1000}\n",
      "Validation Loss: nan\n",
      "Training with params: {'batch_size': 8, 'learning_rate': 0.001, 'num_epochs': 100}\n",
      "Validation Loss: 5.5928\n",
      "Training with params: {'batch_size': 8, 'learning_rate': 0.001, 'num_epochs': 500}\n",
      "Validation Loss: 4.7718\n",
      "Training with params: {'batch_size': 8, 'learning_rate': 0.001, 'num_epochs': 1000}\n",
      "Validation Loss: 4.5706\n",
      "Training with params: {'batch_size': 8, 'learning_rate': 0.01, 'num_epochs': 100}\n",
      "Validation Loss: 4.4411\n",
      "Training with params: {'batch_size': 8, 'learning_rate': 0.01, 'num_epochs': 500}\n",
      "Validation Loss: 4.3940\n",
      "Training with params: {'batch_size': 8, 'learning_rate': 0.01, 'num_epochs': 1000}\n",
      "Validation Loss: 4.3904\n",
      "Training with params: {'batch_size': 8, 'learning_rate': 0.1, 'num_epochs': 100}\n",
      "Validation Loss: nan\n",
      "Training with params: {'batch_size': 8, 'learning_rate': 0.1, 'num_epochs': 500}\n",
      "Validation Loss: nan\n",
      "Training with params: {'batch_size': 8, 'learning_rate': 0.1, 'num_epochs': 1000}\n",
      "Validation Loss: nan\n",
      "Training with params: {'batch_size': 16, 'learning_rate': 0.001, 'num_epochs': 100}\n",
      "Validation Loss: 6.0005\n",
      "Training with params: {'batch_size': 16, 'learning_rate': 0.001, 'num_epochs': 500}\n",
      "Validation Loss: 5.8116\n",
      "Training with params: {'batch_size': 16, 'learning_rate': 0.001, 'num_epochs': 1000}\n",
      "Validation Loss: 5.3216\n",
      "Training with params: {'batch_size': 16, 'learning_rate': 0.01, 'num_epochs': 100}\n",
      "Validation Loss: 4.5073\n",
      "Training with params: {'batch_size': 16, 'learning_rate': 0.01, 'num_epochs': 500}\n",
      "Validation Loss: 4.4576\n",
      "Training with params: {'batch_size': 16, 'learning_rate': 0.01, 'num_epochs': 1000}\n",
      "Validation Loss: 4.4660\n",
      "Training with params: {'batch_size': 16, 'learning_rate': 0.1, 'num_epochs': 100}\n",
      "Validation Loss: nan\n",
      "Training with params: {'batch_size': 16, 'learning_rate': 0.1, 'num_epochs': 500}\n",
      "Validation Loss: nan\n",
      "Training with params: {'batch_size': 16, 'learning_rate': 0.1, 'num_epochs': 1000}\n",
      "Validation Loss: nan\n",
      "Best params: {'batch_size': 4, 'learning_rate': 0.01, 'num_epochs': 100}\n",
      "Best validation loss: 4.3500\n"
     ]
    }
   ],
   "source": [
    "# New grid search:\n",
    "param_grid = {\n",
    "    'learning_rate': [0.001, 0.01, 0.1],\n",
    "    'batch_size': [4, 8, 16],\n",
    "    'num_epochs': [100, 500, 1000]\n",
    "}\n",
    "\n",
    "best_params = None\n",
    "best_loss = float('inf')\n",
    "\n",
    "grid = ParameterGrid(param_grid)\n",
    "\n",
    "for params in grid:\n",
    "    print(f'Training with params: {params}')\n",
    "    val_loss = train_model(params['learning_rate'], params['batch_size'], params['num_epochs'])\n",
    "    print(f'Validation Loss: {val_loss:.4f}')\n",
    "    \n",
    "    if val_loss < best_loss:\n",
    "        best_loss = val_loss\n",
    "        best_params = params\n",
    "\n",
    "print(f'Best params: {best_params}')\n",
    "print(f'Best validation loss: {best_loss:.4f}')"
   ]
  },
  {
   "cell_type": "markdown",
   "metadata": {},
   "source": [
    "##### **Q28: How do you normalize or standardize your data before training a linear regression model?**"
   ]
  },
  {
   "cell_type": "code",
   "execution_count": 121,
   "metadata": {},
   "outputs": [],
   "source": [
    "# Normalization — i.e., rescaling the data to a fixed range, usually [0, 1] or [-1, 1]\n",
    "X_train_np = X_train_tensor.numpy()\n",
    "X_test_np = X_test_tensor.numpy()\n",
    "\n",
    "# Calculate min and max values\n",
    "X_min = X_train_np.min(axis=0)\n",
    "X_max = X_train_np.max(axis=0)\n",
    "\n",
    "# Normalize the training data\n",
    "X_train_normalized = (X_train_np - X_min) / (X_max - X_min)\n",
    "X_train_tensor_normalized = torch.tensor(X_train_normalized, dtype=torch.float32)\n",
    "\n",
    "# Normalize the test data\n",
    "X_test_normalized = (X_test_np - X_min) / (X_max - X_min)\n",
    "X_test_tensor_normalized = torch.tensor(X_test_normalized, dtype=torch.float32)"
   ]
  },
  {
   "cell_type": "code",
   "execution_count": 122,
   "metadata": {},
   "outputs": [
    {
     "name": "stdout",
     "output_type": "stream",
     "text": [
      "Using device: cuda\n",
      "Training with params: {'batch_size': 4, 'learning_rate': 0.001, 'num_epochs': 100}\n",
      "Validation Loss: 6.5569\n",
      "Training with params: {'batch_size': 4, 'learning_rate': 0.001, 'num_epochs': 200}\n",
      "Validation Loss: 4.2576\n",
      "Training with params: {'batch_size': 4, 'learning_rate': 0.001, 'num_epochs': 500}\n",
      "Validation Loss: 4.1197\n",
      "Training with params: {'batch_size': 4, 'learning_rate': 0.01, 'num_epochs': 100}\n",
      "Validation Loss: 4.3714\n",
      "Training with params: {'batch_size': 4, 'learning_rate': 0.01, 'num_epochs': 200}\n",
      "Validation Loss: 4.3925\n",
      "Training with params: {'batch_size': 4, 'learning_rate': 0.01, 'num_epochs': 500}\n",
      "Validation Loss: 4.3879\n",
      "Training with params: {'batch_size': 4, 'learning_rate': 0.1, 'num_epochs': 100}\n",
      "Validation Loss: 4.4857\n",
      "Training with params: {'batch_size': 4, 'learning_rate': 0.1, 'num_epochs': 200}\n",
      "Validation Loss: 4.4357\n",
      "Training with params: {'batch_size': 4, 'learning_rate': 0.1, 'num_epochs': 500}\n",
      "Validation Loss: 4.5793\n",
      "Training with params: {'batch_size': 8, 'learning_rate': 0.001, 'num_epochs': 100}\n",
      "Validation Loss: 10.1877\n",
      "Training with params: {'batch_size': 8, 'learning_rate': 0.001, 'num_epochs': 200}\n",
      "Validation Loss: 7.0002\n",
      "Training with params: {'batch_size': 8, 'learning_rate': 0.001, 'num_epochs': 500}\n",
      "Validation Loss: 4.0671\n",
      "Training with params: {'batch_size': 8, 'learning_rate': 0.01, 'num_epochs': 100}\n",
      "Validation Loss: 4.1235\n",
      "Training with params: {'batch_size': 8, 'learning_rate': 0.01, 'num_epochs': 200}\n",
      "Validation Loss: 4.3724\n",
      "Training with params: {'batch_size': 8, 'learning_rate': 0.01, 'num_epochs': 500}\n",
      "Validation Loss: 4.3891\n",
      "Training with params: {'batch_size': 8, 'learning_rate': 0.1, 'num_epochs': 100}\n",
      "Validation Loss: 4.3826\n",
      "Training with params: {'batch_size': 8, 'learning_rate': 0.1, 'num_epochs': 200}\n",
      "Validation Loss: 4.4488\n",
      "Training with params: {'batch_size': 8, 'learning_rate': 0.1, 'num_epochs': 500}\n",
      "Validation Loss: 4.3864\n",
      "Training with params: {'batch_size': 16, 'learning_rate': 0.001, 'num_epochs': 100}\n",
      "Validation Loss: 13.9787\n",
      "Training with params: {'batch_size': 16, 'learning_rate': 0.001, 'num_epochs': 200}\n",
      "Validation Loss: 9.5091\n",
      "Training with params: {'batch_size': 16, 'learning_rate': 0.001, 'num_epochs': 500}\n",
      "Validation Loss: 6.1649\n",
      "Training with params: {'batch_size': 16, 'learning_rate': 0.01, 'num_epochs': 100}\n",
      "Validation Loss: 4.0649\n",
      "Training with params: {'batch_size': 16, 'learning_rate': 0.01, 'num_epochs': 200}\n",
      "Validation Loss: 4.1409\n",
      "Training with params: {'batch_size': 16, 'learning_rate': 0.01, 'num_epochs': 500}\n",
      "Validation Loss: 4.3854\n",
      "Training with params: {'batch_size': 16, 'learning_rate': 0.1, 'num_epochs': 100}\n",
      "Validation Loss: 4.4153\n",
      "Training with params: {'batch_size': 16, 'learning_rate': 0.1, 'num_epochs': 200}\n",
      "Validation Loss: 4.4402\n",
      "Training with params: {'batch_size': 16, 'learning_rate': 0.1, 'num_epochs': 500}\n",
      "Validation Loss: 4.3955\n",
      "Best params: {'batch_size': 16, 'learning_rate': 0.01, 'num_epochs': 100}\n",
      "Best validation loss: 4.0649\n"
     ]
    }
   ],
   "source": [
    "# Grid search on normalized data:\n",
    "class LinearRegressionModel(nn.Module):\n",
    "    def __init__(self):\n",
    "        super(LinearRegressionModel, self).__init__()\n",
    "        self.linear = nn.Linear(1, 1)  # One input and one output feature\n",
    "    \n",
    "    def forward(self, x):\n",
    "        return self.linear(x)\n",
    "\n",
    "device = torch.device('cuda' if torch.cuda.is_available() else 'cpu')\n",
    "print(f'Using device: {device}')\n",
    "\n",
    "def train_model(learning_rate, batch_size, num_epochs):\n",
    "    model = LinearRegressionModel().to(device)\n",
    "\n",
    "    criterion = nn.MSELoss()\n",
    "    optimizer = optim.SGD(model.parameters(), lr=learning_rate)\n",
    "\n",
    "    train_dataset = torch.utils.data.TensorDataset(X_train_tensor_normalized.to(device), y_train_tensor.to(device))\n",
    "    train_loader = torch.utils.data.DataLoader(dataset=train_dataset, batch_size=batch_size, shuffle=True)\n",
    "\n",
    "    for epoch in range(num_epochs):\n",
    "        model.train()\n",
    "        for X_batch, y_batch in train_loader:\n",
    "            outputs = model(X_batch)\n",
    "            loss = criterion(outputs, y_batch)\n",
    "            \n",
    "            optimizer.zero_grad()\n",
    "            loss.backward()\n",
    "            optimizer.step()\n",
    "    \n",
    "    model.eval()\n",
    "    with torch.no_grad():\n",
    "        val_outputs = model(X_test_tensor_normalized.to(device))\n",
    "        val_loss = criterion(val_outputs, y_test_tensor.to(device))\n",
    "    \n",
    "    return val_loss.item()\n",
    "\n",
    "param_grid = {\n",
    "    'learning_rate': [0.001, 0.01, 0.1],\n",
    "    'batch_size': [4, 8, 16],\n",
    "    'num_epochs': [100, 200, 500]\n",
    "}\n",
    "\n",
    "best_params = None\n",
    "best_loss = float('inf')\n",
    "\n",
    "grid = ParameterGrid(param_grid)\n",
    "\n",
    "for params in grid:\n",
    "    print(f'Training with params: {params}')\n",
    "    val_loss = train_model(params['learning_rate'], params['batch_size'], params['num_epochs'])\n",
    "    print(f'Validation Loss: {val_loss:.4f}')\n",
    "    \n",
    "    if val_loss < best_loss:\n",
    "        best_loss = val_loss\n",
    "        best_params = params\n",
    "\n",
    "print(f'Best params: {best_params}')\n",
    "print(f'Best validation loss: {best_loss:.4f}')"
   ]
  },
  {
   "cell_type": "code",
   "execution_count": 123,
   "metadata": {},
   "outputs": [],
   "source": [
    "# Standardization — i.e., transforming the data to have a mean of 0 and a standard deviation of 1\n",
    "X_train_np = X_train_tensor.numpy()\n",
    "X_test_np = X_test_tensor.numpy()\n",
    "\n",
    "# Calculate mean and standard deviation\n",
    "X_mean = X_train_np.mean(axis=0)\n",
    "X_std = X_train_np.std(axis=0)\n",
    "\n",
    "# Standardize the training data\n",
    "X_train_standardized = (X_train_np - X_mean) / X_std\n",
    "X_train_tensor_standardized = torch.tensor(X_train_standardized, dtype=torch.float32)\n",
    "\n",
    "# Standardize the test data\n",
    "X_test_standardized = (X_test_np - X_mean) / X_std\n",
    "X_test_tensor_standardized = torch.tensor(X_test_standardized, dtype=torch.float32)"
   ]
  },
  {
   "cell_type": "code",
   "execution_count": 124,
   "metadata": {},
   "outputs": [
    {
     "name": "stdout",
     "output_type": "stream",
     "text": [
      "Using device: cuda\n",
      "Training with params: {'batch_size': 4, 'learning_rate': 0.001, 'num_epochs': 100}\n",
      "Validation Loss: 4.3898\n",
      "Training with params: {'batch_size': 4, 'learning_rate': 0.001, 'num_epochs': 200}\n",
      "Validation Loss: 4.3890\n",
      "Training with params: {'batch_size': 4, 'learning_rate': 0.001, 'num_epochs': 500}\n",
      "Validation Loss: 4.3897\n",
      "Training with params: {'batch_size': 4, 'learning_rate': 0.01, 'num_epochs': 100}\n",
      "Validation Loss: 4.4327\n",
      "Training with params: {'batch_size': 4, 'learning_rate': 0.01, 'num_epochs': 200}\n",
      "Validation Loss: 4.4060\n",
      "Training with params: {'batch_size': 4, 'learning_rate': 0.01, 'num_epochs': 500}\n",
      "Validation Loss: 4.3841\n",
      "Training with params: {'batch_size': 4, 'learning_rate': 0.1, 'num_epochs': 100}\n",
      "Validation Loss: 4.0878\n",
      "Training with params: {'batch_size': 4, 'learning_rate': 0.1, 'num_epochs': 200}\n",
      "Validation Loss: 4.0904\n",
      "Training with params: {'batch_size': 4, 'learning_rate': 0.1, 'num_epochs': 500}\n",
      "Validation Loss: 4.1422\n",
      "Training with params: {'batch_size': 8, 'learning_rate': 0.001, 'num_epochs': 100}\n",
      "Validation Loss: 4.3613\n",
      "Training with params: {'batch_size': 8, 'learning_rate': 0.001, 'num_epochs': 200}\n",
      "Validation Loss: 4.3887\n",
      "Training with params: {'batch_size': 8, 'learning_rate': 0.001, 'num_epochs': 500}\n",
      "Validation Loss: 4.3898\n",
      "Training with params: {'batch_size': 8, 'learning_rate': 0.01, 'num_epochs': 100}\n",
      "Validation Loss: 4.3777\n",
      "Training with params: {'batch_size': 8, 'learning_rate': 0.01, 'num_epochs': 200}\n",
      "Validation Loss: 4.4014\n",
      "Training with params: {'batch_size': 8, 'learning_rate': 0.01, 'num_epochs': 500}\n",
      "Validation Loss: 4.3919\n",
      "Training with params: {'batch_size': 8, 'learning_rate': 0.1, 'num_epochs': 100}\n",
      "Validation Loss: 4.5359\n",
      "Training with params: {'batch_size': 8, 'learning_rate': 0.1, 'num_epochs': 200}\n",
      "Validation Loss: 4.5211\n",
      "Training with params: {'batch_size': 8, 'learning_rate': 0.1, 'num_epochs': 500}\n",
      "Validation Loss: 4.3746\n",
      "Training with params: {'batch_size': 16, 'learning_rate': 0.001, 'num_epochs': 100}\n",
      "Validation Loss: 6.5457\n",
      "Training with params: {'batch_size': 16, 'learning_rate': 0.001, 'num_epochs': 200}\n",
      "Validation Loss: 4.3306\n",
      "Training with params: {'batch_size': 16, 'learning_rate': 0.001, 'num_epochs': 500}\n",
      "Validation Loss: 4.3896\n",
      "Training with params: {'batch_size': 16, 'learning_rate': 0.01, 'num_epochs': 100}\n",
      "Validation Loss: 4.3884\n",
      "Training with params: {'batch_size': 16, 'learning_rate': 0.01, 'num_epochs': 200}\n",
      "Validation Loss: 4.3868\n",
      "Training with params: {'batch_size': 16, 'learning_rate': 0.01, 'num_epochs': 500}\n",
      "Validation Loss: 4.3830\n",
      "Training with params: {'batch_size': 16, 'learning_rate': 0.1, 'num_epochs': 100}\n",
      "Validation Loss: 4.2640\n",
      "Training with params: {'batch_size': 16, 'learning_rate': 0.1, 'num_epochs': 200}\n",
      "Validation Loss: 4.4575\n",
      "Training with params: {'batch_size': 16, 'learning_rate': 0.1, 'num_epochs': 500}\n",
      "Validation Loss: 4.2030\n",
      "Best params: {'batch_size': 4, 'learning_rate': 0.1, 'num_epochs': 100}\n",
      "Best validation loss: 4.0878\n"
     ]
    }
   ],
   "source": [
    "# Grid search on standardized data:\n",
    "class LinearRegressionModel(nn.Module):\n",
    "    def __init__(self):\n",
    "        super(LinearRegressionModel, self).__init__()\n",
    "        self.linear = nn.Linear(1, 1)  # One input and one output feature\n",
    "    \n",
    "    def forward(self, x):\n",
    "        return self.linear(x)\n",
    "\n",
    "device = torch.device('cuda' if torch.cuda.is_available() else 'cpu')\n",
    "print(f'Using device: {device}')\n",
    "\n",
    "def train_model(learning_rate, batch_size, num_epochs):\n",
    "    model = LinearRegressionModel().to(device)\n",
    "\n",
    "    criterion = nn.MSELoss()\n",
    "    optimizer = optim.SGD(model.parameters(), lr=learning_rate)\n",
    "\n",
    "    train_dataset = torch.utils.data.TensorDataset(X_train_tensor_standardized.to(device), y_train_tensor.to(device))\n",
    "    train_loader = torch.utils.data.DataLoader(dataset=train_dataset, batch_size=batch_size, shuffle=True)\n",
    "\n",
    "    for epoch in range(num_epochs):\n",
    "        model.train()\n",
    "        for X_batch, y_batch in train_loader:\n",
    "            outputs = model(X_batch)\n",
    "            loss = criterion(outputs, y_batch)\n",
    "            \n",
    "            optimizer.zero_grad()\n",
    "            loss.backward()\n",
    "            optimizer.step()\n",
    "    \n",
    "    model.eval()\n",
    "    with torch.no_grad():\n",
    "        val_outputs = model(X_test_tensor_standardized.to(device))\n",
    "        val_loss = criterion(val_outputs, y_test_tensor.to(device))\n",
    "    \n",
    "    return val_loss.item()\n",
    "\n",
    "param_grid = {\n",
    "    'learning_rate': [0.001, 0.01, 0.1],\n",
    "    'batch_size': [4, 8, 16],\n",
    "    'num_epochs': [100, 200, 500]\n",
    "}\n",
    "\n",
    "best_params = None\n",
    "best_loss = float('inf')\n",
    "\n",
    "grid = ParameterGrid(param_grid)\n",
    "\n",
    "for params in grid:\n",
    "    print(f'Training with params: {params}')\n",
    "    val_loss = train_model(params['learning_rate'], params['batch_size'], params['num_epochs'])\n",
    "    print(f'Validation Loss: {val_loss:.4f}')\n",
    "    \n",
    "    if val_loss < best_loss:\n",
    "        best_loss = val_loss\n",
    "        best_params = params\n",
    "\n",
    "print(f'Best params: {best_params}')\n",
    "print(f'Best validation loss: {best_loss:.4f}')"
   ]
  },
  {
   "cell_type": "markdown",
   "metadata": {},
   "source": [
    "##### **Q29: How do you handle multicollinearity in linear regression models?**"
   ]
  },
  {
   "cell_type": "code",
   "execution_count": 128,
   "metadata": {},
   "outputs": [],
   "source": [
    "# First and foremost, expand the current dataset w/ new features\n",
    "X_train_np = X_train_tensor.numpy()\n",
    "X_test_np = X_test_tensor.numpy()\n",
    "\n",
    "# Number of new features to add\n",
    "num_new_features = 9\n",
    "\n",
    "# Generate new features for training and test sets\n",
    "np.random.seed(0)  # For reproducibility\n",
    "new_features_train = np.random.randn(X_train_np.shape[0], num_new_features)\n",
    "new_features_test = np.random.randn(X_test_np.shape[0], num_new_features)"
   ]
  },
  {
   "cell_type": "code",
   "execution_count": 129,
   "metadata": {},
   "outputs": [
    {
     "name": "stdout",
     "output_type": "stream",
     "text": [
      "X_train_tensor_combined shape: torch.Size([160, 10])\n",
      "X_test_tensor_combined shape: torch.Size([40, 10])\n"
     ]
    }
   ],
   "source": [
    "# Combine the original feature with the new features\n",
    "X_train_combined = np.hstack((X_train_np, new_features_train))\n",
    "X_test_combined = np.hstack((X_test_np, new_features_test))\n",
    "\n",
    "# Convert the combined arrays back to PyTorch tensors\n",
    "X_train_tensor_combined = torch.tensor(X_train_combined, dtype=torch.float32)\n",
    "X_test_tensor_combined = torch.tensor(X_test_combined, dtype=torch.float32)\n",
    "\n",
    "# Print the shapes to verify\n",
    "print(f'X_train_tensor_combined shape: {X_train_tensor_combined.shape}')\n",
    "print(f'X_test_tensor_combined shape: {X_test_tensor_combined.shape}')"
   ]
  },
  {
   "cell_type": "code",
   "execution_count": 132,
   "metadata": {},
   "outputs": [
    {
     "name": "stdout",
     "output_type": "stream",
     "text": [
      "Correlation Matrix:\n",
      "          0         1         2         3         4         5         6  \\\n",
      "0  1.000000 -0.013829  0.042836 -0.041774 -0.183741 -0.003152 -0.018901   \n",
      "1 -0.013829  1.000000  0.082443  0.054742  0.153097 -0.014283 -0.052105   \n",
      "2  0.042836  0.082443  1.000000 -0.041404  0.028526  0.163898 -0.148396   \n",
      "3 -0.041774  0.054742 -0.041404  1.000000 -0.042158  0.025325  0.151158   \n",
      "4 -0.183741  0.153097  0.028526 -0.042158  1.000000 -0.026987 -0.024227   \n",
      "5 -0.003152 -0.014283  0.163898  0.025325 -0.026987  1.000000  0.055855   \n",
      "6 -0.018901 -0.052105 -0.148396  0.151158 -0.024227  0.055855  1.000000   \n",
      "7 -0.051895  0.136103 -0.138102 -0.036316  0.064769 -0.100890 -0.001728   \n",
      "8  0.063006  0.121697  0.039022  0.059120 -0.097152  0.048954  0.057495   \n",
      "9 -0.022363  0.045292  0.059412 -0.117329  0.001570  0.049075 -0.061999   \n",
      "\n",
      "          7         8         9  \n",
      "0 -0.051895  0.063006 -0.022363  \n",
      "1  0.136103  0.121697  0.045292  \n",
      "2 -0.138102  0.039022  0.059412  \n",
      "3 -0.036316  0.059120 -0.117329  \n",
      "4  0.064769 -0.097152  0.001570  \n",
      "5 -0.100890  0.048954  0.049075  \n",
      "6 -0.001728  0.057495 -0.061999  \n",
      "7  1.000000 -0.176586  0.088734  \n",
      "8 -0.176586  1.000000 -0.111104  \n",
      "9  0.088734 -0.111104  1.000000  \n"
     ]
    }
   ],
   "source": [
    "# Now the process begins\n",
    "import pandas as pd\n",
    "from statsmodels.stats.outliers_influence import variance_inflation_factor\n",
    "\n",
    "# Convert the tensors to pandas DataFrame for easier manipulation\n",
    "df_train = pd.DataFrame(X_train_combined)\n",
    "\n",
    "# Calculate the correlation matrix\n",
    "corr_matrix = df_train.corr()\n",
    "print(\"Correlation Matrix:\")\n",
    "print(corr_matrix)"
   ]
  },
  {
   "cell_type": "code",
   "execution_count": 133,
   "metadata": {},
   "outputs": [
    {
     "name": "stdout",
     "output_type": "stream",
     "text": [
      "\n",
      "Variance Inflation Factor (VIF):\n",
      "   feature       VIF\n",
      "0        0  1.065569\n",
      "1        1  1.091142\n",
      "2        2  1.089314\n",
      "3        3  1.047386\n",
      "4        4  1.041887\n",
      "5        5  1.056136\n",
      "6        6  1.061518\n",
      "7        7  1.099216\n",
      "8        8  1.093887\n",
      "9        9  1.087311\n"
     ]
    }
   ],
   "source": [
    "# Calculate VIF for each predictor\n",
    "vif_data = pd.DataFrame()\n",
    "vif_data[\"feature\"] = df_train.columns\n",
    "vif_data[\"VIF\"] = [variance_inflation_factor(df_train.values, i) for i in range(df_train.shape[1])]\n",
    "print(\"\\nVariance Inflation Factor (VIF):\")\n",
    "print(vif_data)"
   ]
  },
  {
   "cell_type": "code",
   "execution_count": 134,
   "metadata": {},
   "outputs": [],
   "source": [
    "# Ridge regression model\n",
    "class RidgeRegressionModel(nn.Module):\n",
    "    def __init__(self, input_dim, alpha):\n",
    "        super(RidgeRegressionModel, self).__init__()\n",
    "        self.linear = nn.Linear(input_dim, 1)\n",
    "        self.alpha = alpha\n",
    "    \n",
    "    def forward(self, x):\n",
    "        return self.linear(x)\n",
    "    \n",
    "    def l2_regularization_loss(self):\n",
    "        return self.alpha * torch.sum(self.linear.weight ** 2)"
   ]
  },
  {
   "cell_type": "code",
   "execution_count": 135,
   "metadata": {},
   "outputs": [
    {
     "name": "stdout",
     "output_type": "stream",
     "text": [
      "Using device: cuda\n"
     ]
    }
   ],
   "source": [
    "# Check if GPU is available and set the device accordingly\n",
    "device = torch.device('cuda' if torch.cuda.is_available() else 'cpu')\n",
    "print(f'Using device: {device}')\n",
    "\n",
    "def train_ridge_model(learning_rate, batch_size, num_epochs, alpha):\n",
    "    input_dim = X_train_tensor_combined.shape[1]\n",
    "    model = RidgeRegressionModel(input_dim, alpha).to(device)\n",
    "\n",
    "    criterion = nn.MSELoss()\n",
    "    optimizer = optim.SGD(model.parameters(), lr=learning_rate)\n",
    "\n",
    "    train_dataset = torch.utils.data.TensorDataset(X_train_tensor_combined.to(device), y_train_tensor.to(device))\n",
    "    train_loader = torch.utils.data.DataLoader(dataset=train_dataset, batch_size=batch_size, shuffle=True)\n",
    "\n",
    "    for epoch in range(num_epochs):\n",
    "        model.train()\n",
    "        for X_batch, y_batch in train_loader:\n",
    "            outputs = model(X_batch)\n",
    "            loss = criterion(outputs, y_batch) + model.l2_regularization_loss()\n",
    "\n",
    "            optimizer.zero_grad()\n",
    "            loss.backward()\n",
    "            optimizer.step()\n",
    "    \n",
    "    model.eval()\n",
    "    with torch.no_grad():\n",
    "        val_outputs = model(X_test_tensor_combined.to(device))\n",
    "        val_loss = criterion(val_outputs, y_test_tensor.to(device))\n",
    "    \n",
    "    return val_loss.item()"
   ]
  },
  {
   "cell_type": "code",
   "execution_count": 136,
   "metadata": {},
   "outputs": [
    {
     "name": "stdout",
     "output_type": "stream",
     "text": [
      "Validation Loss: 4.0329\n"
     ]
    }
   ],
   "source": [
    "# Example hyperparameters\n",
    "learning_rate = 0.01\n",
    "batch_size = 8\n",
    "num_epochs = 1000\n",
    "alpha = 0.1  # L2 regularization strength\n",
    "\n",
    "val_loss = train_ridge_model(learning_rate, batch_size, num_epochs, alpha)\n",
    "print(f'Validation Loss: {val_loss:.4f}')"
   ]
  },
  {
   "cell_type": "markdown",
   "metadata": {},
   "source": [
    "##### **Q30: How do you implement polynomial regression using PyTorch to capture non-linear relationships?**"
   ]
  },
  {
   "cell_type": "code",
   "execution_count": 145,
   "metadata": {},
   "outputs": [
    {
     "name": "stdout",
     "output_type": "stream",
     "text": [
      "X_train_tensor_poly shape: torch.Size([160, 15])\n",
      "X_test_tensor_poly shape: torch.Size([40, 15])\n"
     ]
    }
   ],
   "source": [
    "# First, create a set of polynomial features\n",
    "from sklearn.preprocessing import PolynomialFeatures\n",
    "\n",
    "X_train_np = X_train_tensor.numpy()\n",
    "X_test_np = X_test_tensor.numpy()\n",
    "\n",
    "num_new_features = 3\n",
    "\n",
    "np.random.seed(0)  # For reproducibility\n",
    "new_features_train = np.random.randn(X_train_np.shape[0], num_new_features)\n",
    "new_features_test = np.random.randn(X_test_np.shape[0], num_new_features)\n",
    "\n",
    "X_train_combined = np.hstack((X_train_np, new_features_train))\n",
    "X_test_combined = np.hstack((X_test_np, new_features_test))\n",
    "\n",
    "degree = 2\n",
    "poly = PolynomialFeatures(degree)\n",
    "X_train_poly = poly.fit_transform(X_train_combined)\n",
    "X_test_poly = poly.transform(X_test_combined)\n",
    "\n",
    "X_train_tensor_poly = torch.tensor(X_train_poly, dtype=torch.float32)\n",
    "X_test_tensor_poly = torch.tensor(X_test_poly, dtype=torch.float32)\n",
    "\n",
    "print(f'X_train_tensor_poly shape: {X_train_tensor_poly.shape}')\n",
    "print(f'X_test_tensor_poly shape: {X_test_tensor_poly.shape}')"
   ]
  },
  {
   "cell_type": "code",
   "execution_count": 146,
   "metadata": {},
   "outputs": [],
   "source": [
    "# Define a polynomial regression model\n",
    "class PolynomialRegressionModel(nn.Module):\n",
    "    def __init__(self, input_dim):\n",
    "        super(PolynomialRegressionModel, self).__init__()\n",
    "        self.linear = nn.Linear(input_dim, 1)\n",
    "    \n",
    "    def forward(self, x):\n",
    "        return self.linear(x)"
   ]
  },
  {
   "cell_type": "code",
   "execution_count": 147,
   "metadata": {},
   "outputs": [
    {
     "name": "stdout",
     "output_type": "stream",
     "text": [
      "Using device: cuda\n"
     ]
    }
   ],
   "source": [
    "# CUDA check and training loop function\n",
    "device = torch.device('cuda' if torch.cuda.is_available() else 'cpu')\n",
    "print(f'Using device: {device}')\n",
    "\n",
    "def train_polynomial_model(learning_rate, batch_size, num_epochs):\n",
    "    input_dim = X_train_tensor_poly.shape[1]\n",
    "    model = PolynomialRegressionModel(input_dim).to(device)\n",
    "\n",
    "    criterion = nn.MSELoss()\n",
    "    optimizer = optim.SGD(model.parameters(), lr=learning_rate)\n",
    "\n",
    "    train_dataset = torch.utils.data.TensorDataset(X_train_tensor_poly.to(device), y_train_tensor.to(device))\n",
    "    train_loader = torch.utils.data.DataLoader(dataset=train_dataset, batch_size=batch_size, shuffle=True)\n",
    "\n",
    "    for epoch in range(num_epochs):\n",
    "        model.train()\n",
    "        for X_batch, y_batch in train_loader:\n",
    "            outputs = model(X_batch)\n",
    "            loss = criterion(outputs, y_batch)\n",
    "\n",
    "            optimizer.zero_grad()\n",
    "            loss.backward()\n",
    "            optimizer.step()\n",
    "    \n",
    "    model.eval()\n",
    "    with torch.no_grad():\n",
    "        val_outputs = model(X_test_tensor_poly.to(device))\n",
    "        val_loss = criterion(val_outputs, y_test_tensor.to(device))\n",
    "    \n",
    "    return val_loss.item(), model"
   ]
  },
  {
   "cell_type": "code",
   "execution_count": 150,
   "metadata": {},
   "outputs": [
    {
     "name": "stdout",
     "output_type": "stream",
     "text": [
      "Validation Loss: 5.1445\n"
     ]
    }
   ],
   "source": [
    "# Hyperparameters and training\n",
    "learning_rate = 0.0001\n",
    "batch_size = 4\n",
    "num_epochs = 1000\n",
    "\n",
    "val_loss, trained_model = train_polynomial_model(learning_rate, batch_size, num_epochs)\n",
    "print(f'Validation Loss: {val_loss:.4f}')"
   ]
  },
  {
   "cell_type": "code",
   "execution_count": 151,
   "metadata": {},
   "outputs": [
    {
     "data": {
      "image/png": "[encoded data removed]",
      "text/plain": [
       "<Figure size 1000x500 with 1 Axes>"
      ]
     },
     "metadata": {},
     "output_type": "display_data"
    }
   ],
   "source": [
    "# Visualize the results\n",
    "def plot_results(model, X_tensor, y_tensor, poly):\n",
    "    model.eval()\n",
    "    with torch.no_grad():\n",
    "        predictions = model(X_tensor.to(device)).cpu().numpy()\n",
    "    \n",
    "    plt.figure(figsize=(10, 5))\n",
    "    plt.scatter(X_tensor[:, 1].numpy(), y_tensor.numpy(), color='blue', label='Actual Data')  # X_tensor[:, 1] because it's the original feature\n",
    "    plt.scatter(X_tensor[:, 1].numpy(), predictions, color='red', label='Predictions')\n",
    "    plt.xlabel('Input')\n",
    "    plt.ylabel('Output')\n",
    "    plt.title('Polynomial Regression Results')\n",
    "    plt.legend()\n",
    "    plt.grid(True)\n",
    "    plt.show()\n",
    "\n",
    "# Plot the results for the test set\n",
    "plot_results(trained_model, X_test_tensor_poly, y_test_tensor, poly)"
   ]
  },
  {
   "cell_type": "markdown",
   "metadata": {},
   "source": [
    "## Conclusion"
   ]
  },
  {
   "cell_type": "markdown",
   "metadata": {},
   "source": [
    "In this `02_linear_regression` notebook, we explored several key topics necessary for mastering linear regression with PyTorch. We started with setting up the environment and generating synthetic data to mimic real-world conditions. The exercises led us through the process of defining a linear regression model, setting up loss functions and optimizers, and constructing training loops to fit the model to the dataset.\n",
    "\n",
    "We examined how to evaluate the model's performance using various metrics, visualized the predictions, and discussed saving and loading models for later use. Additionally, we covered optimization methods to improve model accuracy and performance.\n",
    "\n",
    "These exercises collectively offer a solid foundation in linear regression with PyTorch, equipping us for more advanced machine learning applications and projects."
   ]
  },
  {
   "cell_type": "markdown",
   "metadata": {},
   "source": [
    "## Further exercises"
   ]
  },
  {
   "cell_type": "markdown",
   "metadata": {},
   "source": [
    "##### **Q31: How do you extend the linear regression model to handle multiple features (multivariate linear regression)?**"
   ]
  },
  {
   "cell_type": "markdown",
   "metadata": {},
   "source": [
    "##### **Q32: How do you use PyTorch to perform linear regression on a real-world dataset, such as the Boston Housing dataset?**"
   ]
  },
  {
   "cell_type": "markdown",
   "metadata": {},
   "source": [
    "##### **Q33: How do you implement ridge regression (L2 regularization) using PyTorch to prevent overfitting?**"
   ]
  },
  {
   "cell_type": "markdown",
   "metadata": {},
   "source": [
    "##### **Q34: How do you implement lasso regression (L1 regularization) using PyTorch to enforce sparsity in the model?**"
   ]
  },
  {
   "cell_type": "markdown",
   "metadata": {},
   "source": [
    "##### **Q35: How do you visualize the learned weights of the linear regression model to interpret feature importance?**"
   ]
  }
 ],
 "metadata": {
  "kernelspec": {
   "display_name": "Python 3",
   "language": "python",
   "name": "python3"
  },
  "language_info": {
   "codemirror_mode": {
    "name": "ipython",
    "version": 3
   },
   "file_extension": ".py",
   "mimetype": "text/x-python",
   "name": "python",
   "nbconvert_exporter": "python",
   "pygments_lexer": "ipython3",
   "version": "3.11.2"
  }
 },
 "nbformat": 4,
 "nbformat_minor": 2
}
