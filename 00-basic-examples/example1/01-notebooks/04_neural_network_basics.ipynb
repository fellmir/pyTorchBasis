{
 "cells": [
  {
   "cell_type": "markdown",
   "metadata": {},
   "source": [
    "# Neural network basics\n",
    "\n",
    "Welcome to the `04_neural_network_basics` notebook. This part of the portfolio is designed to introduce fundamental concepts and techniques in PyTorch, with a particular emphasis on building and understanding neural networks.\n",
    "\n",
    "Throughout this notebook, I'll explore essential topics such as setting up the environment, defining neural network architectures, and implementing both forward and backward propagation. I'll also cover training procedures, model evaluation, and techniques to save and load trained models.\n",
    "\n",
    "By working through these exercises, the aim is to gain practical experience in constructing and optimizing neural networks, forming a solid foundation for more advanced machine learning endeavors."
   ]
  },
  {
   "cell_type": "markdown",
   "metadata": {},
   "source": [
    "## Table of contents\n",
    "\n",
    "1. [Introduction](#introduction)\n",
    "2. [Understanding neural networks](#understanding-neural-networks)\n",
    "3. [Setting up the environment](#setting-up-the-environment)\n",
    "4. [Building a neural network](#building-a-neural-network)\n",
    "5. [Forward propagation](#forward-propagation)\n",
    "6. [Loss function](#loss-function)\n",
    "7. [Backpropagation](#backpropagation)\n",
    "8. [Training the neural network](#training-the-neural-network)\n",
    "9. [Evaluating the model](#evaluating-the-model)\n",
    "10. [Saving and loading the model](#saving-and-loading-the-model)\n",
    "11. [Optimizations](#optimizations)\n",
    "12. [Handling real-world data](#handling-real-world-data)\n",
    "13. [Conclusion](#conclusion)\n",
    "14. [Further exercises](#further-exercises)"
   ]
  },
  {
   "cell_type": "markdown",
   "metadata": {},
   "source": [
    "## Understanding neural networks\n",
    "\n",
    "Neural networks are a foundational technique in machine learning and artificial intelligence, utilized for identifying patterns and relationships within data. Unlike traditional algorithms, which often rely on predefined rules, neural networks learn directly from examples, making them highly adaptable and powerful. These models can handle a variety of tasks, from classification to regression, by adjusting their parameters through training, thereby improving their performance with more data and experience."
   ]
  },
  {
   "cell_type": "markdown",
   "metadata": {},
   "source": [
    "### Key concepts\n",
    "\n",
    "#### 1. Neurons and layers\n",
    "Neural networks are inspired by the structure and function of the human brain, consisting of interconnected units called neurons. These neurons are organized into layers: the input layer, hidden layers, and the output layer.\n",
    "\n",
    "- **Input layer**: The first layer in the network that receives the input data. Each neuron in this layer represents a feature of the input data.\n",
    "- **Hidden layers**: Layers between the input and output layers. These layers perform various transformations on the inputs received, allowing the network to learn complex patterns. There can be multiple hidden layers, which is why deep neural networks are also known as deep learning models.\n",
    "- **Output layer**: The final layer that produces the output of the network. The number of neurons in this layer corresponds to the number of desired outputs.\n",
    "\n",
    "#### 2. Activation functions\n",
    "Activation functions introduce non-linearity into the network, enabling it to learn and model complex relationships in the data. Without activation functions, the network would only be able to model linear relationships.\n",
    "\n",
    "- **ReLU (Rectified Linear Unit)**: Outputs the input directly if it is positive; otherwise, it outputs zero. It is widely used due to its simplicity and effectiveness.\n",
    "- **Sigmoid**: Compresses the input to a range between 0 and 1. It is often used in binary classification problems.\n",
    "- **Tanh (Hyperbolic tangent)**: Compresses the input to a range between -1 and 1, centering the data. It is often used in practice but can lead to issues with gradient vanishing.\n",
    "\n",
    "#### 3. Forward propagation\n",
    "Forward propagation is the process of passing input data through the network to obtain an output. During this process, each neuron computes a weighted sum of its inputs, adds a bias term, and applies an activation function to produce its output. The output of one layer becomes the input to the next layer, and this process continues until the final output layer.\n",
    "\n",
    "#### 4. Loss function\n",
    "The loss function measures the difference between the predicted outputs and the actual targets. It quantifies how well the neural network is performing. The goal of training the network is to minimize this loss.\n",
    "\n",
    "- **Mean Squared Error (MSE)**: Commonly used for regression tasks, it calculates the average squared difference between predicted and actual values.\n",
    "- **Cross-entropy loss**: Used for classification tasks, it measures the difference between the predicted probability distribution and the actual distribution.\n",
    "\n",
    "#### 5. Backpropagation\n",
    "Backpropagation is the process of updating the network's weights to minimize the loss. It involves calculating the gradient of the loss function with respect to each weight and adjusting the weights in the opposite direction of the gradient. This ensures that the loss decreases with each iteration.\n",
    "\n",
    "#### 6. Optimizers\n",
    "Optimizers are algorithms that adjust the weights of the network to minimize the loss. They use the gradients calculated during backpropagation to update the weights.\n",
    "\n",
    "- **Stochastic Gradient Descent (SGD)**: Updates the weights using a small, randomly chosen subset of the data (a mini-batch). This makes the optimization process faster and allows the model to learn from a diverse set of examples.\n",
    "- **Adam (Adaptive Moment Estimation)**: An extension of SGD that adapts the learning rate for each parameter, making it more efficient and robust in practice.\n",
    "\n",
    "#### 7. Training and validation\n",
    "Training a neural network involves iteratively feeding data through the network, calculating the loss, and updating the weights. This process is repeated for a specified number of epochs (complete passes through the training dataset).\n",
    "\n",
    "- **Training set**: The subset of data used to train the model.\n",
    "- **Validation set**: A separate subset of data used to evaluate the model's performance during training, helping to tune hyperparameters and prevent overfitting.\n",
    "\n",
    "#### 8. Overfitting and underfitting\n",
    "- **Overfitting**: Occurs when the model learns the training data too well, capturing noise and specific patterns that do not generalize to new data. This results in poor performance on the validation set.\n",
    "- **Underfitting**: Occurs when the model is too simple to capture the underlying patterns in the data, leading to poor performance on both the training and validation sets.\n",
    "\n",
    "#### 9. Regularization techniques\n",
    "Regularization techniques are used to prevent overfitting by adding constraints or penalties to the model.\n",
    "\n",
    "- **Dropout**: Randomly drops a fraction of neurons during training, forcing the network to learn redundant representations and improving generalization.\n",
    "- **L2 regularization (Ridge)**: Adds a penalty proportional to the sum of the squares of the weights, discouraging large weights and promoting simpler models.\n",
    "\n",
    "#### 10. Model evaluation\n",
    "After training, the model's performance is evaluated on a test set that was not seen during training. This provides an unbiased estimate of how well the model generalizes to new data.\n",
    "\n",
    "- **Accuracy**: The proportion of correctly classified instances out of the total instances.\n",
    "- **Precision, recall, and F1 score**: Metrics that provide deeper insights into the model's performance, especially for imbalanced datasets."
   ]
  },
  {
   "cell_type": "markdown",
   "metadata": {},
   "source": [
    "### Maths\n",
    "\n",
    "#### 1. Structure of Neural Networks\n",
    "\n",
    "##### Layers\n",
    "- **Input layer**: This is the first layer of the network, which receives the raw input data. Each neuron in this layer corresponds to one feature of the input data.\n",
    "- **Hidden layers**: These layers are located between the input and output layers. They perform computations and extract features from the input data. A neural network can have multiple hidden layers, which allows it to learn complex patterns.\n",
    "- **Output layer**: This is the final layer of the network, which produces the output. The number of neurons in this layer depends on the type of problem (e.g., one neuron for binary classification, multiple neurons for multi-class classification).\n",
    "\n",
    "##### Neurons\n",
    "Each neuron in a neural network computes a weighted sum of its inputs, adds a bias term, and applies an activation function to produce its output.\n",
    "\n",
    "#### 2. Forward propagation\n",
    "\n",
    "Forward propagation is the process by which input data passes through the network to generate an output. It involves the following steps:\n",
    "\n",
    "##### Weighted sum\n",
    "For a given neuron $ j $ in layer $ l $, the input $ z_j^{(l)} $ is computed as:\n",
    "$$ z_j^{(l)} = \\sum_{i=1}^{n} w_{ij}^{(l-1)} a_i^{(l-1)} + b_j^{(l)} $$\n",
    "where:\n",
    "- $ w_{ij}^{(l-1)} $ is the weight connecting neuron $ i $ in layer $ l-1 $ to neuron $ j $ in layer $ l $.\n",
    "- $ a_i^{(l-1)} $ is the activation of neuron $ i $ in layer $ l-1 $.\n",
    "- $ b_j^{(l)} $ is the bias term for neuron $ j $ in layer $ l $.\n",
    "- $ n $ is the number of neurons in layer $ l-1 $.\n",
    "\n",
    "##### Activation function\n",
    "The output $ a_j^{(l)} $ of neuron $ j $ in layer $ l $ is obtained by applying an activation function $ f $ to the weighted sum:\n",
    "$$ a_j^{(l)} = f(z_j^{(l)}) $$\n",
    "\n",
    "Common activation functions include:\n",
    "- **Sigmoid**: $ f(z) = \\frac{1}{1 + e^{-z}} $\n",
    "- **Tanh**: $ f(z) = \\tanh(z) $\n",
    "- **ReLU (Rectified Linear Unit)**: $ f(z) = \\max(0, z) $\n",
    "\n",
    "#### 3. Loss function\n",
    "\n",
    "The loss function quantifies the difference between the predicted output and the actual target. The goal of training a neural network is to minimize this loss. Common loss functions include:\n",
    "\n",
    "- **Mean Squared Error (MSE)**: Used for regression tasks, defined as:\n",
    "  $$ \\text{MSE} = \\frac{1}{m} \\sum_{i=1}^{m} (y_i - \\hat{y_i})^2 $$\n",
    "  where $ y_i $ is the true value and $ \\hat{y_i} $ is the predicted value.\n",
    "\n",
    "- **Cross-entropy loss**: Used for classification tasks, defined as:\n",
    "  $$ \\text{Cross-Entropy} = -\\frac{1}{m} \\sum_{i=1}^{m} \\sum_{j=1}^{k} y_{ij} \\log(\\hat{y_{ij}}) $$\n",
    "  where $ y_{ij} $ is the binary indicator (0 or 1) if class label $ j $ is the correct classification for input $ i $, and $ \\hat{y_{ij}} $ is the predicted probability of $ i $ being in class $ j $.\n",
    "\n",
    "#### 4. Backpropagation\n",
    "\n",
    "Backpropagation is the process of adjusting the network's weights to minimize the loss. It involves calculating the gradient of the loss function with respect to each weight and updating the weights using gradient descent.\n",
    "\n",
    "##### Gradient descent\n",
    "The weight update rule for gradient descent is:\n",
    "$$ w_{ij} = w_{ij} - \\eta \\frac{\\partial L}{\\partial w_{ij}} $$\n",
    "where:\n",
    "- $ \\eta $ is the learning rate, a hyperparameter that controls the step size of the update.\n",
    "- $ \\frac{\\partial L}{\\partial w_{ij}} $ is the partial derivative of the loss function with respect to the weight $ w_{ij} $.\n",
    "\n",
    "##### Calculating gradients\n",
    "The gradients are computed using the chain rule of calculus. For a given weight $ w_{ij} $, the gradient is calculated as:\n",
    "$$ \\frac{\\partial L}{\\partial w_{ij}} = \\frac{\\partial L}{\\partial a_j} \\cdot \\frac{\\partial a_j}{\\partial z_j} \\cdot \\frac{\\partial z_j}{\\partial w_{ij}} $$\n",
    "\n",
    "The partial derivatives are:\n",
    "- $ \\frac{\\partial L}{\\partial a_j} $: The derivative of the loss with respect to the neuron's activation, which depends on the loss function.\n",
    "- $ \\frac{\\partial a_j}{\\partial z_j} $: The derivative of the activation function.\n",
    "- $ \\frac{\\partial z_j}{\\partial w_{ij}} $: The derivative of the weighted sum with respect to the weight, which is the input to the neuron.\n",
    "\n",
    "#### 5. Training the network\n",
    "\n",
    "Training a neural network involves the following steps:\n",
    "1. **Initialize weights**: Set the initial values of the weights, typically using small random values.\n",
    "2. **Forward propagation**: Compute the outputs of the network for a batch of input data.\n",
    "3. **Compute loss**: Calculate the loss using the predicted outputs and the true targets.\n",
    "4. **Backpropagation**: Compute the gradients of the loss with respect to the weights.\n",
    "5. **Update weights**: Adjust the weights using gradient descent.\n",
    "6. **Repeat**: Iterate over the training data for a specified number of epochs until the loss converges.\n",
    "\n",
    "#### 6. Regularization techniques\n",
    "\n",
    "To prevent overfitting, various regularization techniques can be applied:\n",
    "\n",
    "- **L2 regularization (Ridge)**: Adds a penalty proportional to the sum of the squares of the weights to the loss function.\n",
    "  $$ L_{\\text{ridge}} = L + \\lambda \\sum_{j} w_j^2 $$\n",
    "  where $ \\lambda $ is the regularization parameter.\n",
    "\n",
    "- **L1 regularization (Lasso)**: Adds a penalty proportional to the sum of the absolute values of the weights to the loss function.\n",
    "  $$ L_{\\text{lasso}} = L + \\lambda \\sum_{j} |w_j| $$\n",
    "\n",
    "- **Dropout**: Randomly sets a fraction of the neurons to zero during training, which helps prevent the network from becoming too reliant on any single neuron and improves generalization."
   ]
  },
  {
   "cell_type": "markdown",
   "metadata": {},
   "source": [
    "## Setting up the environment"
   ]
  },
  {
   "cell_type": "markdown",
   "metadata": {},
   "source": [
    "##### **Q1: How do you install the necessary libraries for building neural networks in PyTorch?**"
   ]
  },
  {
   "cell_type": "code",
   "execution_count": 3,
   "metadata": {},
   "outputs": [],
   "source": [
    "# !pip install torch torchvision torchaudio --index-url https://download.pytorch.org/whl/cu121\n",
    "# !pip install numpy matplotlib scikit-learn pandas"
   ]
  },
  {
   "cell_type": "code",
   "execution_count": 4,
   "metadata": {},
   "outputs": [
    {
     "name": "stdout",
     "output_type": "stream",
     "text": [
      "CUDA is available. PyTorch version: 2.3.1+cu121\n"
     ]
    }
   ],
   "source": [
    "# Verify CUDA availability\n",
    "import torch\n",
    "\n",
    "if torch.cuda.is_available():\n",
    "    print(\"CUDA is available. PyTorch version:\", torch.__version__)\n",
    "else:\n",
    "    print(\"CUDA is not available. PyTorch version:\", torch.__version__)"
   ]
  },
  {
   "cell_type": "markdown",
   "metadata": {},
   "source": [
    "##### **Q2: How do you import the required modules for building neural networks in PyTorch?**"
   ]
  },
  {
   "cell_type": "code",
   "execution_count": 5,
   "metadata": {},
   "outputs": [],
   "source": [
    "# import torch\n",
    "import torch.nn as nn\n",
    "import torch.optim as optim\n",
    "import torch.nn.functional as F\n",
    "from torch.utils.data import DataLoader, Dataset\n",
    "import numpy as np\n",
    "import pandas as pd\n",
    "import matplotlib.pyplot as plt"
   ]
  },
  {
   "cell_type": "markdown",
   "metadata": {},
   "source": [
    "## Building a neural network"
   ]
  },
  {
   "cell_type": "markdown",
   "metadata": {},
   "source": [
    "##### **Q3: How do you define the architecture of a neural network using `nn.Module` in PyTorch?**"
   ]
  },
  {
   "cell_type": "code",
   "execution_count": 6,
   "metadata": {},
   "outputs": [
    {
     "name": "stdout",
     "output_type": "stream",
     "text": [
      "SimpleNet(\n",
      "  (fc1): Linear(in_features=784, out_features=128, bias=True)\n",
      "  (fc2): Linear(in_features=128, out_features=64, bias=True)\n",
      "  (fc3): Linear(in_features=64, out_features=10, bias=True)\n",
      ")\n"
     ]
    }
   ],
   "source": [
    "# Define a simple neural network model\n",
    "class SimpleNet(nn.Module):\n",
    "    def __init__(self):\n",
    "        super(SimpleNet, self).__init__()\n",
    "        # Define layers\n",
    "        self.fc1 = nn.Linear(784, 128)  # Input layer to first hidden layer\n",
    "        self.fc2 = nn.Linear(128, 64)   # First hidden layer to second hidden layer\n",
    "        self.fc3 = nn.Linear(64, 10)    # Second hidden layer to output layer\n",
    "    \n",
    "    def forward(self, x):\n",
    "        # Define the forward pass\n",
    "        x = F.relu(self.fc1(x))  # Apply ReLU activation after first layer\n",
    "        x = F.relu(self.fc2(x))  # Apply ReLU activation after second layer\n",
    "        x = self.fc3(x)          # Output layer\n",
    "        return x\n",
    "\n",
    "# Instantiate the network\n",
    "model = SimpleNet()\n",
    "\n",
    "# Print the model architecture\n",
    "print(model)"
   ]
  },
  {
   "cell_type": "markdown",
   "metadata": {},
   "source": [
    "##### **Q4: How do you initialize the weights and biases of a neural network?**"
   ]
  },
  {
   "cell_type": "code",
   "execution_count": 7,
   "metadata": {},
   "outputs": [
    {
     "name": "stdout",
     "output_type": "stream",
     "text": [
      "Parameter containing:\n",
      "tensor([[ 0.0239, -0.0602, -0.0557,  ...,  0.0513, -0.0251,  0.0194],\n",
      "        [-0.0334, -0.0637,  0.0595,  ..., -0.0099, -0.0102, -0.0320],\n",
      "        [ 0.0430, -0.0141,  0.0852,  ..., -0.0636,  0.0263, -0.0552],\n",
      "        ...,\n",
      "        [ 0.0498,  0.0860,  0.0447,  ..., -0.0366, -0.0528, -0.0104],\n",
      "        [ 0.0391,  0.0167, -0.0310,  ...,  0.0261,  0.0690,  0.0272],\n",
      "        [-0.0595, -0.0611, -0.0696,  ...,  0.0049,  0.0836,  0.0848]],\n",
      "       requires_grad=True)\n",
      "Parameter containing:\n",
      "tensor([0., 0., 0., 0., 0., 0., 0., 0., 0., 0., 0., 0., 0., 0., 0., 0., 0., 0., 0., 0., 0., 0., 0., 0.,\n",
      "        0., 0., 0., 0., 0., 0., 0., 0., 0., 0., 0., 0., 0., 0., 0., 0., 0., 0., 0., 0., 0., 0., 0., 0.,\n",
      "        0., 0., 0., 0., 0., 0., 0., 0., 0., 0., 0., 0., 0., 0., 0., 0., 0., 0., 0., 0., 0., 0., 0., 0.,\n",
      "        0., 0., 0., 0., 0., 0., 0., 0., 0., 0., 0., 0., 0., 0., 0., 0., 0., 0., 0., 0., 0., 0., 0., 0.,\n",
      "        0., 0., 0., 0., 0., 0., 0., 0., 0., 0., 0., 0., 0., 0., 0., 0., 0., 0., 0., 0., 0., 0., 0., 0.,\n",
      "        0., 0., 0., 0., 0., 0., 0., 0.], requires_grad=True)\n"
     ]
    }
   ],
   "source": [
    "# One way to do it: custom initialization\n",
    "import torch.nn.init as init\n",
    "\n",
    "class CustomNet(nn.Module):\n",
    "    def __init__(self):\n",
    "        super(CustomNet, self).__init__()\n",
    "        self.fc1 = nn.Linear(784, 128)\n",
    "        self.fc2 = nn.Linear(128, 64)\n",
    "        self.fc3 = nn.Linear(64, 10)\n",
    "        \n",
    "        self._initialize_weights()\n",
    "    \n",
    "    def forward(self, x):\n",
    "        x = F.relu(self.fc1(x))\n",
    "        x = F.relu(self.fc2(x))\n",
    "        x = self.fc3(x)\n",
    "        return x\n",
    "    \n",
    "    def _initialize_weights(self):\n",
    "        # Custom initialization of weights and biases\n",
    "        init.kaiming_uniform_(self.fc1.weight, nonlinearity='relu')  # Suitable for layers with ReLU activation functions. Maintains variance of input and output distributions\n",
    "        init.constant_(self.fc1.bias, 0)  # Sets biases to a constant value, often zero\n",
    "        \n",
    "        init.kaiming_uniform_(self.fc2.weight, nonlinearity='relu')\n",
    "        init.constant_(self.fc2.bias, 0)\n",
    "        \n",
    "        init.xavier_uniform_(self.fc3.weight)  # Suitable for layers with linear or tanh activation functions. Keeps variance of activations uniform across layers\n",
    "        init.constant_(self.fc3.bias, 0)\n",
    "\n",
    "# Instantiate the network\n",
    "model = CustomNet()\n",
    "\n",
    "# Print the initialized weights and biases\n",
    "print(model.fc1.weight)\n",
    "print(model.fc1.bias)"
   ]
  },
  {
   "cell_type": "code",
   "execution_count": 8,
   "metadata": {},
   "outputs": [
    {
     "data": {
      "text/plain": [
       "CustomNet(\n",
       "  (fc1): Linear(in_features=784, out_features=128, bias=True)\n",
       "  (fc2): Linear(in_features=128, out_features=64, bias=True)\n",
       "  (fc3): Linear(in_features=64, out_features=10, bias=True)\n",
       ")"
      ]
     },
     "execution_count": 8,
     "metadata": {},
     "output_type": "execute_result"
    }
   ],
   "source": [
    "# Alternative: use \"apply\" function\n",
    "def init_weights(m):\n",
    "    if isinstance(m, nn.Linear):\n",
    "        init.kaiming_uniform_(m.weight, nonlinearity='relu')\n",
    "        init.constant_(m.bias, 0)\n",
    "\n",
    "model.apply(init_weights)"
   ]
  },
  {
   "cell_type": "markdown",
   "metadata": {},
   "source": [
    "##### **Q5: How do you choose activation functions for the layers of your neural network?**"
   ]
  },
  {
   "cell_type": "code",
   "execution_count": 9,
   "metadata": {},
   "outputs": [],
   "source": [
    "# ReLU: Widely used in hidden layers of deep neural networks.\n",
    "def relu(x):\n",
    "    return F.relu(x)\n",
    "\n",
    "# Leaky ReLU: Alternative to ReLU to address the dying ReLU problem.\n",
    "def leaky_relu(x, negative_slope=0.01):\n",
    "    return F.leaky_relu(x, negative_slope=negative_slope)\n",
    "\n",
    "# Sigmoid: Used in the output layer for binary classification.\n",
    "def sigmoid(x):\n",
    "    return torch.sigmoid(x)\n",
    "\n",
    "# Tanh: Used in hidden layers when data is normalized.\n",
    "def tanh(x):\n",
    "    return torch.tanh(x)\n",
    "\n",
    "# Softmax: Used in the output layer for multi-class classification.\n",
    "def softmax(x, dim=0):  # Note: Adjust dim as needed for higher-dimensional tensors\n",
    "    return F.softmax(x, dim=dim)\n",
    "\n",
    "# Swish: Alternative to ReLU for potential performance gains.\n",
    "def swish(x):\n",
    "    return x * torch.sigmoid(x)"
   ]
  },
  {
   "cell_type": "code",
   "execution_count": 10,
   "metadata": {},
   "outputs": [
    {
     "name": "stdout",
     "output_type": "stream",
     "text": [
      "Input Tensor:  tensor([-1.,  0.,  1.,  2.])\n",
      "ReLU:  tensor([0., 0., 1., 2.])\n",
      "Leaky ReLU:  tensor([-0.0100,  0.0000,  1.0000,  2.0000])\n",
      "Sigmoid:  tensor([0.2689, 0.5000, 0.7311, 0.8808])\n",
      "Tanh:  tensor([-0.7616,  0.0000,  0.7616,  0.9640])\n",
      "Softmax:  tensor([0.0321, 0.0871, 0.2369, 0.6439])\n",
      "Swish:  tensor([-0.2689,  0.0000,  0.7311,  1.7616])\n"
     ]
    }
   ],
   "source": [
    "# Example tensor\n",
    "x = torch.tensor([-1.0, 0.0, 1.0, 2.0])\n",
    "\n",
    "# Apply and print each activation function\n",
    "print(\"Input Tensor: \", x)\n",
    "print(\"ReLU: \", relu(x))\n",
    "print(\"Leaky ReLU: \", leaky_relu(x))\n",
    "print(\"Sigmoid: \", sigmoid(x))\n",
    "print(\"Tanh: \", tanh(x))\n",
    "print(\"Softmax: \", softmax(x, dim=0))\n",
    "print(\"Swish: \", swish(x))"
   ]
  },
  {
   "cell_type": "code",
   "execution_count": 11,
   "metadata": {},
   "outputs": [
    {
     "name": "stdout",
     "output_type": "stream",
     "text": [
      "CustomNet(\n",
      "  (fc1): Linear(in_features=784, out_features=128, bias=True)\n",
      "  (fc2): Linear(in_features=128, out_features=64, bias=True)\n",
      "  (fc3): Linear(in_features=64, out_features=10, bias=True)\n",
      ")\n"
     ]
    }
   ],
   "source": [
    "# In practice, using Leaky ReLU:\n",
    "class CustomNet(nn.Module):\n",
    "    def __init__(self):\n",
    "        super(CustomNet, self).__init__()\n",
    "        self.fc1 = nn.Linear(784, 128)\n",
    "        self.fc2 = nn.Linear(128, 64)\n",
    "        self.fc3 = nn.Linear(64, 10)\n",
    "    \n",
    "    def forward(self, x):\n",
    "        x = F.relu(self.fc1(x))  # ReLU activation for hidden layer 1\n",
    "        x = F.leaky_relu(self.fc2(x), negative_slope=0.01)  # Leaky ReLU for hidden layer 2\n",
    "        x = self.fc3(x)\n",
    "        return F.softmax(x, dim=1)  # Softmax for output layer\n",
    "\n",
    "model = CustomNet()\n",
    "\n",
    "print(model)"
   ]
  },
  {
   "cell_type": "markdown",
   "metadata": {},
   "source": [
    "## Forward propagation"
   ]
  },
  {
   "cell_type": "markdown",
   "metadata": {},
   "source": [
    "##### **Q6: What is the forward pass in a neural network?**\n",
    "\n",
    "It's the process of passing input data through the network's layers to produce an output. This involves applying a series of linear transformations (like matrix multiplications) and nonlinear transformations (activation functions) to the input data, layer by layer, until the final output is obtained.\n",
    "\n",
    "In practice:"
   ]
  },
  {
   "cell_type": "code",
   "execution_count": 12,
   "metadata": {},
   "outputs": [
    {
     "name": "stdout",
     "output_type": "stream",
     "text": [
      "Output of the forward pass: tensor([[ 0.0848, -0.1827,  0.1447,  0.0302, -0.0072,  0.0113,  0.0846,  0.0088,\n",
      "          0.1804, -0.0287]], grad_fn=<AddmmBackward0>)\n"
     ]
    }
   ],
   "source": [
    "# Define a simple neural network\n",
    "class SimpleNet(nn.Module):\n",
    "    def __init__(self):\n",
    "        super(SimpleNet, self).__init__()\n",
    "        self.fc1 = nn.Linear(784, 128)\n",
    "        self.fc2 = nn.Linear(128, 64)\n",
    "        self.fc3 = nn.Linear(64, 10)\n",
    "    \n",
    "    def forward(self, x):\n",
    "        # Forward pass: apply linear transformation and activation function\n",
    "        x = F.relu(self.fc1(x))  # First hidden layer with ReLU activation\n",
    "        x = F.relu(self.fc2(x))  # Second hidden layer with ReLU activation\n",
    "        x = self.fc3(x)          # Output layer (typically followed by a softmax or other activation in practice)\n",
    "        return x\n",
    "\n",
    "model = SimpleNet()\n",
    "\n",
    "# Example input (batch size of 1, 784 features)\n",
    "input_data = torch.randn(1, 784)\n",
    "\n",
    "# Perform a forward pass\n",
    "output = model(input_data)\n",
    "\n",
    "# Print the output\n",
    "print(\"Output of the forward pass:\", output)"
   ]
  },
  {
   "cell_type": "markdown",
   "metadata": {},
   "source": [
    "##### **Q7: How do you compute the outputs of a neural network during the forward pass?**"
   ]
  },
  {
   "cell_type": "code",
   "execution_count": 13,
   "metadata": {},
   "outputs": [
    {
     "name": "stdout",
     "output_type": "stream",
     "text": [
      "Output of the forward pass: tensor([[ 0.1152,  0.0608, -0.0696, -0.0783,  0.1075, -0.1274, -0.0522,  0.0022,\n",
      "         -0.0747,  0.2392]], grad_fn=<AddmmBackward0>)\n"
     ]
    }
   ],
   "source": [
    "# Same as above, so no need to redefine the model\n",
    "model = SimpleNet()\n",
    "\n",
    "input_data = torch.randn(1, 784)\n",
    "\n",
    "output = model(input_data)\n",
    "\n",
    "print(\"Output of the forward pass:\", output)"
   ]
  },
  {
   "cell_type": "markdown",
   "metadata": {},
   "source": [
    "## Loss function"
   ]
  },
  {
   "cell_type": "markdown",
   "metadata": {},
   "source": [
    "##### **Q8: How do you define the loss function for a neural network in PyTorch?**"
   ]
  },
  {
   "cell_type": "code",
   "execution_count": 14,
   "metadata": {},
   "outputs": [],
   "source": [
    "# Cross-entropy loss: Used for multi-class classification problems, combining nn.LogSoftmax and nn.NLLLoss in a single class\n",
    "loss_fn = nn.CrossEntropyLoss()\n",
    "\n",
    "# Mean Squared Error (MSE) loss: Used for regression problems\n",
    "loss_fn = nn.MSELoss()\n",
    "\n",
    "# Binary cross-entropy loss: Used for binary classification problems\n",
    "loss_fn = nn.BCELoss()"
   ]
  },
  {
   "cell_type": "code",
   "execution_count": 15,
   "metadata": {},
   "outputs": [
    {
     "name": "stdout",
     "output_type": "stream",
     "text": [
      "Loss: 2.4373693466186523\n"
     ]
    }
   ],
   "source": [
    "# Define a simple neural network\n",
    "class SimpleNet(nn.Module):\n",
    "    def __init__(self):\n",
    "        super(SimpleNet, self).__init__()\n",
    "        self.fc1 = nn.Linear(784, 128)\n",
    "        self.fc2 = nn.Linear(128, 64)\n",
    "        self.fc3 = nn.Linear(64, 10)\n",
    "    \n",
    "    def forward(self, x):\n",
    "        x = torch.relu(self.fc1(x))\n",
    "        x = torch.relu(self.fc2(x))\n",
    "        x = self.fc3(x)\n",
    "        return x\n",
    "\n",
    "model = SimpleNet()\n",
    "\n",
    "# Define the loss function\n",
    "loss_fn = nn.CrossEntropyLoss()\n",
    "\n",
    "# Define the optimizer\n",
    "optimizer = optim.Adam(model.parameters(), lr=0.001)\n",
    "\n",
    "input_data = torch.randn(1, 784)\n",
    "target = torch.tensor([3])  # Example target class\n",
    "\n",
    "output = model(input_data)\n",
    "\n",
    "# Compute the loss\n",
    "loss = loss_fn(output, target)\n",
    "\n",
    "# Print the loss\n",
    "print(\"Loss:\", loss.item())"
   ]
  },
  {
   "cell_type": "markdown",
   "metadata": {},
   "source": [
    "##### **Q9: What are some common loss functions used in neural networks?**"
   ]
  },
  {
   "cell_type": "code",
   "execution_count": 16,
   "metadata": {},
   "outputs": [],
   "source": [
    "# Binary cross entropy with logits loss: Used in binary classification problems, combining a sigmoid layer and the BCELoss in a single class\n",
    "loss_fn = nn.BCEWithLogitsLoss()\n",
    "\n",
    "# Kullback-Leibler divergence loss: Used in variational autoencoders and other generative models\n",
    "loss_fn = nn.KLDivLoss()\n",
    "\n",
    "# Huber loss: Used in regression problems, combining advantages of MSE and MAE\n",
    "loss_fn = nn.SmoothL1Loss()\n",
    "\n",
    "# Negative log-likelihood loss: Used in classification tasks with probabilistic outputs\n",
    "loss_fn = nn.NLLLoss()\n",
    "\n",
    "# Cosine embedding loss: Used in similarity learning\n",
    "loss_fn = nn.CosineEmbeddingLoss()"
   ]
  },
  {
   "cell_type": "code",
   "execution_count": 17,
   "metadata": {},
   "outputs": [
    {
     "name": "stdout",
     "output_type": "stream",
     "text": [
      "MSE Loss: 1.3058918714523315\n",
      "Cross Entropy Loss: 0.8920760154724121\n"
     ]
    }
   ],
   "source": [
    "# In practice:\n",
    "input_data = torch.randn(1, 5)\n",
    "target_regression = torch.randn(1, 5)\n",
    "\n",
    "input_classification = torch.randn(1, 5)\n",
    "target_classification = torch.tensor([1])\n",
    "\n",
    "# Define a simple linear model\n",
    "model = nn.Linear(5, 5)\n",
    "\n",
    "# Forward pass for regression\n",
    "output_regression = model(input_data)\n",
    "loss_fn_mse = nn.MSELoss()\n",
    "loss_mse = loss_fn_mse(output_regression, target_regression)\n",
    "print(\"MSE Loss:\", loss_mse.item())\n",
    "\n",
    "# Forward pass for classification\n",
    "output_classification = model(input_classification)\n",
    "loss_fn_cross_entropy = nn.CrossEntropyLoss()  # CrossEntropyLoss expects the output to be logits (raw scores) and target to be class indices\n",
    "loss_cross_entropy = loss_fn_cross_entropy(output_classification, target_classification)\n",
    "print(\"Cross Entropy Loss:\", loss_cross_entropy.item())"
   ]
  },
  {
   "cell_type": "markdown",
   "metadata": {},
   "source": [
    "## Backpropagation"
   ]
  },
  {
   "cell_type": "markdown",
   "metadata": {},
   "source": [
    "##### **Q10: What is the backpropagation algorithm and how does it work?**\n",
    "\n",
    "The backpropagation algorithm is a fundamental method used for training artificial neural networks, which works by minimizing the loss function by adjusting the weights of the network through a process called gradient descent. It works as follows:\n",
    "\n",
    "1. **Initialization**:\n",
    "   - Initialize the weights and biases of the network randomly or using specific initialization techniques.\n",
    "\n",
    "2. **Forward pass**:\n",
    "   - For each layer in the network, compute the output by applying the linear transformation and activation function.\n",
    "   - Calculate the loss using the loss function.\n",
    "\n",
    "3. **Compute gradients**:\n",
    "   - Starting from the output layer, compute the gradient of the loss with respect to each weight and bias by applying the chain rule.\n",
    "   - The gradient for a weight is computed as the derivative of the loss with respect to the weight.\n",
    "\n",
    "4. **Update weights**:\n",
    "   - Adjust the weights and biases using the computed gradients. This is typically done using an optimization algorithm like gradient descent.\n",
    "\n",
    "5. **Repeat**:\n",
    "   - Repeat the forward and backward passes for a number of epochs or until the loss converges to a minimum value.\n",
    "\n",
    "In practice:"
   ]
  },
  {
   "cell_type": "code",
   "execution_count": 18,
   "metadata": {},
   "outputs": [
    {
     "name": "stdout",
     "output_type": "stream",
     "text": [
      "Loss: 2.3068959712982178\n"
     ]
    }
   ],
   "source": [
    "# Define a simple neural network\n",
    "class SimpleNet(nn.Module):\n",
    "    def __init__(self):\n",
    "        super(SimpleNet, self).__init__()\n",
    "        self.fc1 = nn.Linear(784, 128)\n",
    "        self.fc2 = nn.Linear(128, 64)\n",
    "        self.fc3 = nn.Linear(64, 10)\n",
    "    \n",
    "    def forward(self, x):\n",
    "        x = torch.relu(self.fc1(x))\n",
    "        x = torch.relu(self.fc2(x))\n",
    "        x = self.fc3(x)\n",
    "        return x\n",
    "\n",
    "# Instantiate the network, loss function, and optimizer\n",
    "model = SimpleNet()\n",
    "loss_fn = nn.CrossEntropyLoss()\n",
    "optimizer = optim.SGD(model.parameters(), lr=0.01)\n",
    "\n",
    "input_data = torch.randn(64, 784)  # Batch of 64 samples, each with 784 features\n",
    "target = torch.randint(0, 10, (64,))  # Random target classes for the batch\n",
    "\n",
    "# Forward pass\n",
    "output = model(input_data)\n",
    "loss = loss_fn(output, target)\n",
    "\n",
    "# Backward pass and optimization\n",
    "optimizer.zero_grad()  # Zero the gradients\n",
    "loss.backward()        # Compute the gradients\n",
    "optimizer.step()       # Update the weights\n",
    "\n",
    "print(\"Loss:\", loss.item())"
   ]
  },
  {
   "cell_type": "markdown",
   "metadata": {},
   "source": [
    "##### **Q11: How do you calculate gradients during backpropagation in PyTorch?**"
   ]
  },
  {
   "cell_type": "code",
   "execution_count": 19,
   "metadata": {},
   "outputs": [
    {
     "name": "stdout",
     "output_type": "stream",
     "text": [
      "Gradients for fc1.weight: tensor([[ 1.0018e-03, -1.2585e-03,  1.9845e-03,  ...,  6.2827e-04,\n",
      "          7.4536e-04, -8.9154e-04],\n",
      "        [ 2.2343e-03,  3.4184e-04,  1.1230e-04,  ..., -7.5391e-05,\n",
      "          9.7831e-04, -7.9060e-04],\n",
      "        [-2.0087e-03, -6.6268e-04, -1.3135e-04,  ...,  2.8741e-03,\n",
      "          4.9113e-04,  1.2711e-03],\n",
      "        ...,\n",
      "        [ 2.1188e-03, -9.4650e-04,  3.1556e-03,  ..., -4.9005e-03,\n",
      "         -6.4578e-04, -4.0331e-04],\n",
      "        [-6.2539e-04,  1.7256e-03,  2.3145e-03,  ..., -2.1210e-03,\n",
      "          5.9706e-04, -3.6691e-03],\n",
      "        [-6.0439e-04, -2.2189e-03, -8.6799e-04,  ...,  3.5957e-04,\n",
      "          9.8467e-04,  7.8626e-04]])\n",
      "Gradients for fc1.bias: tensor([-4.8719e-04,  3.4573e-03, -2.1574e-03,  2.2283e-04,  3.2027e-03,\n",
      "         3.4997e-03,  2.1686e-03, -2.0749e-03,  2.5351e-04,  2.1279e-03,\n",
      "        -1.6254e-03, -5.9095e-04, -2.3454e-04,  2.8299e-03, -2.8225e-04,\n",
      "        -9.2597e-04,  3.3348e-03, -3.2841e-04, -1.6297e-03, -4.7923e-04,\n",
      "         2.2105e-04,  8.5719e-04, -3.5480e-03, -3.5118e-03,  1.7365e-03,\n",
      "        -4.6138e-04,  7.8484e-05, -8.3574e-05,  5.4964e-04,  2.7357e-03,\n",
      "        -1.3111e-03, -1.9179e-03, -4.6293e-04, -2.1971e-03,  3.5864e-03,\n",
      "        -1.6919e-03, -4.7804e-06,  6.6061e-05, -4.3797e-04, -4.3623e-03,\n",
      "        -4.2498e-04,  1.2545e-03, -1.4123e-03, -5.8503e-04,  2.7003e-03,\n",
      "        -3.5880e-03,  6.1647e-05,  1.3990e-04, -2.0359e-03, -2.7111e-03,\n",
      "         5.0247e-04, -5.1659e-05, -1.7729e-03,  3.4328e-03, -1.8680e-03,\n",
      "         1.4747e-03, -1.1100e-03,  1.2000e-03, -7.0757e-04, -7.0439e-04,\n",
      "        -3.4902e-03, -4.3482e-04,  1.3565e-03,  9.1594e-04,  2.4769e-03,\n",
      "        -2.1827e-03, -3.0377e-03,  1.1506e-03,  1.3089e-03,  3.1047e-03,\n",
      "        -1.3722e-04, -4.0462e-04,  1.1037e-03,  3.3050e-04, -2.0416e-03,\n",
      "         1.7798e-03, -9.4121e-04, -2.5805e-03, -2.0711e-03,  9.1267e-04,\n",
      "         2.5142e-03,  3.4405e-03,  1.3555e-03, -3.8832e-04,  5.2881e-04,\n",
      "        -1.2624e-03, -2.0981e-03,  6.6356e-06, -1.1365e-03, -1.3269e-03,\n",
      "         1.1392e-03, -1.2717e-03, -1.7817e-03, -5.1965e-04,  5.5878e-04,\n",
      "        -3.7480e-05, -1.3890e-04, -1.8809e-03, -2.0976e-03, -5.9309e-04,\n",
      "         2.0381e-03,  1.0300e-03,  9.6307e-04, -7.9503e-04, -8.0825e-04,\n",
      "         3.2030e-05, -1.5529e-03, -1.6541e-04, -2.2206e-03, -3.6869e-04,\n",
      "         5.7791e-04, -7.9409e-04, -4.7799e-03, -6.4113e-04,  1.5369e-03,\n",
      "         8.6286e-04,  3.9734e-04, -2.5963e-03, -8.3768e-05, -4.2211e-03,\n",
      "         2.3999e-03,  1.0208e-03, -2.0974e-03,  2.1438e-04, -1.9302e-03,\n",
      "         1.0503e-03, -2.0133e-03,  2.2950e-04])\n",
      "Gradients for fc2.weight: tensor([[-2.9753e-03, -4.2253e-03,  1.3369e-03,  ..., -2.8972e-03,\n",
      "         -3.1986e-03,  3.5154e-04],\n",
      "        [-3.1522e-03, -2.0232e-03, -5.6260e-03,  ..., -3.7241e-04,\n",
      "         -4.5888e-04,  1.6397e-03],\n",
      "        [ 3.0417e-03, -1.6891e-03,  1.4876e-03,  ...,  5.3072e-04,\n",
      "          1.9935e-03,  2.9799e-03],\n",
      "        ...,\n",
      "        [-2.7820e-03,  2.5778e-04, -4.5194e-03,  ..., -6.4856e-04,\n",
      "          1.0551e-03,  4.9687e-04],\n",
      "        [ 3.0851e-04,  9.5444e-04, -3.8285e-04,  ..., -1.5094e-03,\n",
      "         -1.2222e-03, -4.8928e-04],\n",
      "        [-1.2458e-03,  6.2952e-06,  2.7748e-04,  ..., -6.9798e-04,\n",
      "         -5.3342e-05, -1.0508e-03]])\n",
      "Gradients for fc2.bias: tensor([-0.0053, -0.0036,  0.0009, -0.0014,  0.0033,  0.0002, -0.0002,  0.0193,\n",
      "        -0.0134,  0.0020, -0.0016, -0.0008,  0.0022,  0.0044, -0.0049, -0.0127,\n",
      "        -0.0024,  0.0069, -0.0038, -0.0050, -0.0065, -0.0091, -0.0002, -0.0109,\n",
      "        -0.0059, -0.0044,  0.0055,  0.0008,  0.0058, -0.0039,  0.0074, -0.0036,\n",
      "        -0.0030, -0.0087,  0.0008,  0.0046,  0.0005,  0.0003,  0.0008, -0.0073,\n",
      "        -0.0084, -0.0012,  0.0037,  0.0069, -0.0045,  0.0087, -0.0059, -0.0009,\n",
      "         0.0105,  0.0002, -0.0037,  0.0035,  0.0017,  0.0061,  0.0047,  0.0010,\n",
      "         0.0004,  0.0008, -0.0015, -0.0096,  0.0051, -0.0047, -0.0039, -0.0025])\n",
      "Gradients for fc3.weight: tensor([[ 6.4107e-03,  2.5114e-03,  3.3541e-06, -5.5844e-03, -7.2266e-04,\n",
      "         -3.2909e-03, -1.1954e-03,  1.0903e-02, -1.4611e-03, -1.8241e-04,\n",
      "         -5.5967e-04, -2.3309e-03, -4.3543e-03,  6.6348e-04,  1.7354e-04,\n",
      "          2.7193e-03, -1.8112e-03, -1.3545e-04, -1.1660e-03,  2.7044e-03,\n",
      "         -1.6409e-02,  5.2510e-03, -3.9246e-03,  3.0667e-03,  3.7340e-04,\n",
      "          3.0872e-03,  3.5871e-03, -1.3255e-03,  9.0097e-04,  1.9422e-03,\n",
      "          1.4818e-03, -2.4022e-03, -3.0945e-03,  9.4131e-03,  1.9543e-03,\n",
      "         -2.3683e-04,  7.9174e-04, -1.1575e-03,  1.7566e-04, -2.4802e-03,\n",
      "          1.3441e-03, -9.6481e-04, -6.6168e-03, -2.7736e-03,  1.1760e-03,\n",
      "         -9.9872e-03, -3.1711e-03, -2.6683e-03,  6.2292e-03,  7.5088e-04,\n",
      "         -7.4150e-03, -4.4347e-04,  2.1673e-03, -1.5150e-03, -2.9433e-04,\n",
      "          1.5813e-04, -2.9249e-03, -2.6242e-03, -1.0743e-03,  5.0455e-03,\n",
      "          2.4859e-03,  2.7277e-03,  1.4321e-03, -2.0613e-03],\n",
      "        [-9.2312e-03, -6.6309e-03, -8.0291e-03, -1.2382e-02, -4.1992e-03,\n",
      "          1.7867e-03, -1.2044e-03, -1.7218e-02, -1.9757e-02, -2.1064e-03,\n",
      "         -5.0452e-03, -4.0499e-03, -5.1518e-03, -5.6029e-04, -2.1925e-02,\n",
      "         -6.3133e-03, -4.0162e-03, -1.9144e-03, -9.2988e-03,  8.4011e-04,\n",
      "          5.7190e-03, -3.9943e-03, -1.0816e-02, -1.6109e-02, -1.0631e-02,\n",
      "          1.7331e-03, -2.9783e-02,  4.4882e-03, -5.7212e-03, -2.8348e-03,\n",
      "         -5.2457e-03, -1.0477e-02, -1.9319e-03, -3.0340e-02, -4.5936e-03,\n",
      "         -8.6029e-03, -4.5368e-03, -1.0338e-03, -3.2812e-03,  5.0398e-04,\n",
      "         -4.7083e-03, -2.9423e-03, -3.5557e-03, -4.9763e-05, -9.1359e-03,\n",
      "         -2.3416e-03, -9.6038e-03,  5.1528e-04,  2.8268e-03, -1.2370e-03,\n",
      "         -1.0945e-02, -2.5373e-03, -1.1939e-02, -9.8999e-03, -4.6211e-03,\n",
      "         -1.2974e-03, -2.1491e-03, -6.2674e-03,  3.6792e-03, -1.5564e-02,\n",
      "          2.3046e-03, -2.1143e-03, -1.2231e-02, -6.0499e-03],\n",
      "        [-9.2443e-03,  9.6964e-04,  5.6785e-03, -4.5896e-03, -1.8609e-03,\n",
      "          3.6770e-03,  1.1847e-03,  7.8878e-03,  4.3433e-03,  7.2475e-05,\n",
      "         -6.9863e-04,  3.3262e-03,  8.7638e-03, -1.2838e-02, -1.7175e-03,\n",
      "         -9.4984e-04,  5.1814e-04, -3.2856e-03,  2.0663e-03,  3.1290e-03,\n",
      "         -2.1281e-03, -6.2892e-04,  3.1648e-03,  6.3997e-03,  1.5105e-03,\n",
      "         -2.5186e-03, -1.4089e-03, -3.8843e-03, -5.2947e-03, -1.0409e-03,\n",
      "         -4.1288e-03,  3.9526e-04,  1.6944e-03, -8.8121e-04, -9.3748e-03,\n",
      "         -1.5724e-03,  7.9434e-04, -1.0300e-02, -2.2283e-03, -7.8437e-04,\n",
      "          1.1291e-03, -5.6027e-03, -2.4658e-03, -5.0436e-03, -1.0042e-02,\n",
      "         -3.5729e-03, -1.7728e-03,  8.3716e-05, -1.7131e-02,  1.8378e-04,\n",
      "         -3.4693e-03, -1.2509e-02, -1.2879e-02, -4.5335e-03,  4.5446e-03,\n",
      "         -1.2425e-04, -4.8604e-03, -1.3304e-03, -3.0800e-03, -6.0116e-03,\n",
      "         -5.8181e-03, -6.3677e-03,  2.5119e-03,  5.7735e-04],\n",
      "        [-2.9230e-03, -6.4598e-03, -1.1496e-02, -1.3381e-03, -5.2686e-04,\n",
      "         -1.3542e-03,  4.1619e-04, -2.5166e-03,  3.1468e-03,  2.8231e-03,\n",
      "         -4.7107e-03,  2.4087e-03,  2.2125e-04,  3.5592e-03, -1.4910e-03,\n",
      "         -1.9892e-03, -1.2734e-04, -5.7165e-03, -2.4512e-03, -2.0301e-03,\n",
      "          7.9081e-03, -5.6778e-03, -4.8650e-03,  6.6035e-03, -1.2016e-04,\n",
      "         -1.1038e-02, -1.6514e-02, -2.8938e-03,  3.3596e-03,  1.1380e-03,\n",
      "          3.2169e-03, -1.1530e-02,  2.1866e-03, -1.2399e-03,  2.2155e-03,\n",
      "          8.8238e-04,  7.8129e-04, -9.2338e-03, -2.4115e-04,  1.4761e-03,\n",
      "          2.0514e-03,  6.2050e-03, -3.3952e-03, -1.1564e-03, -7.3998e-03,\n",
      "         -1.6846e-03, -4.7682e-03, -1.9207e-03,  6.5366e-03,  8.1633e-04,\n",
      "         -8.2867e-03, -3.9883e-03,  9.1595e-04, -1.0629e-02, -1.2979e-03,\n",
      "         -2.8098e-04, -1.3438e-02, -5.5635e-04, -5.8727e-03, -2.4534e-03,\n",
      "          2.4568e-03,  2.7249e-03,  1.7425e-03, -1.8655e-03],\n",
      "        [ 3.5412e-03,  3.7296e-03, -6.0343e-03,  5.3608e-03, -1.6298e-03,\n",
      "          9.8648e-04,  1.1625e-03, -9.0294e-03,  3.7056e-03, -6.4970e-04,\n",
      "         -3.0955e-03, -2.4570e-03, -2.9474e-03,  2.4798e-03, -5.6678e-03,\n",
      "          2.6763e-03,  3.5408e-03,  4.4463e-03,  2.3262e-04, -7.6521e-04,\n",
      "         -2.7092e-04, -1.3049e-03, -1.2467e-04, -3.6794e-03,  5.2611e-03,\n",
      "         -1.3128e-02,  9.4642e-03, -3.1651e-04,  1.7800e-03,  1.8534e-03,\n",
      "          1.0698e-02,  8.1860e-05,  1.8212e-03,  4.0771e-03,  2.0665e-03,\n",
      "          4.7086e-03,  8.1434e-04,  9.1467e-03,  1.9695e-03,  1.9928e-03,\n",
      "          2.0091e-03, -7.4422e-05,  3.2678e-03, -1.0698e-03,  6.9793e-03,\n",
      "         -6.2396e-04,  1.3355e-03,  7.6365e-04,  5.6906e-03,  2.6695e-04,\n",
      "          1.0566e-02,  1.2524e-03,  3.5899e-03, -3.4162e-03, -1.0470e-03,\n",
      "         -4.0216e-04,  3.5177e-03, -1.0475e-03, -1.3397e-03, -8.4599e-04,\n",
      "          1.7081e-03,  1.4067e-03,  4.4151e-03,  2.3576e-03],\n",
      "        [ 1.3335e-02,  1.0577e-02,  9.6402e-03,  1.4875e-02,  7.6378e-03,\n",
      "          1.9037e-03, -2.5332e-04,  1.2587e-02,  4.4529e-03,  2.5456e-03,\n",
      "          7.8855e-03,  3.5367e-03,  1.0349e-02,  1.5435e-02,  1.1001e-02,\n",
      "          2.3683e-03,  1.3299e-03,  4.3101e-03, -1.7697e-05,  3.9011e-03,\n",
      "          1.1576e-02,  4.3484e-03,  6.8437e-03,  1.0688e-02,  4.2709e-03,\n",
      "          1.3403e-02,  1.7936e-02,  8.4219e-03, -3.1438e-03,  9.9311e-04,\n",
      "          4.3356e-03,  2.1004e-02,  2.2305e-03,  1.4824e-02,  1.9768e-03,\n",
      "          6.1363e-03,  7.9465e-04,  1.6466e-02,  1.8583e-03,  3.7156e-03,\n",
      "         -8.5560e-04,  7.4025e-03,  7.4200e-04,  1.0832e-03,  1.3674e-02,\n",
      "          1.8673e-02,  1.2432e-02,  3.9020e-03,  2.5762e-03,  5.3753e-03,\n",
      "          1.3208e-02,  1.6596e-02,  1.0430e-02,  1.2889e-02,  2.2874e-03,\n",
      "          5.0631e-05,  1.3462e-02,  2.7167e-03,  2.9133e-03,  2.8265e-02,\n",
      "          2.3843e-03,  2.6570e-03,  4.2158e-03,  2.2028e-03],\n",
      "        [ 8.5951e-03,  8.2299e-04,  5.4121e-03,  2.5904e-03,  2.2767e-03,\n",
      "          2.7919e-03,  9.8208e-04,  1.9730e-03,  7.7326e-03, -1.7891e-03,\n",
      "          6.7890e-03,  2.7708e-03,  3.3135e-03,  7.8436e-03,  7.9995e-03,\n",
      "         -4.0526e-03,  2.5256e-03,  3.1247e-03,  6.5645e-03,  7.5782e-03,\n",
      "          7.8019e-03,  6.3341e-03,  2.6607e-03,  7.5219e-03, -5.9462e-04,\n",
      "          1.1905e-02,  1.6230e-02,  7.3165e-03,  6.9822e-03,  1.6672e-03,\n",
      "          1.2290e-02,  7.8009e-03,  1.9126e-03,  1.1128e-02,  5.2569e-04,\n",
      "         -2.7033e-04,  7.0887e-04,  1.1055e-02,  1.1581e-04,  1.0422e-03,\n",
      "         -4.4227e-04,  4.3054e-03,  3.4999e-03,  4.9968e-03,  9.4527e-03,\n",
      "          1.0980e-02,  1.5012e-02,  3.5490e-04,  5.1627e-03, -3.1265e-03,\n",
      "          5.7431e-03,  9.7584e-03,  1.1638e-02,  9.3342e-03,  3.8706e-03,\n",
      "          2.1847e-03,  9.6984e-03,  2.3165e-03,  3.1954e-03,  2.1901e-02,\n",
      "          2.0315e-03,  2.1639e-03,  2.5139e-03,  1.9653e-03],\n",
      "        [-9.1396e-03, -7.6374e-03, -3.1488e-04, -5.1403e-03,  2.2887e-03,\n",
      "         -7.0630e-03,  1.3445e-03, -1.2944e-02, -2.2692e-03, -3.2431e-03,\n",
      "         -5.4542e-03,  3.9132e-03, -5.9206e-03, -4.2958e-03,  2.0595e-03,\n",
      "          3.3109e-03, -1.6673e-04, -1.2991e-03,  2.4886e-03, -1.4415e-02,\n",
      "         -5.2946e-03, -6.3583e-03,  3.0651e-03, -1.5657e-02,  4.3892e-03,\n",
      "         -1.4425e-02, -3.7733e-03,  4.9690e-03,  1.0754e-03, -4.8433e-03,\n",
      "         -7.6061e-03, -7.2972e-03,  1.8483e-03, -8.1727e-03,  2.1228e-03,\n",
      "         -3.0712e-04, -1.5266e-03, -2.2632e-02,  2.0334e-03, -2.4745e-03,\n",
      "          3.0973e-04, -1.2326e-02, -1.7696e-03, -4.9547e-03, -6.1132e-03,\n",
      "         -9.5495e-04, -1.9165e-02, -2.3405e-03, -6.9197e-03, -7.2010e-03,\n",
      "         -6.4568e-03, -5.0181e-03,  1.2573e-03,  3.7955e-03, -3.8956e-04,\n",
      "         -4.3683e-04,  1.7361e-03,  1.6597e-03, -7.6992e-05, -2.6602e-02,\n",
      "         -1.1491e-02,  2.4132e-04, -4.3732e-03, -1.3153e-03],\n",
      "        [-7.3486e-03,  1.3223e-03,  5.4742e-03,  1.8908e-03, -3.4847e-03,\n",
      "          3.7513e-03, -6.8336e-04,  1.9763e-03,  7.9782e-03,  3.8179e-04,\n",
      "         -1.7262e-03, -1.4221e-03, -3.0727e-03,  1.1354e-03,  9.6849e-03,\n",
      "          8.7495e-04, -3.0952e-03,  3.6620e-04,  3.9002e-03,  2.6338e-03,\n",
      "         -9.7823e-03,  5.0038e-03,  1.2822e-03, -4.2798e-03, -2.7951e-03,\n",
      "          2.1455e-03,  2.4993e-03, -9.5599e-03,  6.6251e-04, -4.2730e-04,\n",
      "         -5.0234e-03,  8.3949e-03, -6.9185e-03, -1.7715e-03,  1.9720e-03,\n",
      "          1.5057e-03,  7.3277e-04,  9.0105e-03, -2.1981e-03, -3.4631e-03,\n",
      "         -1.6002e-03,  3.3328e-03,  6.7050e-03,  1.7850e-03,  9.1405e-03,\n",
      "         -8.9681e-03,  1.0527e-04,  6.1995e-04,  1.6041e-03,  3.5464e-03,\n",
      "          3.4407e-03,  6.1007e-03, -9.1188e-04,  5.2012e-03, -5.7690e-03,\n",
      "          6.5462e-04, -4.1810e-04,  2.5199e-03,  5.6640e-05, -1.0661e-03,\n",
      "          2.3093e-03,  2.4116e-03,  1.7978e-03,  2.1419e-03],\n",
      "        [ 6.0049e-03,  7.9474e-04, -3.3448e-04,  4.3176e-03,  2.2092e-04,\n",
      "         -3.1891e-03, -1.7535e-03,  6.3813e-03, -7.8721e-03,  2.1477e-03,\n",
      "          6.6157e-03, -5.6957e-03, -1.2006e-03, -1.3422e-02, -1.1703e-04,\n",
      "          1.3553e-03,  1.3022e-03,  1.0376e-04, -2.3185e-03, -3.5758e-03,\n",
      "          8.7994e-04, -2.9728e-03,  2.7136e-03,  5.4450e-03, -1.6638e-03,\n",
      "          8.8367e-03,  1.7616e-03, -7.2156e-03, -6.0103e-04,  1.5524e-03,\n",
      "         -1.0018e-02, -5.9709e-03,  2.5122e-04,  2.9630e-03,  1.1347e-03,\n",
      "         -2.2434e-03,  6.4534e-04, -1.3220e-03,  1.7961e-03,  4.7152e-04,\n",
      "          7.6286e-04,  6.6414e-04,  3.5883e-03,  7.1830e-03, -7.7318e-03,\n",
      "         -1.5194e-03,  9.5958e-03,  6.9007e-04, -6.5759e-03,  6.2498e-04,\n",
      "          3.6147e-03, -9.2114e-03, -4.2684e-03, -1.2269e-03,  2.7163e-03,\n",
      "         -5.0649e-04, -4.6232e-03,  2.6129e-03,  1.5991e-03, -2.6685e-03,\n",
      "          1.6290e-03, -5.8511e-03, -2.0253e-03,  2.0472e-03]])\n",
      "Gradients for fc3.bias: tensor([ 0.0058, -0.0490, -0.0273, -0.0202,  0.0194,  0.0678,  0.0532, -0.0462,\n",
      "        -0.0010, -0.0024])\n",
      "Loss: 2.276759624481201\n"
     ]
    }
   ],
   "source": [
    "# Reinstantiate the network\n",
    "model = SimpleNet()\n",
    "\n",
    "loss_fn = nn.CrossEntropyLoss()\n",
    "optimizer = optim.SGD(model.parameters(), lr=0.01)\n",
    "\n",
    "input_data = torch.randn(64, 784)\n",
    "target = torch.randint(0, 10, (64,))\n",
    "\n",
    "output = model(input_data)\n",
    "loss = loss_fn(output, target)\n",
    "\n",
    "optimizer.zero_grad()\n",
    "\n",
    "loss.backward()\n",
    "\n",
    "# Print gradients for each layer\n",
    "for name, param in model.named_parameters():\n",
    "    if param.requires_grad:\n",
    "        print(f\"Gradients for {name}: {param.grad}\")\n",
    "\n",
    "optimizer.step()\n",
    "\n",
    "print(\"Loss:\", loss.item())"
   ]
  },
  {
   "cell_type": "markdown",
   "metadata": {},
   "source": [
    "##### **Q12: How do you update the weights and biases of a neural network during training?**"
   ]
  },
  {
   "cell_type": "code",
   "execution_count": 20,
   "metadata": {},
   "outputs": [
    {
     "name": "stdout",
     "output_type": "stream",
     "text": [
      "Epoch [100/1000], Loss: 2.2800\n",
      "Epoch [200/1000], Loss: 2.3185\n",
      "Epoch [300/1000], Loss: 2.2985\n",
      "Epoch [400/1000], Loss: 2.2946\n",
      "Epoch [500/1000], Loss: 2.3054\n",
      "Epoch [600/1000], Loss: 2.3106\n",
      "Epoch [700/1000], Loss: 2.3149\n",
      "Epoch [800/1000], Loss: 2.3101\n",
      "Epoch [900/1000], Loss: 2.3130\n",
      "Epoch [1000/1000], Loss: 2.3061\n"
     ]
    }
   ],
   "source": [
    "# Use a training loop!\n",
    "model = SimpleNet()\n",
    "\n",
    "loss_fn = nn.CrossEntropyLoss()\n",
    "optimizer = optim.SGD(model.parameters(), lr=0.01)\n",
    "\n",
    "# Dummy training loop\n",
    "num_epochs = 1000\n",
    "for epoch in range(num_epochs):\n",
    "    # Example input (batch size of 64, 784 features) and target\n",
    "    input_data = torch.randn(64, 784)\n",
    "    target = torch.randint(0, 10, (64,))\n",
    "    \n",
    "    # Forward pass\n",
    "    output = model(input_data)\n",
    "    loss = loss_fn(output, target)\n",
    "    \n",
    "    # Zero the gradients\n",
    "    optimizer.zero_grad()\n",
    "    \n",
    "    # Backward pass\n",
    "    loss.backward()\n",
    "    \n",
    "    # Update parameters\n",
    "    optimizer.step()\n",
    "    \n",
    "    if (epoch + 1) % 100 == 0:\n",
    "        print(f'Epoch [{epoch + 1}/{num_epochs}], Loss: {loss.item():.4f}')"
   ]
  },
  {
   "cell_type": "markdown",
   "metadata": {},
   "source": [
    "## Training the neural network"
   ]
  },
  {
   "cell_type": "markdown",
   "metadata": {},
   "source": [
    "##### **Q13: How do you set up the training loop for a neural network in PyTorch?**"
   ]
  },
  {
   "cell_type": "code",
   "execution_count": 21,
   "metadata": {},
   "outputs": [
    {
     "name": "stdout",
     "output_type": "stream",
     "text": [
      "Epoch 100/1000, Batch 15, Loss: 0.3811942934989929\n",
      "Epoch 200/1000, Batch 15, Loss: 0.023822424933314323\n",
      "Epoch 300/1000, Batch 15, Loss: 0.009832649491727352\n",
      "Epoch 400/1000, Batch 15, Loss: 0.0051764678210020065\n",
      "Epoch 500/1000, Batch 15, Loss: 0.0036136929411441088\n",
      "Epoch 600/1000, Batch 15, Loss: 0.0030426473822444677\n",
      "Epoch 700/1000, Batch 15, Loss: 0.002324983710423112\n",
      "Epoch 800/1000, Batch 15, Loss: 0.0017211250960826874\n",
      "Epoch 900/1000, Batch 15, Loss: 0.001614511595107615\n",
      "Epoch 1000/1000, Batch 15, Loss: 0.00134237518068403\n",
      "Training complete.\n"
     ]
    }
   ],
   "source": [
    "# Same as above, but this time using a TensorDataset and a DataLoader. i.e.,\n",
    "from torch.utils.data import DataLoader, TensorDataset\n",
    "\n",
    "input_data = torch.randn(1000, 784)\n",
    "target_data = torch.randint(0, 10, (1000,))\n",
    "\n",
    "dataset = TensorDataset(input_data, target_data)\n",
    "data_loader = DataLoader(dataset, batch_size=64, shuffle=True)\n",
    "\n",
    "model = SimpleNet()\n",
    "loss_fn = nn.CrossEntropyLoss()\n",
    "optimizer = optim.SGD(model.parameters(), lr=0.01)\n",
    "\n",
    "num_epochs = 1000\n",
    "for epoch in range(num_epochs):\n",
    "    for batch_idx, (inputs, targets) in enumerate(data_loader):\n",
    "        outputs = model(inputs)\n",
    "        loss = loss_fn(outputs, targets)\n",
    "        \n",
    "        optimizer.zero_grad()\n",
    "        \n",
    "        loss.backward()\n",
    "        \n",
    "        optimizer.step()\n",
    "\n",
    "    if (epoch + 1) % 100 == 0:\n",
    "        print(f\"Epoch {epoch+1}/{num_epochs}, Batch {batch_idx}, Loss: {loss.item()}\")\n",
    "\n",
    "print(\"Training complete.\")"
   ]
  },
  {
   "cell_type": "markdown",
   "metadata": {},
   "source": [
    "##### **Q14: How do you implement batch training in PyTorch?**"
   ]
  },
  {
   "cell_type": "code",
   "execution_count": 22,
   "metadata": {},
   "outputs": [
    {
     "name": "stdout",
     "output_type": "stream",
     "text": [
      "Epoch [100/1000], Batch 15, Loss: 0.456956684589386\n",
      "Epoch [200/1000], Batch 15, Loss: 0.024860557168722153\n",
      "Epoch [300/1000], Batch 15, Loss: 0.00863475538790226\n",
      "Epoch [400/1000], Batch 15, Loss: 0.006026414688676596\n",
      "Epoch [500/1000], Batch 15, Loss: 0.0035992320626974106\n",
      "Epoch [600/1000], Batch 15, Loss: 0.0029187300242483616\n",
      "Epoch [700/1000], Batch 15, Loss: 0.002171318745240569\n",
      "Epoch [800/1000], Batch 15, Loss: 0.0018103258917108178\n",
      "Epoch [900/1000], Batch 15, Loss: 0.0016240214463323355\n",
      "Epoch [1000/1000], Batch 15, Loss: 0.0014491096371784806\n",
      "Training complete.\n"
     ]
    }
   ],
   "source": [
    "# Same as above, but with new dataset:\n",
    "input_data = torch.randn(1000, 784)\n",
    "target_data = torch.randint(0, 10, (1000,))\n",
    "\n",
    "dataset = TensorDataset(input_data, target_data)\n",
    "data_loader = DataLoader(dataset, batch_size=64, shuffle=True)\n",
    "\n",
    "model = SimpleNet()\n",
    "loss_fn = nn.CrossEntropyLoss()\n",
    "optimizer = optim.SGD(model.parameters(), lr=0.01)\n",
    "\n",
    "num_epochs = 1000\n",
    "for epoch in range(num_epochs):\n",
    "    for batch_idx, (inputs, targets) in enumerate(data_loader):\n",
    "        outputs = model(inputs)\n",
    "        loss = loss_fn(outputs, targets)\n",
    "        \n",
    "        optimizer.zero_grad()\n",
    "        \n",
    "        loss.backward()\n",
    "        \n",
    "        optimizer.step()\n",
    "        \n",
    "    if (epoch + 1) % 100 == 0:\n",
    "        print(f\"Epoch [{epoch+1}/{num_epochs}], Batch {batch_idx}, Loss: {loss.item()}\")\n",
    "\n",
    "print(\"Training complete.\")"
   ]
  },
  {
   "cell_type": "markdown",
   "metadata": {},
   "source": [
    "##### **Q15: How do you monitor training progress during the training of a neural network?**"
   ]
  },
  {
   "cell_type": "code",
   "execution_count": 23,
   "metadata": {},
   "outputs": [
    {
     "name": "stdout",
     "output_type": "stream",
     "text": [
      "Epoch 100/1000, Loss: 0.5595, Accuracy: 98.70%\n",
      "Epoch 200/1000, Loss: 0.0244, Accuracy: 100.00%\n",
      "Epoch 300/1000, Loss: 0.0093, Accuracy: 100.00%\n",
      "Epoch 400/1000, Loss: 0.0054, Accuracy: 100.00%\n",
      "Epoch 500/1000, Loss: 0.0037, Accuracy: 100.00%\n",
      "Epoch 600/1000, Loss: 0.0028, Accuracy: 100.00%\n",
      "Epoch 700/1000, Loss: 0.0022, Accuracy: 100.00%\n",
      "Epoch 800/1000, Loss: 0.0018, Accuracy: 100.00%\n",
      "Epoch 900/1000, Loss: 0.0015, Accuracy: 100.00%\n",
      "Epoch 1000/1000, Loss: 0.0013, Accuracy: 100.00%\n"
     ]
    }
   ],
   "source": [
    "# Reinstantiate the network, loss function, and optimizer\n",
    "model = SimpleNet()\n",
    "loss_fn = nn.CrossEntropyLoss()\n",
    "optimizer = optim.SGD(model.parameters(), lr=0.01)\n",
    "\n",
    "# Lists to store loss and accuracy\n",
    "losses = []\n",
    "accuracies = []\n",
    "\n",
    "# Training loop\n",
    "for epoch in range(num_epochs):\n",
    "    running_loss = 0.0\n",
    "    correct = 0\n",
    "    total = 0\n",
    "    for batch_idx, (inputs, targets) in enumerate(data_loader):\n",
    "        outputs = model(inputs)\n",
    "        loss = loss_fn(outputs, targets)\n",
    "        \n",
    "        optimizer.zero_grad()\n",
    "        loss.backward()\n",
    "        optimizer.step()\n",
    "        \n",
    "        # Accumulate loss and accuracy\n",
    "        running_loss += loss.item()\n",
    "        _, predicted = torch.max(outputs, 1)\n",
    "        total += targets.size(0)\n",
    "        correct += (predicted == targets).sum().item()\n",
    "    \n",
    "    # Record loss and accuracy\n",
    "    avg_loss = running_loss / len(data_loader)\n",
    "    accuracy = 100 * correct / total\n",
    "    losses.append(avg_loss)\n",
    "    accuracies.append(accuracy)\n",
    "    \n",
    "    if (epoch + 1) % 100 == 0:\n",
    "        print(f\"Epoch {epoch+1}/{num_epochs}, Loss: {avg_loss:.4f}, Accuracy: {accuracy:.2f}%\")"
   ]
  },
  {
   "cell_type": "code",
   "execution_count": 24,
   "metadata": {},
   "outputs": [
    {
     "data": {
      "image/png": "[encoded data removed]",
      "text/plain": [
       "<Figure size 1200x500 with 2 Axes>"
      ]
     },
     "metadata": {},
     "output_type": "display_data"
    }
   ],
   "source": [
    "# Plot loss and accuracy\n",
    "plt.figure(figsize=(12, 5))\n",
    "plt.subplot(1, 2, 1)\n",
    "plt.plot(losses, label='Loss')\n",
    "plt.xlabel('Epoch')\n",
    "plt.ylabel('Loss')\n",
    "plt.legend()\n",
    "plt.subplot(1, 2, 2)\n",
    "plt.plot(accuracies, label='Accuracy')\n",
    "plt.xlabel('Epoch')\n",
    "plt.ylabel('Accuracy')\n",
    "plt.legend()\n",
    "plt.show()"
   ]
  },
  {
   "cell_type": "code",
   "execution_count": 25,
   "metadata": {},
   "outputs": [],
   "source": [
    "# Alternative: use TensorBoard!\n",
    "# from torch.utils.tensorboard import SummaryWriter\n",
    "\n",
    "# # Reinstantiate the network, loss function, and optimizer\n",
    "# model = SimpleNet()\n",
    "# loss_fn = nn.CrossEntropyLoss()\n",
    "# optimizer = optim.SGD(model.parameters(), lr=0.01)\n",
    "\n",
    "# # Instantiate the TensorBoard writer\n",
    "# writer = SummaryWriter()\n",
    "\n",
    "# # Training loop\n",
    "# for epoch in range(num_epochs):\n",
    "#     running_loss = 0.0\n",
    "#     correct = 0\n",
    "#     total = 0\n",
    "#     for batch_idx, (inputs, targets) in enumerate(data_loader):\n",
    "#         outputs = model(inputs)\n",
    "#         loss = loss_fn(outputs, targets)\n",
    "        \n",
    "#         optimizer.zero_grad()\n",
    "#         loss.backward()\n",
    "#         optimizer.step()\n",
    "        \n",
    "#         running_loss += loss.item()\n",
    "#         _, predicted = torch.max(outputs, 1)\n",
    "#         total += targets.size(0)\n",
    "#         correct += (predicted == targets).sum().item()\n",
    "    \n",
    "#     avg_loss = running_loss / len(data_loader)\n",
    "#     accuracy = 100 * correct / total\n",
    "    \n",
    "#     # Log the metrics to TensorBoard\n",
    "#     writer.add_scalar('Loss/train', avg_loss, epoch)\n",
    "#     writer.add_scalar('Accuracy/train', accuracy, epoch)\n",
    "    \n",
    "#     # Print loss and accuracy after every 100 epochs\n",
    "#     if (epoch + 1) % 100 == 0:\n",
    "#         print(f\"Epoch {epoch+1}/{num_epochs}, Loss: {avg_loss:.4f}, Accuracy: {accuracy:.2f}%\")\n",
    "\n",
    "# writer.close()"
   ]
  },
  {
   "cell_type": "code",
   "execution_count": 26,
   "metadata": {},
   "outputs": [],
   "source": [
    "# import shutil\n",
    "\n",
    "# folder_path = \"runs\"\n",
    "\n",
    "# shutil.rmtree(folder_path)\n",
    "\n",
    "# print(f\"Folder '{folder_path}' has been deleted.\")"
   ]
  },
  {
   "cell_type": "markdown",
   "metadata": {},
   "source": [
    "## Evaluating the model"
   ]
  },
  {
   "cell_type": "markdown",
   "metadata": {},
   "source": [
    "##### **Q16: How do you make predictions using a trained neural network in PyTorch?**"
   ]
  },
  {
   "cell_type": "code",
   "execution_count": 27,
   "metadata": {},
   "outputs": [
    {
     "name": "stdout",
     "output_type": "stream",
     "text": [
      "Predicted class: 6\n",
      "Probabilities: [[0.08900991 0.10412525 0.09029827 0.10129324 0.09543034 0.09944615\n",
      "  0.13075435 0.10030881 0.10145145 0.08788218]]\n"
     ]
    }
   ],
   "source": [
    "# Define a simple neural network (same as the one used for training)\n",
    "class SimpleNet(nn.Module):\n",
    "    def __init__(self):\n",
    "        super(SimpleNet, self).__init__()\n",
    "        self.fc1 = nn.Linear(784, 128)\n",
    "        self.fc2 = nn.Linear(128, 64)\n",
    "        self.fc3 = nn.Linear(64, 10)\n",
    "    \n",
    "    def forward(self, x):\n",
    "        x = torch.relu(self.fc1(x))\n",
    "        x = torch.relu(self.fc2(x))\n",
    "        x = self.fc3(x)\n",
    "        return x\n",
    "\n",
    "# Load the trained model (assume the model was saved as 'model.pth')\n",
    "model = SimpleNet()\n",
    "# model.load_state_dict(torch.load('model.pth'))\n",
    "\n",
    "# Set the model to evaluation mode\n",
    "model.eval()\n",
    "\n",
    "# Example input data (batch size of 1, 784 features)\n",
    "# Note: Input data should be preprocessed in the same way as during training\n",
    "input_data = torch.randn(1, 784)\n",
    "\n",
    "# Make predictions\n",
    "with torch.no_grad():  # Disable gradient calculation for inference\n",
    "    output = model(input_data)\n",
    "\n",
    "# Convert the output to probabilities using softmax\n",
    "probabilities = torch.softmax(output, dim=1)\n",
    "\n",
    "# Get the predicted class (index of the highest probability)\n",
    "predicted_class = torch.argmax(probabilities, dim=1)\n",
    "\n",
    "print(\"Predicted class:\", predicted_class.item())\n",
    "print(\"Probabilities:\", probabilities.numpy())"
   ]
  },
  {
   "cell_type": "markdown",
   "metadata": {},
   "source": [
    "##### **Q17: What performance metrics can you use to evaluate a neural network?**"
   ]
  },
  {
   "cell_type": "code",
   "execution_count": 28,
   "metadata": {},
   "outputs": [
    {
     "name": "stdout",
     "output_type": "stream",
     "text": [
      "Accuracy: 1.0000\n",
      "Precision: 1.0000\n",
      "Recall: 1.0000\n",
      "F1 Score: 1.0000\n",
      "Confusion Matrix:\n",
      "[[1 0]\n",
      " [0 1]]\n"
     ]
    }
   ],
   "source": [
    "from sklearn.metrics import accuracy_score, precision_score, recall_score, f1_score, confusion_matrix\n",
    "\n",
    "# Example output and target\n",
    "output = torch.tensor([[0.1, 0.9], [0.8, 0.2]])\n",
    "targets = torch.tensor([1, 0])\n",
    "\n",
    "# Predictions\n",
    "_, predicted = torch.max(output, 1)\n",
    "\n",
    "# Accuracy: Proportion of correctly classified samples\n",
    "accuracy = accuracy_score(targets.numpy(), predicted.numpy())\n",
    "print(f\"Accuracy: {accuracy:.4f}\")\n",
    "\n",
    "# Precision: Proportion of true positive predictions among all positive predictions\n",
    "precision = precision_score(targets.numpy(), predicted.numpy(), average='weighted')\n",
    "print(f\"Precision: {precision:.4f}\")\n",
    "\n",
    "# Recall: Proportion of true positive predictions among all actual positive samples\n",
    "recall = recall_score(targets.numpy(), predicted.numpy(), average='weighted')\n",
    "print(f\"Recall: {recall:.4f}\")\n",
    "\n",
    "# F1 score: Harmonic mean of precision and recall\n",
    "f1 = f1_score(targets.numpy(), predicted.numpy(), average='weighted')\n",
    "print(f\"F1 Score: {f1:.4f}\")\n",
    "\n",
    "# Confusion matrix: Assesses the performance of the classification model by showing the true vs. predicted labels\n",
    "cm = confusion_matrix(targets.numpy(), predicted.numpy())\n",
    "print(\"Confusion Matrix:\")\n",
    "print(cm)"
   ]
  },
  {
   "cell_type": "code",
   "execution_count": 29,
   "metadata": {},
   "outputs": [
    {
     "name": "stdout",
     "output_type": "stream",
     "text": [
      "ROC-AUC Score: 1.0000\n"
     ]
    }
   ],
   "source": [
    "from sklearn.metrics import roc_auc_score\n",
    "\n",
    "# Example probabilities and targets for binary classification\n",
    "probabilities = torch.tensor([0.1, 0.9, 0.8, 0.2])\n",
    "targets_binary = torch.tensor([0, 1, 1, 0])\n",
    "\n",
    "# ROC-AUC score: The area under the Receiver Operating Characteristic curve, which measures the ability of the model to distinguish between classes\n",
    "roc_auc = roc_auc_score(targets_binary.numpy(), probabilities.numpy())\n",
    "print(f\"ROC-AUC Score: {roc_auc:.4f}\")"
   ]
  },
  {
   "cell_type": "code",
   "execution_count": 30,
   "metadata": {},
   "outputs": [
    {
     "name": "stdout",
     "output_type": "stream",
     "text": [
      "Accuracy: 0.0900\n",
      "Precision: 0.0147\n",
      "Recall: 0.0900\n",
      "F1 Score: 0.0249\n",
      "Confusion Matrix:\n",
      "[[ 0  0  0  0  0  0  0  5  0  6]\n",
      " [ 0  0  0  0  0  0  0  2  0  8]\n",
      " [ 1  0  0  0  0  0  0  5  0  9]\n",
      " [ 2  0  0  0  0  0  0  3  0  6]\n",
      " [ 0  0  0  0  0  0  0  1  0  2]\n",
      " [ 1  0  0  0  0  0  0  3  0  5]\n",
      " [ 0  0  0  0  0  0  0 10  0  7]\n",
      " [ 1  0  0  0  0  0  0  3  0  5]\n",
      " [ 0  0  0  0  0  0  1  3  0  4]\n",
      " [ 0  0  0  0  0  0  0  1  0  6]]\n"
     ]
    },
    {
     "name": "stderr",
     "output_type": "stream",
     "text": [
      "C:\\Users\\fmiranda\\AppData\\Roaming\\Python\\Python311\\site-packages\\sklearn\\metrics\\_classification.py:1469: UndefinedMetricWarning: Precision is ill-defined and being set to 0.0 in labels with no predicted samples. Use `zero_division` parameter to control this behavior.\n",
      "  _warn_prf(average, modifier, msg_start, len(result))\n"
     ]
    }
   ],
   "source": [
    "# In practice, for a classification model:\n",
    "class SimpleNet(nn.Module):\n",
    "    def __init__(self):\n",
    "        super(SimpleNet, self).__init__()\n",
    "        self.fc1 = nn.Linear(784, 128)\n",
    "        self.fc2 = nn.Linear(128, 64)\n",
    "        self.fc3 = nn.Linear(64, 10)\n",
    "    \n",
    "    def forward(self, x):\n",
    "        x = torch.relu(self.fc1(x))\n",
    "        x = torch.relu(self.fc2(x))\n",
    "        x = self.fc3(x)\n",
    "        return x\n",
    "\n",
    "model = SimpleNet()\n",
    "\n",
    "input_data = torch.randn(100, 784)\n",
    "targets = torch.randint(0, 10, (100,))\n",
    "\n",
    "# Model output\n",
    "model.eval()\n",
    "with torch.no_grad():\n",
    "    outputs = model(input_data)\n",
    "\n",
    "# Get predictions\n",
    "_, predicted = torch.max(outputs, 1)\n",
    "\n",
    "# Calculate metrics\n",
    "accuracy = accuracy_score(targets.numpy(), predicted.numpy())\n",
    "precision = precision_score(targets.numpy(), predicted.numpy(), average='weighted')\n",
    "recall = recall_score(targets.numpy(), predicted.numpy(), average='weighted')\n",
    "f1 = f1_score(targets.numpy(), predicted.numpy(), average='weighted')\n",
    "cm = confusion_matrix(targets.numpy(), predicted.numpy())\n",
    "\n",
    "print(f\"Accuracy: {accuracy:.4f}\")\n",
    "print(f\"Precision: {precision:.4f}\")\n",
    "print(f\"Recall: {recall:.4f}\")\n",
    "print(f\"F1 Score: {f1:.4f}\")\n",
    "print(\"Confusion Matrix:\")\n",
    "print(cm)"
   ]
  },
  {
   "cell_type": "code",
   "execution_count": 31,
   "metadata": {},
   "outputs": [
    {
     "name": "stdout",
     "output_type": "stream",
     "text": [
      "MSE: 0.1300\n",
      "MAE: 0.3000\n",
      "R²: 0.9200\n"
     ]
    }
   ],
   "source": [
    "from sklearn.metrics import mean_squared_error, mean_absolute_error, r2_score\n",
    "\n",
    "# Example output and target\n",
    "output = torch.tensor([2.5, 0.0, 2.1, 1.6])\n",
    "targets = torch.tensor([3.0, -0.5, 2.0, 1.5])\n",
    "\n",
    "# MSE: Average of the squares of the differences between predicted and actual values\n",
    "mse = mean_squared_error(targets.numpy(), output.numpy())\n",
    "print(f\"MSE: {mse:.4f}\")\n",
    "\n",
    "# MAE: Average of the absolute differences between predicted and actual values\n",
    "mae = mean_absolute_error(targets.numpy(), output.numpy())\n",
    "print(f\"MAE: {mae:.4f}\")\n",
    "\n",
    "# R²: Proportion of the variance in the dependent variable that is predictable from the independent variable(s)\n",
    "r2 = r2_score(targets.numpy(), output.numpy())\n",
    "print(f\"R²: {r2:.4f}\")"
   ]
  },
  {
   "cell_type": "code",
   "execution_count": 32,
   "metadata": {},
   "outputs": [
    {
     "name": "stdout",
     "output_type": "stream",
     "text": [
      "MSE: 0.9503\n",
      "MAE: 0.7722\n",
      "R²: -0.0241\n"
     ]
    }
   ],
   "source": [
    "# In practice, for a regression model:\n",
    "class RegressionNet(nn.Module):\n",
    "    def __init__(self):\n",
    "        super(RegressionNet, self).__init__()\n",
    "        self.fc1 = nn.Linear(10, 64)\n",
    "        self.fc2 = nn.Linear(64, 1)\n",
    "    \n",
    "    def forward(self, x):\n",
    "        x = torch.relu(self.fc1(x))\n",
    "        x = self.fc2(x)\n",
    "        return x\n",
    "\n",
    "model = RegressionNet()\n",
    "\n",
    "input_data = torch.randn(100, 10)\n",
    "targets = torch.randn(100, 1)\n",
    "\n",
    "model.eval()\n",
    "with torch.no_grad():\n",
    "    outputs = model(input_data)\n",
    "\n",
    "mse = mean_squared_error(targets.numpy(), outputs.numpy())\n",
    "mae = mean_absolute_error(targets.numpy(), outputs.numpy())\n",
    "r2 = r2_score(targets.numpy(), outputs.numpy())\n",
    "\n",
    "print(f\"MSE: {mse:.4f}\")\n",
    "print(f\"MAE: {mae:.4f}\")\n",
    "print(f\"R²: {r2:.4f}\")"
   ]
  },
  {
   "cell_type": "markdown",
   "metadata": {},
   "source": [
    "##### **Q18: How do you visualize the performance of a neural network using `matplotlib`?**"
   ]
  },
  {
   "cell_type": "code",
   "execution_count": 33,
   "metadata": {},
   "outputs": [
    {
     "name": "stdout",
     "output_type": "stream",
     "text": [
      "Epoch [10/100], Loss: 2.2768, Accuracy: 18.60%\n",
      "Epoch [20/100], Loss: 2.2126, Accuracy: 30.70%\n",
      "Epoch [30/100], Loss: 2.1736, Accuracy: 42.00%\n",
      "Epoch [40/100], Loss: 2.0873, Accuracy: 51.40%\n",
      "Epoch [50/100], Loss: 1.9675, Accuracy: 60.40%\n",
      "Epoch [60/100], Loss: 1.8151, Accuracy: 67.80%\n",
      "Epoch [70/100], Loss: 1.4939, Accuracy: 78.00%\n",
      "Epoch [80/100], Loss: 1.2481, Accuracy: 87.20%\n",
      "Epoch [90/100], Loss: 0.8639, Accuracy: 95.90%\n",
      "Epoch [100/100], Loss: 0.4959, Accuracy: 99.20%\n"
     ]
    }
   ],
   "source": [
    "# Redefine a simple neural network\n",
    "class SimpleNet(nn.Module):\n",
    "    def __init__(self):\n",
    "        super(SimpleNet, self).__init__()\n",
    "        self.fc1 = nn.Linear(784, 128)\n",
    "        self.fc2 = nn.Linear(128, 64)\n",
    "        self.fc3 = nn.Linear(64, 10)\n",
    "    \n",
    "    def forward(self, x):\n",
    "        x = torch.relu(self.fc1(x))\n",
    "        x = torch.relu(self.fc2(x))\n",
    "        x = self.fc3(x)\n",
    "        return x\n",
    "\n",
    "input_data = torch.randn(1000, 784)\n",
    "target_data = torch.randint(0, 10, (1000,))\n",
    "\n",
    "dataset = TensorDataset(input_data, target_data)\n",
    "data_loader = DataLoader(dataset, batch_size=64, shuffle=True)\n",
    "\n",
    "model = SimpleNet()\n",
    "loss_fn = nn.CrossEntropyLoss()\n",
    "optimizer = optim.SGD(model.parameters(), lr=0.01)\n",
    "\n",
    "# Lists to store loss and accuracy\n",
    "train_losses = []\n",
    "train_accuracies = []\n",
    "all_targets = []\n",
    "all_predictions = []\n",
    "\n",
    "num_epochs = 100\n",
    "for epoch in range(num_epochs):\n",
    "    running_loss = 0.0\n",
    "    correct = 0\n",
    "    total = 0\n",
    "    for batch_idx, (inputs, targets) in enumerate(data_loader):\n",
    "        outputs = model(inputs)\n",
    "        loss = loss_fn(outputs, targets)\n",
    "        \n",
    "        optimizer.zero_grad()\n",
    "        loss.backward()\n",
    "        optimizer.step()\n",
    "        \n",
    "        running_loss += loss.item()\n",
    "        _, predicted = torch.max(outputs, 1)\n",
    "        total += targets.size(0)\n",
    "        correct += (predicted == targets).sum().item()\n",
    "        \n",
    "        # Store targets and predictions for confusion matrix and ROC curve\n",
    "        all_targets.extend(targets.numpy())\n",
    "        all_predictions.extend(predicted.numpy())\n",
    "    \n",
    "    avg_loss = running_loss / len(data_loader)\n",
    "    accuracy = 100 * correct / total\n",
    "    train_losses.append(avg_loss)\n",
    "    train_accuracies.append(accuracy)\n",
    "    \n",
    "    if (epoch + 1) % 10 == 0:\n",
    "        print(f'Epoch [{epoch + 1}/{num_epochs}], Loss: {loss.item():.4f}, Accuracy: {accuracy:.2f}%')"
   ]
  },
  {
   "cell_type": "code",
   "execution_count": 34,
   "metadata": {},
   "outputs": [
    {
     "data": {
      "image/png": "[encoded data removed]",
      "text/plain": [
       "<Figure size 1200x500 with 2 Axes>"
      ]
     },
     "metadata": {},
     "output_type": "display_data"
    }
   ],
   "source": [
    "# Plotting training loss and accuracy\n",
    "plt.figure(figsize=(12, 5))\n",
    "plt.subplot(1, 2, 1)\n",
    "plt.plot(range(1, num_epochs + 1), train_losses, label='Training Loss')\n",
    "plt.xlabel('Epoch')\n",
    "plt.ylabel('Loss')\n",
    "plt.title('Training Loss')\n",
    "plt.legend()\n",
    "\n",
    "plt.subplot(1, 2, 2)\n",
    "plt.plot(range(1, num_epochs + 1), train_accuracies, label='Training Accuracy')\n",
    "plt.xlabel('Epoch')\n",
    "plt.ylabel('Accuracy')\n",
    "plt.title('Training Accuracy')\n",
    "plt.legend()\n",
    "\n",
    "plt.show()"
   ]
  },
  {
   "cell_type": "code",
   "execution_count": 35,
   "metadata": {},
   "outputs": [
    {
     "data": {
      "image/png": "[encoded data removed]",
      "text/plain": [
       "<Figure size 1000x700 with 2 Axes>"
      ]
     },
     "metadata": {},
     "output_type": "display_data"
    }
   ],
   "source": [
    "import seaborn as sns\n",
    "\n",
    "# Convert lists to numpy arrays for sklearn metrics\n",
    "all_targets = np.array(all_targets)\n",
    "all_predictions = np.array(all_predictions)\n",
    "\n",
    "# Confusion Matrix\n",
    "cm = confusion_matrix(all_targets, all_predictions)\n",
    "plt.figure(figsize=(10, 7))\n",
    "sns.heatmap(cm, annot=True, fmt='d', cmap='Blues', xticklabels=range(10), yticklabels=range(10))\n",
    "plt.xlabel('Predicted')\n",
    "plt.ylabel('True')\n",
    "plt.title('Confusion Matrix')\n",
    "plt.show()"
   ]
  },
  {
   "cell_type": "code",
   "execution_count": 36,
   "metadata": {},
   "outputs": [
    {
     "data": {
      "image/png": "[encoded data removed]",
      "text/plain": [
       "<Figure size 1000x700 with 1 Axes>"
      ]
     },
     "metadata": {},
     "output_type": "display_data"
    }
   ],
   "source": [
    "# For ROC curve, we need to binarize the output\n",
    "from sklearn.preprocessing import label_binarize\n",
    "from sklearn.metrics import roc_curve, auc\n",
    "\n",
    "all_targets_bin = label_binarize(all_targets, classes=range(10))\n",
    "all_predictions_bin = label_binarize(all_predictions, classes=range(10))\n",
    "\n",
    "# Compute ROC curve and ROC area for each class\n",
    "fpr = dict()\n",
    "tpr = dict()\n",
    "roc_auc = dict()\n",
    "for i in range(10):\n",
    "    fpr[i], tpr[i], _ = roc_curve(all_targets_bin[:, i], all_predictions_bin[:, i])\n",
    "    roc_auc[i] = auc(fpr[i], tpr[i])\n",
    "\n",
    "# Plot ROC curve for each class\n",
    "plt.figure(figsize=(10, 7))\n",
    "for i in range(10):\n",
    "    plt.plot(fpr[i], tpr[i], lw=2, label=f'Class {i} (area = {roc_auc[i]:.2f})')\n",
    "plt.plot([0, 1], [0, 1], color='navy', lw=2, linestyle='--')\n",
    "plt.xlim([0.0, 1.0])\n",
    "plt.ylim([0.0, 1.05])\n",
    "plt.xlabel('False Positive Rate')\n",
    "plt.ylabel('True Positive Rate')\n",
    "plt.title('Receiver Operating Characteristic (ROC) Curve')\n",
    "plt.legend(loc='lower right')\n",
    "plt.show()"
   ]
  },
  {
   "cell_type": "markdown",
   "metadata": {},
   "source": [
    "## Saving and loading the model"
   ]
  },
  {
   "cell_type": "markdown",
   "metadata": {},
   "source": [
    "##### **Q19: How do you save a trained neural network model in PyTorch?**"
   ]
  },
  {
   "cell_type": "code",
   "execution_count": 37,
   "metadata": {},
   "outputs": [
    {
     "name": "stdout",
     "output_type": "stream",
     "text": [
      "Model saved to 'model.pth'\n"
     ]
    }
   ],
   "source": [
    "# Save the model's state dictionary\n",
    "torch.save(model.state_dict(), 'model.pth')\n",
    "print(\"Model saved to 'model.pth'\")"
   ]
  },
  {
   "cell_type": "markdown",
   "metadata": {},
   "source": [
    "##### **Q20: How do you load a saved neural network model in PyTorch?**"
   ]
  },
  {
   "cell_type": "code",
   "execution_count": 38,
   "metadata": {},
   "outputs": [
    {
     "name": "stdout",
     "output_type": "stream",
     "text": [
      "Model loaded from 'model.pth'\n"
     ]
    }
   ],
   "source": [
    "# Instantiate the model\n",
    "model = SimpleNet()\n",
    "\n",
    "# Load the model's state dictionary\n",
    "model.load_state_dict(torch.load('model.pth'))\n",
    "model.eval()  # Set the model to evaluation mode\n",
    "print(\"Model loaded from 'model.pth'\")"
   ]
  },
  {
   "cell_type": "code",
   "execution_count": 39,
   "metadata": {},
   "outputs": [
    {
     "name": "stdout",
     "output_type": "stream",
     "text": [
      "File model.pth deleted.\n"
     ]
    }
   ],
   "source": [
    "import os\n",
    "\n",
    "filenames = ['model.pth']\n",
    "\n",
    "for filename in filenames:\n",
    "    if os.path.exists(filename):\n",
    "        os.remove(filename) \n",
    "        print(f'File {filename} deleted.')\n",
    "    else:\n",
    "        print(f'File {filename} not found.')"
   ]
  },
  {
   "cell_type": "markdown",
   "metadata": {},
   "source": [
    "## Optimizations"
   ]
  },
  {
   "cell_type": "markdown",
   "metadata": {},
   "source": [
    "##### **Q21: How do you perform hyperparameter tuning to improve the performance of a neural network?**"
   ]
  },
  {
   "cell_type": "code",
   "execution_count": 40,
   "metadata": {},
   "outputs": [
    {
     "name": "stdout",
     "output_type": "stream",
     "text": [
      "Using device: cuda\n",
      "Best params: {'activation': 'ReLU', 'batch_size': 64, 'dropout_rate': 0.0, 'hidden_size': 64, 'learning_rate': 0.01, 'num_layers': 2, 'optimizer': 'Adam'}\n",
      "Best loss: 0.00045094534380041296\n"
     ]
    }
   ],
   "source": [
    "from sklearn.model_selection import ParameterGrid\n",
    "\n",
    "# Check if CUDA is available\n",
    "device = torch.device(\"cuda\" if torch.cuda.is_available() else \"cpu\")\n",
    "print(f\"Using device: {device}\")\n",
    "\n",
    "# Define a \"flexible\" neural network\n",
    "class FlexibleNet(nn.Module):\n",
    "    def __init__(self, input_size, hidden_size, output_size, num_layers, dropout_rate, activation):\n",
    "        super(FlexibleNet, self).__init__()\n",
    "        self.num_layers = num_layers\n",
    "        self.dropout = nn.Dropout(dropout_rate)\n",
    "        self.activation = activation\n",
    "\n",
    "        self.fc1 = nn.Linear(input_size, hidden_size)\n",
    "        self.hidden_layers = nn.ModuleList([nn.Linear(hidden_size, hidden_size) for _ in range(num_layers - 1)])\n",
    "        self.fc_out = nn.Linear(hidden_size, output_size)\n",
    "    \n",
    "    def forward(self, x):\n",
    "        x = self._apply_activation(self.fc1(x))\n",
    "        x = self.dropout(x)\n",
    "        for layer in self.hidden_layers:\n",
    "            x = self._apply_activation(layer(x))\n",
    "            x = self.dropout(x)\n",
    "        x = self.fc_out(x)\n",
    "        return x\n",
    "    \n",
    "    def _apply_activation(self, x):\n",
    "        if self.activation == 'ReLU':\n",
    "            return torch.relu(x)\n",
    "        elif self.activation == 'LeakyReLU':\n",
    "            return F.leaky_relu(x)\n",
    "        elif self.activation == 'Tanh':\n",
    "            return torch.tanh(x)\n",
    "        else:\n",
    "            raise ValueError(f\"Unsupported activation function: {self.activation}\")\n",
    "\n",
    "# Create a synthetic dataset for demonstration\n",
    "input_data = torch.randn(1000, 784)\n",
    "target_data = torch.randint(0, 10, (1000,))\n",
    "dataset = TensorDataset(input_data, target_data)\n",
    "data_loader = DataLoader(dataset, batch_size=64, shuffle=True)\n",
    "\n",
    "# Function to initialize the model\n",
    "def create_model(input_size, hidden_size, output_size, num_layers, dropout_rate, activation):\n",
    "    model = FlexibleNet(input_size, hidden_size, output_size, num_layers, dropout_rate, activation).to(device)\n",
    "    return model\n",
    "\n",
    "# Training function to include different optimizers\n",
    "def train_model(model, train_loader, optimizer_name, learning_rate, num_epochs=10):\n",
    "    loss_fn = nn.CrossEntropyLoss()\n",
    "    if optimizer_name == 'SGD':\n",
    "        optimizer = optim.SGD(model.parameters(), lr=learning_rate)\n",
    "    elif optimizer_name == 'Adam':\n",
    "        optimizer = optim.Adam(model.parameters(), lr=learning_rate)\n",
    "    else:\n",
    "        raise ValueError(f\"Unsupported optimizer: {optimizer_name}\")\n",
    "    \n",
    "    model.train()\n",
    "    for epoch in range(num_epochs):\n",
    "        running_loss = 0.0\n",
    "        for inputs, targets in train_loader:\n",
    "            inputs, targets = inputs.to(device), targets.to(device)\n",
    "            outputs = model(inputs)\n",
    "            loss = loss_fn(outputs, targets)\n",
    "            optimizer.zero_grad()\n",
    "            loss.backward()\n",
    "            optimizer.step()\n",
    "            running_loss += loss.item()\n",
    "    return running_loss / len(train_loader)\n",
    "\n",
    "param_grid = {\n",
    "    'hidden_size': [64, 128, 256],  # Hidden layer sizes\n",
    "    'learning_rate': [0.01, 0.001],  # Learning rates\n",
    "    'batch_size': [32, 64],  # Batch sizes\n",
    "    'optimizer': ['SGD', 'Adam'],  # Optimizers\n",
    "    'num_layers': [2, 3],  # Number of hidden layers\n",
    "    'dropout_rate': [0.0, 0.3, 0.5],  # Dropout rates\n",
    "    'activation': ['ReLU', 'LeakyReLU', 'Tanh']  # Activation functions\n",
    "}\n",
    "\n",
    "# Perform GridSearch with extended parameters\n",
    "best_params = None\n",
    "best_loss = float('inf')\n",
    "param_combinations = list(ParameterGrid(param_grid))\n",
    "\n",
    "for params in param_combinations:\n",
    "    # print(f\"Testing params: {params}\")\n",
    "    model = create_model(784, params['hidden_size'], 10, params['num_layers'], params['dropout_rate'], params['activation'])\n",
    "    train_loader = DataLoader(dataset, batch_size=params['batch_size'], shuffle=True)\n",
    "    avg_loss = train_model(model, train_loader, params['optimizer'], params['learning_rate'])\n",
    "    # print(f\"Average loss: {avg_loss}\")\n",
    "    if avg_loss < best_loss:\n",
    "        best_loss = avg_loss\n",
    "        best_params = params\n",
    "\n",
    "print(f\"Best params: {best_params}\")\n",
    "print(f\"Best loss: {best_loss}\")"
   ]
  },
  {
   "cell_type": "markdown",
   "metadata": {},
   "source": [
    "##### **Q22: What regularization techniques can you implement to prevent overfitting in neural networks?**"
   ]
  },
  {
   "cell_type": "code",
   "execution_count": 52,
   "metadata": {},
   "outputs": [
    {
     "name": "stdout",
     "output_type": "stream",
     "text": [
      "Best params: {'activation': 'ReLU', 'batch_size': 64, 'dropout_rate': 0.0, 'hidden_size': 256, 'learning_rate': 0.001, 'num_layers': 3, 'optimizer': 'Adam', 'use_batch_norm': False, 'weight_decay': 0}\n",
      "Best loss: 0.00046424203355854843\n"
     ]
    }
   ],
   "source": [
    "# Define a \"flexible\" neural network with additional regularization techniques\n",
    "class FlexibleNet(nn.Module):\n",
    "    def __init__(self, input_size, hidden_size, output_size, num_layers, dropout_rate, activation, use_batch_norm=False):\n",
    "        super(FlexibleNet, self).__init__()\n",
    "        self.num_layers = num_layers\n",
    "        self.dropout = nn.Dropout(dropout_rate)\n",
    "        self.activation = activation\n",
    "        self.use_batch_norm = use_batch_norm\n",
    "\n",
    "        self.fc1 = nn.Linear(input_size, hidden_size)\n",
    "        self.bn1 = nn.BatchNorm1d(hidden_size) if use_batch_norm else None\n",
    "        self.hidden_layers = nn.ModuleList()\n",
    "        self.batch_norm_layers = nn.ModuleList()\n",
    "        \n",
    "        for _ in range(num_layers - 1):\n",
    "            self.hidden_layers.append(nn.Linear(hidden_size, hidden_size))\n",
    "            if use_batch_norm:\n",
    "                self.batch_norm_layers.append(nn.BatchNorm1d(hidden_size))\n",
    "        \n",
    "        self.fc_out = nn.Linear(hidden_size, output_size)\n",
    "    \n",
    "    def forward(self, x):\n",
    "        x = self._apply_activation(self.fc1(x))\n",
    "        if self.bn1:\n",
    "            x = self.bn1(x)\n",
    "        x = self.dropout(x)\n",
    "        for i, layer in enumerate(self.hidden_layers):\n",
    "            x = self._apply_activation(layer(x))\n",
    "            if self.use_batch_norm:\n",
    "                x = self.batch_norm_layers[i](x)\n",
    "            x = self.dropout(x)\n",
    "        x = self.fc_out(x)\n",
    "        return x\n",
    "    \n",
    "    def _apply_activation(self, x):\n",
    "        if self.activation == 'ReLU':\n",
    "            return torch.relu(x)\n",
    "        elif self.activation == 'LeakyReLU':\n",
    "            return F.leaky_relu(x)\n",
    "        elif self.activation == 'Tanh':\n",
    "            return torch.tanh(x)\n",
    "        else:\n",
    "            raise ValueError(f\"Unsupported activation function: {self.activation}\")\n",
    "\n",
    "# Synthetic dataset\n",
    "input_data = torch.randn(1000, 784)\n",
    "target_data = torch.randint(0, 10, (1000,))\n",
    "dataset = TensorDataset(input_data, target_data)\n",
    "data_loader = DataLoader(dataset, batch_size=64, shuffle=True)\n",
    "\n",
    "# Function to initialize the model\n",
    "def create_model(input_size, hidden_size, output_size, num_layers, dropout_rate, activation, use_batch_norm=False):\n",
    "    model = FlexibleNet(input_size, hidden_size, output_size, num_layers, dropout_rate, activation, use_batch_norm).to(device)\n",
    "    return model\n",
    "\n",
    "# Training function to include different optimizers and weight decay (L2 regularization)\n",
    "def train_model(model, train_loader, optimizer_name, learning_rate, weight_decay, num_epochs=10):\n",
    "    loss_fn = nn.CrossEntropyLoss()\n",
    "    if optimizer_name == 'SGD':\n",
    "        optimizer = optim.SGD(model.parameters(), lr=learning_rate, weight_decay=weight_decay)\n",
    "    elif optimizer_name == 'Adam':\n",
    "        optimizer = optim.Adam(model.parameters(), lr=learning_rate, weight_decay=weight_decay)\n",
    "    else:\n",
    "        raise ValueError(f\"Unsupported optimizer: {optimizer_name}\")\n",
    "    \n",
    "    model.train()\n",
    "    for epoch in range(num_epochs):\n",
    "        running_loss = 0.0\n",
    "        for inputs, targets in train_loader:\n",
    "            inputs, targets = inputs.to(device), targets.to(device)\n",
    "            outputs = model(inputs)\n",
    "            loss = loss_fn(outputs, targets)\n",
    "            optimizer.zero_grad()\n",
    "            loss.backward()\n",
    "            optimizer.step()\n",
    "            running_loss += loss.item()\n",
    "    return running_loss / len(train_loader)\n",
    "\n",
    "param_grid = {\n",
    "    'hidden_size': [64, 128, 256],  # Hidden layer sizes\n",
    "    'learning_rate': [0.01, 0.001],  # Learning rates\n",
    "    'batch_size': [32, 64],  # Batch sizes\n",
    "    'optimizer': ['SGD', 'Adam'],  # Optimizers\n",
    "    'num_layers': [2, 3],  # Number of hidden layers\n",
    "    'dropout_rate': [0.0, 0.3, 0.5],  # Dropout rates\n",
    "    'activation': ['ReLU', 'LeakyReLU', 'Tanh'],  # Activation functions\n",
    "    'weight_decay': [0, 1e-4, 1e-3],  # Weight decay (L2 regularization)\n",
    "    'use_batch_norm': [False, True]  # Use batch normalization\n",
    "}\n",
    "\n",
    "# Perform GridSearch with extended parameters\n",
    "best_params = None\n",
    "best_loss = float('inf')\n",
    "param_combinations = list(ParameterGrid(param_grid))\n",
    "\n",
    "for params in param_combinations:\n",
    "    # print(f\"Testing params: {params}\")\n",
    "    model = create_model(784, params['hidden_size'], 10, params['num_layers'], params['dropout_rate'], params['activation'], params['use_batch_norm'])\n",
    "    train_loader = DataLoader(dataset, batch_size=params['batch_size'], shuffle=True)\n",
    "    avg_loss = train_model(model, train_loader, params['optimizer'], params['learning_rate'], params['weight_decay'])\n",
    "    # print(f\"Average loss: {avg_loss}\")\n",
    "    if avg_loss < best_loss:\n",
    "        best_loss = avg_loss\n",
    "        best_params = params\n",
    "\n",
    "print(f\"Best params: {best_params}\")\n",
    "print(f\"Best loss: {best_loss}\")"
   ]
  },
  {
   "cell_type": "markdown",
   "metadata": {},
   "source": [
    "##### **Q23: How do you use learning rate scheduling to adjust the learning rate during training?**"
   ]
  },
  {
   "cell_type": "code",
   "execution_count": 56,
   "metadata": {},
   "outputs": [
    {
     "name": "stdout",
     "output_type": "stream",
     "text": [
      "Using device: cuda\n",
      "Best params: {'activation': 'LeakyReLU', 'batch_size': 64, 'dropout_rate': 0.0, 'hidden_size': 256, 'learning_rate': 0.01, 'num_layers': 2, 'optimizer': 'Adam', 'scheduler': <class 'torch.optim.lr_scheduler.StepLR'>, 'use_batch_norm': False, 'weight_decay': 0}\n",
      "Best loss: 0.00022537942186318105\n"
     ]
    }
   ],
   "source": [
    "# Check if CUDA is available\n",
    "device = torch.device(\"cuda\" if torch.cuda.is_available() else \"cpu\")\n",
    "print(f\"Using device: {device}\")\n",
    "\n",
    "# Redefine a \"flexible\" neural network with additional regularization techniques\n",
    "class FlexibleNet(nn.Module):\n",
    "    def __init__(self, input_size, hidden_size, output_size, num_layers, dropout_rate, activation, use_batch_norm=False):\n",
    "        super(FlexibleNet, self).__init__()\n",
    "        self.num_layers = num_layers\n",
    "        self.dropout = nn.Dropout(dropout_rate)\n",
    "        self.activation = activation\n",
    "        self.use_batch_norm = use_batch_norm\n",
    "\n",
    "        self.fc1 = nn.Linear(input_size, hidden_size)\n",
    "        self.bn1 = nn.BatchNorm1d(hidden_size) if use_batch_norm else None\n",
    "        self.hidden_layers = nn.ModuleList()\n",
    "        self.batch_norm_layers = nn.ModuleList()\n",
    "        \n",
    "        for _ in range(num_layers - 1):\n",
    "            self.hidden_layers.append(nn.Linear(hidden_size, hidden_size))\n",
    "            if use_batch_norm:\n",
    "                self.batch_norm_layers.append(nn.BatchNorm1d(hidden_size))\n",
    "        \n",
    "        self.fc_out = nn.Linear(hidden_size, output_size)\n",
    "    \n",
    "    def forward(self, x):\n",
    "        x = self._apply_activation(self.fc1(x))\n",
    "        if self.bn1:\n",
    "            x = self.bn1(x)\n",
    "        x = self.dropout(x)\n",
    "        for i, layer in enumerate(self.hidden_layers):\n",
    "            x = self._apply_activation(layer(x))\n",
    "            if self.use_batch_norm:\n",
    "                x = self.batch_norm_layers[i](x)\n",
    "            x = self.dropout(x)\n",
    "        x = self.fc_out(x)\n",
    "        return x\n",
    "    \n",
    "    def _apply_activation(self, x):\n",
    "        if self.activation == 'ReLU':\n",
    "            return torch.relu(x)\n",
    "        elif self.activation == 'LeakyReLU':\n",
    "            return F.leaky_relu(x)\n",
    "        elif self.activation == 'Tanh':\n",
    "            return torch.tanh(x)\n",
    "        else:\n",
    "            raise ValueError(f\"Unsupported activation function: {self.activation}\")\n",
    "\n",
    "input_data = torch.randn(1000, 784)\n",
    "target_data = torch.randint(0, 10, (1000,))\n",
    "dataset = TensorDataset(input_data, target_data)\n",
    "data_loader = DataLoader(dataset, batch_size=64, shuffle=True)\n",
    "\n",
    "def create_model(input_size, hidden_size, output_size, num_layers, dropout_rate, activation, use_batch_norm=False):\n",
    "    model = FlexibleNet(input_size, hidden_size, output_size, num_layers, dropout_rate, activation, use_batch_norm).to(device)\n",
    "    return model\n",
    "\n",
    "def train_model(model, train_loader, optimizer_name, learning_rate, weight_decay, num_epochs=10, scheduler_class=None):\n",
    "    loss_fn = nn.CrossEntropyLoss()\n",
    "    if optimizer_name == 'SGD':\n",
    "        optimizer = optim.SGD(model.parameters(), lr=learning_rate, weight_decay=weight_decay)\n",
    "    elif optimizer_name == 'Adam':\n",
    "        optimizer = optim.Adam(model.parameters(), lr=learning_rate, weight_decay=weight_decay)\n",
    "    else:\n",
    "        raise ValueError(f\"Unsupported optimizer: {optimizer_name}\")\n",
    "    \n",
    "    scheduler = None\n",
    "    if scheduler_class is not None:\n",
    "        if scheduler_class == optim.lr_scheduler.StepLR:\n",
    "            scheduler = scheduler_class(optimizer, step_size=1, gamma=0.9)\n",
    "        elif scheduler_class == optim.lr_scheduler.ExponentialLR:\n",
    "            scheduler = scheduler_class(optimizer, gamma=0.9)\n",
    "    \n",
    "    model.train()\n",
    "    for epoch in range(num_epochs):\n",
    "        running_loss = 0.0\n",
    "        for inputs, targets in train_loader:\n",
    "            inputs, targets = inputs.to(device), targets.to(device)\n",
    "            outputs = model(inputs)\n",
    "            loss = loss_fn(outputs, targets)\n",
    "            optimizer.zero_grad()\n",
    "            loss.backward()\n",
    "            optimizer.step()\n",
    "            running_loss += loss.item()\n",
    "        \n",
    "        if scheduler is not None:\n",
    "            scheduler.step()\n",
    "            \n",
    "    avg_loss = running_loss / len(train_loader)\n",
    "    return avg_loss\n",
    "\n",
    "param_grid = {\n",
    "    'hidden_size': [64, 128, 256],  # Hidden layer sizes\n",
    "    'learning_rate': [0.01, 0.001],  # Learning rates\n",
    "    'batch_size': [32, 64],  # Batch sizes\n",
    "    'optimizer': ['SGD', 'Adam'],  # Optimizers\n",
    "    'num_layers': [2, 3],  # Number of hidden layers\n",
    "    'dropout_rate': [0.0, 0.3, 0.5],  # Dropout rates\n",
    "    'activation': ['ReLU', 'LeakyReLU', 'Tanh'],  # Activation functions\n",
    "    'weight_decay': [0, 1e-4, 1e-3],  # Weight decay (L2 regularization)\n",
    "    'use_batch_norm': [False, True],  # Use batch normalization\n",
    "    'scheduler': [None, optim.lr_scheduler.StepLR, optim.lr_scheduler.ExponentialLR]  # Learning rate schedulers\n",
    "}\n",
    "\n",
    "# Grid search\n",
    "best_params = None\n",
    "best_loss = float('inf')\n",
    "param_combinations = list(ParameterGrid(param_grid))\n",
    "\n",
    "for params in param_combinations:\n",
    "    model = create_model(784, params['hidden_size'], 10, params['num_layers'], params['dropout_rate'], params['activation'], params['use_batch_norm'])\n",
    "    train_loader = DataLoader(dataset, batch_size=params['batch_size'], shuffle=True)\n",
    "    scheduler_class = params['scheduler']\n",
    "    avg_loss = train_model(model, train_loader, params['optimizer'], params['learning_rate'], params['weight_decay'], scheduler_class=scheduler_class)\n",
    "    if avg_loss < best_loss:\n",
    "        best_loss = avg_loss\n",
    "        best_params = params\n",
    "9\n",
    "print(f\"Best params: {best_params}\")\n",
    "print(f\"Best loss: {best_loss}\")"
   ]
  },
  {
   "cell_type": "markdown",
   "metadata": {},
   "source": [
    "## Handling real-world data"
   ]
  },
  {
   "cell_type": "markdown",
   "metadata": {},
   "source": [
    "##### **Q24: How do you preprocess a real-world dataset for training a neural network?**"
   ]
  },
  {
   "cell_type": "code",
   "execution_count": 84,
   "metadata": {},
   "outputs": [
    {
     "name": "stdout",
     "output_type": "stream",
     "text": [
      "First few rows of the dataset:\n",
      "   survived  pclass     sex   age  sibsp  parch     fare embarked  class  \\\n",
      "0         0       3    male  22.0      1      0   7.2500        S  Third   \n",
      "1         1       1  female  38.0      1      0  71.2833        C  First   \n",
      "2         1       3  female  26.0      0      0   7.9250        S  Third   \n",
      "3         1       1  female  35.0      1      0  53.1000        S  First   \n",
      "4         0       3    male  35.0      0      0   8.0500        S  Third   \n",
      "\n",
      "     who  adult_male deck  embark_town alive  alone  \n",
      "0    man        True  NaN  Southampton    no  False  \n",
      "1  woman       False    C    Cherbourg   yes  False  \n",
      "2  woman       False  NaN  Southampton   yes   True  \n",
      "3  woman       False    C  Southampton   yes  False  \n",
      "4    man        True  NaN  Southampton    no   True  \n"
     ]
    }
   ],
   "source": [
    "# Load the Titanic dataset\n",
    "titanic = sns.load_dataset('titanic')\n",
    "\n",
    "# Display the first few rows of the dataset\n",
    "print(\"First few rows of the dataset:\")\n",
    "print(titanic.head())"
   ]
  },
  {
   "cell_type": "code",
   "execution_count": 62,
   "metadata": {},
   "outputs": [
    {
     "name": "stdout",
     "output_type": "stream",
     "text": [
      "\n",
      "Column data types:\n",
      "survived          int64\n",
      "pclass            int64\n",
      "sex              object\n",
      "age             float64\n",
      "sibsp             int64\n",
      "parch             int64\n",
      "fare            float64\n",
      "embarked         object\n",
      "class          category\n",
      "who              object\n",
      "adult_male         bool\n",
      "deck           category\n",
      "embark_town      object\n",
      "alive            object\n",
      "alone              bool\n",
      "dtype: object\n"
     ]
    }
   ],
   "source": [
    "# Check column data types\n",
    "print(\"\\nColumn data types:\")\n",
    "print(titanic.dtypes)"
   ]
  },
  {
   "cell_type": "code",
   "execution_count": 63,
   "metadata": {},
   "outputs": [
    {
     "name": "stdout",
     "output_type": "stream",
     "text": [
      "\n",
      "Missing values in each column:\n",
      "survived         0\n",
      "pclass           0\n",
      "sex              0\n",
      "age            177\n",
      "sibsp            0\n",
      "parch            0\n",
      "fare             0\n",
      "embarked         2\n",
      "class            0\n",
      "who              0\n",
      "adult_male       0\n",
      "deck           688\n",
      "embark_town      2\n",
      "alive            0\n",
      "alone            0\n",
      "dtype: int64\n"
     ]
    }
   ],
   "source": [
    "# Count missing values\n",
    "print(\"\\nMissing values in each column:\")\n",
    "print(titanic.isnull().sum())"
   ]
  },
  {
   "cell_type": "code",
   "execution_count": 64,
   "metadata": {},
   "outputs": [
    {
     "name": "stdout",
     "output_type": "stream",
     "text": [
      "\n",
      "Summary statistics for numerical features:\n",
      "         survived      pclass         age       sibsp       parch        fare\n",
      "count  891.000000  891.000000  714.000000  891.000000  891.000000  891.000000\n",
      "mean     0.383838    2.308642   29.699118    0.523008    0.381594   32.204208\n",
      "std      0.486592    0.836071   14.526497    1.102743    0.806057   49.693429\n",
      "min      0.000000    1.000000    0.420000    0.000000    0.000000    0.000000\n",
      "25%      0.000000    2.000000   20.125000    0.000000    0.000000    7.910400\n",
      "50%      0.000000    3.000000   28.000000    0.000000    0.000000   14.454200\n",
      "75%      1.000000    3.000000   38.000000    1.000000    0.000000   31.000000\n",
      "max      1.000000    3.000000   80.000000    8.000000    6.000000  512.329200\n",
      "\n",
      "Summary statistics for categorical features:\n",
      "         sex embarked  who  embark_town alive\n",
      "count    891      889  891          889   891\n",
      "unique     2        3    3            3     2\n",
      "top     male        S  man  Southampton    no\n",
      "freq     577      644  537          644   549\n"
     ]
    }
   ],
   "source": [
    "# Summary statistics\n",
    "print(\"\\nSummary statistics for numerical features:\")\n",
    "print(titanic.describe())\n",
    "\n",
    "print(\"\\nSummary statistics for categorical features:\")\n",
    "print(titanic.describe(include=['O']))"
   ]
  },
  {
   "cell_type": "code",
   "execution_count": 65,
   "metadata": {},
   "outputs": [
    {
     "name": "stdout",
     "output_type": "stream",
     "text": [
      "\n",
      "Unique values in categorical columns:\n",
      "sex: ['male' 'female']\n",
      "embarked: ['S' 'C' 'Q' nan]\n",
      "who: ['man' 'woman' 'child']\n",
      "embark_town: ['Southampton' 'Cherbourg' 'Queenstown' nan]\n",
      "alive: ['no' 'yes']\n"
     ]
    }
   ],
   "source": [
    "# Unique values for categorical features\n",
    "print(\"\\nUnique values in categorical columns:\")\n",
    "for column in titanic.select_dtypes(include=['object']).columns:\n",
    "    print(f\"{column}: {titanic[column].unique()}\")"
   ]
  },
  {
   "cell_type": "markdown",
   "metadata": {},
   "source": [
    "##### **Q25: How do you handle missing data in a real-world dataset?**"
   ]
  },
  {
   "cell_type": "code",
   "execution_count": 75,
   "metadata": {},
   "outputs": [],
   "source": [
    "df_simple = titanic.copy()"
   ]
  },
  {
   "cell_type": "code",
   "execution_count": 76,
   "metadata": {},
   "outputs": [
    {
     "name": "stdout",
     "output_type": "stream",
     "text": [
      "\n",
      "Missing values in each column:\n",
      "survived         0\n",
      "pclass           0\n",
      "sex              0\n",
      "age            177\n",
      "sibsp            0\n",
      "parch            0\n",
      "fare             0\n",
      "embarked         2\n",
      "class            0\n",
      "who              0\n",
      "adult_male       0\n",
      "deck           688\n",
      "embark_town      2\n",
      "alive            0\n",
      "alone            0\n",
      "dtype: int64\n"
     ]
    }
   ],
   "source": [
    "# Step 1: Identify missing data\n",
    "print(\"\\nMissing values in each column:\")\n",
    "print(df_simple.isnull().sum())"
   ]
  },
  {
   "cell_type": "code",
   "execution_count": 77,
   "metadata": {},
   "outputs": [],
   "source": [
    "# One option: remove columns with too many missing values\n",
    "df_simple.drop(columns=['deck'], inplace=True)"
   ]
  },
  {
   "cell_type": "code",
   "execution_count": 78,
   "metadata": {},
   "outputs": [],
   "source": [
    "# Alternative: impute missing data\n",
    "df_simple['age'].fillna(df_simple['age'].median(), inplace=True)  # Fill missing values for 'age' with the median age\n",
    "df_simple['embarked'].fillna(df_simple['embarked'].mode()[0], inplace=True)  # Fill missing values for 'embarked' with the mode\n",
    "df_simple['embark_town'].fillna(df_simple['embark_town'].mode()[0], inplace=True)  # Fill missing values for 'embarked' with the mode"
   ]
  },
  {
   "cell_type": "code",
   "execution_count": 79,
   "metadata": {},
   "outputs": [
    {
     "data": {
      "text/html": [
       "<div>\n",
       "<style scoped>\n",
       "    .dataframe tbody tr th:only-of-type {\n",
       "        vertical-align: middle;\n",
       "    }\n",
       "\n",
       "    .dataframe tbody tr th {\n",
       "        vertical-align: top;\n",
       "    }\n",
       "\n",
       "    .dataframe thead th {\n",
       "        text-align: right;\n",
       "    }\n",
       "</style>\n",
       "<table border=\"1\" class=\"dataframe\">\n",
       "  <thead>\n",
       "    <tr style=\"text-align: right;\">\n",
       "      <th></th>\n",
       "      <th>survived</th>\n",
       "      <th>pclass</th>\n",
       "      <th>sex</th>\n",
       "      <th>age</th>\n",
       "      <th>sibsp</th>\n",
       "      <th>parch</th>\n",
       "      <th>fare</th>\n",
       "      <th>embarked</th>\n",
       "      <th>class</th>\n",
       "      <th>who</th>\n",
       "      <th>adult_male</th>\n",
       "      <th>embark_town</th>\n",
       "      <th>alive</th>\n",
       "      <th>alone</th>\n",
       "    </tr>\n",
       "  </thead>\n",
       "  <tbody>\n",
       "    <tr>\n",
       "      <th>0</th>\n",
       "      <td>0</td>\n",
       "      <td>3</td>\n",
       "      <td>male</td>\n",
       "      <td>22.0</td>\n",
       "      <td>1</td>\n",
       "      <td>0</td>\n",
       "      <td>7.2500</td>\n",
       "      <td>S</td>\n",
       "      <td>Third</td>\n",
       "      <td>man</td>\n",
       "      <td>True</td>\n",
       "      <td>Southampton</td>\n",
       "      <td>no</td>\n",
       "      <td>False</td>\n",
       "    </tr>\n",
       "    <tr>\n",
       "      <th>1</th>\n",
       "      <td>1</td>\n",
       "      <td>1</td>\n",
       "      <td>female</td>\n",
       "      <td>38.0</td>\n",
       "      <td>1</td>\n",
       "      <td>0</td>\n",
       "      <td>71.2833</td>\n",
       "      <td>C</td>\n",
       "      <td>First</td>\n",
       "      <td>woman</td>\n",
       "      <td>False</td>\n",
       "      <td>Cherbourg</td>\n",
       "      <td>yes</td>\n",
       "      <td>False</td>\n",
       "    </tr>\n",
       "    <tr>\n",
       "      <th>2</th>\n",
       "      <td>1</td>\n",
       "      <td>3</td>\n",
       "      <td>female</td>\n",
       "      <td>26.0</td>\n",
       "      <td>0</td>\n",
       "      <td>0</td>\n",
       "      <td>7.9250</td>\n",
       "      <td>S</td>\n",
       "      <td>Third</td>\n",
       "      <td>woman</td>\n",
       "      <td>False</td>\n",
       "      <td>Southampton</td>\n",
       "      <td>yes</td>\n",
       "      <td>True</td>\n",
       "    </tr>\n",
       "    <tr>\n",
       "      <th>3</th>\n",
       "      <td>1</td>\n",
       "      <td>1</td>\n",
       "      <td>female</td>\n",
       "      <td>35.0</td>\n",
       "      <td>1</td>\n",
       "      <td>0</td>\n",
       "      <td>53.1000</td>\n",
       "      <td>S</td>\n",
       "      <td>First</td>\n",
       "      <td>woman</td>\n",
       "      <td>False</td>\n",
       "      <td>Southampton</td>\n",
       "      <td>yes</td>\n",
       "      <td>False</td>\n",
       "    </tr>\n",
       "    <tr>\n",
       "      <th>4</th>\n",
       "      <td>0</td>\n",
       "      <td>3</td>\n",
       "      <td>male</td>\n",
       "      <td>35.0</td>\n",
       "      <td>0</td>\n",
       "      <td>0</td>\n",
       "      <td>8.0500</td>\n",
       "      <td>S</td>\n",
       "      <td>Third</td>\n",
       "      <td>man</td>\n",
       "      <td>True</td>\n",
       "      <td>Southampton</td>\n",
       "      <td>no</td>\n",
       "      <td>True</td>\n",
       "    </tr>\n",
       "  </tbody>\n",
       "</table>\n",
       "</div>"
      ],
      "text/plain": [
       "   survived  pclass     sex   age  sibsp  parch     fare embarked  class  \\\n",
       "0         0       3    male  22.0      1      0   7.2500        S  Third   \n",
       "1         1       1  female  38.0      1      0  71.2833        C  First   \n",
       "2         1       3  female  26.0      0      0   7.9250        S  Third   \n",
       "3         1       1  female  35.0      1      0  53.1000        S  First   \n",
       "4         0       3    male  35.0      0      0   8.0500        S  Third   \n",
       "\n",
       "     who  adult_male  embark_town alive  alone  \n",
       "0    man        True  Southampton    no  False  \n",
       "1  woman       False    Cherbourg   yes  False  \n",
       "2  woman       False  Southampton   yes   True  \n",
       "3  woman       False  Southampton   yes  False  \n",
       "4    man        True  Southampton    no   True  "
      ]
     },
     "execution_count": 79,
     "metadata": {},
     "output_type": "execute_result"
    }
   ],
   "source": [
    "df_simple.head()"
   ]
  },
  {
   "cell_type": "code",
   "execution_count": 80,
   "metadata": {},
   "outputs": [
    {
     "name": "stdout",
     "output_type": "stream",
     "text": [
      "\n",
      "Missing values after imputation:\n",
      "survived       0\n",
      "pclass         0\n",
      "sex            0\n",
      "age            0\n",
      "sibsp          0\n",
      "parch          0\n",
      "fare           0\n",
      "embarked       0\n",
      "class          0\n",
      "who            0\n",
      "adult_male     0\n",
      "embark_town    0\n",
      "alive          0\n",
      "alone          0\n",
      "dtype: int64\n"
     ]
    }
   ],
   "source": [
    "# Verify that there are no more missing values\n",
    "print(\"\\nMissing values after imputation:\")\n",
    "print(df_simple.isnull().sum())"
   ]
  },
  {
   "cell_type": "code",
   "execution_count": 81,
   "metadata": {},
   "outputs": [],
   "source": [
    "df_imputed = titanic.copy()"
   ]
  },
  {
   "cell_type": "code",
   "execution_count": 85,
   "metadata": {},
   "outputs": [],
   "source": [
    "# Another alternative: use sklearn's SimpleImputer\n",
    "from sklearn.impute import SimpleImputer\n",
    "\n",
    "# For numerical data\n",
    "imputer = SimpleImputer(strategy='median')\n",
    "df_imputed['age'] = imputer.fit_transform(df_imputed[['age']])\n",
    "\n",
    "# For categorical data\n",
    "imputer = SimpleImputer(strategy='most_frequent')\n",
    "df_imputed['embarked'] = imputer.fit_transform(df_imputed[['embarked']])\n",
    "df_imputed['embark_town'] = imputer.fit_transform(df_imputed[['embark_town']])"
   ]
  },
  {
   "cell_type": "code",
   "execution_count": 86,
   "metadata": {},
   "outputs": [
    {
     "name": "stdout",
     "output_type": "stream",
     "text": [
      "\n",
      "Missing values after imputation:\n",
      "survived         0\n",
      "pclass           0\n",
      "sex              0\n",
      "age              0\n",
      "sibsp            0\n",
      "parch            0\n",
      "fare             0\n",
      "embarked         0\n",
      "class            0\n",
      "who              0\n",
      "adult_male       0\n",
      "deck           688\n",
      "embark_town      0\n",
      "alive            0\n",
      "alone            0\n",
      "dtype: int64\n"
     ]
    }
   ],
   "source": [
    "print(\"\\nMissing values after imputation:\")\n",
    "print(df_imputed.isnull().sum())"
   ]
  },
  {
   "cell_type": "code",
   "execution_count": 88,
   "metadata": {},
   "outputs": [
    {
     "name": "stdout",
     "output_type": "stream",
     "text": [
      "[NaN, 'C', 'E', 'G', 'D', 'A', 'B', 'F']\n",
      "Categories (7, object): ['A', 'B', 'C', 'D', 'E', 'F', 'G']\n"
     ]
    }
   ],
   "source": [
    "# Ways to handle the \"deck column\":\n",
    "print(df_imputed['deck'].unique())"
   ]
  },
  {
   "cell_type": "code",
   "execution_count": 89,
   "metadata": {},
   "outputs": [],
   "source": [
    "df_advanced = df_imputed.copy()"
   ]
  },
  {
   "cell_type": "code",
   "execution_count": 90,
   "metadata": {},
   "outputs": [
    {
     "name": "stdout",
     "output_type": "stream",
     "text": [
      "0\n"
     ]
    }
   ],
   "source": [
    "# Function to impute 'deck' based on 'pclass' and 'fare'\n",
    "def impute_deck(row):\n",
    "    if pd.isnull(row['deck']):\n",
    "        if row['pclass'] == 1:\n",
    "            return 'C'  # Assuming 'C' for first class as a common value\n",
    "        elif row['pclass'] == 2:\n",
    "            return 'D'  # Assuming 'D' for second class as a common value\n",
    "        else:\n",
    "            return 'G'  # Assuming 'G' for third class as a common value\n",
    "    else:\n",
    "        return row['deck']\n",
    "\n",
    "df_imputed['deck'] = df_imputed.apply(impute_deck, axis=1)\n",
    "\n",
    "print(df_imputed['deck'].isnull().sum())"
   ]
  },
  {
   "cell_type": "code",
   "execution_count": 93,
   "metadata": {},
   "outputs": [
    {
     "name": "stdout",
     "output_type": "stream",
     "text": [
      "G    483\n",
      "D    201\n",
      "C    100\n",
      "B     47\n",
      "E     32\n",
      "A     15\n",
      "F     13\n",
      "Name: deck, dtype: int64\n"
     ]
    }
   ],
   "source": [
    "print(df_imputed['deck'].value_counts())"
   ]
  },
  {
   "cell_type": "code",
   "execution_count": 95,
   "metadata": {},
   "outputs": [
    {
     "name": "stdout",
     "output_type": "stream",
     "text": [
      "0\n"
     ]
    }
   ],
   "source": [
    "# Another way:\n",
    "from sklearn.ensemble import RandomForestClassifier\n",
    "from sklearn.model_selection import train_test_split\n",
    "from sklearn.preprocessing import LabelEncoder\n",
    "\n",
    "# Encode categorical features\n",
    "label_encoder = LabelEncoder()\n",
    "df_advanced['sex'] = label_encoder.fit_transform(df_advanced['sex'])\n",
    "df_advanced['embarked'] = label_encoder.fit_transform(df_advanced['embarked'])\n",
    "df_advanced['embark_town'] = label_encoder.fit_transform(df_advanced['embark_town'])\n",
    "\n",
    "# Prepare data for predictive modeling\n",
    "features = ['pclass', 'sex', 'age', 'sibsp', 'parch', 'fare', 'embarked', 'embark_town']\n",
    "titanic_known_deck = df_advanced[df_advanced['deck'].notnull()]\n",
    "titanic_unknown_deck = df_advanced[df_advanced['deck'].isnull()]\n",
    "\n",
    "X_known = titanic_known_deck[features]\n",
    "y_known = titanic_known_deck['deck']\n",
    "X_unknown = titanic_unknown_deck[features]\n",
    "\n",
    "# Encode target variable 'deck'\n",
    "y_known = label_encoder.fit_transform(y_known)\n",
    "\n",
    "# Train a RandomForestClassifier\n",
    "X_train, X_test, y_train, y_test = train_test_split(X_known, y_known, test_size=0.2, random_state=42)\n",
    "model = RandomForestClassifier(n_estimators=100, random_state=42)\n",
    "model.fit(X_train, y_train)\n",
    "\n",
    "# Predict missing 'deck' values\n",
    "deck_predictions = model.predict(X_unknown)\n",
    "df_advanced.loc[df_advanced['deck'].isnull(), 'deck'] = label_encoder.inverse_transform(deck_predictions)\n",
    "\n",
    "print(df_advanced['deck'].isnull().sum())"
   ]
  },
  {
   "cell_type": "code",
   "execution_count": 96,
   "metadata": {},
   "outputs": [
    {
     "name": "stdout",
     "output_type": "stream",
     "text": [
      "F    337\n",
      "E    193\n",
      "D    140\n",
      "C     76\n",
      "G     65\n",
      "B     59\n",
      "A     21\n",
      "Name: deck, dtype: int64\n"
     ]
    }
   ],
   "source": [
    "print(df_advanced['deck'].value_counts())"
   ]
  },
  {
   "cell_type": "code",
   "execution_count": 97,
   "metadata": {},
   "outputs": [
    {
     "name": "stdout",
     "output_type": "stream",
     "text": [
      "\n",
      "Missing values after imputation:\n",
      "survived       0\n",
      "pclass         0\n",
      "sex            0\n",
      "age            0\n",
      "sibsp          0\n",
      "parch          0\n",
      "fare           0\n",
      "embarked       0\n",
      "class          0\n",
      "who            0\n",
      "adult_male     0\n",
      "deck           0\n",
      "embark_town    0\n",
      "alive          0\n",
      "alone          0\n",
      "dtype: int64\n"
     ]
    }
   ],
   "source": [
    "print(\"\\nMissing values after imputation:\")\n",
    "print(df_advanced.isnull().sum())"
   ]
  },
  {
   "cell_type": "code",
   "execution_count": 98,
   "metadata": {},
   "outputs": [
    {
     "data": {
      "text/html": [
       "<div>\n",
       "<style scoped>\n",
       "    .dataframe tbody tr th:only-of-type {\n",
       "        vertical-align: middle;\n",
       "    }\n",
       "\n",
       "    .dataframe tbody tr th {\n",
       "        vertical-align: top;\n",
       "    }\n",
       "\n",
       "    .dataframe thead th {\n",
       "        text-align: right;\n",
       "    }\n",
       "</style>\n",
       "<table border=\"1\" class=\"dataframe\">\n",
       "  <thead>\n",
       "    <tr style=\"text-align: right;\">\n",
       "      <th></th>\n",
       "      <th>survived</th>\n",
       "      <th>pclass</th>\n",
       "      <th>sex</th>\n",
       "      <th>age</th>\n",
       "      <th>sibsp</th>\n",
       "      <th>parch</th>\n",
       "      <th>fare</th>\n",
       "      <th>embarked</th>\n",
       "      <th>class</th>\n",
       "      <th>who</th>\n",
       "      <th>adult_male</th>\n",
       "      <th>deck</th>\n",
       "      <th>embark_town</th>\n",
       "      <th>alive</th>\n",
       "      <th>alone</th>\n",
       "    </tr>\n",
       "  </thead>\n",
       "  <tbody>\n",
       "    <tr>\n",
       "      <th>0</th>\n",
       "      <td>0</td>\n",
       "      <td>3</td>\n",
       "      <td>1</td>\n",
       "      <td>22.0</td>\n",
       "      <td>1</td>\n",
       "      <td>0</td>\n",
       "      <td>7.2500</td>\n",
       "      <td>2</td>\n",
       "      <td>Third</td>\n",
       "      <td>man</td>\n",
       "      <td>True</td>\n",
       "      <td>F</td>\n",
       "      <td>2</td>\n",
       "      <td>no</td>\n",
       "      <td>False</td>\n",
       "    </tr>\n",
       "    <tr>\n",
       "      <th>1</th>\n",
       "      <td>1</td>\n",
       "      <td>1</td>\n",
       "      <td>0</td>\n",
       "      <td>38.0</td>\n",
       "      <td>1</td>\n",
       "      <td>0</td>\n",
       "      <td>71.2833</td>\n",
       "      <td>0</td>\n",
       "      <td>First</td>\n",
       "      <td>woman</td>\n",
       "      <td>False</td>\n",
       "      <td>C</td>\n",
       "      <td>0</td>\n",
       "      <td>yes</td>\n",
       "      <td>False</td>\n",
       "    </tr>\n",
       "    <tr>\n",
       "      <th>2</th>\n",
       "      <td>1</td>\n",
       "      <td>3</td>\n",
       "      <td>0</td>\n",
       "      <td>26.0</td>\n",
       "      <td>0</td>\n",
       "      <td>0</td>\n",
       "      <td>7.9250</td>\n",
       "      <td>2</td>\n",
       "      <td>Third</td>\n",
       "      <td>woman</td>\n",
       "      <td>False</td>\n",
       "      <td>E</td>\n",
       "      <td>2</td>\n",
       "      <td>yes</td>\n",
       "      <td>True</td>\n",
       "    </tr>\n",
       "    <tr>\n",
       "      <th>3</th>\n",
       "      <td>1</td>\n",
       "      <td>1</td>\n",
       "      <td>0</td>\n",
       "      <td>35.0</td>\n",
       "      <td>1</td>\n",
       "      <td>0</td>\n",
       "      <td>53.1000</td>\n",
       "      <td>2</td>\n",
       "      <td>First</td>\n",
       "      <td>woman</td>\n",
       "      <td>False</td>\n",
       "      <td>C</td>\n",
       "      <td>2</td>\n",
       "      <td>yes</td>\n",
       "      <td>False</td>\n",
       "    </tr>\n",
       "    <tr>\n",
       "      <th>4</th>\n",
       "      <td>0</td>\n",
       "      <td>3</td>\n",
       "      <td>1</td>\n",
       "      <td>35.0</td>\n",
       "      <td>0</td>\n",
       "      <td>0</td>\n",
       "      <td>8.0500</td>\n",
       "      <td>2</td>\n",
       "      <td>Third</td>\n",
       "      <td>man</td>\n",
       "      <td>True</td>\n",
       "      <td>E</td>\n",
       "      <td>2</td>\n",
       "      <td>no</td>\n",
       "      <td>True</td>\n",
       "    </tr>\n",
       "  </tbody>\n",
       "</table>\n",
       "</div>"
      ],
      "text/plain": [
       "   survived  pclass  sex   age  sibsp  parch     fare  embarked  class    who  \\\n",
       "0         0       3    1  22.0      1      0   7.2500         2  Third    man   \n",
       "1         1       1    0  38.0      1      0  71.2833         0  First  woman   \n",
       "2         1       3    0  26.0      0      0   7.9250         2  Third  woman   \n",
       "3         1       1    0  35.0      1      0  53.1000         2  First  woman   \n",
       "4         0       3    1  35.0      0      0   8.0500         2  Third    man   \n",
       "\n",
       "   adult_male deck  embark_town alive  alone  \n",
       "0        True    F            2    no  False  \n",
       "1       False    C            0   yes  False  \n",
       "2       False    E            2   yes   True  \n",
       "3       False    C            2   yes  False  \n",
       "4        True    E            2    no   True  "
      ]
     },
     "execution_count": 98,
     "metadata": {},
     "output_type": "execute_result"
    }
   ],
   "source": [
    "df_advanced.head()"
   ]
  },
  {
   "cell_type": "code",
   "execution_count": 99,
   "metadata": {},
   "outputs": [],
   "source": [
    "df = df_advanced.copy()"
   ]
  },
  {
   "cell_type": "markdown",
   "metadata": {},
   "source": [
    "##### **Q26: How do you encode categorical variables for use in a neural network?**"
   ]
  },
  {
   "cell_type": "code",
   "execution_count": 100,
   "metadata": {},
   "outputs": [
    {
     "name": "stdout",
     "output_type": "stream",
     "text": [
      "Categorical columns to be encoded: ['who', 'alive']\n"
     ]
    }
   ],
   "source": [
    "# Use label and one-hot encoding\n",
    "from sklearn.preprocessing import LabelEncoder, OneHotEncoder\n",
    "\n",
    "# Identify categorical columns\n",
    "categorical_columns = df.select_dtypes(include=['object']).columns.tolist()\n",
    "print(f\"Categorical columns to be encoded: {categorical_columns}\")"
   ]
  },
  {
   "cell_type": "code",
   "execution_count": 101,
   "metadata": {},
   "outputs": [
    {
     "data": {
      "text/plain": [
       "survived          int64\n",
       "pclass            int64\n",
       "sex               int64\n",
       "age             float64\n",
       "sibsp             int64\n",
       "parch             int64\n",
       "fare            float64\n",
       "embarked          int64\n",
       "class          category\n",
       "who              object\n",
       "adult_male         bool\n",
       "deck           category\n",
       "embark_town       int64\n",
       "alive            object\n",
       "alone              bool\n",
       "dtype: object"
      ]
     },
     "execution_count": 101,
     "metadata": {},
     "output_type": "execute_result"
    }
   ],
   "source": [
    "df.dtypes"
   ]
  },
  {
   "cell_type": "markdown",
   "metadata": {},
   "source": [
    "##### **Q27: How do you split a real-world dataset into training, validation, and test sets?**"
   ]
  },
  {
   "cell_type": "markdown",
   "metadata": {},
   "source": [
    "##### **Q28: How do you train a neural network on a real-world dataset?**"
   ]
  },
  {
   "cell_type": "markdown",
   "metadata": {},
   "source": [
    "## Conclusion"
   ]
  },
  {
   "cell_type": "markdown",
   "metadata": {},
   "source": [
    "## Further exercises"
   ]
  },
  {
   "cell_type": "markdown",
   "metadata": {},
   "source": [
    "##### **Q29: How do you implement a neural network from scratch without using PyTorch's built-in functions?**"
   ]
  },
  {
   "cell_type": "markdown",
   "metadata": {},
   "source": [
    "##### **Q30: How do you experiment with different neural network architectures to see their impact on performance?**"
   ]
  },
  {
   "cell_type": "markdown",
   "metadata": {},
   "source": [
    "##### **Q31: How do you apply a neural network to a new dataset and evaluate its performance?**"
   ]
  },
  {
   "cell_type": "markdown",
   "metadata": {},
   "source": [
    "##### **Q32: How do you improve neural network performance with advanced techniques like dropout or batch normalization?**"
   ]
  },
  {
   "cell_type": "markdown",
   "metadata": {},
   "source": [
    "##### **Q33: How do you interpret and visualize the decisions made by a neural network?**"
   ]
  }
 ],
 "metadata": {
  "kernelspec": {
   "display_name": "Python 3",
   "language": "python",
   "name": "python3"
  },
  "language_info": {
   "codemirror_mode": {
    "name": "ipython",
    "version": 3
   },
   "file_extension": ".py",
   "mimetype": "text/x-python",
   "name": "python",
   "nbconvert_exporter": "python",
   "pygments_lexer": "ipython3",
   "version": "3.11.2"
  }
 },
 "nbformat": 4,
 "nbformat_minor": 2
}
