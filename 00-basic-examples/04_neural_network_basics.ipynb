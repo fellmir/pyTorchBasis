{
 "cells": [
  {
   "cell_type": "markdown",
   "metadata": {},
   "source": [
    "# Neural network basics\n",
    "\n",
    "Welcome to the `04_neural_network_basics` notebook. This part of the portfolio emphasises on building and understanding neural networks.\n",
    "\n",
    "Throughout this notebook, topics such as defining neural network architectures and implementing both forward and backward propagation are explored. It also covers training procedures, model evaluation, and techniques to save and load trained models."
   ]
  },
  {
   "cell_type": "markdown",
   "metadata": {},
   "source": [
    "## Table of contents\n",
    "\n",
    "1. [Understanding neural networks](#understanding-neural-networks)\n",
    "2. [Setting up the environment](#setting-up-the-environment)\n",
    "3. [Building a neural network](#building-a-neural-network)\n",
    "4. [Forward propagation](#forward-propagation)\n",
    "5. [Loss function](#loss-function)\n",
    "6. [Backpropagation](#backpropagation)\n",
    "7. [Training the neural network](#training-the-neural-network)\n",
    "8. [Evaluating the model](#evaluating-the-model)\n",
    "9. [Saving and loading the model](#saving-and-loading-the-model)\n",
    "10. [Optimizations](#optimizations)\n",
    "11. [Handling real-world data](#handling-real-world-data)\n",
    "12. [Further exercises](#further-exercises)"
   ]
  },
  {
   "cell_type": "markdown",
   "metadata": {},
   "source": [
    "## Understanding neural networks\n",
    "\n",
    "Neural networks are a foundational technique in machine learning and artificial intelligence, utilized for identifying patterns and relationships within data. Unlike traditional algorithms, which often rely on predefined rules, neural networks learn directly from examples, making them highly adaptable and powerful. These models can handle a variety of tasks, from classification to regression, by adjusting their parameters through training, thereby improving their performance with more data and experience."
   ]
  },
  {
   "cell_type": "markdown",
   "metadata": {},
   "source": [
    "### **Key concepts**\n",
    "\n",
    "#### **Neurons and layers**\n",
    "Neural networks are inspired by the structure and function of the human brain, consisting of interconnected units called neurons. These neurons are organized into layers: the input layer, hidden layers, and the output layer.\n",
    "\n",
    "- **Input layer**: The first layer in the network that receives the input data. Each neuron in this layer represents a feature of the input data.\n",
    "- **Hidden layers**: Layers between the input and output layers. These layers perform various transformations on the inputs received, allowing the network to learn complex patterns. There can be multiple hidden layers, which is why deep neural networks are also known as deep learning models.\n",
    "- **Output layer**: The final layer that produces the output of the network. The number of neurons in this layer corresponds to the number of desired outputs.\n",
    "\n",
    "#### **Activation functions**\n",
    "Activation functions introduce non-linearity into the network, enabling it to learn and model complex relationships in the data. Without activation functions, the network would only be able to model linear relationships.\n",
    "\n",
    "- **ReLU (Rectified Linear Unit)**: Outputs the input directly if it is positive; otherwise, it outputs zero. It is widely used due to its simplicity and effectiveness.\n",
    "- **Sigmoid**: Compresses the input to a range between 0 and 1. It is often used in binary classification problems.\n",
    "- **Tanh (Hyperbolic tangent)**: Compresses the input to a range between -1 and 1, centering the data. It is often used in practice but can lead to issues with gradient vanishing.\n",
    "\n",
    "#### **Forward propagation**\n",
    "Forward propagation is the process of passing input data through the network to obtain an output. During this process, each neuron computes a weighted sum of its inputs, adds a bias term, and applies an activation function to produce its output. The output of one layer becomes the input to the next layer, and this process continues until the final output layer.\n",
    "\n",
    "#### **Loss function**\n",
    "The loss function measures the difference between the predicted outputs and the actual targets. It quantifies how well the neural network is performing. The goal of training the network is to minimize this loss.\n",
    "\n",
    "- **Mean Squared Error (MSE)**: Commonly used for regression tasks, it calculates the average squared difference between predicted and actual values.\n",
    "- **Cross-entropy loss**: Used for classification tasks, it measures the difference between the predicted probability distribution and the actual distribution.\n",
    "\n",
    "#### **Backpropagation**\n",
    "Backpropagation is the process of updating the network's weights to minimize the loss. It involves calculating the gradient of the loss function with respect to each weight and adjusting the weights in the opposite direction of the gradient. This ensures that the loss decreases with each iteration.\n",
    "\n",
    "#### **Optimizers**\n",
    "Optimizers are algorithms that adjust the weights of the network to minimize the loss. They use the gradients calculated during backpropagation to update the weights.\n",
    "\n",
    "- **Stochastic Gradient Descent (SGD)**: Updates the weights using a small, randomly chosen subset of the data (a mini-batch). This makes the optimization process faster and allows the model to learn from a diverse set of examples.\n",
    "- **Adam (Adaptive Moment Estimation)**: An extension of SGD that adapts the learning rate for each parameter, making it more efficient and robust in practice.\n",
    "\n",
    "#### **Training and validation**\n",
    "Training a neural network involves iteratively feeding data through the network, calculating the loss, and updating the weights. This process is repeated for a specified number of epochs (complete passes through the training dataset).\n",
    "\n",
    "- **Training set**: The subset of data used to train the model.\n",
    "- **Validation set**: A separate subset of data used to evaluate the model's performance during training, helping to tune hyperparameters and prevent overfitting.\n",
    "\n",
    "#### **Overfitting and underfitting**\n",
    "- **Overfitting**: Occurs when the model learns the training data too well, capturing noise and specific patterns that do not generalize to new data. This results in poor performance on the validation set.\n",
    "- **Underfitting**: Occurs when the model is too simple to capture the underlying patterns in the data, leading to poor performance on both the training and validation sets.\n",
    "\n",
    "#### **Regularization techniques**\n",
    "Regularization techniques are used to prevent overfitting by adding constraints or penalties to the model.\n",
    "\n",
    "- **Dropout**: Randomly drops a fraction of neurons during training, forcing the network to learn redundant representations and improving generalization.\n",
    "- **L2 regularization (Ridge)**: Adds a penalty proportional to the sum of the squares of the weights, discouraging large weights and promoting simpler models.\n",
    "\n",
    "#### **Model evaluation**\n",
    "After training, the model's performance is evaluated on a test set that was not seen during training. This provides an unbiased estimate of how well the model generalizes to new data.\n",
    "\n",
    "- **Accuracy**: The proportion of correctly classified instances out of the total instances.\n",
    "- **Precision, recall, and F1 score**: Metrics that provide deeper insights into the model's performance, especially for imbalanced datasets."
   ]
  },
  {
   "cell_type": "markdown",
   "metadata": {},
   "source": [
    "### **Maths**\n",
    "\n",
    "#### **Forward propagation**\n",
    "\n",
    "Forward propagation is the process by which input data passes through the network to generate an output. It involves the following steps:\n",
    "\n",
    "##### **Weighted sum**\n",
    "For a given neuron $ j $ in layer $ l $, the input $ z_j^{(l)} $ is computed as:\n",
    "$$ z_j^{(l)} = \\sum_{i=1}^{n} w_{ij}^{(l-1)} a_i^{(l-1)} + b_j^{(l)} $$\n",
    "where:\n",
    "- $ w_{ij}^{(l-1)} $ is the weight connecting neuron $ i $ in layer $ l-1 $ to neuron $ j $ in layer $ l $.\n",
    "- $ a_i^{(l-1)} $ is the activation of neuron $ i $ in layer $ l-1 $.\n",
    "- $ b_j^{(l)} $ is the bias term for neuron $ j $ in layer $ l $.\n",
    "- $ n $ is the number of neurons in layer $ l-1 $.\n",
    "\n",
    "##### **Activation function**\n",
    "The output $ a_j^{(l)} $ of neuron $ j $ in layer $ l $ is obtained by applying an activation function $ f $ to the weighted sum:\n",
    "$$ a_j^{(l)} = f(z_j^{(l)}) $$\n",
    "\n",
    "Common activation functions include:\n",
    "- **Sigmoid**: $ f(z) = \\frac{1}{1 + e^{-z}} $\n",
    "- **Tanh**: $ f(z) = \\tanh(z) $\n",
    "- **ReLU (Rectified Linear Unit)**: $ f(z) = \\max(0, z) $\n",
    "\n",
    "#### **Loss function**\n",
    "\n",
    "The loss function quantifies the difference between the predicted output and the actual target. The goal of training a neural network is to minimize this loss. Common loss functions include:\n",
    "\n",
    "- **Mean Squared Error (MSE)**: Used for regression tasks, defined as:\n",
    "  $$ \\text{MSE} = \\frac{1}{m} \\sum_{i=1}^{m} (y_i - \\hat{y_i})^2 $$\n",
    "  where $ y_i $ is the true value and $ \\hat{y_i} $ is the predicted value.\n",
    "- **Cross-entropy loss**: Used for classification tasks, defined as:\n",
    "  $$ \\text{Cross-Entropy} = -\\frac{1}{m} \\sum_{i=1}^{m} \\sum_{j=1}^{k} y_{ij} \\log(\\hat{y_{ij}}) $$\n",
    "  where $ y_{ij} $ is the binary indicator (0 or 1) if class label $ j $ is the correct classification for input $ i $, and $ \\hat{y_{ij}} $ is the predicted probability of $ i $ being in class $ j $.\n",
    "\n",
    "#### **Backpropagation**\n",
    "\n",
    "Backpropagation is the process of adjusting the network's weights to minimize the loss. It involves calculating the gradient of the loss function with respect to each weight and updating the weights using gradient descent.\n",
    "\n",
    "##### **Gradient descent**\n",
    "The weight update rule for gradient descent is:\n",
    "$$ w_{ij} = w_{ij} - \\eta \\frac{\\partial L}{\\partial w_{ij}} $$\n",
    "where:\n",
    "- $ \\eta $ is the learning rate, a hyperparameter that controls the step size of the update.\n",
    "- $ \\frac{\\partial L}{\\partial w_{ij}} $ is the partial derivative of the loss function with respect to the weight $ w_{ij} $.\n",
    "\n",
    "##### **Calculating gradients**\n",
    "The gradients are computed using the chain rule of calculus. For a given weight $ w_{ij} $, the gradient is calculated as:\n",
    "$$ \\frac{\\partial L}{\\partial w_{ij}} = \\frac{\\partial L}{\\partial a_j} \\cdot \\frac{\\partial a_j}{\\partial z_j} \\cdot \\frac{\\partial z_j}{\\partial w_{ij}} $$\n",
    "\n",
    "The partial derivatives are:\n",
    "- $ \\frac{\\partial L}{\\partial a_j} $: The derivative of the loss with respect to the neuron's activation, which depends on the loss function.\n",
    "- $ \\frac{\\partial a_j}{\\partial z_j} $: The derivative of the activation function.\n",
    "- $ \\frac{\\partial z_j}{\\partial w_{ij}} $: The derivative of the weighted sum with respect to the weight, which is the input to the neuron.\n",
    "\n",
    "#### **Training the network**\n",
    "\n",
    "Training a neural network involves the following steps:\n",
    "1. **Initialize weights**: Set the initial values of the weights, typically using small random values.\n",
    "2. **Forward propagation**: Compute the outputs of the network for a batch of input data.\n",
    "3. **Compute loss**: Calculate the loss using the predicted outputs and the true targets.\n",
    "4. **Backpropagation**: Compute the gradients of the loss with respect to the weights.\n",
    "5. **Update weights**: Adjust the weights using gradient descent.\n",
    "6. **Repeat**: Iterate over the training data for a specified number of epochs until the loss converges.\n",
    "\n",
    "#### **Regularization techniques**\n",
    "\n",
    "To prevent overfitting, various regularization techniques can be applied:\n",
    "\n",
    "- **L2 regularization (Ridge)**: Adds a penalty proportional to the sum of the squares of the weights to the loss function.\n",
    "  $$ L_{\\text{ridge}} = L + \\lambda \\sum_{j} w_j^2 $$\n",
    "  where $ \\lambda $ is the regularization parameter.\n",
    "- **L1 regularization (Lasso)**: Adds a penalty proportional to the sum of the absolute values of the weights to the loss function.\n",
    "  $$ L_{\\text{lasso}} = L + \\lambda \\sum_{j} |w_j| $$\n",
    "- **Dropout**: Randomly sets a fraction of the neurons to zero during training, which helps prevent the network from becoming too reliant on any single neuron and improves generalization."
   ]
  },
  {
   "cell_type": "markdown",
   "metadata": {},
   "source": [
    "## Setting up the environment"
   ]
  },
  {
   "cell_type": "markdown",
   "metadata": {},
   "source": [
    "##### **Q1: How do you install the necessary libraries for building neural networks in PyTorch?**"
   ]
  },
  {
   "cell_type": "code",
   "execution_count": 1,
   "metadata": {},
   "outputs": [],
   "source": [
    "# !pip install torch torchvision torchaudio --index-url https://download.pytorch.org/whl/cu121\n",
    "# !pip install numpy matplotlib scikit-learn pandas"
   ]
  },
  {
   "cell_type": "code",
   "execution_count": 2,
   "metadata": {},
   "outputs": [
    {
     "name": "stdout",
     "output_type": "stream",
     "text": [
      "CUDA is available. PyTorch version: 2.4.0+cu121\n"
     ]
    }
   ],
   "source": [
    "# Verify CUDA availability\n",
    "import torch\n",
    "\n",
    "if torch.cuda.is_available():\n",
    "    print(\"CUDA is available. PyTorch version:\", torch.__version__)\n",
    "else:\n",
    "    print(\"CUDA is not available. PyTorch version:\", torch.__version__)"
   ]
  },
  {
   "cell_type": "markdown",
   "metadata": {},
   "source": [
    "##### **Q2: How do you import the required modules for building neural networks in PyTorch?**"
   ]
  },
  {
   "cell_type": "code",
   "execution_count": 3,
   "metadata": {},
   "outputs": [],
   "source": [
    "# import torch\n",
    "import torch.nn as nn\n",
    "import torch.optim as optim\n",
    "import torch.nn.functional as F\n",
    "from torch.utils.data import DataLoader, Dataset\n",
    "import numpy as np\n",
    "import pandas as pd\n",
    "import matplotlib.pyplot as plt"
   ]
  },
  {
   "cell_type": "markdown",
   "metadata": {},
   "source": [
    "## Building a neural network"
   ]
  },
  {
   "cell_type": "markdown",
   "metadata": {},
   "source": [
    "##### **Q3: How do you define the architecture of a neural network using `nn.Module` in PyTorch?**"
   ]
  },
  {
   "cell_type": "code",
   "execution_count": 4,
   "metadata": {},
   "outputs": [
    {
     "name": "stdout",
     "output_type": "stream",
     "text": [
      "SimpleNet(\n",
      "  (fc1): Linear(in_features=784, out_features=128, bias=True)\n",
      "  (fc2): Linear(in_features=128, out_features=64, bias=True)\n",
      "  (fc3): Linear(in_features=64, out_features=10, bias=True)\n",
      ")\n"
     ]
    }
   ],
   "source": [
    "# Define a simple neural network model\n",
    "class SimpleNet(nn.Module):\n",
    "    def __init__(self):\n",
    "        super(SimpleNet, self).__init__()\n",
    "        # Define layers\n",
    "        self.fc1 = nn.Linear(784, 128)  # Input layer to first hidden layer\n",
    "        self.fc2 = nn.Linear(128, 64)   # First hidden layer to second hidden layer\n",
    "        self.fc3 = nn.Linear(64, 10)    # Second hidden layer to output layer\n",
    "    \n",
    "    def forward(self, x):\n",
    "        # Define the forward pass\n",
    "        x = F.relu(self.fc1(x))  # Apply ReLU activation after first layer\n",
    "        x = F.relu(self.fc2(x))  # Apply ReLU activation after second layer\n",
    "        x = self.fc3(x)          # Output layer\n",
    "        return x\n",
    "\n",
    "# Instantiate the network\n",
    "model = SimpleNet()\n",
    "\n",
    "# Print the model architecture\n",
    "print(model)"
   ]
  },
  {
   "cell_type": "markdown",
   "metadata": {},
   "source": [
    "##### **Q4: How do you initialize the weights and biases of a neural network?**"
   ]
  },
  {
   "cell_type": "code",
   "execution_count": 5,
   "metadata": {},
   "outputs": [
    {
     "name": "stdout",
     "output_type": "stream",
     "text": [
      "Parameter containing:\n",
      "tensor([[-0.0791,  0.0649,  0.0729,  ...,  0.0303, -0.0711, -0.0048],\n",
      "        [-0.0352,  0.0073,  0.0286,  ..., -0.0713,  0.0488,  0.0788],\n",
      "        [-0.0217, -0.0691,  0.0122,  ..., -0.0649, -0.0760,  0.0450],\n",
      "        ...,\n",
      "        [ 0.0798,  0.0457,  0.0063,  ..., -0.0813, -0.0844,  0.0769],\n",
      "        [ 0.0378,  0.0527,  0.0442,  ...,  0.0228,  0.0755, -0.0856],\n",
      "        [-0.0389,  0.0547,  0.0706,  ...,  0.0517, -0.0811,  0.0389]],\n",
      "       requires_grad=True)\n",
      "Parameter containing:\n",
      "tensor([0., 0., 0., 0., 0., 0., 0., 0., 0., 0., 0., 0., 0., 0., 0., 0., 0., 0., 0., 0., 0., 0., 0., 0.,\n",
      "        0., 0., 0., 0., 0., 0., 0., 0., 0., 0., 0., 0., 0., 0., 0., 0., 0., 0., 0., 0., 0., 0., 0., 0.,\n",
      "        0., 0., 0., 0., 0., 0., 0., 0., 0., 0., 0., 0., 0., 0., 0., 0., 0., 0., 0., 0., 0., 0., 0., 0.,\n",
      "        0., 0., 0., 0., 0., 0., 0., 0., 0., 0., 0., 0., 0., 0., 0., 0., 0., 0., 0., 0., 0., 0., 0., 0.,\n",
      "        0., 0., 0., 0., 0., 0., 0., 0., 0., 0., 0., 0., 0., 0., 0., 0., 0., 0., 0., 0., 0., 0., 0., 0.,\n",
      "        0., 0., 0., 0., 0., 0., 0., 0.], requires_grad=True)\n"
     ]
    }
   ],
   "source": [
    "# One way to do it: custom initialization\n",
    "import torch.nn.init as init\n",
    "\n",
    "class CustomNet(nn.Module):\n",
    "    def __init__(self):\n",
    "        super(CustomNet, self).__init__()\n",
    "        self.fc1 = nn.Linear(784, 128)\n",
    "        self.fc2 = nn.Linear(128, 64)\n",
    "        self.fc3 = nn.Linear(64, 10)\n",
    "        \n",
    "        self._initialize_weights()\n",
    "    \n",
    "    def forward(self, x):\n",
    "        x = F.relu(self.fc1(x))\n",
    "        x = F.relu(self.fc2(x))\n",
    "        x = self.fc3(x)\n",
    "        return x\n",
    "    \n",
    "    def _initialize_weights(self):\n",
    "        # Custom initialization of weights and biases\n",
    "        init.kaiming_uniform_(self.fc1.weight, nonlinearity='relu')  # Suitable for layers with ReLU activation functions. Maintains variance of input and output distributions\n",
    "        init.constant_(self.fc1.bias, 0)  # Sets biases to a constant value, often zero\n",
    "        \n",
    "        init.kaiming_uniform_(self.fc2.weight, nonlinearity='relu')\n",
    "        init.constant_(self.fc2.bias, 0)\n",
    "        \n",
    "        init.xavier_uniform_(self.fc3.weight)  # Suitable for layers with linear or tanh activation functions. Keeps variance of activations uniform across layers\n",
    "        init.constant_(self.fc3.bias, 0)\n",
    "\n",
    "# Instantiate the network\n",
    "model = CustomNet()\n",
    "\n",
    "# Print the initialized weights and biases\n",
    "print(model.fc1.weight)\n",
    "print(model.fc1.bias)"
   ]
  },
  {
   "cell_type": "code",
   "execution_count": 6,
   "metadata": {},
   "outputs": [
    {
     "data": {
      "text/plain": [
       "CustomNet(\n",
       "  (fc1): Linear(in_features=784, out_features=128, bias=True)\n",
       "  (fc2): Linear(in_features=128, out_features=64, bias=True)\n",
       "  (fc3): Linear(in_features=64, out_features=10, bias=True)\n",
       ")"
      ]
     },
     "execution_count": 6,
     "metadata": {},
     "output_type": "execute_result"
    }
   ],
   "source": [
    "# Alternative: use \"apply\" function\n",
    "def init_weights(m):\n",
    "    if isinstance(m, nn.Linear):\n",
    "        init.kaiming_uniform_(m.weight, nonlinearity='relu')\n",
    "        init.constant_(m.bias, 0)\n",
    "\n",
    "model.apply(init_weights)"
   ]
  },
  {
   "cell_type": "markdown",
   "metadata": {},
   "source": [
    "##### **Q5: How do you choose activation functions for the layers of your neural network?**"
   ]
  },
  {
   "cell_type": "code",
   "execution_count": 7,
   "metadata": {},
   "outputs": [],
   "source": [
    "# ReLU: Widely used in hidden layers of deep neural networks.\n",
    "def relu(x):\n",
    "    return F.relu(x)\n",
    "\n",
    "# Leaky ReLU: Alternative to ReLU to address the dying ReLU problem.\n",
    "def leaky_relu(x, negative_slope=0.01):\n",
    "    return F.leaky_relu(x, negative_slope=negative_slope)\n",
    "\n",
    "# Sigmoid: Used in the output layer for binary classification.\n",
    "def sigmoid(x):\n",
    "    return torch.sigmoid(x)\n",
    "\n",
    "# Tanh: Used in hidden layers when data is normalized.\n",
    "def tanh(x):\n",
    "    return torch.tanh(x)\n",
    "\n",
    "# Softmax: Used in the output layer for multi-class classification.\n",
    "def softmax(x, dim=0):  # Note: Adjust dim as needed for higher-dimensional tensors\n",
    "    return F.softmax(x, dim=dim)\n",
    "\n",
    "# Swish: Alternative to ReLU for potential performance gains.\n",
    "def swish(x):\n",
    "    return x * torch.sigmoid(x)"
   ]
  },
  {
   "cell_type": "code",
   "execution_count": 8,
   "metadata": {},
   "outputs": [
    {
     "name": "stdout",
     "output_type": "stream",
     "text": [
      "Input Tensor:  tensor([-1.,  0.,  1.,  2.])\n",
      "ReLU:  tensor([0., 0., 1., 2.])\n",
      "Leaky ReLU:  tensor([-0.0100,  0.0000,  1.0000,  2.0000])\n",
      "Sigmoid:  tensor([0.2689, 0.5000, 0.7311, 0.8808])\n",
      "Tanh:  tensor([-0.7616,  0.0000,  0.7616,  0.9640])\n",
      "Softmax:  tensor([0.0321, 0.0871, 0.2369, 0.6439])\n",
      "Swish:  tensor([-0.2689,  0.0000,  0.7311,  1.7616])\n"
     ]
    }
   ],
   "source": [
    "# Example tensor\n",
    "x = torch.tensor([-1.0, 0.0, 1.0, 2.0])\n",
    "\n",
    "# Apply and print each activation function\n",
    "print(\"Input Tensor: \", x)\n",
    "print(\"ReLU: \", relu(x))\n",
    "print(\"Leaky ReLU: \", leaky_relu(x))\n",
    "print(\"Sigmoid: \", sigmoid(x))\n",
    "print(\"Tanh: \", tanh(x))\n",
    "print(\"Softmax: \", softmax(x, dim=0))\n",
    "print(\"Swish: \", swish(x))"
   ]
  },
  {
   "cell_type": "code",
   "execution_count": 9,
   "metadata": {},
   "outputs": [
    {
     "name": "stdout",
     "output_type": "stream",
     "text": [
      "CustomNet(\n",
      "  (fc1): Linear(in_features=784, out_features=128, bias=True)\n",
      "  (fc2): Linear(in_features=128, out_features=64, bias=True)\n",
      "  (fc3): Linear(in_features=64, out_features=10, bias=True)\n",
      ")\n"
     ]
    }
   ],
   "source": [
    "# In practice, using Leaky ReLU:\n",
    "class CustomNet(nn.Module):\n",
    "    def __init__(self):\n",
    "        super(CustomNet, self).__init__()\n",
    "        self.fc1 = nn.Linear(784, 128)\n",
    "        self.fc2 = nn.Linear(128, 64)\n",
    "        self.fc3 = nn.Linear(64, 10)\n",
    "    \n",
    "    def forward(self, x):\n",
    "        x = F.relu(self.fc1(x))  # ReLU activation for hidden layer 1\n",
    "        x = F.leaky_relu(self.fc2(x), negative_slope=0.01)  # Leaky ReLU for hidden layer 2\n",
    "        x = self.fc3(x)\n",
    "        return F.softmax(x, dim=1)  # Softmax for output layer\n",
    "\n",
    "model = CustomNet()\n",
    "\n",
    "print(model)"
   ]
  },
  {
   "cell_type": "markdown",
   "metadata": {},
   "source": [
    "## Forward propagation"
   ]
  },
  {
   "cell_type": "markdown",
   "metadata": {},
   "source": [
    "##### **Q6: What is the forward pass in a neural network?**\n",
    "\n",
    "It's the process of passing input data through the network's layers to produce an output. This involves applying a series of linear transformations (like matrix multiplications) and nonlinear transformations (activation functions) to the input data, layer by layer, until the final output is obtained.\n",
    "\n",
    "In practice:"
   ]
  },
  {
   "cell_type": "code",
   "execution_count": 10,
   "metadata": {},
   "outputs": [
    {
     "name": "stdout",
     "output_type": "stream",
     "text": [
      "Output of the forward pass: tensor([[-0.1127,  0.0622,  0.1767, -0.0688, -0.1772, -0.0166, -0.0139, -0.0570,\n",
      "          0.1346, -0.0283]], grad_fn=<AddmmBackward0>)\n"
     ]
    }
   ],
   "source": [
    "# Define a simple neural network\n",
    "class SimpleNet(nn.Module):\n",
    "    def __init__(self):\n",
    "        super(SimpleNet, self).__init__()\n",
    "        self.fc1 = nn.Linear(784, 128)\n",
    "        self.fc2 = nn.Linear(128, 64)\n",
    "        self.fc3 = nn.Linear(64, 10)\n",
    "    \n",
    "    def forward(self, x):\n",
    "        # Forward pass: apply linear transformation and activation function\n",
    "        x = F.relu(self.fc1(x))  # First hidden layer with ReLU activation\n",
    "        x = F.relu(self.fc2(x))  # Second hidden layer with ReLU activation\n",
    "        x = self.fc3(x)          # Output layer (typically followed by a softmax or other activation in practice)\n",
    "        return x\n",
    "\n",
    "model = SimpleNet()\n",
    "\n",
    "# Example input (batch size of 1, 784 features)\n",
    "input_data = torch.randn(1, 784)\n",
    "\n",
    "# Perform a forward pass\n",
    "output = model(input_data)\n",
    "\n",
    "# Print the output\n",
    "print(\"Output of the forward pass:\", output)"
   ]
  },
  {
   "cell_type": "markdown",
   "metadata": {},
   "source": [
    "##### **Q7: How do you compute the outputs of a neural network during the forward pass?**"
   ]
  },
  {
   "cell_type": "code",
   "execution_count": 11,
   "metadata": {},
   "outputs": [
    {
     "name": "stdout",
     "output_type": "stream",
     "text": [
      "Output of the forward pass: tensor([[-1.3580e-01,  1.5481e-01, -1.0686e-01,  1.9707e-01,  3.6740e-02,\n",
      "         -7.4521e-02, -2.9760e-05, -6.9173e-02,  1.7592e-01,  8.1282e-02]],\n",
      "       grad_fn=<AddmmBackward0>)\n"
     ]
    }
   ],
   "source": [
    "# Same as above, so no need to redefine the model\n",
    "model = SimpleNet()\n",
    "\n",
    "input_data = torch.randn(1, 784)\n",
    "\n",
    "output = model(input_data)\n",
    "\n",
    "print(\"Output of the forward pass:\", output)"
   ]
  },
  {
   "cell_type": "markdown",
   "metadata": {},
   "source": [
    "## Loss function"
   ]
  },
  {
   "cell_type": "markdown",
   "metadata": {},
   "source": [
    "##### **Q8: How do you define the loss function for a neural network in PyTorch?**"
   ]
  },
  {
   "cell_type": "code",
   "execution_count": 12,
   "metadata": {},
   "outputs": [],
   "source": [
    "# Cross-entropy loss: Used for multi-class classification problems, combining nn.LogSoftmax and nn.NLLLoss in a single class\n",
    "loss_fn = nn.CrossEntropyLoss()\n",
    "\n",
    "# Mean Squared Error (MSE) loss: Used for regression problems\n",
    "loss_fn = nn.MSELoss()\n",
    "\n",
    "# Binary cross-entropy loss: Used for binary classification problems\n",
    "loss_fn = nn.BCELoss()"
   ]
  },
  {
   "cell_type": "code",
   "execution_count": 13,
   "metadata": {},
   "outputs": [
    {
     "name": "stdout",
     "output_type": "stream",
     "text": [
      "Loss: 2.179131269454956\n"
     ]
    }
   ],
   "source": [
    "# Define a simple neural network\n",
    "class SimpleNet(nn.Module):\n",
    "    def __init__(self):\n",
    "        super(SimpleNet, self).__init__()\n",
    "        self.fc1 = nn.Linear(784, 128)\n",
    "        self.fc2 = nn.Linear(128, 64)\n",
    "        self.fc3 = nn.Linear(64, 10)\n",
    "    \n",
    "    def forward(self, x):\n",
    "        x = torch.relu(self.fc1(x))\n",
    "        x = torch.relu(self.fc2(x))\n",
    "        x = self.fc3(x)\n",
    "        return x\n",
    "\n",
    "model = SimpleNet()\n",
    "\n",
    "# Define the loss function\n",
    "loss_fn = nn.CrossEntropyLoss()\n",
    "\n",
    "# Define the optimizer\n",
    "optimizer = optim.Adam(model.parameters(), lr=0.001)\n",
    "\n",
    "input_data = torch.randn(1, 784)\n",
    "target = torch.tensor([3])  # Example target class\n",
    "\n",
    "output = model(input_data)\n",
    "\n",
    "# Compute the loss\n",
    "loss = loss_fn(output, target)\n",
    "\n",
    "# Print the loss\n",
    "print(\"Loss:\", loss.item())"
   ]
  },
  {
   "cell_type": "markdown",
   "metadata": {},
   "source": [
    "##### **Q9: What are some common loss functions used in neural networks?**"
   ]
  },
  {
   "cell_type": "code",
   "execution_count": 14,
   "metadata": {},
   "outputs": [],
   "source": [
    "# Binary cross entropy with logits loss: Used in binary classification problems, combining a sigmoid layer and the BCELoss in a single class\n",
    "loss_fn = nn.BCEWithLogitsLoss()\n",
    "\n",
    "# Kullback-Leibler divergence loss: Used in variational autoencoders and other generative models\n",
    "loss_fn = nn.KLDivLoss()\n",
    "\n",
    "# Huber loss: Used in regression problems, combining advantages of MSE and MAE\n",
    "loss_fn = nn.SmoothL1Loss()\n",
    "\n",
    "# Negative log-likelihood loss: Used in classification tasks with probabilistic outputs\n",
    "loss_fn = nn.NLLLoss()\n",
    "\n",
    "# Cosine embedding loss: Used in similarity learning\n",
    "loss_fn = nn.CosineEmbeddingLoss()"
   ]
  },
  {
   "cell_type": "code",
   "execution_count": 15,
   "metadata": {},
   "outputs": [
    {
     "name": "stdout",
     "output_type": "stream",
     "text": [
      "MSE Loss: 1.7324507236480713\n",
      "Cross Entropy Loss: 1.093959093093872\n"
     ]
    }
   ],
   "source": [
    "# In practice:\n",
    "input_data = torch.randn(1, 5)\n",
    "target_regression = torch.randn(1, 5)\n",
    "\n",
    "input_classification = torch.randn(1, 5)\n",
    "target_classification = torch.tensor([1])\n",
    "\n",
    "# Define a simple linear model\n",
    "model = nn.Linear(5, 5)\n",
    "\n",
    "# Forward pass for regression\n",
    "output_regression = model(input_data)\n",
    "loss_fn_mse = nn.MSELoss()\n",
    "loss_mse = loss_fn_mse(output_regression, target_regression)\n",
    "print(\"MSE Loss:\", loss_mse.item())\n",
    "\n",
    "# Forward pass for classification\n",
    "output_classification = model(input_classification)\n",
    "loss_fn_cross_entropy = nn.CrossEntropyLoss()  # CrossEntropyLoss expects the output to be logits (raw scores) and target to be class indices\n",
    "loss_cross_entropy = loss_fn_cross_entropy(output_classification, target_classification)\n",
    "print(\"Cross Entropy Loss:\", loss_cross_entropy.item())"
   ]
  },
  {
   "cell_type": "markdown",
   "metadata": {},
   "source": [
    "## Backpropagation"
   ]
  },
  {
   "cell_type": "markdown",
   "metadata": {},
   "source": [
    "##### **Q10: What is the backpropagation algorithm and how does it work?**\n",
    "\n",
    "The backpropagation algorithm is a fundamental method used for training artificial neural networks, which works by minimizing the loss function by adjusting the weights of the network through a process called gradient descent. It works as follows:\n",
    "\n",
    "1. **Initialization**:\n",
    "   - Initialize the weights and biases of the network randomly or using specific initialization techniques.\n",
    "\n",
    "2. **Forward pass**:\n",
    "   - For each layer in the network, compute the output by applying the linear transformation and activation function.\n",
    "   - Calculate the loss using the loss function.\n",
    "\n",
    "3. **Compute gradients**:\n",
    "   - Starting from the output layer, compute the gradient of the loss with respect to each weight and bias by applying the chain rule.\n",
    "   - The gradient for a weight is computed as the derivative of the loss with respect to the weight.\n",
    "\n",
    "4. **Update weights**:\n",
    "   - Adjust the weights and biases using the computed gradients. This is typically done using an optimization algorithm like gradient descent.\n",
    "\n",
    "5. **Repeat**:\n",
    "   - Repeat the forward and backward passes for a number of epochs or until the loss converges to a minimum value.\n",
    "\n",
    "In practice:"
   ]
  },
  {
   "cell_type": "code",
   "execution_count": 16,
   "metadata": {},
   "outputs": [
    {
     "name": "stdout",
     "output_type": "stream",
     "text": [
      "Loss: 2.2851223945617676\n"
     ]
    }
   ],
   "source": [
    "# Define a simple neural network\n",
    "class SimpleNet(nn.Module):\n",
    "    def __init__(self):\n",
    "        super(SimpleNet, self).__init__()\n",
    "        self.fc1 = nn.Linear(784, 128)\n",
    "        self.fc2 = nn.Linear(128, 64)\n",
    "        self.fc3 = nn.Linear(64, 10)\n",
    "    \n",
    "    def forward(self, x):\n",
    "        x = torch.relu(self.fc1(x))\n",
    "        x = torch.relu(self.fc2(x))\n",
    "        x = self.fc3(x)\n",
    "        return x\n",
    "\n",
    "# Instantiate the network, loss function, and optimizer\n",
    "model = SimpleNet()\n",
    "loss_fn = nn.CrossEntropyLoss()\n",
    "optimizer = optim.SGD(model.parameters(), lr=0.01)\n",
    "\n",
    "input_data = torch.randn(64, 784)  # Batch of 64 samples, each with 784 features\n",
    "target = torch.randint(0, 10, (64,))  # Random target classes for the batch\n",
    "\n",
    "# Forward pass\n",
    "output = model(input_data)\n",
    "loss = loss_fn(output, target)\n",
    "\n",
    "# Backward pass and optimization\n",
    "optimizer.zero_grad()  # Zero the gradients\n",
    "loss.backward()        # Compute the gradients\n",
    "optimizer.step()       # Update the weights\n",
    "\n",
    "print(\"Loss:\", loss.item())"
   ]
  },
  {
   "cell_type": "markdown",
   "metadata": {},
   "source": [
    "##### **Q11: How do you calculate gradients during backpropagation in PyTorch?**"
   ]
  },
  {
   "cell_type": "code",
   "execution_count": 17,
   "metadata": {},
   "outputs": [
    {
     "name": "stdout",
     "output_type": "stream",
     "text": [
      "Gradients for fc1.weight: tensor([[ 0.0008,  0.0023, -0.0017,  ...,  0.0004, -0.0009, -0.0004],\n",
      "        [-0.0008,  0.0002,  0.0009,  ...,  0.0001,  0.0016,  0.0002],\n",
      "        [ 0.0007,  0.0044, -0.0025,  ...,  0.0013,  0.0042,  0.0011],\n",
      "        ...,\n",
      "        [-0.0008, -0.0013,  0.0009,  ...,  0.0005,  0.0004, -0.0002],\n",
      "        [-0.0002,  0.0022,  0.0009,  ..., -0.0004,  0.0004, -0.0010],\n",
      "        [-0.0026,  0.0020, -0.0006,  ...,  0.0022,  0.0016, -0.0006]])\n",
      "Gradients for fc1.bias: tensor([-1.0547e-03, -4.6086e-04, -1.2328e-03,  2.0991e-03,  1.4853e-03,\n",
      "         1.4468e-03, -1.2392e-03,  5.2139e-04,  8.7098e-04, -2.3207e-04,\n",
      "         1.9199e-03,  1.5234e-04, -7.9647e-04,  1.2046e-03,  1.7084e-05,\n",
      "         9.9280e-04,  2.3091e-03,  4.1503e-04,  5.1782e-04, -3.0268e-03,\n",
      "        -3.7185e-03, -2.9888e-03, -6.7258e-04, -4.0428e-04, -2.2264e-03,\n",
      "        -2.5768e-03,  9.7650e-04,  3.5974e-03,  2.8241e-04, -2.0469e-03,\n",
      "         8.1437e-04,  1.0535e-03,  1.8787e-03, -3.7288e-04,  1.6354e-03,\n",
      "         2.1246e-03, -2.5516e-03, -3.7890e-03, -1.5259e-04, -2.6819e-03,\n",
      "        -3.7607e-03,  3.0212e-03,  1.5541e-03, -7.6287e-04,  2.4332e-03,\n",
      "         2.4513e-03, -1.2461e-03,  2.7874e-03,  2.3219e-06,  1.0062e-03,\n",
      "         9.4090e-04, -4.9852e-04, -2.2843e-03, -2.1316e-03,  1.1196e-03,\n",
      "         1.2302e-03, -1.4534e-03,  2.3411e-03, -8.0820e-04, -6.9667e-04,\n",
      "         4.5034e-04, -4.4578e-06,  2.4775e-03, -4.2115e-03, -2.3258e-03,\n",
      "         2.6429e-03,  1.3310e-04, -3.8148e-03,  3.2160e-04,  3.1722e-04,\n",
      "         3.3805e-04, -2.2895e-04,  2.1972e-03, -2.1848e-03, -1.3587e-03,\n",
      "         1.1227e-03,  1.3354e-03,  2.8582e-04,  1.9984e-04,  2.0278e-03,\n",
      "        -6.2979e-04, -2.0302e-03,  7.3811e-04,  1.4917e-03, -1.0072e-03,\n",
      "        -8.9224e-05, -2.8938e-04, -3.6983e-05, -6.8119e-04, -9.7934e-04,\n",
      "         8.9840e-04, -1.3025e-03,  2.8209e-03,  6.4872e-04,  3.7297e-03,\n",
      "         7.9035e-04, -4.5308e-04, -9.9188e-04, -1.0491e-03,  9.1926e-04,\n",
      "        -3.9830e-04, -1.1312e-05,  5.5325e-04, -5.0154e-03,  1.6762e-03,\n",
      "         3.1805e-04, -1.6375e-03,  1.7332e-03,  3.3572e-04, -1.2619e-03,\n",
      "        -2.6520e-04,  2.4934e-03,  9.1549e-04,  1.0003e-03, -2.5421e-03,\n",
      "         4.6802e-03, -1.1121e-03,  6.3842e-04,  2.0487e-03,  2.4353e-03,\n",
      "         1.3735e-03, -4.0372e-04, -1.0162e-03, -2.4659e-03, -3.1326e-03,\n",
      "        -1.3052e-04,  1.5624e-03, -1.8032e-04])\n",
      "Gradients for fc2.weight: tensor([[ 0.0042, -0.0014,  0.0025,  ...,  0.0047,  0.0050,  0.0092],\n",
      "        [ 0.0017, -0.0060, -0.0046,  ..., -0.0058, -0.0038, -0.0041],\n",
      "        [-0.0003, -0.0014, -0.0020,  ..., -0.0026, -0.0030, -0.0037],\n",
      "        ...,\n",
      "        [-0.0016,  0.0069,  0.0012,  ...,  0.0010,  0.0003,  0.0011],\n",
      "        [-0.0009,  0.0017,  0.0009,  ..., -0.0007,  0.0007,  0.0032],\n",
      "        [-0.0009,  0.0032, -0.0021,  ..., -0.0021,  0.0010,  0.0027]])\n",
      "Gradients for fc2.bias: tensor([ 0.0069, -0.0102, -0.0059, -0.0147, -0.0061,  0.0036, -0.0005, -0.0018,\n",
      "        -0.0011,  0.0061, -0.0066,  0.0054, -0.0059, -0.0023,  0.0019,  0.0022,\n",
      "         0.0120, -0.0013, -0.0037,  0.0059, -0.0052, -0.0015,  0.0019,  0.0101,\n",
      "         0.0095, -0.0007,  0.0028, -0.0073,  0.0011,  0.0030, -0.0021,  0.0019,\n",
      "         0.0007, -0.0098, -0.0009, -0.0063,  0.0043,  0.0030,  0.0083,  0.0001,\n",
      "        -0.0001, -0.0022,  0.0013,  0.0005,  0.0055, -0.0031,  0.0137, -0.0086,\n",
      "        -0.0036, -0.0022,  0.0031, -0.0047,  0.0010,  0.0033, -0.0022, -0.0014,\n",
      "         0.0027, -0.0027,  0.0034,  0.0014, -0.0015,  0.0067,  0.0041, -0.0060])\n",
      "Gradients for fc3.weight: tensor([[-3.1372e-03,  1.4042e-02,  3.0835e-03,  1.1129e-02,  8.5308e-03,\n",
      "          3.1546e-03, -9.4766e-04,  4.4443e-03,  1.5182e-03,  8.0023e-03,\n",
      "          1.2440e-03,  1.5336e-02, -4.3174e-03,  5.7530e-03,  3.7465e-03,\n",
      "         -2.3013e-03,  1.6734e-02, -4.9811e-03,  2.9476e-03,  1.0576e-03,\n",
      "          7.9789e-03,  6.8539e-03, -2.6475e-03,  6.9010e-03, -1.2231e-03,\n",
      "         -1.0185e-03,  1.2667e-03,  7.8464e-03,  9.0648e-03,  1.9847e-03,\n",
      "         -1.2638e-03,  8.6812e-03,  1.0081e-02,  4.0430e-03,  6.0406e-03,\n",
      "          4.9371e-04,  3.8728e-03,  1.6768e-02,  1.9544e-03,  6.1023e-03,\n",
      "          4.5635e-03,  2.8552e-03,  3.6080e-03,  4.3904e-03, -4.3918e-03,\n",
      "         -2.8270e-03,  1.4757e-02,  4.7857e-03,  8.9742e-03,  7.3011e-03,\n",
      "          8.8933e-04,  2.4814e-03, -7.3977e-04, -1.1976e-03,  1.8582e-03,\n",
      "         -2.9066e-03,  4.1890e-03,  1.0803e-02,  2.3728e-03,  7.2395e-03,\n",
      "          1.8224e-03,  9.3863e-03,  1.2232e-02,  5.3184e-03],\n",
      "        [ 8.3539e-03, -2.4314e-03,  2.1637e-03,  1.5229e-02,  2.2123e-03,\n",
      "          5.1300e-04,  8.0761e-04,  5.8547e-03,  3.8537e-03,  8.0931e-03,\n",
      "         -9.3498e-03, -3.2021e-03, -3.7120e-03,  2.0430e-03, -6.5495e-04,\n",
      "         -8.6722e-04,  1.9811e-02,  1.5809e-04, -9.6578e-04,  2.0783e-03,\n",
      "          1.0956e-02, -1.1444e-03,  1.1699e-03,  9.5984e-04,  3.4160e-03,\n",
      "         -2.3952e-03,  2.4080e-03,  3.4019e-03,  5.2853e-05, -2.1504e-03,\n",
      "          3.1527e-04,  2.4389e-03, -1.0478e-02,  2.0959e-03,  1.9833e-03,\n",
      "          3.9308e-04,  5.0910e-03,  1.5266e-03, -1.0710e-03,  8.8257e-04,\n",
      "          3.0047e-03, -4.0497e-03,  3.9169e-03,  8.7394e-04,  4.8884e-03,\n",
      "          4.1107e-03,  7.8225e-04,  6.6058e-04,  1.0959e-03,  1.2244e-04,\n",
      "          8.1677e-04,  4.9202e-03, -2.8558e-03,  3.5522e-03, -1.4880e-03,\n",
      "          1.6100e-03, -2.9780e-04,  4.6369e-03,  1.9343e-03,  1.3982e-03,\n",
      "          5.5622e-03,  9.2624e-03,  8.4595e-03,  2.7245e-03],\n",
      "        [-9.7655e-03, -3.4663e-02, -5.1435e-03, -2.6689e-02, -1.4902e-02,\n",
      "         -2.0608e-03, -1.9522e-03, -4.3403e-03, -4.4140e-03, -2.2605e-02,\n",
      "         -7.7434e-03, -3.0577e-02, -8.0625e-03, -9.1429e-03, -1.5558e-03,\n",
      "         -5.0605e-03, -2.4682e-02, -2.3793e-03,  2.3670e-04, -3.5715e-03,\n",
      "         -2.5045e-02, -2.6560e-02, -4.3225e-03, -2.3897e-02, -1.5580e-02,\n",
      "          1.0085e-03, -1.0439e-02, -1.4109e-02,  1.5387e-03, -1.3423e-04,\n",
      "         -5.0581e-03, -5.0994e-03, -2.1118e-02, -5.8469e-03, -5.5400e-03,\n",
      "         -5.1383e-03, -8.2700e-03, -2.4145e-02, -8.3542e-03, -2.9785e-03,\n",
      "         -5.8525e-03, -3.2049e-03, -7.1895e-03, -7.2280e-04, -1.2317e-02,\n",
      "          3.9829e-04, -8.8986e-03, -1.7270e-02, -2.8047e-03, -9.8048e-03,\n",
      "         -7.5835e-03,  6.2182e-03, -6.5440e-03, -5.4606e-03,  3.2126e-03,\n",
      "         -1.5208e-04, -6.3836e-03, -7.3010e-03,  1.0614e-03, -1.9107e-02,\n",
      "         -1.4994e-02, -2.2602e-02, -3.5989e-03,  1.0428e-03],\n",
      "        [-1.1273e-02,  8.8341e-04, -9.4558e-04, -1.9833e-02,  4.4985e-03,\n",
      "         -4.6188e-03, -1.1650e-03, -4.9115e-03, -1.6040e-03,  3.4842e-03,\n",
      "          4.1520e-03,  1.7785e-03,  2.3255e-03,  5.0942e-03, -3.3739e-03,\n",
      "          7.6562e-04, -1.0647e-02,  7.1510e-04,  2.5563e-03, -1.9092e-03,\n",
      "         -9.1653e-03,  1.0635e-02,  5.8763e-03, -5.3340e-03, -8.4006e-03,\n",
      "         -6.1217e-04, -2.8951e-03, -4.8984e-03,  2.8173e-04,  6.5114e-04,\n",
      "         -3.4698e-04,  5.9441e-03,  5.2811e-03, -2.7621e-03,  5.2882e-04,\n",
      "         -3.9614e-03,  2.4608e-03, -5.5240e-03,  1.4342e-03,  3.3096e-03,\n",
      "         -1.3345e-03,  4.3836e-03,  7.0660e-03, -7.6497e-03,  5.6050e-03,\n",
      "          4.8585e-03, -1.9103e-02, -1.2112e-02, -2.8483e-03, -3.2166e-03,\n",
      "          7.7277e-04, -2.8659e-04, -9.7267e-04,  1.1856e-03, -6.1368e-03,\n",
      "          8.0153e-05, -5.5047e-03, -7.4861e-03,  2.1163e-03, -2.1752e-03,\n",
      "         -1.7440e-03, -4.2409e-03, -1.6604e-02, -1.2112e-02],\n",
      "        [-2.5030e-03,  3.9300e-03, -6.7263e-03,  3.2480e-04, -3.2014e-03,\n",
      "          1.8919e-03,  7.0347e-04, -4.3952e-03, -2.3894e-03,  6.0942e-03,\n",
      "          2.1689e-03,  5.8760e-03,  1.8107e-03, -5.9973e-03, -4.0423e-03,\n",
      "          8.0606e-04, -3.6924e-03,  1.1160e-03, -4.5532e-04,  1.8366e-03,\n",
      "          2.7301e-03,  2.4970e-03,  2.4771e-03, -1.8051e-03,  1.1128e-03,\n",
      "          1.3208e-03,  1.8365e-03, -4.4537e-03,  3.1823e-03, -6.6641e-04,\n",
      "          1.5639e-03, -3.9658e-03, -9.3950e-03,  3.7771e-03,  6.1550e-03,\n",
      "          2.9656e-03,  1.7102e-03,  4.5888e-05,  7.7085e-05, -4.9450e-03,\n",
      "          2.7922e-03, -4.4382e-03,  3.6196e-04, -9.9394e-04, -1.2620e-03,\n",
      "          4.3031e-03,  1.9869e-03,  3.3324e-03,  5.0409e-03, -2.7594e-03,\n",
      "          7.7742e-04, -3.2726e-04,  2.3835e-03, -1.8570e-03, -6.0271e-05,\n",
      "          1.8238e-04, -6.0350e-03,  8.0679e-03, -2.3098e-03, -2.3088e-03,\n",
      "         -5.5129e-03,  6.6745e-03, -4.5598e-03, -9.7886e-04],\n",
      "        [-9.3565e-03,  6.9733e-03,  2.2170e-03, -9.4843e-03, -1.4310e-02,\n",
      "         -1.3697e-03, -1.3337e-03, -4.1468e-03,  2.4208e-03, -5.7569e-03,\n",
      "          7.2385e-03, -1.4932e-02,  1.6343e-03, -1.0014e-02, -3.0862e-03,\n",
      "          1.1493e-03, -2.1949e-02,  6.8627e-04, -4.7814e-03,  7.0346e-04,\n",
      "          2.8006e-03, -5.3769e-03, -7.9193e-03, -1.0303e-02,  2.4013e-03,\n",
      "         -8.6749e-04, -3.1957e-03, -1.5165e-04, -1.1045e-02,  1.3863e-03,\n",
      "          1.7410e-03, -7.8090e-03, -1.3955e-03,  2.1926e-04, -1.4980e-02,\n",
      "         -4.1085e-03, -8.8093e-03,  2.5719e-03,  3.7677e-04, -2.6439e-04,\n",
      "         -8.6993e-03, -3.8628e-03, -6.6354e-03,  3.8085e-03,  5.9764e-04,\n",
      "         -4.9060e-04, -5.5547e-03,  1.5070e-03, -1.5231e-02, -2.3577e-03,\n",
      "          9.0059e-04, -1.9519e-03,  4.3926e-04, -3.6366e-03, -9.9336e-04,\n",
      "          3.4763e-04, -3.4308e-03, -6.7657e-03, -5.7247e-03,  3.8330e-03,\n",
      "          1.1751e-03, -3.3300e-04, -1.7161e-02, -1.5598e-03],\n",
      "        [ 1.0066e-02, -4.2069e-03,  3.5968e-03,  1.4351e-02,  6.8825e-03,\n",
      "          2.7653e-03,  1.1066e-03, -5.2287e-03, -3.8179e-03, -2.0914e-03,\n",
      "          2.4016e-03,  1.1655e-02,  2.8572e-03,  9.5834e-04,  3.4205e-03,\n",
      "          2.6287e-03,  7.2285e-03,  8.6742e-04, -2.1954e-03,  5.8606e-03,\n",
      "         -4.5976e-03,  5.0707e-03,  2.8142e-03,  8.4296e-03,  1.3503e-02,\n",
      "          5.9756e-04,  7.4092e-03, -3.0323e-03, -2.7619e-03,  9.3779e-05,\n",
      "          6.9818e-04,  2.9885e-03,  1.1174e-02,  2.4319e-03,  7.6995e-03,\n",
      "          4.2717e-03, -5.0323e-03,  5.7435e-04,  1.2318e-03, -2.6728e-03,\n",
      "          3.3248e-03, -1.5732e-03, -5.3943e-03, -9.9561e-06,  3.5257e-03,\n",
      "         -1.9472e-04, -1.3297e-03,  9.2754e-03, -6.9068e-04,  9.2316e-03,\n",
      "          9.7550e-04,  2.4887e-03,  3.7892e-03,  4.3859e-03,  2.0915e-03,\n",
      "          5.8218e-04,  5.5640e-03,  2.6259e-03,  2.4681e-03,  1.3267e-03,\n",
      "          3.9211e-03, -1.3431e-03,  8.5787e-03,  1.5454e-03],\n",
      "        [ 8.8416e-03, -2.0344e-03, -2.2654e-03,  5.7773e-04,  3.5868e-03,\n",
      "          2.8543e-03,  9.6584e-04,  8.5232e-03,  1.8156e-03, -3.2915e-03,\n",
      "         -3.3128e-03,  8.1313e-03,  4.8024e-03,  5.4363e-03,  1.2523e-03,\n",
      "         -1.4539e-03,  1.4655e-02,  1.3096e-03,  2.0576e-03,  2.7017e-03,\n",
      "         -6.8499e-04,  1.1183e-03,  9.9037e-05,  1.0482e-02,  6.2899e-03,\n",
      "          6.6305e-04,  2.8132e-03,  5.8511e-03, -3.9734e-03,  4.2368e-04,\n",
      "          1.2431e-03, -3.9013e-03,  3.1658e-03, -3.1557e-03, -4.8307e-03,\n",
      "          3.7801e-03, -1.9141e-03,  7.3713e-03,  9.5647e-04,  6.4305e-03,\n",
      "         -2.2854e-03,  6.5222e-03,  2.6221e-03,  3.9498e-03, -1.3904e-04,\n",
      "          1.2430e-03,  6.8506e-03, -1.6239e-04,  7.7844e-03,  1.0131e-03,\n",
      "          8.5390e-04,  8.6477e-03,  2.6180e-03, -7.5052e-04,  3.8493e-03,\n",
      "          7.7690e-05,  8.0727e-03, -9.0323e-03,  2.2067e-03,  3.1114e-03,\n",
      "          6.0145e-04,  8.8423e-03,  1.4934e-02,  7.3694e-03],\n",
      "        [ 3.6098e-03,  1.7474e-02,  3.6216e-05,  3.0476e-03,  7.4584e-03,\n",
      "          1.3377e-03,  9.1535e-04, -2.0044e-03,  1.7364e-03,  8.2292e-03,\n",
      "         -1.1683e-03,  1.1831e-02,  1.8805e-03, -3.9058e-04,  1.3583e-03,\n",
      "          1.3607e-03,  1.6592e-03,  1.2543e-03,  1.8708e-04, -9.7240e-03,\n",
      "         -6.4210e-04,  9.5507e-03,  1.3078e-03,  3.8165e-03, -5.1470e-03,\n",
      "          7.3978e-04, -8.8090e-04,  4.4445e-03,  5.4979e-04, -3.2064e-03,\n",
      "          9.7214e-04,  2.3376e-03,  8.0243e-03, -1.0891e-03,  1.0621e-03,\n",
      "          1.0326e-03,  5.6133e-03, -2.4070e-03,  1.7268e-03, -1.3878e-03,\n",
      "          5.0359e-03,  5.3997e-03, -3.8081e-03, -5.7231e-03,  1.5162e-03,\n",
      "         -5.5691e-03,  7.3934e-03,  6.8178e-03,  6.1817e-03,  2.6525e-04,\n",
      "          7.6486e-04, -5.6615e-03,  2.3465e-03,  2.4663e-03,  1.3372e-03,\n",
      "         -1.1055e-03,  9.8134e-04,  6.5818e-03, -2.0208e-03,  2.4425e-03,\n",
      "          5.5946e-03,  4.6683e-03,  5.6645e-03, -4.8597e-03],\n",
      "        [ 5.1638e-03,  3.2801e-05,  3.9835e-03,  1.1347e-02, -7.5548e-04,\n",
      "         -4.4676e-03,  8.9970e-04,  6.2047e-03,  8.8069e-04, -1.5801e-04,\n",
      "          4.3692e-03, -5.8972e-03,  7.8131e-04,  6.2602e-03,  2.9356e-03,\n",
      "          2.9725e-03,  8.8156e-04,  1.2536e-03,  4.1259e-04,  9.6650e-04,\n",
      "          1.5670e-02, -2.6446e-03,  1.1450e-03,  1.0750e-02,  3.6282e-03,\n",
      "          5.6368e-04,  1.6771e-03,  5.1014e-03,  3.1103e-03,  1.6179e-03,\n",
      "          1.3526e-04, -1.6148e-03,  4.6603e-03,  2.8667e-04,  1.8815e-03,\n",
      "          2.7137e-04,  5.2775e-03,  3.2183e-03,  1.6677e-03, -4.4765e-03,\n",
      "         -5.4935e-04, -2.0319e-03,  5.4523e-03,  2.0770e-03,  1.9771e-03,\n",
      "         -5.8322e-03,  3.1158e-03,  3.1662e-03, -7.5023e-03,  2.0494e-04,\n",
      "          8.3235e-04, -1.6529e-02, -4.6417e-04,  1.3123e-03, -3.6704e-03,\n",
      "          1.2841e-03,  2.8449e-03, -2.1301e-03, -2.1043e-03,  4.2395e-03,\n",
      "          3.5737e-03, -1.0315e-02, -7.9452e-03,  1.5096e-03]])\n",
      "Gradients for fc3.bias: tensor([ 0.0445,  0.0138, -0.0885, -0.0234,  0.0090, -0.0292,  0.0238,  0.0225,\n",
      "         0.0147,  0.0128])\n",
      "Loss: 2.2888882160186768\n"
     ]
    }
   ],
   "source": [
    "# Reinstantiate the network\n",
    "model = SimpleNet()\n",
    "\n",
    "loss_fn = nn.CrossEntropyLoss()\n",
    "optimizer = optim.SGD(model.parameters(), lr=0.01)\n",
    "\n",
    "input_data = torch.randn(64, 784)\n",
    "target = torch.randint(0, 10, (64,))\n",
    "\n",
    "output = model(input_data)\n",
    "loss = loss_fn(output, target)\n",
    "\n",
    "optimizer.zero_grad()\n",
    "\n",
    "loss.backward()\n",
    "\n",
    "# Print gradients for each layer\n",
    "for name, param in model.named_parameters():\n",
    "    if param.requires_grad:\n",
    "        print(f\"Gradients for {name}: {param.grad}\")\n",
    "\n",
    "optimizer.step()\n",
    "\n",
    "print(\"Loss:\", loss.item())"
   ]
  },
  {
   "cell_type": "markdown",
   "metadata": {},
   "source": [
    "##### **Q12: How do you update the weights and biases of a neural network during training?**"
   ]
  },
  {
   "cell_type": "code",
   "execution_count": 18,
   "metadata": {},
   "outputs": [
    {
     "name": "stdout",
     "output_type": "stream",
     "text": [
      "Epoch [100/1000], Loss: 2.3025\n",
      "Epoch [200/1000], Loss: 2.2986\n",
      "Epoch [300/1000], Loss: 2.3174\n",
      "Epoch [400/1000], Loss: 2.2990\n",
      "Epoch [500/1000], Loss: 2.3050\n",
      "Epoch [600/1000], Loss: 2.2946\n",
      "Epoch [700/1000], Loss: 2.2994\n",
      "Epoch [800/1000], Loss: 2.2973\n",
      "Epoch [900/1000], Loss: 2.3101\n",
      "Epoch [1000/1000], Loss: 2.3031\n"
     ]
    }
   ],
   "source": [
    "# Use a training loop!\n",
    "model = SimpleNet()\n",
    "\n",
    "loss_fn = nn.CrossEntropyLoss()\n",
    "optimizer = optim.SGD(model.parameters(), lr=0.01)\n",
    "\n",
    "# Dummy training loop\n",
    "num_epochs = 1000\n",
    "for epoch in range(num_epochs):\n",
    "    # Example input (batch size of 64, 784 features) and target\n",
    "    input_data = torch.randn(64, 784)\n",
    "    target = torch.randint(0, 10, (64,))\n",
    "    \n",
    "    # Forward pass\n",
    "    output = model(input_data)\n",
    "    loss = loss_fn(output, target)\n",
    "    \n",
    "    # Zero the gradients\n",
    "    optimizer.zero_grad()\n",
    "    \n",
    "    # Backward pass\n",
    "    loss.backward()\n",
    "    \n",
    "    # Update parameters\n",
    "    optimizer.step()\n",
    "    \n",
    "    if (epoch + 1) % 100 == 0:\n",
    "        print(f'Epoch [{epoch + 1}/{num_epochs}], Loss: {loss.item():.4f}')"
   ]
  },
  {
   "cell_type": "markdown",
   "metadata": {},
   "source": [
    "## Training the neural network"
   ]
  },
  {
   "cell_type": "markdown",
   "metadata": {},
   "source": [
    "##### **Q13: How do you set up the training loop for a neural network in PyTorch?**"
   ]
  },
  {
   "cell_type": "code",
   "execution_count": 19,
   "metadata": {},
   "outputs": [
    {
     "name": "stdout",
     "output_type": "stream",
     "text": [
      "Epoch 100/1000, Batch 15, Loss: 0.43752002716064453\n",
      "Epoch 200/1000, Batch 15, Loss: 0.021784402430057526\n",
      "Epoch 300/1000, Batch 15, Loss: 0.009608829393982887\n",
      "Epoch 400/1000, Batch 15, Loss: 0.005298164673149586\n",
      "Epoch 500/1000, Batch 15, Loss: 0.003674974199384451\n",
      "Epoch 600/1000, Batch 15, Loss: 0.002440021140500903\n",
      "Epoch 700/1000, Batch 15, Loss: 0.002118645701557398\n",
      "Epoch 800/1000, Batch 15, Loss: 0.0018065996700897813\n",
      "Epoch 900/1000, Batch 15, Loss: 0.001634878688491881\n",
      "Epoch 1000/1000, Batch 15, Loss: 0.001074614585377276\n",
      "Training complete.\n"
     ]
    }
   ],
   "source": [
    "# Same as above, but this time using a TensorDataset and a DataLoader. i.e.,\n",
    "from torch.utils.data import DataLoader, TensorDataset\n",
    "\n",
    "input_data = torch.randn(1000, 784)\n",
    "target_data = torch.randint(0, 10, (1000,))\n",
    "\n",
    "dataset = TensorDataset(input_data, target_data)\n",
    "data_loader = DataLoader(dataset, batch_size=64, shuffle=True)\n",
    "\n",
    "model = SimpleNet()\n",
    "loss_fn = nn.CrossEntropyLoss()\n",
    "optimizer = optim.SGD(model.parameters(), lr=0.01)\n",
    "\n",
    "num_epochs = 1000\n",
    "for epoch in range(num_epochs):\n",
    "    for batch_idx, (inputs, targets) in enumerate(data_loader):\n",
    "        outputs = model(inputs)\n",
    "        loss = loss_fn(outputs, targets)\n",
    "        \n",
    "        optimizer.zero_grad()\n",
    "        \n",
    "        loss.backward()\n",
    "        \n",
    "        optimizer.step()\n",
    "\n",
    "    if (epoch + 1) % 100 == 0:\n",
    "        print(f\"Epoch {epoch+1}/{num_epochs}, Batch {batch_idx}, Loss: {loss.item()}\")\n",
    "\n",
    "print(\"Training complete.\")"
   ]
  },
  {
   "cell_type": "markdown",
   "metadata": {},
   "source": [
    "##### **Q14: How do you implement batch training in PyTorch?**"
   ]
  },
  {
   "cell_type": "code",
   "execution_count": 20,
   "metadata": {},
   "outputs": [
    {
     "name": "stdout",
     "output_type": "stream",
     "text": [
      "Epoch [100/1000], Batch 15, Loss: 0.4762464165687561\n",
      "Epoch [200/1000], Batch 15, Loss: 0.022093916311860085\n",
      "Epoch [300/1000], Batch 15, Loss: 0.01073059719055891\n",
      "Epoch [400/1000], Batch 15, Loss: 0.005493083968758583\n",
      "Epoch [500/1000], Batch 15, Loss: 0.0038855664897710085\n",
      "Epoch [600/1000], Batch 15, Loss: 0.002982159610837698\n",
      "Epoch [700/1000], Batch 15, Loss: 0.0022214571945369244\n",
      "Epoch [800/1000], Batch 15, Loss: 0.0016552489250898361\n",
      "Epoch [900/1000], Batch 15, Loss: 0.0013955107424408197\n",
      "Epoch [1000/1000], Batch 15, Loss: 0.0013534983154386282\n",
      "Training complete.\n"
     ]
    }
   ],
   "source": [
    "# Same as above, but with new dataset:\n",
    "input_data = torch.randn(1000, 784)\n",
    "target_data = torch.randint(0, 10, (1000,))\n",
    "\n",
    "dataset = TensorDataset(input_data, target_data)\n",
    "data_loader = DataLoader(dataset, batch_size=64, shuffle=True)\n",
    "\n",
    "model = SimpleNet()\n",
    "loss_fn = nn.CrossEntropyLoss()\n",
    "optimizer = optim.SGD(model.parameters(), lr=0.01)\n",
    "\n",
    "num_epochs = 1000\n",
    "for epoch in range(num_epochs):\n",
    "    for batch_idx, (inputs, targets) in enumerate(data_loader):\n",
    "        outputs = model(inputs)\n",
    "        loss = loss_fn(outputs, targets)\n",
    "        \n",
    "        optimizer.zero_grad()\n",
    "        \n",
    "        loss.backward()\n",
    "        \n",
    "        optimizer.step()\n",
    "        \n",
    "    if (epoch + 1) % 100 == 0:\n",
    "        print(f\"Epoch [{epoch+1}/{num_epochs}], Batch {batch_idx}, Loss: {loss.item()}\")\n",
    "\n",
    "print(\"Training complete.\")"
   ]
  },
  {
   "cell_type": "markdown",
   "metadata": {},
   "source": [
    "##### **Q15: How do you monitor training progress during the training of a neural network?**"
   ]
  },
  {
   "cell_type": "code",
   "execution_count": 21,
   "metadata": {},
   "outputs": [
    {
     "name": "stdout",
     "output_type": "stream",
     "text": [
      "Epoch 100/1000, Loss: 0.4238, Accuracy: 99.60%\n",
      "Epoch 200/1000, Loss: 0.0228, Accuracy: 100.00%\n",
      "Epoch 300/1000, Loss: 0.0091, Accuracy: 100.00%\n",
      "Epoch 400/1000, Loss: 0.0053, Accuracy: 100.00%\n",
      "Epoch 500/1000, Loss: 0.0037, Accuracy: 100.00%\n",
      "Epoch 600/1000, Loss: 0.0028, Accuracy: 100.00%\n",
      "Epoch 700/1000, Loss: 0.0022, Accuracy: 100.00%\n",
      "Epoch 800/1000, Loss: 0.0018, Accuracy: 100.00%\n",
      "Epoch 900/1000, Loss: 0.0015, Accuracy: 100.00%\n",
      "Epoch 1000/1000, Loss: 0.0013, Accuracy: 100.00%\n"
     ]
    }
   ],
   "source": [
    "# Reinstantiate the network, loss function, and optimizer\n",
    "model = SimpleNet()\n",
    "loss_fn = nn.CrossEntropyLoss()\n",
    "optimizer = optim.SGD(model.parameters(), lr=0.01)\n",
    "\n",
    "# Lists to store loss and accuracy\n",
    "losses = []\n",
    "accuracies = []\n",
    "\n",
    "# Training loop\n",
    "for epoch in range(num_epochs):\n",
    "    running_loss = 0.0\n",
    "    correct = 0\n",
    "    total = 0\n",
    "    for batch_idx, (inputs, targets) in enumerate(data_loader):\n",
    "        outputs = model(inputs)\n",
    "        loss = loss_fn(outputs, targets)\n",
    "        \n",
    "        optimizer.zero_grad()\n",
    "        loss.backward()\n",
    "        optimizer.step()\n",
    "        \n",
    "        # Accumulate loss and accuracy\n",
    "        running_loss += loss.item()\n",
    "        _, predicted = torch.max(outputs, 1)\n",
    "        total += targets.size(0)\n",
    "        correct += (predicted == targets).sum().item()\n",
    "    \n",
    "    # Record loss and accuracy\n",
    "    avg_loss = running_loss / len(data_loader)\n",
    "    accuracy = 100 * correct / total\n",
    "    losses.append(avg_loss)\n",
    "    accuracies.append(accuracy)\n",
    "    \n",
    "    if (epoch + 1) % 100 == 0:\n",
    "        print(f\"Epoch {epoch+1}/{num_epochs}, Loss: {avg_loss:.4f}, Accuracy: {accuracy:.2f}%\")"
   ]
  },
  {
   "cell_type": "code",
   "execution_count": 22,
   "metadata": {},
   "outputs": [
    {
     "data": {
      "image/png": "[encoded data removed]",
      "text/plain": [
       "<Figure size 1200x500 with 2 Axes>"
      ]
     },
     "metadata": {},
     "output_type": "display_data"
    }
   ],
   "source": [
    "# Plot loss and accuracy\n",
    "plt.figure(figsize=(12, 5))\n",
    "plt.subplot(1, 2, 1)\n",
    "plt.plot(losses, label='Loss')\n",
    "plt.xlabel('Epoch')\n",
    "plt.ylabel('Loss')\n",
    "plt.legend()\n",
    "plt.subplot(1, 2, 2)\n",
    "plt.plot(accuracies, label='Accuracy')\n",
    "plt.xlabel('Epoch')\n",
    "plt.ylabel('Accuracy')\n",
    "plt.legend()\n",
    "plt.show()"
   ]
  },
  {
   "cell_type": "code",
   "execution_count": 23,
   "metadata": {},
   "outputs": [],
   "source": [
    "# Alternative: use TensorBoard!\n",
    "# from torch.utils.tensorboard import SummaryWriter\n",
    "\n",
    "# # Reinstantiate the network, loss function, and optimizer\n",
    "# model = SimpleNet()\n",
    "# loss_fn = nn.CrossEntropyLoss()\n",
    "# optimizer = optim.SGD(model.parameters(), lr=0.01)\n",
    "\n",
    "# # Instantiate the TensorBoard writer\n",
    "# writer = SummaryWriter()\n",
    "\n",
    "# # Training loop\n",
    "# for epoch in range(num_epochs):\n",
    "#     running_loss = 0.0\n",
    "#     correct = 0\n",
    "#     total = 0\n",
    "#     for batch_idx, (inputs, targets) in enumerate(data_loader):\n",
    "#         outputs = model(inputs)\n",
    "#         loss = loss_fn(outputs, targets)\n",
    "        \n",
    "#         optimizer.zero_grad()\n",
    "#         loss.backward()\n",
    "#         optimizer.step()\n",
    "        \n",
    "#         running_loss += loss.item()\n",
    "#         _, predicted = torch.max(outputs, 1)\n",
    "#         total += targets.size(0)\n",
    "#         correct += (predicted == targets).sum().item()\n",
    "    \n",
    "#     avg_loss = running_loss / len(data_loader)\n",
    "#     accuracy = 100 * correct / total\n",
    "    \n",
    "#     # Log the metrics to TensorBoard\n",
    "#     writer.add_scalar('Loss/train', avg_loss, epoch)\n",
    "#     writer.add_scalar('Accuracy/train', accuracy, epoch)\n",
    "    \n",
    "#     # Print loss and accuracy after every 100 epochs\n",
    "#     if (epoch + 1) % 100 == 0:\n",
    "#         print(f\"Epoch {epoch+1}/{num_epochs}, Loss: {avg_loss:.4f}, Accuracy: {accuracy:.2f}%\")\n",
    "\n",
    "# writer.close()"
   ]
  },
  {
   "cell_type": "code",
   "execution_count": 24,
   "metadata": {},
   "outputs": [],
   "source": [
    "# import shutil\n",
    "\n",
    "# folder_path = \"runs\"\n",
    "\n",
    "# shutil.rmtree(folder_path)\n",
    "\n",
    "# print(f\"Folder '{folder_path}' has been deleted.\")"
   ]
  },
  {
   "cell_type": "markdown",
   "metadata": {},
   "source": [
    "## Evaluating the model"
   ]
  },
  {
   "cell_type": "markdown",
   "metadata": {},
   "source": [
    "##### **Q16: How do you make predictions using a trained neural network in PyTorch?**"
   ]
  },
  {
   "cell_type": "code",
   "execution_count": 25,
   "metadata": {},
   "outputs": [
    {
     "name": "stdout",
     "output_type": "stream",
     "text": [
      "Predicted class: 9\n",
      "Probabilities: [[0.10942324 0.09172758 0.09153328 0.0900717  0.09697043 0.11578014\n",
      "  0.10719643 0.09206997 0.08558185 0.11964528]]\n"
     ]
    }
   ],
   "source": [
    "# Define a simple neural network (same as the one used for training)\n",
    "class SimpleNet(nn.Module):\n",
    "    def __init__(self):\n",
    "        super(SimpleNet, self).__init__()\n",
    "        self.fc1 = nn.Linear(784, 128)\n",
    "        self.fc2 = nn.Linear(128, 64)\n",
    "        self.fc3 = nn.Linear(64, 10)\n",
    "    \n",
    "    def forward(self, x):\n",
    "        x = torch.relu(self.fc1(x))\n",
    "        x = torch.relu(self.fc2(x))\n",
    "        x = self.fc3(x)\n",
    "        return x\n",
    "\n",
    "# Load the trained model (assume the model was saved as 'model.pth')\n",
    "model = SimpleNet()\n",
    "# model.load_state_dict(torch.load('model.pth'))\n",
    "\n",
    "# Set the model to evaluation mode\n",
    "model.eval()\n",
    "\n",
    "# Example input data (batch size of 1, 784 features)\n",
    "# Note: Input data should be preprocessed in the same way as during training\n",
    "input_data = torch.randn(1, 784)\n",
    "\n",
    "# Make predictions\n",
    "with torch.no_grad():  # Disable gradient calculation for inference\n",
    "    output = model(input_data)\n",
    "\n",
    "# Convert the output to probabilities using softmax\n",
    "probabilities = torch.softmax(output, dim=1)\n",
    "\n",
    "# Get the predicted class (index of the highest probability)\n",
    "predicted_class = torch.argmax(probabilities, dim=1)\n",
    "\n",
    "print(\"Predicted class:\", predicted_class.item())\n",
    "print(\"Probabilities:\", probabilities.numpy())"
   ]
  },
  {
   "cell_type": "markdown",
   "metadata": {},
   "source": [
    "##### **Q17: What performance metrics can you use to evaluate a neural network?**"
   ]
  },
  {
   "cell_type": "code",
   "execution_count": 26,
   "metadata": {},
   "outputs": [
    {
     "name": "stdout",
     "output_type": "stream",
     "text": [
      "Accuracy: 1.0000\n",
      "Precision: 1.0000\n",
      "Recall: 1.0000\n",
      "F1 Score: 1.0000\n",
      "Confusion Matrix:\n",
      "[[1 0]\n",
      " [0 1]]\n"
     ]
    }
   ],
   "source": [
    "from sklearn.metrics import accuracy_score, precision_score, recall_score, f1_score, confusion_matrix\n",
    "\n",
    "# Example output and target\n",
    "output = torch.tensor([[0.1, 0.9], [0.8, 0.2]])\n",
    "targets = torch.tensor([1, 0])\n",
    "\n",
    "# Predictions\n",
    "_, predicted = torch.max(output, 1)\n",
    "\n",
    "# Accuracy: Proportion of correctly classified samples\n",
    "accuracy = accuracy_score(targets.numpy(), predicted.numpy())\n",
    "print(f\"Accuracy: {accuracy:.4f}\")\n",
    "\n",
    "# Precision: Proportion of true positive predictions among all positive predictions\n",
    "precision = precision_score(targets.numpy(), predicted.numpy(), average='weighted')\n",
    "print(f\"Precision: {precision:.4f}\")\n",
    "\n",
    "# Recall: Proportion of true positive predictions among all actual positive samples\n",
    "recall = recall_score(targets.numpy(), predicted.numpy(), average='weighted')\n",
    "print(f\"Recall: {recall:.4f}\")\n",
    "\n",
    "# F1 score: Harmonic mean of precision and recall\n",
    "f1 = f1_score(targets.numpy(), predicted.numpy(), average='weighted')\n",
    "print(f\"F1 Score: {f1:.4f}\")\n",
    "\n",
    "# Confusion matrix: Assesses the performance of the classification model by showing the true vs. predicted labels\n",
    "cm = confusion_matrix(targets.numpy(), predicted.numpy())\n",
    "print(\"Confusion Matrix:\")\n",
    "print(cm)"
   ]
  },
  {
   "cell_type": "code",
   "execution_count": 27,
   "metadata": {},
   "outputs": [
    {
     "name": "stdout",
     "output_type": "stream",
     "text": [
      "ROC-AUC Score: 1.0000\n"
     ]
    }
   ],
   "source": [
    "from sklearn.metrics import roc_auc_score\n",
    "\n",
    "# Example probabilities and targets for binary classification\n",
    "probabilities = torch.tensor([0.1, 0.9, 0.8, 0.2])\n",
    "targets_binary = torch.tensor([0, 1, 1, 0])\n",
    "\n",
    "# ROC-AUC score: The area under the Receiver Operating Characteristic curve, which measures the ability of the model to distinguish between classes\n",
    "roc_auc = roc_auc_score(targets_binary.numpy(), probabilities.numpy())\n",
    "print(f\"ROC-AUC Score: {roc_auc:.4f}\")"
   ]
  },
  {
   "cell_type": "code",
   "execution_count": 28,
   "metadata": {},
   "outputs": [
    {
     "name": "stdout",
     "output_type": "stream",
     "text": [
      "Accuracy: 0.0400\n",
      "Precision: 0.0453\n",
      "Recall: 0.0400\n",
      "F1 Score: 0.0340\n",
      "Confusion Matrix:\n",
      "[[0 0 0 0 0 1 0 3 4 2]\n",
      " [0 0 1 0 0 1 0 4 5 2]\n",
      " [0 1 1 0 0 0 0 2 2 5]\n",
      " [0 0 1 0 0 0 0 5 3 2]\n",
      " [0 1 1 0 0 0 0 5 1 0]\n",
      " [0 0 1 1 0 1 0 5 2 0]\n",
      " [0 0 0 0 0 0 0 5 5 2]\n",
      " [0 0 1 0 0 0 0 2 1 5]\n",
      " [0 0 0 0 0 1 0 5 0 5]\n",
      " [0 0 1 0 0 0 0 3 1 0]]\n"
     ]
    },
    {
     "name": "stderr",
     "output_type": "stream",
     "text": [
      "c:\\Users\\fellm\\AppData\\Local\\Programs\\Python\\Python312\\Lib\\site-packages\\sklearn\\metrics\\_classification.py:1531: UndefinedMetricWarning: Precision is ill-defined and being set to 0.0 in labels with no predicted samples. Use `zero_division` parameter to control this behavior.\n",
      "  _warn_prf(average, modifier, f\"{metric.capitalize()} is\", len(result))\n"
     ]
    }
   ],
   "source": [
    "# In practice, for a classification model:\n",
    "class SimpleNet(nn.Module):\n",
    "    def __init__(self):\n",
    "        super(SimpleNet, self).__init__()\n",
    "        self.fc1 = nn.Linear(784, 128)\n",
    "        self.fc2 = nn.Linear(128, 64)\n",
    "        self.fc3 = nn.Linear(64, 10)\n",
    "    \n",
    "    def forward(self, x):\n",
    "        x = torch.relu(self.fc1(x))\n",
    "        x = torch.relu(self.fc2(x))\n",
    "        x = self.fc3(x)\n",
    "        return x\n",
    "\n",
    "model = SimpleNet()\n",
    "\n",
    "input_data = torch.randn(100, 784)\n",
    "targets = torch.randint(0, 10, (100,))\n",
    "\n",
    "# Model output\n",
    "model.eval()\n",
    "with torch.no_grad():\n",
    "    outputs = model(input_data)\n",
    "\n",
    "# Get predictions\n",
    "_, predicted = torch.max(outputs, 1)\n",
    "\n",
    "# Calculate metrics\n",
    "accuracy = accuracy_score(targets.numpy(), predicted.numpy())\n",
    "precision = precision_score(targets.numpy(), predicted.numpy(), average='weighted')\n",
    "recall = recall_score(targets.numpy(), predicted.numpy(), average='weighted')\n",
    "f1 = f1_score(targets.numpy(), predicted.numpy(), average='weighted')\n",
    "cm = confusion_matrix(targets.numpy(), predicted.numpy())\n",
    "\n",
    "print(f\"Accuracy: {accuracy:.4f}\")\n",
    "print(f\"Precision: {precision:.4f}\")\n",
    "print(f\"Recall: {recall:.4f}\")\n",
    "print(f\"F1 Score: {f1:.4f}\")\n",
    "print(\"Confusion Matrix:\")\n",
    "print(cm)"
   ]
  },
  {
   "cell_type": "code",
   "execution_count": 29,
   "metadata": {},
   "outputs": [
    {
     "name": "stdout",
     "output_type": "stream",
     "text": [
      "MSE: 0.1300\n",
      "MAE: 0.3000\n",
      "R²: 0.9200\n"
     ]
    }
   ],
   "source": [
    "from sklearn.metrics import mean_squared_error, mean_absolute_error, r2_score\n",
    "\n",
    "# Example output and target\n",
    "output = torch.tensor([2.5, 0.0, 2.1, 1.6])\n",
    "targets = torch.tensor([3.0, -0.5, 2.0, 1.5])\n",
    "\n",
    "# MSE: Average of the squares of the differences between predicted and actual values\n",
    "mse = mean_squared_error(targets.numpy(), output.numpy())\n",
    "print(f\"MSE: {mse:.4f}\")\n",
    "\n",
    "# MAE: Average of the absolute differences between predicted and actual values\n",
    "mae = mean_absolute_error(targets.numpy(), output.numpy())\n",
    "print(f\"MAE: {mae:.4f}\")\n",
    "\n",
    "# R²: Proportion of the variance in the dependent variable that is predictable from the independent variable(s)\n",
    "r2 = r2_score(targets.numpy(), output.numpy())\n",
    "print(f\"R²: {r2:.4f}\")"
   ]
  },
  {
   "cell_type": "code",
   "execution_count": 30,
   "metadata": {},
   "outputs": [
    {
     "name": "stdout",
     "output_type": "stream",
     "text": [
      "MSE: 0.8090\n",
      "MAE: 0.7598\n",
      "R²: -0.1500\n"
     ]
    }
   ],
   "source": [
    "# In practice, for a regression model:\n",
    "class RegressionNet(nn.Module):\n",
    "    def __init__(self):\n",
    "        super(RegressionNet, self).__init__()\n",
    "        self.fc1 = nn.Linear(10, 64)\n",
    "        self.fc2 = nn.Linear(64, 1)\n",
    "    \n",
    "    def forward(self, x):\n",
    "        x = torch.relu(self.fc1(x))\n",
    "        x = self.fc2(x)\n",
    "        return x\n",
    "\n",
    "model = RegressionNet()\n",
    "\n",
    "input_data = torch.randn(100, 10)\n",
    "targets = torch.randn(100, 1)\n",
    "\n",
    "model.eval()\n",
    "with torch.no_grad():\n",
    "    outputs = model(input_data)\n",
    "\n",
    "mse = mean_squared_error(targets.numpy(), outputs.numpy())\n",
    "mae = mean_absolute_error(targets.numpy(), outputs.numpy())\n",
    "r2 = r2_score(targets.numpy(), outputs.numpy())\n",
    "\n",
    "print(f\"MSE: {mse:.4f}\")\n",
    "print(f\"MAE: {mae:.4f}\")\n",
    "print(f\"R²: {r2:.4f}\")"
   ]
  },
  {
   "cell_type": "markdown",
   "metadata": {},
   "source": [
    "##### **Q18: How do you visualize the performance of a neural network using `matplotlib`?**"
   ]
  },
  {
   "cell_type": "code",
   "execution_count": 31,
   "metadata": {},
   "outputs": [
    {
     "name": "stdout",
     "output_type": "stream",
     "text": [
      "Epoch [10/100], Loss: 2.2483, Accuracy: 14.80%\n",
      "Epoch [20/100], Loss: 2.2790, Accuracy: 21.00%\n",
      "Epoch [30/100], Loss: 2.1518, Accuracy: 31.30%\n",
      "Epoch [40/100], Loss: 2.1277, Accuracy: 43.40%\n",
      "Epoch [50/100], Loss: 2.0196, Accuracy: 55.70%\n",
      "Epoch [60/100], Loss: 1.8716, Accuracy: 66.80%\n",
      "Epoch [70/100], Loss: 1.6149, Accuracy: 79.10%\n",
      "Epoch [80/100], Loss: 1.3065, Accuracy: 89.50%\n",
      "Epoch [90/100], Loss: 0.9607, Accuracy: 96.50%\n",
      "Epoch [100/100], Loss: 0.6077, Accuracy: 99.30%\n"
     ]
    }
   ],
   "source": [
    "# Redefine a simple neural network\n",
    "class SimpleNet(nn.Module):\n",
    "    def __init__(self):\n",
    "        super(SimpleNet, self).__init__()\n",
    "        self.fc1 = nn.Linear(784, 128)\n",
    "        self.fc2 = nn.Linear(128, 64)\n",
    "        self.fc3 = nn.Linear(64, 10)\n",
    "    \n",
    "    def forward(self, x):\n",
    "        x = torch.relu(self.fc1(x))\n",
    "        x = torch.relu(self.fc2(x))\n",
    "        x = self.fc3(x)\n",
    "        return x\n",
    "\n",
    "input_data = torch.randn(1000, 784)\n",
    "target_data = torch.randint(0, 10, (1000,))\n",
    "\n",
    "dataset = TensorDataset(input_data, target_data)\n",
    "data_loader = DataLoader(dataset, batch_size=64, shuffle=True)\n",
    "\n",
    "model = SimpleNet()\n",
    "loss_fn = nn.CrossEntropyLoss()\n",
    "optimizer = optim.SGD(model.parameters(), lr=0.01)\n",
    "\n",
    "# Lists to store loss and accuracy\n",
    "train_losses = []\n",
    "train_accuracies = []\n",
    "all_targets = []\n",
    "all_predictions = []\n",
    "\n",
    "num_epochs = 100\n",
    "for epoch in range(num_epochs):\n",
    "    running_loss = 0.0\n",
    "    correct = 0\n",
    "    total = 0\n",
    "    for batch_idx, (inputs, targets) in enumerate(data_loader):\n",
    "        outputs = model(inputs)\n",
    "        loss = loss_fn(outputs, targets)\n",
    "        \n",
    "        optimizer.zero_grad()\n",
    "        loss.backward()\n",
    "        optimizer.step()\n",
    "        \n",
    "        running_loss += loss.item()\n",
    "        _, predicted = torch.max(outputs, 1)\n",
    "        total += targets.size(0)\n",
    "        correct += (predicted == targets).sum().item()\n",
    "        \n",
    "        # Store targets and predictions for confusion matrix and ROC curve\n",
    "        all_targets.extend(targets.numpy())\n",
    "        all_predictions.extend(predicted.numpy())\n",
    "    \n",
    "    avg_loss = running_loss / len(data_loader)\n",
    "    accuracy = 100 * correct / total\n",
    "    train_losses.append(avg_loss)\n",
    "    train_accuracies.append(accuracy)\n",
    "    \n",
    "    if (epoch + 1) % 10 == 0:\n",
    "        print(f'Epoch [{epoch + 1}/{num_epochs}], Loss: {loss.item():.4f}, Accuracy: {accuracy:.2f}%')"
   ]
  },
  {
   "cell_type": "code",
   "execution_count": 32,
   "metadata": {},
   "outputs": [
    {
     "data": {
      "image/png": "[encoded data removed]",
      "text/plain": [
       "<Figure size 1200x500 with 2 Axes>"
      ]
     },
     "metadata": {},
     "output_type": "display_data"
    }
   ],
   "source": [
    "# Plotting training loss and accuracy\n",
    "plt.figure(figsize=(12, 5))\n",
    "plt.subplot(1, 2, 1)\n",
    "plt.plot(range(1, num_epochs + 1), train_losses, label='Training Loss')\n",
    "plt.xlabel('Epoch')\n",
    "plt.ylabel('Loss')\n",
    "plt.title('Training Loss')\n",
    "plt.legend()\n",
    "\n",
    "plt.subplot(1, 2, 2)\n",
    "plt.plot(range(1, num_epochs + 1), train_accuracies, label='Training Accuracy')\n",
    "plt.xlabel('Epoch')\n",
    "plt.ylabel('Accuracy')\n",
    "plt.title('Training Accuracy')\n",
    "plt.legend()\n",
    "\n",
    "plt.show()"
   ]
  },
  {
   "cell_type": "code",
   "execution_count": 33,
   "metadata": {},
   "outputs": [
    {
     "data": {
      "image/png": "[encoded data removed]",
      "text/plain": [
       "<Figure size 1000x700 with 2 Axes>"
      ]
     },
     "metadata": {},
     "output_type": "display_data"
    }
   ],
   "source": [
    "import seaborn as sns\n",
    "\n",
    "# Convert lists to numpy arrays for sklearn metrics\n",
    "all_targets = np.array(all_targets)\n",
    "all_predictions = np.array(all_predictions)\n",
    "\n",
    "# Confusion Matrix\n",
    "cm = confusion_matrix(all_targets, all_predictions)\n",
    "plt.figure(figsize=(10, 7))\n",
    "sns.heatmap(cm, annot=True, fmt='d', cmap='Blues', xticklabels=range(10), yticklabels=range(10))\n",
    "plt.xlabel('Predicted')\n",
    "plt.ylabel('True')\n",
    "plt.title('Confusion Matrix')\n",
    "plt.show()"
   ]
  },
  {
   "cell_type": "code",
   "execution_count": 34,
   "metadata": {},
   "outputs": [
    {
     "data": {
      "image/png": "[encoded data removed]",
      "text/plain": [
       "<Figure size 1000x700 with 1 Axes>"
      ]
     },
     "metadata": {},
     "output_type": "display_data"
    }
   ],
   "source": [
    "# For ROC curve, we need to binarize the output\n",
    "from sklearn.preprocessing import label_binarize\n",
    "from sklearn.metrics import roc_curve, auc\n",
    "\n",
    "all_targets_bin = label_binarize(all_targets, classes=range(10))\n",
    "all_predictions_bin = label_binarize(all_predictions, classes=range(10))\n",
    "\n",
    "# Compute ROC curve and ROC area for each class\n",
    "fpr = dict()\n",
    "tpr = dict()\n",
    "roc_auc = dict()\n",
    "for i in range(10):\n",
    "    fpr[i], tpr[i], _ = roc_curve(all_targets_bin[:, i], all_predictions_bin[:, i])\n",
    "    roc_auc[i] = auc(fpr[i], tpr[i])\n",
    "\n",
    "# Plot ROC curve for each class\n",
    "plt.figure(figsize=(10, 7))\n",
    "for i in range(10):\n",
    "    plt.plot(fpr[i], tpr[i], lw=2, label=f'Class {i} (area = {roc_auc[i]:.2f})')\n",
    "plt.plot([0, 1], [0, 1], color='navy', lw=2, linestyle='--')\n",
    "plt.xlim([0.0, 1.0])\n",
    "plt.ylim([0.0, 1.05])\n",
    "plt.xlabel('False Positive Rate')\n",
    "plt.ylabel('True Positive Rate')\n",
    "plt.title('Receiver Operating Characteristic (ROC) Curve')\n",
    "plt.legend(loc='lower right')\n",
    "plt.show()"
   ]
  },
  {
   "cell_type": "markdown",
   "metadata": {},
   "source": [
    "## Saving and loading the model"
   ]
  },
  {
   "cell_type": "markdown",
   "metadata": {},
   "source": [
    "##### **Q19: How do you save a trained neural network model in PyTorch?**"
   ]
  },
  {
   "cell_type": "code",
   "execution_count": 35,
   "metadata": {},
   "outputs": [
    {
     "name": "stdout",
     "output_type": "stream",
     "text": [
      "Model saved to 'model.pth'\n"
     ]
    }
   ],
   "source": [
    "# Save the model's state dictionary\n",
    "torch.save(model.state_dict(), 'model.pth')\n",
    "print(\"Model saved to 'model.pth'\")"
   ]
  },
  {
   "cell_type": "markdown",
   "metadata": {},
   "source": [
    "##### **Q20: How do you load a saved neural network model in PyTorch?**"
   ]
  },
  {
   "cell_type": "code",
   "execution_count": 36,
   "metadata": {},
   "outputs": [
    {
     "name": "stdout",
     "output_type": "stream",
     "text": [
      "Model loaded from 'model.pth'\n"
     ]
    },
    {
     "name": "stderr",
     "output_type": "stream",
     "text": [
      "C:\\Users\\fellm\\AppData\\Local\\Temp\\ipykernel_11272\\2203591140.py:5: FutureWarning: You are using `torch.load` with `weights_only=False` (the current default value), which uses the default pickle module implicitly. It is possible to construct malicious pickle data which will execute arbitrary code during unpickling (See https://github.com/pytorch/pytorch/blob/main/SECURITY.md#untrusted-models for more details). In a future release, the default value for `weights_only` will be flipped to `True`. This limits the functions that could be executed during unpickling. Arbitrary objects will no longer be allowed to be loaded via this mode unless they are explicitly allowlisted by the user via `torch.serialization.add_safe_globals`. We recommend you start setting `weights_only=True` for any use case where you don't have full control of the loaded file. Please open an issue on GitHub for any issues related to this experimental feature.\n",
      "  model.load_state_dict(torch.load('model.pth'))\n"
     ]
    }
   ],
   "source": [
    "# Instantiate the model\n",
    "model = SimpleNet()\n",
    "\n",
    "# Load the model's state dictionary\n",
    "model.load_state_dict(torch.load('model.pth'))\n",
    "model.eval()  # Set the model to evaluation mode\n",
    "print(\"Model loaded from 'model.pth'\")"
   ]
  },
  {
   "cell_type": "code",
   "execution_count": 37,
   "metadata": {},
   "outputs": [
    {
     "name": "stdout",
     "output_type": "stream",
     "text": [
      "File model.pth deleted.\n"
     ]
    }
   ],
   "source": [
    "import os\n",
    "\n",
    "filenames = ['model.pth']\n",
    "\n",
    "for filename in filenames:\n",
    "    if os.path.exists(filename):\n",
    "        os.remove(filename) \n",
    "        print(f'File {filename} deleted.')\n",
    "    else:\n",
    "        print(f'File {filename} not found.')"
   ]
  },
  {
   "cell_type": "markdown",
   "metadata": {},
   "source": [
    "## Optimizations"
   ]
  },
  {
   "cell_type": "markdown",
   "metadata": {},
   "source": [
    "##### **Q21: How do you perform hyperparameter tuning to improve the performance of a neural network?**"
   ]
  },
  {
   "cell_type": "code",
   "execution_count": 38,
   "metadata": {},
   "outputs": [
    {
     "name": "stdout",
     "output_type": "stream",
     "text": [
      "Using device: cuda\n",
      "Best params: {'activation': 'ReLU', 'batch_size': 64, 'dropout_rate': 0.0, 'hidden_size': 64, 'learning_rate': 0.01, 'num_layers': 2, 'optimizer': 'Adam'}\n",
      "Best loss: 0.0005009886172047118\n"
     ]
    }
   ],
   "source": [
    "from sklearn.model_selection import ParameterGrid\n",
    "\n",
    "# Check if CUDA is available\n",
    "device = torch.device(\"cuda\" if torch.cuda.is_available() else \"cpu\")\n",
    "print(f\"Using device: {device}\")\n",
    "\n",
    "# Define a \"flexible\" neural network\n",
    "class FlexibleNet(nn.Module):\n",
    "    def __init__(self, input_size, hidden_size, output_size, num_layers, dropout_rate, activation):\n",
    "        super(FlexibleNet, self).__init__()\n",
    "        self.num_layers = num_layers\n",
    "        self.dropout = nn.Dropout(dropout_rate)\n",
    "        self.activation = activation\n",
    "\n",
    "        self.fc1 = nn.Linear(input_size, hidden_size)\n",
    "        self.hidden_layers = nn.ModuleList([nn.Linear(hidden_size, hidden_size) for _ in range(num_layers - 1)])\n",
    "        self.fc_out = nn.Linear(hidden_size, output_size)\n",
    "    \n",
    "    def forward(self, x):\n",
    "        x = self._apply_activation(self.fc1(x))\n",
    "        x = self.dropout(x)\n",
    "        for layer in self.hidden_layers:\n",
    "            x = self._apply_activation(layer(x))\n",
    "            x = self.dropout(x)\n",
    "        x = self.fc_out(x)\n",
    "        return x\n",
    "    \n",
    "    def _apply_activation(self, x):\n",
    "        if self.activation == 'ReLU':\n",
    "            return torch.relu(x)\n",
    "        elif self.activation == 'LeakyReLU':\n",
    "            return F.leaky_relu(x)\n",
    "        elif self.activation == 'Tanh':\n",
    "            return torch.tanh(x)\n",
    "        else:\n",
    "            raise ValueError(f\"Unsupported activation function: {self.activation}\")\n",
    "\n",
    "# Create a synthetic dataset for demonstration\n",
    "input_data = torch.randn(1000, 784)\n",
    "target_data = torch.randint(0, 10, (1000,))\n",
    "dataset = TensorDataset(input_data, target_data)\n",
    "data_loader = DataLoader(dataset, batch_size=64, shuffle=True)\n",
    "\n",
    "# Function to initialize the model\n",
    "def create_model(input_size, hidden_size, output_size, num_layers, dropout_rate, activation):\n",
    "    model = FlexibleNet(input_size, hidden_size, output_size, num_layers, dropout_rate, activation).to(device)\n",
    "    return model\n",
    "\n",
    "# Training function to include different optimizers\n",
    "def train_model(model, train_loader, optimizer_name, learning_rate, num_epochs=10):\n",
    "    loss_fn = nn.CrossEntropyLoss()\n",
    "    if optimizer_name == 'SGD':\n",
    "        optimizer = optim.SGD(model.parameters(), lr=learning_rate)\n",
    "    elif optimizer_name == 'Adam':\n",
    "        optimizer = optim.Adam(model.parameters(), lr=learning_rate)\n",
    "    else:\n",
    "        raise ValueError(f\"Unsupported optimizer: {optimizer_name}\")\n",
    "    \n",
    "    model.train()\n",
    "    for epoch in range(num_epochs):\n",
    "        running_loss = 0.0\n",
    "        for inputs, targets in train_loader:\n",
    "            inputs, targets = inputs.to(device), targets.to(device)\n",
    "            outputs = model(inputs)\n",
    "            loss = loss_fn(outputs, targets)\n",
    "            optimizer.zero_grad()\n",
    "            loss.backward()\n",
    "            optimizer.step()\n",
    "            running_loss += loss.item()\n",
    "    return running_loss / len(train_loader)\n",
    "\n",
    "param_grid = {\n",
    "    'hidden_size': [64, 128, 256],  # Hidden layer sizes\n",
    "    'learning_rate': [0.01, 0.001],  # Learning rates\n",
    "    'batch_size': [32, 64],  # Batch sizes\n",
    "    'optimizer': ['SGD', 'Adam'],  # Optimizers\n",
    "    'num_layers': [2, 3],  # Number of hidden layers\n",
    "    'dropout_rate': [0.0, 0.3, 0.5],  # Dropout rates\n",
    "    'activation': ['ReLU', 'LeakyReLU', 'Tanh']  # Activation functions\n",
    "}\n",
    "\n",
    "# Perform GridSearch with extended parameters\n",
    "best_params = None\n",
    "best_loss = float('inf')\n",
    "param_combinations = list(ParameterGrid(param_grid))\n",
    "\n",
    "for params in param_combinations:\n",
    "    # print(f\"Testing params: {params}\")\n",
    "    model = create_model(784, params['hidden_size'], 10, params['num_layers'], params['dropout_rate'], params['activation'])\n",
    "    train_loader = DataLoader(dataset, batch_size=params['batch_size'], shuffle=True)\n",
    "    avg_loss = train_model(model, train_loader, params['optimizer'], params['learning_rate'])\n",
    "    # print(f\"Average loss: {avg_loss}\")\n",
    "    if avg_loss < best_loss:\n",
    "        best_loss = avg_loss\n",
    "        best_params = params\n",
    "\n",
    "print(f\"Best params: {best_params}\")\n",
    "print(f\"Best loss: {best_loss}\")"
   ]
  },
  {
   "cell_type": "markdown",
   "metadata": {},
   "source": [
    "##### **Q22: What regularization techniques can you implement to prevent overfitting in neural networks?**"
   ]
  },
  {
   "cell_type": "code",
   "execution_count": 39,
   "metadata": {},
   "outputs": [
    {
     "name": "stdout",
     "output_type": "stream",
     "text": [
      "Best params: {'activation': 'LeakyReLU', 'batch_size': 64, 'dropout_rate': 0.0, 'hidden_size': 128, 'learning_rate': 0.01, 'num_layers': 2, 'optimizer': 'Adam', 'use_batch_norm': False, 'weight_decay': 0}\n",
      "Best loss: 0.0004498106263781665\n"
     ]
    }
   ],
   "source": [
    "# Define a \"flexible\" neural network with additional regularization techniques\n",
    "class FlexibleNet(nn.Module):\n",
    "    def __init__(self, input_size, hidden_size, output_size, num_layers, dropout_rate, activation, use_batch_norm=False):\n",
    "        super(FlexibleNet, self).__init__()\n",
    "        self.num_layers = num_layers\n",
    "        self.dropout = nn.Dropout(dropout_rate)\n",
    "        self.activation = activation\n",
    "        self.use_batch_norm = use_batch_norm\n",
    "\n",
    "        self.fc1 = nn.Linear(input_size, hidden_size)\n",
    "        self.bn1 = nn.BatchNorm1d(hidden_size) if use_batch_norm else None\n",
    "        self.hidden_layers = nn.ModuleList()\n",
    "        self.batch_norm_layers = nn.ModuleList()\n",
    "        \n",
    "        for _ in range(num_layers - 1):\n",
    "            self.hidden_layers.append(nn.Linear(hidden_size, hidden_size))\n",
    "            if use_batch_norm:\n",
    "                self.batch_norm_layers.append(nn.BatchNorm1d(hidden_size))\n",
    "        \n",
    "        self.fc_out = nn.Linear(hidden_size, output_size)\n",
    "    \n",
    "    def forward(self, x):\n",
    "        x = self._apply_activation(self.fc1(x))\n",
    "        if self.bn1:\n",
    "            x = self.bn1(x)\n",
    "        x = self.dropout(x)\n",
    "        for i, layer in enumerate(self.hidden_layers):\n",
    "            x = self._apply_activation(layer(x))\n",
    "            if self.use_batch_norm:\n",
    "                x = self.batch_norm_layers[i](x)\n",
    "            x = self.dropout(x)\n",
    "        x = self.fc_out(x)\n",
    "        return x\n",
    "    \n",
    "    def _apply_activation(self, x):\n",
    "        if self.activation == 'ReLU':\n",
    "            return torch.relu(x)\n",
    "        elif self.activation == 'LeakyReLU':\n",
    "            return F.leaky_relu(x)\n",
    "        elif self.activation == 'Tanh':\n",
    "            return torch.tanh(x)\n",
    "        else:\n",
    "            raise ValueError(f\"Unsupported activation function: {self.activation}\")\n",
    "\n",
    "# Synthetic dataset\n",
    "input_data = torch.randn(1000, 784)\n",
    "target_data = torch.randint(0, 10, (1000,))\n",
    "dataset = TensorDataset(input_data, target_data)\n",
    "data_loader = DataLoader(dataset, batch_size=64, shuffle=True)\n",
    "\n",
    "# Function to initialize the model\n",
    "def create_model(input_size, hidden_size, output_size, num_layers, dropout_rate, activation, use_batch_norm=False):\n",
    "    model = FlexibleNet(input_size, hidden_size, output_size, num_layers, dropout_rate, activation, use_batch_norm).to(device)\n",
    "    return model\n",
    "\n",
    "# Training function to include different optimizers and weight decay (L2 regularization)\n",
    "def train_model(model, train_loader, optimizer_name, learning_rate, weight_decay, num_epochs=10):\n",
    "    loss_fn = nn.CrossEntropyLoss()\n",
    "    if optimizer_name == 'SGD':\n",
    "        optimizer = optim.SGD(model.parameters(), lr=learning_rate, weight_decay=weight_decay)\n",
    "    elif optimizer_name == 'Adam':\n",
    "        optimizer = optim.Adam(model.parameters(), lr=learning_rate, weight_decay=weight_decay)\n",
    "    else:\n",
    "        raise ValueError(f\"Unsupported optimizer: {optimizer_name}\")\n",
    "    \n",
    "    model.train()\n",
    "    for epoch in range(num_epochs):\n",
    "        running_loss = 0.0\n",
    "        for inputs, targets in train_loader:\n",
    "            inputs, targets = inputs.to(device), targets.to(device)\n",
    "            outputs = model(inputs)\n",
    "            loss = loss_fn(outputs, targets)\n",
    "            optimizer.zero_grad()\n",
    "            loss.backward()\n",
    "            optimizer.step()\n",
    "            running_loss += loss.item()\n",
    "    return running_loss / len(train_loader)\n",
    "\n",
    "param_grid = {\n",
    "    'hidden_size': [64, 128, 256],  # Hidden layer sizes\n",
    "    'learning_rate': [0.01, 0.001],  # Learning rates\n",
    "    'batch_size': [32, 64],  # Batch sizes\n",
    "    'optimizer': ['SGD', 'Adam'],  # Optimizers\n",
    "    'num_layers': [2, 3],  # Number of hidden layers\n",
    "    'dropout_rate': [0.0, 0.3, 0.5],  # Dropout rates\n",
    "    'activation': ['ReLU', 'LeakyReLU', 'Tanh'],  # Activation functions\n",
    "    'weight_decay': [0, 1e-4, 1e-3],  # Weight decay (L2 regularization)\n",
    "    'use_batch_norm': [False, True]  # Use batch normalization\n",
    "}\n",
    "\n",
    "# Perform GridSearch with extended parameters\n",
    "best_params = None\n",
    "best_loss = float('inf')\n",
    "param_combinations = list(ParameterGrid(param_grid))\n",
    "\n",
    "for params in param_combinations:\n",
    "    # print(f\"Testing params: {params}\")\n",
    "    model = create_model(784, params['hidden_size'], 10, params['num_layers'], params['dropout_rate'], params['activation'], params['use_batch_norm'])\n",
    "    train_loader = DataLoader(dataset, batch_size=params['batch_size'], shuffle=True)\n",
    "    avg_loss = train_model(model, train_loader, params['optimizer'], params['learning_rate'], params['weight_decay'])\n",
    "    # print(f\"Average loss: {avg_loss}\")\n",
    "    if avg_loss < best_loss:\n",
    "        best_loss = avg_loss\n",
    "        best_params = params\n",
    "\n",
    "print(f\"Best params: {best_params}\")\n",
    "print(f\"Best loss: {best_loss}\")"
   ]
  },
  {
   "cell_type": "markdown",
   "metadata": {},
   "source": [
    "##### **Q23: How do you use learning rate scheduling to adjust the learning rate during training?**"
   ]
  },
  {
   "cell_type": "code",
   "execution_count": 40,
   "metadata": {},
   "outputs": [
    {
     "name": "stdout",
     "output_type": "stream",
     "text": [
      "Using device: cuda\n",
      "Best params: {'activation': 'ReLU', 'batch_size': 64, 'dropout_rate': 0.0, 'hidden_size': 256, 'learning_rate': 0.01, 'num_layers': 3, 'optimizer': 'Adam', 'scheduler': <class 'torch.optim.lr_scheduler.StepLR'>, 'use_batch_norm': False, 'weight_decay': 0}\n",
      "Best loss: 0.00018998611312781577\n"
     ]
    }
   ],
   "source": [
    "# Check if CUDA is available\n",
    "device = torch.device(\"cuda\" if torch.cuda.is_available() else \"cpu\")\n",
    "print(f\"Using device: {device}\")\n",
    "\n",
    "# Redefine a \"flexible\" neural network with additional regularization techniques\n",
    "class FlexibleNet(nn.Module):\n",
    "    def __init__(self, input_size, hidden_size, output_size, num_layers, dropout_rate, activation, use_batch_norm=False):\n",
    "        super(FlexibleNet, self).__init__()\n",
    "        self.num_layers = num_layers\n",
    "        self.dropout = nn.Dropout(dropout_rate)\n",
    "        self.activation = activation\n",
    "        self.use_batch_norm = use_batch_norm\n",
    "\n",
    "        self.fc1 = nn.Linear(input_size, hidden_size)\n",
    "        self.bn1 = nn.BatchNorm1d(hidden_size) if use_batch_norm else None\n",
    "        self.hidden_layers = nn.ModuleList()\n",
    "        self.batch_norm_layers = nn.ModuleList()\n",
    "        \n",
    "        for _ in range(num_layers - 1):\n",
    "            self.hidden_layers.append(nn.Linear(hidden_size, hidden_size))\n",
    "            if use_batch_norm:\n",
    "                self.batch_norm_layers.append(nn.BatchNorm1d(hidden_size))\n",
    "        \n",
    "        self.fc_out = nn.Linear(hidden_size, output_size)\n",
    "    \n",
    "    def forward(self, x):\n",
    "        x = self._apply_activation(self.fc1(x))\n",
    "        if self.bn1:\n",
    "            x = self.bn1(x)\n",
    "        x = self.dropout(x)\n",
    "        for i, layer in enumerate(self.hidden_layers):\n",
    "            x = self._apply_activation(layer(x))\n",
    "            if self.use_batch_norm:\n",
    "                x = self.batch_norm_layers[i](x)\n",
    "            x = self.dropout(x)\n",
    "        x = self.fc_out(x)\n",
    "        return x\n",
    "    \n",
    "    def _apply_activation(self, x):\n",
    "        if self.activation == 'ReLU':\n",
    "            return torch.relu(x)\n",
    "        elif self.activation == 'LeakyReLU':\n",
    "            return F.leaky_relu(x)\n",
    "        elif self.activation == 'Tanh':\n",
    "            return torch.tanh(x)\n",
    "        else:\n",
    "            raise ValueError(f\"Unsupported activation function: {self.activation}\")\n",
    "\n",
    "input_data = torch.randn(1000, 784)\n",
    "target_data = torch.randint(0, 10, (1000,))\n",
    "dataset = TensorDataset(input_data, target_data)\n",
    "data_loader = DataLoader(dataset, batch_size=64, shuffle=True)\n",
    "\n",
    "def create_model(input_size, hidden_size, output_size, num_layers, dropout_rate, activation, use_batch_norm=False):\n",
    "    model = FlexibleNet(input_size, hidden_size, output_size, num_layers, dropout_rate, activation, use_batch_norm).to(device)\n",
    "    return model\n",
    "\n",
    "def train_model(model, train_loader, optimizer_name, learning_rate, weight_decay, num_epochs=10, scheduler_class=None):\n",
    "    loss_fn = nn.CrossEntropyLoss()\n",
    "    if optimizer_name == 'SGD':\n",
    "        optimizer = optim.SGD(model.parameters(), lr=learning_rate, weight_decay=weight_decay)\n",
    "    elif optimizer_name == 'Adam':\n",
    "        optimizer = optim.Adam(model.parameters(), lr=learning_rate, weight_decay=weight_decay)\n",
    "    else:\n",
    "        raise ValueError(f\"Unsupported optimizer: {optimizer_name}\")\n",
    "    \n",
    "    scheduler = None\n",
    "    if scheduler_class is not None:\n",
    "        if scheduler_class == optim.lr_scheduler.StepLR:\n",
    "            scheduler = scheduler_class(optimizer, step_size=1, gamma=0.9)\n",
    "        elif scheduler_class == optim.lr_scheduler.ExponentialLR:\n",
    "            scheduler = scheduler_class(optimizer, gamma=0.9)\n",
    "    \n",
    "    model.train()\n",
    "    for epoch in range(num_epochs):\n",
    "        running_loss = 0.0\n",
    "        for inputs, targets in train_loader:\n",
    "            inputs, targets = inputs.to(device), targets.to(device)\n",
    "            outputs = model(inputs)\n",
    "            loss = loss_fn(outputs, targets)\n",
    "            optimizer.zero_grad()\n",
    "            loss.backward()\n",
    "            optimizer.step()\n",
    "            running_loss += loss.item()\n",
    "        \n",
    "        if scheduler is not None:\n",
    "            scheduler.step()\n",
    "            \n",
    "    avg_loss = running_loss / len(train_loader)\n",
    "    return avg_loss\n",
    "\n",
    "param_grid = {\n",
    "    'hidden_size': [64, 128, 256],  # Hidden layer sizes\n",
    "    'learning_rate': [0.01, 0.001],  # Learning rates\n",
    "    'batch_size': [32, 64],  # Batch sizes\n",
    "    'optimizer': ['SGD', 'Adam'],  # Optimizers\n",
    "    'num_layers': [2, 3],  # Number of hidden layers\n",
    "    'dropout_rate': [0.0, 0.3, 0.5],  # Dropout rates\n",
    "    'activation': ['ReLU', 'LeakyReLU', 'Tanh'],  # Activation functions\n",
    "    'weight_decay': [0, 1e-4, 1e-3],  # Weight decay (L2 regularization)\n",
    "    'use_batch_norm': [False, True],  # Use batch normalization\n",
    "    'scheduler': [None, optim.lr_scheduler.StepLR, optim.lr_scheduler.ExponentialLR]  # Learning rate schedulers\n",
    "}\n",
    "\n",
    "# Grid search\n",
    "best_params = None\n",
    "best_loss = float('inf')\n",
    "param_combinations = list(ParameterGrid(param_grid))\n",
    "\n",
    "for params in param_combinations:\n",
    "    model = create_model(784, params['hidden_size'], 10, params['num_layers'], params['dropout_rate'], params['activation'], params['use_batch_norm'])\n",
    "    train_loader = DataLoader(dataset, batch_size=params['batch_size'], shuffle=True)\n",
    "    scheduler_class = params['scheduler']\n",
    "    avg_loss = train_model(model, train_loader, params['optimizer'], params['learning_rate'], params['weight_decay'], scheduler_class=scheduler_class)\n",
    "    if avg_loss < best_loss:\n",
    "        best_loss = avg_loss\n",
    "        best_params = params\n",
    "9\n",
    "print(f\"Best params: {best_params}\")\n",
    "print(f\"Best loss: {best_loss}\")"
   ]
  },
  {
   "cell_type": "markdown",
   "metadata": {},
   "source": [
    "## Handling real-world data"
   ]
  },
  {
   "cell_type": "markdown",
   "metadata": {},
   "source": [
    "##### **Q24: How do you preprocess a real-world dataset for training a neural network?**"
   ]
  },
  {
   "cell_type": "code",
   "execution_count": 56,
   "metadata": {},
   "outputs": [
    {
     "name": "stdout",
     "output_type": "stream",
     "text": [
      "First few rows of the dataset:\n",
      "   survived  pclass     sex   age  sibsp  parch     fare embarked  class  \\\n",
      "0         0       3    male  22.0      1      0   7.2500        S  Third   \n",
      "1         1       1  female  38.0      1      0  71.2833        C  First   \n",
      "2         1       3  female  26.0      0      0   7.9250        S  Third   \n",
      "3         1       1  female  35.0      1      0  53.1000        S  First   \n",
      "4         0       3    male  35.0      0      0   8.0500        S  Third   \n",
      "\n",
      "     who  adult_male deck  embark_town alive  alone  \n",
      "0    man        True  NaN  Southampton    no  False  \n",
      "1  woman       False    C    Cherbourg   yes  False  \n",
      "2  woman       False  NaN  Southampton   yes   True  \n",
      "3  woman       False    C  Southampton   yes  False  \n",
      "4    man        True  NaN  Southampton    no   True  \n"
     ]
    }
   ],
   "source": [
    "# Load the Titanic dataset\n",
    "titanic = sns.load_dataset('titanic')\n",
    "\n",
    "# Display the first few rows of the dataset\n",
    "print(\"First few rows of the dataset:\")\n",
    "print(titanic.head())"
   ]
  },
  {
   "cell_type": "code",
   "execution_count": 57,
   "metadata": {},
   "outputs": [
    {
     "name": "stdout",
     "output_type": "stream",
     "text": [
      "\n",
      "Column data types:\n",
      "survived          int64\n",
      "pclass            int64\n",
      "sex              object\n",
      "age             float64\n",
      "sibsp             int64\n",
      "parch             int64\n",
      "fare            float64\n",
      "embarked         object\n",
      "class          category\n",
      "who              object\n",
      "adult_male         bool\n",
      "deck           category\n",
      "embark_town      object\n",
      "alive            object\n",
      "alone              bool\n",
      "dtype: object\n"
     ]
    }
   ],
   "source": [
    "# Check column data types\n",
    "print(\"\\nColumn data types:\")\n",
    "print(titanic.dtypes)"
   ]
  },
  {
   "cell_type": "code",
   "execution_count": 58,
   "metadata": {},
   "outputs": [
    {
     "name": "stdout",
     "output_type": "stream",
     "text": [
      "\n",
      "Missing values in each column:\n",
      "survived         0\n",
      "pclass           0\n",
      "sex              0\n",
      "age            177\n",
      "sibsp            0\n",
      "parch            0\n",
      "fare             0\n",
      "embarked         2\n",
      "class            0\n",
      "who              0\n",
      "adult_male       0\n",
      "deck           688\n",
      "embark_town      2\n",
      "alive            0\n",
      "alone            0\n",
      "dtype: int64\n"
     ]
    }
   ],
   "source": [
    "# Count missing values\n",
    "print(\"\\nMissing values in each column:\")\n",
    "print(titanic.isnull().sum())"
   ]
  },
  {
   "cell_type": "code",
   "execution_count": 59,
   "metadata": {},
   "outputs": [
    {
     "name": "stdout",
     "output_type": "stream",
     "text": [
      "\n",
      "Summary statistics for numerical features:\n",
      "         survived      pclass         age       sibsp       parch        fare\n",
      "count  891.000000  891.000000  714.000000  891.000000  891.000000  891.000000\n",
      "mean     0.383838    2.308642   29.699118    0.523008    0.381594   32.204208\n",
      "std      0.486592    0.836071   14.526497    1.102743    0.806057   49.693429\n",
      "min      0.000000    1.000000    0.420000    0.000000    0.000000    0.000000\n",
      "25%      0.000000    2.000000   20.125000    0.000000    0.000000    7.910400\n",
      "50%      0.000000    3.000000   28.000000    0.000000    0.000000   14.454200\n",
      "75%      1.000000    3.000000   38.000000    1.000000    0.000000   31.000000\n",
      "max      1.000000    3.000000   80.000000    8.000000    6.000000  512.329200\n",
      "\n",
      "Summary statistics for categorical features:\n",
      "         sex embarked  who  embark_town alive\n",
      "count    891      889  891          889   891\n",
      "unique     2        3    3            3     2\n",
      "top     male        S  man  Southampton    no\n",
      "freq     577      644  537          644   549\n"
     ]
    }
   ],
   "source": [
    "# Summary statistics\n",
    "print(\"\\nSummary statistics for numerical features:\")\n",
    "print(titanic.describe())\n",
    "\n",
    "print(\"\\nSummary statistics for categorical features:\")\n",
    "print(titanic.describe(include=['O']))"
   ]
  },
  {
   "cell_type": "code",
   "execution_count": 60,
   "metadata": {},
   "outputs": [
    {
     "name": "stdout",
     "output_type": "stream",
     "text": [
      "\n",
      "Unique values in categorical columns:\n",
      "sex: ['male' 'female']\n",
      "embarked: ['S' 'C' 'Q' nan]\n",
      "who: ['man' 'woman' 'child']\n",
      "embark_town: ['Southampton' 'Cherbourg' 'Queenstown' nan]\n",
      "alive: ['no' 'yes']\n"
     ]
    }
   ],
   "source": [
    "# Unique values for categorical features\n",
    "print(\"\\nUnique values in categorical columns:\")\n",
    "for column in titanic.select_dtypes(include=['object']).columns:\n",
    "    print(f\"{column}: {titanic[column].unique()}\")"
   ]
  },
  {
   "cell_type": "markdown",
   "metadata": {},
   "source": [
    "##### **Q25: How do you handle missing data in a real-world dataset?**"
   ]
  },
  {
   "cell_type": "code",
   "execution_count": 61,
   "metadata": {},
   "outputs": [],
   "source": [
    "df_simple = titanic.copy()"
   ]
  },
  {
   "cell_type": "code",
   "execution_count": 62,
   "metadata": {},
   "outputs": [
    {
     "name": "stdout",
     "output_type": "stream",
     "text": [
      "\n",
      "Missing values in each column:\n",
      "survived         0\n",
      "pclass           0\n",
      "sex              0\n",
      "age            177\n",
      "sibsp            0\n",
      "parch            0\n",
      "fare             0\n",
      "embarked         2\n",
      "class            0\n",
      "who              0\n",
      "adult_male       0\n",
      "deck           688\n",
      "embark_town      2\n",
      "alive            0\n",
      "alone            0\n",
      "dtype: int64\n"
     ]
    }
   ],
   "source": [
    "# Step 1: Identify missing data\n",
    "print(\"\\nMissing values in each column:\")\n",
    "print(df_simple.isnull().sum())"
   ]
  },
  {
   "cell_type": "code",
   "execution_count": 63,
   "metadata": {},
   "outputs": [],
   "source": [
    "# One option: remove columns with too many missing values\n",
    "df_simple.drop(columns=['deck'], inplace=True)"
   ]
  },
  {
   "cell_type": "code",
   "execution_count": 64,
   "metadata": {},
   "outputs": [
    {
     "name": "stderr",
     "output_type": "stream",
     "text": [
      "C:\\Users\\fellm\\AppData\\Local\\Temp\\ipykernel_11272\\4183130222.py:2: FutureWarning: A value is trying to be set on a copy of a DataFrame or Series through chained assignment using an inplace method.\n",
      "The behavior will change in pandas 3.0. This inplace method will never work because the intermediate object on which we are setting values always behaves as a copy.\n",
      "\n",
      "For example, when doing 'df[col].method(value, inplace=True)', try using 'df.method({col: value}, inplace=True)' or df[col] = df[col].method(value) instead, to perform the operation inplace on the original object.\n",
      "\n",
      "\n",
      "  df_simple['age'].fillna(df_simple['age'].median(), inplace=True)  # Fill missing values for 'age' with the median age\n",
      "C:\\Users\\fellm\\AppData\\Local\\Temp\\ipykernel_11272\\4183130222.py:3: FutureWarning: A value is trying to be set on a copy of a DataFrame or Series through chained assignment using an inplace method.\n",
      "The behavior will change in pandas 3.0. This inplace method will never work because the intermediate object on which we are setting values always behaves as a copy.\n",
      "\n",
      "For example, when doing 'df[col].method(value, inplace=True)', try using 'df.method({col: value}, inplace=True)' or df[col] = df[col].method(value) instead, to perform the operation inplace on the original object.\n",
      "\n",
      "\n",
      "  df_simple['embarked'].fillna(df_simple['embarked'].mode()[0], inplace=True)  # Fill missing values for 'embarked' with the mode\n",
      "C:\\Users\\fellm\\AppData\\Local\\Temp\\ipykernel_11272\\4183130222.py:4: FutureWarning: A value is trying to be set on a copy of a DataFrame or Series through chained assignment using an inplace method.\n",
      "The behavior will change in pandas 3.0. This inplace method will never work because the intermediate object on which we are setting values always behaves as a copy.\n",
      "\n",
      "For example, when doing 'df[col].method(value, inplace=True)', try using 'df.method({col: value}, inplace=True)' or df[col] = df[col].method(value) instead, to perform the operation inplace on the original object.\n",
      "\n",
      "\n",
      "  df_simple['embark_town'].fillna(df_simple['embark_town'].mode()[0], inplace=True)  # Fill missing values for 'embarked' with the mode\n"
     ]
    }
   ],
   "source": [
    "# Alternative: impute missing data\n",
    "df_simple['age'].fillna(df_simple['age'].median(), inplace=True)  # Fill missing values for 'age' with the median age\n",
    "df_simple['embarked'].fillna(df_simple['embarked'].mode()[0], inplace=True)  # Fill missing values for 'embarked' with the mode\n",
    "df_simple['embark_town'].fillna(df_simple['embark_town'].mode()[0], inplace=True)  # Fill missing values for 'embarked' with the mode"
   ]
  },
  {
   "cell_type": "code",
   "execution_count": 65,
   "metadata": {},
   "outputs": [
    {
     "data": {
      "text/html": [
       "<div>\n",
       "<style scoped>\n",
       "    .dataframe tbody tr th:only-of-type {\n",
       "        vertical-align: middle;\n",
       "    }\n",
       "\n",
       "    .dataframe tbody tr th {\n",
       "        vertical-align: top;\n",
       "    }\n",
       "\n",
       "    .dataframe thead th {\n",
       "        text-align: right;\n",
       "    }\n",
       "</style>\n",
       "<table border=\"1\" class=\"dataframe\">\n",
       "  <thead>\n",
       "    <tr style=\"text-align: right;\">\n",
       "      <th></th>\n",
       "      <th>survived</th>\n",
       "      <th>pclass</th>\n",
       "      <th>sex</th>\n",
       "      <th>age</th>\n",
       "      <th>sibsp</th>\n",
       "      <th>parch</th>\n",
       "      <th>fare</th>\n",
       "      <th>embarked</th>\n",
       "      <th>class</th>\n",
       "      <th>who</th>\n",
       "      <th>adult_male</th>\n",
       "      <th>embark_town</th>\n",
       "      <th>alive</th>\n",
       "      <th>alone</th>\n",
       "    </tr>\n",
       "  </thead>\n",
       "  <tbody>\n",
       "    <tr>\n",
       "      <th>0</th>\n",
       "      <td>0</td>\n",
       "      <td>3</td>\n",
       "      <td>male</td>\n",
       "      <td>22.0</td>\n",
       "      <td>1</td>\n",
       "      <td>0</td>\n",
       "      <td>7.2500</td>\n",
       "      <td>S</td>\n",
       "      <td>Third</td>\n",
       "      <td>man</td>\n",
       "      <td>True</td>\n",
       "      <td>Southampton</td>\n",
       "      <td>no</td>\n",
       "      <td>False</td>\n",
       "    </tr>\n",
       "    <tr>\n",
       "      <th>1</th>\n",
       "      <td>1</td>\n",
       "      <td>1</td>\n",
       "      <td>female</td>\n",
       "      <td>38.0</td>\n",
       "      <td>1</td>\n",
       "      <td>0</td>\n",
       "      <td>71.2833</td>\n",
       "      <td>C</td>\n",
       "      <td>First</td>\n",
       "      <td>woman</td>\n",
       "      <td>False</td>\n",
       "      <td>Cherbourg</td>\n",
       "      <td>yes</td>\n",
       "      <td>False</td>\n",
       "    </tr>\n",
       "    <tr>\n",
       "      <th>2</th>\n",
       "      <td>1</td>\n",
       "      <td>3</td>\n",
       "      <td>female</td>\n",
       "      <td>26.0</td>\n",
       "      <td>0</td>\n",
       "      <td>0</td>\n",
       "      <td>7.9250</td>\n",
       "      <td>S</td>\n",
       "      <td>Third</td>\n",
       "      <td>woman</td>\n",
       "      <td>False</td>\n",
       "      <td>Southampton</td>\n",
       "      <td>yes</td>\n",
       "      <td>True</td>\n",
       "    </tr>\n",
       "    <tr>\n",
       "      <th>3</th>\n",
       "      <td>1</td>\n",
       "      <td>1</td>\n",
       "      <td>female</td>\n",
       "      <td>35.0</td>\n",
       "      <td>1</td>\n",
       "      <td>0</td>\n",
       "      <td>53.1000</td>\n",
       "      <td>S</td>\n",
       "      <td>First</td>\n",
       "      <td>woman</td>\n",
       "      <td>False</td>\n",
       "      <td>Southampton</td>\n",
       "      <td>yes</td>\n",
       "      <td>False</td>\n",
       "    </tr>\n",
       "    <tr>\n",
       "      <th>4</th>\n",
       "      <td>0</td>\n",
       "      <td>3</td>\n",
       "      <td>male</td>\n",
       "      <td>35.0</td>\n",
       "      <td>0</td>\n",
       "      <td>0</td>\n",
       "      <td>8.0500</td>\n",
       "      <td>S</td>\n",
       "      <td>Third</td>\n",
       "      <td>man</td>\n",
       "      <td>True</td>\n",
       "      <td>Southampton</td>\n",
       "      <td>no</td>\n",
       "      <td>True</td>\n",
       "    </tr>\n",
       "  </tbody>\n",
       "</table>\n",
       "</div>"
      ],
      "text/plain": [
       "   survived  pclass     sex   age  sibsp  parch     fare embarked  class  \\\n",
       "0         0       3    male  22.0      1      0   7.2500        S  Third   \n",
       "1         1       1  female  38.0      1      0  71.2833        C  First   \n",
       "2         1       3  female  26.0      0      0   7.9250        S  Third   \n",
       "3         1       1  female  35.0      1      0  53.1000        S  First   \n",
       "4         0       3    male  35.0      0      0   8.0500        S  Third   \n",
       "\n",
       "     who  adult_male  embark_town alive  alone  \n",
       "0    man        True  Southampton    no  False  \n",
       "1  woman       False    Cherbourg   yes  False  \n",
       "2  woman       False  Southampton   yes   True  \n",
       "3  woman       False  Southampton   yes  False  \n",
       "4    man        True  Southampton    no   True  "
      ]
     },
     "execution_count": 65,
     "metadata": {},
     "output_type": "execute_result"
    }
   ],
   "source": [
    "df_simple.head()"
   ]
  },
  {
   "cell_type": "code",
   "execution_count": 66,
   "metadata": {},
   "outputs": [
    {
     "name": "stdout",
     "output_type": "stream",
     "text": [
      "\n",
      "Missing values after imputation:\n",
      "survived       0\n",
      "pclass         0\n",
      "sex            0\n",
      "age            0\n",
      "sibsp          0\n",
      "parch          0\n",
      "fare           0\n",
      "embarked       0\n",
      "class          0\n",
      "who            0\n",
      "adult_male     0\n",
      "embark_town    0\n",
      "alive          0\n",
      "alone          0\n",
      "dtype: int64\n"
     ]
    }
   ],
   "source": [
    "# Verify that there are no more missing values\n",
    "print(\"\\nMissing values after imputation:\")\n",
    "print(df_simple.isnull().sum())"
   ]
  },
  {
   "cell_type": "code",
   "execution_count": 67,
   "metadata": {},
   "outputs": [],
   "source": [
    "df_imputed = titanic.copy()"
   ]
  },
  {
   "cell_type": "code",
   "execution_count": 69,
   "metadata": {},
   "outputs": [
    {
     "name": "stdout",
     "output_type": "stream",
     "text": [
      "   survived  pclass     sex   age  sibsp  parch     fare embarked  class  \\\n",
      "0         0       3    male  22.0      1      0   7.2500        S  Third   \n",
      "1         1       1  female  38.0      1      0  71.2833        C  First   \n",
      "2         1       3  female  26.0      0      0   7.9250        S  Third   \n",
      "3         1       1  female  35.0      1      0  53.1000        S  First   \n",
      "4         0       3    male  35.0      0      0   8.0500        S  Third   \n",
      "\n",
      "     who  adult_male deck  embark_town alive  alone  \n",
      "0    man        True  NaN  Southampton    no  False  \n",
      "1  woman       False    C    Cherbourg   yes  False  \n",
      "2  woman       False  NaN  Southampton   yes   True  \n",
      "3  woman       False    C  Southampton   yes  False  \n",
      "4    man        True  NaN  Southampton    no   True  \n"
     ]
    }
   ],
   "source": [
    "# Another alternative: use sklearn's SimpleImputer\n",
    "from sklearn.impute import SimpleImputer\n",
    "\n",
    "# For numerical data\n",
    "imputer = SimpleImputer(strategy='median')\n",
    "df_imputed['age'] = imputer.fit_transform(df_imputed[['age']]).flatten()\n",
    "\n",
    "# For categorical data\n",
    "imputer = SimpleImputer(strategy='most_frequent')\n",
    "df_imputed['embarked'] = imputer.fit_transform(df_imputed[['embarked']]).flatten()\n",
    "df_imputed['embark_town'] = imputer.fit_transform(df_imputed[['embark_town']]).flatten()\n",
    "\n",
    "# Check the imputed dataframe\n",
    "print(df_imputed.head())"
   ]
  },
  {
   "cell_type": "code",
   "execution_count": 70,
   "metadata": {},
   "outputs": [
    {
     "name": "stdout",
     "output_type": "stream",
     "text": [
      "\n",
      "Missing values after imputation:\n",
      "survived         0\n",
      "pclass           0\n",
      "sex              0\n",
      "age              0\n",
      "sibsp            0\n",
      "parch            0\n",
      "fare             0\n",
      "embarked         0\n",
      "class            0\n",
      "who              0\n",
      "adult_male       0\n",
      "deck           688\n",
      "embark_town      0\n",
      "alive            0\n",
      "alone            0\n",
      "dtype: int64\n"
     ]
    }
   ],
   "source": [
    "print(\"\\nMissing values after imputation:\")\n",
    "print(df_imputed.isnull().sum())"
   ]
  },
  {
   "cell_type": "code",
   "execution_count": 71,
   "metadata": {},
   "outputs": [
    {
     "name": "stdout",
     "output_type": "stream",
     "text": [
      "[NaN, 'C', 'E', 'G', 'D', 'A', 'B', 'F']\n",
      "Categories (7, object): ['A', 'B', 'C', 'D', 'E', 'F', 'G']\n"
     ]
    }
   ],
   "source": [
    "# Ways to handle the \"deck column\":\n",
    "print(df_imputed['deck'].unique())"
   ]
  },
  {
   "cell_type": "code",
   "execution_count": 72,
   "metadata": {},
   "outputs": [],
   "source": [
    "df_advanced = df_imputed.copy()"
   ]
  },
  {
   "cell_type": "code",
   "execution_count": 73,
   "metadata": {},
   "outputs": [
    {
     "name": "stdout",
     "output_type": "stream",
     "text": [
      "0\n"
     ]
    }
   ],
   "source": [
    "# Function to impute 'deck' based on 'pclass' and 'fare'\n",
    "def impute_deck(row):\n",
    "    if pd.isnull(row['deck']):\n",
    "        if row['pclass'] == 1:\n",
    "            return 'C'  # Assuming 'C' for first class as a common value\n",
    "        elif row['pclass'] == 2:\n",
    "            return 'D'  # Assuming 'D' for second class as a common value\n",
    "        else:\n",
    "            return 'G'  # Assuming 'G' for third class as a common value\n",
    "    else:\n",
    "        return row['deck']\n",
    "\n",
    "df_imputed['deck'] = df_imputed.apply(impute_deck, axis=1)\n",
    "\n",
    "print(df_imputed['deck'].isnull().sum())"
   ]
  },
  {
   "cell_type": "code",
   "execution_count": 74,
   "metadata": {},
   "outputs": [
    {
     "name": "stdout",
     "output_type": "stream",
     "text": [
      "deck\n",
      "G    483\n",
      "D    201\n",
      "C    100\n",
      "B     47\n",
      "E     32\n",
      "A     15\n",
      "F     13\n",
      "Name: count, dtype: int64\n"
     ]
    }
   ],
   "source": [
    "print(df_imputed['deck'].value_counts())"
   ]
  },
  {
   "cell_type": "code",
   "execution_count": 75,
   "metadata": {},
   "outputs": [
    {
     "name": "stdout",
     "output_type": "stream",
     "text": [
      "0\n"
     ]
    }
   ],
   "source": [
    "# Another way:\n",
    "from sklearn.ensemble import RandomForestClassifier\n",
    "from sklearn.model_selection import train_test_split\n",
    "from sklearn.preprocessing import LabelEncoder\n",
    "\n",
    "# Encode categorical features\n",
    "label_encoder = LabelEncoder()\n",
    "df_advanced['sex'] = label_encoder.fit_transform(df_advanced['sex'])\n",
    "df_advanced['embarked'] = label_encoder.fit_transform(df_advanced['embarked'])\n",
    "df_advanced['embark_town'] = label_encoder.fit_transform(df_advanced['embark_town'])\n",
    "\n",
    "# Prepare data for predictive modeling\n",
    "features = ['pclass', 'sex', 'age', 'sibsp', 'parch', 'fare', 'embarked', 'embark_town']\n",
    "titanic_known_deck = df_advanced[df_advanced['deck'].notnull()]\n",
    "titanic_unknown_deck = df_advanced[df_advanced['deck'].isnull()]\n",
    "\n",
    "X_known = titanic_known_deck[features]\n",
    "y_known = titanic_known_deck['deck']\n",
    "X_unknown = titanic_unknown_deck[features]\n",
    "\n",
    "# Encode target variable 'deck'\n",
    "y_known = label_encoder.fit_transform(y_known)\n",
    "\n",
    "# Train a RandomForestClassifier\n",
    "X_train, X_test, y_train, y_test = train_test_split(X_known, y_known, test_size=0.2, random_state=42)\n",
    "model = RandomForestClassifier(n_estimators=100, random_state=42)\n",
    "model.fit(X_train, y_train)\n",
    "\n",
    "# Predict missing 'deck' values\n",
    "deck_predictions = model.predict(X_unknown)\n",
    "df_advanced.loc[df_advanced['deck'].isnull(), 'deck'] = label_encoder.inverse_transform(deck_predictions)\n",
    "\n",
    "print(df_advanced['deck'].isnull().sum())"
   ]
  },
  {
   "cell_type": "code",
   "execution_count": 76,
   "metadata": {},
   "outputs": [
    {
     "name": "stdout",
     "output_type": "stream",
     "text": [
      "deck\n",
      "F    337\n",
      "E    193\n",
      "D    140\n",
      "C     76\n",
      "G     65\n",
      "B     59\n",
      "A     21\n",
      "Name: count, dtype: int64\n"
     ]
    }
   ],
   "source": [
    "print(df_advanced['deck'].value_counts())"
   ]
  },
  {
   "cell_type": "code",
   "execution_count": 77,
   "metadata": {},
   "outputs": [
    {
     "name": "stdout",
     "output_type": "stream",
     "text": [
      "\n",
      "Missing values after imputation:\n",
      "survived       0\n",
      "pclass         0\n",
      "sex            0\n",
      "age            0\n",
      "sibsp          0\n",
      "parch          0\n",
      "fare           0\n",
      "embarked       0\n",
      "class          0\n",
      "who            0\n",
      "adult_male     0\n",
      "deck           0\n",
      "embark_town    0\n",
      "alive          0\n",
      "alone          0\n",
      "dtype: int64\n"
     ]
    }
   ],
   "source": [
    "print(\"\\nMissing values after imputation:\")\n",
    "print(df_advanced.isnull().sum())"
   ]
  },
  {
   "cell_type": "code",
   "execution_count": 78,
   "metadata": {},
   "outputs": [
    {
     "data": {
      "text/html": [
       "<div>\n",
       "<style scoped>\n",
       "    .dataframe tbody tr th:only-of-type {\n",
       "        vertical-align: middle;\n",
       "    }\n",
       "\n",
       "    .dataframe tbody tr th {\n",
       "        vertical-align: top;\n",
       "    }\n",
       "\n",
       "    .dataframe thead th {\n",
       "        text-align: right;\n",
       "    }\n",
       "</style>\n",
       "<table border=\"1\" class=\"dataframe\">\n",
       "  <thead>\n",
       "    <tr style=\"text-align: right;\">\n",
       "      <th></th>\n",
       "      <th>survived</th>\n",
       "      <th>pclass</th>\n",
       "      <th>sex</th>\n",
       "      <th>age</th>\n",
       "      <th>sibsp</th>\n",
       "      <th>parch</th>\n",
       "      <th>fare</th>\n",
       "      <th>embarked</th>\n",
       "      <th>class</th>\n",
       "      <th>who</th>\n",
       "      <th>adult_male</th>\n",
       "      <th>deck</th>\n",
       "      <th>embark_town</th>\n",
       "      <th>alive</th>\n",
       "      <th>alone</th>\n",
       "    </tr>\n",
       "  </thead>\n",
       "  <tbody>\n",
       "    <tr>\n",
       "      <th>0</th>\n",
       "      <td>0</td>\n",
       "      <td>3</td>\n",
       "      <td>1</td>\n",
       "      <td>22.0</td>\n",
       "      <td>1</td>\n",
       "      <td>0</td>\n",
       "      <td>7.2500</td>\n",
       "      <td>2</td>\n",
       "      <td>Third</td>\n",
       "      <td>man</td>\n",
       "      <td>True</td>\n",
       "      <td>F</td>\n",
       "      <td>2</td>\n",
       "      <td>no</td>\n",
       "      <td>False</td>\n",
       "    </tr>\n",
       "    <tr>\n",
       "      <th>1</th>\n",
       "      <td>1</td>\n",
       "      <td>1</td>\n",
       "      <td>0</td>\n",
       "      <td>38.0</td>\n",
       "      <td>1</td>\n",
       "      <td>0</td>\n",
       "      <td>71.2833</td>\n",
       "      <td>0</td>\n",
       "      <td>First</td>\n",
       "      <td>woman</td>\n",
       "      <td>False</td>\n",
       "      <td>C</td>\n",
       "      <td>0</td>\n",
       "      <td>yes</td>\n",
       "      <td>False</td>\n",
       "    </tr>\n",
       "    <tr>\n",
       "      <th>2</th>\n",
       "      <td>1</td>\n",
       "      <td>3</td>\n",
       "      <td>0</td>\n",
       "      <td>26.0</td>\n",
       "      <td>0</td>\n",
       "      <td>0</td>\n",
       "      <td>7.9250</td>\n",
       "      <td>2</td>\n",
       "      <td>Third</td>\n",
       "      <td>woman</td>\n",
       "      <td>False</td>\n",
       "      <td>E</td>\n",
       "      <td>2</td>\n",
       "      <td>yes</td>\n",
       "      <td>True</td>\n",
       "    </tr>\n",
       "    <tr>\n",
       "      <th>3</th>\n",
       "      <td>1</td>\n",
       "      <td>1</td>\n",
       "      <td>0</td>\n",
       "      <td>35.0</td>\n",
       "      <td>1</td>\n",
       "      <td>0</td>\n",
       "      <td>53.1000</td>\n",
       "      <td>2</td>\n",
       "      <td>First</td>\n",
       "      <td>woman</td>\n",
       "      <td>False</td>\n",
       "      <td>C</td>\n",
       "      <td>2</td>\n",
       "      <td>yes</td>\n",
       "      <td>False</td>\n",
       "    </tr>\n",
       "    <tr>\n",
       "      <th>4</th>\n",
       "      <td>0</td>\n",
       "      <td>3</td>\n",
       "      <td>1</td>\n",
       "      <td>35.0</td>\n",
       "      <td>0</td>\n",
       "      <td>0</td>\n",
       "      <td>8.0500</td>\n",
       "      <td>2</td>\n",
       "      <td>Third</td>\n",
       "      <td>man</td>\n",
       "      <td>True</td>\n",
       "      <td>E</td>\n",
       "      <td>2</td>\n",
       "      <td>no</td>\n",
       "      <td>True</td>\n",
       "    </tr>\n",
       "  </tbody>\n",
       "</table>\n",
       "</div>"
      ],
      "text/plain": [
       "   survived  pclass  sex   age  sibsp  parch     fare  embarked  class    who  \\\n",
       "0         0       3    1  22.0      1      0   7.2500         2  Third    man   \n",
       "1         1       1    0  38.0      1      0  71.2833         0  First  woman   \n",
       "2         1       3    0  26.0      0      0   7.9250         2  Third  woman   \n",
       "3         1       1    0  35.0      1      0  53.1000         2  First  woman   \n",
       "4         0       3    1  35.0      0      0   8.0500         2  Third    man   \n",
       "\n",
       "   adult_male deck  embark_town alive  alone  \n",
       "0        True    F            2    no  False  \n",
       "1       False    C            0   yes  False  \n",
       "2       False    E            2   yes   True  \n",
       "3       False    C            2   yes  False  \n",
       "4        True    E            2    no   True  "
      ]
     },
     "execution_count": 78,
     "metadata": {},
     "output_type": "execute_result"
    }
   ],
   "source": [
    "df_advanced.head()"
   ]
  },
  {
   "cell_type": "code",
   "execution_count": 79,
   "metadata": {},
   "outputs": [],
   "source": [
    "df = df_advanced.copy()"
   ]
  },
  {
   "cell_type": "markdown",
   "metadata": {},
   "source": [
    "##### **Q26: How do you encode categorical variables for use in a neural network?**"
   ]
  },
  {
   "cell_type": "code",
   "execution_count": 80,
   "metadata": {},
   "outputs": [
    {
     "name": "stdout",
     "output_type": "stream",
     "text": [
      "Categorical columns to be encoded: ['who', 'alive']\n",
      "Boolean columns to be converted: ['adult_male', 'alone']\n"
     ]
    }
   ],
   "source": [
    "# Use label and one-hot encoding\n",
    "from sklearn.preprocessing import LabelEncoder, OneHotEncoder\n",
    "\n",
    "# Identify categorical columns\n",
    "categorical_columns = df.select_dtypes(include=['object']).columns.tolist()\n",
    "boolean_columns = df.select_dtypes(include=['bool']).columns.tolist()\n",
    "print(f\"Categorical columns to be encoded: {categorical_columns}\")\n",
    "print(f\"Boolean columns to be converted: {boolean_columns}\")"
   ]
  },
  {
   "cell_type": "code",
   "execution_count": 82,
   "metadata": {},
   "outputs": [
    {
     "data": {
      "text/plain": [
       "survived          int64\n",
       "pclass            int64\n",
       "sex               int32\n",
       "age             float64\n",
       "sibsp             int64\n",
       "parch             int64\n",
       "fare            float64\n",
       "embarked          int32\n",
       "class          category\n",
       "who              object\n",
       "adult_male         bool\n",
       "deck           category\n",
       "embark_town       int32\n",
       "alive            object\n",
       "alone              bool\n",
       "dtype: object"
      ]
     },
     "execution_count": 82,
     "metadata": {},
     "output_type": "execute_result"
    }
   ],
   "source": [
    "df.dtypes"
   ]
  },
  {
   "cell_type": "code",
   "execution_count": 83,
   "metadata": {},
   "outputs": [],
   "source": [
    "# Convert boolean columns to integers\n",
    "for column in boolean_columns:\n",
    "    df[column] = df[column].astype(int)"
   ]
  },
  {
   "cell_type": "code",
   "execution_count": 84,
   "metadata": {},
   "outputs": [],
   "source": [
    "# Initialize LabelEncoder\n",
    "label_encoder = LabelEncoder()\n",
    "\n",
    "# Apply label encoding\n",
    "df['class'] = label_encoder.fit_transform(df['class'])\n",
    "df['deck'] = label_encoder.fit_transform(df['class'])"
   ]
  },
  {
   "cell_type": "code",
   "execution_count": 85,
   "metadata": {},
   "outputs": [
    {
     "name": "stdout",
     "output_type": "stream",
     "text": [
      "Encoded DataFrame:\n",
      "   survived  pclass  sex   age  sibsp  parch     fare  embarked  class  \\\n",
      "0         0       3    1  22.0      1      0   7.2500         2      2   \n",
      "1         1       1    0  38.0      1      0  71.2833         0      0   \n",
      "2         1       3    0  26.0      0      0   7.9250         2      2   \n",
      "3         1       1    0  35.0      1      0  53.1000         2      0   \n",
      "4         0       3    1  35.0      0      0   8.0500         2      2   \n",
      "\n",
      "   adult_male  deck  embark_town  alone  who_man  who_woman  alive_yes  \n",
      "0           1     2            2      0     True      False      False  \n",
      "1           0     0            0      0    False       True       True  \n",
      "2           0     2            2      1    False       True       True  \n",
      "3           0     0            2      0    False       True       True  \n",
      "4           1     2            2      1     True      False      False  \n"
     ]
    }
   ],
   "source": [
    "# Apply one-hot encoding\n",
    "df_encoded = pd.get_dummies(df, columns=categorical_columns, drop_first=True)\n",
    "\n",
    "# Display the encoded DataFrame\n",
    "print(\"Encoded DataFrame:\")\n",
    "print(df_encoded.head())"
   ]
  },
  {
   "cell_type": "code",
   "execution_count": 86,
   "metadata": {},
   "outputs": [
    {
     "data": {
      "text/plain": [
       "survived         int64\n",
       "pclass           int64\n",
       "sex              int32\n",
       "age            float64\n",
       "sibsp            int64\n",
       "parch            int64\n",
       "fare           float64\n",
       "embarked         int32\n",
       "class            int32\n",
       "adult_male       int32\n",
       "deck             int64\n",
       "embark_town      int32\n",
       "alone            int32\n",
       "who_man           bool\n",
       "who_woman         bool\n",
       "alive_yes         bool\n",
       "dtype: object"
      ]
     },
     "execution_count": 86,
     "metadata": {},
     "output_type": "execute_result"
    }
   ],
   "source": [
    "df_encoded.dtypes"
   ]
  },
  {
   "cell_type": "markdown",
   "metadata": {},
   "source": [
    "##### **Q27: How do you split a real-world dataset into training, validation, and test sets?**"
   ]
  },
  {
   "cell_type": "code",
   "execution_count": 92,
   "metadata": {},
   "outputs": [
    {
     "name": "stdout",
     "output_type": "stream",
     "text": [
      "Data splitting complete.\n",
      "Training set size: 534\n",
      "Validation set size: 178\n",
      "Test set size: 179\n"
     ]
    }
   ],
   "source": [
    "from sklearn.preprocessing import StandardScaler\n",
    "\n",
    "# Define features and target variable\n",
    "features = df_encoded.drop(columns=['survived'])\n",
    "target = df_encoded['survived']\n",
    "\n",
    "# Convert boolean columns to integers\n",
    "bool_columns = features.select_dtypes(include=['bool']).columns\n",
    "features[bool_columns] = features[bool_columns].astype(int)\n",
    "\n",
    "# Split the data into training + validation and test sets\n",
    "X_train_val, X_test, y_train_val, y_test = train_test_split(features, target, test_size=0.2, random_state=42)\n",
    "\n",
    "# Further split the training + validation set into training and validation sets\n",
    "X_train, X_val, y_train, y_val = train_test_split(X_train_val, y_train_val, test_size=0.25, random_state=42)  # 0.25 * 0.8 = 0.2\n",
    "\n",
    "# Normalize numerical features\n",
    "scaler = StandardScaler()\n",
    "numerical_features = ['age', 'fare', 'sibsp', 'parch']\n",
    "X_train[numerical_features] = scaler.fit_transform(X_train[numerical_features])\n",
    "X_val[numerical_features] = scaler.transform(X_val[numerical_features])\n",
    "X_test[numerical_features] = scaler.transform(X_test[numerical_features])\n",
    "\n",
    "# Ensure all data is numeric before conversion\n",
    "X_train = X_train.apply(pd.to_numeric, errors='coerce')\n",
    "X_val = X_val.apply(pd.to_numeric, errors='coerce')\n",
    "X_test = X_test.apply(pd.to_numeric, errors='coerce')\n",
    "\n",
    "# Drop any remaining columns with NaNs if any were introduced\n",
    "X_train = X_train.dropna(axis=1, how='any')\n",
    "X_val = X_val.dropna(axis=1, how='any')\n",
    "X_test = X_test.dropna(axis=1, how='any')\n",
    "\n",
    "# Convert to PyTorch tensors\n",
    "X_train_tensor = torch.tensor(X_train.values, dtype=torch.float32)\n",
    "y_train_tensor = torch.tensor(y_train.values, dtype=torch.float32).view(-1, 1)\n",
    "X_val_tensor = torch.tensor(X_val.values, dtype=torch.float32)\n",
    "y_val_tensor = torch.tensor(y_val.values, dtype=torch.float32).view(-1, 1)\n",
    "X_test_tensor = torch.tensor(X_test.values, dtype=torch.float32)\n",
    "y_test_tensor = torch.tensor(y_test.values, dtype=torch.float32).view(-1, 1)\n",
    "\n",
    "# Create TensorDataset and DataLoader for each set\n",
    "train_dataset = TensorDataset(X_train_tensor, y_train_tensor)\n",
    "val_dataset = TensorDataset(X_val_tensor, y_val_tensor)\n",
    "test_dataset = TensorDataset(X_test_tensor, y_test_tensor)\n",
    "\n",
    "train_loader = DataLoader(train_dataset, batch_size=32, shuffle=True)\n",
    "val_loader = DataLoader(val_dataset, batch_size=32, shuffle=False)\n",
    "test_loader = DataLoader(test_dataset, batch_size=32, shuffle=False)\n",
    "\n",
    "print(\"Data splitting complete.\")\n",
    "print(f\"Training set size: {len(train_loader.dataset)}\")\n",
    "print(f\"Validation set size: {len(val_loader.dataset)}\")\n",
    "print(f\"Test set size: {len(test_loader.dataset)}\")"
   ]
  },
  {
   "cell_type": "markdown",
   "metadata": {},
   "source": [
    "##### **Q28: How do you train a neural network on a real-world dataset?**"
   ]
  },
  {
   "cell_type": "code",
   "execution_count": null,
   "metadata": {},
   "outputs": [
    {
     "name": "stdout",
     "output_type": "stream",
     "text": [
      "Epoch [20/200], Train Loss: 0.0069, Validation Loss: 0.0048\n",
      "Epoch [40/200], Train Loss: 0.0010, Validation Loss: 0.0024\n",
      "Epoch [60/200], Train Loss: 0.0005, Validation Loss: 0.0004\n",
      "Epoch [80/200], Train Loss: 0.0002, Validation Loss: 0.0003\n",
      "Epoch [100/200], Train Loss: 0.0001, Validation Loss: 0.0001\n",
      "Epoch [120/200], Train Loss: 0.0001, Validation Loss: 0.0000\n",
      "Epoch [140/200], Train Loss: 0.0001, Validation Loss: 0.0000\n",
      "Epoch [160/200], Train Loss: 0.0000, Validation Loss: 0.0000\n",
      "Epoch [180/200], Train Loss: 0.0000, Validation Loss: 0.0000\n",
      "Epoch [200/200], Train Loss: 0.0001, Validation Loss: 0.0000\n"
     ]
    }
   ],
   "source": [
    "# Define a neural network\n",
    "class SimpleNet(nn.Module):\n",
    "    def __init__(self, input_size):\n",
    "        super(SimpleNet, self).__init__()\n",
    "        self.fc1 = nn.Linear(input_size, 128)\n",
    "        self.fc2 = nn.Linear(128, 64)\n",
    "        self.fc3 = nn.Linear(64, 1)\n",
    "        self.dropout = nn.Dropout(0.3)\n",
    "\n",
    "    def forward(self, x):\n",
    "        x = torch.relu(self.fc1(x))\n",
    "        x = self.dropout(x)\n",
    "        x = torch.relu(self.fc2(x))\n",
    "        x = self.dropout(x)\n",
    "        x = torch.sigmoid(self.fc3(x))\n",
    "        return x\n",
    "\n",
    "# Initialize the model, loss function, and optimizer\n",
    "input_size = X_train_tensor.shape[1]\n",
    "model = SimpleNet(input_size).to(device)\n",
    "loss_fn = nn.BCELoss()\n",
    "optimizer = optim.Adam(model.parameters(), lr=0.001)\n",
    "\n",
    "# Training loop\n",
    "num_epochs = 200\n",
    "# best_val_loss = float('inf')\n",
    "\n",
    "for epoch in range(num_epochs):\n",
    "    model.train()\n",
    "    running_loss = 0.0\n",
    "    for inputs, targets in train_loader:\n",
    "        inputs, targets = inputs.to(device), targets.to(device)\n",
    "        optimizer.zero_grad()\n",
    "        outputs = model(inputs)\n",
    "        loss = loss_fn(outputs, targets)\n",
    "        loss.backward()\n",
    "        optimizer.step()\n",
    "        running_loss += loss.item()\n",
    "\n",
    "    avg_train_loss = running_loss / len(train_loader)\n",
    "\n",
    "    model.eval()\n",
    "    val_loss = 0.0\n",
    "    with torch.no_grad():\n",
    "        for inputs, targets in val_loader:\n",
    "            inputs, targets = inputs.to(device), targets.to(device)\n",
    "            outputs = model(inputs)\n",
    "            loss = loss_fn(outputs, targets)\n",
    "            val_loss += loss.item()\n",
    "\n",
    "    avg_val_loss = val_loss / len(val_loader)\n",
    "\n",
    "    if (epoch + 1) % 20 == 0:\n",
    "        print(f'Epoch [{epoch + 1}/{num_epochs}], Train Loss: {avg_train_loss:.4f}, Validation Loss: {avg_val_loss:.4f}')"
   ]
  },
  {
   "cell_type": "code",
   "execution_count": null,
   "metadata": {},
   "outputs": [
    {
     "name": "stdout",
     "output_type": "stream",
     "text": [
      "Test Loss: 0.0000\n"
     ]
    }
   ],
   "source": [
    "# Test the model\n",
    "model.eval()\n",
    "test_loss = 0.0\n",
    "with torch.no_grad():\n",
    "    for inputs, targets in test_loader:\n",
    "        inputs, targets = inputs.to(device), targets.to(device)\n",
    "        outputs = model(inputs)\n",
    "        loss = loss_fn(outputs, targets)\n",
    "        test_loss += loss.item()\n",
    "\n",
    "avg_test_loss = test_loss / len(test_loader)\n",
    "print(f\"Test Loss: {avg_test_loss:.4f}\")"
   ]
  },
  {
   "cell_type": "code",
   "execution_count": null,
   "metadata": {},
   "outputs": [
    {
     "name": "stdout",
     "output_type": "stream",
     "text": [
      "Test Accuracy: 1.0000\n"
     ]
    }
   ],
   "source": [
    "# Calculate test accuracy\n",
    "correct = 0\n",
    "total = 0\n",
    "with torch.no_grad():\n",
    "    for inputs, targets in test_loader:\n",
    "        inputs, targets = inputs.to(device), targets.to(device)\n",
    "        outputs = model(inputs)\n",
    "        predicted = (outputs > 0.5).float()\n",
    "        total += targets.size(0)\n",
    "        correct += (predicted == targets).sum().item()\n",
    "\n",
    "accuracy = correct / total\n",
    "print(f\"Test Accuracy: {accuracy:.4f}\")"
   ]
  },
  {
   "cell_type": "markdown",
   "metadata": {},
   "source": [
    "## Further exercises"
   ]
  },
  {
   "cell_type": "markdown",
   "metadata": {},
   "source": [
    "##### **Q29: How do you implement a neural network from scratch without using PyTorch's built-in functions?**"
   ]
  },
  {
   "cell_type": "code",
   "execution_count": null,
   "metadata": {},
   "outputs": [],
   "source": [
    "# Sigmoid activation function\n",
    "def sigmoid(z):\n",
    "    return 1 / (1 + np.exp(-z))\n",
    "\n",
    "# Derivative of sigmoid function\n",
    "def sigmoid_derivative(z):\n",
    "    return sigmoid(z) * (1 - sigmoid(z))\n",
    "\n",
    "# Binary cross-entropy loss\n",
    "def binary_cross_entropy(y_true, y_pred):\n",
    "    m = y_true.shape[0]\n",
    "    return -np.sum(y_true * np.log(y_pred) + (1 - y_true) * np.log(1 - y_pred)) / m\n",
    "\n",
    "# Derivative of binary cross-entropy loss with respect to predictions\n",
    "def binary_cross_entropy_derivative(y_true, y_pred):\n",
    "    return y_pred - y_true"
   ]
  },
  {
   "cell_type": "code",
   "execution_count": null,
   "metadata": {},
   "outputs": [],
   "source": [
    "# Initialize weights and biases\n",
    "def initialize_parameters(input_size, hidden_size, output_size):\n",
    "    np.random.seed(42)\n",
    "    W1 = np.random.randn(input_size, hidden_size) * 0.01\n",
    "    b1 = np.zeros((1, hidden_size))\n",
    "    W2 = np.random.randn(hidden_size, output_size) * 0.01\n",
    "    b2 = np.zeros((1, output_size))\n",
    "    return W1, b1, W2, b2\n",
    "\n",
    "# Forward pass\n",
    "def forward_pass(X, W1, b1, W2, b2):\n",
    "    Z1 = np.dot(X, W1) + b1\n",
    "    A1 = sigmoid(Z1)\n",
    "    Z2 = np.dot(A1, W2) + b2\n",
    "    A2 = sigmoid(Z2)\n",
    "    return Z1, A1, Z2, A2\n",
    "\n",
    "# Backward pass\n",
    "def backward_pass(X, y, Z1, A1, Z2, A2, W1, b1, W2, b2, learning_rate):\n",
    "    m = X.shape[0]\n",
    "    dZ2 = binary_cross_entropy_derivative(y, A2)\n",
    "    dW2 = np.dot(A1.T, dZ2) / m\n",
    "    db2 = np.sum(dZ2, axis=0, keepdims=True) / m\n",
    "    dA1 = np.dot(dZ2, W2.T)\n",
    "    dZ1 = dA1 * sigmoid_derivative(Z1)\n",
    "    dW1 = np.dot(X.T, dZ1) / m\n",
    "    db1 = np.sum(dZ1, axis=0, keepdims=True) / m\n",
    "\n",
    "    W1 -= learning_rate * dW1\n",
    "    b1 -= learning_rate * db1\n",
    "    W2 -= learning_rate * dW2\n",
    "    b2 -= learning_rate * db2\n",
    "\n",
    "    return W1, b1, W2, b2"
   ]
  },
  {
   "cell_type": "code",
   "execution_count": null,
   "metadata": {},
   "outputs": [],
   "source": [
    "# Training loop\n",
    "def train(X, y, input_size, hidden_size, output_size, num_epochs, learning_rate):\n",
    "    W1, b1, W2, b2 = initialize_parameters(input_size, hidden_size, output_size)\n",
    "    for epoch in range(num_epochs):\n",
    "        Z1, A1, Z2, A2 = forward_pass(X, W1, b1, W2, b2)\n",
    "        loss = binary_cross_entropy(y, A2)\n",
    "        W1, b1, W2, b2 = backward_pass(X, y, Z1, A1, Z2, A2, W1, b1, W2, b2, learning_rate)\n",
    "        if (epoch + 1) % 100 == 0:\n",
    "            print(f\"Epoch {epoch+1}/{num_epochs}, Loss: {loss:.4f}\")\n",
    "    return W1, b1, W2, b2\n",
    "\n",
    "# Predict function\n",
    "def predict(X, W1, b1, W2, b2):\n",
    "    _, _, _, A2 = forward_pass(X, W1, b1, W2, b2)\n",
    "    return (A2 > 0.5).astype(int)"
   ]
  },
  {
   "cell_type": "code",
   "execution_count": null,
   "metadata": {},
   "outputs": [],
   "source": [
    "# Preprocess the titanic dataset\n",
    "X_train, X_test, y_train, y_test = train_test_split(features, target, test_size=0.2, random_state=42)\n",
    "\n",
    "scaler = StandardScaler()\n",
    "numerical_features = ['age', 'fare', 'sibsp', 'parch']\n",
    "X_train[numerical_features] = scaler.fit_transform(X_train[numerical_features])\n",
    "X_test[numerical_features] = scaler.transform(X_test[numerical_features])\n",
    "\n",
    "X_train = X_train.values\n",
    "y_train = y_train.values.reshape(-1, 1)\n",
    "X_test = X_test.values\n",
    "y_test = y_test.values.reshape(-1, 1)"
   ]
  },
  {
   "cell_type": "code",
   "execution_count": null,
   "metadata": {},
   "outputs": [
    {
     "data": {
      "text/plain": [
       "(712, 15)"
      ]
     },
     "execution_count": 103,
     "metadata": {},
     "output_type": "execute_result"
    }
   ],
   "source": [
    "X_train.shape"
   ]
  },
  {
   "cell_type": "code",
   "execution_count": null,
   "metadata": {},
   "outputs": [
    {
     "data": {
      "text/plain": [
       "(179, 15)"
      ]
     },
     "execution_count": 104,
     "metadata": {},
     "output_type": "execute_result"
    }
   ],
   "source": [
    "X_test.shape"
   ]
  },
  {
   "cell_type": "code",
   "execution_count": null,
   "metadata": {},
   "outputs": [
    {
     "name": "stdout",
     "output_type": "stream",
     "text": [
      "Epoch 100/1000, Loss: 0.6615\n",
      "Epoch 200/1000, Loss: 0.6611\n",
      "Epoch 300/1000, Loss: 0.6606\n",
      "Epoch 400/1000, Loss: 0.6600\n",
      "Epoch 500/1000, Loss: 0.6594\n",
      "Epoch 600/1000, Loss: 0.6587\n",
      "Epoch 700/1000, Loss: 0.6579\n",
      "Epoch 800/1000, Loss: 0.6569\n",
      "Epoch 900/1000, Loss: 0.6557\n",
      "Epoch 1000/1000, Loss: 0.6542\n"
     ]
    }
   ],
   "source": [
    "# Training parameters\n",
    "input_size = X_train.shape[1]\n",
    "hidden_size = 128\n",
    "output_size = 1\n",
    "num_epochs = 1000\n",
    "learning_rate = 0.01\n",
    "\n",
    "# Train the model\n",
    "W1, b1, W2, b2 = train(X_train, y_train, input_size, hidden_size, output_size, num_epochs, learning_rate)"
   ]
  },
  {
   "cell_type": "code",
   "execution_count": null,
   "metadata": {},
   "outputs": [
    {
     "name": "stdout",
     "output_type": "stream",
     "text": [
      "Test Accuracy: 0.5866\n"
     ]
    }
   ],
   "source": [
    "# Test the model\n",
    "y_pred = predict(X_test, W1, b1, W2, b2)\n",
    "accuracy = np.mean(y_pred == y_test)\n",
    "print(f\"Test Accuracy: {accuracy:.4f}\")"
   ]
  },
  {
   "cell_type": "markdown",
   "metadata": {},
   "source": [
    "##### **Q30: How do you experiment with different neural network architectures to see their impact on performance?**"
   ]
  },
  {
   "cell_type": "code",
   "execution_count": 94,
   "metadata": {},
   "outputs": [],
   "source": [
    "# Create an artificial dataset\n",
    "from sklearn.datasets import make_classification\n",
    "\n",
    "X, y = make_classification(n_samples=10000, n_features=20, n_classes=2, n_informative=15, random_state=42)\n",
    "X_train, X_test, y_train, y_test = train_test_split(X, y, test_size=0.2, random_state=42)\n",
    "\n",
    "scaler = StandardScaler()\n",
    "X_train = scaler.fit_transform(X_train)\n",
    "X_test = scaler.transform(X_test)\n",
    "\n",
    "X_train_tensor = torch.tensor(X_train, dtype=torch.float32)\n",
    "y_train_tensor = torch.tensor(y_train, dtype=torch.float32).view(-1, 1)\n",
    "X_test_tensor = torch.tensor(X_test, dtype=torch.float32)\n",
    "y_test_tensor = torch.tensor(y_test, dtype=torch.float32).view(-1, 1)\n",
    "\n",
    "train_dataset = TensorDataset(X_train_tensor, y_train_tensor)\n",
    "test_dataset = TensorDataset(X_test_tensor, y_test_tensor)\n",
    "\n",
    "train_loader = DataLoader(train_dataset, batch_size=32, shuffle=True)\n",
    "test_loader = DataLoader(test_dataset, batch_size=32, shuffle=False)"
   ]
  },
  {
   "cell_type": "code",
   "execution_count": null,
   "metadata": {},
   "outputs": [],
   "source": [
    "# Define a simple neural network\n",
    "class SimpleNet(nn.Module):\n",
    "    def __init__(self, input_size):\n",
    "        super(SimpleNet, self).__init__()\n",
    "        self.fc1 = nn.Linear(input_size, 64)\n",
    "        self.fc2 = nn.Linear(64, 1)\n",
    "\n",
    "    def forward(self, x):\n",
    "        x = torch.relu(self.fc1(x))\n",
    "        x = torch.sigmoid(self.fc2(x))\n",
    "        return x\n",
    "\n",
    "# Define a deeper neural network\n",
    "class DeepNet(nn.Module):\n",
    "    def __init__(self, input_size):\n",
    "        super(DeepNet, self).__init__()\n",
    "        self.fc1 = nn.Linear(input_size, 128)\n",
    "        self.fc2 = nn.Linear(128, 64)\n",
    "        self.fc3 = nn.Linear(64, 32)\n",
    "        self.fc4 = nn.Linear(32, 1)\n",
    "\n",
    "    def forward(self, x):\n",
    "        x = torch.relu(self.fc1(x))\n",
    "        x = torch.relu(self.fc2(x))\n",
    "        x = torch.relu(self.fc3(x))\n",
    "        x = torch.sigmoid(self.fc4(x))\n",
    "        return x\n",
    "\n",
    "# Define a wider neural network\n",
    "class WideNet(nn.Module):\n",
    "    def __init__(self, input_size):\n",
    "        super(WideNet, self).__init__()\n",
    "        self.fc1 = nn.Linear(input_size, 256)\n",
    "        self.fc2 = nn.Linear(256, 128)\n",
    "        self.fc3 = nn.Linear(128, 1)\n",
    "\n",
    "    def forward(self, x):\n",
    "        x = torch.relu(self.fc1(x))\n",
    "        x = torch.relu(self.fc2(x))\n",
    "        x = torch.sigmoid(self.fc3(x))\n",
    "        return x"
   ]
  },
  {
   "cell_type": "code",
   "execution_count": null,
   "metadata": {},
   "outputs": [
    {
     "name": "stdout",
     "output_type": "stream",
     "text": [
      "\n",
      "Training SimpleNet:\n",
      "Test Accuracy: 0.9710\n",
      "\n",
      "Training DeepNet:\n",
      "Test Accuracy: 0.9695\n",
      "\n",
      "Training WideNet:\n",
      "Test Accuracy: 0.9680\n"
     ]
    }
   ],
   "source": [
    "# Train and evaluate each architecture\n",
    "def train_and_evaluate(model, train_loader, test_loader, num_epochs=20, learning_rate=0.001):\n",
    "    device = torch.device(\"cuda\" if torch.cuda.is_available() else \"cpu\")\n",
    "    model = model.to(device)\n",
    "    loss_fn = nn.BCELoss()\n",
    "    optimizer = torch.optim.Adam(model.parameters(), lr=learning_rate)\n",
    "    \n",
    "    for epoch in range(num_epochs):\n",
    "        model.train()\n",
    "        running_loss = 0.0\n",
    "        for inputs, targets in train_loader:\n",
    "            inputs, targets = inputs.to(device), targets.to(device)\n",
    "            optimizer.zero_grad()\n",
    "            outputs = model(inputs)\n",
    "            loss = loss_fn(outputs, targets)\n",
    "            loss.backward()\n",
    "            optimizer.step()\n",
    "            running_loss += loss.item()\n",
    "        \n",
    "        avg_train_loss = running_loss / len(train_loader)\n",
    "        # print(f\"Epoch {epoch+1}/{num_epochs}, Train Loss: {avg_train_loss:.4f}\")\n",
    "    \n",
    "    model.eval()\n",
    "    correct = 0\n",
    "    total = 0\n",
    "    with torch.no_grad():\n",
    "        for inputs, targets in test_loader:\n",
    "            inputs, targets = inputs.to(device), targets.to(device)\n",
    "            outputs = model(inputs)\n",
    "            predicted = (outputs > 0.5).float()\n",
    "            total += targets.size(0)\n",
    "            correct += (predicted == targets).sum().item()\n",
    "    \n",
    "    accuracy = correct / total\n",
    "    print(f\"Test Accuracy: {accuracy:.4f}\")\n",
    "    return accuracy\n",
    "\n",
    "# Input size is the number of features\n",
    "input_size = X_train.shape[1]\n",
    "\n",
    "# Initialize and train each model\n",
    "simple_net = SimpleNet(input_size)\n",
    "deep_net = DeepNet(input_size)\n",
    "wide_net = WideNet(input_size)\n",
    "\n",
    "print(\"\\nTraining SimpleNet:\")\n",
    "simple_net_accuracy = train_and_evaluate(simple_net, train_loader, test_loader)\n",
    "\n",
    "print(\"\\nTraining DeepNet:\")\n",
    "deep_net_accuracy = train_and_evaluate(deep_net, train_loader, test_loader)\n",
    "\n",
    "print(\"\\nTraining WideNet:\")\n",
    "wide_net_accuracy = train_and_evaluate(wide_net, train_loader, test_loader)"
   ]
  },
  {
   "cell_type": "code",
   "execution_count": null,
   "metadata": {},
   "outputs": [
    {
     "name": "stdout",
     "output_type": "stream",
     "text": [
      "\n",
      "SimpleNet Test Accuracy: 0.9710\n",
      "DeepNet Test Accuracy: 0.9695\n",
      "WideNet Test Accuracy: 0.9680\n"
     ]
    }
   ],
   "source": [
    "# Compare the performance\n",
    "print(f\"\\nSimpleNet Test Accuracy: {simple_net_accuracy:.4f}\")\n",
    "print(f\"DeepNet Test Accuracy: {deep_net_accuracy:.4f}\")\n",
    "print(f\"WideNet Test Accuracy: {wide_net_accuracy:.4f}\")"
   ]
  },
  {
   "cell_type": "markdown",
   "metadata": {},
   "source": [
    "##### **Q31: How do you apply a neural network to a new dataset and evaluate its performance?**"
   ]
  },
  {
   "cell_type": "code",
   "execution_count": 95,
   "metadata": {},
   "outputs": [],
   "source": [
    "# Prepare a new dataset\n",
    "X_new, y_new = make_classification(n_samples=20000, n_features=40, n_classes=2, n_informative=15, random_state=42)\n",
    "X_new_train, X_new_test, y_new_train, y_new_test = train_test_split(X_new, y_new, test_size=0.2, random_state=42)\n",
    "\n",
    "scaler = StandardScaler()\n",
    "X_new_train = scaler.fit_transform(X_new_train)\n",
    "X_new_test = scaler.transform(X_new_test)\n",
    "\n",
    "X_new_train_tensor = torch.tensor(X_new_train, dtype=torch.float32)\n",
    "y_new_train_tensor = torch.tensor(y_new_train, dtype=torch.float32).view(-1, 1)\n",
    "X_new_test_tensor = torch.tensor(X_new_test, dtype=torch.float32)\n",
    "y_new_test_tensor = torch.tensor(y_new_test, dtype=torch.float32).view(-1, 1)\n",
    "\n",
    "new_train_dataset = TensorDataset(X_new_train_tensor, y_new_train_tensor)\n",
    "new_test_dataset = TensorDataset(X_new_test_tensor, y_new_test_tensor)\n",
    "\n",
    "new_train_loader = DataLoader(new_train_dataset, batch_size=32, shuffle=True)\n",
    "new_test_loader = DataLoader(new_test_dataset, batch_size=32, shuffle=False)"
   ]
  },
  {
   "cell_type": "code",
   "execution_count": null,
   "metadata": {},
   "outputs": [],
   "source": [
    "# Define a simple neural network\n",
    "class SimpleNet(nn.Module):\n",
    "    def __init__(self, input_size):\n",
    "        super(SimpleNet, self).__init__()\n",
    "        self.fc1 = nn.Linear(input_size, 64)\n",
    "        self.fc2 = nn.Linear(64, 1)\n",
    "\n",
    "    def forward(self, x):\n",
    "        x = torch.relu(self.fc1(x))\n",
    "        x = torch.sigmoid(self.fc2(x))\n",
    "        return x\n",
    "\n",
    "# Initialize the model\n",
    "input_size = X_new_train.shape[1]\n",
    "new_model = SimpleNet(input_size).to(torch.device(\"cuda\" if torch.cuda.is_available() else \"cpu\"))"
   ]
  },
  {
   "cell_type": "code",
   "execution_count": null,
   "metadata": {},
   "outputs": [
    {
     "name": "stdout",
     "output_type": "stream",
     "text": [
      "Epoch 1/20, Train Loss: 0.3490\n",
      "Epoch 2/20, Train Loss: 0.1665\n",
      "Epoch 3/20, Train Loss: 0.1271\n",
      "Epoch 4/20, Train Loss: 0.1093\n",
      "Epoch 5/20, Train Loss: 0.0996\n",
      "Epoch 6/20, Train Loss: 0.0925\n",
      "Epoch 7/20, Train Loss: 0.0872\n",
      "Epoch 8/20, Train Loss: 0.0830\n",
      "Epoch 9/20, Train Loss: 0.0793\n",
      "Epoch 10/20, Train Loss: 0.0768\n",
      "Epoch 11/20, Train Loss: 0.0739\n",
      "Epoch 12/20, Train Loss: 0.0715\n",
      "Epoch 13/20, Train Loss: 0.0694\n",
      "Epoch 14/20, Train Loss: 0.0673\n",
      "Epoch 15/20, Train Loss: 0.0659\n",
      "Epoch 16/20, Train Loss: 0.0633\n",
      "Epoch 17/20, Train Loss: 0.0615\n",
      "Epoch 18/20, Train Loss: 0.0605\n",
      "Epoch 19/20, Train Loss: 0.0590\n",
      "Epoch 20/20, Train Loss: 0.0579\n"
     ]
    }
   ],
   "source": [
    "# Train the model on the new dataset\n",
    "def train_model(model, train_loader, num_epochs=20, learning_rate=0.001):\n",
    "    device = torch.device(\"cuda\" if torch.cuda.is_available() else \"cpu\")\n",
    "    model = model.to(device)\n",
    "    loss_fn = nn.BCELoss()\n",
    "    optimizer = torch.optim.Adam(model.parameters(), lr=learning_rate)\n",
    "    \n",
    "    for epoch in range(num_epochs):\n",
    "        model.train()\n",
    "        running_loss = 0.0\n",
    "        for inputs, targets in train_loader:\n",
    "            inputs, targets = inputs.to(device), targets.to(device)\n",
    "            optimizer.zero_grad()\n",
    "            outputs = model(inputs)\n",
    "            loss = loss_fn(outputs, targets)\n",
    "            loss.backward()\n",
    "            optimizer.step()\n",
    "            running_loss += loss.item()\n",
    "        \n",
    "        avg_train_loss = running_loss / len(train_loader)\n",
    "        print(f\"Epoch {epoch+1}/{num_epochs}, Train Loss: {avg_train_loss:.4f}\")\n",
    "\n",
    "train_model(new_model, new_train_loader)"
   ]
  },
  {
   "cell_type": "code",
   "execution_count": null,
   "metadata": {},
   "outputs": [
    {
     "name": "stdout",
     "output_type": "stream",
     "text": [
      "Test Loss: 0.0872\n",
      "Test Accuracy: 0.9740\n"
     ]
    },
    {
     "data": {
      "text/plain": [
       "(0.08719914070889354, 0.974)"
      ]
     },
     "execution_count": 114,
     "metadata": {},
     "output_type": "execute_result"
    }
   ],
   "source": [
    "# Evaluate the model on the new test set\n",
    "def evaluate_model(model, test_loader):\n",
    "    device = torch.device(\"cuda\" if torch.cuda.is_available() else \"cpu\")\n",
    "    model = model.to(device)\n",
    "    model.eval()\n",
    "    test_loss = 0.0\n",
    "    correct = 0\n",
    "    total = 0\n",
    "    loss_fn = nn.BCELoss()\n",
    "    with torch.no_grad():\n",
    "        for inputs, targets in test_loader:\n",
    "            inputs, targets = inputs.to(device), targets.to(device)\n",
    "            outputs = model(inputs)\n",
    "            loss = loss_fn(outputs, targets)\n",
    "            test_loss += loss.item()\n",
    "            predicted = (outputs > 0.5).float()\n",
    "            total += targets.size(0)\n",
    "            correct += (predicted == targets).sum().item()\n",
    "    \n",
    "    avg_test_loss = test_loss / len(test_loader)\n",
    "    accuracy = correct / total\n",
    "    print(f\"Test Loss: {avg_test_loss:.4f}\")\n",
    "    print(f\"Test Accuracy: {accuracy:.4f}\")\n",
    "    return avg_test_loss, accuracy\n",
    "\n",
    "evaluate_model(new_model, new_test_loader)"
   ]
  },
  {
   "cell_type": "markdown",
   "metadata": {},
   "source": [
    "##### **Q32: How do you improve neural network performance with advanced techniques like dropout or batch normalization?**"
   ]
  },
  {
   "cell_type": "code",
   "execution_count": 96,
   "metadata": {},
   "outputs": [],
   "source": [
    "# Using the same dataset as in the previous question/answer:\n",
    "\n",
    "# Define a neural network with dropout and batch normalization\n",
    "class ImprovedNet(nn.Module):\n",
    "    def __init__(self, input_size):\n",
    "        super(ImprovedNet, self).__init__()\n",
    "        self.fc1 = nn.Linear(input_size, 128)\n",
    "        self.bn1 = nn.BatchNorm1d(128)\n",
    "        self.dropout1 = nn.Dropout(0.3)\n",
    "        \n",
    "        self.fc2 = nn.Linear(128, 64)\n",
    "        self.bn2 = nn.BatchNorm1d(64)\n",
    "        self.dropout2 = nn.Dropout(0.3)\n",
    "        \n",
    "        self.fc3 = nn.Linear(64, 1)\n",
    "    \n",
    "    def forward(self, x):\n",
    "        x = torch.relu(self.bn1(self.fc1(x)))\n",
    "        x = self.dropout1(x)\n",
    "        x = torch.relu(self.bn2(self.fc2(x)))\n",
    "        x = self.dropout2(x)\n",
    "        x = torch.sigmoid(self.fc3(x))\n",
    "        return x\n",
    "\n",
    "# Initialize the model\n",
    "input_size = X_new_train.shape[1]\n",
    "improved_model = ImprovedNet(input_size).to(torch.device(\"cuda\" if torch.cuda.is_available() else \"cpu\"))"
   ]
  },
  {
   "cell_type": "code",
   "execution_count": 97,
   "metadata": {},
   "outputs": [
    {
     "name": "stdout",
     "output_type": "stream",
     "text": [
      "Epoch [100/1000], Train Loss: 0.0653\n",
      "Epoch [200/1000], Train Loss: 0.0597\n",
      "Epoch [300/1000], Train Loss: 0.0501\n",
      "Epoch [400/1000], Train Loss: 0.0528\n",
      "Epoch [500/1000], Train Loss: 0.0539\n",
      "Epoch [600/1000], Train Loss: 0.0560\n",
      "Epoch [700/1000], Train Loss: 0.0519\n",
      "Epoch [800/1000], Train Loss: 0.0509\n",
      "Epoch [900/1000], Train Loss: 0.0578\n",
      "Epoch [1000/1000], Train Loss: 0.0462\n"
     ]
    }
   ],
   "source": [
    "# Training\n",
    "def train_model(model, train_loader, num_epochs=20, learning_rate=0.001):\n",
    "    device = torch.device(\"cuda\" if torch.cuda.is_available() else \"cpu\")\n",
    "    model = model.to(device)\n",
    "    loss_fn = nn.BCELoss()\n",
    "    optimizer = torch.optim.Adam(model.parameters(), lr=learning_rate)\n",
    "    \n",
    "    for epoch in range(num_epochs):\n",
    "        model.train()\n",
    "        running_loss = 0.0\n",
    "        for inputs, targets in train_loader:\n",
    "            inputs, targets = inputs.to(device), targets.to(device)\n",
    "            optimizer.zero_grad()\n",
    "            outputs = model(inputs)\n",
    "            loss = loss_fn(outputs, targets)\n",
    "            loss.backward()\n",
    "            optimizer.step()\n",
    "            running_loss += loss.item()\n",
    "        \n",
    "        avg_train_loss = running_loss / len(train_loader)\n",
    "        if (epoch + 1) % 100 == 0:\n",
    "            print(f\"Epoch [{epoch+1}/{num_epochs}], Train Loss: {avg_train_loss:.4f}\")\n",
    "\n",
    "train_model(improved_model, new_train_loader, 1000)"
   ]
  },
  {
   "cell_type": "code",
   "execution_count": 98,
   "metadata": {},
   "outputs": [
    {
     "name": "stdout",
     "output_type": "stream",
     "text": [
      "Test Loss: 0.1643\n",
      "Test Accuracy: 0.9885\n"
     ]
    },
    {
     "data": {
      "text/plain": [
       "(0.16427969993650912, 0.9885)"
      ]
     },
     "execution_count": 98,
     "metadata": {},
     "output_type": "execute_result"
    }
   ],
   "source": [
    "# Evaluating\n",
    "def evaluate_model(model, test_loader):\n",
    "    device = torch.device(\"cuda\" if torch.cuda.is_available() else \"cpu\")\n",
    "    model = model.to(device)\n",
    "    model.eval()\n",
    "    test_loss = 0.0\n",
    "    correct = 0\n",
    "    total = 0\n",
    "    loss_fn = nn.BCELoss()\n",
    "    with torch.no_grad():\n",
    "        for inputs, targets in test_loader:\n",
    "            inputs, targets = inputs.to(device), targets.to(device)\n",
    "            outputs = model(inputs)\n",
    "            loss = loss_fn(outputs, targets)\n",
    "            test_loss += loss.item()\n",
    "            predicted = (outputs > 0.5).float()\n",
    "            total += targets.size(0)\n",
    "            correct += (predicted == targets).sum().item()\n",
    "    \n",
    "    avg_test_loss = test_loss / len(test_loader)\n",
    "    accuracy = correct / total\n",
    "    print(f\"Test Loss: {avg_test_loss:.4f}\")\n",
    "    print(f\"Test Accuracy: {accuracy:.4f}\")\n",
    "    return avg_test_loss, accuracy\n",
    "\n",
    "evaluate_model(improved_model, new_test_loader)"
   ]
  },
  {
   "cell_type": "markdown",
   "metadata": {},
   "source": [
    "##### **Q33: How do you interpret and visualize the decisions made by a neural network?**"
   ]
  },
  {
   "cell_type": "code",
   "execution_count": 100,
   "metadata": {},
   "outputs": [
    {
     "data": {
      "image/png": "[encoded data removed]",
      "text/plain": [
       "<Figure size 1000x500 with 1 Axes>"
      ]
     },
     "metadata": {},
     "output_type": "display_data"
    },
    {
     "data": {
      "image/png": "[encoded data removed]",
      "text/plain": [
       "<Figure size 1000x500 with 1 Axes>"
      ]
     },
     "metadata": {},
     "output_type": "display_data"
    },
    {
     "data": {
      "image/png": "[encoded data removed]",
      "text/plain": [
       "<Figure size 1000x500 with 1 Axes>"
      ]
     },
     "metadata": {},
     "output_type": "display_data"
    },
    {
     "data": {
      "image/png": "[encoded data removed]",
      "text/plain": [
       "<Figure size 1000x500 with 1 Axes>"
      ]
     },
     "metadata": {},
     "output_type": "display_data"
    },
    {
     "data": {
      "image/png": "[encoded data removed]",
      "text/plain": [
       "<Figure size 1000x500 with 1 Axes>"
      ]
     },
     "metadata": {},
     "output_type": "display_data"
    }
   ],
   "source": [
    "# Visualize model weights and biases\n",
    "def visualize_weights(model):\n",
    "    for name, param in model.named_parameters():\n",
    "        if 'weight' in name:\n",
    "            plt.figure(figsize=(10, 5))\n",
    "            plt.hist(param.data.cpu().numpy().flatten(), bins=50)\n",
    "            plt.title(f'Weight Distribution of {name}')\n",
    "            plt.xlabel('Weight')\n",
    "            plt.ylabel('Frequency')\n",
    "            plt.show()\n",
    "\n",
    "visualize_weights(improved_model)"
   ]
  },
  {
   "cell_type": "code",
   "execution_count": 105,
   "metadata": {},
   "outputs": [
    {
     "data": {
      "image/png": "[encoded data removed]",
      "text/plain": [
       "<Figure size 1000x500 with 1 Axes>"
      ]
     },
     "metadata": {},
     "output_type": "display_data"
    },
    {
     "data": {
      "image/png": "[encoded data removed]",
      "text/plain": [
       "<Figure size 640x480 with 2 Axes>"
      ]
     },
     "metadata": {},
     "output_type": "display_data"
    }
   ],
   "source": [
    "# Activation and feature maps\n",
    "def get_activation(model, layer_name, inputs):\n",
    "    activation = {}\n",
    "\n",
    "    def hook(model, input, output):\n",
    "        activation[layer_name] = output.detach()\n",
    "\n",
    "    layer = dict([*model.named_modules()])[layer_name]\n",
    "    handle = layer.register_forward_hook(hook)\n",
    "    model(inputs)\n",
    "    handle.remove()\n",
    "    \n",
    "    return activation[layer_name]\n",
    "\n",
    "# Example usage with a single batch of data\n",
    "data_iter = iter(new_test_loader)\n",
    "inputs, _ = next(data_iter)\n",
    "inputs = inputs.to(torch.device(\"cuda\" if torch.cuda.is_available() else \"cpu\"))\n",
    "activation = get_activation(improved_model, 'fc1', inputs)\n",
    "\n",
    "# If the activation is 1D, plot it as a line plot\n",
    "plt.figure(figsize=(10, 5))\n",
    "plt.plot(activation[0].cpu().numpy())\n",
    "plt.title('Activation of fc1')\n",
    "plt.xlabel('Neuron')\n",
    "plt.ylabel('Activation')\n",
    "plt.show()\n",
    "\n",
    "# If the activation can be reshaped to 2D, use imshow\n",
    "if activation[0].shape[0] % 8 == 0:\n",
    "    plt.imshow(activation[0].cpu().numpy().reshape(-1, 8), aspect='auto', cmap='viridis')\n",
    "    plt.colorbar()\n",
    "    plt.title('Activation of fc1')\n",
    "    plt.show()"
   ]
  },
  {
   "cell_type": "code",
   "execution_count": 106,
   "metadata": {},
   "outputs": [
    {
     "data": {
      "image/png": "[encoded data removed]",
      "text/plain": [
       "<Figure size 1000x500 with 1 Axes>"
      ]
     },
     "metadata": {},
     "output_type": "display_data"
    },
    {
     "data": {
      "image/png": "[encoded data removed]",
      "text/plain": [
       "<Figure size 640x480 with 2 Axes>"
      ]
     },
     "metadata": {},
     "output_type": "display_data"
    }
   ],
   "source": [
    "# Saliency map\n",
    "def saliency_map(model, data, target):\n",
    "    model.eval()\n",
    "    data.requires_grad_()\n",
    "    output = model(data)\n",
    "    loss = nn.BCELoss()(output, target)\n",
    "    model.zero_grad()\n",
    "    loss.backward()\n",
    "    saliency = data.grad.data.abs()\n",
    "    return saliency\n",
    "\n",
    "# Example usage with a single batch of data\n",
    "data_iter = iter(new_test_loader)\n",
    "inputs, targets = next(data_iter)\n",
    "inputs, targets = inputs.to(torch.device(\"cuda\" if torch.cuda.is_available() else \"cpu\")), targets.to(torch.device(\"cuda\" if torch.cuda.is_available() else \"cpu\"))\n",
    "saliency = saliency_map(improved_model, inputs, targets)\n",
    "\n",
    "# If the saliency map is 1D, plot it as a line plot\n",
    "plt.figure(figsize=(10, 5))\n",
    "plt.plot(saliency[0].cpu().numpy())\n",
    "plt.title('Saliency Map')\n",
    "plt.xlabel('Feature')\n",
    "plt.ylabel('Saliency')\n",
    "plt.show()\n",
    "\n",
    "# If the saliency map can be reshaped to 2D, use imshow\n",
    "if saliency[0].shape[0] % 8 == 0:\n",
    "    plt.imshow(saliency[0].cpu().numpy().reshape(-1, 8), aspect='auto', cmap='hot')\n",
    "    plt.colorbar()\n",
    "    plt.title('Saliency Map')\n",
    "    plt.show()"
   ]
  },
  {
   "cell_type": "code",
   "execution_count": 104,
   "metadata": {},
   "outputs": [
    {
     "data": {
      "image/png": "[encoded data removed]",
      "text/plain": [
       "<Figure size 640x480 with 2 Axes>"
      ]
     },
     "metadata": {},
     "output_type": "display_data"
    }
   ],
   "source": [
    "# Confusion matrix\n",
    "from sklearn.metrics import ConfusionMatrixDisplay\n",
    "\n",
    "def plot_confusion_matrix(model, test_loader):\n",
    "    all_preds = []\n",
    "    all_targets = []\n",
    "    model.eval()\n",
    "    with torch.no_grad():\n",
    "        for inputs, targets in test_loader:\n",
    "            inputs, targets = inputs.to(torch.device(\"cuda\" if torch.cuda.is_available() else \"cpu\")), targets.to(torch.device(\"cuda\" if torch.cuda.is_available() else \"cpu\"))\n",
    "            outputs = model(inputs)\n",
    "            predicted = (outputs > 0.5).float()\n",
    "            all_preds.extend(predicted.cpu().numpy())\n",
    "            all_targets.extend(targets.cpu().numpy())\n",
    "\n",
    "    cm = confusion_matrix(all_targets, all_preds)\n",
    "    disp = ConfusionMatrixDisplay(confusion_matrix=cm, display_labels=[0, 1])\n",
    "    disp.plot(cmap=plt.cm.Blues)\n",
    "    plt.show()\n",
    "\n",
    "plot_confusion_matrix(improved_model, new_test_loader)"
   ]
  }
 ],
 "metadata": {
  "kernelspec": {
   "display_name": "Python 3",
   "language": "python",
   "name": "python3"
  },
  "language_info": {
   "codemirror_mode": {
    "name": "ipython",
    "version": 3
   },
   "file_extension": ".py",
   "mimetype": "text/x-python",
   "name": "python",
   "nbconvert_exporter": "python",
   "pygments_lexer": "ipython3",
   "version": "3.12.4"
  }
 },
 "nbformat": 4,
 "nbformat_minor": 2
}
