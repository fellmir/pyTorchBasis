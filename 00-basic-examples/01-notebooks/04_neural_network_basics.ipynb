{
 "cells": [
  {
   "cell_type": "markdown",
   "metadata": {},
   "source": [
    "# Neural network basics\n",
    "\n",
    "Welcome to the `04_neural_network_basics` notebook. This part of the portfolio is designed to introduce fundamental concepts and techniques in PyTorch, with a particular emphasis on building and understanding neural networks.\n",
    "\n",
    "Throughout this notebook, I'll explore essential topics such as setting up the environment, defining neural network architectures, and implementing both forward and backward propagation. I'll also cover training procedures, model evaluation, and techniques to save and load trained models.\n",
    "\n",
    "By working through these exercises, the aim is to gain practical experience in constructing and optimizing neural networks, forming a solid foundation for more advanced machine learning endeavors."
   ]
  },
  {
   "cell_type": "markdown",
   "metadata": {},
   "source": [
    "## Table of contents\n",
    "\n",
    "1. [Introduction](#introduction)\n",
    "2. [Understanding neural networks](#understanding-neural-networks)\n",
    "3. [Setting up the environment](#setting-up-the-environment)\n",
    "4. [Building a neural network](#building-a-neural-network)\n",
    "5. [Forward propagation](#forward-propagation)\n",
    "6. [Loss function](#loss-function)\n",
    "7. [Backpropagation](#backpropagation)\n",
    "8. [Training the neural network](#training-the-neural-network)\n",
    "9. [Evaluating the model](#evaluating-the-model)\n",
    "10. [Saving and loading the model](#saving-and-loading-the-model)\n",
    "11. [Optimizations](#optimizations)\n",
    "12. [Handling real-world data](#handling-real-world-data)\n",
    "13. [Conclusion](#conclusion)\n",
    "14. [Further exercises](#further-exercises)"
   ]
  },
  {
   "cell_type": "markdown",
   "metadata": {},
   "source": [
    "## Understanding neural networks\n",
    "\n",
    "Neural networks are a foundational technique in machine learning and artificial intelligence, utilized for identifying patterns and relationships within data. Unlike traditional algorithms, which often rely on predefined rules, neural networks learn directly from examples, making them highly adaptable and powerful. These models can handle a variety of tasks, from classification to regression, by adjusting their parameters through training, thereby improving their performance with more data and experience."
   ]
  },
  {
   "cell_type": "markdown",
   "metadata": {},
   "source": [
    "### Key concepts\n",
    "\n",
    "#### 1. Neurons and layers\n",
    "Neural networks are inspired by the structure and function of the human brain, consisting of interconnected units called neurons. These neurons are organized into layers: the input layer, hidden layers, and the output layer.\n",
    "\n",
    "- **Input layer**: The first layer in the network that receives the input data. Each neuron in this layer represents a feature of the input data.\n",
    "- **Hidden layers**: Layers between the input and output layers. These layers perform various transformations on the inputs received, allowing the network to learn complex patterns. There can be multiple hidden layers, which is why deep neural networks are also known as deep learning models.\n",
    "- **Output layer**: The final layer that produces the output of the network. The number of neurons in this layer corresponds to the number of desired outputs.\n",
    "\n",
    "#### 2. Activation functions\n",
    "Activation functions introduce non-linearity into the network, enabling it to learn and model complex relationships in the data. Without activation functions, the network would only be able to model linear relationships.\n",
    "\n",
    "- **ReLU (Rectified Linear Unit)**: Outputs the input directly if it is positive; otherwise, it outputs zero. It is widely used due to its simplicity and effectiveness.\n",
    "- **Sigmoid**: Compresses the input to a range between 0 and 1. It is often used in binary classification problems.\n",
    "- **Tanh (Hyperbolic tangent)**: Compresses the input to a range between -1 and 1, centering the data. It is often used in practice but can lead to issues with gradient vanishing.\n",
    "\n",
    "#### 3. Forward propagation\n",
    "Forward propagation is the process of passing input data through the network to obtain an output. During this process, each neuron computes a weighted sum of its inputs, adds a bias term, and applies an activation function to produce its output. The output of one layer becomes the input to the next layer, and this process continues until the final output layer.\n",
    "\n",
    "#### 4. Loss function\n",
    "The loss function measures the difference between the predicted outputs and the actual targets. It quantifies how well the neural network is performing. The goal of training the network is to minimize this loss.\n",
    "\n",
    "- **Mean Squared Error (MSE)**: Commonly used for regression tasks, it calculates the average squared difference between predicted and actual values.\n",
    "- **Cross-entropy loss**: Used for classification tasks, it measures the difference between the predicted probability distribution and the actual distribution.\n",
    "\n",
    "#### 5. Backpropagation\n",
    "Backpropagation is the process of updating the network's weights to minimize the loss. It involves calculating the gradient of the loss function with respect to each weight and adjusting the weights in the opposite direction of the gradient. This ensures that the loss decreases with each iteration.\n",
    "\n",
    "#### 6. Optimizers\n",
    "Optimizers are algorithms that adjust the weights of the network to minimize the loss. They use the gradients calculated during backpropagation to update the weights.\n",
    "\n",
    "- **Stochastic Gradient Descent (SGD)**: Updates the weights using a small, randomly chosen subset of the data (a mini-batch). This makes the optimization process faster and allows the model to learn from a diverse set of examples.\n",
    "- **Adam (Adaptive Moment Estimation)**: An extension of SGD that adapts the learning rate for each parameter, making it more efficient and robust in practice.\n",
    "\n",
    "#### 7. Training and validation\n",
    "Training a neural network involves iteratively feeding data through the network, calculating the loss, and updating the weights. This process is repeated for a specified number of epochs (complete passes through the training dataset).\n",
    "\n",
    "- **Training set**: The subset of data used to train the model.\n",
    "- **Validation set**: A separate subset of data used to evaluate the model's performance during training, helping to tune hyperparameters and prevent overfitting.\n",
    "\n",
    "#### 8. Overfitting and underfitting\n",
    "- **Overfitting**: Occurs when the model learns the training data too well, capturing noise and specific patterns that do not generalize to new data. This results in poor performance on the validation set.\n",
    "- **Underfitting**: Occurs when the model is too simple to capture the underlying patterns in the data, leading to poor performance on both the training and validation sets.\n",
    "\n",
    "#### 9. Regularization techniques\n",
    "Regularization techniques are used to prevent overfitting by adding constraints or penalties to the model.\n",
    "\n",
    "- **Dropout**: Randomly drops a fraction of neurons during training, forcing the network to learn redundant representations and improving generalization.\n",
    "- **L2 regularization (Ridge)**: Adds a penalty proportional to the sum of the squares of the weights, discouraging large weights and promoting simpler models.\n",
    "\n",
    "#### 10. Model evaluation\n",
    "After training, the model's performance is evaluated on a test set that was not seen during training. This provides an unbiased estimate of how well the model generalizes to new data.\n",
    "\n",
    "- **Accuracy**: The proportion of correctly classified instances out of the total instances.\n",
    "- **Precision, recall, and F1 score**: Metrics that provide deeper insights into the model's performance, especially for imbalanced datasets."
   ]
  },
  {
   "cell_type": "markdown",
   "metadata": {},
   "source": [
    "### Maths\n",
    "\n",
    "#### 1. Structure of Neural Networks\n",
    "\n",
    "##### Layers\n",
    "- **Input layer**: This is the first layer of the network, which receives the raw input data. Each neuron in this layer corresponds to one feature of the input data.\n",
    "- **Hidden layers**: These layers are located between the input and output layers. They perform computations and extract features from the input data. A neural network can have multiple hidden layers, which allows it to learn complex patterns.\n",
    "- **Output layer**: This is the final layer of the network, which produces the output. The number of neurons in this layer depends on the type of problem (e.g., one neuron for binary classification, multiple neurons for multi-class classification).\n",
    "\n",
    "##### Neurons\n",
    "Each neuron in a neural network computes a weighted sum of its inputs, adds a bias term, and applies an activation function to produce its output.\n",
    "\n",
    "#### 2. Forward propagation\n",
    "\n",
    "Forward propagation is the process by which input data passes through the network to generate an output. It involves the following steps:\n",
    "\n",
    "##### Weighted sum\n",
    "For a given neuron $ j $ in layer $ l $, the input $ z_j^{(l)} $ is computed as:\n",
    "$$ z_j^{(l)} = \\sum_{i=1}^{n} w_{ij}^{(l-1)} a_i^{(l-1)} + b_j^{(l)} $$\n",
    "where:\n",
    "- $ w_{ij}^{(l-1)} $ is the weight connecting neuron $ i $ in layer $ l-1 $ to neuron $ j $ in layer $ l $.\n",
    "- $ a_i^{(l-1)} $ is the activation of neuron $ i $ in layer $ l-1 $.\n",
    "- $ b_j^{(l)} $ is the bias term for neuron $ j $ in layer $ l $.\n",
    "- $ n $ is the number of neurons in layer $ l-1 $.\n",
    "\n",
    "##### Activation function\n",
    "The output $ a_j^{(l)} $ of neuron $ j $ in layer $ l $ is obtained by applying an activation function $ f $ to the weighted sum:\n",
    "$$ a_j^{(l)} = f(z_j^{(l)}) $$\n",
    "\n",
    "Common activation functions include:\n",
    "- **Sigmoid**: $ f(z) = \\frac{1}{1 + e^{-z}} $\n",
    "- **Tanh**: $ f(z) = \\tanh(z) $\n",
    "- **ReLU (Rectified Linear Unit)**: $ f(z) = \\max(0, z) $\n",
    "\n",
    "#### 3. Loss function\n",
    "\n",
    "The loss function quantifies the difference between the predicted output and the actual target. The goal of training a neural network is to minimize this loss. Common loss functions include:\n",
    "\n",
    "- **Mean Squared Error (MSE)**: Used for regression tasks, defined as:\n",
    "  $$ \\text{MSE} = \\frac{1}{m} \\sum_{i=1}^{m} (y_i - \\hat{y_i})^2 $$\n",
    "  where $ y_i $ is the true value and $ \\hat{y_i} $ is the predicted value.\n",
    "\n",
    "- **Cross-entropy loss**: Used for classification tasks, defined as:\n",
    "  $$ \\text{Cross-Entropy} = -\\frac{1}{m} \\sum_{i=1}^{m} \\sum_{j=1}^{k} y_{ij} \\log(\\hat{y_{ij}}) $$\n",
    "  where $ y_{ij} $ is the binary indicator (0 or 1) if class label $ j $ is the correct classification for input $ i $, and $ \\hat{y_{ij}} $ is the predicted probability of $ i $ being in class $ j $.\n",
    "\n",
    "#### 4. Backpropagation\n",
    "\n",
    "Backpropagation is the process of adjusting the network's weights to minimize the loss. It involves calculating the gradient of the loss function with respect to each weight and updating the weights using gradient descent.\n",
    "\n",
    "##### Gradient descent\n",
    "The weight update rule for gradient descent is:\n",
    "$$ w_{ij} = w_{ij} - \\eta \\frac{\\partial L}{\\partial w_{ij}} $$\n",
    "where:\n",
    "- $ \\eta $ is the learning rate, a hyperparameter that controls the step size of the update.\n",
    "- $ \\frac{\\partial L}{\\partial w_{ij}} $ is the partial derivative of the loss function with respect to the weight $ w_{ij} $.\n",
    "\n",
    "##### Calculating gradients\n",
    "The gradients are computed using the chain rule of calculus. For a given weight $ w_{ij} $, the gradient is calculated as:\n",
    "$$ \\frac{\\partial L}{\\partial w_{ij}} = \\frac{\\partial L}{\\partial a_j} \\cdot \\frac{\\partial a_j}{\\partial z_j} \\cdot \\frac{\\partial z_j}{\\partial w_{ij}} $$\n",
    "\n",
    "The partial derivatives are:\n",
    "- $ \\frac{\\partial L}{\\partial a_j} $: The derivative of the loss with respect to the neuron's activation, which depends on the loss function.\n",
    "- $ \\frac{\\partial a_j}{\\partial z_j} $: The derivative of the activation function.\n",
    "- $ \\frac{\\partial z_j}{\\partial w_{ij}} $: The derivative of the weighted sum with respect to the weight, which is the input to the neuron.\n",
    "\n",
    "#### 5. Training the network\n",
    "\n",
    "Training a neural network involves the following steps:\n",
    "1. **Initialize weights**: Set the initial values of the weights, typically using small random values.\n",
    "2. **Forward propagation**: Compute the outputs of the network for a batch of input data.\n",
    "3. **Compute loss**: Calculate the loss using the predicted outputs and the true targets.\n",
    "4. **Backpropagation**: Compute the gradients of the loss with respect to the weights.\n",
    "5. **Update weights**: Adjust the weights using gradient descent.\n",
    "6. **Repeat**: Iterate over the training data for a specified number of epochs until the loss converges.\n",
    "\n",
    "#### 6. Regularization techniques\n",
    "\n",
    "To prevent overfitting, various regularization techniques can be applied:\n",
    "\n",
    "- **L2 regularization (Ridge)**: Adds a penalty proportional to the sum of the squares of the weights to the loss function.\n",
    "  $$ L_{\\text{ridge}} = L + \\lambda \\sum_{j} w_j^2 $$\n",
    "  where $ \\lambda $ is the regularization parameter.\n",
    "\n",
    "- **L1 regularization (Lasso)**: Adds a penalty proportional to the sum of the absolute values of the weights to the loss function.\n",
    "  $$ L_{\\text{lasso}} = L + \\lambda \\sum_{j} |w_j| $$\n",
    "\n",
    "- **Dropout**: Randomly sets a fraction of the neurons to zero during training, which helps prevent the network from becoming too reliant on any single neuron and improves generalization."
   ]
  },
  {
   "cell_type": "markdown",
   "metadata": {},
   "source": [
    "## Setting up the environment"
   ]
  },
  {
   "cell_type": "markdown",
   "metadata": {},
   "source": [
    "##### **Q1: How do you install the necessary libraries for building neural networks in PyTorch?**"
   ]
  },
  {
   "cell_type": "code",
   "execution_count": 3,
   "metadata": {},
   "outputs": [],
   "source": [
    "# !pip install torch torchvision torchaudio --index-url https://download.pytorch.org/whl/cu121\n",
    "# !pip install numpy matplotlib scikit-learn pandas"
   ]
  },
  {
   "cell_type": "code",
   "execution_count": 4,
   "metadata": {},
   "outputs": [
    {
     "name": "stdout",
     "output_type": "stream",
     "text": [
      "CUDA is available. PyTorch version: 2.3.1+cu121\n"
     ]
    }
   ],
   "source": [
    "# Verify CUDA availability\n",
    "import torch\n",
    "\n",
    "if torch.cuda.is_available():\n",
    "    print(\"CUDA is available. PyTorch version:\", torch.__version__)\n",
    "else:\n",
    "    print(\"CUDA is not available. PyTorch version:\", torch.__version__)"
   ]
  },
  {
   "cell_type": "markdown",
   "metadata": {},
   "source": [
    "##### **Q2: How do you import the required modules for building neural networks in PyTorch?**"
   ]
  },
  {
   "cell_type": "code",
   "execution_count": 5,
   "metadata": {},
   "outputs": [],
   "source": [
    "# import torch\n",
    "import torch.nn as nn\n",
    "import torch.optim as optim\n",
    "import torch.nn.functional as F\n",
    "from torch.utils.data import DataLoader, Dataset\n",
    "import numpy as np\n",
    "import pandas as pd\n",
    "import matplotlib.pyplot as plt"
   ]
  },
  {
   "cell_type": "markdown",
   "metadata": {},
   "source": [
    "## Building a neural network"
   ]
  },
  {
   "cell_type": "markdown",
   "metadata": {},
   "source": [
    "##### **Q3: How do you define the architecture of a neural network using `nn.Module` in PyTorch?**"
   ]
  },
  {
   "cell_type": "code",
   "execution_count": 6,
   "metadata": {},
   "outputs": [
    {
     "name": "stdout",
     "output_type": "stream",
     "text": [
      "SimpleNet(\n",
      "  (fc1): Linear(in_features=784, out_features=128, bias=True)\n",
      "  (fc2): Linear(in_features=128, out_features=64, bias=True)\n",
      "  (fc3): Linear(in_features=64, out_features=10, bias=True)\n",
      ")\n"
     ]
    }
   ],
   "source": [
    "# Define a simple neural network model\n",
    "class SimpleNet(nn.Module):\n",
    "    def __init__(self):\n",
    "        super(SimpleNet, self).__init__()\n",
    "        # Define layers\n",
    "        self.fc1 = nn.Linear(784, 128)  # Input layer to first hidden layer\n",
    "        self.fc2 = nn.Linear(128, 64)   # First hidden layer to second hidden layer\n",
    "        self.fc3 = nn.Linear(64, 10)    # Second hidden layer to output layer\n",
    "    \n",
    "    def forward(self, x):\n",
    "        # Define the forward pass\n",
    "        x = F.relu(self.fc1(x))  # Apply ReLU activation after first layer\n",
    "        x = F.relu(self.fc2(x))  # Apply ReLU activation after second layer\n",
    "        x = self.fc3(x)          # Output layer\n",
    "        return x\n",
    "\n",
    "# Instantiate the network\n",
    "model = SimpleNet()\n",
    "\n",
    "# Print the model architecture\n",
    "print(model)"
   ]
  },
  {
   "cell_type": "markdown",
   "metadata": {},
   "source": [
    "##### **Q4: How do you initialize the weights and biases of a neural network?**"
   ]
  },
  {
   "cell_type": "code",
   "execution_count": 7,
   "metadata": {},
   "outputs": [
    {
     "name": "stdout",
     "output_type": "stream",
     "text": [
      "Parameter containing:\n",
      "tensor([[-0.0645,  0.0697, -0.0841,  ..., -0.0156,  0.0389,  0.0596],\n",
      "        [ 0.0066, -0.0032,  0.0763,  ..., -0.0581, -0.0579,  0.0492],\n",
      "        [-0.0183, -0.0406,  0.0683,  ..., -0.0618, -0.0472, -0.0116],\n",
      "        ...,\n",
      "        [ 0.0703, -0.0414,  0.0092,  ..., -0.0702, -0.0323, -0.0663],\n",
      "        [ 0.0675,  0.0136, -0.0110,  ...,  0.0826, -0.0300, -0.0004],\n",
      "        [ 0.0853, -0.0045,  0.0724,  ..., -0.0447, -0.0040, -0.0267]],\n",
      "       requires_grad=True)\n",
      "Parameter containing:\n",
      "tensor([0., 0., 0., 0., 0., 0., 0., 0., 0., 0., 0., 0., 0., 0., 0., 0., 0., 0., 0., 0., 0., 0., 0., 0.,\n",
      "        0., 0., 0., 0., 0., 0., 0., 0., 0., 0., 0., 0., 0., 0., 0., 0., 0., 0., 0., 0., 0., 0., 0., 0.,\n",
      "        0., 0., 0., 0., 0., 0., 0., 0., 0., 0., 0., 0., 0., 0., 0., 0., 0., 0., 0., 0., 0., 0., 0., 0.,\n",
      "        0., 0., 0., 0., 0., 0., 0., 0., 0., 0., 0., 0., 0., 0., 0., 0., 0., 0., 0., 0., 0., 0., 0., 0.,\n",
      "        0., 0., 0., 0., 0., 0., 0., 0., 0., 0., 0., 0., 0., 0., 0., 0., 0., 0., 0., 0., 0., 0., 0., 0.,\n",
      "        0., 0., 0., 0., 0., 0., 0., 0.], requires_grad=True)\n"
     ]
    }
   ],
   "source": [
    "# One way to do it: custom initialization\n",
    "import torch.nn.init as init\n",
    "\n",
    "class CustomNet(nn.Module):\n",
    "    def __init__(self):\n",
    "        super(CustomNet, self).__init__()\n",
    "        self.fc1 = nn.Linear(784, 128)\n",
    "        self.fc2 = nn.Linear(128, 64)\n",
    "        self.fc3 = nn.Linear(64, 10)\n",
    "        \n",
    "        self._initialize_weights()\n",
    "    \n",
    "    def forward(self, x):\n",
    "        x = F.relu(self.fc1(x))\n",
    "        x = F.relu(self.fc2(x))\n",
    "        x = self.fc3(x)\n",
    "        return x\n",
    "    \n",
    "    def _initialize_weights(self):\n",
    "        # Custom initialization of weights and biases\n",
    "        init.kaiming_uniform_(self.fc1.weight, nonlinearity='relu')  # Suitable for layers with ReLU activation functions. Maintains variance of input and output distributions\n",
    "        init.constant_(self.fc1.bias, 0)  # Sets biases to a constant value, often zero\n",
    "        \n",
    "        init.kaiming_uniform_(self.fc2.weight, nonlinearity='relu')\n",
    "        init.constant_(self.fc2.bias, 0)\n",
    "        \n",
    "        init.xavier_uniform_(self.fc3.weight)  # Suitable for layers with linear or tanh activation functions. Keeps variance of activations uniform across layers\n",
    "        init.constant_(self.fc3.bias, 0)\n",
    "\n",
    "# Instantiate the network\n",
    "model = CustomNet()\n",
    "\n",
    "# Print the initialized weights and biases\n",
    "print(model.fc1.weight)\n",
    "print(model.fc1.bias)"
   ]
  },
  {
   "cell_type": "code",
   "execution_count": 8,
   "metadata": {},
   "outputs": [
    {
     "data": {
      "text/plain": [
       "CustomNet(\n",
       "  (fc1): Linear(in_features=784, out_features=128, bias=True)\n",
       "  (fc2): Linear(in_features=128, out_features=64, bias=True)\n",
       "  (fc3): Linear(in_features=64, out_features=10, bias=True)\n",
       ")"
      ]
     },
     "execution_count": 8,
     "metadata": {},
     "output_type": "execute_result"
    }
   ],
   "source": [
    "# Alternative: use \"apply\" function\n",
    "def init_weights(m):\n",
    "    if isinstance(m, nn.Linear):\n",
    "        init.kaiming_uniform_(m.weight, nonlinearity='relu')\n",
    "        init.constant_(m.bias, 0)\n",
    "\n",
    "model.apply(init_weights)"
   ]
  },
  {
   "cell_type": "markdown",
   "metadata": {},
   "source": [
    "##### **Q5: How do you choose activation functions for the layers of your neural network?**"
   ]
  },
  {
   "cell_type": "code",
   "execution_count": 9,
   "metadata": {},
   "outputs": [],
   "source": [
    "# ReLU: Widely used in hidden layers of deep neural networks.\n",
    "def relu(x):\n",
    "    return F.relu(x)\n",
    "\n",
    "# Leaky ReLU: Alternative to ReLU to address the dying ReLU problem.\n",
    "def leaky_relu(x, negative_slope=0.01):\n",
    "    return F.leaky_relu(x, negative_slope=negative_slope)\n",
    "\n",
    "# Sigmoid: Used in the output layer for binary classification.\n",
    "def sigmoid(x):\n",
    "    return torch.sigmoid(x)\n",
    "\n",
    "# Tanh: Used in hidden layers when data is normalized.\n",
    "def tanh(x):\n",
    "    return torch.tanh(x)\n",
    "\n",
    "# Softmax: Used in the output layer for multi-class classification.\n",
    "def softmax(x, dim=0):  # Note: Adjust dim as needed for higher-dimensional tensors\n",
    "    return F.softmax(x, dim=dim)\n",
    "\n",
    "# Swish: Alternative to ReLU for potential performance gains.\n",
    "def swish(x):\n",
    "    return x * torch.sigmoid(x)"
   ]
  },
  {
   "cell_type": "code",
   "execution_count": 10,
   "metadata": {},
   "outputs": [
    {
     "name": "stdout",
     "output_type": "stream",
     "text": [
      "Input Tensor:  tensor([-1.,  0.,  1.,  2.])\n",
      "ReLU:  tensor([0., 0., 1., 2.])\n",
      "Leaky ReLU:  tensor([-0.0100,  0.0000,  1.0000,  2.0000])\n",
      "Sigmoid:  tensor([0.2689, 0.5000, 0.7311, 0.8808])\n",
      "Tanh:  tensor([-0.7616,  0.0000,  0.7616,  0.9640])\n",
      "Softmax:  tensor([0.0321, 0.0871, 0.2369, 0.6439])\n",
      "Swish:  tensor([-0.2689,  0.0000,  0.7311,  1.7616])\n"
     ]
    }
   ],
   "source": [
    "# Example tensor\n",
    "x = torch.tensor([-1.0, 0.0, 1.0, 2.0])\n",
    "\n",
    "# Apply and print each activation function\n",
    "print(\"Input Tensor: \", x)\n",
    "print(\"ReLU: \", relu(x))\n",
    "print(\"Leaky ReLU: \", leaky_relu(x))\n",
    "print(\"Sigmoid: \", sigmoid(x))\n",
    "print(\"Tanh: \", tanh(x))\n",
    "print(\"Softmax: \", softmax(x, dim=0))\n",
    "print(\"Swish: \", swish(x))"
   ]
  },
  {
   "cell_type": "code",
   "execution_count": 11,
   "metadata": {},
   "outputs": [
    {
     "name": "stdout",
     "output_type": "stream",
     "text": [
      "CustomNet(\n",
      "  (fc1): Linear(in_features=784, out_features=128, bias=True)\n",
      "  (fc2): Linear(in_features=128, out_features=64, bias=True)\n",
      "  (fc3): Linear(in_features=64, out_features=10, bias=True)\n",
      ")\n"
     ]
    }
   ],
   "source": [
    "# In practice, using Leaky ReLU:\n",
    "class CustomNet(nn.Module):\n",
    "    def __init__(self):\n",
    "        super(CustomNet, self).__init__()\n",
    "        self.fc1 = nn.Linear(784, 128)\n",
    "        self.fc2 = nn.Linear(128, 64)\n",
    "        self.fc3 = nn.Linear(64, 10)\n",
    "    \n",
    "    def forward(self, x):\n",
    "        x = F.relu(self.fc1(x))  # ReLU activation for hidden layer 1\n",
    "        x = F.leaky_relu(self.fc2(x), negative_slope=0.01)  # Leaky ReLU for hidden layer 2\n",
    "        x = self.fc3(x)\n",
    "        return F.softmax(x, dim=1)  # Softmax for output layer\n",
    "\n",
    "model = CustomNet()\n",
    "\n",
    "print(model)"
   ]
  },
  {
   "cell_type": "markdown",
   "metadata": {},
   "source": [
    "## Forward propagation"
   ]
  },
  {
   "cell_type": "markdown",
   "metadata": {},
   "source": [
    "##### **Q6: What is the forward pass in a neural network?**\n",
    "\n",
    "It's the process of passing input data through the network's layers to produce an output. This involves applying a series of linear transformations (like matrix multiplications) and nonlinear transformations (activation functions) to the input data, layer by layer, until the final output is obtained.\n",
    "\n",
    "In practice:"
   ]
  },
  {
   "cell_type": "code",
   "execution_count": 12,
   "metadata": {},
   "outputs": [
    {
     "name": "stdout",
     "output_type": "stream",
     "text": [
      "Output of the forward pass: tensor([[-0.0553,  0.1891, -0.0415, -0.0629,  0.1807,  0.0013,  0.2298,  0.0606,\n",
      "         -0.2169,  0.0041]], grad_fn=<AddmmBackward0>)\n"
     ]
    }
   ],
   "source": [
    "# Define a simple neural network\n",
    "class SimpleNet(nn.Module):\n",
    "    def __init__(self):\n",
    "        super(SimpleNet, self).__init__()\n",
    "        self.fc1 = nn.Linear(784, 128)\n",
    "        self.fc2 = nn.Linear(128, 64)\n",
    "        self.fc3 = nn.Linear(64, 10)\n",
    "    \n",
    "    def forward(self, x):\n",
    "        # Forward pass: apply linear transformation and activation function\n",
    "        x = F.relu(self.fc1(x))  # First hidden layer with ReLU activation\n",
    "        x = F.relu(self.fc2(x))  # Second hidden layer with ReLU activation\n",
    "        x = self.fc3(x)          # Output layer (typically followed by a softmax or other activation in practice)\n",
    "        return x\n",
    "\n",
    "model = SimpleNet()\n",
    "\n",
    "# Example input (batch size of 1, 784 features)\n",
    "input_data = torch.randn(1, 784)\n",
    "\n",
    "# Perform a forward pass\n",
    "output = model(input_data)\n",
    "\n",
    "# Print the output\n",
    "print(\"Output of the forward pass:\", output)"
   ]
  },
  {
   "cell_type": "markdown",
   "metadata": {},
   "source": [
    "##### **Q7: How do you compute the outputs of a neural network during the forward pass?**"
   ]
  },
  {
   "cell_type": "code",
   "execution_count": 13,
   "metadata": {},
   "outputs": [
    {
     "name": "stdout",
     "output_type": "stream",
     "text": [
      "Output of the forward pass: tensor([[ 0.1688,  0.0634,  0.1811, -0.1954,  0.0647,  0.0675,  0.0288, -0.0821,\n",
      "          0.0222,  0.1370]], grad_fn=<AddmmBackward0>)\n"
     ]
    }
   ],
   "source": [
    "# Same as above, so no need to redefine the model\n",
    "model = SimpleNet()\n",
    "\n",
    "input_data = torch.randn(1, 784)\n",
    "\n",
    "output = model(input_data)\n",
    "\n",
    "print(\"Output of the forward pass:\", output)"
   ]
  },
  {
   "cell_type": "markdown",
   "metadata": {},
   "source": [
    "## Loss function"
   ]
  },
  {
   "cell_type": "markdown",
   "metadata": {},
   "source": [
    "##### **Q8: How do you define the loss function for a neural network in PyTorch?**"
   ]
  },
  {
   "cell_type": "code",
   "execution_count": 14,
   "metadata": {},
   "outputs": [],
   "source": [
    "# Cross-entropy loss: Used for multi-class classification problems, combining nn.LogSoftmax and nn.NLLLoss in a single class\n",
    "loss_fn = nn.CrossEntropyLoss()\n",
    "\n",
    "# Mean Squared Error (MSE) loss: Used for regression problems\n",
    "loss_fn = nn.MSELoss()\n",
    "\n",
    "# Binary cross-entropy loss: Used for binary classification problems\n",
    "loss_fn = nn.BCELoss()"
   ]
  },
  {
   "cell_type": "code",
   "execution_count": 15,
   "metadata": {},
   "outputs": [
    {
     "name": "stdout",
     "output_type": "stream",
     "text": [
      "Loss: 2.3488786220550537\n"
     ]
    }
   ],
   "source": [
    "# Define a simple neural network\n",
    "class SimpleNet(nn.Module):\n",
    "    def __init__(self):\n",
    "        super(SimpleNet, self).__init__()\n",
    "        self.fc1 = nn.Linear(784, 128)\n",
    "        self.fc2 = nn.Linear(128, 64)\n",
    "        self.fc3 = nn.Linear(64, 10)\n",
    "    \n",
    "    def forward(self, x):\n",
    "        x = torch.relu(self.fc1(x))\n",
    "        x = torch.relu(self.fc2(x))\n",
    "        x = self.fc3(x)\n",
    "        return x\n",
    "\n",
    "model = SimpleNet()\n",
    "\n",
    "# Define the loss function\n",
    "loss_fn = nn.CrossEntropyLoss()\n",
    "\n",
    "# Define the optimizer\n",
    "optimizer = optim.Adam(model.parameters(), lr=0.001)\n",
    "\n",
    "input_data = torch.randn(1, 784)\n",
    "target = torch.tensor([3])  # Example target class\n",
    "\n",
    "output = model(input_data)\n",
    "\n",
    "# Compute the loss\n",
    "loss = loss_fn(output, target)\n",
    "\n",
    "# Print the loss\n",
    "print(\"Loss:\", loss.item())"
   ]
  },
  {
   "cell_type": "markdown",
   "metadata": {},
   "source": [
    "##### **Q9: What are some common loss functions used in neural networks?**"
   ]
  },
  {
   "cell_type": "code",
   "execution_count": 16,
   "metadata": {},
   "outputs": [],
   "source": [
    "# Binary cross entropy with logits loss: Used in binary classification problems, combining a sigmoid layer and the BCELoss in a single class\n",
    "loss_fn = nn.BCEWithLogitsLoss()\n",
    "\n",
    "# Kullback-Leibler divergence loss: Used in variational autoencoders and other generative models\n",
    "loss_fn = nn.KLDivLoss()\n",
    "\n",
    "# Huber loss: Used in regression problems, combining advantages of MSE and MAE\n",
    "loss_fn = nn.SmoothL1Loss()\n",
    "\n",
    "# Negative log-likelihood loss: Used in classification tasks with probabilistic outputs\n",
    "loss_fn = nn.NLLLoss()\n",
    "\n",
    "# Cosine embedding loss: Used in similarity learning\n",
    "loss_fn = nn.CosineEmbeddingLoss()"
   ]
  },
  {
   "cell_type": "code",
   "execution_count": 17,
   "metadata": {},
   "outputs": [
    {
     "name": "stdout",
     "output_type": "stream",
     "text": [
      "MSE Loss: 1.7162834405899048\n",
      "Cross Entropy Loss: 2.503631830215454\n"
     ]
    }
   ],
   "source": [
    "# In practice:\n",
    "input_data = torch.randn(1, 5)\n",
    "target_regression = torch.randn(1, 5)\n",
    "\n",
    "input_classification = torch.randn(1, 5)\n",
    "target_classification = torch.tensor([1])\n",
    "\n",
    "# Define a simple linear model\n",
    "model = nn.Linear(5, 5)\n",
    "\n",
    "# Forward pass for regression\n",
    "output_regression = model(input_data)\n",
    "loss_fn_mse = nn.MSELoss()\n",
    "loss_mse = loss_fn_mse(output_regression, target_regression)\n",
    "print(\"MSE Loss:\", loss_mse.item())\n",
    "\n",
    "# Forward pass for classification\n",
    "output_classification = model(input_classification)\n",
    "loss_fn_cross_entropy = nn.CrossEntropyLoss()  # CrossEntropyLoss expects the output to be logits (raw scores) and target to be class indices\n",
    "loss_cross_entropy = loss_fn_cross_entropy(output_classification, target_classification)\n",
    "print(\"Cross Entropy Loss:\", loss_cross_entropy.item())"
   ]
  },
  {
   "cell_type": "markdown",
   "metadata": {},
   "source": [
    "## Backpropagation"
   ]
  },
  {
   "cell_type": "markdown",
   "metadata": {},
   "source": [
    "##### **Q10: What is the backpropagation algorithm and how does it work?**\n",
    "\n",
    "The backpropagation algorithm is a fundamental method used for training artificial neural networks, which works by minimizing the loss function by adjusting the weights of the network through a process called gradient descent. It works as follows:\n",
    "\n",
    "1. **Initialization**:\n",
    "   - Initialize the weights and biases of the network randomly or using specific initialization techniques.\n",
    "\n",
    "2. **Forward pass**:\n",
    "   - For each layer in the network, compute the output by applying the linear transformation and activation function.\n",
    "   - Calculate the loss using the loss function.\n",
    "\n",
    "3. **Compute gradients**:\n",
    "   - Starting from the output layer, compute the gradient of the loss with respect to each weight and bias by applying the chain rule.\n",
    "   - The gradient for a weight is computed as the derivative of the loss with respect to the weight.\n",
    "\n",
    "4. **Update weights**:\n",
    "   - Adjust the weights and biases using the computed gradients. This is typically done using an optimization algorithm like gradient descent.\n",
    "\n",
    "5. **Repeat**:\n",
    "   - Repeat the forward and backward passes for a number of epochs or until the loss converges to a minimum value.\n",
    "\n",
    "In practice:"
   ]
  },
  {
   "cell_type": "code",
   "execution_count": 18,
   "metadata": {},
   "outputs": [
    {
     "name": "stdout",
     "output_type": "stream",
     "text": [
      "Loss: 2.30964994430542\n"
     ]
    }
   ],
   "source": [
    "# Define a simple neural network\n",
    "class SimpleNet(nn.Module):\n",
    "    def __init__(self):\n",
    "        super(SimpleNet, self).__init__()\n",
    "        self.fc1 = nn.Linear(784, 128)\n",
    "        self.fc2 = nn.Linear(128, 64)\n",
    "        self.fc3 = nn.Linear(64, 10)\n",
    "    \n",
    "    def forward(self, x):\n",
    "        x = torch.relu(self.fc1(x))\n",
    "        x = torch.relu(self.fc2(x))\n",
    "        x = self.fc3(x)\n",
    "        return x\n",
    "\n",
    "# Instantiate the network, loss function, and optimizer\n",
    "model = SimpleNet()\n",
    "loss_fn = nn.CrossEntropyLoss()\n",
    "optimizer = optim.SGD(model.parameters(), lr=0.01)\n",
    "\n",
    "input_data = torch.randn(64, 784)  # Batch of 64 samples, each with 784 features\n",
    "target = torch.randint(0, 10, (64,))  # Random target classes for the batch\n",
    "\n",
    "# Forward pass\n",
    "output = model(input_data)\n",
    "loss = loss_fn(output, target)\n",
    "\n",
    "# Backward pass and optimization\n",
    "optimizer.zero_grad()  # Zero the gradients\n",
    "loss.backward()        # Compute the gradients\n",
    "optimizer.step()       # Update the weights\n",
    "\n",
    "print(\"Loss:\", loss.item())"
   ]
  },
  {
   "cell_type": "markdown",
   "metadata": {},
   "source": [
    "##### **Q11: How do you calculate gradients during backpropagation in PyTorch?**"
   ]
  },
  {
   "cell_type": "code",
   "execution_count": 19,
   "metadata": {},
   "outputs": [
    {
     "name": "stdout",
     "output_type": "stream",
     "text": [
      "Gradients for fc1.weight: tensor([[-5.0733e-04, -4.3848e-04, -2.6786e-04,  ..., -8.3950e-04,\n",
      "          7.4699e-04,  8.3321e-04],\n",
      "        [-1.6150e-03,  8.7193e-04, -2.2865e-03,  ..., -3.8587e-04,\n",
      "          9.8753e-04, -1.0646e-03],\n",
      "        [ 1.0754e-03, -1.0624e-03, -1.1469e-03,  ..., -1.5890e-03,\n",
      "          2.0951e-03,  2.7597e-03],\n",
      "        ...,\n",
      "        [ 2.9448e-03,  2.8083e-03, -1.1835e-03,  ..., -1.0265e-03,\n",
      "         -6.4960e-04, -5.7468e-05],\n",
      "        [-1.0065e-03, -2.4747e-03,  7.9664e-04,  ..., -3.5015e-04,\n",
      "          1.3258e-03, -3.1402e-03],\n",
      "        [-1.9471e-03, -3.0769e-04, -4.9420e-04,  ..., -1.0950e-03,\n",
      "          2.3389e-03,  2.1640e-03]])\n",
      "Gradients for fc1.bias: tensor([-4.2911e-06,  3.3752e-03,  1.2003e-03,  1.2790e-03, -3.8887e-03,\n",
      "        -1.3142e-03, -7.8588e-04,  2.3077e-04, -1.1004e-03, -2.7809e-03,\n",
      "         1.9439e-03, -1.2819e-03,  6.7314e-04,  1.6582e-03,  1.2804e-04,\n",
      "         8.8872e-04,  4.0208e-04, -4.7883e-04,  1.7324e-03,  1.7308e-03,\n",
      "        -1.2166e-05, -6.3970e-03,  3.6805e-03,  3.1410e-03,  6.2951e-05,\n",
      "        -6.7776e-04, -2.0057e-03,  8.2434e-05,  1.7080e-03, -1.0364e-03,\n",
      "        -6.0593e-04, -1.6509e-03, -3.3867e-03,  1.8822e-03, -2.0908e-04,\n",
      "        -3.9364e-03,  1.8993e-03, -1.8215e-03, -5.3017e-05,  2.5077e-04,\n",
      "         1.8572e-03,  1.0941e-03, -4.5887e-03, -7.1830e-05, -2.2358e-04,\n",
      "         1.7767e-03,  1.9350e-03,  1.3982e-03,  9.2827e-04,  4.7088e-03,\n",
      "        -1.7834e-03, -8.6360e-04, -6.1572e-04,  2.3091e-03,  1.2282e-04,\n",
      "         4.7895e-03,  1.8912e-03,  4.1288e-04, -6.7202e-04, -2.1818e-03,\n",
      "        -1.1320e-03,  1.4042e-03,  2.4433e-04, -1.3704e-04,  3.7073e-04,\n",
      "         1.9513e-03,  2.6795e-03, -4.7756e-04,  5.5338e-04, -4.9193e-05,\n",
      "         8.9119e-04,  2.0772e-03,  9.5096e-04, -3.8938e-04,  1.4972e-03,\n",
      "         1.6630e-03, -8.3267e-04, -4.4514e-04, -1.8709e-03,  3.9126e-04,\n",
      "         2.2259e-03, -3.0381e-03,  2.4562e-03, -4.7100e-03, -9.8250e-04,\n",
      "         8.3013e-04, -4.1526e-03,  4.8254e-06, -7.6277e-04,  1.5844e-03,\n",
      "        -5.7740e-04, -3.2139e-03,  1.8505e-04, -1.5137e-03, -1.2314e-04,\n",
      "         4.4286e-04, -5.9079e-04,  3.6734e-03,  1.4397e-03, -9.8173e-04,\n",
      "         1.0988e-03,  1.1194e-03,  3.7519e-04,  1.3893e-03,  5.4324e-04,\n",
      "         9.8073e-05, -3.0449e-04,  1.0488e-03, -8.6019e-04,  8.2971e-04,\n",
      "        -1.5013e-03, -2.6554e-04,  8.1432e-04, -3.9370e-04,  5.9391e-04,\n",
      "         9.7988e-04, -1.2002e-04,  3.3647e-03,  1.7936e-03,  9.7079e-04,\n",
      "         1.1600e-03, -7.5136e-04,  1.0109e-04,  2.0180e-03, -2.2934e-03,\n",
      "         3.4497e-03, -2.5383e-03,  1.4064e-03])\n",
      "Gradients for fc2.weight: tensor([[ 7.1663e-03,  3.0562e-03, -1.4675e-03,  ...,  7.3806e-03,\n",
      "          6.1991e-03,  6.6297e-03],\n",
      "        [ 1.6860e-03,  8.0695e-04, -8.9971e-04,  ..., -3.0810e-04,\n",
      "          1.6115e-03,  1.2040e-03],\n",
      "        [-3.4323e-03, -1.0149e-03, -1.0977e-04,  ...,  1.9310e-03,\n",
      "         -1.7236e-04, -2.7543e-03],\n",
      "        ...,\n",
      "        [-1.8080e-05,  1.9964e-03, -1.9367e-03,  ...,  7.8767e-04,\n",
      "         -1.1065e-03,  4.4655e-04],\n",
      "        [-2.8390e-03,  1.9891e-03,  4.4224e-05,  ...,  9.0159e-04,\n",
      "         -3.0887e-04,  1.0769e-03],\n",
      "        [ 1.4206e-03, -1.0828e-04,  1.5378e-04,  ..., -2.3642e-03,\n",
      "         -7.0987e-04,  6.4809e-04]])\n",
      "Gradients for fc2.bias: tensor([ 1.6026e-02,  6.8687e-03,  3.4449e-03, -9.2469e-03, -4.5296e-03,\n",
      "         4.8293e-03,  2.7372e-03, -3.3875e-03, -3.9865e-05, -2.7207e-03,\n",
      "         2.0492e-03, -1.2335e-03, -2.9174e-03, -2.8827e-03, -1.2898e-04,\n",
      "        -3.5095e-04, -6.3970e-03,  5.8722e-04, -8.1905e-03, -7.6323e-03,\n",
      "         4.2980e-03, -7.4470e-03,  2.3446e-02,  1.2944e-03, -4.8515e-03,\n",
      "         8.8855e-03, -4.2074e-03, -1.7259e-02, -6.5957e-03,  5.0347e-03,\n",
      "         1.2251e-02, -9.4454e-03,  4.9915e-03,  1.1820e-02, -1.4215e-03,\n",
      "         3.7388e-03,  1.8687e-04,  4.8126e-03,  7.7930e-03, -8.4725e-03,\n",
      "         5.6946e-03, -7.5327e-03,  2.3405e-03,  8.1398e-03, -9.1827e-03,\n",
      "        -2.3372e-04,  3.9345e-03,  1.4144e-03, -2.2434e-03, -4.1448e-03,\n",
      "        -7.7097e-03, -8.7969e-03,  5.1104e-03,  9.0532e-03, -4.6756e-03,\n",
      "        -8.4967e-04,  2.8904e-03,  1.2021e-02, -1.5734e-03, -8.2722e-03,\n",
      "         1.2788e-03,  2.1789e-03,  2.4815e-03, -1.5319e-03])\n",
      "Gradients for fc3.weight: tensor([[-7.0998e-03,  2.6900e-03, -3.4541e-03,  5.4436e-03, -2.1850e-02,\n",
      "          2.1412e-03, -2.7251e-04,  4.4918e-04, -7.3053e-03,  1.6424e-03,\n",
      "          3.2383e-03,  4.8460e-04, -1.9964e-03, -5.2499e-03,  3.7593e-05,\n",
      "         -7.2302e-03, -7.4987e-04,  4.2132e-04,  2.2980e-03, -2.1883e-02,\n",
      "         -1.3291e-03, -4.2587e-04, -7.0445e-03,  4.7176e-03, -2.8853e-03,\n",
      "         -3.6042e-03, -1.1911e-02,  1.2458e-02, -1.5852e-03, -1.4626e-02,\n",
      "         -1.2273e-02,  5.3930e-03, -7.2092e-03, -6.7675e-03, -3.8377e-04,\n",
      "          1.0181e-03,  2.8930e-03, -1.6160e-02, -5.6235e-04, -2.6319e-03,\n",
      "         -1.8255e-02, -1.5549e-03, -2.2097e-03, -7.0822e-04,  2.0305e-03,\n",
      "         -1.8102e-03, -1.5534e-02,  6.4822e-04,  3.2256e-03, -1.0010e-02,\n",
      "         -1.2784e-02, -1.7499e-02,  3.5412e-03, -1.5935e-03,  4.1386e-04,\n",
      "          5.4737e-04, -2.3758e-03, -1.7254e-02,  8.2289e-04, -1.1296e-02,\n",
      "         -4.5421e-03, -1.4916e-02, -7.4815e-03, -1.0974e-02],\n",
      "        [ 1.1577e-02,  5.1415e-03, -1.0544e-03,  7.9940e-04,  9.6108e-03,\n",
      "         -2.1441e-03, -4.2093e-03, -4.3163e-04,  3.3380e-03,  1.0689e-02,\n",
      "          6.6259e-03,  4.7688e-04, -2.0568e-03,  1.3348e-02,  5.3697e-04,\n",
      "          1.3444e-02,  6.5818e-03,  3.5280e-04, -2.8406e-03,  5.2970e-03,\n",
      "          9.1589e-04,  4.7663e-03,  4.1527e-03, -3.7704e-03, -8.2685e-04,\n",
      "          1.6742e-03,  5.3903e-03,  3.9995e-03, -1.1426e-03,  5.2931e-03,\n",
      "          3.6830e-03,  6.2596e-03,  1.9165e-03,  2.5227e-03,  1.4112e-04,\n",
      "          1.0806e-02,  4.7505e-03, -1.0301e-02,  1.4935e-03, -3.6830e-03,\n",
      "          2.0843e-03, -5.2301e-03,  4.4102e-03,  8.5486e-04, -3.5079e-03,\n",
      "          2.6192e-03,  7.8821e-03, -9.0580e-04, -5.3590e-03,  6.2476e-04,\n",
      "         -5.7255e-03,  2.4977e-03,  6.2266e-03, -4.3409e-03,  1.9897e-03,\n",
      "          2.2065e-03,  4.0410e-03,  1.0503e-02,  7.3748e-04, -4.0189e-03,\n",
      "          1.8551e-03,  3.8486e-03, -2.7249e-03, -5.0410e-03],\n",
      "        [ 5.1238e-03,  1.0833e-02, -2.7868e-03,  1.1860e-03,  1.0999e-02,\n",
      "          1.8186e-04, -2.8072e-03,  3.7215e-04, -1.1576e-02, -1.0981e-03,\n",
      "         -8.0606e-04,  3.5462e-04, -4.3516e-04,  2.0485e-03,  4.0769e-04,\n",
      "         -1.1299e-02, -2.5975e-04,  2.8176e-04, -1.8970e-03, -6.1053e-04,\n",
      "         -4.6729e-03, -7.8836e-03, -4.1092e-03, -1.8798e-03,  5.6313e-04,\n",
      "         -7.3235e-04, -7.9759e-03, -3.1000e-03,  2.4959e-03,  5.4121e-03,\n",
      "          4.9241e-03, -1.1431e-02,  4.5242e-03,  5.4196e-03,  1.1595e-04,\n",
      "          2.9566e-04, -1.4077e-03,  1.2166e-02,  2.2521e-03, -1.6307e-05,\n",
      "          6.3870e-03,  2.3541e-03, -1.3056e-04, -1.6673e-04, -9.5861e-04,\n",
      "          1.8024e-03,  2.9164e-03, -1.5222e-03, -2.4230e-03,  1.9221e-03,\n",
      "          9.6433e-04, -2.0939e-03, -1.8479e-03,  6.2891e-03,  1.3622e-04,\n",
      "          1.8513e-03,  8.0865e-04,  1.2107e-02, -1.2790e-03, -1.0738e-02,\n",
      "          8.0767e-04,  4.9708e-03, -6.3062e-04,  1.9374e-03],\n",
      "        [-1.3825e-02, -2.7058e-02, -3.2382e-04, -1.1564e-02, -1.4753e-02,\n",
      "         -9.0621e-03, -1.0982e-02, -2.3511e-03, -2.8127e-03, -2.3006e-03,\n",
      "          5.5935e-03,  4.6495e-04, -4.8658e-03, -1.9441e-02,  5.1285e-04,\n",
      "         -2.5930e-02, -6.5566e-03,  3.8532e-05, -1.3900e-02, -1.1192e-03,\n",
      "         -6.7051e-03, -8.7047e-03, -1.4731e-02, -1.3147e-02, -1.8518e-03,\n",
      "          8.1003e-04,  4.4827e-03, -1.3935e-02, -3.3795e-03, -9.4508e-03,\n",
      "         -3.8879e-03, -1.2665e-02, -1.1128e-03,  2.5038e-04, -4.5347e-04,\n",
      "          3.4890e-03, -3.5445e-03, -6.9523e-03, -9.0524e-03, -1.0098e-02,\n",
      "         -6.8517e-03, -6.1310e-03,  3.8095e-03,  5.1545e-03, -1.7366e-04,\n",
      "         -1.3999e-03, -5.4992e-03,  5.4049e-04,  2.2814e-03, -3.3422e-03,\n",
      "         -6.5785e-04,  1.8752e-03, -1.3420e-02, -1.9205e-02, -5.0095e-04,\n",
      "          3.5731e-04, -2.1284e-03, -6.5941e-03,  7.2856e-04, -1.2904e-02,\n",
      "         -9.5969e-03, -4.6150e-03, -2.2935e-03, -4.6665e-03],\n",
      "        [-1.9611e-02, -9.9227e-03,  1.4615e-03, -1.0521e-03, -5.7241e-03,\n",
      "          2.5246e-03,  3.4026e-03,  3.6245e-04, -7.8104e-03, -1.2501e-02,\n",
      "         -1.5887e-02, -1.6521e-03,  1.8238e-03, -2.8647e-03,  1.0513e-04,\n",
      "         -2.4648e-02, -3.0383e-03, -2.4400e-03,  3.2134e-04, -1.6643e-03,\n",
      "         -6.7055e-03, -5.5041e-03, -7.0017e-03, -1.7965e-02,  3.3926e-04,\n",
      "         -2.8939e-03, -2.1265e-04, -3.9592e-03,  6.6051e-03, -3.1531e-03,\n",
      "         -9.5999e-03,  7.3290e-04,  7.3943e-04, -5.5206e-03,  9.9123e-05,\n",
      "         -1.7097e-02, -2.8564e-03, -1.0220e-02, -5.3707e-03, -7.7943e-03,\n",
      "         -4.2387e-03,  6.4032e-04,  7.0332e-04, -4.8915e-03, -6.5599e-03,\n",
      "          1.4824e-03,  4.0094e-03,  4.8385e-04,  2.9519e-04,  4.0879e-03,\n",
      "          3.0270e-03, -4.9223e-03, -1.6184e-02, -3.8327e-03, -1.7446e-03,\n",
      "         -1.6168e-03, -1.6146e-03, -1.2481e-02, -1.0638e-03, -1.8952e-03,\n",
      "          1.4708e-03, -1.6359e-03,  1.6321e-03,  4.8963e-03],\n",
      "        [ 2.7014e-03, -4.6005e-03, -2.2602e-04,  5.5170e-03,  6.5269e-03,\n",
      "          3.0260e-03,  5.2208e-03,  4.4080e-04,  9.4460e-03, -7.7511e-04,\n",
      "         -5.7845e-04,  4.6213e-04,  2.9190e-03,  1.7199e-03, -1.7065e-04,\n",
      "          1.6121e-02, -3.2165e-03,  3.1663e-04,  5.3120e-03,  9.2720e-03,\n",
      "          7.0025e-03,  4.9481e-03,  6.1678e-04,  1.2289e-02,  2.5475e-03,\n",
      "          8.6443e-04, -5.7293e-03, -1.9329e-03,  7.0485e-04,  3.0269e-03,\n",
      "          1.1420e-02,  7.4314e-03, -5.9902e-03, -1.8220e-03,  1.4218e-04,\n",
      "          5.2301e-03, -1.8875e-03,  5.9643e-04,  7.0118e-03,  1.1723e-02,\n",
      "          5.7324e-03,  7.7295e-03, -1.7141e-03,  2.2137e-03,  9.2600e-03,\n",
      "         -1.8077e-03,  1.3409e-03,  5.8578e-04,  7.0873e-04,  6.4887e-04,\n",
      "          3.6504e-03, -2.1088e-03,  1.1660e-02,  7.0432e-03,  1.4610e-03,\n",
      "          1.9878e-03, -5.5483e-04,  4.1276e-03, -2.3202e-04,  9.5637e-03,\n",
      "          6.1310e-03,  3.9538e-03,  4.6359e-03,  7.9206e-03],\n",
      "        [ 1.6537e-02,  1.2147e-02,  2.2372e-03,  4.2904e-03,  1.2471e-02,\n",
      "          3.1909e-04,  1.4162e-03,  4.0647e-04,  1.2950e-02,  3.1831e-03,\n",
      "          8.6876e-03,  3.8574e-04,  2.6512e-03,  1.1381e-02,  4.1076e-04,\n",
      "          2.4113e-02,  5.9037e-03,  3.1915e-04,  5.0409e-03,  1.3089e-02,\n",
      "          4.4380e-03,  6.0478e-03,  1.2916e-02,  1.1027e-02, -4.6695e-04,\n",
      "          6.0995e-05,  1.1284e-02,  8.5084e-03,  2.5971e-03,  2.1003e-02,\n",
      "          1.1016e-02,  8.4791e-03, -4.0185e-03, -8.4687e-04,  1.2057e-04,\n",
      "          7.0621e-03, -2.5462e-03,  2.0978e-02,  7.6848e-03,  8.4546e-03,\n",
      "          1.1303e-02,  1.6491e-03,  3.8607e-03, -5.5849e-04,  1.4487e-03,\n",
      "          2.7876e-03,  2.6146e-03,  5.5032e-04,  4.9555e-03,  4.9143e-03,\n",
      "          8.2193e-03,  1.6606e-02,  1.0760e-02,  6.5204e-03,  5.4515e-04,\n",
      "          1.9910e-03,  4.6844e-03,  1.3575e-02,  6.7515e-04,  1.2104e-02,\n",
      "          4.0396e-03,  7.4998e-03,  2.3311e-03,  2.1594e-03],\n",
      "        [ 1.6615e-02,  1.2528e-02,  1.9565e-03,  2.7544e-03,  1.6559e-02,\n",
      "          2.6853e-03,  6.3923e-03,  4.3576e-04,  9.1795e-03,  1.4602e-02,\n",
      "          1.0919e-02,  4.7649e-04,  2.9164e-03,  1.6453e-02,  5.2076e-04,\n",
      "          2.6997e-02,  6.7821e-03,  3.9771e-04,  5.4450e-03,  8.8982e-03,\n",
      "          7.5480e-03,  6.6011e-03,  9.5610e-03,  1.1500e-02,  2.8907e-04,\n",
      "          2.0504e-03,  9.3333e-03,  9.1197e-03,  8.8141e-03,  2.3491e-02,\n",
      "          1.7979e-02,  1.1511e-02,  1.3097e-02,  7.1355e-03,  1.3461e-04,\n",
      "          1.2341e-02,  6.6467e-03,  1.8210e-02,  1.0642e-03,  1.0260e-02,\n",
      "          5.5891e-03,  8.4556e-03,  4.4872e-03,  5.3653e-03,  1.4894e-02,\n",
      "          3.1027e-03,  7.9763e-03,  5.5999e-04,  5.9786e-03,  5.7239e-03,\n",
      "          8.7543e-03,  1.5771e-02,  1.2211e-02,  9.7233e-03,  2.1192e-03,\n",
      "          2.2414e-03,  6.7743e-03,  1.8558e-02,  7.9730e-04,  1.1343e-02,\n",
      "          5.4165e-03,  8.1379e-03,  4.4955e-03,  7.1879e-03],\n",
      "        [-1.5155e-02, -7.1718e-03,  7.9179e-04, -8.8073e-03, -1.4828e-02,\n",
      "         -2.4015e-03,  1.2335e-03, -1.1364e-04, -1.2111e-02, -6.3329e-03,\n",
      "         -1.5460e-02, -1.8368e-03, -6.9671e-04, -2.1678e-02, -2.7997e-03,\n",
      "         -1.6877e-02, -2.9613e-03,  2.7771e-04,  4.0959e-04, -1.2913e-02,\n",
      "         -7.7292e-04, -1.2606e-03, -4.3418e-03, -1.5738e-03,  1.7321e-04,\n",
      "          1.4852e-03, -9.5098e-03, -1.8421e-02, -7.7512e-03, -2.1322e-02,\n",
      "         -1.4790e-02, -1.1753e-02, -1.7119e-03, -2.7153e-03, -3.9699e-05,\n",
      "         -8.5028e-03, -2.4872e-03, -1.4860e-02, -2.7056e-03, -4.5238e-03,\n",
      "         -3.8112e-03, -6.5302e-03, -9.7816e-03, -8.6526e-03, -8.9910e-03,\n",
      "         -7.0374e-03, -6.8845e-04, -3.9231e-04, -4.3386e-03, -6.2716e-03,\n",
      "         -1.3451e-03, -3.0727e-03, -8.1312e-03, -5.1488e-03, -1.7666e-03,\n",
      "         -2.9849e-03, -8.8554e-03, -1.8510e-02, -1.7881e-03,  5.1815e-04,\n",
      "         -1.0476e-02, -1.3557e-02, -4.0820e-03, -9.2013e-03],\n",
      "        [ 3.1369e-03,  5.4135e-03,  1.3981e-03,  1.4324e-03,  9.8840e-04,\n",
      "          2.7297e-03,  6.0539e-04,  4.2955e-04,  6.7025e-03, -7.1091e-03,\n",
      "         -2.3318e-03,  3.8348e-04, -2.5961e-04,  4.2836e-03,  4.3862e-04,\n",
      "          5.3077e-03, -2.4851e-03,  3.4419e-05, -1.8971e-04,  1.6334e-03,\n",
      "          2.8105e-04,  1.4155e-03,  9.9816e-03, -1.1968e-03,  2.1187e-03,\n",
      "          2.8524e-04,  4.8478e-03,  7.2619e-03, -7.3586e-03, -9.6733e-03,\n",
      "         -8.4714e-03, -3.9575e-03, -2.3445e-04,  2.3441e-03,  1.2339e-04,\n",
      "         -1.4642e-02,  4.3916e-04,  6.5431e-03, -1.8153e-03, -1.6910e-03,\n",
      "          2.0606e-03, -1.3825e-03, -3.4349e-03,  1.3892e-03, -7.4426e-03,\n",
      "          2.6097e-04, -5.0178e-03, -5.4831e-04, -5.3243e-03,  1.7017e-03,\n",
      "         -4.1028e-03, -7.0532e-03, -4.8162e-03,  4.5446e-03, -2.6530e-03,\n",
      "         -6.5810e-03, -7.7931e-04, -4.0326e-03,  6.0151e-04,  7.3231e-03,\n",
      "          4.8943e-03,  6.3126e-03,  4.1180e-03,  5.7808e-03]])\n",
      "Gradients for fc3.bias: tensor([-0.0378,  0.0157,  0.0114, -0.0492, -0.0416,  0.0276,  0.0675,  0.0790,\n",
      "        -0.0743,  0.0017])\n",
      "Loss: 2.3134052753448486\n"
     ]
    }
   ],
   "source": [
    "# Reinstantiate the network\n",
    "model = SimpleNet()\n",
    "\n",
    "loss_fn = nn.CrossEntropyLoss()\n",
    "optimizer = optim.SGD(model.parameters(), lr=0.01)\n",
    "\n",
    "input_data = torch.randn(64, 784)\n",
    "target = torch.randint(0, 10, (64,))\n",
    "\n",
    "output = model(input_data)\n",
    "loss = loss_fn(output, target)\n",
    "\n",
    "optimizer.zero_grad()\n",
    "\n",
    "loss.backward()\n",
    "\n",
    "# Print gradients for each layer\n",
    "for name, param in model.named_parameters():\n",
    "    if param.requires_grad:\n",
    "        print(f\"Gradients for {name}: {param.grad}\")\n",
    "\n",
    "optimizer.step()\n",
    "\n",
    "print(\"Loss:\", loss.item())"
   ]
  },
  {
   "cell_type": "markdown",
   "metadata": {},
   "source": [
    "##### **Q12: How do you update the weights and biases of a neural network during training?**"
   ]
  },
  {
   "cell_type": "code",
   "execution_count": 20,
   "metadata": {},
   "outputs": [
    {
     "name": "stdout",
     "output_type": "stream",
     "text": [
      "Epoch [100/1000], Loss: 2.3109\n",
      "Epoch [200/1000], Loss: 2.3115\n",
      "Epoch [300/1000], Loss: 2.3006\n",
      "Epoch [400/1000], Loss: 2.2984\n",
      "Epoch [500/1000], Loss: 2.2934\n",
      "Epoch [600/1000], Loss: 2.3139\n",
      "Epoch [700/1000], Loss: 2.3161\n",
      "Epoch [800/1000], Loss: 2.3127\n",
      "Epoch [900/1000], Loss: 2.2996\n",
      "Epoch [1000/1000], Loss: 2.3117\n"
     ]
    }
   ],
   "source": [
    "# Use a training loop!\n",
    "model = SimpleNet()\n",
    "\n",
    "loss_fn = nn.CrossEntropyLoss()\n",
    "optimizer = optim.SGD(model.parameters(), lr=0.01)\n",
    "\n",
    "# Dummy training loop\n",
    "num_epochs = 1000\n",
    "for epoch in range(num_epochs):\n",
    "    # Example input (batch size of 64, 784 features) and target\n",
    "    input_data = torch.randn(64, 784)\n",
    "    target = torch.randint(0, 10, (64,))\n",
    "    \n",
    "    # Forward pass\n",
    "    output = model(input_data)\n",
    "    loss = loss_fn(output, target)\n",
    "    \n",
    "    # Zero the gradients\n",
    "    optimizer.zero_grad()\n",
    "    \n",
    "    # Backward pass\n",
    "    loss.backward()\n",
    "    \n",
    "    # Update parameters\n",
    "    optimizer.step()\n",
    "    \n",
    "    if (epoch + 1) % 100 == 0:\n",
    "        print(f'Epoch [{epoch + 1}/{num_epochs}], Loss: {loss.item():.4f}')"
   ]
  },
  {
   "cell_type": "markdown",
   "metadata": {},
   "source": [
    "## Training the neural network"
   ]
  },
  {
   "cell_type": "markdown",
   "metadata": {},
   "source": [
    "##### **Q13: How do you set up the training loop for a neural network in PyTorch?**"
   ]
  },
  {
   "cell_type": "code",
   "execution_count": 21,
   "metadata": {},
   "outputs": [
    {
     "name": "stdout",
     "output_type": "stream",
     "text": [
      "Epoch 100/1000, Batch 15, Loss: 0.4424893856048584\n",
      "Epoch 200/1000, Batch 15, Loss: 0.01974780298769474\n",
      "Epoch 300/1000, Batch 15, Loss: 0.008416130207479\n",
      "Epoch 400/1000, Batch 15, Loss: 0.005448679905384779\n",
      "Epoch 500/1000, Batch 15, Loss: 0.0036196906585246325\n",
      "Epoch 600/1000, Batch 15, Loss: 0.0025879654567688704\n",
      "Epoch 700/1000, Batch 15, Loss: 0.0023882118985056877\n",
      "Epoch 800/1000, Batch 15, Loss: 0.0016671965131536126\n",
      "Epoch 900/1000, Batch 15, Loss: 0.0017666695639491081\n",
      "Epoch 1000/1000, Batch 15, Loss: 0.001311555621214211\n",
      "Training complete.\n"
     ]
    }
   ],
   "source": [
    "# Same as above, but this time using a TensorDataset and a DataLoader. i.e.,\n",
    "from torch.utils.data import DataLoader, TensorDataset\n",
    "\n",
    "input_data = torch.randn(1000, 784)\n",
    "target_data = torch.randint(0, 10, (1000,))\n",
    "\n",
    "dataset = TensorDataset(input_data, target_data)\n",
    "data_loader = DataLoader(dataset, batch_size=64, shuffle=True)\n",
    "\n",
    "model = SimpleNet()\n",
    "loss_fn = nn.CrossEntropyLoss()\n",
    "optimizer = optim.SGD(model.parameters(), lr=0.01)\n",
    "\n",
    "num_epochs = 1000\n",
    "for epoch in range(num_epochs):\n",
    "    for batch_idx, (inputs, targets) in enumerate(data_loader):\n",
    "        outputs = model(inputs)\n",
    "        loss = loss_fn(outputs, targets)\n",
    "        \n",
    "        optimizer.zero_grad()\n",
    "        \n",
    "        loss.backward()\n",
    "        \n",
    "        optimizer.step()\n",
    "\n",
    "    if (epoch + 1) % 100 == 0:\n",
    "        print(f\"Epoch {epoch+1}/{num_epochs}, Batch {batch_idx}, Loss: {loss.item()}\")\n",
    "\n",
    "print(\"Training complete.\")"
   ]
  },
  {
   "cell_type": "markdown",
   "metadata": {},
   "source": [
    "##### **Q14: How do you implement batch training in PyTorch?**"
   ]
  },
  {
   "cell_type": "code",
   "execution_count": 22,
   "metadata": {},
   "outputs": [
    {
     "name": "stdout",
     "output_type": "stream",
     "text": [
      "Epoch [100/1000], Batch 15, Loss: 0.47183936834335327\n",
      "Epoch [200/1000], Batch 15, Loss: 0.022404571995139122\n",
      "Epoch [300/1000], Batch 15, Loss: 0.009478343650698662\n",
      "Epoch [400/1000], Batch 15, Loss: 0.006126800552010536\n",
      "Epoch [500/1000], Batch 15, Loss: 0.004004055634140968\n",
      "Epoch [600/1000], Batch 15, Loss: 0.0028813094832003117\n",
      "Epoch [700/1000], Batch 15, Loss: 0.00223443191498518\n",
      "Epoch [800/1000], Batch 15, Loss: 0.001843946403823793\n",
      "Epoch [900/1000], Batch 15, Loss: 0.0014320274349302053\n",
      "Epoch [1000/1000], Batch 15, Loss: 0.0013099180068820715\n",
      "Training complete.\n"
     ]
    }
   ],
   "source": [
    "# Same as above, but with new dataset:\n",
    "input_data = torch.randn(1000, 784)\n",
    "target_data = torch.randint(0, 10, (1000,))\n",
    "\n",
    "dataset = TensorDataset(input_data, target_data)\n",
    "data_loader = DataLoader(dataset, batch_size=64, shuffle=True)\n",
    "\n",
    "model = SimpleNet()\n",
    "loss_fn = nn.CrossEntropyLoss()\n",
    "optimizer = optim.SGD(model.parameters(), lr=0.01)\n",
    "\n",
    "num_epochs = 1000\n",
    "for epoch in range(num_epochs):\n",
    "    for batch_idx, (inputs, targets) in enumerate(data_loader):\n",
    "        outputs = model(inputs)\n",
    "        loss = loss_fn(outputs, targets)\n",
    "        \n",
    "        optimizer.zero_grad()\n",
    "        \n",
    "        loss.backward()\n",
    "        \n",
    "        optimizer.step()\n",
    "        \n",
    "    if (epoch + 1) % 100 == 0:\n",
    "        print(f\"Epoch [{epoch+1}/{num_epochs}], Batch {batch_idx}, Loss: {loss.item()}\")\n",
    "\n",
    "print(\"Training complete.\")"
   ]
  },
  {
   "cell_type": "markdown",
   "metadata": {},
   "source": [
    "##### **Q15: How do you monitor training progress during the training of a neural network?**"
   ]
  },
  {
   "cell_type": "code",
   "execution_count": 23,
   "metadata": {},
   "outputs": [
    {
     "name": "stdout",
     "output_type": "stream",
     "text": [
      "Epoch 100/1000, Loss: 0.6251, Accuracy: 98.10%\n",
      "Epoch 200/1000, Loss: 0.0275, Accuracy: 100.00%\n",
      "Epoch 300/1000, Loss: 0.0103, Accuracy: 100.00%\n",
      "Epoch 400/1000, Loss: 0.0059, Accuracy: 100.00%\n",
      "Epoch 500/1000, Loss: 0.0040, Accuracy: 100.00%\n",
      "Epoch 600/1000, Loss: 0.0030, Accuracy: 100.00%\n",
      "Epoch 700/1000, Loss: 0.0024, Accuracy: 100.00%\n",
      "Epoch 800/1000, Loss: 0.0020, Accuracy: 100.00%\n",
      "Epoch 900/1000, Loss: 0.0017, Accuracy: 100.00%\n",
      "Epoch 1000/1000, Loss: 0.0014, Accuracy: 100.00%\n"
     ]
    }
   ],
   "source": [
    "# Reinstantiate the network, loss function, and optimizer\n",
    "model = SimpleNet()\n",
    "loss_fn = nn.CrossEntropyLoss()\n",
    "optimizer = optim.SGD(model.parameters(), lr=0.01)\n",
    "\n",
    "# Lists to store loss and accuracy\n",
    "losses = []\n",
    "accuracies = []\n",
    "\n",
    "# Training loop\n",
    "for epoch in range(num_epochs):\n",
    "    running_loss = 0.0\n",
    "    correct = 0\n",
    "    total = 0\n",
    "    for batch_idx, (inputs, targets) in enumerate(data_loader):\n",
    "        outputs = model(inputs)\n",
    "        loss = loss_fn(outputs, targets)\n",
    "        \n",
    "        optimizer.zero_grad()\n",
    "        loss.backward()\n",
    "        optimizer.step()\n",
    "        \n",
    "        # Accumulate loss and accuracy\n",
    "        running_loss += loss.item()\n",
    "        _, predicted = torch.max(outputs, 1)\n",
    "        total += targets.size(0)\n",
    "        correct += (predicted == targets).sum().item()\n",
    "    \n",
    "    # Record loss and accuracy\n",
    "    avg_loss = running_loss / len(data_loader)\n",
    "    accuracy = 100 * correct / total\n",
    "    losses.append(avg_loss)\n",
    "    accuracies.append(accuracy)\n",
    "    \n",
    "    if (epoch + 1) % 100 == 0:\n",
    "        print(f\"Epoch {epoch+1}/{num_epochs}, Loss: {avg_loss:.4f}, Accuracy: {accuracy:.2f}%\")"
   ]
  },
  {
   "cell_type": "code",
   "execution_count": 24,
   "metadata": {},
   "outputs": [
    {
     "data": {
      "image/png": "[encoded data removed]",
      "text/plain": [
       "<Figure size 1200x500 with 2 Axes>"
      ]
     },
     "metadata": {},
     "output_type": "display_data"
    }
   ],
   "source": [
    "# Plot loss and accuracy\n",
    "plt.figure(figsize=(12, 5))\n",
    "plt.subplot(1, 2, 1)\n",
    "plt.plot(losses, label='Loss')\n",
    "plt.xlabel('Epoch')\n",
    "plt.ylabel('Loss')\n",
    "plt.legend()\n",
    "plt.subplot(1, 2, 2)\n",
    "plt.plot(accuracies, label='Accuracy')\n",
    "plt.xlabel('Epoch')\n",
    "plt.ylabel('Accuracy')\n",
    "plt.legend()\n",
    "plt.show()"
   ]
  },
  {
   "cell_type": "code",
   "execution_count": 25,
   "metadata": {},
   "outputs": [],
   "source": [
    "# Alternative: use TensorBoard!\n",
    "# from torch.utils.tensorboard import SummaryWriter\n",
    "\n",
    "# # Reinstantiate the network, loss function, and optimizer\n",
    "# model = SimpleNet()\n",
    "# loss_fn = nn.CrossEntropyLoss()\n",
    "# optimizer = optim.SGD(model.parameters(), lr=0.01)\n",
    "\n",
    "# # Instantiate the TensorBoard writer\n",
    "# writer = SummaryWriter()\n",
    "\n",
    "# # Training loop\n",
    "# for epoch in range(num_epochs):\n",
    "#     running_loss = 0.0\n",
    "#     correct = 0\n",
    "#     total = 0\n",
    "#     for batch_idx, (inputs, targets) in enumerate(data_loader):\n",
    "#         outputs = model(inputs)\n",
    "#         loss = loss_fn(outputs, targets)\n",
    "        \n",
    "#         optimizer.zero_grad()\n",
    "#         loss.backward()\n",
    "#         optimizer.step()\n",
    "        \n",
    "#         running_loss += loss.item()\n",
    "#         _, predicted = torch.max(outputs, 1)\n",
    "#         total += targets.size(0)\n",
    "#         correct += (predicted == targets).sum().item()\n",
    "    \n",
    "#     avg_loss = running_loss / len(data_loader)\n",
    "#     accuracy = 100 * correct / total\n",
    "    \n",
    "#     # Log the metrics to TensorBoard\n",
    "#     writer.add_scalar('Loss/train', avg_loss, epoch)\n",
    "#     writer.add_scalar('Accuracy/train', accuracy, epoch)\n",
    "    \n",
    "#     # Print loss and accuracy after every 100 epochs\n",
    "#     if (epoch + 1) % 100 == 0:\n",
    "#         print(f\"Epoch {epoch+1}/{num_epochs}, Loss: {avg_loss:.4f}, Accuracy: {accuracy:.2f}%\")\n",
    "\n",
    "# writer.close()"
   ]
  },
  {
   "cell_type": "code",
   "execution_count": 26,
   "metadata": {},
   "outputs": [],
   "source": [
    "# import shutil\n",
    "\n",
    "# folder_path = \"runs\"\n",
    "\n",
    "# shutil.rmtree(folder_path)\n",
    "\n",
    "# print(f\"Folder '{folder_path}' has been deleted.\")"
   ]
  },
  {
   "cell_type": "markdown",
   "metadata": {},
   "source": [
    "## Evaluating the model"
   ]
  },
  {
   "cell_type": "markdown",
   "metadata": {},
   "source": [
    "##### **Q16: How do you make predictions using a trained neural network in PyTorch?**"
   ]
  },
  {
   "cell_type": "code",
   "execution_count": 27,
   "metadata": {},
   "outputs": [
    {
     "name": "stdout",
     "output_type": "stream",
     "text": [
      "Predicted class: 3\n",
      "Probabilities: [[0.10784753 0.10521632 0.08176989 0.1205515  0.09829694 0.08713196\n",
      "  0.10959751 0.09679237 0.10139291 0.0914031 ]]\n"
     ]
    }
   ],
   "source": [
    "# Define a simple neural network (same as the one used for training)\n",
    "class SimpleNet(nn.Module):\n",
    "    def __init__(self):\n",
    "        super(SimpleNet, self).__init__()\n",
    "        self.fc1 = nn.Linear(784, 128)\n",
    "        self.fc2 = nn.Linear(128, 64)\n",
    "        self.fc3 = nn.Linear(64, 10)\n",
    "    \n",
    "    def forward(self, x):\n",
    "        x = torch.relu(self.fc1(x))\n",
    "        x = torch.relu(self.fc2(x))\n",
    "        x = self.fc3(x)\n",
    "        return x\n",
    "\n",
    "# Load the trained model (assume the model was saved as 'model.pth')\n",
    "model = SimpleNet()\n",
    "# model.load_state_dict(torch.load('model.pth'))\n",
    "\n",
    "# Set the model to evaluation mode\n",
    "model.eval()\n",
    "\n",
    "# Example input data (batch size of 1, 784 features)\n",
    "# Note: Input data should be preprocessed in the same way as during training\n",
    "input_data = torch.randn(1, 784)\n",
    "\n",
    "# Make predictions\n",
    "with torch.no_grad():  # Disable gradient calculation for inference\n",
    "    output = model(input_data)\n",
    "\n",
    "# Convert the output to probabilities using softmax\n",
    "probabilities = torch.softmax(output, dim=1)\n",
    "\n",
    "# Get the predicted class (index of the highest probability)\n",
    "predicted_class = torch.argmax(probabilities, dim=1)\n",
    "\n",
    "print(\"Predicted class:\", predicted_class.item())\n",
    "print(\"Probabilities:\", probabilities.numpy())"
   ]
  },
  {
   "cell_type": "markdown",
   "metadata": {},
   "source": [
    "##### **Q17: What performance metrics can you use to evaluate a neural network?**"
   ]
  },
  {
   "cell_type": "code",
   "execution_count": 28,
   "metadata": {},
   "outputs": [
    {
     "name": "stdout",
     "output_type": "stream",
     "text": [
      "Accuracy: 1.0000\n",
      "Precision: 1.0000\n",
      "Recall: 1.0000\n",
      "F1 Score: 1.0000\n",
      "Confusion Matrix:\n",
      "[[1 0]\n",
      " [0 1]]\n"
     ]
    }
   ],
   "source": [
    "from sklearn.metrics import accuracy_score, precision_score, recall_score, f1_score, confusion_matrix\n",
    "\n",
    "# Example output and target\n",
    "output = torch.tensor([[0.1, 0.9], [0.8, 0.2]])\n",
    "targets = torch.tensor([1, 0])\n",
    "\n",
    "# Predictions\n",
    "_, predicted = torch.max(output, 1)\n",
    "\n",
    "# Accuracy: Proportion of correctly classified samples\n",
    "accuracy = accuracy_score(targets.numpy(), predicted.numpy())\n",
    "print(f\"Accuracy: {accuracy:.4f}\")\n",
    "\n",
    "# Precision: Proportion of true positive predictions among all positive predictions\n",
    "precision = precision_score(targets.numpy(), predicted.numpy(), average='weighted')\n",
    "print(f\"Precision: {precision:.4f}\")\n",
    "\n",
    "# Recall: Proportion of true positive predictions among all actual positive samples\n",
    "recall = recall_score(targets.numpy(), predicted.numpy(), average='weighted')\n",
    "print(f\"Recall: {recall:.4f}\")\n",
    "\n",
    "# F1 score: Harmonic mean of precision and recall\n",
    "f1 = f1_score(targets.numpy(), predicted.numpy(), average='weighted')\n",
    "print(f\"F1 Score: {f1:.4f}\")\n",
    "\n",
    "# Confusion matrix: Assesses the performance of the classification model by showing the true vs. predicted labels\n",
    "cm = confusion_matrix(targets.numpy(), predicted.numpy())\n",
    "print(\"Confusion Matrix:\")\n",
    "print(cm)"
   ]
  },
  {
   "cell_type": "code",
   "execution_count": 29,
   "metadata": {},
   "outputs": [
    {
     "name": "stdout",
     "output_type": "stream",
     "text": [
      "ROC-AUC Score: 1.0000\n"
     ]
    }
   ],
   "source": [
    "from sklearn.metrics import roc_auc_score\n",
    "\n",
    "# Example probabilities and targets for binary classification\n",
    "probabilities = torch.tensor([0.1, 0.9, 0.8, 0.2])\n",
    "targets_binary = torch.tensor([0, 1, 1, 0])\n",
    "\n",
    "# ROC-AUC score: The area under the Receiver Operating Characteristic curve, which measures the ability of the model to distinguish between classes\n",
    "roc_auc = roc_auc_score(targets_binary.numpy(), probabilities.numpy())\n",
    "print(f\"ROC-AUC Score: {roc_auc:.4f}\")"
   ]
  },
  {
   "cell_type": "code",
   "execution_count": 30,
   "metadata": {},
   "outputs": [
    {
     "name": "stdout",
     "output_type": "stream",
     "text": [
      "Accuracy: 0.1300\n",
      "Precision: 0.0611\n",
      "Recall: 0.1300\n",
      "F1 Score: 0.0787\n",
      "Confusion Matrix:\n",
      "[[1 0 0 0 1 0 0 1 3 1]\n",
      " [0 0 0 0 0 0 0 0 1 7]\n",
      " [2 0 2 0 0 0 0 1 2 3]\n",
      " [0 0 1 0 0 0 0 3 6 3]\n",
      " [2 0 2 0 0 0 0 2 2 2]\n",
      " [1 0 1 0 0 0 0 0 3 5]\n",
      " [0 0 1 0 0 0 0 3 5 3]\n",
      " [1 0 2 0 0 0 0 1 3 4]\n",
      " [0 0 1 0 0 0 1 1 2 2]\n",
      " [0 0 3 0 0 0 0 2 0 7]]\n"
     ]
    },
    {
     "name": "stderr",
     "output_type": "stream",
     "text": [
      "C:\\Users\\fmiranda\\AppData\\Roaming\\Python\\Python311\\site-packages\\sklearn\\metrics\\_classification.py:1469: UndefinedMetricWarning: Precision is ill-defined and being set to 0.0 in labels with no predicted samples. Use `zero_division` parameter to control this behavior.\n",
      "  _warn_prf(average, modifier, msg_start, len(result))\n"
     ]
    }
   ],
   "source": [
    "# In practice, for a classification model:\n",
    "class SimpleNet(nn.Module):\n",
    "    def __init__(self):\n",
    "        super(SimpleNet, self).__init__()\n",
    "        self.fc1 = nn.Linear(784, 128)\n",
    "        self.fc2 = nn.Linear(128, 64)\n",
    "        self.fc3 = nn.Linear(64, 10)\n",
    "    \n",
    "    def forward(self, x):\n",
    "        x = torch.relu(self.fc1(x))\n",
    "        x = torch.relu(self.fc2(x))\n",
    "        x = self.fc3(x)\n",
    "        return x\n",
    "\n",
    "model = SimpleNet()\n",
    "\n",
    "input_data = torch.randn(100, 784)\n",
    "targets = torch.randint(0, 10, (100,))\n",
    "\n",
    "# Model output\n",
    "model.eval()\n",
    "with torch.no_grad():\n",
    "    outputs = model(input_data)\n",
    "\n",
    "# Get predictions\n",
    "_, predicted = torch.max(outputs, 1)\n",
    "\n",
    "# Calculate metrics\n",
    "accuracy = accuracy_score(targets.numpy(), predicted.numpy())\n",
    "precision = precision_score(targets.numpy(), predicted.numpy(), average='weighted')\n",
    "recall = recall_score(targets.numpy(), predicted.numpy(), average='weighted')\n",
    "f1 = f1_score(targets.numpy(), predicted.numpy(), average='weighted')\n",
    "cm = confusion_matrix(targets.numpy(), predicted.numpy())\n",
    "\n",
    "print(f\"Accuracy: {accuracy:.4f}\")\n",
    "print(f\"Precision: {precision:.4f}\")\n",
    "print(f\"Recall: {recall:.4f}\")\n",
    "print(f\"F1 Score: {f1:.4f}\")\n",
    "print(\"Confusion Matrix:\")\n",
    "print(cm)"
   ]
  },
  {
   "cell_type": "code",
   "execution_count": 31,
   "metadata": {},
   "outputs": [
    {
     "name": "stdout",
     "output_type": "stream",
     "text": [
      "MSE: 0.1300\n",
      "MAE: 0.3000\n",
      "R²: 0.9200\n"
     ]
    }
   ],
   "source": [
    "from sklearn.metrics import mean_squared_error, mean_absolute_error, r2_score\n",
    "\n",
    "# Example output and target\n",
    "output = torch.tensor([2.5, 0.0, 2.1, 1.6])\n",
    "targets = torch.tensor([3.0, -0.5, 2.0, 1.5])\n",
    "\n",
    "# MSE: Average of the squares of the differences between predicted and actual values\n",
    "mse = mean_squared_error(targets.numpy(), output.numpy())\n",
    "print(f\"MSE: {mse:.4f}\")\n",
    "\n",
    "# MAE: Average of the absolute differences between predicted and actual values\n",
    "mae = mean_absolute_error(targets.numpy(), output.numpy())\n",
    "print(f\"MAE: {mae:.4f}\")\n",
    "\n",
    "# R²: Proportion of the variance in the dependent variable that is predictable from the independent variable(s)\n",
    "r2 = r2_score(targets.numpy(), output.numpy())\n",
    "print(f\"R²: {r2:.4f}\")"
   ]
  },
  {
   "cell_type": "code",
   "execution_count": 32,
   "metadata": {},
   "outputs": [
    {
     "name": "stdout",
     "output_type": "stream",
     "text": [
      "MSE: 0.9536\n",
      "MAE: 0.7803\n",
      "R²: -0.1415\n"
     ]
    }
   ],
   "source": [
    "# In practice, for a regression model:\n",
    "class RegressionNet(nn.Module):\n",
    "    def __init__(self):\n",
    "        super(RegressionNet, self).__init__()\n",
    "        self.fc1 = nn.Linear(10, 64)\n",
    "        self.fc2 = nn.Linear(64, 1)\n",
    "    \n",
    "    def forward(self, x):\n",
    "        x = torch.relu(self.fc1(x))\n",
    "        x = self.fc2(x)\n",
    "        return x\n",
    "\n",
    "model = RegressionNet()\n",
    "\n",
    "input_data = torch.randn(100, 10)\n",
    "targets = torch.randn(100, 1)\n",
    "\n",
    "model.eval()\n",
    "with torch.no_grad():\n",
    "    outputs = model(input_data)\n",
    "\n",
    "mse = mean_squared_error(targets.numpy(), outputs.numpy())\n",
    "mae = mean_absolute_error(targets.numpy(), outputs.numpy())\n",
    "r2 = r2_score(targets.numpy(), outputs.numpy())\n",
    "\n",
    "print(f\"MSE: {mse:.4f}\")\n",
    "print(f\"MAE: {mae:.4f}\")\n",
    "print(f\"R²: {r2:.4f}\")"
   ]
  },
  {
   "cell_type": "markdown",
   "metadata": {},
   "source": [
    "##### **Q18: How do you visualize the performance of a neural network using `matplotlib`?**"
   ]
  },
  {
   "cell_type": "code",
   "execution_count": 33,
   "metadata": {},
   "outputs": [
    {
     "name": "stdout",
     "output_type": "stream",
     "text": [
      "Epoch [10/100], Loss: 2.2695, Accuracy: 17.50%\n",
      "Epoch [20/100], Loss: 2.2499, Accuracy: 24.30%\n",
      "Epoch [30/100], Loss: 2.2195, Accuracy: 30.90%\n",
      "Epoch [40/100], Loss: 2.1283, Accuracy: 37.30%\n",
      "Epoch [50/100], Loss: 2.0697, Accuracy: 46.00%\n",
      "Epoch [60/100], Loss: 1.9102, Accuracy: 55.70%\n",
      "Epoch [70/100], Loss: 1.7155, Accuracy: 67.80%\n",
      "Epoch [80/100], Loss: 1.2630, Accuracy: 82.60%\n",
      "Epoch [90/100], Loss: 1.0146, Accuracy: 93.40%\n",
      "Epoch [100/100], Loss: 0.6469, Accuracy: 98.50%\n"
     ]
    }
   ],
   "source": [
    "# Redefine a simple neural network\n",
    "class SimpleNet(nn.Module):\n",
    "    def __init__(self):\n",
    "        super(SimpleNet, self).__init__()\n",
    "        self.fc1 = nn.Linear(784, 128)\n",
    "        self.fc2 = nn.Linear(128, 64)\n",
    "        self.fc3 = nn.Linear(64, 10)\n",
    "    \n",
    "    def forward(self, x):\n",
    "        x = torch.relu(self.fc1(x))\n",
    "        x = torch.relu(self.fc2(x))\n",
    "        x = self.fc3(x)\n",
    "        return x\n",
    "\n",
    "input_data = torch.randn(1000, 784)\n",
    "target_data = torch.randint(0, 10, (1000,))\n",
    "\n",
    "dataset = TensorDataset(input_data, target_data)\n",
    "data_loader = DataLoader(dataset, batch_size=64, shuffle=True)\n",
    "\n",
    "model = SimpleNet()\n",
    "loss_fn = nn.CrossEntropyLoss()\n",
    "optimizer = optim.SGD(model.parameters(), lr=0.01)\n",
    "\n",
    "# Lists to store loss and accuracy\n",
    "train_losses = []\n",
    "train_accuracies = []\n",
    "all_targets = []\n",
    "all_predictions = []\n",
    "\n",
    "num_epochs = 100\n",
    "for epoch in range(num_epochs):\n",
    "    running_loss = 0.0\n",
    "    correct = 0\n",
    "    total = 0\n",
    "    for batch_idx, (inputs, targets) in enumerate(data_loader):\n",
    "        outputs = model(inputs)\n",
    "        loss = loss_fn(outputs, targets)\n",
    "        \n",
    "        optimizer.zero_grad()\n",
    "        loss.backward()\n",
    "        optimizer.step()\n",
    "        \n",
    "        running_loss += loss.item()\n",
    "        _, predicted = torch.max(outputs, 1)\n",
    "        total += targets.size(0)\n",
    "        correct += (predicted == targets).sum().item()\n",
    "        \n",
    "        # Store targets and predictions for confusion matrix and ROC curve\n",
    "        all_targets.extend(targets.numpy())\n",
    "        all_predictions.extend(predicted.numpy())\n",
    "    \n",
    "    avg_loss = running_loss / len(data_loader)\n",
    "    accuracy = 100 * correct / total\n",
    "    train_losses.append(avg_loss)\n",
    "    train_accuracies.append(accuracy)\n",
    "    \n",
    "    if (epoch + 1) % 10 == 0:\n",
    "        print(f'Epoch [{epoch + 1}/{num_epochs}], Loss: {loss.item():.4f}, Accuracy: {accuracy:.2f}%')"
   ]
  },
  {
   "cell_type": "code",
   "execution_count": 34,
   "metadata": {},
   "outputs": [
    {
     "data": {
      "image/png": "[encoded data removed]",
      "text/plain": [
       "<Figure size 1200x500 with 2 Axes>"
      ]
     },
     "metadata": {},
     "output_type": "display_data"
    }
   ],
   "source": [
    "# Plotting training loss and accuracy\n",
    "plt.figure(figsize=(12, 5))\n",
    "plt.subplot(1, 2, 1)\n",
    "plt.plot(range(1, num_epochs + 1), train_losses, label='Training Loss')\n",
    "plt.xlabel('Epoch')\n",
    "plt.ylabel('Loss')\n",
    "plt.title('Training Loss')\n",
    "plt.legend()\n",
    "\n",
    "plt.subplot(1, 2, 2)\n",
    "plt.plot(range(1, num_epochs + 1), train_accuracies, label='Training Accuracy')\n",
    "plt.xlabel('Epoch')\n",
    "plt.ylabel('Accuracy')\n",
    "plt.title('Training Accuracy')\n",
    "plt.legend()\n",
    "\n",
    "plt.show()"
   ]
  },
  {
   "cell_type": "code",
   "execution_count": 35,
   "metadata": {},
   "outputs": [
    {
     "data": {
      "image/png": "[encoded data removed]",
      "text/plain": [
       "<Figure size 1000x700 with 2 Axes>"
      ]
     },
     "metadata": {},
     "output_type": "display_data"
    }
   ],
   "source": [
    "import seaborn as sns\n",
    "\n",
    "# Convert lists to numpy arrays for sklearn metrics\n",
    "all_targets = np.array(all_targets)\n",
    "all_predictions = np.array(all_predictions)\n",
    "\n",
    "# Confusion Matrix\n",
    "cm = confusion_matrix(all_targets, all_predictions)\n",
    "plt.figure(figsize=(10, 7))\n",
    "sns.heatmap(cm, annot=True, fmt='d', cmap='Blues', xticklabels=range(10), yticklabels=range(10))\n",
    "plt.xlabel('Predicted')\n",
    "plt.ylabel('True')\n",
    "plt.title('Confusion Matrix')\n",
    "plt.show()"
   ]
  },
  {
   "cell_type": "code",
   "execution_count": 36,
   "metadata": {},
   "outputs": [
    {
     "data": {
      "image/png": "[encoded data removed]",
      "text/plain": [
       "<Figure size 1000x700 with 1 Axes>"
      ]
     },
     "metadata": {},
     "output_type": "display_data"
    }
   ],
   "source": [
    "# For ROC curve, we need to binarize the output\n",
    "from sklearn.preprocessing import label_binarize\n",
    "from sklearn.metrics import roc_curve, auc\n",
    "\n",
    "all_targets_bin = label_binarize(all_targets, classes=range(10))\n",
    "all_predictions_bin = label_binarize(all_predictions, classes=range(10))\n",
    "\n",
    "# Compute ROC curve and ROC area for each class\n",
    "fpr = dict()\n",
    "tpr = dict()\n",
    "roc_auc = dict()\n",
    "for i in range(10):\n",
    "    fpr[i], tpr[i], _ = roc_curve(all_targets_bin[:, i], all_predictions_bin[:, i])\n",
    "    roc_auc[i] = auc(fpr[i], tpr[i])\n",
    "\n",
    "# Plot ROC curve for each class\n",
    "plt.figure(figsize=(10, 7))\n",
    "for i in range(10):\n",
    "    plt.plot(fpr[i], tpr[i], lw=2, label=f'Class {i} (area = {roc_auc[i]:.2f})')\n",
    "plt.plot([0, 1], [0, 1], color='navy', lw=2, linestyle='--')\n",
    "plt.xlim([0.0, 1.0])\n",
    "plt.ylim([0.0, 1.05])\n",
    "plt.xlabel('False Positive Rate')\n",
    "plt.ylabel('True Positive Rate')\n",
    "plt.title('Receiver Operating Characteristic (ROC) Curve')\n",
    "plt.legend(loc='lower right')\n",
    "plt.show()"
   ]
  },
  {
   "cell_type": "markdown",
   "metadata": {},
   "source": [
    "## Saving and loading the model"
   ]
  },
  {
   "cell_type": "markdown",
   "metadata": {},
   "source": [
    "##### **Q19: How do you save a trained neural network model in PyTorch?**"
   ]
  },
  {
   "cell_type": "code",
   "execution_count": 37,
   "metadata": {},
   "outputs": [
    {
     "name": "stdout",
     "output_type": "stream",
     "text": [
      "Model saved to 'model.pth'\n"
     ]
    }
   ],
   "source": [
    "# Save the model's state dictionary\n",
    "torch.save(model.state_dict(), 'model.pth')\n",
    "print(\"Model saved to 'model.pth'\")"
   ]
  },
  {
   "cell_type": "markdown",
   "metadata": {},
   "source": [
    "##### **Q20: How do you load a saved neural network model in PyTorch?**"
   ]
  },
  {
   "cell_type": "code",
   "execution_count": 38,
   "metadata": {},
   "outputs": [
    {
     "name": "stdout",
     "output_type": "stream",
     "text": [
      "Model loaded from 'model.pth'\n"
     ]
    }
   ],
   "source": [
    "# Instantiate the model\n",
    "model = SimpleNet()\n",
    "\n",
    "# Load the model's state dictionary\n",
    "model.load_state_dict(torch.load('model.pth'))\n",
    "model.eval()  # Set the model to evaluation mode\n",
    "print(\"Model loaded from 'model.pth'\")"
   ]
  },
  {
   "cell_type": "code",
   "execution_count": 39,
   "metadata": {},
   "outputs": [
    {
     "name": "stdout",
     "output_type": "stream",
     "text": [
      "File model.pth deleted.\n"
     ]
    }
   ],
   "source": [
    "import os\n",
    "\n",
    "filenames = ['model.pth']\n",
    "\n",
    "for filename in filenames:\n",
    "    if os.path.exists(filename):\n",
    "        os.remove(filename) \n",
    "        print(f'File {filename} deleted.')\n",
    "    else:\n",
    "        print(f'File {filename} not found.')"
   ]
  },
  {
   "cell_type": "markdown",
   "metadata": {},
   "source": [
    "## Optimizations"
   ]
  },
  {
   "cell_type": "markdown",
   "metadata": {},
   "source": [
    "##### **Q21: How do you perform hyperparameter tuning to improve the performance of a neural network?**"
   ]
  },
  {
   "cell_type": "code",
   "execution_count": 40,
   "metadata": {},
   "outputs": [
    {
     "name": "stdout",
     "output_type": "stream",
     "text": [
      "Using device: cuda\n",
      "Best params: {'activation': 'ReLU', 'batch_size': 64, 'dropout_rate': 0.0, 'hidden_size': 256, 'learning_rate': 0.001, 'num_layers': 3, 'optimizer': 'Adam'}\n",
      "Best loss: 0.0005290073640935589\n"
     ]
    }
   ],
   "source": [
    "from sklearn.model_selection import ParameterGrid\n",
    "\n",
    "# Check if CUDA is available\n",
    "device = torch.device(\"cuda\" if torch.cuda.is_available() else \"cpu\")\n",
    "print(f\"Using device: {device}\")\n",
    "\n",
    "# Define a \"flexible\" neural network\n",
    "class FlexibleNet(nn.Module):\n",
    "    def __init__(self, input_size, hidden_size, output_size, num_layers, dropout_rate, activation):\n",
    "        super(FlexibleNet, self).__init__()\n",
    "        self.num_layers = num_layers\n",
    "        self.dropout = nn.Dropout(dropout_rate)\n",
    "        self.activation = activation\n",
    "\n",
    "        self.fc1 = nn.Linear(input_size, hidden_size)\n",
    "        self.hidden_layers = nn.ModuleList([nn.Linear(hidden_size, hidden_size) for _ in range(num_layers - 1)])\n",
    "        self.fc_out = nn.Linear(hidden_size, output_size)\n",
    "    \n",
    "    def forward(self, x):\n",
    "        x = self._apply_activation(self.fc1(x))\n",
    "        x = self.dropout(x)\n",
    "        for layer in self.hidden_layers:\n",
    "            x = self._apply_activation(layer(x))\n",
    "            x = self.dropout(x)\n",
    "        x = self.fc_out(x)\n",
    "        return x\n",
    "    \n",
    "    def _apply_activation(self, x):\n",
    "        if self.activation == 'ReLU':\n",
    "            return torch.relu(x)\n",
    "        elif self.activation == 'LeakyReLU':\n",
    "            return F.leaky_relu(x)\n",
    "        elif self.activation == 'Tanh':\n",
    "            return torch.tanh(x)\n",
    "        else:\n",
    "            raise ValueError(f\"Unsupported activation function: {self.activation}\")\n",
    "\n",
    "# Create a synthetic dataset for demonstration\n",
    "input_data = torch.randn(1000, 784)\n",
    "target_data = torch.randint(0, 10, (1000,))\n",
    "dataset = TensorDataset(input_data, target_data)\n",
    "data_loader = DataLoader(dataset, batch_size=64, shuffle=True)\n",
    "\n",
    "# Function to initialize the model\n",
    "def create_model(input_size, hidden_size, output_size, num_layers, dropout_rate, activation):\n",
    "    model = FlexibleNet(input_size, hidden_size, output_size, num_layers, dropout_rate, activation).to(device)\n",
    "    return model\n",
    "\n",
    "# Training function to include different optimizers\n",
    "def train_model(model, train_loader, optimizer_name, learning_rate, num_epochs=10):\n",
    "    loss_fn = nn.CrossEntropyLoss()\n",
    "    if optimizer_name == 'SGD':\n",
    "        optimizer = optim.SGD(model.parameters(), lr=learning_rate)\n",
    "    elif optimizer_name == 'Adam':\n",
    "        optimizer = optim.Adam(model.parameters(), lr=learning_rate)\n",
    "    else:\n",
    "        raise ValueError(f\"Unsupported optimizer: {optimizer_name}\")\n",
    "    \n",
    "    model.train()\n",
    "    for epoch in range(num_epochs):\n",
    "        running_loss = 0.0\n",
    "        for inputs, targets in train_loader:\n",
    "            inputs, targets = inputs.to(device), targets.to(device)\n",
    "            outputs = model(inputs)\n",
    "            loss = loss_fn(outputs, targets)\n",
    "            optimizer.zero_grad()\n",
    "            loss.backward()\n",
    "            optimizer.step()\n",
    "            running_loss += loss.item()\n",
    "    return running_loss / len(train_loader)\n",
    "\n",
    "param_grid = {\n",
    "    'hidden_size': [64, 128, 256],  # Hidden layer sizes\n",
    "    'learning_rate': [0.01, 0.001],  # Learning rates\n",
    "    'batch_size': [32, 64],  # Batch sizes\n",
    "    'optimizer': ['SGD', 'Adam'],  # Optimizers\n",
    "    'num_layers': [2, 3],  # Number of hidden layers\n",
    "    'dropout_rate': [0.0, 0.3, 0.5],  # Dropout rates\n",
    "    'activation': ['ReLU', 'LeakyReLU', 'Tanh']  # Activation functions\n",
    "}\n",
    "\n",
    "# Perform GridSearch with extended parameters\n",
    "best_params = None\n",
    "best_loss = float('inf')\n",
    "param_combinations = list(ParameterGrid(param_grid))\n",
    "\n",
    "for params in param_combinations:\n",
    "    # print(f\"Testing params: {params}\")\n",
    "    model = create_model(784, params['hidden_size'], 10, params['num_layers'], params['dropout_rate'], params['activation'])\n",
    "    train_loader = DataLoader(dataset, batch_size=params['batch_size'], shuffle=True)\n",
    "    avg_loss = train_model(model, train_loader, params['optimizer'], params['learning_rate'])\n",
    "    # print(f\"Average loss: {avg_loss}\")\n",
    "    if avg_loss < best_loss:\n",
    "        best_loss = avg_loss\n",
    "        best_params = params\n",
    "\n",
    "print(f\"Best params: {best_params}\")\n",
    "print(f\"Best loss: {best_loss}\")"
   ]
  },
  {
   "cell_type": "markdown",
   "metadata": {},
   "source": [
    "##### **Q22: What regularization techniques can you implement to prevent overfitting in neural networks?**"
   ]
  },
  {
   "cell_type": "code",
   "execution_count": 52,
   "metadata": {},
   "outputs": [
    {
     "name": "stdout",
     "output_type": "stream",
     "text": [
      "Best params: {'activation': 'ReLU', 'batch_size': 64, 'dropout_rate': 0.0, 'hidden_size': 256, 'learning_rate': 0.001, 'num_layers': 3, 'optimizer': 'Adam', 'use_batch_norm': False, 'weight_decay': 0}\n",
      "Best loss: 0.00046424203355854843\n"
     ]
    }
   ],
   "source": [
    "# Define a \"flexible\" neural network with additional regularization techniques\n",
    "class FlexibleNet(nn.Module):\n",
    "    def __init__(self, input_size, hidden_size, output_size, num_layers, dropout_rate, activation, use_batch_norm=False):\n",
    "        super(FlexibleNet, self).__init__()\n",
    "        self.num_layers = num_layers\n",
    "        self.dropout = nn.Dropout(dropout_rate)\n",
    "        self.activation = activation\n",
    "        self.use_batch_norm = use_batch_norm\n",
    "\n",
    "        self.fc1 = nn.Linear(input_size, hidden_size)\n",
    "        self.bn1 = nn.BatchNorm1d(hidden_size) if use_batch_norm else None\n",
    "        self.hidden_layers = nn.ModuleList()\n",
    "        self.batch_norm_layers = nn.ModuleList()\n",
    "        \n",
    "        for _ in range(num_layers - 1):\n",
    "            self.hidden_layers.append(nn.Linear(hidden_size, hidden_size))\n",
    "            if use_batch_norm:\n",
    "                self.batch_norm_layers.append(nn.BatchNorm1d(hidden_size))\n",
    "        \n",
    "        self.fc_out = nn.Linear(hidden_size, output_size)\n",
    "    \n",
    "    def forward(self, x):\n",
    "        x = self._apply_activation(self.fc1(x))\n",
    "        if self.bn1:\n",
    "            x = self.bn1(x)\n",
    "        x = self.dropout(x)\n",
    "        for i, layer in enumerate(self.hidden_layers):\n",
    "            x = self._apply_activation(layer(x))\n",
    "            if self.use_batch_norm:\n",
    "                x = self.batch_norm_layers[i](x)\n",
    "            x = self.dropout(x)\n",
    "        x = self.fc_out(x)\n",
    "        return x\n",
    "    \n",
    "    def _apply_activation(self, x):\n",
    "        if self.activation == 'ReLU':\n",
    "            return torch.relu(x)\n",
    "        elif self.activation == 'LeakyReLU':\n",
    "            return F.leaky_relu(x)\n",
    "        elif self.activation == 'Tanh':\n",
    "            return torch.tanh(x)\n",
    "        else:\n",
    "            raise ValueError(f\"Unsupported activation function: {self.activation}\")\n",
    "\n",
    "# Synthetic dataset\n",
    "input_data = torch.randn(1000, 784)\n",
    "target_data = torch.randint(0, 10, (1000,))\n",
    "dataset = TensorDataset(input_data, target_data)\n",
    "data_loader = DataLoader(dataset, batch_size=64, shuffle=True)\n",
    "\n",
    "# Function to initialize the model\n",
    "def create_model(input_size, hidden_size, output_size, num_layers, dropout_rate, activation, use_batch_norm=False):\n",
    "    model = FlexibleNet(input_size, hidden_size, output_size, num_layers, dropout_rate, activation, use_batch_norm).to(device)\n",
    "    return model\n",
    "\n",
    "# Training function to include different optimizers and weight decay (L2 regularization)\n",
    "def train_model(model, train_loader, optimizer_name, learning_rate, weight_decay, num_epochs=10):\n",
    "    loss_fn = nn.CrossEntropyLoss()\n",
    "    if optimizer_name == 'SGD':\n",
    "        optimizer = optim.SGD(model.parameters(), lr=learning_rate, weight_decay=weight_decay)\n",
    "    elif optimizer_name == 'Adam':\n",
    "        optimizer = optim.Adam(model.parameters(), lr=learning_rate, weight_decay=weight_decay)\n",
    "    else:\n",
    "        raise ValueError(f\"Unsupported optimizer: {optimizer_name}\")\n",
    "    \n",
    "    model.train()\n",
    "    for epoch in range(num_epochs):\n",
    "        running_loss = 0.0\n",
    "        for inputs, targets in train_loader:\n",
    "            inputs, targets = inputs.to(device), targets.to(device)\n",
    "            outputs = model(inputs)\n",
    "            loss = loss_fn(outputs, targets)\n",
    "            optimizer.zero_grad()\n",
    "            loss.backward()\n",
    "            optimizer.step()\n",
    "            running_loss += loss.item()\n",
    "    return running_loss / len(train_loader)\n",
    "\n",
    "param_grid = {\n",
    "    'hidden_size': [64, 128, 256],  # Hidden layer sizes\n",
    "    'learning_rate': [0.01, 0.001],  # Learning rates\n",
    "    'batch_size': [32, 64],  # Batch sizes\n",
    "    'optimizer': ['SGD', 'Adam'],  # Optimizers\n",
    "    'num_layers': [2, 3],  # Number of hidden layers\n",
    "    'dropout_rate': [0.0, 0.3, 0.5],  # Dropout rates\n",
    "    'activation': ['ReLU', 'LeakyReLU', 'Tanh'],  # Activation functions\n",
    "    'weight_decay': [0, 1e-4, 1e-3],  # Weight decay (L2 regularization)\n",
    "    'use_batch_norm': [False, True]  # Use batch normalization\n",
    "}\n",
    "\n",
    "# Perform GridSearch with extended parameters\n",
    "best_params = None\n",
    "best_loss = float('inf')\n",
    "param_combinations = list(ParameterGrid(param_grid))\n",
    "\n",
    "for params in param_combinations:\n",
    "    # print(f\"Testing params: {params}\")\n",
    "    model = create_model(784, params['hidden_size'], 10, params['num_layers'], params['dropout_rate'], params['activation'], params['use_batch_norm'])\n",
    "    train_loader = DataLoader(dataset, batch_size=params['batch_size'], shuffle=True)\n",
    "    avg_loss = train_model(model, train_loader, params['optimizer'], params['learning_rate'], params['weight_decay'])\n",
    "    # print(f\"Average loss: {avg_loss}\")\n",
    "    if avg_loss < best_loss:\n",
    "        best_loss = avg_loss\n",
    "        best_params = params\n",
    "\n",
    "print(f\"Best params: {best_params}\")\n",
    "print(f\"Best loss: {best_loss}\")"
   ]
  },
  {
   "cell_type": "markdown",
   "metadata": {},
   "source": [
    "##### **Q23: How do you use learning rate scheduling to adjust the learning rate during training?**"
   ]
  },
  {
   "cell_type": "code",
   "execution_count": 56,
   "metadata": {},
   "outputs": [
    {
     "name": "stdout",
     "output_type": "stream",
     "text": [
      "Using device: cuda\n",
      "Best params: {'activation': 'LeakyReLU', 'batch_size': 64, 'dropout_rate': 0.0, 'hidden_size': 256, 'learning_rate': 0.01, 'num_layers': 2, 'optimizer': 'Adam', 'scheduler': <class 'torch.optim.lr_scheduler.StepLR'>, 'use_batch_norm': False, 'weight_decay': 0}\n",
      "Best loss: 0.00022537942186318105\n"
     ]
    }
   ],
   "source": [
    "# Check if CUDA is available\n",
    "device = torch.device(\"cuda\" if torch.cuda.is_available() else \"cpu\")\n",
    "print(f\"Using device: {device}\")\n",
    "\n",
    "# Redefine a \"flexible\" neural network with additional regularization techniques\n",
    "class FlexibleNet(nn.Module):\n",
    "    def __init__(self, input_size, hidden_size, output_size, num_layers, dropout_rate, activation, use_batch_norm=False):\n",
    "        super(FlexibleNet, self).__init__()\n",
    "        self.num_layers = num_layers\n",
    "        self.dropout = nn.Dropout(dropout_rate)\n",
    "        self.activation = activation\n",
    "        self.use_batch_norm = use_batch_norm\n",
    "\n",
    "        self.fc1 = nn.Linear(input_size, hidden_size)\n",
    "        self.bn1 = nn.BatchNorm1d(hidden_size) if use_batch_norm else None\n",
    "        self.hidden_layers = nn.ModuleList()\n",
    "        self.batch_norm_layers = nn.ModuleList()\n",
    "        \n",
    "        for _ in range(num_layers - 1):\n",
    "            self.hidden_layers.append(nn.Linear(hidden_size, hidden_size))\n",
    "            if use_batch_norm:\n",
    "                self.batch_norm_layers.append(nn.BatchNorm1d(hidden_size))\n",
    "        \n",
    "        self.fc_out = nn.Linear(hidden_size, output_size)\n",
    "    \n",
    "    def forward(self, x):\n",
    "        x = self._apply_activation(self.fc1(x))\n",
    "        if self.bn1:\n",
    "            x = self.bn1(x)\n",
    "        x = self.dropout(x)\n",
    "        for i, layer in enumerate(self.hidden_layers):\n",
    "            x = self._apply_activation(layer(x))\n",
    "            if self.use_batch_norm:\n",
    "                x = self.batch_norm_layers[i](x)\n",
    "            x = self.dropout(x)\n",
    "        x = self.fc_out(x)\n",
    "        return x\n",
    "    \n",
    "    def _apply_activation(self, x):\n",
    "        if self.activation == 'ReLU':\n",
    "            return torch.relu(x)\n",
    "        elif self.activation == 'LeakyReLU':\n",
    "            return F.leaky_relu(x)\n",
    "        elif self.activation == 'Tanh':\n",
    "            return torch.tanh(x)\n",
    "        else:\n",
    "            raise ValueError(f\"Unsupported activation function: {self.activation}\")\n",
    "\n",
    "input_data = torch.randn(1000, 784)\n",
    "target_data = torch.randint(0, 10, (1000,))\n",
    "dataset = TensorDataset(input_data, target_data)\n",
    "data_loader = DataLoader(dataset, batch_size=64, shuffle=True)\n",
    "\n",
    "def create_model(input_size, hidden_size, output_size, num_layers, dropout_rate, activation, use_batch_norm=False):\n",
    "    model = FlexibleNet(input_size, hidden_size, output_size, num_layers, dropout_rate, activation, use_batch_norm).to(device)\n",
    "    return model\n",
    "\n",
    "def train_model(model, train_loader, optimizer_name, learning_rate, weight_decay, num_epochs=10, scheduler_class=None):\n",
    "    loss_fn = nn.CrossEntropyLoss()\n",
    "    if optimizer_name == 'SGD':\n",
    "        optimizer = optim.SGD(model.parameters(), lr=learning_rate, weight_decay=weight_decay)\n",
    "    elif optimizer_name == 'Adam':\n",
    "        optimizer = optim.Adam(model.parameters(), lr=learning_rate, weight_decay=weight_decay)\n",
    "    else:\n",
    "        raise ValueError(f\"Unsupported optimizer: {optimizer_name}\")\n",
    "    \n",
    "    scheduler = None\n",
    "    if scheduler_class is not None:\n",
    "        if scheduler_class == optim.lr_scheduler.StepLR:\n",
    "            scheduler = scheduler_class(optimizer, step_size=1, gamma=0.9)\n",
    "        elif scheduler_class == optim.lr_scheduler.ExponentialLR:\n",
    "            scheduler = scheduler_class(optimizer, gamma=0.9)\n",
    "    \n",
    "    model.train()\n",
    "    for epoch in range(num_epochs):\n",
    "        running_loss = 0.0\n",
    "        for inputs, targets in train_loader:\n",
    "            inputs, targets = inputs.to(device), targets.to(device)\n",
    "            outputs = model(inputs)\n",
    "            loss = loss_fn(outputs, targets)\n",
    "            optimizer.zero_grad()\n",
    "            loss.backward()\n",
    "            optimizer.step()\n",
    "            running_loss += loss.item()\n",
    "        \n",
    "        if scheduler is not None:\n",
    "            scheduler.step()\n",
    "            \n",
    "    avg_loss = running_loss / len(train_loader)\n",
    "    return avg_loss\n",
    "\n",
    "param_grid = {\n",
    "    'hidden_size': [64, 128, 256],  # Hidden layer sizes\n",
    "    'learning_rate': [0.01, 0.001],  # Learning rates\n",
    "    'batch_size': [32, 64],  # Batch sizes\n",
    "    'optimizer': ['SGD', 'Adam'],  # Optimizers\n",
    "    'num_layers': [2, 3],  # Number of hidden layers\n",
    "    'dropout_rate': [0.0, 0.3, 0.5],  # Dropout rates\n",
    "    'activation': ['ReLU', 'LeakyReLU', 'Tanh'],  # Activation functions\n",
    "    'weight_decay': [0, 1e-4, 1e-3],  # Weight decay (L2 regularization)\n",
    "    'use_batch_norm': [False, True],  # Use batch normalization\n",
    "    'scheduler': [None, optim.lr_scheduler.StepLR, optim.lr_scheduler.ExponentialLR]  # Learning rate schedulers\n",
    "}\n",
    "\n",
    "# Grid search\n",
    "best_params = None\n",
    "best_loss = float('inf')\n",
    "param_combinations = list(ParameterGrid(param_grid))\n",
    "\n",
    "for params in param_combinations:\n",
    "    model = create_model(784, params['hidden_size'], 10, params['num_layers'], params['dropout_rate'], params['activation'], params['use_batch_norm'])\n",
    "    train_loader = DataLoader(dataset, batch_size=params['batch_size'], shuffle=True)\n",
    "    scheduler_class = params['scheduler']\n",
    "    avg_loss = train_model(model, train_loader, params['optimizer'], params['learning_rate'], params['weight_decay'], scheduler_class=scheduler_class)\n",
    "    if avg_loss < best_loss:\n",
    "        best_loss = avg_loss\n",
    "        best_params = params\n",
    "9\n",
    "print(f\"Best params: {best_params}\")\n",
    "print(f\"Best loss: {best_loss}\")"
   ]
  },
  {
   "cell_type": "markdown",
   "metadata": {},
   "source": [
    "## Handling real-world data"
   ]
  },
  {
   "cell_type": "markdown",
   "metadata": {},
   "source": [
    "##### **Q24: How do you preprocess a real-world dataset for training a neural network?**"
   ]
  },
  {
   "cell_type": "code",
   "execution_count": 41,
   "metadata": {},
   "outputs": [
    {
     "name": "stdout",
     "output_type": "stream",
     "text": [
      "First few rows of the dataset:\n",
      "   survived  pclass     sex   age  sibsp  parch     fare embarked  class  \\\n",
      "0         0       3    male  22.0      1      0   7.2500        S  Third   \n",
      "1         1       1  female  38.0      1      0  71.2833        C  First   \n",
      "2         1       3  female  26.0      0      0   7.9250        S  Third   \n",
      "3         1       1  female  35.0      1      0  53.1000        S  First   \n",
      "4         0       3    male  35.0      0      0   8.0500        S  Third   \n",
      "\n",
      "     who  adult_male deck  embark_town alive  alone  \n",
      "0    man        True  NaN  Southampton    no  False  \n",
      "1  woman       False    C    Cherbourg   yes  False  \n",
      "2  woman       False  NaN  Southampton   yes   True  \n",
      "3  woman       False    C  Southampton   yes  False  \n",
      "4    man        True  NaN  Southampton    no   True  \n"
     ]
    }
   ],
   "source": [
    "# Load the Titanic dataset\n",
    "titanic = sns.load_dataset('titanic')\n",
    "\n",
    "# Display the first few rows of the dataset\n",
    "print(\"First few rows of the dataset:\")\n",
    "print(titanic.head())"
   ]
  },
  {
   "cell_type": "code",
   "execution_count": 42,
   "metadata": {},
   "outputs": [
    {
     "name": "stdout",
     "output_type": "stream",
     "text": [
      "\n",
      "Column data types:\n",
      "survived          int64\n",
      "pclass            int64\n",
      "sex              object\n",
      "age             float64\n",
      "sibsp             int64\n",
      "parch             int64\n",
      "fare            float64\n",
      "embarked         object\n",
      "class          category\n",
      "who              object\n",
      "adult_male         bool\n",
      "deck           category\n",
      "embark_town      object\n",
      "alive            object\n",
      "alone              bool\n",
      "dtype: object\n"
     ]
    }
   ],
   "source": [
    "# Check column data types\n",
    "print(\"\\nColumn data types:\")\n",
    "print(titanic.dtypes)"
   ]
  },
  {
   "cell_type": "code",
   "execution_count": 43,
   "metadata": {},
   "outputs": [
    {
     "name": "stdout",
     "output_type": "stream",
     "text": [
      "\n",
      "Missing values in each column:\n",
      "survived         0\n",
      "pclass           0\n",
      "sex              0\n",
      "age            177\n",
      "sibsp            0\n",
      "parch            0\n",
      "fare             0\n",
      "embarked         2\n",
      "class            0\n",
      "who              0\n",
      "adult_male       0\n",
      "deck           688\n",
      "embark_town      2\n",
      "alive            0\n",
      "alone            0\n",
      "dtype: int64\n"
     ]
    }
   ],
   "source": [
    "# Count missing values\n",
    "print(\"\\nMissing values in each column:\")\n",
    "print(titanic.isnull().sum())"
   ]
  },
  {
   "cell_type": "code",
   "execution_count": 44,
   "metadata": {},
   "outputs": [
    {
     "name": "stdout",
     "output_type": "stream",
     "text": [
      "\n",
      "Summary statistics for numerical features:\n",
      "         survived      pclass         age       sibsp       parch        fare\n",
      "count  891.000000  891.000000  714.000000  891.000000  891.000000  891.000000\n",
      "mean     0.383838    2.308642   29.699118    0.523008    0.381594   32.204208\n",
      "std      0.486592    0.836071   14.526497    1.102743    0.806057   49.693429\n",
      "min      0.000000    1.000000    0.420000    0.000000    0.000000    0.000000\n",
      "25%      0.000000    2.000000   20.125000    0.000000    0.000000    7.910400\n",
      "50%      0.000000    3.000000   28.000000    0.000000    0.000000   14.454200\n",
      "75%      1.000000    3.000000   38.000000    1.000000    0.000000   31.000000\n",
      "max      1.000000    3.000000   80.000000    8.000000    6.000000  512.329200\n",
      "\n",
      "Summary statistics for categorical features:\n",
      "         sex embarked  who  embark_town alive\n",
      "count    891      889  891          889   891\n",
      "unique     2        3    3            3     2\n",
      "top     male        S  man  Southampton    no\n",
      "freq     577      644  537          644   549\n"
     ]
    }
   ],
   "source": [
    "# Summary statistics\n",
    "print(\"\\nSummary statistics for numerical features:\")\n",
    "print(titanic.describe())\n",
    "\n",
    "print(\"\\nSummary statistics for categorical features:\")\n",
    "print(titanic.describe(include=['O']))"
   ]
  },
  {
   "cell_type": "code",
   "execution_count": 45,
   "metadata": {},
   "outputs": [
    {
     "name": "stdout",
     "output_type": "stream",
     "text": [
      "\n",
      "Unique values in categorical columns:\n",
      "sex: ['male' 'female']\n",
      "embarked: ['S' 'C' 'Q' nan]\n",
      "who: ['man' 'woman' 'child']\n",
      "embark_town: ['Southampton' 'Cherbourg' 'Queenstown' nan]\n",
      "alive: ['no' 'yes']\n"
     ]
    }
   ],
   "source": [
    "# Unique values for categorical features\n",
    "print(\"\\nUnique values in categorical columns:\")\n",
    "for column in titanic.select_dtypes(include=['object']).columns:\n",
    "    print(f\"{column}: {titanic[column].unique()}\")"
   ]
  },
  {
   "cell_type": "markdown",
   "metadata": {},
   "source": [
    "##### **Q25: How do you handle missing data in a real-world dataset?**"
   ]
  },
  {
   "cell_type": "code",
   "execution_count": 46,
   "metadata": {},
   "outputs": [],
   "source": [
    "df_simple = titanic.copy()"
   ]
  },
  {
   "cell_type": "code",
   "execution_count": 47,
   "metadata": {},
   "outputs": [
    {
     "name": "stdout",
     "output_type": "stream",
     "text": [
      "\n",
      "Missing values in each column:\n",
      "survived         0\n",
      "pclass           0\n",
      "sex              0\n",
      "age            177\n",
      "sibsp            0\n",
      "parch            0\n",
      "fare             0\n",
      "embarked         2\n",
      "class            0\n",
      "who              0\n",
      "adult_male       0\n",
      "deck           688\n",
      "embark_town      2\n",
      "alive            0\n",
      "alone            0\n",
      "dtype: int64\n"
     ]
    }
   ],
   "source": [
    "# Step 1: Identify missing data\n",
    "print(\"\\nMissing values in each column:\")\n",
    "print(df_simple.isnull().sum())"
   ]
  },
  {
   "cell_type": "code",
   "execution_count": 48,
   "metadata": {},
   "outputs": [],
   "source": [
    "# One option: remove columns with too many missing values\n",
    "df_simple.drop(columns=['deck'], inplace=True)"
   ]
  },
  {
   "cell_type": "code",
   "execution_count": 49,
   "metadata": {},
   "outputs": [],
   "source": [
    "# Alternative: impute missing data\n",
    "df_simple['age'].fillna(df_simple['age'].median(), inplace=True)  # Fill missing values for 'age' with the median age\n",
    "df_simple['embarked'].fillna(df_simple['embarked'].mode()[0], inplace=True)  # Fill missing values for 'embarked' with the mode\n",
    "df_simple['embark_town'].fillna(df_simple['embark_town'].mode()[0], inplace=True)  # Fill missing values for 'embarked' with the mode"
   ]
  },
  {
   "cell_type": "code",
   "execution_count": 50,
   "metadata": {},
   "outputs": [
    {
     "data": {
      "text/html": [
       "<div>\n",
       "<style scoped>\n",
       "    .dataframe tbody tr th:only-of-type {\n",
       "        vertical-align: middle;\n",
       "    }\n",
       "\n",
       "    .dataframe tbody tr th {\n",
       "        vertical-align: top;\n",
       "    }\n",
       "\n",
       "    .dataframe thead th {\n",
       "        text-align: right;\n",
       "    }\n",
       "</style>\n",
       "<table border=\"1\" class=\"dataframe\">\n",
       "  <thead>\n",
       "    <tr style=\"text-align: right;\">\n",
       "      <th></th>\n",
       "      <th>survived</th>\n",
       "      <th>pclass</th>\n",
       "      <th>sex</th>\n",
       "      <th>age</th>\n",
       "      <th>sibsp</th>\n",
       "      <th>parch</th>\n",
       "      <th>fare</th>\n",
       "      <th>embarked</th>\n",
       "      <th>class</th>\n",
       "      <th>who</th>\n",
       "      <th>adult_male</th>\n",
       "      <th>embark_town</th>\n",
       "      <th>alive</th>\n",
       "      <th>alone</th>\n",
       "    </tr>\n",
       "  </thead>\n",
       "  <tbody>\n",
       "    <tr>\n",
       "      <th>0</th>\n",
       "      <td>0</td>\n",
       "      <td>3</td>\n",
       "      <td>male</td>\n",
       "      <td>22.0</td>\n",
       "      <td>1</td>\n",
       "      <td>0</td>\n",
       "      <td>7.2500</td>\n",
       "      <td>S</td>\n",
       "      <td>Third</td>\n",
       "      <td>man</td>\n",
       "      <td>True</td>\n",
       "      <td>Southampton</td>\n",
       "      <td>no</td>\n",
       "      <td>False</td>\n",
       "    </tr>\n",
       "    <tr>\n",
       "      <th>1</th>\n",
       "      <td>1</td>\n",
       "      <td>1</td>\n",
       "      <td>female</td>\n",
       "      <td>38.0</td>\n",
       "      <td>1</td>\n",
       "      <td>0</td>\n",
       "      <td>71.2833</td>\n",
       "      <td>C</td>\n",
       "      <td>First</td>\n",
       "      <td>woman</td>\n",
       "      <td>False</td>\n",
       "      <td>Cherbourg</td>\n",
       "      <td>yes</td>\n",
       "      <td>False</td>\n",
       "    </tr>\n",
       "    <tr>\n",
       "      <th>2</th>\n",
       "      <td>1</td>\n",
       "      <td>3</td>\n",
       "      <td>female</td>\n",
       "      <td>26.0</td>\n",
       "      <td>0</td>\n",
       "      <td>0</td>\n",
       "      <td>7.9250</td>\n",
       "      <td>S</td>\n",
       "      <td>Third</td>\n",
       "      <td>woman</td>\n",
       "      <td>False</td>\n",
       "      <td>Southampton</td>\n",
       "      <td>yes</td>\n",
       "      <td>True</td>\n",
       "    </tr>\n",
       "    <tr>\n",
       "      <th>3</th>\n",
       "      <td>1</td>\n",
       "      <td>1</td>\n",
       "      <td>female</td>\n",
       "      <td>35.0</td>\n",
       "      <td>1</td>\n",
       "      <td>0</td>\n",
       "      <td>53.1000</td>\n",
       "      <td>S</td>\n",
       "      <td>First</td>\n",
       "      <td>woman</td>\n",
       "      <td>False</td>\n",
       "      <td>Southampton</td>\n",
       "      <td>yes</td>\n",
       "      <td>False</td>\n",
       "    </tr>\n",
       "    <tr>\n",
       "      <th>4</th>\n",
       "      <td>0</td>\n",
       "      <td>3</td>\n",
       "      <td>male</td>\n",
       "      <td>35.0</td>\n",
       "      <td>0</td>\n",
       "      <td>0</td>\n",
       "      <td>8.0500</td>\n",
       "      <td>S</td>\n",
       "      <td>Third</td>\n",
       "      <td>man</td>\n",
       "      <td>True</td>\n",
       "      <td>Southampton</td>\n",
       "      <td>no</td>\n",
       "      <td>True</td>\n",
       "    </tr>\n",
       "  </tbody>\n",
       "</table>\n",
       "</div>"
      ],
      "text/plain": [
       "   survived  pclass     sex   age  sibsp  parch     fare embarked  class  \\\n",
       "0         0       3    male  22.0      1      0   7.2500        S  Third   \n",
       "1         1       1  female  38.0      1      0  71.2833        C  First   \n",
       "2         1       3  female  26.0      0      0   7.9250        S  Third   \n",
       "3         1       1  female  35.0      1      0  53.1000        S  First   \n",
       "4         0       3    male  35.0      0      0   8.0500        S  Third   \n",
       "\n",
       "     who  adult_male  embark_town alive  alone  \n",
       "0    man        True  Southampton    no  False  \n",
       "1  woman       False    Cherbourg   yes  False  \n",
       "2  woman       False  Southampton   yes   True  \n",
       "3  woman       False  Southampton   yes  False  \n",
       "4    man        True  Southampton    no   True  "
      ]
     },
     "execution_count": 50,
     "metadata": {},
     "output_type": "execute_result"
    }
   ],
   "source": [
    "df_simple.head()"
   ]
  },
  {
   "cell_type": "code",
   "execution_count": 51,
   "metadata": {},
   "outputs": [
    {
     "name": "stdout",
     "output_type": "stream",
     "text": [
      "\n",
      "Missing values after imputation:\n",
      "survived       0\n",
      "pclass         0\n",
      "sex            0\n",
      "age            0\n",
      "sibsp          0\n",
      "parch          0\n",
      "fare           0\n",
      "embarked       0\n",
      "class          0\n",
      "who            0\n",
      "adult_male     0\n",
      "embark_town    0\n",
      "alive          0\n",
      "alone          0\n",
      "dtype: int64\n"
     ]
    }
   ],
   "source": [
    "# Verify that there are no more missing values\n",
    "print(\"\\nMissing values after imputation:\")\n",
    "print(df_simple.isnull().sum())"
   ]
  },
  {
   "cell_type": "code",
   "execution_count": 52,
   "metadata": {},
   "outputs": [],
   "source": [
    "df_imputed = titanic.copy()"
   ]
  },
  {
   "cell_type": "code",
   "execution_count": 53,
   "metadata": {},
   "outputs": [],
   "source": [
    "# Another alternative: use sklearn's SimpleImputer\n",
    "from sklearn.impute import SimpleImputer\n",
    "\n",
    "# For numerical data\n",
    "imputer = SimpleImputer(strategy='median')\n",
    "df_imputed['age'] = imputer.fit_transform(df_imputed[['age']])\n",
    "\n",
    "# For categorical data\n",
    "imputer = SimpleImputer(strategy='most_frequent')\n",
    "df_imputed['embarked'] = imputer.fit_transform(df_imputed[['embarked']])\n",
    "df_imputed['embark_town'] = imputer.fit_transform(df_imputed[['embark_town']])"
   ]
  },
  {
   "cell_type": "code",
   "execution_count": 54,
   "metadata": {},
   "outputs": [
    {
     "name": "stdout",
     "output_type": "stream",
     "text": [
      "\n",
      "Missing values after imputation:\n",
      "survived         0\n",
      "pclass           0\n",
      "sex              0\n",
      "age              0\n",
      "sibsp            0\n",
      "parch            0\n",
      "fare             0\n",
      "embarked         0\n",
      "class            0\n",
      "who              0\n",
      "adult_male       0\n",
      "deck           688\n",
      "embark_town      0\n",
      "alive            0\n",
      "alone            0\n",
      "dtype: int64\n"
     ]
    }
   ],
   "source": [
    "print(\"\\nMissing values after imputation:\")\n",
    "print(df_imputed.isnull().sum())"
   ]
  },
  {
   "cell_type": "code",
   "execution_count": 55,
   "metadata": {},
   "outputs": [
    {
     "name": "stdout",
     "output_type": "stream",
     "text": [
      "[NaN, 'C', 'E', 'G', 'D', 'A', 'B', 'F']\n",
      "Categories (7, object): ['A', 'B', 'C', 'D', 'E', 'F', 'G']\n"
     ]
    }
   ],
   "source": [
    "# Ways to handle the \"deck column\":\n",
    "print(df_imputed['deck'].unique())"
   ]
  },
  {
   "cell_type": "code",
   "execution_count": 56,
   "metadata": {},
   "outputs": [],
   "source": [
    "df_advanced = df_imputed.copy()"
   ]
  },
  {
   "cell_type": "code",
   "execution_count": 57,
   "metadata": {},
   "outputs": [
    {
     "name": "stdout",
     "output_type": "stream",
     "text": [
      "0\n"
     ]
    }
   ],
   "source": [
    "# Function to impute 'deck' based on 'pclass' and 'fare'\n",
    "def impute_deck(row):\n",
    "    if pd.isnull(row['deck']):\n",
    "        if row['pclass'] == 1:\n",
    "            return 'C'  # Assuming 'C' for first class as a common value\n",
    "        elif row['pclass'] == 2:\n",
    "            return 'D'  # Assuming 'D' for second class as a common value\n",
    "        else:\n",
    "            return 'G'  # Assuming 'G' for third class as a common value\n",
    "    else:\n",
    "        return row['deck']\n",
    "\n",
    "df_imputed['deck'] = df_imputed.apply(impute_deck, axis=1)\n",
    "\n",
    "print(df_imputed['deck'].isnull().sum())"
   ]
  },
  {
   "cell_type": "code",
   "execution_count": 58,
   "metadata": {},
   "outputs": [
    {
     "name": "stdout",
     "output_type": "stream",
     "text": [
      "G    483\n",
      "D    201\n",
      "C    100\n",
      "B     47\n",
      "E     32\n",
      "A     15\n",
      "F     13\n",
      "Name: deck, dtype: int64\n"
     ]
    }
   ],
   "source": [
    "print(df_imputed['deck'].value_counts())"
   ]
  },
  {
   "cell_type": "code",
   "execution_count": 59,
   "metadata": {},
   "outputs": [
    {
     "name": "stdout",
     "output_type": "stream",
     "text": [
      "0\n"
     ]
    }
   ],
   "source": [
    "# Another way:\n",
    "from sklearn.ensemble import RandomForestClassifier\n",
    "from sklearn.model_selection import train_test_split\n",
    "from sklearn.preprocessing import LabelEncoder\n",
    "\n",
    "# Encode categorical features\n",
    "label_encoder = LabelEncoder()\n",
    "df_advanced['sex'] = label_encoder.fit_transform(df_advanced['sex'])\n",
    "df_advanced['embarked'] = label_encoder.fit_transform(df_advanced['embarked'])\n",
    "df_advanced['embark_town'] = label_encoder.fit_transform(df_advanced['embark_town'])\n",
    "\n",
    "# Prepare data for predictive modeling\n",
    "features = ['pclass', 'sex', 'age', 'sibsp', 'parch', 'fare', 'embarked', 'embark_town']\n",
    "titanic_known_deck = df_advanced[df_advanced['deck'].notnull()]\n",
    "titanic_unknown_deck = df_advanced[df_advanced['deck'].isnull()]\n",
    "\n",
    "X_known = titanic_known_deck[features]\n",
    "y_known = titanic_known_deck['deck']\n",
    "X_unknown = titanic_unknown_deck[features]\n",
    "\n",
    "# Encode target variable 'deck'\n",
    "y_known = label_encoder.fit_transform(y_known)\n",
    "\n",
    "# Train a RandomForestClassifier\n",
    "X_train, X_test, y_train, y_test = train_test_split(X_known, y_known, test_size=0.2, random_state=42)\n",
    "model = RandomForestClassifier(n_estimators=100, random_state=42)\n",
    "model.fit(X_train, y_train)\n",
    "\n",
    "# Predict missing 'deck' values\n",
    "deck_predictions = model.predict(X_unknown)\n",
    "df_advanced.loc[df_advanced['deck'].isnull(), 'deck'] = label_encoder.inverse_transform(deck_predictions)\n",
    "\n",
    "print(df_advanced['deck'].isnull().sum())"
   ]
  },
  {
   "cell_type": "code",
   "execution_count": 60,
   "metadata": {},
   "outputs": [
    {
     "name": "stdout",
     "output_type": "stream",
     "text": [
      "F    337\n",
      "E    193\n",
      "D    140\n",
      "C     76\n",
      "G     65\n",
      "B     59\n",
      "A     21\n",
      "Name: deck, dtype: int64\n"
     ]
    }
   ],
   "source": [
    "print(df_advanced['deck'].value_counts())"
   ]
  },
  {
   "cell_type": "code",
   "execution_count": 61,
   "metadata": {},
   "outputs": [
    {
     "name": "stdout",
     "output_type": "stream",
     "text": [
      "\n",
      "Missing values after imputation:\n",
      "survived       0\n",
      "pclass         0\n",
      "sex            0\n",
      "age            0\n",
      "sibsp          0\n",
      "parch          0\n",
      "fare           0\n",
      "embarked       0\n",
      "class          0\n",
      "who            0\n",
      "adult_male     0\n",
      "deck           0\n",
      "embark_town    0\n",
      "alive          0\n",
      "alone          0\n",
      "dtype: int64\n"
     ]
    }
   ],
   "source": [
    "print(\"\\nMissing values after imputation:\")\n",
    "print(df_advanced.isnull().sum())"
   ]
  },
  {
   "cell_type": "code",
   "execution_count": 62,
   "metadata": {},
   "outputs": [
    {
     "data": {
      "text/html": [
       "<div>\n",
       "<style scoped>\n",
       "    .dataframe tbody tr th:only-of-type {\n",
       "        vertical-align: middle;\n",
       "    }\n",
       "\n",
       "    .dataframe tbody tr th {\n",
       "        vertical-align: top;\n",
       "    }\n",
       "\n",
       "    .dataframe thead th {\n",
       "        text-align: right;\n",
       "    }\n",
       "</style>\n",
       "<table border=\"1\" class=\"dataframe\">\n",
       "  <thead>\n",
       "    <tr style=\"text-align: right;\">\n",
       "      <th></th>\n",
       "      <th>survived</th>\n",
       "      <th>pclass</th>\n",
       "      <th>sex</th>\n",
       "      <th>age</th>\n",
       "      <th>sibsp</th>\n",
       "      <th>parch</th>\n",
       "      <th>fare</th>\n",
       "      <th>embarked</th>\n",
       "      <th>class</th>\n",
       "      <th>who</th>\n",
       "      <th>adult_male</th>\n",
       "      <th>deck</th>\n",
       "      <th>embark_town</th>\n",
       "      <th>alive</th>\n",
       "      <th>alone</th>\n",
       "    </tr>\n",
       "  </thead>\n",
       "  <tbody>\n",
       "    <tr>\n",
       "      <th>0</th>\n",
       "      <td>0</td>\n",
       "      <td>3</td>\n",
       "      <td>1</td>\n",
       "      <td>22.0</td>\n",
       "      <td>1</td>\n",
       "      <td>0</td>\n",
       "      <td>7.2500</td>\n",
       "      <td>2</td>\n",
       "      <td>Third</td>\n",
       "      <td>man</td>\n",
       "      <td>True</td>\n",
       "      <td>F</td>\n",
       "      <td>2</td>\n",
       "      <td>no</td>\n",
       "      <td>False</td>\n",
       "    </tr>\n",
       "    <tr>\n",
       "      <th>1</th>\n",
       "      <td>1</td>\n",
       "      <td>1</td>\n",
       "      <td>0</td>\n",
       "      <td>38.0</td>\n",
       "      <td>1</td>\n",
       "      <td>0</td>\n",
       "      <td>71.2833</td>\n",
       "      <td>0</td>\n",
       "      <td>First</td>\n",
       "      <td>woman</td>\n",
       "      <td>False</td>\n",
       "      <td>C</td>\n",
       "      <td>0</td>\n",
       "      <td>yes</td>\n",
       "      <td>False</td>\n",
       "    </tr>\n",
       "    <tr>\n",
       "      <th>2</th>\n",
       "      <td>1</td>\n",
       "      <td>3</td>\n",
       "      <td>0</td>\n",
       "      <td>26.0</td>\n",
       "      <td>0</td>\n",
       "      <td>0</td>\n",
       "      <td>7.9250</td>\n",
       "      <td>2</td>\n",
       "      <td>Third</td>\n",
       "      <td>woman</td>\n",
       "      <td>False</td>\n",
       "      <td>E</td>\n",
       "      <td>2</td>\n",
       "      <td>yes</td>\n",
       "      <td>True</td>\n",
       "    </tr>\n",
       "    <tr>\n",
       "      <th>3</th>\n",
       "      <td>1</td>\n",
       "      <td>1</td>\n",
       "      <td>0</td>\n",
       "      <td>35.0</td>\n",
       "      <td>1</td>\n",
       "      <td>0</td>\n",
       "      <td>53.1000</td>\n",
       "      <td>2</td>\n",
       "      <td>First</td>\n",
       "      <td>woman</td>\n",
       "      <td>False</td>\n",
       "      <td>C</td>\n",
       "      <td>2</td>\n",
       "      <td>yes</td>\n",
       "      <td>False</td>\n",
       "    </tr>\n",
       "    <tr>\n",
       "      <th>4</th>\n",
       "      <td>0</td>\n",
       "      <td>3</td>\n",
       "      <td>1</td>\n",
       "      <td>35.0</td>\n",
       "      <td>0</td>\n",
       "      <td>0</td>\n",
       "      <td>8.0500</td>\n",
       "      <td>2</td>\n",
       "      <td>Third</td>\n",
       "      <td>man</td>\n",
       "      <td>True</td>\n",
       "      <td>E</td>\n",
       "      <td>2</td>\n",
       "      <td>no</td>\n",
       "      <td>True</td>\n",
       "    </tr>\n",
       "  </tbody>\n",
       "</table>\n",
       "</div>"
      ],
      "text/plain": [
       "   survived  pclass  sex   age  sibsp  parch     fare  embarked  class    who  \\\n",
       "0         0       3    1  22.0      1      0   7.2500         2  Third    man   \n",
       "1         1       1    0  38.0      1      0  71.2833         0  First  woman   \n",
       "2         1       3    0  26.0      0      0   7.9250         2  Third  woman   \n",
       "3         1       1    0  35.0      1      0  53.1000         2  First  woman   \n",
       "4         0       3    1  35.0      0      0   8.0500         2  Third    man   \n",
       "\n",
       "   adult_male deck  embark_town alive  alone  \n",
       "0        True    F            2    no  False  \n",
       "1       False    C            0   yes  False  \n",
       "2       False    E            2   yes   True  \n",
       "3       False    C            2   yes  False  \n",
       "4        True    E            2    no   True  "
      ]
     },
     "execution_count": 62,
     "metadata": {},
     "output_type": "execute_result"
    }
   ],
   "source": [
    "df_advanced.head()"
   ]
  },
  {
   "cell_type": "code",
   "execution_count": 73,
   "metadata": {},
   "outputs": [],
   "source": [
    "df = df_advanced.copy()"
   ]
  },
  {
   "cell_type": "markdown",
   "metadata": {},
   "source": [
    "##### **Q26: How do you encode categorical variables for use in a neural network?**"
   ]
  },
  {
   "cell_type": "code",
   "execution_count": 74,
   "metadata": {},
   "outputs": [
    {
     "name": "stdout",
     "output_type": "stream",
     "text": [
      "Categorical columns to be encoded: ['who', 'alive']\n",
      "Boolean columns to be converted: ['adult_male', 'alone']\n"
     ]
    }
   ],
   "source": [
    "# Use label and one-hot encoding\n",
    "from sklearn.preprocessing import LabelEncoder, OneHotEncoder\n",
    "\n",
    "# Identify categorical columns\n",
    "categorical_columns = df.select_dtypes(include=['object']).columns.tolist()\n",
    "boolean_columns = df.select_dtypes(include=['bool']).columns.tolist()\n",
    "print(f\"Categorical columns to be encoded: {categorical_columns}\")\n",
    "print(f\"Boolean columns to be converted: {boolean_columns}\")"
   ]
  },
  {
   "cell_type": "code",
   "execution_count": 75,
   "metadata": {},
   "outputs": [
    {
     "data": {
      "text/plain": [
       "survived          int64\n",
       "pclass            int64\n",
       "sex               int32\n",
       "age             float64\n",
       "sibsp             int64\n",
       "parch             int64\n",
       "fare            float64\n",
       "embarked          int32\n",
       "class          category\n",
       "who              object\n",
       "adult_male         bool\n",
       "deck           category\n",
       "embark_town       int32\n",
       "alive            object\n",
       "alone              bool\n",
       "dtype: object"
      ]
     },
     "execution_count": 75,
     "metadata": {},
     "output_type": "execute_result"
    }
   ],
   "source": [
    "df.dtypes"
   ]
  },
  {
   "cell_type": "code",
   "execution_count": 76,
   "metadata": {},
   "outputs": [],
   "source": [
    "# Convert boolean columns to integers\n",
    "for column in boolean_columns:\n",
    "    df[column] = df[column].astype(int)"
   ]
  },
  {
   "cell_type": "code",
   "execution_count": 77,
   "metadata": {},
   "outputs": [],
   "source": [
    "# Initialize LabelEncoder\n",
    "label_encoder = LabelEncoder()\n",
    "\n",
    "# Apply label encoding\n",
    "df['class'] = label_encoder.fit_transform(df['class'])\n",
    "df['deck'] = label_encoder.fit_transform(df['class'])"
   ]
  },
  {
   "cell_type": "code",
   "execution_count": 78,
   "metadata": {},
   "outputs": [
    {
     "name": "stdout",
     "output_type": "stream",
     "text": [
      "Encoded DataFrame:\n",
      "   survived  pclass  sex   age  sibsp  parch     fare  embarked  class  \\\n",
      "0         0       3    1  22.0      1      0   7.2500         2      2   \n",
      "1         1       1    0  38.0      1      0  71.2833         0      0   \n",
      "2         1       3    0  26.0      0      0   7.9250         2      2   \n",
      "3         1       1    0  35.0      1      0  53.1000         2      0   \n",
      "4         0       3    1  35.0      0      0   8.0500         2      2   \n",
      "\n",
      "   adult_male  deck  embark_town  alone  who_man  who_woman  alive_yes  \n",
      "0           1     2            2      0        1          0          0  \n",
      "1           0     0            0      0        0          1          1  \n",
      "2           0     2            2      1        0          1          1  \n",
      "3           0     0            2      0        0          1          1  \n",
      "4           1     2            2      1        1          0          0  \n"
     ]
    }
   ],
   "source": [
    "# Apply one-hot encoding\n",
    "df_encoded = pd.get_dummies(df, columns=categorical_columns, drop_first=True)\n",
    "\n",
    "# Display the encoded DataFrame\n",
    "print(\"Encoded DataFrame:\")\n",
    "print(df_encoded.head())"
   ]
  },
  {
   "cell_type": "code",
   "execution_count": 80,
   "metadata": {},
   "outputs": [
    {
     "data": {
      "text/plain": [
       "survived         int64\n",
       "pclass           int64\n",
       "sex              int32\n",
       "age            float64\n",
       "sibsp            int64\n",
       "parch            int64\n",
       "fare           float64\n",
       "embarked         int32\n",
       "class            int32\n",
       "adult_male       int32\n",
       "deck             int64\n",
       "embark_town      int32\n",
       "alone            int32\n",
       "who_man          uint8\n",
       "who_woman        uint8\n",
       "alive_yes        uint8\n",
       "dtype: object"
      ]
     },
     "execution_count": 80,
     "metadata": {},
     "output_type": "execute_result"
    }
   ],
   "source": [
    "df_encoded.dtypes"
   ]
  },
  {
   "cell_type": "markdown",
   "metadata": {},
   "source": [
    "##### **Q27: How do you split a real-world dataset into training, validation, and test sets?**"
   ]
  },
  {
   "cell_type": "code",
   "execution_count": 81,
   "metadata": {},
   "outputs": [
    {
     "name": "stdout",
     "output_type": "stream",
     "text": [
      "Data splitting complete.\n",
      "Training set size: 534\n",
      "Validation set size: 178\n",
      "Test set size: 179\n"
     ]
    }
   ],
   "source": [
    "from sklearn.preprocessing import StandardScaler\n",
    "\n",
    "# Define features and target variable\n",
    "features = df_encoded.drop(columns=['survived'])\n",
    "target = df_encoded['survived']\n",
    "\n",
    "# Split the data into training + validation and test sets\n",
    "X_train_val, X_test, y_train_val, y_test = train_test_split(features, target, test_size=0.2, random_state=42)\n",
    "\n",
    "# Further split the training + validation set into training and validation sets\n",
    "X_train, X_val, y_train, y_val = train_test_split(X_train_val, y_train_val, test_size=0.25, random_state=42)  # 0.25 * 0.8 = 0.2\n",
    "\n",
    "# Normalize numerical features\n",
    "scaler = StandardScaler()\n",
    "numerical_features = ['age', 'fare', 'sibsp', 'parch']\n",
    "X_train[numerical_features] = scaler.fit_transform(X_train[numerical_features])\n",
    "X_val[numerical_features] = scaler.transform(X_val[numerical_features])\n",
    "X_test[numerical_features] = scaler.transform(X_test[numerical_features])\n",
    "\n",
    "# Convert to PyTorch tensors\n",
    "X_train_tensor = torch.tensor(X_train.values, dtype=torch.float32)\n",
    "y_train_tensor = torch.tensor(y_train.values, dtype=torch.float32).view(-1, 1)\n",
    "X_val_tensor = torch.tensor(X_val.values, dtype=torch.float32)\n",
    "y_val_tensor = torch.tensor(y_val.values, dtype=torch.float32).view(-1, 1)\n",
    "X_test_tensor = torch.tensor(X_test.values, dtype=torch.float32)\n",
    "y_test_tensor = torch.tensor(y_test.values, dtype=torch.float32).view(-1, 1)\n",
    "\n",
    "# Create TensorDataset and DataLoader for each set\n",
    "train_dataset = TensorDataset(X_train_tensor, y_train_tensor)\n",
    "val_dataset = TensorDataset(X_val_tensor, y_val_tensor)\n",
    "test_dataset = TensorDataset(X_test_tensor, y_test_tensor)\n",
    "\n",
    "train_loader = DataLoader(train_dataset, batch_size=32, shuffle=True)\n",
    "val_loader = DataLoader(val_dataset, batch_size=32, shuffle=False)\n",
    "test_loader = DataLoader(test_dataset, batch_size=32, shuffle=False)\n",
    "\n",
    "print(\"Data splitting complete.\")\n",
    "print(f\"Training set size: {len(train_loader.dataset)}\")\n",
    "print(f\"Validation set size: {len(val_loader.dataset)}\")\n",
    "print(f\"Test set size: {len(test_loader.dataset)}\")"
   ]
  },
  {
   "cell_type": "markdown",
   "metadata": {},
   "source": [
    "##### **Q28: How do you train a neural network on a real-world dataset?**"
   ]
  },
  {
   "cell_type": "code",
   "execution_count": 83,
   "metadata": {},
   "outputs": [
    {
     "name": "stdout",
     "output_type": "stream",
     "text": [
      "Epoch [20/200], Train Loss: 0.0069, Validation Loss: 0.0048\n",
      "Epoch [40/200], Train Loss: 0.0010, Validation Loss: 0.0024\n",
      "Epoch [60/200], Train Loss: 0.0005, Validation Loss: 0.0004\n",
      "Epoch [80/200], Train Loss: 0.0002, Validation Loss: 0.0003\n",
      "Epoch [100/200], Train Loss: 0.0001, Validation Loss: 0.0001\n",
      "Epoch [120/200], Train Loss: 0.0001, Validation Loss: 0.0000\n",
      "Epoch [140/200], Train Loss: 0.0001, Validation Loss: 0.0000\n",
      "Epoch [160/200], Train Loss: 0.0000, Validation Loss: 0.0000\n",
      "Epoch [180/200], Train Loss: 0.0000, Validation Loss: 0.0000\n",
      "Epoch [200/200], Train Loss: 0.0001, Validation Loss: 0.0000\n"
     ]
    }
   ],
   "source": [
    "# Define a neural network\n",
    "class SimpleNet(nn.Module):\n",
    "    def __init__(self, input_size):\n",
    "        super(SimpleNet, self).__init__()\n",
    "        self.fc1 = nn.Linear(input_size, 128)\n",
    "        self.fc2 = nn.Linear(128, 64)\n",
    "        self.fc3 = nn.Linear(64, 1)\n",
    "        self.dropout = nn.Dropout(0.3)\n",
    "\n",
    "    def forward(self, x):\n",
    "        x = torch.relu(self.fc1(x))\n",
    "        x = self.dropout(x)\n",
    "        x = torch.relu(self.fc2(x))\n",
    "        x = self.dropout(x)\n",
    "        x = torch.sigmoid(self.fc3(x))\n",
    "        return x\n",
    "\n",
    "# Initialize the model, loss function, and optimizer\n",
    "input_size = X_train_tensor.shape[1]\n",
    "model = SimpleNet(input_size).to(device)\n",
    "loss_fn = nn.BCELoss()\n",
    "optimizer = optim.Adam(model.parameters(), lr=0.001)\n",
    "\n",
    "# Training loop\n",
    "num_epochs = 200\n",
    "# best_val_loss = float('inf')\n",
    "\n",
    "for epoch in range(num_epochs):\n",
    "    model.train()\n",
    "    running_loss = 0.0\n",
    "    for inputs, targets in train_loader:\n",
    "        inputs, targets = inputs.to(device), targets.to(device)\n",
    "        optimizer.zero_grad()\n",
    "        outputs = model(inputs)\n",
    "        loss = loss_fn(outputs, targets)\n",
    "        loss.backward()\n",
    "        optimizer.step()\n",
    "        running_loss += loss.item()\n",
    "\n",
    "    avg_train_loss = running_loss / len(train_loader)\n",
    "\n",
    "    model.eval()\n",
    "    val_loss = 0.0\n",
    "    with torch.no_grad():\n",
    "        for inputs, targets in val_loader:\n",
    "            inputs, targets = inputs.to(device), targets.to(device)\n",
    "            outputs = model(inputs)\n",
    "            loss = loss_fn(outputs, targets)\n",
    "            val_loss += loss.item()\n",
    "\n",
    "    avg_val_loss = val_loss / len(val_loader)\n",
    "\n",
    "    if (epoch + 1) % 20 == 0:\n",
    "        print(f'Epoch [{epoch + 1}/{num_epochs}], Train Loss: {avg_train_loss:.4f}, Validation Loss: {avg_val_loss:.4f}')"
   ]
  },
  {
   "cell_type": "code",
   "execution_count": 84,
   "metadata": {},
   "outputs": [
    {
     "name": "stdout",
     "output_type": "stream",
     "text": [
      "Test Loss: 0.0000\n"
     ]
    }
   ],
   "source": [
    "# Test the model\n",
    "model.eval()\n",
    "test_loss = 0.0\n",
    "with torch.no_grad():\n",
    "    for inputs, targets in test_loader:\n",
    "        inputs, targets = inputs.to(device), targets.to(device)\n",
    "        outputs = model(inputs)\n",
    "        loss = loss_fn(outputs, targets)\n",
    "        test_loss += loss.item()\n",
    "\n",
    "avg_test_loss = test_loss / len(test_loader)\n",
    "print(f\"Test Loss: {avg_test_loss:.4f}\")"
   ]
  },
  {
   "cell_type": "code",
   "execution_count": 85,
   "metadata": {},
   "outputs": [
    {
     "name": "stdout",
     "output_type": "stream",
     "text": [
      "Test Accuracy: 1.0000\n"
     ]
    }
   ],
   "source": [
    "# Calculate test accuracy\n",
    "correct = 0\n",
    "total = 0\n",
    "with torch.no_grad():\n",
    "    for inputs, targets in test_loader:\n",
    "        inputs, targets = inputs.to(device), targets.to(device)\n",
    "        outputs = model(inputs)\n",
    "        predicted = (outputs > 0.5).float()\n",
    "        total += targets.size(0)\n",
    "        correct += (predicted == targets).sum().item()\n",
    "\n",
    "accuracy = correct / total\n",
    "print(f\"Test Accuracy: {accuracy:.4f}\")"
   ]
  },
  {
   "cell_type": "markdown",
   "metadata": {},
   "source": [
    "## Conclusion\n",
    "\n",
    "This notebook provided a comprehensive overview of neural network basics, covering essential concepts such as neurons, layers, and activation functions. Key processes like forward propagation, loss function calculation, and backpropagation were explained in detail. \n",
    "\n",
    "Additionally, the notebook demonstrated how to build, train, and evaluate neural networks using PyTorch, including techniques for optimizing model performance and handling real-world data."
   ]
  },
  {
   "cell_type": "markdown",
   "metadata": {},
   "source": [
    "## Further exercises"
   ]
  },
  {
   "cell_type": "markdown",
   "metadata": {},
   "source": [
    "##### **Q29: How do you implement a neural network from scratch without using PyTorch's built-in functions?**"
   ]
  },
  {
   "cell_type": "code",
   "execution_count": 93,
   "metadata": {},
   "outputs": [],
   "source": [
    "# Sigmoid activation function\n",
    "def sigmoid(z):\n",
    "    return 1 / (1 + np.exp(-z))\n",
    "\n",
    "# Derivative of sigmoid function\n",
    "def sigmoid_derivative(z):\n",
    "    return sigmoid(z) * (1 - sigmoid(z))\n",
    "\n",
    "# Binary cross-entropy loss\n",
    "def binary_cross_entropy(y_true, y_pred):\n",
    "    m = y_true.shape[0]\n",
    "    return -np.sum(y_true * np.log(y_pred) + (1 - y_true) * np.log(1 - y_pred)) / m\n",
    "\n",
    "# Derivative of binary cross-entropy loss with respect to predictions\n",
    "def binary_cross_entropy_derivative(y_true, y_pred):\n",
    "    return y_pred - y_true"
   ]
  },
  {
   "cell_type": "code",
   "execution_count": 100,
   "metadata": {},
   "outputs": [],
   "source": [
    "# Initialize weights and biases\n",
    "def initialize_parameters(input_size, hidden_size, output_size):\n",
    "    np.random.seed(42)\n",
    "    W1 = np.random.randn(input_size, hidden_size) * 0.01\n",
    "    b1 = np.zeros((1, hidden_size))\n",
    "    W2 = np.random.randn(hidden_size, output_size) * 0.01\n",
    "    b2 = np.zeros((1, output_size))\n",
    "    return W1, b1, W2, b2\n",
    "\n",
    "# Forward pass\n",
    "def forward_pass(X, W1, b1, W2, b2):\n",
    "    Z1 = np.dot(X, W1) + b1\n",
    "    A1 = sigmoid(Z1)\n",
    "    Z2 = np.dot(A1, W2) + b2\n",
    "    A2 = sigmoid(Z2)\n",
    "    return Z1, A1, Z2, A2\n",
    "\n",
    "# Backward pass\n",
    "def backward_pass(X, y, Z1, A1, Z2, A2, W1, b1, W2, b2, learning_rate):\n",
    "    m = X.shape[0]\n",
    "    dZ2 = binary_cross_entropy_derivative(y, A2)\n",
    "    dW2 = np.dot(A1.T, dZ2) / m\n",
    "    db2 = np.sum(dZ2, axis=0, keepdims=True) / m\n",
    "    dA1 = np.dot(dZ2, W2.T)\n",
    "    dZ1 = dA1 * sigmoid_derivative(Z1)\n",
    "    dW1 = np.dot(X.T, dZ1) / m\n",
    "    db1 = np.sum(dZ1, axis=0, keepdims=True) / m\n",
    "\n",
    "    W1 -= learning_rate * dW1\n",
    "    b1 -= learning_rate * db1\n",
    "    W2 -= learning_rate * dW2\n",
    "    b2 -= learning_rate * db2\n",
    "\n",
    "    return W1, b1, W2, b2"
   ]
  },
  {
   "cell_type": "code",
   "execution_count": 101,
   "metadata": {},
   "outputs": [],
   "source": [
    "# Training loop\n",
    "def train(X, y, input_size, hidden_size, output_size, num_epochs, learning_rate):\n",
    "    W1, b1, W2, b2 = initialize_parameters(input_size, hidden_size, output_size)\n",
    "    for epoch in range(num_epochs):\n",
    "        Z1, A1, Z2, A2 = forward_pass(X, W1, b1, W2, b2)\n",
    "        loss = binary_cross_entropy(y, A2)\n",
    "        W1, b1, W2, b2 = backward_pass(X, y, Z1, A1, Z2, A2, W1, b1, W2, b2, learning_rate)\n",
    "        if (epoch + 1) % 100 == 0:\n",
    "            print(f\"Epoch {epoch+1}/{num_epochs}, Loss: {loss:.4f}\")\n",
    "    return W1, b1, W2, b2\n",
    "\n",
    "# Predict function\n",
    "def predict(X, W1, b1, W2, b2):\n",
    "    _, _, _, A2 = forward_pass(X, W1, b1, W2, b2)\n",
    "    return (A2 > 0.5).astype(int)"
   ]
  },
  {
   "cell_type": "code",
   "execution_count": 102,
   "metadata": {},
   "outputs": [],
   "source": [
    "# Preprocess the titanic dataset\n",
    "X_train, X_test, y_train, y_test = train_test_split(features, target, test_size=0.2, random_state=42)\n",
    "\n",
    "scaler = StandardScaler()\n",
    "numerical_features = ['age', 'fare', 'sibsp', 'parch']\n",
    "X_train[numerical_features] = scaler.fit_transform(X_train[numerical_features])\n",
    "X_test[numerical_features] = scaler.transform(X_test[numerical_features])\n",
    "\n",
    "X_train = X_train.values\n",
    "y_train = y_train.values.reshape(-1, 1)\n",
    "X_test = X_test.values\n",
    "y_test = y_test.values.reshape(-1, 1)"
   ]
  },
  {
   "cell_type": "code",
   "execution_count": 103,
   "metadata": {},
   "outputs": [
    {
     "data": {
      "text/plain": [
       "(712, 15)"
      ]
     },
     "execution_count": 103,
     "metadata": {},
     "output_type": "execute_result"
    }
   ],
   "source": [
    "X_train.shape"
   ]
  },
  {
   "cell_type": "code",
   "execution_count": 104,
   "metadata": {},
   "outputs": [
    {
     "data": {
      "text/plain": [
       "(179, 15)"
      ]
     },
     "execution_count": 104,
     "metadata": {},
     "output_type": "execute_result"
    }
   ],
   "source": [
    "X_test.shape"
   ]
  },
  {
   "cell_type": "code",
   "execution_count": 105,
   "metadata": {},
   "outputs": [
    {
     "name": "stdout",
     "output_type": "stream",
     "text": [
      "Epoch 100/1000, Loss: 0.6615\n",
      "Epoch 200/1000, Loss: 0.6611\n",
      "Epoch 300/1000, Loss: 0.6606\n",
      "Epoch 400/1000, Loss: 0.6600\n",
      "Epoch 500/1000, Loss: 0.6594\n",
      "Epoch 600/1000, Loss: 0.6587\n",
      "Epoch 700/1000, Loss: 0.6579\n",
      "Epoch 800/1000, Loss: 0.6569\n",
      "Epoch 900/1000, Loss: 0.6557\n",
      "Epoch 1000/1000, Loss: 0.6542\n"
     ]
    }
   ],
   "source": [
    "# Training parameters\n",
    "input_size = X_train.shape[1]\n",
    "hidden_size = 128\n",
    "output_size = 1\n",
    "num_epochs = 1000\n",
    "learning_rate = 0.01\n",
    "\n",
    "# Train the model\n",
    "W1, b1, W2, b2 = train(X_train, y_train, input_size, hidden_size, output_size, num_epochs, learning_rate)"
   ]
  },
  {
   "cell_type": "code",
   "execution_count": 106,
   "metadata": {},
   "outputs": [
    {
     "name": "stdout",
     "output_type": "stream",
     "text": [
      "Test Accuracy: 0.5866\n"
     ]
    }
   ],
   "source": [
    "# Test the model\n",
    "y_pred = predict(X_test, W1, b1, W2, b2)\n",
    "accuracy = np.mean(y_pred == y_test)\n",
    "print(f\"Test Accuracy: {accuracy:.4f}\")"
   ]
  },
  {
   "cell_type": "markdown",
   "metadata": {},
   "source": [
    "##### **Q30: How do you experiment with different neural network architectures to see their impact on performance?**"
   ]
  },
  {
   "cell_type": "code",
   "execution_count": 107,
   "metadata": {},
   "outputs": [],
   "source": [
    "# Create an artificial dataset\n",
    "from sklearn.datasets import make_classification\n",
    "\n",
    "X, y = make_classification(n_samples=10000, n_features=20, n_classes=2, n_informative=15, random_state=42)\n",
    "X_train, X_test, y_train, y_test = train_test_split(X, y, test_size=0.2, random_state=42)\n",
    "\n",
    "scaler = StandardScaler()\n",
    "X_train = scaler.fit_transform(X_train)\n",
    "X_test = scaler.transform(X_test)\n",
    "\n",
    "X_train_tensor = torch.tensor(X_train, dtype=torch.float32)\n",
    "y_train_tensor = torch.tensor(y_train, dtype=torch.float32).view(-1, 1)\n",
    "X_test_tensor = torch.tensor(X_test, dtype=torch.float32)\n",
    "y_test_tensor = torch.tensor(y_test, dtype=torch.float32).view(-1, 1)\n",
    "\n",
    "train_dataset = TensorDataset(X_train_tensor, y_train_tensor)\n",
    "test_dataset = TensorDataset(X_test_tensor, y_test_tensor)\n",
    "\n",
    "train_loader = DataLoader(train_dataset, batch_size=32, shuffle=True)\n",
    "test_loader = DataLoader(test_dataset, batch_size=32, shuffle=False)"
   ]
  },
  {
   "cell_type": "code",
   "execution_count": 108,
   "metadata": {},
   "outputs": [],
   "source": [
    "# Define a simple neural network\n",
    "class SimpleNet(nn.Module):\n",
    "    def __init__(self, input_size):\n",
    "        super(SimpleNet, self).__init__()\n",
    "        self.fc1 = nn.Linear(input_size, 64)\n",
    "        self.fc2 = nn.Linear(64, 1)\n",
    "\n",
    "    def forward(self, x):\n",
    "        x = torch.relu(self.fc1(x))\n",
    "        x = torch.sigmoid(self.fc2(x))\n",
    "        return x\n",
    "\n",
    "# Define a deeper neural network\n",
    "class DeepNet(nn.Module):\n",
    "    def __init__(self, input_size):\n",
    "        super(DeepNet, self).__init__()\n",
    "        self.fc1 = nn.Linear(input_size, 128)\n",
    "        self.fc2 = nn.Linear(128, 64)\n",
    "        self.fc3 = nn.Linear(64, 32)\n",
    "        self.fc4 = nn.Linear(32, 1)\n",
    "\n",
    "    def forward(self, x):\n",
    "        x = torch.relu(self.fc1(x))\n",
    "        x = torch.relu(self.fc2(x))\n",
    "        x = torch.relu(self.fc3(x))\n",
    "        x = torch.sigmoid(self.fc4(x))\n",
    "        return x\n",
    "\n",
    "# Define a wider neural network\n",
    "class WideNet(nn.Module):\n",
    "    def __init__(self, input_size):\n",
    "        super(WideNet, self).__init__()\n",
    "        self.fc1 = nn.Linear(input_size, 256)\n",
    "        self.fc2 = nn.Linear(256, 128)\n",
    "        self.fc3 = nn.Linear(128, 1)\n",
    "\n",
    "    def forward(self, x):\n",
    "        x = torch.relu(self.fc1(x))\n",
    "        x = torch.relu(self.fc2(x))\n",
    "        x = torch.sigmoid(self.fc3(x))\n",
    "        return x"
   ]
  },
  {
   "cell_type": "code",
   "execution_count": 109,
   "metadata": {},
   "outputs": [
    {
     "name": "stdout",
     "output_type": "stream",
     "text": [
      "\n",
      "Training SimpleNet:\n",
      "Test Accuracy: 0.9710\n",
      "\n",
      "Training DeepNet:\n",
      "Test Accuracy: 0.9695\n",
      "\n",
      "Training WideNet:\n",
      "Test Accuracy: 0.9680\n"
     ]
    }
   ],
   "source": [
    "# Train and evaluate each architecture\n",
    "def train_and_evaluate(model, train_loader, test_loader, num_epochs=20, learning_rate=0.001):\n",
    "    device = torch.device(\"cuda\" if torch.cuda.is_available() else \"cpu\")\n",
    "    model = model.to(device)\n",
    "    loss_fn = nn.BCELoss()\n",
    "    optimizer = torch.optim.Adam(model.parameters(), lr=learning_rate)\n",
    "    \n",
    "    for epoch in range(num_epochs):\n",
    "        model.train()\n",
    "        running_loss = 0.0\n",
    "        for inputs, targets in train_loader:\n",
    "            inputs, targets = inputs.to(device), targets.to(device)\n",
    "            optimizer.zero_grad()\n",
    "            outputs = model(inputs)\n",
    "            loss = loss_fn(outputs, targets)\n",
    "            loss.backward()\n",
    "            optimizer.step()\n",
    "            running_loss += loss.item()\n",
    "        \n",
    "        avg_train_loss = running_loss / len(train_loader)\n",
    "        # print(f\"Epoch {epoch+1}/{num_epochs}, Train Loss: {avg_train_loss:.4f}\")\n",
    "    \n",
    "    model.eval()\n",
    "    correct = 0\n",
    "    total = 0\n",
    "    with torch.no_grad():\n",
    "        for inputs, targets in test_loader:\n",
    "            inputs, targets = inputs.to(device), targets.to(device)\n",
    "            outputs = model(inputs)\n",
    "            predicted = (outputs > 0.5).float()\n",
    "            total += targets.size(0)\n",
    "            correct += (predicted == targets).sum().item()\n",
    "    \n",
    "    accuracy = correct / total\n",
    "    print(f\"Test Accuracy: {accuracy:.4f}\")\n",
    "    return accuracy\n",
    "\n",
    "# Input size is the number of features\n",
    "input_size = X_train.shape[1]\n",
    "\n",
    "# Initialize and train each model\n",
    "simple_net = SimpleNet(input_size)\n",
    "deep_net = DeepNet(input_size)\n",
    "wide_net = WideNet(input_size)\n",
    "\n",
    "print(\"\\nTraining SimpleNet:\")\n",
    "simple_net_accuracy = train_and_evaluate(simple_net, train_loader, test_loader)\n",
    "\n",
    "print(\"\\nTraining DeepNet:\")\n",
    "deep_net_accuracy = train_and_evaluate(deep_net, train_loader, test_loader)\n",
    "\n",
    "print(\"\\nTraining WideNet:\")\n",
    "wide_net_accuracy = train_and_evaluate(wide_net, train_loader, test_loader)"
   ]
  },
  {
   "cell_type": "code",
   "execution_count": 110,
   "metadata": {},
   "outputs": [
    {
     "name": "stdout",
     "output_type": "stream",
     "text": [
      "\n",
      "SimpleNet Test Accuracy: 0.9710\n",
      "DeepNet Test Accuracy: 0.9695\n",
      "WideNet Test Accuracy: 0.9680\n"
     ]
    }
   ],
   "source": [
    "# Compare the performance\n",
    "print(f\"\\nSimpleNet Test Accuracy: {simple_net_accuracy:.4f}\")\n",
    "print(f\"DeepNet Test Accuracy: {deep_net_accuracy:.4f}\")\n",
    "print(f\"WideNet Test Accuracy: {wide_net_accuracy:.4f}\")"
   ]
  },
  {
   "cell_type": "markdown",
   "metadata": {},
   "source": [
    "##### **Q31: How do you apply a neural network to a new dataset and evaluate its performance?**"
   ]
  },
  {
   "cell_type": "code",
   "execution_count": 111,
   "metadata": {},
   "outputs": [],
   "source": [
    "# Prepare a new dataset\n",
    "X_new, y_new = make_classification(n_samples=20000, n_features=40, n_classes=2, n_informative=15, random_state=42)\n",
    "X_new_train, X_new_test, y_new_train, y_new_test = train_test_split(X_new, y_new, test_size=0.2, random_state=42)\n",
    "\n",
    "scaler = StandardScaler()\n",
    "X_new_train = scaler.fit_transform(X_new_train)\n",
    "X_new_test = scaler.transform(X_new_test)\n",
    "\n",
    "X_new_train_tensor = torch.tensor(X_new_train, dtype=torch.float32)\n",
    "y_new_train_tensor = torch.tensor(y_new_train, dtype=torch.float32).view(-1, 1)\n",
    "X_new_test_tensor = torch.tensor(X_new_test, dtype=torch.float32)\n",
    "y_new_test_tensor = torch.tensor(y_new_test, dtype=torch.float32).view(-1, 1)\n",
    "\n",
    "new_train_dataset = TensorDataset(X_new_train_tensor, y_new_train_tensor)\n",
    "new_test_dataset = TensorDataset(X_new_test_tensor, y_new_test_tensor)\n",
    "\n",
    "new_train_loader = DataLoader(new_train_dataset, batch_size=32, shuffle=True)\n",
    "new_test_loader = DataLoader(new_test_dataset, batch_size=32, shuffle=False)"
   ]
  },
  {
   "cell_type": "code",
   "execution_count": 112,
   "metadata": {},
   "outputs": [],
   "source": [
    "# Define a simple neural network\n",
    "class SimpleNet(nn.Module):\n",
    "    def __init__(self, input_size):\n",
    "        super(SimpleNet, self).__init__()\n",
    "        self.fc1 = nn.Linear(input_size, 64)\n",
    "        self.fc2 = nn.Linear(64, 1)\n",
    "\n",
    "    def forward(self, x):\n",
    "        x = torch.relu(self.fc1(x))\n",
    "        x = torch.sigmoid(self.fc2(x))\n",
    "        return x\n",
    "\n",
    "# Initialize the model\n",
    "input_size = X_new_train.shape[1]\n",
    "new_model = SimpleNet(input_size).to(torch.device(\"cuda\" if torch.cuda.is_available() else \"cpu\"))"
   ]
  },
  {
   "cell_type": "code",
   "execution_count": 113,
   "metadata": {},
   "outputs": [
    {
     "name": "stdout",
     "output_type": "stream",
     "text": [
      "Epoch 1/20, Train Loss: 0.3490\n",
      "Epoch 2/20, Train Loss: 0.1665\n",
      "Epoch 3/20, Train Loss: 0.1271\n",
      "Epoch 4/20, Train Loss: 0.1093\n",
      "Epoch 5/20, Train Loss: 0.0996\n",
      "Epoch 6/20, Train Loss: 0.0925\n",
      "Epoch 7/20, Train Loss: 0.0872\n",
      "Epoch 8/20, Train Loss: 0.0830\n",
      "Epoch 9/20, Train Loss: 0.0793\n",
      "Epoch 10/20, Train Loss: 0.0768\n",
      "Epoch 11/20, Train Loss: 0.0739\n",
      "Epoch 12/20, Train Loss: 0.0715\n",
      "Epoch 13/20, Train Loss: 0.0694\n",
      "Epoch 14/20, Train Loss: 0.0673\n",
      "Epoch 15/20, Train Loss: 0.0659\n",
      "Epoch 16/20, Train Loss: 0.0633\n",
      "Epoch 17/20, Train Loss: 0.0615\n",
      "Epoch 18/20, Train Loss: 0.0605\n",
      "Epoch 19/20, Train Loss: 0.0590\n",
      "Epoch 20/20, Train Loss: 0.0579\n"
     ]
    }
   ],
   "source": [
    "# Train the model on the new dataset\n",
    "def train_model(model, train_loader, num_epochs=20, learning_rate=0.001):\n",
    "    device = torch.device(\"cuda\" if torch.cuda.is_available() else \"cpu\")\n",
    "    model = model.to(device)\n",
    "    loss_fn = nn.BCELoss()\n",
    "    optimizer = torch.optim.Adam(model.parameters(), lr=learning_rate)\n",
    "    \n",
    "    for epoch in range(num_epochs):\n",
    "        model.train()\n",
    "        running_loss = 0.0\n",
    "        for inputs, targets in train_loader:\n",
    "            inputs, targets = inputs.to(device), targets.to(device)\n",
    "            optimizer.zero_grad()\n",
    "            outputs = model(inputs)\n",
    "            loss = loss_fn(outputs, targets)\n",
    "            loss.backward()\n",
    "            optimizer.step()\n",
    "            running_loss += loss.item()\n",
    "        \n",
    "        avg_train_loss = running_loss / len(train_loader)\n",
    "        print(f\"Epoch {epoch+1}/{num_epochs}, Train Loss: {avg_train_loss:.4f}\")\n",
    "\n",
    "train_model(new_model, new_train_loader)"
   ]
  },
  {
   "cell_type": "code",
   "execution_count": 114,
   "metadata": {},
   "outputs": [
    {
     "name": "stdout",
     "output_type": "stream",
     "text": [
      "Test Loss: 0.0872\n",
      "Test Accuracy: 0.9740\n"
     ]
    },
    {
     "data": {
      "text/plain": [
       "(0.08719914070889354, 0.974)"
      ]
     },
     "execution_count": 114,
     "metadata": {},
     "output_type": "execute_result"
    }
   ],
   "source": [
    "# Evaluate the model on the new test set\n",
    "def evaluate_model(model, test_loader):\n",
    "    device = torch.device(\"cuda\" if torch.cuda.is_available() else \"cpu\")\n",
    "    model = model.to(device)\n",
    "    model.eval()\n",
    "    test_loss = 0.0\n",
    "    correct = 0\n",
    "    total = 0\n",
    "    loss_fn = nn.BCELoss()\n",
    "    with torch.no_grad():\n",
    "        for inputs, targets in test_loader:\n",
    "            inputs, targets = inputs.to(device), targets.to(device)\n",
    "            outputs = model(inputs)\n",
    "            loss = loss_fn(outputs, targets)\n",
    "            test_loss += loss.item()\n",
    "            predicted = (outputs > 0.5).float()\n",
    "            total += targets.size(0)\n",
    "            correct += (predicted == targets).sum().item()\n",
    "    \n",
    "    avg_test_loss = test_loss / len(test_loader)\n",
    "    accuracy = correct / total\n",
    "    print(f\"Test Loss: {avg_test_loss:.4f}\")\n",
    "    print(f\"Test Accuracy: {accuracy:.4f}\")\n",
    "    return avg_test_loss, accuracy\n",
    "\n",
    "evaluate_model(new_model, new_test_loader)"
   ]
  },
  {
   "cell_type": "markdown",
   "metadata": {},
   "source": [
    "##### **Q32: How do you improve neural network performance with advanced techniques like dropout or batch normalization?**"
   ]
  },
  {
   "cell_type": "code",
   "execution_count": 115,
   "metadata": {},
   "outputs": [],
   "source": [
    "# Using the same dataset as in the previous question/answer:\n",
    "\n",
    "# Define a neural network with dropout and batch normalization\n",
    "class ImprovedNet(nn.Module):\n",
    "    def __init__(self, input_size):\n",
    "        super(ImprovedNet, self).__init__()\n",
    "        self.fc1 = nn.Linear(input_size, 128)\n",
    "        self.bn1 = nn.BatchNorm1d(128)\n",
    "        self.dropout1 = nn.Dropout(0.3)\n",
    "        \n",
    "        self.fc2 = nn.Linear(128, 64)\n",
    "        self.bn2 = nn.BatchNorm1d(64)\n",
    "        self.dropout2 = nn.Dropout(0.3)\n",
    "        \n",
    "        self.fc3 = nn.Linear(64, 1)\n",
    "    \n",
    "    def forward(self, x):\n",
    "        x = torch.relu(self.bn1(self.fc1(x)))\n",
    "        x = self.dropout1(x)\n",
    "        x = torch.relu(self.bn2(self.fc2(x)))\n",
    "        x = self.dropout2(x)\n",
    "        x = torch.sigmoid(self.fc3(x))\n",
    "        return x\n",
    "\n",
    "# Initialize the model\n",
    "input_size = X_new_train.shape[1]\n",
    "improved_model = ImprovedNet(input_size).to(torch.device(\"cuda\" if torch.cuda.is_available() else \"cpu\"))"
   ]
  },
  {
   "cell_type": "code",
   "execution_count": 117,
   "metadata": {},
   "outputs": [
    {
     "name": "stdout",
     "output_type": "stream",
     "text": [
      "Epoch [100/1000], Train Loss: 0.0593\n",
      "Epoch [200/1000], Train Loss: 0.0678\n",
      "Epoch [300/1000], Train Loss: 0.0588\n",
      "Epoch [400/1000], Train Loss: 0.0524\n",
      "Epoch [500/1000], Train Loss: 0.0660\n",
      "Epoch [600/1000], Train Loss: 0.0583\n",
      "Epoch [700/1000], Train Loss: 0.0496\n",
      "Epoch [800/1000], Train Loss: 0.0488\n",
      "Epoch [900/1000], Train Loss: 0.0474\n",
      "Epoch [1000/1000], Train Loss: 0.0587\n"
     ]
    }
   ],
   "source": [
    "# Training\n",
    "def train_model(model, train_loader, num_epochs=20, learning_rate=0.001):\n",
    "    device = torch.device(\"cuda\" if torch.cuda.is_available() else \"cpu\")\n",
    "    model = model.to(device)\n",
    "    loss_fn = nn.BCELoss()\n",
    "    optimizer = torch.optim.Adam(model.parameters(), lr=learning_rate)\n",
    "    \n",
    "    for epoch in range(num_epochs):\n",
    "        model.train()\n",
    "        running_loss = 0.0\n",
    "        for inputs, targets in train_loader:\n",
    "            inputs, targets = inputs.to(device), targets.to(device)\n",
    "            optimizer.zero_grad()\n",
    "            outputs = model(inputs)\n",
    "            loss = loss_fn(outputs, targets)\n",
    "            loss.backward()\n",
    "            optimizer.step()\n",
    "            running_loss += loss.item()\n",
    "        \n",
    "        avg_train_loss = running_loss / len(train_loader)\n",
    "        if (epoch + 1) % 100 == 0:\n",
    "            print(f\"Epoch [{epoch+1}/{num_epochs}], Train Loss: {avg_train_loss:.4f}\")\n",
    "\n",
    "train_model(improved_model, new_train_loader, 1000)"
   ]
  },
  {
   "cell_type": "code",
   "execution_count": null,
   "metadata": {},
   "outputs": [],
   "source": [
    "# Evaluating\n",
    "def evaluate_model(model, test_loader):\n",
    "    device = torch.device(\"cuda\" if torch.cuda.is_available() else \"cpu\")\n",
    "    model = model.to(device)\n",
    "    model.eval()\n",
    "    test_loss = 0.0\n",
    "    correct = 0\n",
    "    total = 0\n",
    "    loss_fn = nn.BCELoss()\n",
    "    with torch.no_grad():\n",
    "        for inputs, targets in test_loader:\n",
    "            inputs, targets = inputs.to(device), targets.to(device)\n",
    "            outputs = model(inputs)\n",
    "            loss = loss_fn(outputs, targets)\n",
    "            test_loss += loss.item()\n",
    "            predicted = (outputs > 0.5).float()\n",
    "            total += targets.size(0)\n",
    "            correct += (predicted == targets).sum().item()\n",
    "    \n",
    "    avg_test_loss = test_loss / len(test_loader)\n",
    "    accuracy = correct / total\n",
    "    print(f\"Test Loss: {avg_test_loss:.4f}\")\n",
    "    print(f\"Test Accuracy: {accuracy:.4f}\")\n",
    "    return avg_test_loss, accuracy\n",
    "\n",
    "evaluate_model(improved_model, new_test_loader)"
   ]
  },
  {
   "cell_type": "markdown",
   "metadata": {},
   "source": [
    "##### **Q33: How do you interpret and visualize the decisions made by a neural network?**"
   ]
  }
 ],
 "metadata": {
  "kernelspec": {
   "display_name": "Python 3",
   "language": "python",
   "name": "python3"
  },
  "language_info": {
   "codemirror_mode": {
    "name": "ipython",
    "version": 3
   },
   "file_extension": ".py",
   "mimetype": "text/x-python",
   "name": "python",
   "nbconvert_exporter": "python",
   "pygments_lexer": "ipython3",
   "version": "3.11.2"
  }
 },
 "nbformat": 4,
 "nbformat_minor": 2
}
